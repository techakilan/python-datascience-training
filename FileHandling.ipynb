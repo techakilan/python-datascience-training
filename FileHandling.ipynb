{
  "nbformat": 4,
  "nbformat_minor": 0,
  "metadata": {
    "colab": {
      "name": "FileHandling.ipynb",
      "provenance": [],
      "collapsed_sections": [],
      "include_colab_link": true
    },
    "kernelspec": {
      "name": "python3",
      "display_name": "Python 3"
    },
    "language_info": {
      "name": "python"
    }
  },
  "cells": [
    {
      "cell_type": "markdown",
      "metadata": {
        "id": "view-in-github",
        "colab_type": "text"
      },
      "source": [
        "<a href=\"https://colab.research.google.com/github/techakilan/python-datascience-training/blob/master/FileHandling.ipynb\" target=\"_parent\"><img src=\"https://colab.research.google.com/assets/colab-badge.svg\" alt=\"Open In Colab\"/></a>"
      ]
    },
    {
      "cell_type": "markdown",
      "metadata": {
        "id": "I2GA4d1ehUVa"
      },
      "source": [
        "## Open function\n",
        "\n",
        "The open() function opens the file (if possible) and returns the corresponding file object.\n",
        "\n",
        "The open() function takes two parameters; filename, and mode.\n",
        "\n",
        "Important modes are,\n",
        "\n",
        "\"r\" - Read - Default value. Opens a file for reading, error if the file does not exist\n",
        "\n",
        "\"a\" - Append - Opens a file for appending, creates the file if it does not exist\n",
        "\n",
        "\"w\" - Write - Opens a file for writing, creates the file if it does not exist\n",
        "\n",
        "\"x\" - Create - Creates the specified file, returns an error if the file exists\n",
        "\n",
        "\"t\" - Text - Default value. Text mode\n",
        "\n",
        "\"b\" - Binary - Binary mode (e.g. images)"
      ]
    },
    {
      "cell_type": "markdown",
      "metadata": {
        "id": "XhziVjcvg8X0"
      },
      "source": [
        "## Create File - mode x creates a file, returns error if the file with the same name already exists\n",
        "\n",
        "opening file with mode \"w\", or write mode also creates a file. This will be covered later.\n",
        "\n",
        "opening file with mode \"a\", or append mode also creates a file. This will be covered later.\n",
        "\n"
      ]
    },
    {
      "cell_type": "code",
      "metadata": {
        "id": "oMpk-VGXCL_j"
      },
      "source": [
        "# Filename\n",
        "fname = \"demo.txt\""
      ],
      "execution_count": 104,
      "outputs": []
    },
    {
      "cell_type": "code",
      "metadata": {
        "colab": {
          "base_uri": "https://localhost:8080/"
        },
        "id": "8s-ixY_2hLkS",
        "outputId": "f4f008d8-135a-42b7-b7c7-26a662aeff7b"
      },
      "source": [
        "# Create file\n",
        "create_file_handler = open(fname, \"x\")\n",
        "print(create_file_handler)"
      ],
      "execution_count": 105,
      "outputs": [
        {
          "output_type": "stream",
          "name": "stdout",
          "text": [
            "<_io.TextIOWrapper name='demo.txt' mode='x' encoding='UTF-8'>\n"
          ]
        }
      ]
    },
    {
      "cell_type": "code",
      "metadata": {
        "colab": {
          "base_uri": "https://localhost:8080/",
          "height": 185
        },
        "id": "NuLumO1SlyYN",
        "outputId": "7f8016d6-2739-488a-8d34-2069e8172eb4"
      },
      "source": [
        "repeat_create_file_handler = open(fname, \"x\")\n",
        "print(repeat_create_file_handler)"
      ],
      "execution_count": 106,
      "outputs": [
        {
          "output_type": "error",
          "ename": "FileExistsError",
          "evalue": "ignored",
          "traceback": [
            "\u001b[0;31m---------------------------------------------------------------------------\u001b[0m",
            "\u001b[0;31mFileExistsError\u001b[0m                           Traceback (most recent call last)",
            "\u001b[0;32m<ipython-input-106-412c7257a572>\u001b[0m in \u001b[0;36m<module>\u001b[0;34m()\u001b[0m\n\u001b[0;32m----> 1\u001b[0;31m \u001b[0mrepeat_create_file_handler\u001b[0m \u001b[0;34m=\u001b[0m \u001b[0mopen\u001b[0m\u001b[0;34m(\u001b[0m\u001b[0mfname\u001b[0m\u001b[0;34m,\u001b[0m \u001b[0;34m\"x\"\u001b[0m\u001b[0;34m)\u001b[0m\u001b[0;34m\u001b[0m\u001b[0;34m\u001b[0m\u001b[0m\n\u001b[0m\u001b[1;32m      2\u001b[0m \u001b[0mprint\u001b[0m\u001b[0;34m(\u001b[0m\u001b[0mrepeat_create_file_handler\u001b[0m\u001b[0;34m)\u001b[0m\u001b[0;34m\u001b[0m\u001b[0;34m\u001b[0m\u001b[0m\n",
            "\u001b[0;31mFileExistsError\u001b[0m: [Errno 17] File exists: 'demo.txt'"
          ]
        }
      ]
    },
    {
      "cell_type": "markdown",
      "metadata": {
        "id": "dMLO8jMhm5xb"
      },
      "source": [
        "## Check if file exists"
      ]
    },
    {
      "cell_type": "code",
      "metadata": {
        "colab": {
          "base_uri": "https://localhost:8080/"
        },
        "id": "S-qAWR0Bm5II",
        "outputId": "3c39839e-1736-407e-abb1-773d6ed31504"
      },
      "source": [
        "import os\n",
        "if os.path.exists(fname):\n",
        "  print(\"File exists\")\n",
        "else:\n",
        "  print(\"File does not exist\")"
      ],
      "execution_count": 107,
      "outputs": [
        {
          "output_type": "stream",
          "name": "stdout",
          "text": [
            "File exists\n"
          ]
        }
      ]
    },
    {
      "cell_type": "code",
      "metadata": {
        "id": "OJPPt2hir3gE"
      },
      "source": [
        "# create custom_file_exits() function\n",
        "\n",
        "def custom_file_exists(fname):\n",
        "  import os\n",
        "  if os.path.exists(fname):\n",
        "    print(\"File exists\")\n",
        "  else:\n",
        "    print(\"File does not exist\")"
      ],
      "execution_count": 108,
      "outputs": []
    },
    {
      "cell_type": "code",
      "metadata": {
        "id": "kR3h6-ruCGLO",
        "outputId": "419aeeb2-ea16-4af6-af0f-c66bca5f4a1f",
        "colab": {
          "base_uri": "https://localhost:8080/"
        }
      },
      "source": [
        "custom_file_exits(fname)"
      ],
      "execution_count": 109,
      "outputs": [
        {
          "output_type": "stream",
          "name": "stdout",
          "text": [
            "File exists\n"
          ]
        }
      ]
    },
    {
      "cell_type": "markdown",
      "metadata": {
        "id": "X7k70kngo7f2"
      },
      "source": [
        "## Custom Create function"
      ]
    },
    {
      "cell_type": "code",
      "metadata": {
        "id": "gUqGHOFIo_Nu"
      },
      "source": [
        "def custom_create_x(fname):\n",
        "  import os\n",
        "  if os.path.exists(fname):\n",
        "    print (\"File already exists\")\n",
        "    return None  \n",
        "  else:\n",
        "    print(\"File created successfully\")\n",
        "    return open(fname, \"x\")\n"
      ],
      "execution_count": 110,
      "outputs": []
    },
    {
      "cell_type": "code",
      "metadata": {
        "colab": {
          "base_uri": "https://localhost:8080/"
        },
        "id": "UHr-XXNds3P1",
        "outputId": "6716956f-0177-4064-e2df-993bad39dec8"
      },
      "source": [
        "custom_file_exits(fname)"
      ],
      "execution_count": 111,
      "outputs": [
        {
          "output_type": "stream",
          "name": "stdout",
          "text": [
            "File exists\n"
          ]
        }
      ]
    },
    {
      "cell_type": "code",
      "metadata": {
        "colab": {
          "base_uri": "https://localhost:8080/"
        },
        "id": "14BUfcfTpjJ7",
        "outputId": "4b1bb028-4550-4adc-e565-349a8e459c20"
      },
      "source": [
        "custom_create_x(fname)\n"
      ],
      "execution_count": 112,
      "outputs": [
        {
          "output_type": "stream",
          "name": "stdout",
          "text": [
            "File already exists\n"
          ]
        }
      ]
    },
    {
      "cell_type": "markdown",
      "metadata": {
        "id": "7vpWGNyFmJeB"
      },
      "source": [
        "## Delete file - causes error if the file does not exist"
      ]
    },
    {
      "cell_type": "markdown",
      "metadata": {
        "id": "tyEJwxugl-UD"
      },
      "source": [
        ""
      ]
    },
    {
      "cell_type": "code",
      "metadata": {
        "id": "fKVsAC8bmY05"
      },
      "source": [
        "import os\n",
        "os.remove(fname)"
      ],
      "execution_count": null,
      "outputs": []
    },
    {
      "cell_type": "code",
      "metadata": {
        "id": "K0exmP8kDLK0"
      },
      "source": [
        "custom_file_exits(fname)"
      ],
      "execution_count": null,
      "outputs": []
    },
    {
      "cell_type": "code",
      "metadata": {
        "id": "1q0LmMCvmdE5"
      },
      "source": [
        "#Try to remove again\n",
        "import os\n",
        "os.remove(fname)"
      ],
      "execution_count": null,
      "outputs": []
    },
    {
      "cell_type": "markdown",
      "metadata": {
        "id": "b9ouyxJwrDzk"
      },
      "source": [
        "## Custom delete function"
      ]
    },
    {
      "cell_type": "code",
      "metadata": {
        "id": "6NwDevy4rCDR"
      },
      "source": [
        "def custom_delete(fname):\n",
        "  import os\n",
        "  if os.path.exists(fname):\n",
        "    os.remove(fname)\n",
        "    print (\"File deleted\")\n",
        "  else:\n",
        "    print(\"File does not exist\")\n"
      ],
      "execution_count": null,
      "outputs": []
    },
    {
      "cell_type": "code",
      "metadata": {
        "id": "CMnaRlxNsaSZ"
      },
      "source": [
        "custom_file_exits(fname)"
      ],
      "execution_count": null,
      "outputs": []
    },
    {
      "cell_type": "code",
      "metadata": {
        "id": "XFUWRz_Qrk-p"
      },
      "source": [
        "custom_delete(fname)"
      ],
      "execution_count": null,
      "outputs": []
    },
    {
      "cell_type": "code",
      "metadata": {
        "id": "hX3hRms3rqMv"
      },
      "source": [
        "custom_create_x(fname)"
      ],
      "execution_count": null,
      "outputs": []
    },
    {
      "cell_type": "code",
      "metadata": {
        "id": "6Qua2E6usuHO"
      },
      "source": [
        "custom_delete(fname)"
      ],
      "execution_count": null,
      "outputs": []
    },
    {
      "cell_type": "markdown",
      "metadata": {
        "id": "u2HttyZzuBa1"
      },
      "source": [
        "## Write into a file - w mode . Overwrites if there are any existing content int the file"
      ]
    },
    {
      "cell_type": "code",
      "metadata": {
        "id": "6xzGSEa0uAxN"
      },
      "source": [
        "custom_create_x(fname)\n",
        "\n",
        "my_write_handler=open(fname,\"w\")\n",
        "my_write_handler.write(\"Cats rule the world\")\n"
      ],
      "execution_count": null,
      "outputs": []
    },
    {
      "cell_type": "code",
      "metadata": {
        "id": "vgqeTjgPvSND"
      },
      "source": [
        "my_write_handler.close()"
      ],
      "execution_count": null,
      "outputs": []
    },
    {
      "cell_type": "markdown",
      "metadata": {
        "id": "RQ9ldvGsD_tt"
      },
      "source": [
        "##Write into a file - w mode . Creates file if the file does not exist"
      ]
    },
    {
      "cell_type": "code",
      "metadata": {
        "id": "t3O5ai5BEe-Q"
      },
      "source": [
        "custom_file_exits(\"newfile.txt\")"
      ],
      "execution_count": null,
      "outputs": []
    },
    {
      "cell_type": "code",
      "metadata": {
        "id": "6fTLJVuhEBqU"
      },
      "source": [
        "my_write_handler = open(\"newfile.txt\",\"w\")\n",
        "my_write_handler.write(\"Cats always rule the world\")\n"
      ],
      "execution_count": null,
      "outputs": []
    },
    {
      "cell_type": "code",
      "metadata": {
        "id": "PvQBA4iDFdKz"
      },
      "source": [
        "my_write_handler.close()"
      ],
      "execution_count": null,
      "outputs": []
    },
    {
      "cell_type": "code",
      "metadata": {
        "id": "NIG58AUyGPpO"
      },
      "source": [
        "custom_delete(\"newfile.txt\")"
      ],
      "execution_count": null,
      "outputs": []
    },
    {
      "cell_type": "markdown",
      "metadata": {
        "id": "0q-VX3OyGAs-"
      },
      "source": [
        "## Write into a file - a mode. Append contents to the exiting contents of the file."
      ]
    },
    {
      "cell_type": "code",
      "metadata": {
        "id": "GKW9MZ4rF6Jo"
      },
      "source": [
        " my_write_handler = open(fname,\"a\")\n",
        " my_write_handler.write(\"\\nAppend content to the cat story\")"
      ],
      "execution_count": null,
      "outputs": []
    },
    {
      "cell_type": "code",
      "metadata": {
        "id": "MIIfUUDUG4Yr"
      },
      "source": [
        "my_write_handler.close()"
      ],
      "execution_count": null,
      "outputs": []
    },
    {
      "cell_type": "markdown",
      "metadata": {
        "id": "tqNdoJF-HHM8"
      },
      "source": [
        "## Write into a file - a mode. Creates file if the file does not exist"
      ]
    },
    {
      "cell_type": "code",
      "metadata": {
        "id": "RYa-0ToYG6AC"
      },
      "source": [
        "custom_file_exits(\"newfile.txt\")"
      ],
      "execution_count": null,
      "outputs": []
    },
    {
      "cell_type": "code",
      "metadata": {
        "id": "14nqu6HhHSM-"
      },
      "source": [
        "my_write_handler = open(\"newfile.txt\",\"a\")\n",
        "my_write_handler.write(\"Cats always rule the world\")"
      ],
      "execution_count": null,
      "outputs": []
    },
    {
      "cell_type": "code",
      "metadata": {
        "id": "p0_1jLjHHUrq"
      },
      "source": [
        "my_write_handler.close()"
      ],
      "execution_count": null,
      "outputs": []
    },
    {
      "cell_type": "code",
      "metadata": {
        "id": "yfYciVvLHY6W"
      },
      "source": [
        "custom_delete(\"newfile.txt\")"
      ],
      "execution_count": null,
      "outputs": []
    },
    {
      "cell_type": "markdown",
      "metadata": {
        "id": "Feh3KWUwH9DR"
      },
      "source": [
        "## Read from file - r mode. Throws error if the file does not exist."
      ]
    },
    {
      "cell_type": "code",
      "metadata": {
        "id": "KXAf2s8wIF9w"
      },
      "source": [
        "my_read_handler = open(\"read_demo.txt\",\"r\")"
      ],
      "execution_count": null,
      "outputs": []
    },
    {
      "cell_type": "code",
      "metadata": {
        "id": "2V4l9IWgJI8a"
      },
      "source": [
        "file_contents = \"\"\"Roman and Greek are in europe.\n",
        "Persians, Indians and Cinese ae in Asia.\n",
        "Egyptians are in Africa.\n",
        "Aztecs and Mayans are in Americas.\n",
        "Maoris are in Newzealan\"\"\""
      ],
      "execution_count": null,
      "outputs": []
    },
    {
      "cell_type": "code",
      "metadata": {
        "id": "LGOnmgwSQwN-"
      },
      "source": [
        "my_write_handler = open(\"read_demo.txt\",\"w\")\n",
        "my_write_handler.write(file_contents)\n",
        "my_write_handler.close()"
      ],
      "execution_count": null,
      "outputs": []
    },
    {
      "cell_type": "markdown",
      "metadata": {
        "id": "sFNCh1siTRKI"
      },
      "source": [
        "### Read all contents"
      ]
    },
    {
      "cell_type": "code",
      "metadata": {
        "id": "7IBips3ySJMg"
      },
      "source": [
        "custom_file_exists(\"read_demo.txt\")"
      ],
      "execution_count": null,
      "outputs": []
    },
    {
      "cell_type": "code",
      "metadata": {
        "id": "qCfKUhRwRtiK"
      },
      "source": [
        "my_read_handler = open(\"read_demo.txt\",\"r\")\n",
        "print(my_read_handler.read())\n",
        "my_read_handler.close()\n",
        "\n"
      ],
      "execution_count": null,
      "outputs": []
    },
    {
      "cell_type": "markdown",
      "metadata": {
        "id": "ZdpP79WMTp9V"
      },
      "source": [
        "### Read number of characters from a file"
      ]
    },
    {
      "cell_type": "code",
      "metadata": {
        "id": "jAdECtyZTzSl"
      },
      "source": [
        "my_read_handler = open(\"read_demo.txt\",\"r\")\n",
        "print(my_read_handler.read(5))"
      ],
      "execution_count": null,
      "outputs": []
    },
    {
      "cell_type": "code",
      "metadata": {
        "id": "rxpuBpFMT62F"
      },
      "source": [
        "print(my_read_handler.read(20))"
      ],
      "execution_count": null,
      "outputs": []
    },
    {
      "cell_type": "code",
      "metadata": {
        "id": "atW3GohFT2YW"
      },
      "source": [
        "my_read_handler.close()"
      ],
      "execution_count": null,
      "outputs": []
    },
    {
      "cell_type": "markdown",
      "metadata": {
        "id": "KM3o0HznUK_P"
      },
      "source": [
        "### Read single line from a file"
      ]
    },
    {
      "cell_type": "code",
      "metadata": {
        "id": "YjHsngU6UO6M"
      },
      "source": [
        "my_read_handler = open(\"read_demo.txt\",\"r\")\n",
        "print(my_read_handler.readline())"
      ],
      "execution_count": null,
      "outputs": []
    },
    {
      "cell_type": "code",
      "metadata": {
        "id": "fghodkHzUiW2"
      },
      "source": [
        "print(my_read_handler.readline())"
      ],
      "execution_count": null,
      "outputs": []
    },
    {
      "cell_type": "code",
      "metadata": {
        "id": "gS6UbvWVUeg6"
      },
      "source": [
        "my_read_handler.close()"
      ],
      "execution_count": null,
      "outputs": []
    },
    {
      "cell_type": "markdown",
      "metadata": {
        "id": "NLyxzWtmUsJv"
      },
      "source": [
        "### Loop through lines in a file"
      ]
    },
    {
      "cell_type": "code",
      "metadata": {
        "id": "8nvgdMYmU0l2"
      },
      "source": [
        "my_read_handler = open(\"read_demo.txt\",\"r\")"
      ],
      "execution_count": null,
      "outputs": []
    },
    {
      "cell_type": "code",
      "metadata": {
        "id": "o5TxDvxGU33U"
      },
      "source": [
        "for single_line in my_read_handler:\n",
        "  print(single_line)"
      ],
      "execution_count": null,
      "outputs": []
    },
    {
      "cell_type": "code",
      "metadata": {
        "id": "zIEihVEFVEkS"
      },
      "source": [
        "my_read_handler.close()"
      ],
      "execution_count": null,
      "outputs": []
    },
    {
      "cell_type": "markdown",
      "metadata": {
        "id": "MqcroldOVyzQ"
      },
      "source": [
        "### Get part of file- number of lines"
      ]
    },
    {
      "cell_type": "code",
      "metadata": {
        "id": "mdgURpm6V1mI"
      },
      "source": [
        "my_read_handler = open(\"read_demo.txt\",\"r\")"
      ],
      "execution_count": null,
      "outputs": []
    },
    {
      "cell_type": "code",
      "metadata": {
        "id": "XtUXEWedV39a"
      },
      "source": [
        "contents = my_read_handler.readlines()"
      ],
      "execution_count": null,
      "outputs": []
    },
    {
      "cell_type": "code",
      "metadata": {
        "id": "4Pww0dlqY1mn"
      },
      "source": [
        "print(contents)"
      ],
      "execution_count": null,
      "outputs": []
    },
    {
      "cell_type": "code",
      "metadata": {
        "id": "ij-W0AMvWXrb"
      },
      "source": [
        "for i in range(1,3):\n",
        "  print(contents[i])"
      ],
      "execution_count": null,
      "outputs": []
    }
  ]
}