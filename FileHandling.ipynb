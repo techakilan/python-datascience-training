{
  "nbformat": 4,
  "nbformat_minor": 0,
  "metadata": {
    "colab": {
      "name": "FileHandling.ipynb",
      "provenance": [],
      "collapsed_sections": [],
      "authorship_tag": "ABX9TyPvIr6T/qphuhWf0VKxusSe",
      "include_colab_link": true
    },
    "kernelspec": {
      "name": "python3",
      "display_name": "Python 3"
    },
    "language_info": {
      "name": "python"
    }
  },
  "cells": [
    {
      "cell_type": "markdown",
      "metadata": {
        "id": "view-in-github",
        "colab_type": "text"
      },
      "source": [
        "<a href=\"https://colab.research.google.com/github/techakilan/python-datascience-training/blob/master/FileHandling.ipynb\" target=\"_parent\"><img src=\"https://colab.research.google.com/assets/colab-badge.svg\" alt=\"Open In Colab\"/></a>"
      ]
    },
    {
      "cell_type": "markdown",
      "metadata": {
        "id": "I2GA4d1ehUVa"
      },
      "source": [
        "## Open function\n",
        "\n",
        "The open() function opens the file (if possible) and returns the corresponding file object.\n",
        "\n",
        "The open() function takes two parameters; filename, and mode.\n",
        "\n",
        "Important modes are,\n",
        "\n",
        "\"r\" - Read - Default value. Opens a file for reading, error if the file does not exist\n",
        "\n",
        "\"a\" - Append - Opens a file for appending, creates the file if it does not exist\n",
        "\n",
        "\"w\" - Write - Opens a file for writing, creates the file if it does not exist\n",
        "\n",
        "\"x\" - Create - Creates the specified file, returns an error if the file exists\n",
        "\n",
        "\"t\" - Text - Default value. Text mode\n",
        "\n",
        "\"b\" - Binary - Binary mode (e.g. images)"
      ]
    },
    {
      "cell_type": "markdown",
      "metadata": {
        "id": "XhziVjcvg8X0"
      },
      "source": [
        "## Create File - mode x creates a file, returns error if the file with the same name already exists\n",
        "\n"
      ]
    },
    {
      "cell_type": "code",
      "metadata": {
        "colab": {
          "base_uri": "https://localhost:8080/"
        },
        "id": "8s-ixY_2hLkS",
        "outputId": "daaac6b8-3210-4321-87d6-adbc35d1c693"
      },
      "source": [
        "# Create file\n",
        "create_file_handler = open(\"demo1.txt\", \"x\")\n",
        "print(create_file_handler)"
      ],
      "execution_count": 41,
      "outputs": [
        {
          "output_type": "stream",
          "name": "stdout",
          "text": [
            "<_io.TextIOWrapper name='demo1.txt' mode='x' encoding='UTF-8'>\n"
          ]
        }
      ]
    },
    {
      "cell_type": "code",
      "metadata": {
        "colab": {
          "base_uri": "https://localhost:8080/",
          "height": 180
        },
        "id": "NuLumO1SlyYN",
        "outputId": "f45c64cb-dbaf-43f0-a274-5f5093624ba9"
      },
      "source": [
        "repeat_create_file_handler = open(\"demo1.txt\", \"x\")\n",
        "print(repeat_create_file_handler)"
      ],
      "execution_count": 42,
      "outputs": [
        {
          "output_type": "error",
          "ename": "FileExistsError",
          "evalue": "ignored",
          "traceback": [
            "\u001b[0;31m---------------------------------------------------------------------------\u001b[0m",
            "\u001b[0;31mFileExistsError\u001b[0m                           Traceback (most recent call last)",
            "\u001b[0;32m<ipython-input-42-39b334785198>\u001b[0m in \u001b[0;36m<module>\u001b[0;34m()\u001b[0m\n\u001b[0;32m----> 1\u001b[0;31m \u001b[0mrepeat_create_file_handler\u001b[0m \u001b[0;34m=\u001b[0m \u001b[0mopen\u001b[0m\u001b[0;34m(\u001b[0m\u001b[0;34m\"demo1.txt\"\u001b[0m\u001b[0;34m,\u001b[0m \u001b[0;34m\"x\"\u001b[0m\u001b[0;34m)\u001b[0m\u001b[0;34m\u001b[0m\u001b[0;34m\u001b[0m\u001b[0m\n\u001b[0m\u001b[1;32m      2\u001b[0m \u001b[0mprint\u001b[0m\u001b[0;34m(\u001b[0m\u001b[0mrepeat_create_file_handler\u001b[0m\u001b[0;34m)\u001b[0m\u001b[0;34m\u001b[0m\u001b[0;34m\u001b[0m\u001b[0m\n",
            "\u001b[0;31mFileExistsError\u001b[0m: [Errno 17] File exists: 'demo1.txt'"
          ]
        }
      ]
    },
    {
      "cell_type": "markdown",
      "metadata": {
        "id": "dMLO8jMhm5xb"
      },
      "source": [
        "## Check if file exists"
      ]
    },
    {
      "cell_type": "code",
      "metadata": {
        "colab": {
          "base_uri": "https://localhost:8080/"
        },
        "id": "S-qAWR0Bm5II",
        "outputId": "3d608731-6a35-454d-ddc8-05d54d764d1d"
      },
      "source": [
        "import os\n",
        "if os.path.exists(\"demo1.txt\"):\n",
        "  print(\"File exists\")\n",
        "else:\n",
        "  print(\"File does not exist\")"
      ],
      "execution_count": 43,
      "outputs": [
        {
          "output_type": "stream",
          "name": "stdout",
          "text": [
            "File exists\n"
          ]
        }
      ]
    },
    {
      "cell_type": "code",
      "metadata": {
        "id": "OJPPt2hir3gE"
      },
      "source": [
        "# create custom_file_exits() function\n",
        "\n",
        "def custom_file_exits(fname):\n",
        "  import os\n",
        "  if os.path.exists(fname):\n",
        "    print(\"File exists\")\n",
        "  else:\n",
        "    print(\"File does not exist\")"
      ],
      "execution_count": 44,
      "outputs": []
    },
    {
      "cell_type": "markdown",
      "metadata": {
        "id": "X7k70kngo7f2"
      },
      "source": [
        "## Custom Create function"
      ]
    },
    {
      "cell_type": "code",
      "metadata": {
        "id": "gUqGHOFIo_Nu"
      },
      "source": [
        "def custom_create_x(fname):\n",
        "  import os\n",
        "  if os.path.exists(fname):\n",
        "    print (\"File already exists\")\n",
        "    return None  \n",
        "  else:\n",
        "    print(\"File created successfully\")\n",
        "    return open(fname, \"x\")\n"
      ],
      "execution_count": 45,
      "outputs": []
    },
    {
      "cell_type": "code",
      "metadata": {
        "colab": {
          "base_uri": "https://localhost:8080/"
        },
        "id": "UHr-XXNds3P1",
        "outputId": "102f6006-2eb9-4043-9945-0b785980c923"
      },
      "source": [
        "custom_file_exits(\"demo1.txt\")"
      ],
      "execution_count": 46,
      "outputs": [
        {
          "output_type": "stream",
          "name": "stdout",
          "text": [
            "File exists\n"
          ]
        }
      ]
    },
    {
      "cell_type": "code",
      "metadata": {
        "colab": {
          "base_uri": "https://localhost:8080/"
        },
        "id": "14BUfcfTpjJ7",
        "outputId": "2ad07b16-80c7-422b-d5ae-1d7e2745c177"
      },
      "source": [
        "my_file = custom_create_x(\"demo1.txt\")\n",
        "my_file"
      ],
      "execution_count": 47,
      "outputs": [
        {
          "output_type": "stream",
          "name": "stdout",
          "text": [
            "File already exists\n"
          ]
        }
      ]
    },
    {
      "cell_type": "markdown",
      "metadata": {
        "id": "7vpWGNyFmJeB"
      },
      "source": [
        "## Delete file - causes error if the file does not exist"
      ]
    },
    {
      "cell_type": "markdown",
      "metadata": {
        "id": "tyEJwxugl-UD"
      },
      "source": [
        ""
      ]
    },
    {
      "cell_type": "code",
      "metadata": {
        "id": "fKVsAC8bmY05"
      },
      "source": [
        "import os\n",
        "os.remove(\"demo1.txt\")"
      ],
      "execution_count": 48,
      "outputs": []
    },
    {
      "cell_type": "code",
      "metadata": {
        "colab": {
          "base_uri": "https://localhost:8080/",
          "height": 197
        },
        "id": "1q0LmMCvmdE5",
        "outputId": "1ca77b83-2c67-4535-96dc-e08827677b6f"
      },
      "source": [
        "#Try to remove again\n",
        "import os\n",
        "os.remove(\"demo1.txt\")"
      ],
      "execution_count": 49,
      "outputs": [
        {
          "output_type": "error",
          "ename": "FileNotFoundError",
          "evalue": "ignored",
          "traceback": [
            "\u001b[0;31m---------------------------------------------------------------------------\u001b[0m",
            "\u001b[0;31mFileNotFoundError\u001b[0m                         Traceback (most recent call last)",
            "\u001b[0;32m<ipython-input-49-955e9ff8a082>\u001b[0m in \u001b[0;36m<module>\u001b[0;34m()\u001b[0m\n\u001b[1;32m      1\u001b[0m \u001b[0;31m#Try to remove again\u001b[0m\u001b[0;34m\u001b[0m\u001b[0;34m\u001b[0m\u001b[0;34m\u001b[0m\u001b[0m\n\u001b[1;32m      2\u001b[0m \u001b[0;32mimport\u001b[0m \u001b[0mos\u001b[0m\u001b[0;34m\u001b[0m\u001b[0;34m\u001b[0m\u001b[0m\n\u001b[0;32m----> 3\u001b[0;31m \u001b[0mos\u001b[0m\u001b[0;34m.\u001b[0m\u001b[0mremove\u001b[0m\u001b[0;34m(\u001b[0m\u001b[0;34m\"demo1.txt\"\u001b[0m\u001b[0;34m)\u001b[0m\u001b[0;34m\u001b[0m\u001b[0;34m\u001b[0m\u001b[0m\n\u001b[0m",
            "\u001b[0;31mFileNotFoundError\u001b[0m: [Errno 2] No such file or directory: 'demo1.txt'"
          ]
        }
      ]
    },
    {
      "cell_type": "markdown",
      "metadata": {
        "id": "b9ouyxJwrDzk"
      },
      "source": [
        "## Custom delete function"
      ]
    },
    {
      "cell_type": "code",
      "metadata": {
        "id": "6NwDevy4rCDR"
      },
      "source": [
        "def custom_delete(fname):\n",
        "  import os\n",
        "  if os.path.exists(fname):\n",
        "    os.remove(fname)\n",
        "    print (\"File deleted\")\n",
        "  else:\n",
        "    print(\"File does not exist\")\n"
      ],
      "execution_count": 50,
      "outputs": []
    },
    {
      "cell_type": "code",
      "metadata": {
        "colab": {
          "base_uri": "https://localhost:8080/"
        },
        "id": "CMnaRlxNsaSZ",
        "outputId": "b6c14079-ffa4-44a8-c08a-054046400566"
      },
      "source": [
        "custom_file_exits(\"demo1.txt\")"
      ],
      "execution_count": 51,
      "outputs": [
        {
          "output_type": "stream",
          "name": "stdout",
          "text": [
            "File does not exist\n"
          ]
        }
      ]
    },
    {
      "cell_type": "code",
      "metadata": {
        "colab": {
          "base_uri": "https://localhost:8080/"
        },
        "id": "XFUWRz_Qrk-p",
        "outputId": "6626c61e-f9e0-484f-cb17-b0cb2384885e"
      },
      "source": [
        "custom_delete(\"demo1.txt\")"
      ],
      "execution_count": 52,
      "outputs": [
        {
          "output_type": "stream",
          "name": "stdout",
          "text": [
            "File does not exist\n"
          ]
        }
      ]
    },
    {
      "cell_type": "code",
      "metadata": {
        "colab": {
          "base_uri": "https://localhost:8080/"
        },
        "id": "hX3hRms3rqMv",
        "outputId": "e7b6c2f0-1efa-47ed-d375-4fdb2d4a74e8"
      },
      "source": [
        "custom_create_x(\"demo1.txt\")"
      ],
      "execution_count": 53,
      "outputs": [
        {
          "output_type": "stream",
          "name": "stdout",
          "text": [
            "File created successfully\n"
          ]
        },
        {
          "output_type": "execute_result",
          "data": {
            "text/plain": [
              "<_io.TextIOWrapper name='demo1.txt' mode='x' encoding='UTF-8'>"
            ]
          },
          "metadata": {},
          "execution_count": 53
        }
      ]
    },
    {
      "cell_type": "code",
      "metadata": {
        "colab": {
          "base_uri": "https://localhost:8080/"
        },
        "id": "6Qua2E6usuHO",
        "outputId": "685f0f01-87cc-4379-bc91-0aea2650e18b"
      },
      "source": [
        "custom_delete(\"demo1.txt\")"
      ],
      "execution_count": 54,
      "outputs": [
        {
          "output_type": "stream",
          "name": "stdout",
          "text": [
            "File deleted\n"
          ]
        }
      ]
    },
    {
      "cell_type": "markdown",
      "metadata": {
        "id": "u2HttyZzuBa1"
      },
      "source": [
        "## Write into a file - w mode . Overwrites if there are any existing content int the file"
      ]
    },
    {
      "cell_type": "code",
      "metadata": {
        "colab": {
          "base_uri": "https://localhost:8080/"
        },
        "id": "6xzGSEa0uAxN",
        "outputId": "05f3ea23-3804-47b6-e78a-fd4e44e2340e"
      },
      "source": [
        "custom_create_x(\"demo1.txt\")\n",
        "\n",
        "my_write_handler=open(\"demo1.txt\",\"w\")\n",
        "my_write_handler.write(\"Cats rule the world\")\n"
      ],
      "execution_count": 55,
      "outputs": [
        {
          "output_type": "stream",
          "name": "stdout",
          "text": [
            "File created successfully\n"
          ]
        },
        {
          "output_type": "execute_result",
          "data": {
            "text/plain": [
              "19"
            ]
          },
          "metadata": {},
          "execution_count": 55
        }
      ]
    },
    {
      "cell_type": "code",
      "metadata": {
        "id": "vgqeTjgPvSND"
      },
      "source": [
        "my_write_handler.close()"
      ],
      "execution_count": 56,
      "outputs": []
    },
    {
      "cell_type": "markdown",
      "metadata": {
        "id": "QRAoBW8hvXSl"
      },
      "source": [
        ""
      ]
    },
    {
      "cell_type": "code",
      "metadata": {
        "id": "asBrRvRVvVgD"
      },
      "source": [
        ""
      ],
      "execution_count": null,
      "outputs": []
    }
  ]
}