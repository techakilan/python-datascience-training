{
  "nbformat": 4,
  "nbformat_minor": 0,
  "metadata": {
    "colab": {
      "name": "FileHandling.ipynb",
      "provenance": [],
      "collapsed_sections": [],
      "authorship_tag": "ABX9TyMKmW9aXJopEbjLc3qwFLi9",
      "include_colab_link": true
    },
    "kernelspec": {
      "name": "python3",
      "display_name": "Python 3"
    },
    "language_info": {
      "name": "python"
    }
  },
  "cells": [
    {
      "cell_type": "markdown",
      "metadata": {
        "id": "view-in-github",
        "colab_type": "text"
      },
      "source": [
        "<a href=\"https://colab.research.google.com/github/techakilan/python-datascience-training/blob/master/FileHandling.ipynb\" target=\"_parent\"><img src=\"https://colab.research.google.com/assets/colab-badge.svg\" alt=\"Open In Colab\"/></a>"
      ]
    },
    {
      "cell_type": "markdown",
      "metadata": {
        "id": "I2GA4d1ehUVa"
      },
      "source": [
        "## Open function\n",
        "\n",
        "The open() function opens the file (if possible) and returns the corresponding file object.\n",
        "\n",
        "The open() function takes two parameters; filename, and mode.\n",
        "\n",
        "Important modes are,\n",
        "\n",
        "\"r\" - Read - Default value. Opens a file for reading, error if the file does not exist\n",
        "\n",
        "\"a\" - Append - Opens a file for appending, creates the file if it does not exist\n",
        "\n",
        "\"w\" - Write - Opens a file for writing, creates the file if it does not exist\n",
        "\n",
        "\"x\" - Create - Creates the specified file, returns an error if the file exists\n",
        "\n",
        "\"t\" - Text - Default value. Text mode\n",
        "\n",
        "\"b\" - Binary - Binary mode (e.g. images)"
      ]
    },
    {
      "cell_type": "markdown",
      "metadata": {
        "id": "XhziVjcvg8X0"
      },
      "source": [
        "## Create File - mode x creates a file, returns error if the file with the same name already exists\n",
        "\n"
      ]
    },
    {
      "cell_type": "code",
      "metadata": {
        "colab": {
          "base_uri": "https://localhost:8080/"
        },
        "id": "8s-ixY_2hLkS",
        "outputId": "2a714313-34d7-4e60-ea46-83860e7b5309"
      },
      "source": [
        "# Create file\n",
        "create_file_handler = open(\"demo1.txt\", \"x\")\n",
        "print(create_file_handler)"
      ],
      "execution_count": 26,
      "outputs": [
        {
          "output_type": "stream",
          "name": "stdout",
          "text": [
            "<_io.TextIOWrapper name='demo1.txt' mode='x' encoding='UTF-8'>\n"
          ]
        }
      ]
    },
    {
      "cell_type": "code",
      "metadata": {
        "colab": {
          "base_uri": "https://localhost:8080/",
          "height": 180
        },
        "id": "NuLumO1SlyYN",
        "outputId": "166db229-10c4-4058-d0d5-742f8bf1f6e7"
      },
      "source": [
        "repeat_create_file_handler = open(\"demo1.txt\", \"x\")\n",
        "print(repeat_create_file_handler)"
      ],
      "execution_count": 27,
      "outputs": [
        {
          "output_type": "error",
          "ename": "FileExistsError",
          "evalue": "ignored",
          "traceback": [
            "\u001b[0;31m---------------------------------------------------------------------------\u001b[0m",
            "\u001b[0;31mFileExistsError\u001b[0m                           Traceback (most recent call last)",
            "\u001b[0;32m<ipython-input-27-39b334785198>\u001b[0m in \u001b[0;36m<module>\u001b[0;34m()\u001b[0m\n\u001b[0;32m----> 1\u001b[0;31m \u001b[0mrepeat_create_file_handler\u001b[0m \u001b[0;34m=\u001b[0m \u001b[0mopen\u001b[0m\u001b[0;34m(\u001b[0m\u001b[0;34m\"demo1.txt\"\u001b[0m\u001b[0;34m,\u001b[0m \u001b[0;34m\"x\"\u001b[0m\u001b[0;34m)\u001b[0m\u001b[0;34m\u001b[0m\u001b[0;34m\u001b[0m\u001b[0m\n\u001b[0m\u001b[1;32m      2\u001b[0m \u001b[0mprint\u001b[0m\u001b[0;34m(\u001b[0m\u001b[0mrepeat_create_file_handler\u001b[0m\u001b[0;34m)\u001b[0m\u001b[0;34m\u001b[0m\u001b[0;34m\u001b[0m\u001b[0m\n",
            "\u001b[0;31mFileExistsError\u001b[0m: [Errno 17] File exists: 'demo1.txt'"
          ]
        }
      ]
    },
    {
      "cell_type": "markdown",
      "metadata": {
        "id": "dMLO8jMhm5xb"
      },
      "source": [
        "## Check if file exists"
      ]
    },
    {
      "cell_type": "code",
      "metadata": {
        "colab": {
          "base_uri": "https://localhost:8080/"
        },
        "id": "S-qAWR0Bm5II",
        "outputId": "0186c317-eb64-42bd-c785-d41cb1dbf01a"
      },
      "source": [
        "import os\n",
        "if os.path.exists(\"demo1.txt\"):\n",
        "  print(\"File exists\")\n",
        "else:\n",
        "  print(\"File does not exist\")"
      ],
      "execution_count": 28,
      "outputs": [
        {
          "output_type": "stream",
          "name": "stdout",
          "text": [
            "File exists\n"
          ]
        }
      ]
    },
    {
      "cell_type": "code",
      "metadata": {
        "id": "OJPPt2hir3gE"
      },
      "source": [
        "# create custom_file_exits() function\n",
        "\n",
        "def custom_file_exits():\n",
        "  import os\n",
        "  if os.path.exists(\"demo1.txt\"):\n",
        "    print(\"File exists\")\n",
        "  else:\n",
        "    print(\"File does not exist\")"
      ],
      "execution_count": 29,
      "outputs": []
    },
    {
      "cell_type": "markdown",
      "metadata": {
        "id": "X7k70kngo7f2"
      },
      "source": [
        "## Custom Create function"
      ]
    },
    {
      "cell_type": "code",
      "metadata": {
        "id": "gUqGHOFIo_Nu"
      },
      "source": [
        "def custom_create_x(fname):\n",
        "  import os\n",
        "  if os.path.exists(fname):\n",
        "    print (\"File already exists\")\n",
        "    return None  \n",
        "  else:\n",
        "    print(\"File created successfully\")\n",
        "    return open(fname, \"x\")\n"
      ],
      "execution_count": 22,
      "outputs": []
    },
    {
      "cell_type": "code",
      "metadata": {
        "colab": {
          "base_uri": "https://localhost:8080/"
        },
        "id": "14BUfcfTpjJ7",
        "outputId": "edf5ceef-45e6-4a84-f737-f824be59f6a2"
      },
      "source": [
        "my_file = custom_create_x(\"demo1.txt\")\n",
        "my_file"
      ],
      "execution_count": 23,
      "outputs": [
        {
          "output_type": "stream",
          "name": "stdout",
          "text": [
            "File already exists\n"
          ]
        }
      ]
    },
    {
      "cell_type": "markdown",
      "metadata": {
        "id": "7vpWGNyFmJeB"
      },
      "source": [
        "## Delete file - causes error if the file does not exist"
      ]
    },
    {
      "cell_type": "markdown",
      "metadata": {
        "id": "tyEJwxugl-UD"
      },
      "source": [
        ""
      ]
    },
    {
      "cell_type": "code",
      "metadata": {
        "id": "fKVsAC8bmY05"
      },
      "source": [
        "import os\n",
        "os.remove(\"demo1.txt\")"
      ],
      "execution_count": 10,
      "outputs": []
    },
    {
      "cell_type": "code",
      "metadata": {
        "colab": {
          "base_uri": "https://localhost:8080/",
          "height": 197
        },
        "id": "1q0LmMCvmdE5",
        "outputId": "1791c324-cf97-46ea-cba2-2f996e78a631"
      },
      "source": [
        "#Try to remove again\n",
        "import os\n",
        "os.remove(\"demo1.txt\")"
      ],
      "execution_count": 11,
      "outputs": [
        {
          "output_type": "error",
          "ename": "FileNotFoundError",
          "evalue": "ignored",
          "traceback": [
            "\u001b[0;31m---------------------------------------------------------------------------\u001b[0m",
            "\u001b[0;31mFileNotFoundError\u001b[0m                         Traceback (most recent call last)",
            "\u001b[0;32m<ipython-input-11-955e9ff8a082>\u001b[0m in \u001b[0;36m<module>\u001b[0;34m()\u001b[0m\n\u001b[1;32m      1\u001b[0m \u001b[0;31m#Try to remove again\u001b[0m\u001b[0;34m\u001b[0m\u001b[0;34m\u001b[0m\u001b[0;34m\u001b[0m\u001b[0m\n\u001b[1;32m      2\u001b[0m \u001b[0;32mimport\u001b[0m \u001b[0mos\u001b[0m\u001b[0;34m\u001b[0m\u001b[0;34m\u001b[0m\u001b[0m\n\u001b[0;32m----> 3\u001b[0;31m \u001b[0mos\u001b[0m\u001b[0;34m.\u001b[0m\u001b[0mremove\u001b[0m\u001b[0;34m(\u001b[0m\u001b[0;34m\"demo1.txt\"\u001b[0m\u001b[0;34m)\u001b[0m\u001b[0;34m\u001b[0m\u001b[0;34m\u001b[0m\u001b[0m\n\u001b[0m",
            "\u001b[0;31mFileNotFoundError\u001b[0m: [Errno 2] No such file or directory: 'demo1.txt'"
          ]
        }
      ]
    },
    {
      "cell_type": "markdown",
      "metadata": {
        "id": "b9ouyxJwrDzk"
      },
      "source": [
        "## Custom delete function"
      ]
    },
    {
      "cell_type": "code",
      "metadata": {
        "id": "6NwDevy4rCDR"
      },
      "source": [
        "def custom_delete(fname):\n",
        "  import os\n",
        "  if os.path.exists(fname):\n",
        "    os.remove(fname)\n",
        "    print (\"File deleted\")\n",
        "  else:\n",
        "    print(\"File does not exist\")\n"
      ],
      "execution_count": 24,
      "outputs": []
    },
    {
      "cell_type": "code",
      "metadata": {
        "colab": {
          "base_uri": "https://localhost:8080/"
        },
        "id": "XFUWRz_Qrk-p",
        "outputId": "165465d8-11e6-4608-cefb-ffef9b1a6814"
      },
      "source": [
        "custom_delete(\"demo1.txt\")"
      ],
      "execution_count": 25,
      "outputs": [
        {
          "output_type": "stream",
          "name": "stdout",
          "text": [
            "File deleted\n"
          ]
        }
      ]
    },
    {
      "cell_type": "code",
      "metadata": {
        "id": "hX3hRms3rqMv"
      },
      "source": [
        ""
      ],
      "execution_count": null,
      "outputs": []
    }
  ]
}