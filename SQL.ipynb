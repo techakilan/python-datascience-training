{
  "nbformat": 4,
  "nbformat_minor": 0,
  "metadata": {
    "colab": {
      "name": "SQL.ipynb",
      "provenance": [],
      "authorship_tag": "ABX9TyN/PRQKPEklpMD42/xWNeg8",
      "include_colab_link": true
    },
    "kernelspec": {
      "name": "python3",
      "display_name": "Python 3"
    },
    "language_info": {
      "name": "python"
    }
  },
  "cells": [
    {
      "cell_type": "markdown",
      "metadata": {
        "id": "view-in-github",
        "colab_type": "text"
      },
      "source": [
        "<a href=\"https://colab.research.google.com/github/techakilan/python-datascience-training/blob/master/SQL.ipynb\" target=\"_parent\"><img src=\"https://colab.research.google.com/assets/colab-badge.svg\" alt=\"Open In Colab\"/></a>"
      ]
    },
    {
      "cell_type": "markdown",
      "metadata": {
        "id": "pewcUCNNpwwz"
      },
      "source": [
        "# Remove sqllite database if it already exists"
      ]
    },
    {
      "cell_type": "code",
      "metadata": {
        "id": "8hUr6d6SpvEd"
      },
      "source": [
        "import os\n",
        "if os.path.exists(\"sql_training.db\"):\n",
        "  os.remove(\"sql_training.db\")\n",
        "else:\n",
        "  print(\"The database does not exist\") "
      ],
      "execution_count": 10,
      "outputs": []
    },
    {
      "cell_type": "markdown",
      "metadata": {
        "id": "nbr3M_ecp9lQ"
      },
      "source": [
        "# Create a sqllite database and create a connection"
      ]
    },
    {
      "cell_type": "code",
      "metadata": {
        "colab": {
          "base_uri": "https://localhost:8080/"
        },
        "id": "dA_oOzf_5saP",
        "outputId": "ada638a3-73e2-4402-8aac-dfa2f2ac63b8"
      },
      "source": [
        "import sqlite3\n",
        "\n",
        "conn = sqlite3.connect('sql_training.db')\n",
        "print (\"Successfully connected to the database\")"
      ],
      "execution_count": 11,
      "outputs": [
        {
          "output_type": "stream",
          "name": "stdout",
          "text": [
            "Successfully connected to the database\n"
          ]
        }
      ]
    },
    {
      "cell_type": "markdown",
      "metadata": {
        "id": "-183guxSqGDb"
      },
      "source": [
        "# Load a local sql file to setup initial sample data.\n",
        "\n",
        " Remember to upload the file before it is used. \n",
        "\n",
        "However this file is removed when "
      ]
    },
    {
      "cell_type": "code",
      "metadata": {
        "colab": {
          "base_uri": "https://localhost:8080/"
        },
        "id": "cPkX2dWPpbkT",
        "outputId": "50c1ca53-dd03-40d0-f53b-986e279afbc7"
      },
      "source": [
        "local_sql = open('sql_training.sql',\"r\")\n",
        "local_sql_contents = local_sql.read()\n",
        "conn.executescript(local_sql_contents)\n",
        "print(\"Successfully populated db with initial  from local file\")"
      ],
      "execution_count": 7,
      "outputs": [
        {
          "output_type": "stream",
          "name": "stdout",
          "text": [
            "Successfully populated db with initial values\n"
          ]
        }
      ]
    },
    {
      "cell_type": "markdown",
      "metadata": {
        "id": "S4EoxlWQCrA5"
      },
      "source": [
        "# Load a sql file from drive to setup initial sample data"
      ]
    },
    {
      "cell_type": "code",
      "metadata": {
        "id": "kgjz8pHzDcpG",
        "outputId": "414f4aa1-8d86-4abf-f922-62865567b53d",
        "colab": {
          "base_uri": "https://localhost:8080/"
        }
      },
      "source": [
        "from google.colab import drive\n",
        "drive.mount('/content/drive')"
      ],
      "execution_count": 19,
      "outputs": [
        {
          "output_type": "stream",
          "name": "stdout",
          "text": [
            "Mounted at /content/drive\n"
          ]
        }
      ]
    },
    {
      "cell_type": "code",
      "metadata": {
        "id": "xJOCPIcMDHdf",
        "outputId": "735da2f8-0a69-4849-e5ee-b8d39f4a23ab",
        "colab": {
          "base_uri": "https://localhost:8080/"
        }
      },
      "source": [
        "drive_sql = open('drive/MyDrive/colabs_data/sql_training.sql',\"r\")\n",
        "drive_sql_contents = drive_sql.read()\n",
        "conn.executescript(drive_sql_contents)\n",
        "print(\"Successfully populated db with initial values from google drive\")"
      ],
      "execution_count": 20,
      "outputs": [
        {
          "output_type": "stream",
          "name": "stdout",
          "text": [
            "Successfully populated db with initial values from google drive\n"
          ]
        }
      ]
    },
    {
      "cell_type": "markdown",
      "metadata": {
        "id": "xrqQa-cz0y34"
      },
      "source": [
        "# Select queries"
      ]
    },
    {
      "cell_type": "code",
      "metadata": {
        "id": "9BIVbyD053zt",
        "colab": {
          "base_uri": "https://localhost:8080/"
        },
        "outputId": "235c35bd-3258-42a5-a422-898220259f2f"
      },
      "source": [
        "select_all_agents_query = \"SELECT * FROM CUSTOMER\"\n",
        "\n",
        "rows = conn.execute(select_all_agents_query)\n",
        "row = rows.fetchone()\n",
        "print (row[1])\n",
        "\n",
        " "
      ],
      "execution_count": 9,
      "outputs": [
        {
          "output_type": "stream",
          "name": "stdout",
          "text": [
            "Holmes\n"
          ]
        }
      ]
    },
    {
      "cell_type": "code",
      "metadata": {
        "id": "JlV9KrxJr57A"
      },
      "source": [
        ""
      ],
      "execution_count": null,
      "outputs": []
    }
  ]
}