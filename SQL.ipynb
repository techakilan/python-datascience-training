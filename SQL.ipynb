{
  "nbformat": 4,
  "nbformat_minor": 0,
  "metadata": {
    "colab": {
      "name": "SQL.ipynb",
      "provenance": [],
      "authorship_tag": "ABX9TyOkfLCR5vl5YXHQlBF8LUau",
      "include_colab_link": true
    },
    "kernelspec": {
      "name": "python3",
      "display_name": "Python 3"
    },
    "language_info": {
      "name": "python"
    }
  },
  "cells": [
    {
      "cell_type": "markdown",
      "metadata": {
        "id": "view-in-github",
        "colab_type": "text"
      },
      "source": [
        "<a href=\"https://colab.research.google.com/github/techakilan/python-datascience-training/blob/master/SQL.ipynb\" target=\"_parent\"><img src=\"https://colab.research.google.com/assets/colab-badge.svg\" alt=\"Open In Colab\"/></a>"
      ]
    },
    {
      "cell_type": "markdown",
      "metadata": {
        "id": "pewcUCNNpwwz"
      },
      "source": [
        "# Remove database if it already exists"
      ]
    },
    {
      "cell_type": "code",
      "metadata": {
        "id": "8hUr6d6SpvEd"
      },
      "source": [
        "import os\n",
        "if os.path.exists(\"sql_training.db\"):\n",
        "  os.remove(\"sql_training.db\")\n",
        "else:\n",
        "  print(\"The database does not exist\") "
      ],
      "execution_count": null,
      "outputs": []
    },
    {
      "cell_type": "markdown",
      "metadata": {
        "id": "nbr3M_ecp9lQ"
      },
      "source": [
        "# Create a sqllite database and create a connection"
      ]
    },
    {
      "cell_type": "code",
      "metadata": {
        "colab": {
          "base_uri": "https://localhost:8080/"
        },
        "id": "dA_oOzf_5saP",
        "outputId": "26869a85-3c6f-473d-8f1c-07e2f22f4015"
      },
      "source": [
        "import sqlite3\n",
        "\n",
        "conn = sqlite3.connect('sql_training.db')\n",
        "print(conn)"
      ],
      "execution_count": 8,
      "outputs": [
        {
          "output_type": "stream",
          "name": "stdout",
          "text": [
            "<sqlite3.Connection object at 0x7f90bd94ce30>\n"
          ]
        }
      ]
    },
    {
      "cell_type": "markdown",
      "metadata": {
        "id": "-183guxSqGDb"
      },
      "source": [
        "# Load a local sql file to setup sample data.\n",
        "\n",
        " Remember to upload the file before it is used. \n",
        "\n",
        "However this file is removed when "
      ]
    },
    {
      "cell_type": "code",
      "metadata": {
        "id": "cPkX2dWPpbkT"
      },
      "source": [
        ""
      ],
      "execution_count": 9,
      "outputs": []
    },
    {
      "cell_type": "code",
      "metadata": {
        "id": "9BIVbyD053zt"
      },
      "source": [
        "/content/sql_training/sql_training.sql"
      ],
      "execution_count": null,
      "outputs": []
    }
  ]
}