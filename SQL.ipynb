{
  "nbformat": 4,
  "nbformat_minor": 0,
  "metadata": {
    "colab": {
      "name": "SQL.ipynb",
      "provenance": [],
      "authorship_tag": "ABX9TyPw8qSnegJzRGHm46jfEmGV",
      "include_colab_link": true
    },
    "kernelspec": {
      "name": "python3",
      "display_name": "Python 3"
    },
    "language_info": {
      "name": "python"
    }
  },
  "cells": [
    {
      "cell_type": "markdown",
      "metadata": {
        "id": "view-in-github",
        "colab_type": "text"
      },
      "source": [
        "<a href=\"https://colab.research.google.com/github/techakilan/python-datascience-training/blob/master/SQL.ipynb\" target=\"_parent\"><img src=\"https://colab.research.google.com/assets/colab-badge.svg\" alt=\"Open In Colab\"/></a>"
      ]
    },
    {
      "cell_type": "markdown",
      "metadata": {
        "id": "pewcUCNNpwwz"
      },
      "source": [
        "# Remove database if it already exists"
      ]
    },
    {
      "cell_type": "code",
      "metadata": {
        "id": "8hUr6d6SpvEd"
      },
      "source": [
        "import os\n",
        "if os.path.exists(\"sql_training.db\"):\n",
        "  os.remove(\"sql_training.db\")\n",
        "else:\n",
        "  print(\"The database does not exist\") "
      ],
      "execution_count": 1,
      "outputs": []
    },
    {
      "cell_type": "markdown",
      "metadata": {
        "id": "nbr3M_ecp9lQ"
      },
      "source": [
        "# Create a sqllite database and create a connection"
      ]
    },
    {
      "cell_type": "code",
      "metadata": {
        "colab": {
          "base_uri": "https://localhost:8080/"
        },
        "id": "dA_oOzf_5saP",
        "outputId": "be595738-3ead-45c2-dae3-add4aa0adeef"
      },
      "source": [
        "import sqlite3\n",
        "\n",
        "conn = sqlite3.connect('sql_training.db')\n",
        "print (\"Successfully connected to the database\")"
      ],
      "execution_count": 2,
      "outputs": [
        {
          "output_type": "stream",
          "name": "stdout",
          "text": [
            "Successfully connected to the database\n"
          ]
        }
      ]
    },
    {
      "cell_type": "markdown",
      "metadata": {
        "id": "-183guxSqGDb"
      },
      "source": [
        "# Load a local sql file to setup sample data.\n",
        "\n",
        " Remember to upload the file before it is used. \n",
        "\n",
        "However this file is removed when "
      ]
    },
    {
      "cell_type": "code",
      "metadata": {
        "colab": {
          "base_uri": "https://localhost:8080/"
        },
        "id": "cPkX2dWPpbkT",
        "outputId": "59db2662-f58b-4b71-b98c-6bf336328eec"
      },
      "source": [
        "local_sql = open('sql_training/sql_training.sql',\"r\")\n",
        "local_sql_contents = local_sql.read()\n",
        "conn.executescript(local_sql_contents)\n",
        "print(\"Successfully populated db with initial values\")"
      ],
      "execution_count": 3,
      "outputs": [
        {
          "output_type": "execute_result",
          "data": {
            "text/plain": [
              "<sqlite3.Cursor at 0x7fdb87b3b6c0>"
            ]
          },
          "metadata": {},
          "execution_count": 3
        }
      ]
    },
    {
      "cell_type": "code",
      "metadata": {
        "id": "9BIVbyD053zt",
        "colab": {
          "base_uri": "https://localhost:8080/"
        },
        "outputId": "5f10f8a0-3244-4966-a365-4595830c8e16"
      },
      "source": [
        "select_all_agents_query = \"SELECT * FROM AGENTS\"\n",
        "\n",
        "rows = conn.execute(select_all_agents_query)\n",
        "row = rows.fetchone()\n",
        "print (row[1])\n",
        "\n",
        " "
      ],
      "execution_count": 4,
      "outputs": [
        {
          "output_type": "stream",
          "name": "stdout",
          "text": [
            "Ramasundar\n"
          ]
        }
      ]
    },
    {
      "cell_type": "code",
      "metadata": {
        "id": "JlV9KrxJr57A"
      },
      "source": [
        ""
      ],
      "execution_count": null,
      "outputs": []
    }
  ]
}