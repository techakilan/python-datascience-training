{
  "nbformat": 4,
  "nbformat_minor": 0,
  "metadata": {
    "colab": {
      "name": "PythonBasicDataAnalysis.ipynb",
      "provenance": [],
      "authorship_tag": "ABX9TyNT+rQPXJMlWv5WpsEoFH/t",
      "include_colab_link": true
    },
    "kernelspec": {
      "name": "python3",
      "display_name": "Python 3"
    },
    "language_info": {
      "name": "python"
    }
  },
  "cells": [
    {
      "cell_type": "markdown",
      "metadata": {
        "id": "view-in-github",
        "colab_type": "text"
      },
      "source": [
        "<a href=\"https://colab.research.google.com/github/techakilan/python-datascience-training/blob/master/PythonBasicDataAnalysis.ipynb\" target=\"_parent\"><img src=\"https://colab.research.google.com/assets/colab-badge.svg\" alt=\"Open In Colab\"/></a>"
      ]
    },
    {
      "cell_type": "code",
      "metadata": {
        "id": "pNx5i5MvryUo"
      },
      "source": [
        "import pandas as pd\n",
        "import numpy as np"
      ],
      "execution_count": 12,
      "outputs": []
    },
    {
      "cell_type": "markdown",
      "metadata": {
        "id": "DZ5X7pdkrRi0"
      },
      "source": [
        "### CSV from Google drive"
      ]
    },
    {
      "cell_type": "markdown",
      "metadata": {
        "id": "D6TWtpnTrWSA"
      },
      "source": [
        "##### Mount from google drive"
      ]
    },
    {
      "cell_type": "code",
      "metadata": {
        "colab": {
          "base_uri": "https://localhost:8080/"
        },
        "id": "cqdqFoUjrUYh",
        "outputId": "d1fa54f4-787e-4ada-eb85-2d2e841deb9c"
      },
      "source": [
        "from google.colab import drive\n",
        "drive.mount('/content/drive')"
      ],
      "execution_count": 13,
      "outputs": [
        {
          "output_type": "stream",
          "name": "stdout",
          "text": [
            "Drive already mounted at /content/drive; to attempt to forcibly remount, call drive.mount(\"/content/drive\", force_remount=True).\n"
          ]
        }
      ]
    },
    {
      "cell_type": "markdown",
      "metadata": {
        "id": "GjUwJTW4rm6e"
      },
      "source": [
        "##### Import csv file from google drive and create dataframe"
      ]
    },
    {
      "cell_type": "code",
      "metadata": {
        "id": "iYPvvdjsvZJp"
      },
      "source": [
        "train_df = pd.read_csv('/content/drive/MyDrive/colabs_data/titanic/train.csv')\n",
        "train_df"
      ],
      "execution_count": null,
      "outputs": []
    },
    {
      "cell_type": "code",
      "metadata": {
        "id": "w1zsMx_rrlt5"
      },
      "source": [
        "test_df = pd.read_csv('/content/drive/MyDrive/colabs_data/titanic/test.csv')\n",
        "test_df"
      ],
      "execution_count": null,
      "outputs": []
    },
    {
      "cell_type": "markdown",
      "metadata": {
        "id": "qN19YTdgsES8"
      },
      "source": [
        "##### head()"
      ]
    },
    {
      "cell_type": "code",
      "metadata": {
        "id": "DuZiUjDMsBzc"
      },
      "source": [
        "train_df.head()"
      ],
      "execution_count": null,
      "outputs": []
    },
    {
      "cell_type": "code",
      "metadata": {
        "id": "ntLf8hPgsK9a"
      },
      "source": [
        "train_df.head(10)"
      ],
      "execution_count": null,
      "outputs": []
    },
    {
      "cell_type": "markdown",
      "metadata": {
        "id": "TrTxi4cWsUJw"
      },
      "source": [
        "##### tail()"
      ]
    },
    {
      "cell_type": "code",
      "metadata": {
        "id": "LOQNqBY0sXow"
      },
      "source": [
        "train_df.tail()"
      ],
      "execution_count": null,
      "outputs": []
    },
    {
      "cell_type": "code",
      "metadata": {
        "id": "vKbyq06cseha"
      },
      "source": [
        "train_df.tail(10)"
      ],
      "execution_count": null,
      "outputs": []
    },
    {
      "cell_type": "markdown",
      "metadata": {
        "id": "bYBVspfh87io"
      },
      "source": [
        "##### shape()"
      ]
    },
    {
      "cell_type": "code",
      "metadata": {
        "colab": {
          "base_uri": "https://localhost:8080/"
        },
        "id": "4n5q703W8-Cv",
        "outputId": "99141d6a-8d90-485a-e2c7-de5f2d6c6924"
      },
      "source": [
        "train_df.shape"
      ],
      "execution_count": null,
      "outputs": [
        {
          "output_type": "execute_result",
          "data": {
            "text/plain": [
              "(891, 12)"
            ]
          },
          "metadata": {},
          "execution_count": 5
        }
      ]
    },
    {
      "cell_type": "code",
      "metadata": {
        "colab": {
          "base_uri": "https://localhost:8080/"
        },
        "id": "9gOvnnjQ9BJn",
        "outputId": "c594778a-7dbc-45fc-df92-31c8dee14364"
      },
      "source": [
        "test_df.shape"
      ],
      "execution_count": null,
      "outputs": [
        {
          "output_type": "execute_result",
          "data": {
            "text/plain": [
              "(418, 11)"
            ]
          },
          "metadata": {},
          "execution_count": 6
        }
      ]
    },
    {
      "cell_type": "markdown",
      "metadata": {
        "id": "_AeE0Uq6skwp"
      },
      "source": [
        "##### Get info() of the Dataframe"
      ]
    },
    {
      "cell_type": "code",
      "metadata": {
        "id": "oE940uursqTN"
      },
      "source": [
        "train_df.info()"
      ],
      "execution_count": null,
      "outputs": []
    },
    {
      "cell_type": "code",
      "metadata": {
        "id": "NrN5Tt8IwNNF"
      },
      "source": [
        "train_df.describe()"
      ],
      "execution_count": null,
      "outputs": []
    },
    {
      "cell_type": "markdown",
      "metadata": {
        "id": "hLlnJYtpwr5l"
      },
      "source": [
        "38% of the passengers survived"
      ]
    },
    {
      "cell_type": "markdown",
      "metadata": {
        "id": "CDDj7mgExFmC"
      },
      "source": [
        "#### Missing data"
      ]
    },
    {
      "cell_type": "code",
      "metadata": {
        "colab": {
          "base_uri": "https://localhost:8080/"
        },
        "id": "_TPEfc4mxE8b",
        "outputId": "9c97b2ef-ccc8-4168-b34e-62d968cffc74"
      },
      "source": [
        "# missing values as absolute number\n",
        "\n",
        "train_df.isnull().sum()"
      ],
      "execution_count": null,
      "outputs": [
        {
          "output_type": "execute_result",
          "data": {
            "text/plain": [
              "PassengerId      0\n",
              "Survived         0\n",
              "Pclass           0\n",
              "Name             0\n",
              "Sex              0\n",
              "Age            177\n",
              "SibSp            0\n",
              "Parch            0\n",
              "Ticket           0\n",
              "Fare             0\n",
              "Cabin          687\n",
              "Embarked         2\n",
              "dtype: int64"
            ]
          },
          "metadata": {},
          "execution_count": 18
        }
      ]
    },
    {
      "cell_type": "code",
      "metadata": {
        "colab": {
          "base_uri": "https://localhost:8080/"
        },
        "id": "rjN6kA23xltf",
        "outputId": "19dbe725-3416-4189-ddcc-46ff14c9038b"
      },
      "source": [
        "# missing values as percentages\n",
        "\n",
        "missingvals = train_df.isnull().sum()/len(train_df)\n",
        "missingvals.sort_values(ascending=False)"
      ],
      "execution_count": null,
      "outputs": [
        {
          "output_type": "execute_result",
          "data": {
            "text/plain": [
              "Cabin          0.771044\n",
              "Age            0.198653\n",
              "Embarked       0.002245\n",
              "Fare           0.000000\n",
              "Ticket         0.000000\n",
              "Parch          0.000000\n",
              "SibSp          0.000000\n",
              "Sex            0.000000\n",
              "Name           0.000000\n",
              "Pclass         0.000000\n",
              "Survived       0.000000\n",
              "PassengerId    0.000000\n",
              "dtype: float64"
            ]
          },
          "metadata": {},
          "execution_count": 23
        }
      ]
    },
    {
      "cell_type": "code",
      "metadata": {
        "id": "DonyLHtNYsie",
        "outputId": "81b4ba42-4abb-4d83-bedf-9da55fc13ad3",
        "colab": {
          "base_uri": "https://localhost:8080/"
        }
      },
      "source": [
        "train_df.nunique()"
      ],
      "execution_count": 10,
      "outputs": [
        {
          "output_type": "execute_result",
          "data": {
            "text/plain": [
              "PassengerId    891\n",
              "Survived         2\n",
              "Pclass           3\n",
              "Name           891\n",
              "Sex              2\n",
              "Age             88\n",
              "SibSp            7\n",
              "Parch            7\n",
              "Ticket         681\n",
              "Fare           248\n",
              "Cabin          147\n",
              "Embarked         3\n",
              "dtype: int64"
            ]
          },
          "metadata": {},
          "execution_count": 10
        }
      ]
    },
    {
      "cell_type": "markdown",
      "metadata": {
        "id": "0fqOwzSIXLm9"
      },
      "source": [
        "##### Age"
      ]
    },
    {
      "cell_type": "code",
      "metadata": {
        "id": "kCR7BHT6XNBQ"
      },
      "source": [
        "train_df['Age'] = train_df['Age'].fillna(train_df['Age'].dropna().median())"
      ],
      "execution_count": 22,
      "outputs": []
    },
    {
      "cell_type": "code",
      "metadata": {
        "id": "ZA4FEknDXbuC",
        "outputId": "a8d90368-d1b0-49f7-ee0e-0e1b57739122",
        "colab": {
          "base_uri": "https://localhost:8080/"
        }
      },
      "source": [
        "# check number of missing values\n",
        "train_df['Age'].isna().sum()"
      ],
      "execution_count": 9,
      "outputs": [
        {
          "output_type": "execute_result",
          "data": {
            "text/plain": [
              "0"
            ]
          },
          "metadata": {},
          "execution_count": 9
        }
      ]
    },
    {
      "cell_type": "markdown",
      "metadata": {
        "id": "GqN4saxPYDSa"
      },
      "source": [
        "##### Embarked"
      ]
    },
    {
      "cell_type": "code",
      "metadata": {
        "id": "0USxqkWPYIB9",
        "outputId": "dceca665-9b79-43cb-e092-493c8681aa08",
        "colab": {
          "base_uri": "https://localhost:8080/"
        }
      },
      "source": [
        "train_df[\"Embarked\"].value_counts()"
      ],
      "execution_count": 19,
      "outputs": [
        {
          "output_type": "execute_result",
          "data": {
            "text/plain": [
              "S    644\n",
              "C    168\n",
              "Q     77\n",
              "Name: Embarked, dtype: int64"
            ]
          },
          "metadata": {},
          "execution_count": 19
        }
      ]
    },
    {
      "cell_type": "code",
      "metadata": {
        "id": "Jy64U5myrpmS"
      },
      "source": [
        "train_df[\"Embarked\"] = train_df[\"Embarked\"].fillna('S')"
      ],
      "execution_count": 20,
      "outputs": []
    },
    {
      "cell_type": "markdown",
      "metadata": {
        "id": "XjOo3l-iAUGt"
      },
      "source": [
        "##### Cabin"
      ]
    },
    {
      "cell_type": "code",
      "metadata": {
        "id": "8Y45c1otAVve"
      },
      "source": [
        "train_df['Cabin'] = train_df['Cabin'].fillna(\"U0\")"
      ],
      "execution_count": 24,
      "outputs": []
    },
    {
      "cell_type": "code",
      "metadata": {
        "id": "B-9nT1u5AcTJ"
      },
      "source": [
        "train_df['Cabin']"
      ],
      "execution_count": null,
      "outputs": []
    },
    {
      "cell_type": "code",
      "metadata": {
        "id": "QO9oo235sZN1",
        "outputId": "6af875f7-7384-43c6-bbb2-43dabaf0302e",
        "colab": {
          "base_uri": "https://localhost:8080/"
        }
      },
      "source": [
        "missingvals = train_df.isnull().sum()/len(train_df)\n",
        "missingvals.sort_values(ascending=False)"
      ],
      "execution_count": 25,
      "outputs": [
        {
          "output_type": "execute_result",
          "data": {
            "text/plain": [
              "Embarked       0.0\n",
              "Cabin          0.0\n",
              "Fare           0.0\n",
              "Ticket         0.0\n",
              "Parch          0.0\n",
              "SibSp          0.0\n",
              "Age            0.0\n",
              "Sex            0.0\n",
              "Name           0.0\n",
              "Pclass         0.0\n",
              "Survived       0.0\n",
              "PassengerId    0.0\n",
              "dtype: float64"
            ]
          },
          "metadata": {},
          "execution_count": 25
        }
      ]
    },
    {
      "cell_type": "code",
      "metadata": {
        "id": "1b8HQ9GkAvdY"
      },
      "source": [
        "[x[0] for x in train_df['Cabin'].unique() if isinstance(x,str)]"
      ],
      "execution_count": null,
      "outputs": []
    },
    {
      "cell_type": "code",
      "metadata": {
        "id": "ESivF4HyA8K3",
        "colab": {
          "base_uri": "https://localhost:8080/"
        },
        "outputId": "8efc4e21-5dac-4e2a-f888-e1900e0c3ece"
      },
      "source": [
        "np.unique([x[0] for x in train_df['Cabin'].unique() if isinstance(x,str)])"
      ],
      "execution_count": null,
      "outputs": [
        {
          "output_type": "execute_result",
          "data": {
            "text/plain": [
              "array(['A', 'B', 'C', 'D', 'E', 'F', 'G', 'T', 'U'], dtype='<U1')"
            ]
          },
          "metadata": {},
          "execution_count": 18
        }
      ]
    },
    {
      "cell_type": "code",
      "metadata": {
        "id": "BfLypE0jA-8A"
      },
      "source": [
        "deck = {\"A\": 1, \"B\": 2, \"C\": 3, \"D\": 4, \"E\": 5, \"F\": 6, \"G\": 7, \"T\": 8, \"U\":9}"
      ],
      "execution_count": null,
      "outputs": []
    }
  ]
}