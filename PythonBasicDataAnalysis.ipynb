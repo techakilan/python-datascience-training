{
  "nbformat": 4,
  "nbformat_minor": 0,
  "metadata": {
    "colab": {
      "name": "PythonBasicDataAnalysis.ipynb",
      "provenance": [],
      "authorship_tag": "ABX9TyNr8Mb5WEqRdJRpNxu6MgC3",
      "include_colab_link": true
    },
    "kernelspec": {
      "name": "python3",
      "display_name": "Python 3"
    },
    "language_info": {
      "name": "python"
    }
  },
  "cells": [
    {
      "cell_type": "markdown",
      "metadata": {
        "id": "view-in-github",
        "colab_type": "text"
      },
      "source": [
        "<a href=\"https://colab.research.google.com/github/techakilan/python-datascience-training/blob/master/PythonBasicDataAnalysis.ipynb\" target=\"_parent\"><img src=\"https://colab.research.google.com/assets/colab-badge.svg\" alt=\"Open In Colab\"/></a>"
      ]
    },
    {
      "cell_type": "code",
      "metadata": {
        "id": "pNx5i5MvryUo"
      },
      "source": [
        "import pandas as pd\n",
        "import numpy as np"
      ],
      "execution_count": null,
      "outputs": []
    },
    {
      "cell_type": "markdown",
      "metadata": {
        "id": "DZ5X7pdkrRi0"
      },
      "source": [
        "### CSV from Google drive"
      ]
    },
    {
      "cell_type": "markdown",
      "metadata": {
        "id": "D6TWtpnTrWSA"
      },
      "source": [
        "##### Mount from google drive"
      ]
    },
    {
      "cell_type": "code",
      "metadata": {
        "id": "cqdqFoUjrUYh"
      },
      "source": [
        "from google.colab import drive\n",
        "drive.mount('/content/drive')"
      ],
      "execution_count": null,
      "outputs": []
    },
    {
      "cell_type": "markdown",
      "metadata": {
        "id": "GjUwJTW4rm6e"
      },
      "source": [
        "##### Import csv file from google drive and create dataframe"
      ]
    },
    {
      "cell_type": "code",
      "metadata": {
        "id": "iYPvvdjsvZJp"
      },
      "source": [
        "train_df = pd.read_csv('/content/drive/MyDrive/colabs_data/titanic/train.csv')\n",
        "train_df"
      ],
      "execution_count": null,
      "outputs": []
    },
    {
      "cell_type": "code",
      "metadata": {
        "id": "w1zsMx_rrlt5"
      },
      "source": [
        "test_df = pd.read_csv('/content/drive/MyDrive/colabs_data/titanic/test.csv')\n",
        "test_df"
      ],
      "execution_count": null,
      "outputs": []
    },
    {
      "cell_type": "markdown",
      "metadata": {
        "id": "qN19YTdgsES8"
      },
      "source": [
        "##### head()"
      ]
    },
    {
      "cell_type": "code",
      "metadata": {
        "id": "DuZiUjDMsBzc"
      },
      "source": [
        "train_df.head()"
      ],
      "execution_count": null,
      "outputs": []
    },
    {
      "cell_type": "code",
      "metadata": {
        "id": "ntLf8hPgsK9a"
      },
      "source": [
        "train_df.head(10)"
      ],
      "execution_count": null,
      "outputs": []
    },
    {
      "cell_type": "markdown",
      "metadata": {
        "id": "TrTxi4cWsUJw"
      },
      "source": [
        "##### tail()"
      ]
    },
    {
      "cell_type": "code",
      "metadata": {
        "id": "LOQNqBY0sXow"
      },
      "source": [
        "train_df.tail()"
      ],
      "execution_count": null,
      "outputs": []
    },
    {
      "cell_type": "code",
      "metadata": {
        "id": "vKbyq06cseha"
      },
      "source": [
        "train_df.tail(10)"
      ],
      "execution_count": null,
      "outputs": []
    },
    {
      "cell_type": "markdown",
      "metadata": {
        "id": "bYBVspfh87io"
      },
      "source": [
        "##### shape()"
      ]
    },
    {
      "cell_type": "code",
      "metadata": {
        "id": "4n5q703W8-Cv"
      },
      "source": [
        "train_df.shape"
      ],
      "execution_count": null,
      "outputs": []
    },
    {
      "cell_type": "code",
      "metadata": {
        "id": "9gOvnnjQ9BJn"
      },
      "source": [
        "test_df.shape"
      ],
      "execution_count": null,
      "outputs": []
    },
    {
      "cell_type": "markdown",
      "metadata": {
        "id": "_AeE0Uq6skwp"
      },
      "source": [
        "##### Get info() of the Dataframe"
      ]
    },
    {
      "cell_type": "code",
      "metadata": {
        "id": "oE940uursqTN"
      },
      "source": [
        "train_df.info()"
      ],
      "execution_count": null,
      "outputs": []
    },
    {
      "cell_type": "code",
      "metadata": {
        "id": "NrN5Tt8IwNNF"
      },
      "source": [
        "train_df.describe()"
      ],
      "execution_count": null,
      "outputs": []
    },
    {
      "cell_type": "markdown",
      "metadata": {
        "id": "hLlnJYtpwr5l"
      },
      "source": [
        "38% of the passengers survived"
      ]
    },
    {
      "cell_type": "markdown",
      "metadata": {
        "id": "CDDj7mgExFmC"
      },
      "source": [
        "#### Missing data"
      ]
    },
    {
      "cell_type": "code",
      "metadata": {
        "id": "_TPEfc4mxE8b"
      },
      "source": [
        "# missing values as absolute number\n",
        "\n",
        "train_df.isnull().sum()"
      ],
      "execution_count": null,
      "outputs": []
    },
    {
      "cell_type": "code",
      "metadata": {
        "id": "rjN6kA23xltf"
      },
      "source": [
        "# missing values as percentages\n",
        "\n",
        "missingvals = train_df.isnull().sum()/len(train_df)\n",
        "missingvals.sort_values(ascending=False)"
      ],
      "execution_count": null,
      "outputs": []
    },
    {
      "cell_type": "code",
      "metadata": {
        "id": "DonyLHtNYsie"
      },
      "source": [
        "train_df.nunique()"
      ],
      "execution_count": null,
      "outputs": []
    },
    {
      "cell_type": "markdown",
      "metadata": {
        "id": "0fqOwzSIXLm9"
      },
      "source": [
        "##### Age"
      ]
    },
    {
      "cell_type": "code",
      "metadata": {
        "id": "kCR7BHT6XNBQ"
      },
      "source": [
        "train_df['Age'] = train_df['Age'].fillna(train_df['Age'].dropna().median())"
      ],
      "execution_count": null,
      "outputs": []
    },
    {
      "cell_type": "code",
      "metadata": {
        "id": "ZA4FEknDXbuC"
      },
      "source": [
        "# check number of missing values\n",
        "train_df['Age'].isna().sum()"
      ],
      "execution_count": null,
      "outputs": []
    },
    {
      "cell_type": "markdown",
      "metadata": {
        "id": "GqN4saxPYDSa"
      },
      "source": [
        "##### Embarked"
      ]
    },
    {
      "cell_type": "code",
      "metadata": {
        "id": "0USxqkWPYIB9"
      },
      "source": [
        "train_df[\"Embarked\"].value_counts()"
      ],
      "execution_count": null,
      "outputs": []
    },
    {
      "cell_type": "code",
      "metadata": {
        "id": "Jy64U5myrpmS"
      },
      "source": [
        "train_df[\"Embarked\"] = train_df[\"Embarked\"].fillna('S')"
      ],
      "execution_count": null,
      "outputs": []
    },
    {
      "cell_type": "markdown",
      "metadata": {
        "id": "XjOo3l-iAUGt"
      },
      "source": [
        "##### Cabin"
      ]
    },
    {
      "cell_type": "code",
      "metadata": {
        "id": "8Y45c1otAVve"
      },
      "source": [
        "train_df['CabinM'] = train_df['Cabin'].fillna(\"U0\")"
      ],
      "execution_count": null,
      "outputs": []
    },
    {
      "cell_type": "code",
      "metadata": {
        "id": "B-9nT1u5AcTJ"
      },
      "source": [
        "train_df['CabinM']"
      ],
      "execution_count": null,
      "outputs": []
    },
    {
      "cell_type": "code",
      "metadata": {
        "id": "QO9oo235sZN1"
      },
      "source": [
        "missingvals = train_df.isnull().sum()/len(train_df)\n",
        "missingvals.sort_values(ascending=False)"
      ],
      "execution_count": null,
      "outputs": []
    },
    {
      "cell_type": "markdown",
      "metadata": {
        "id": "0IpqowRjtF82"
      },
      "source": [
        "#### Data exploration"
      ]
    },
    {
      "cell_type": "code",
      "metadata": {
        "id": "SYc3OwgAtKej"
      },
      "source": [
        "train_df.columns"
      ],
      "execution_count": null,
      "outputs": []
    },
    {
      "cell_type": "markdown",
      "metadata": {
        "id": "ZdEpmF1svwM3"
      },
      "source": [
        "###### Seperate features into numerical and categorical"
      ]
    },
    {
      "cell_type": "code",
      "metadata": {
        "id": "swLdK8tdvveD"
      },
      "source": [
        "train_df_num = train_df[['Age','SibSp','Parch','Fare']]\n",
        "train_df_cat = train_df[['Survived','Pclass','Sex','Ticket','Cabin','Embarked']]"
      ],
      "execution_count": null,
      "outputs": []
    },
    {
      "cell_type": "code",
      "metadata": {
        "id": "XXpCK6LgwH5X"
      },
      "source": [
        "import seaborn as sns\n",
        "import matplotlib.pyplot as plt\n",
        "%matplotlib inline"
      ],
      "execution_count": null,
      "outputs": []
    },
    {
      "cell_type": "code",
      "metadata": {
        "id": "5WSoaIXzyigo"
      },
      "source": [
        "for i in train_df_num.columns:\n",
        "    plt.hist(train_df_num[i])\n",
        "    plt.title(i)\n",
        "    plt.show()"
      ],
      "execution_count": null,
      "outputs": []
    },
    {
      "cell_type": "markdown",
      "metadata": {
        "id": "7RjuIt8PzB_d"
      },
      "source": [
        "Age is close to normal. Others are scattered."
      ]
    },
    {
      "cell_type": "code",
      "metadata": {
        "id": "3s2t53SlwMn4"
      },
      "source": [
        "sns.heatmap(train_df_num.corr())"
      ],
      "execution_count": null,
      "outputs": []
    },
    {
      "cell_type": "markdown",
      "metadata": {
        "id": "7HMwPRV5xO0N"
      },
      "source": [
        "The only significant correlation is between SibSp and Parch"
      ]
    },
    {
      "cell_type": "code",
      "metadata": {
        "id": "nT-KK5H3wMxf"
      },
      "source": [
        "pd.pivot_table(train_df, index = 'Survived', values = ['Age','SibSp','Parch','Fare'])"
      ],
      "execution_count": null,
      "outputs": []
    },
    {
      "cell_type": "markdown",
      "metadata": {
        "id": "KF54aPfovALp"
      },
      "source": [
        "##### Survived"
      ]
    },
    {
      "cell_type": "code",
      "metadata": {
        "id": "UXMErdHIvhEU"
      },
      "source": [
        "for i in train_df_cat.columns:\n",
        "    sns.barplot(x=train_df_cat[i].value_counts().index,y=train_df_cat[i].value_counts()).set_title(i)\n",
        "    plt.show()"
      ],
      "execution_count": null,
      "outputs": []
    },
    {
      "cell_type": "markdown",
      "metadata": {
        "id": "MOh58YpaRSEg"
      },
      "source": [
        "Ticket and Cabin data is messy\n",
        "\n",
        "Majority of the people travelled 3rd class\n",
        "\n",
        "There were approx double the number of males compared to females\n",
        "\n",
        "Embarked: Most of the passengers boarded the ship from Southampton."
      ]
    },
    {
      "cell_type": "code",
      "metadata": {
        "id": "DN-h5o_ru_SN"
      },
      "source": [
        "print(pd.pivot_table(train_df, index = 'Survived', columns = 'Pclass',\n",
        "                     values = 'Ticket' ,aggfunc ='count'))\n",
        "print()\n",
        "print(pd.pivot_table(train_df, index = 'Survived', columns = 'Sex', \n",
        "                     values = 'Ticket' ,aggfunc ='count'))\n",
        "print()\n",
        "print(pd.pivot_table(train_df, index = 'Survived', columns = 'Embarked', \n",
        "                     values = 'Ticket' ,aggfunc ='count'))"
      ],
      "execution_count": null,
      "outputs": []
    },
    {
      "cell_type": "markdown",
      "metadata": {
        "id": "eo3wKaPUR9ZX"
      },
      "source": [
        "More people survived in the first class\n",
        "\n",
        "More women surviced compared to males\n",
        "\n",
        "Survived to Non survivor ratio is better for those embarked on Cherboug"
      ]
    },
    {
      "cell_type": "markdown",
      "metadata": {
        "id": "5m-dEu7dTb4w"
      },
      "source": [
        "### Feature engineering"
      ]
    },
    {
      "cell_type": "markdown",
      "metadata": {
        "id": "Mk9hJ2mHf4l9"
      },
      "source": [
        "##### Cabin"
      ]
    },
    {
      "cell_type": "code",
      "metadata": {
        "id": "1OKbSnKaduK9"
      },
      "source": [
        "[x for x in train_df.CabinM if len(x.split(' '))>1]"
      ],
      "execution_count": null,
      "outputs": []
    },
    {
      "cell_type": "code",
      "metadata": {
        "id": "1b8HQ9GkAvdY"
      },
      "source": [
        "train_df['cabin_multiple'] = train_df.Cabin.apply(lambda x: 0 if pd.isna(x) \n",
        "                                                    else len(x.split(' ')))\n",
        "train_df['cabin_multiple'].value_counts()\n",
        "\n"
      ],
      "execution_count": null,
      "outputs": []
    },
    {
      "cell_type": "code",
      "metadata": {
        "id": "ESivF4HyA8K3"
      },
      "source": [
        "pd.pivot_table(train_df, index = 'Survived', columns = 'cabin_multiple',\n",
        "               values = 'Ticket' ,aggfunc ='count')"
      ],
      "execution_count": null,
      "outputs": []
    },
    {
      "cell_type": "code",
      "metadata": {
        "id": "XylQIbI0gZZv"
      },
      "source": [
        "train_df['cabin_first_letter'] = train_df.Cabin.apply(lambda x: str(x)[0])\n",
        "#comparing survival rates by cabin\n",
        "print(train_df.cabin_first_letter.value_counts())\n",
        "pt_table = pd.pivot_table(train_df,index='Survived',columns='cabin_first_letter', \n",
        "                        values = 'Name', aggfunc='count')\n",
        "lbl = [x for x in pt_table]\n",
        "survivedvals = [pt_table[x][0] for x in pt_table]\n",
        "pct = [pt_table[x][1]/(pt_table[x][0]+pt_table[x][1]) for x in pt_table]\n",
        "\n",
        "pd.DataFrame(pct, lbl)"
      ],
      "execution_count": null,
      "outputs": []
    },
    {
      "cell_type": "markdown",
      "metadata": {
        "id": "Bg-3RnlsrMIu"
      },
      "source": [
        "We decide to drop Cabin"
      ]
    },
    {
      "cell_type": "code",
      "metadata": {
        "id": "HRz7TpdywZLr"
      },
      "source": [
        "train_df = train_df.drop([\"Cabin\", \"CabinM\",\"cabin_multiple\",\"cabin_first_letter\"], axis=1)"
      ],
      "execution_count": null,
      "outputs": []
    },
    {
      "cell_type": "code",
      "metadata": {
        "id": "2pDBPdWkw_nj"
      },
      "source": [
        "train_df"
      ],
      "execution_count": null,
      "outputs": []
    },
    {
      "cell_type": "markdown",
      "metadata": {
        "id": "tOyaj7EWrS__"
      },
      "source": [
        "##### Ticket"
      ]
    },
    {
      "cell_type": "code",
      "metadata": {
        "id": "FDA6rymCsCVP"
      },
      "source": [
        "train_df['numeric_ticket'] = train_df.Ticket.apply(lambda x: 1 if x.isnumeric() else 0)\n",
        "train_df['ticket_letters'] = train_df.Ticket.apply(lambda x: ''.join(x.split(' ')[:-1])\n",
        "                                            .replace('.','').replace('/','')\n",
        "                                            .lower() if len(x.split(' ')[:-1]) >0 else 0)"
      ],
      "execution_count": null,
      "outputs": []
    },
    {
      "cell_type": "code",
      "metadata": {
        "id": "TebOYNGhsVI4"
      },
      "source": [
        "train_df['numeric_ticket']"
      ],
      "execution_count": null,
      "outputs": []
    },
    {
      "cell_type": "code",
      "metadata": {
        "id": "tj1G3lFxsXjF"
      },
      "source": [
        "train_df['ticket_letters']"
      ],
      "execution_count": null,
      "outputs": []
    },
    {
      "cell_type": "code",
      "metadata": {
        "id": "ZafFgUzAw7tY"
      },
      "source": [
        "train_df = train_df.drop([\"Ticket\", \"ticket_letters\"], axis=1)"
      ],
      "execution_count": null,
      "outputs": []
    },
    {
      "cell_type": "markdown",
      "metadata": {
        "id": "TH-qYY5Kr8Oc"
      },
      "source": [
        "##### Name"
      ]
    },
    {
      "cell_type": "code",
      "metadata": {
        "id": "BfLypE0jA-8A"
      },
      "source": [
        "train_df['name_title'] = train_df.Name.apply(lambda x: x.split(',')[1]\n",
        "                                                        .split('.')[0].strip())\n",
        "train_df['name_title'].value_counts()"
      ],
      "execution_count": null,
      "outputs": []
    },
    {
      "cell_type": "code",
      "metadata": {
        "id": "Z3sS4dBTxR1f"
      },
      "source": [
        "train_df = train_df.drop([\"Name\"], axis=1)"
      ],
      "execution_count": null,
      "outputs": []
    },
    {
      "cell_type": "markdown",
      "metadata": {
        "id": "DnXGopOivxHY"
      },
      "source": [
        "##### Parch SibSp"
      ]
    },
    {
      "cell_type": "code",
      "metadata": {
        "id": "dfGSmPgDv9uo"
      },
      "source": [
        "train_df['Family'] = train_df.Parch + train_df.SibSp"
      ],
      "execution_count": null,
      "outputs": []
    },
    {
      "cell_type": "code",
      "metadata": {
        "id": "x2kuA9Y_v61Y"
      },
      "source": [
        "train_df['Is_Alone'] = train_df.Family == 0"
      ],
      "execution_count": null,
      "outputs": []
    },
    {
      "cell_type": "code",
      "metadata": {
        "id": "niSzrpbLwHMj"
      },
      "source": [
        "train_df = train_df.drop([\"Family\",\"Parch\",\"SibSp\"], axis=1)"
      ],
      "execution_count": null,
      "outputs": []
    },
    {
      "cell_type": "code",
      "metadata": {
        "id": "jersWxsGuZ1N"
      },
      "source": [
        "train_df.loc[0]"
      ],
      "execution_count": null,
      "outputs": []
    },
    {
      "cell_type": "markdown",
      "metadata": {
        "id": "ueHinnHUu8xo"
      },
      "source": [
        "##### Encoding"
      ]
    },
    {
      "cell_type": "code",
      "metadata": {
        "id": "5c6lpr0z1C82"
      },
      "source": [
        "from sklearn import preprocessing"
      ],
      "execution_count": null,
      "outputs": []
    },
    {
      "cell_type": "code",
      "metadata": {
        "id": "4qp849UTuzRb"
      },
      "source": [
        "# Encode Age\n",
        "train_df['Sex'] = preprocessing.LabelEncoder().fit_transform(train_df['Sex'])\n"
      ],
      "execution_count": null,
      "outputs": []
    },
    {
      "cell_type": "code",
      "metadata": {
        "id": "SwhzcuaH4yC2"
      },
      "source": [
        "train_df['Sex'] "
      ],
      "execution_count": null,
      "outputs": []
    },
    {
      "cell_type": "code",
      "metadata": {
        "id": "zvjc7sqTzmLL"
      },
      "source": [
        "# Encode Embarked\n",
        "train_df  = pd.get_dummies(train_df, columns=[\"Embarked\"], prefix=\"Emb\", drop_first = True)"
      ],
      "execution_count": null,
      "outputs": []
    },
    {
      "cell_type": "code",
      "metadata": {
        "id": "xfMA3EdMy7gA"
      },
      "source": [
        "train_df.loc[0]"
      ],
      "execution_count": null,
      "outputs": []
    },
    {
      "cell_type": "code",
      "metadata": {
        "id": "41HiK_a_1ege"
      },
      "source": [
        "# Encode Name title\n",
        "train_df = pd.get_dummies(train_df, columns=[\"name_title\"], prefix=\"Name\", drop_first = True)"
      ],
      "execution_count": null,
      "outputs": []
    },
    {
      "cell_type": "code",
      "metadata": {
        "id": "FgNHlC9k2eIH"
      },
      "source": [
        "# Encode Is_Alone\n",
        "\n"
      ],
      "execution_count": null,
      "outputs": []
    }
  ]
}