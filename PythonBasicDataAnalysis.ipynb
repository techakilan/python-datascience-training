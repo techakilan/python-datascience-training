{
  "nbformat": 4,
  "nbformat_minor": 0,
  "metadata": {
    "colab": {
      "name": "PythonBasicDataAnalysis.ipynb",
      "provenance": [],
      "authorship_tag": "ABX9TyNV49ozTnNJaYr6lDxDiyWq",
      "include_colab_link": true
    },
    "kernelspec": {
      "name": "python3",
      "display_name": "Python 3"
    },
    "language_info": {
      "name": "python"
    }
  },
  "cells": [
    {
      "cell_type": "markdown",
      "metadata": {
        "id": "view-in-github",
        "colab_type": "text"
      },
      "source": [
        "<a href=\"https://colab.research.google.com/github/techakilan/python-datascience-training/blob/master/PythonBasicDataAnalysis.ipynb\" target=\"_parent\"><img src=\"https://colab.research.google.com/assets/colab-badge.svg\" alt=\"Open In Colab\"/></a>"
      ]
    },
    {
      "cell_type": "code",
      "metadata": {
        "id": "pNx5i5MvryUo"
      },
      "source": [
        "import pandas as pd"
      ],
      "execution_count": 3,
      "outputs": []
    },
    {
      "cell_type": "markdown",
      "metadata": {
        "id": "DZ5X7pdkrRi0"
      },
      "source": [
        "### CSV from Google drive"
      ]
    },
    {
      "cell_type": "markdown",
      "metadata": {
        "id": "D6TWtpnTrWSA"
      },
      "source": [
        "##### Mount from google drive"
      ]
    },
    {
      "cell_type": "code",
      "metadata": {
        "colab": {
          "base_uri": "https://localhost:8080/"
        },
        "id": "cqdqFoUjrUYh",
        "outputId": "561856a9-45ba-4f5d-f571-774863222b72"
      },
      "source": [
        "from google.colab import drive\n",
        "drive.mount('/content/drive')"
      ],
      "execution_count": 1,
      "outputs": [
        {
          "output_type": "stream",
          "name": "stdout",
          "text": [
            "Mounted at /content/drive\n"
          ]
        }
      ]
    },
    {
      "cell_type": "markdown",
      "metadata": {
        "id": "GjUwJTW4rm6e"
      },
      "source": [
        "##### Import csv file from google drive and create dataframe"
      ]
    },
    {
      "cell_type": "code",
      "metadata": {
        "id": "iYPvvdjsvZJp"
      },
      "source": [
        "train_df = pd.read_csv('/content/drive/MyDrive/colabs_data/titanic/train.csv')\n",
        "train_df"
      ],
      "execution_count": null,
      "outputs": []
    },
    {
      "cell_type": "code",
      "metadata": {
        "id": "w1zsMx_rrlt5"
      },
      "source": [
        "test_df = pd.read_csv('/content/drive/MyDrive/colabs_data/titanic/test.csv')\n",
        "test_df"
      ],
      "execution_count": null,
      "outputs": []
    },
    {
      "cell_type": "markdown",
      "metadata": {
        "id": "qN19YTdgsES8"
      },
      "source": [
        "##### head()"
      ]
    },
    {
      "cell_type": "code",
      "metadata": {
        "id": "DuZiUjDMsBzc"
      },
      "source": [
        "train_df.head()"
      ],
      "execution_count": null,
      "outputs": []
    },
    {
      "cell_type": "code",
      "metadata": {
        "id": "ntLf8hPgsK9a"
      },
      "source": [
        "train_df.head(10)"
      ],
      "execution_count": null,
      "outputs": []
    },
    {
      "cell_type": "markdown",
      "metadata": {
        "id": "TrTxi4cWsUJw"
      },
      "source": [
        "##### tail()"
      ]
    },
    {
      "cell_type": "code",
      "metadata": {
        "id": "LOQNqBY0sXow"
      },
      "source": [
        "train_df.tail()"
      ],
      "execution_count": null,
      "outputs": []
    },
    {
      "cell_type": "code",
      "metadata": {
        "id": "vKbyq06cseha"
      },
      "source": [
        "train_df.tail(10)"
      ],
      "execution_count": null,
      "outputs": []
    },
    {
      "cell_type": "markdown",
      "metadata": {
        "id": "_AeE0Uq6skwp"
      },
      "source": [
        "##### Get info() of the Dataframe"
      ]
    },
    {
      "cell_type": "code",
      "metadata": {
        "id": "oE940uursqTN"
      },
      "source": [
        "train_df.info()"
      ],
      "execution_count": null,
      "outputs": []
    },
    {
      "cell_type": "code",
      "metadata": {
        "id": "NrN5Tt8IwNNF"
      },
      "source": [
        "train_df.describe()"
      ],
      "execution_count": null,
      "outputs": []
    },
    {
      "cell_type": "markdown",
      "metadata": {
        "id": "hLlnJYtpwr5l"
      },
      "source": [
        "38% of the passengers survived"
      ]
    },
    {
      "cell_type": "markdown",
      "metadata": {
        "id": "CDDj7mgExFmC"
      },
      "source": [
        "#### Missing data"
      ]
    },
    {
      "cell_type": "code",
      "metadata": {
        "id": "_TPEfc4mxE8b",
        "outputId": "9c97b2ef-ccc8-4168-b34e-62d968cffc74",
        "colab": {
          "base_uri": "https://localhost:8080/"
        }
      },
      "source": [
        "# missing values as absolute number\n",
        "\n",
        "train_df.isnull().sum()"
      ],
      "execution_count": 18,
      "outputs": [
        {
          "output_type": "execute_result",
          "data": {
            "text/plain": [
              "PassengerId      0\n",
              "Survived         0\n",
              "Pclass           0\n",
              "Name             0\n",
              "Sex              0\n",
              "Age            177\n",
              "SibSp            0\n",
              "Parch            0\n",
              "Ticket           0\n",
              "Fare             0\n",
              "Cabin          687\n",
              "Embarked         2\n",
              "dtype: int64"
            ]
          },
          "metadata": {},
          "execution_count": 18
        }
      ]
    },
    {
      "cell_type": "code",
      "metadata": {
        "id": "rjN6kA23xltf",
        "outputId": "19dbe725-3416-4189-ddcc-46ff14c9038b",
        "colab": {
          "base_uri": "https://localhost:8080/"
        }
      },
      "source": [
        "# missing values as percentages\n",
        "\n",
        "missingvals = train_df.isnull().sum()/len(train_df)\n",
        "missingvals.sort_values(ascending=False)"
      ],
      "execution_count": 23,
      "outputs": [
        {
          "output_type": "execute_result",
          "data": {
            "text/plain": [
              "Cabin          0.771044\n",
              "Age            0.198653\n",
              "Embarked       0.002245\n",
              "Fare           0.000000\n",
              "Ticket         0.000000\n",
              "Parch          0.000000\n",
              "SibSp          0.000000\n",
              "Sex            0.000000\n",
              "Name           0.000000\n",
              "Pclass         0.000000\n",
              "Survived       0.000000\n",
              "PassengerId    0.000000\n",
              "dtype: float64"
            ]
          },
          "metadata": {},
          "execution_count": 23
        }
      ]
    },
    {
      "cell_type": "code",
      "metadata": {
        "id": "-V_lE9V1zKGB"
      },
      "source": [
        ""
      ],
      "execution_count": null,
      "outputs": []
    }
  ]
}