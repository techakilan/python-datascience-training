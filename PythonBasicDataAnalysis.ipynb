{
  "nbformat": 4,
  "nbformat_minor": 0,
  "metadata": {
    "colab": {
      "name": "PythonBasicDataAnalysis.ipynb",
      "provenance": [],
      "authorship_tag": "ABX9TyNxmBQRQASjtxDLu5DLy1L3",
      "include_colab_link": true
    },
    "kernelspec": {
      "name": "python3",
      "display_name": "Python 3"
    },
    "language_info": {
      "name": "python"
    }
  },
  "cells": [
    {
      "cell_type": "markdown",
      "metadata": {
        "id": "view-in-github",
        "colab_type": "text"
      },
      "source": [
        "<a href=\"https://colab.research.google.com/github/techakilan/python-datascience-training/blob/master/PythonBasicDataAnalysis.ipynb\" target=\"_parent\"><img src=\"https://colab.research.google.com/assets/colab-badge.svg\" alt=\"Open In Colab\"/></a>"
      ]
    },
    {
      "cell_type": "markdown",
      "metadata": {
        "id": "LZRWlEGjmftm"
      },
      "source": [
        "Another approach https://www.kaggle.com/steffanj/titanic-preprocessing-eda-and-ml-in-python"
      ]
    },
    {
      "cell_type": "code",
      "metadata": {
        "id": "pNx5i5MvryUo"
      },
      "source": [
        "import pandas as pd\n",
        "import numpy as np"
      ],
      "execution_count": null,
      "outputs": []
    },
    {
      "cell_type": "markdown",
      "metadata": {
        "id": "DZ5X7pdkrRi0"
      },
      "source": [
        "### CSV from Google drive"
      ]
    },
    {
      "cell_type": "markdown",
      "metadata": {
        "id": "D6TWtpnTrWSA"
      },
      "source": [
        "##### Mount from google drive"
      ]
    },
    {
      "cell_type": "code",
      "metadata": {
        "colab": {
          "base_uri": "https://localhost:8080/"
        },
        "id": "cqdqFoUjrUYh",
        "outputId": "bb260039-d769-4932-e6f9-a2be7fe5676d"
      },
      "source": [
        "from google.colab import drive\n",
        "drive.mount('/content/drive')"
      ],
      "execution_count": null,
      "outputs": [
        {
          "output_type": "stream",
          "name": "stdout",
          "text": [
            "Drive already mounted at /content/drive; to attempt to forcibly remount, call drive.mount(\"/content/drive\", force_remount=True).\n"
          ]
        }
      ]
    },
    {
      "cell_type": "markdown",
      "metadata": {
        "id": "GjUwJTW4rm6e"
      },
      "source": [
        "##### Import csv file from google drive and create dataframe"
      ]
    },
    {
      "cell_type": "code",
      "metadata": {
        "id": "iYPvvdjsvZJp",
        "colab": {
          "base_uri": "https://localhost:8080/",
          "height": 510
        },
        "outputId": "fd345662-426c-4c37-928a-ce6be5e4dbb5"
      },
      "source": [
        "train_df = pd.read_csv('/content/drive/MyDrive/colabs_data/titanic/train.csv')\n",
        "train_df"
      ],
      "execution_count": null,
      "outputs": [
        {
          "output_type": "execute_result",
          "data": {
            "text/html": [
              "<div>\n",
              "<style scoped>\n",
              "    .dataframe tbody tr th:only-of-type {\n",
              "        vertical-align: middle;\n",
              "    }\n",
              "\n",
              "    .dataframe tbody tr th {\n",
              "        vertical-align: top;\n",
              "    }\n",
              "\n",
              "    .dataframe thead th {\n",
              "        text-align: right;\n",
              "    }\n",
              "</style>\n",
              "<table border=\"1\" class=\"dataframe\">\n",
              "  <thead>\n",
              "    <tr style=\"text-align: right;\">\n",
              "      <th></th>\n",
              "      <th>PassengerId</th>\n",
              "      <th>Survived</th>\n",
              "      <th>Pclass</th>\n",
              "      <th>Name</th>\n",
              "      <th>Sex</th>\n",
              "      <th>Age</th>\n",
              "      <th>SibSp</th>\n",
              "      <th>Parch</th>\n",
              "      <th>Ticket</th>\n",
              "      <th>Fare</th>\n",
              "      <th>Cabin</th>\n",
              "      <th>Embarked</th>\n",
              "    </tr>\n",
              "  </thead>\n",
              "  <tbody>\n",
              "    <tr>\n",
              "      <th>0</th>\n",
              "      <td>1</td>\n",
              "      <td>0</td>\n",
              "      <td>3</td>\n",
              "      <td>Braund, Mr. Owen Harris</td>\n",
              "      <td>male</td>\n",
              "      <td>22.0</td>\n",
              "      <td>1</td>\n",
              "      <td>0</td>\n",
              "      <td>A/5 21171</td>\n",
              "      <td>7.2500</td>\n",
              "      <td>NaN</td>\n",
              "      <td>S</td>\n",
              "    </tr>\n",
              "    <tr>\n",
              "      <th>1</th>\n",
              "      <td>2</td>\n",
              "      <td>1</td>\n",
              "      <td>1</td>\n",
              "      <td>Cumings, Mrs. John Bradley (Florence Briggs Th...</td>\n",
              "      <td>female</td>\n",
              "      <td>38.0</td>\n",
              "      <td>1</td>\n",
              "      <td>0</td>\n",
              "      <td>PC 17599</td>\n",
              "      <td>71.2833</td>\n",
              "      <td>C85</td>\n",
              "      <td>C</td>\n",
              "    </tr>\n",
              "    <tr>\n",
              "      <th>2</th>\n",
              "      <td>3</td>\n",
              "      <td>1</td>\n",
              "      <td>3</td>\n",
              "      <td>Heikkinen, Miss. Laina</td>\n",
              "      <td>female</td>\n",
              "      <td>26.0</td>\n",
              "      <td>0</td>\n",
              "      <td>0</td>\n",
              "      <td>STON/O2. 3101282</td>\n",
              "      <td>7.9250</td>\n",
              "      <td>NaN</td>\n",
              "      <td>S</td>\n",
              "    </tr>\n",
              "    <tr>\n",
              "      <th>3</th>\n",
              "      <td>4</td>\n",
              "      <td>1</td>\n",
              "      <td>1</td>\n",
              "      <td>Futrelle, Mrs. Jacques Heath (Lily May Peel)</td>\n",
              "      <td>female</td>\n",
              "      <td>35.0</td>\n",
              "      <td>1</td>\n",
              "      <td>0</td>\n",
              "      <td>113803</td>\n",
              "      <td>53.1000</td>\n",
              "      <td>C123</td>\n",
              "      <td>S</td>\n",
              "    </tr>\n",
              "    <tr>\n",
              "      <th>4</th>\n",
              "      <td>5</td>\n",
              "      <td>0</td>\n",
              "      <td>3</td>\n",
              "      <td>Allen, Mr. William Henry</td>\n",
              "      <td>male</td>\n",
              "      <td>35.0</td>\n",
              "      <td>0</td>\n",
              "      <td>0</td>\n",
              "      <td>373450</td>\n",
              "      <td>8.0500</td>\n",
              "      <td>NaN</td>\n",
              "      <td>S</td>\n",
              "    </tr>\n",
              "    <tr>\n",
              "      <th>...</th>\n",
              "      <td>...</td>\n",
              "      <td>...</td>\n",
              "      <td>...</td>\n",
              "      <td>...</td>\n",
              "      <td>...</td>\n",
              "      <td>...</td>\n",
              "      <td>...</td>\n",
              "      <td>...</td>\n",
              "      <td>...</td>\n",
              "      <td>...</td>\n",
              "      <td>...</td>\n",
              "      <td>...</td>\n",
              "    </tr>\n",
              "    <tr>\n",
              "      <th>886</th>\n",
              "      <td>887</td>\n",
              "      <td>0</td>\n",
              "      <td>2</td>\n",
              "      <td>Montvila, Rev. Juozas</td>\n",
              "      <td>male</td>\n",
              "      <td>27.0</td>\n",
              "      <td>0</td>\n",
              "      <td>0</td>\n",
              "      <td>211536</td>\n",
              "      <td>13.0000</td>\n",
              "      <td>NaN</td>\n",
              "      <td>S</td>\n",
              "    </tr>\n",
              "    <tr>\n",
              "      <th>887</th>\n",
              "      <td>888</td>\n",
              "      <td>1</td>\n",
              "      <td>1</td>\n",
              "      <td>Graham, Miss. Margaret Edith</td>\n",
              "      <td>female</td>\n",
              "      <td>19.0</td>\n",
              "      <td>0</td>\n",
              "      <td>0</td>\n",
              "      <td>112053</td>\n",
              "      <td>30.0000</td>\n",
              "      <td>B42</td>\n",
              "      <td>S</td>\n",
              "    </tr>\n",
              "    <tr>\n",
              "      <th>888</th>\n",
              "      <td>889</td>\n",
              "      <td>0</td>\n",
              "      <td>3</td>\n",
              "      <td>Johnston, Miss. Catherine Helen \"Carrie\"</td>\n",
              "      <td>female</td>\n",
              "      <td>NaN</td>\n",
              "      <td>1</td>\n",
              "      <td>2</td>\n",
              "      <td>W./C. 6607</td>\n",
              "      <td>23.4500</td>\n",
              "      <td>NaN</td>\n",
              "      <td>S</td>\n",
              "    </tr>\n",
              "    <tr>\n",
              "      <th>889</th>\n",
              "      <td>890</td>\n",
              "      <td>1</td>\n",
              "      <td>1</td>\n",
              "      <td>Behr, Mr. Karl Howell</td>\n",
              "      <td>male</td>\n",
              "      <td>26.0</td>\n",
              "      <td>0</td>\n",
              "      <td>0</td>\n",
              "      <td>111369</td>\n",
              "      <td>30.0000</td>\n",
              "      <td>C148</td>\n",
              "      <td>C</td>\n",
              "    </tr>\n",
              "    <tr>\n",
              "      <th>890</th>\n",
              "      <td>891</td>\n",
              "      <td>0</td>\n",
              "      <td>3</td>\n",
              "      <td>Dooley, Mr. Patrick</td>\n",
              "      <td>male</td>\n",
              "      <td>32.0</td>\n",
              "      <td>0</td>\n",
              "      <td>0</td>\n",
              "      <td>370376</td>\n",
              "      <td>7.7500</td>\n",
              "      <td>NaN</td>\n",
              "      <td>Q</td>\n",
              "    </tr>\n",
              "  </tbody>\n",
              "</table>\n",
              "<p>891 rows × 12 columns</p>\n",
              "</div>"
            ],
            "text/plain": [
              "     PassengerId  Survived  Pclass  ...     Fare Cabin  Embarked\n",
              "0              1         0       3  ...   7.2500   NaN         S\n",
              "1              2         1       1  ...  71.2833   C85         C\n",
              "2              3         1       3  ...   7.9250   NaN         S\n",
              "3              4         1       1  ...  53.1000  C123         S\n",
              "4              5         0       3  ...   8.0500   NaN         S\n",
              "..           ...       ...     ...  ...      ...   ...       ...\n",
              "886          887         0       2  ...  13.0000   NaN         S\n",
              "887          888         1       1  ...  30.0000   B42         S\n",
              "888          889         0       3  ...  23.4500   NaN         S\n",
              "889          890         1       1  ...  30.0000  C148         C\n",
              "890          891         0       3  ...   7.7500   NaN         Q\n",
              "\n",
              "[891 rows x 12 columns]"
            ]
          },
          "metadata": {},
          "execution_count": 73
        }
      ]
    },
    {
      "cell_type": "code",
      "metadata": {
        "id": "w1zsMx_rrlt5",
        "colab": {
          "base_uri": "https://localhost:8080/",
          "height": 458
        },
        "outputId": "a7f17f8d-2d6e-42c8-f9ca-551ad27c1b9a"
      },
      "source": [
        "test_df = pd.read_csv('/content/drive/MyDrive/colabs_data/titanic/test.csv')\n",
        "test_df"
      ],
      "execution_count": null,
      "outputs": [
        {
          "output_type": "execute_result",
          "data": {
            "text/html": [
              "<div>\n",
              "<style scoped>\n",
              "    .dataframe tbody tr th:only-of-type {\n",
              "        vertical-align: middle;\n",
              "    }\n",
              "\n",
              "    .dataframe tbody tr th {\n",
              "        vertical-align: top;\n",
              "    }\n",
              "\n",
              "    .dataframe thead th {\n",
              "        text-align: right;\n",
              "    }\n",
              "</style>\n",
              "<table border=\"1\" class=\"dataframe\">\n",
              "  <thead>\n",
              "    <tr style=\"text-align: right;\">\n",
              "      <th></th>\n",
              "      <th>PassengerId</th>\n",
              "      <th>Pclass</th>\n",
              "      <th>Name</th>\n",
              "      <th>Sex</th>\n",
              "      <th>Age</th>\n",
              "      <th>SibSp</th>\n",
              "      <th>Parch</th>\n",
              "      <th>Ticket</th>\n",
              "      <th>Fare</th>\n",
              "      <th>Cabin</th>\n",
              "      <th>Embarked</th>\n",
              "    </tr>\n",
              "  </thead>\n",
              "  <tbody>\n",
              "    <tr>\n",
              "      <th>0</th>\n",
              "      <td>892</td>\n",
              "      <td>3</td>\n",
              "      <td>Kelly, Mr. James</td>\n",
              "      <td>male</td>\n",
              "      <td>34.5</td>\n",
              "      <td>0</td>\n",
              "      <td>0</td>\n",
              "      <td>330911</td>\n",
              "      <td>7.8292</td>\n",
              "      <td>NaN</td>\n",
              "      <td>Q</td>\n",
              "    </tr>\n",
              "    <tr>\n",
              "      <th>1</th>\n",
              "      <td>893</td>\n",
              "      <td>3</td>\n",
              "      <td>Wilkes, Mrs. James (Ellen Needs)</td>\n",
              "      <td>female</td>\n",
              "      <td>47.0</td>\n",
              "      <td>1</td>\n",
              "      <td>0</td>\n",
              "      <td>363272</td>\n",
              "      <td>7.0000</td>\n",
              "      <td>NaN</td>\n",
              "      <td>S</td>\n",
              "    </tr>\n",
              "    <tr>\n",
              "      <th>2</th>\n",
              "      <td>894</td>\n",
              "      <td>2</td>\n",
              "      <td>Myles, Mr. Thomas Francis</td>\n",
              "      <td>male</td>\n",
              "      <td>62.0</td>\n",
              "      <td>0</td>\n",
              "      <td>0</td>\n",
              "      <td>240276</td>\n",
              "      <td>9.6875</td>\n",
              "      <td>NaN</td>\n",
              "      <td>Q</td>\n",
              "    </tr>\n",
              "    <tr>\n",
              "      <th>3</th>\n",
              "      <td>895</td>\n",
              "      <td>3</td>\n",
              "      <td>Wirz, Mr. Albert</td>\n",
              "      <td>male</td>\n",
              "      <td>27.0</td>\n",
              "      <td>0</td>\n",
              "      <td>0</td>\n",
              "      <td>315154</td>\n",
              "      <td>8.6625</td>\n",
              "      <td>NaN</td>\n",
              "      <td>S</td>\n",
              "    </tr>\n",
              "    <tr>\n",
              "      <th>4</th>\n",
              "      <td>896</td>\n",
              "      <td>3</td>\n",
              "      <td>Hirvonen, Mrs. Alexander (Helga E Lindqvist)</td>\n",
              "      <td>female</td>\n",
              "      <td>22.0</td>\n",
              "      <td>1</td>\n",
              "      <td>1</td>\n",
              "      <td>3101298</td>\n",
              "      <td>12.2875</td>\n",
              "      <td>NaN</td>\n",
              "      <td>S</td>\n",
              "    </tr>\n",
              "    <tr>\n",
              "      <th>...</th>\n",
              "      <td>...</td>\n",
              "      <td>...</td>\n",
              "      <td>...</td>\n",
              "      <td>...</td>\n",
              "      <td>...</td>\n",
              "      <td>...</td>\n",
              "      <td>...</td>\n",
              "      <td>...</td>\n",
              "      <td>...</td>\n",
              "      <td>...</td>\n",
              "      <td>...</td>\n",
              "    </tr>\n",
              "    <tr>\n",
              "      <th>413</th>\n",
              "      <td>1305</td>\n",
              "      <td>3</td>\n",
              "      <td>Spector, Mr. Woolf</td>\n",
              "      <td>male</td>\n",
              "      <td>NaN</td>\n",
              "      <td>0</td>\n",
              "      <td>0</td>\n",
              "      <td>A.5. 3236</td>\n",
              "      <td>8.0500</td>\n",
              "      <td>NaN</td>\n",
              "      <td>S</td>\n",
              "    </tr>\n",
              "    <tr>\n",
              "      <th>414</th>\n",
              "      <td>1306</td>\n",
              "      <td>1</td>\n",
              "      <td>Oliva y Ocana, Dona. Fermina</td>\n",
              "      <td>female</td>\n",
              "      <td>39.0</td>\n",
              "      <td>0</td>\n",
              "      <td>0</td>\n",
              "      <td>PC 17758</td>\n",
              "      <td>108.9000</td>\n",
              "      <td>C105</td>\n",
              "      <td>C</td>\n",
              "    </tr>\n",
              "    <tr>\n",
              "      <th>415</th>\n",
              "      <td>1307</td>\n",
              "      <td>3</td>\n",
              "      <td>Saether, Mr. Simon Sivertsen</td>\n",
              "      <td>male</td>\n",
              "      <td>38.5</td>\n",
              "      <td>0</td>\n",
              "      <td>0</td>\n",
              "      <td>SOTON/O.Q. 3101262</td>\n",
              "      <td>7.2500</td>\n",
              "      <td>NaN</td>\n",
              "      <td>S</td>\n",
              "    </tr>\n",
              "    <tr>\n",
              "      <th>416</th>\n",
              "      <td>1308</td>\n",
              "      <td>3</td>\n",
              "      <td>Ware, Mr. Frederick</td>\n",
              "      <td>male</td>\n",
              "      <td>NaN</td>\n",
              "      <td>0</td>\n",
              "      <td>0</td>\n",
              "      <td>359309</td>\n",
              "      <td>8.0500</td>\n",
              "      <td>NaN</td>\n",
              "      <td>S</td>\n",
              "    </tr>\n",
              "    <tr>\n",
              "      <th>417</th>\n",
              "      <td>1309</td>\n",
              "      <td>3</td>\n",
              "      <td>Peter, Master. Michael J</td>\n",
              "      <td>male</td>\n",
              "      <td>NaN</td>\n",
              "      <td>1</td>\n",
              "      <td>1</td>\n",
              "      <td>2668</td>\n",
              "      <td>22.3583</td>\n",
              "      <td>NaN</td>\n",
              "      <td>C</td>\n",
              "    </tr>\n",
              "  </tbody>\n",
              "</table>\n",
              "<p>418 rows × 11 columns</p>\n",
              "</div>"
            ],
            "text/plain": [
              "     PassengerId  Pclass  ... Cabin Embarked\n",
              "0            892       3  ...   NaN        Q\n",
              "1            893       3  ...   NaN        S\n",
              "2            894       2  ...   NaN        Q\n",
              "3            895       3  ...   NaN        S\n",
              "4            896       3  ...   NaN        S\n",
              "..           ...     ...  ...   ...      ...\n",
              "413         1305       3  ...   NaN        S\n",
              "414         1306       1  ...  C105        C\n",
              "415         1307       3  ...   NaN        S\n",
              "416         1308       3  ...   NaN        S\n",
              "417         1309       3  ...   NaN        C\n",
              "\n",
              "[418 rows x 11 columns]"
            ]
          },
          "metadata": {},
          "execution_count": 74
        }
      ]
    },
    {
      "cell_type": "markdown",
      "metadata": {
        "id": "qN19YTdgsES8"
      },
      "source": [
        "##### head()"
      ]
    },
    {
      "cell_type": "code",
      "metadata": {
        "id": "DuZiUjDMsBzc",
        "colab": {
          "base_uri": "https://localhost:8080/",
          "height": 258
        },
        "outputId": "1ec9acde-128d-4db5-c18d-5e2645a6f29e"
      },
      "source": [
        "train_df.head()"
      ],
      "execution_count": null,
      "outputs": [
        {
          "output_type": "execute_result",
          "data": {
            "text/html": [
              "<div>\n",
              "<style scoped>\n",
              "    .dataframe tbody tr th:only-of-type {\n",
              "        vertical-align: middle;\n",
              "    }\n",
              "\n",
              "    .dataframe tbody tr th {\n",
              "        vertical-align: top;\n",
              "    }\n",
              "\n",
              "    .dataframe thead th {\n",
              "        text-align: right;\n",
              "    }\n",
              "</style>\n",
              "<table border=\"1\" class=\"dataframe\">\n",
              "  <thead>\n",
              "    <tr style=\"text-align: right;\">\n",
              "      <th></th>\n",
              "      <th>PassengerId</th>\n",
              "      <th>Survived</th>\n",
              "      <th>Pclass</th>\n",
              "      <th>Name</th>\n",
              "      <th>Sex</th>\n",
              "      <th>Age</th>\n",
              "      <th>SibSp</th>\n",
              "      <th>Parch</th>\n",
              "      <th>Ticket</th>\n",
              "      <th>Fare</th>\n",
              "      <th>Cabin</th>\n",
              "      <th>Embarked</th>\n",
              "    </tr>\n",
              "  </thead>\n",
              "  <tbody>\n",
              "    <tr>\n",
              "      <th>0</th>\n",
              "      <td>1</td>\n",
              "      <td>0</td>\n",
              "      <td>3</td>\n",
              "      <td>Braund, Mr. Owen Harris</td>\n",
              "      <td>male</td>\n",
              "      <td>22.0</td>\n",
              "      <td>1</td>\n",
              "      <td>0</td>\n",
              "      <td>A/5 21171</td>\n",
              "      <td>7.2500</td>\n",
              "      <td>NaN</td>\n",
              "      <td>S</td>\n",
              "    </tr>\n",
              "    <tr>\n",
              "      <th>1</th>\n",
              "      <td>2</td>\n",
              "      <td>1</td>\n",
              "      <td>1</td>\n",
              "      <td>Cumings, Mrs. John Bradley (Florence Briggs Th...</td>\n",
              "      <td>female</td>\n",
              "      <td>38.0</td>\n",
              "      <td>1</td>\n",
              "      <td>0</td>\n",
              "      <td>PC 17599</td>\n",
              "      <td>71.2833</td>\n",
              "      <td>C85</td>\n",
              "      <td>C</td>\n",
              "    </tr>\n",
              "    <tr>\n",
              "      <th>2</th>\n",
              "      <td>3</td>\n",
              "      <td>1</td>\n",
              "      <td>3</td>\n",
              "      <td>Heikkinen, Miss. Laina</td>\n",
              "      <td>female</td>\n",
              "      <td>26.0</td>\n",
              "      <td>0</td>\n",
              "      <td>0</td>\n",
              "      <td>STON/O2. 3101282</td>\n",
              "      <td>7.9250</td>\n",
              "      <td>NaN</td>\n",
              "      <td>S</td>\n",
              "    </tr>\n",
              "    <tr>\n",
              "      <th>3</th>\n",
              "      <td>4</td>\n",
              "      <td>1</td>\n",
              "      <td>1</td>\n",
              "      <td>Futrelle, Mrs. Jacques Heath (Lily May Peel)</td>\n",
              "      <td>female</td>\n",
              "      <td>35.0</td>\n",
              "      <td>1</td>\n",
              "      <td>0</td>\n",
              "      <td>113803</td>\n",
              "      <td>53.1000</td>\n",
              "      <td>C123</td>\n",
              "      <td>S</td>\n",
              "    </tr>\n",
              "    <tr>\n",
              "      <th>4</th>\n",
              "      <td>5</td>\n",
              "      <td>0</td>\n",
              "      <td>3</td>\n",
              "      <td>Allen, Mr. William Henry</td>\n",
              "      <td>male</td>\n",
              "      <td>35.0</td>\n",
              "      <td>0</td>\n",
              "      <td>0</td>\n",
              "      <td>373450</td>\n",
              "      <td>8.0500</td>\n",
              "      <td>NaN</td>\n",
              "      <td>S</td>\n",
              "    </tr>\n",
              "  </tbody>\n",
              "</table>\n",
              "</div>"
            ],
            "text/plain": [
              "   PassengerId  Survived  Pclass  ...     Fare Cabin  Embarked\n",
              "0            1         0       3  ...   7.2500   NaN         S\n",
              "1            2         1       1  ...  71.2833   C85         C\n",
              "2            3         1       3  ...   7.9250   NaN         S\n",
              "3            4         1       1  ...  53.1000  C123         S\n",
              "4            5         0       3  ...   8.0500   NaN         S\n",
              "\n",
              "[5 rows x 12 columns]"
            ]
          },
          "metadata": {},
          "execution_count": 75
        }
      ]
    },
    {
      "cell_type": "code",
      "metadata": {
        "id": "ntLf8hPgsK9a",
        "colab": {
          "base_uri": "https://localhost:8080/",
          "height": 467
        },
        "outputId": "a56b3d35-8107-44c6-8fa7-e050318ab0ae"
      },
      "source": [
        "train_df.head(10)"
      ],
      "execution_count": null,
      "outputs": [
        {
          "output_type": "execute_result",
          "data": {
            "text/html": [
              "<div>\n",
              "<style scoped>\n",
              "    .dataframe tbody tr th:only-of-type {\n",
              "        vertical-align: middle;\n",
              "    }\n",
              "\n",
              "    .dataframe tbody tr th {\n",
              "        vertical-align: top;\n",
              "    }\n",
              "\n",
              "    .dataframe thead th {\n",
              "        text-align: right;\n",
              "    }\n",
              "</style>\n",
              "<table border=\"1\" class=\"dataframe\">\n",
              "  <thead>\n",
              "    <tr style=\"text-align: right;\">\n",
              "      <th></th>\n",
              "      <th>PassengerId</th>\n",
              "      <th>Survived</th>\n",
              "      <th>Pclass</th>\n",
              "      <th>Name</th>\n",
              "      <th>Sex</th>\n",
              "      <th>Age</th>\n",
              "      <th>SibSp</th>\n",
              "      <th>Parch</th>\n",
              "      <th>Ticket</th>\n",
              "      <th>Fare</th>\n",
              "      <th>Cabin</th>\n",
              "      <th>Embarked</th>\n",
              "    </tr>\n",
              "  </thead>\n",
              "  <tbody>\n",
              "    <tr>\n",
              "      <th>0</th>\n",
              "      <td>1</td>\n",
              "      <td>0</td>\n",
              "      <td>3</td>\n",
              "      <td>Braund, Mr. Owen Harris</td>\n",
              "      <td>male</td>\n",
              "      <td>22.0</td>\n",
              "      <td>1</td>\n",
              "      <td>0</td>\n",
              "      <td>A/5 21171</td>\n",
              "      <td>7.2500</td>\n",
              "      <td>NaN</td>\n",
              "      <td>S</td>\n",
              "    </tr>\n",
              "    <tr>\n",
              "      <th>1</th>\n",
              "      <td>2</td>\n",
              "      <td>1</td>\n",
              "      <td>1</td>\n",
              "      <td>Cumings, Mrs. John Bradley (Florence Briggs Th...</td>\n",
              "      <td>female</td>\n",
              "      <td>38.0</td>\n",
              "      <td>1</td>\n",
              "      <td>0</td>\n",
              "      <td>PC 17599</td>\n",
              "      <td>71.2833</td>\n",
              "      <td>C85</td>\n",
              "      <td>C</td>\n",
              "    </tr>\n",
              "    <tr>\n",
              "      <th>2</th>\n",
              "      <td>3</td>\n",
              "      <td>1</td>\n",
              "      <td>3</td>\n",
              "      <td>Heikkinen, Miss. Laina</td>\n",
              "      <td>female</td>\n",
              "      <td>26.0</td>\n",
              "      <td>0</td>\n",
              "      <td>0</td>\n",
              "      <td>STON/O2. 3101282</td>\n",
              "      <td>7.9250</td>\n",
              "      <td>NaN</td>\n",
              "      <td>S</td>\n",
              "    </tr>\n",
              "    <tr>\n",
              "      <th>3</th>\n",
              "      <td>4</td>\n",
              "      <td>1</td>\n",
              "      <td>1</td>\n",
              "      <td>Futrelle, Mrs. Jacques Heath (Lily May Peel)</td>\n",
              "      <td>female</td>\n",
              "      <td>35.0</td>\n",
              "      <td>1</td>\n",
              "      <td>0</td>\n",
              "      <td>113803</td>\n",
              "      <td>53.1000</td>\n",
              "      <td>C123</td>\n",
              "      <td>S</td>\n",
              "    </tr>\n",
              "    <tr>\n",
              "      <th>4</th>\n",
              "      <td>5</td>\n",
              "      <td>0</td>\n",
              "      <td>3</td>\n",
              "      <td>Allen, Mr. William Henry</td>\n",
              "      <td>male</td>\n",
              "      <td>35.0</td>\n",
              "      <td>0</td>\n",
              "      <td>0</td>\n",
              "      <td>373450</td>\n",
              "      <td>8.0500</td>\n",
              "      <td>NaN</td>\n",
              "      <td>S</td>\n",
              "    </tr>\n",
              "    <tr>\n",
              "      <th>5</th>\n",
              "      <td>6</td>\n",
              "      <td>0</td>\n",
              "      <td>3</td>\n",
              "      <td>Moran, Mr. James</td>\n",
              "      <td>male</td>\n",
              "      <td>NaN</td>\n",
              "      <td>0</td>\n",
              "      <td>0</td>\n",
              "      <td>330877</td>\n",
              "      <td>8.4583</td>\n",
              "      <td>NaN</td>\n",
              "      <td>Q</td>\n",
              "    </tr>\n",
              "    <tr>\n",
              "      <th>6</th>\n",
              "      <td>7</td>\n",
              "      <td>0</td>\n",
              "      <td>1</td>\n",
              "      <td>McCarthy, Mr. Timothy J</td>\n",
              "      <td>male</td>\n",
              "      <td>54.0</td>\n",
              "      <td>0</td>\n",
              "      <td>0</td>\n",
              "      <td>17463</td>\n",
              "      <td>51.8625</td>\n",
              "      <td>E46</td>\n",
              "      <td>S</td>\n",
              "    </tr>\n",
              "    <tr>\n",
              "      <th>7</th>\n",
              "      <td>8</td>\n",
              "      <td>0</td>\n",
              "      <td>3</td>\n",
              "      <td>Palsson, Master. Gosta Leonard</td>\n",
              "      <td>male</td>\n",
              "      <td>2.0</td>\n",
              "      <td>3</td>\n",
              "      <td>1</td>\n",
              "      <td>349909</td>\n",
              "      <td>21.0750</td>\n",
              "      <td>NaN</td>\n",
              "      <td>S</td>\n",
              "    </tr>\n",
              "    <tr>\n",
              "      <th>8</th>\n",
              "      <td>9</td>\n",
              "      <td>1</td>\n",
              "      <td>3</td>\n",
              "      <td>Johnson, Mrs. Oscar W (Elisabeth Vilhelmina Berg)</td>\n",
              "      <td>female</td>\n",
              "      <td>27.0</td>\n",
              "      <td>0</td>\n",
              "      <td>2</td>\n",
              "      <td>347742</td>\n",
              "      <td>11.1333</td>\n",
              "      <td>NaN</td>\n",
              "      <td>S</td>\n",
              "    </tr>\n",
              "    <tr>\n",
              "      <th>9</th>\n",
              "      <td>10</td>\n",
              "      <td>1</td>\n",
              "      <td>2</td>\n",
              "      <td>Nasser, Mrs. Nicholas (Adele Achem)</td>\n",
              "      <td>female</td>\n",
              "      <td>14.0</td>\n",
              "      <td>1</td>\n",
              "      <td>0</td>\n",
              "      <td>237736</td>\n",
              "      <td>30.0708</td>\n",
              "      <td>NaN</td>\n",
              "      <td>C</td>\n",
              "    </tr>\n",
              "  </tbody>\n",
              "</table>\n",
              "</div>"
            ],
            "text/plain": [
              "   PassengerId  Survived  Pclass  ...     Fare Cabin  Embarked\n",
              "0            1         0       3  ...   7.2500   NaN         S\n",
              "1            2         1       1  ...  71.2833   C85         C\n",
              "2            3         1       3  ...   7.9250   NaN         S\n",
              "3            4         1       1  ...  53.1000  C123         S\n",
              "4            5         0       3  ...   8.0500   NaN         S\n",
              "5            6         0       3  ...   8.4583   NaN         Q\n",
              "6            7         0       1  ...  51.8625   E46         S\n",
              "7            8         0       3  ...  21.0750   NaN         S\n",
              "8            9         1       3  ...  11.1333   NaN         S\n",
              "9           10         1       2  ...  30.0708   NaN         C\n",
              "\n",
              "[10 rows x 12 columns]"
            ]
          },
          "metadata": {},
          "execution_count": 76
        }
      ]
    },
    {
      "cell_type": "markdown",
      "metadata": {
        "id": "TrTxi4cWsUJw"
      },
      "source": [
        "##### tail()"
      ]
    },
    {
      "cell_type": "code",
      "metadata": {
        "id": "LOQNqBY0sXow",
        "colab": {
          "base_uri": "https://localhost:8080/",
          "height": 223
        },
        "outputId": "1dfb7572-1cfc-45fc-df5a-66fe5b102e42"
      },
      "source": [
        "train_df.tail()"
      ],
      "execution_count": null,
      "outputs": [
        {
          "output_type": "execute_result",
          "data": {
            "text/html": [
              "<div>\n",
              "<style scoped>\n",
              "    .dataframe tbody tr th:only-of-type {\n",
              "        vertical-align: middle;\n",
              "    }\n",
              "\n",
              "    .dataframe tbody tr th {\n",
              "        vertical-align: top;\n",
              "    }\n",
              "\n",
              "    .dataframe thead th {\n",
              "        text-align: right;\n",
              "    }\n",
              "</style>\n",
              "<table border=\"1\" class=\"dataframe\">\n",
              "  <thead>\n",
              "    <tr style=\"text-align: right;\">\n",
              "      <th></th>\n",
              "      <th>PassengerId</th>\n",
              "      <th>Survived</th>\n",
              "      <th>Pclass</th>\n",
              "      <th>Name</th>\n",
              "      <th>Sex</th>\n",
              "      <th>Age</th>\n",
              "      <th>SibSp</th>\n",
              "      <th>Parch</th>\n",
              "      <th>Ticket</th>\n",
              "      <th>Fare</th>\n",
              "      <th>Cabin</th>\n",
              "      <th>Embarked</th>\n",
              "    </tr>\n",
              "  </thead>\n",
              "  <tbody>\n",
              "    <tr>\n",
              "      <th>886</th>\n",
              "      <td>887</td>\n",
              "      <td>0</td>\n",
              "      <td>2</td>\n",
              "      <td>Montvila, Rev. Juozas</td>\n",
              "      <td>male</td>\n",
              "      <td>27.0</td>\n",
              "      <td>0</td>\n",
              "      <td>0</td>\n",
              "      <td>211536</td>\n",
              "      <td>13.00</td>\n",
              "      <td>NaN</td>\n",
              "      <td>S</td>\n",
              "    </tr>\n",
              "    <tr>\n",
              "      <th>887</th>\n",
              "      <td>888</td>\n",
              "      <td>1</td>\n",
              "      <td>1</td>\n",
              "      <td>Graham, Miss. Margaret Edith</td>\n",
              "      <td>female</td>\n",
              "      <td>19.0</td>\n",
              "      <td>0</td>\n",
              "      <td>0</td>\n",
              "      <td>112053</td>\n",
              "      <td>30.00</td>\n",
              "      <td>B42</td>\n",
              "      <td>S</td>\n",
              "    </tr>\n",
              "    <tr>\n",
              "      <th>888</th>\n",
              "      <td>889</td>\n",
              "      <td>0</td>\n",
              "      <td>3</td>\n",
              "      <td>Johnston, Miss. Catherine Helen \"Carrie\"</td>\n",
              "      <td>female</td>\n",
              "      <td>NaN</td>\n",
              "      <td>1</td>\n",
              "      <td>2</td>\n",
              "      <td>W./C. 6607</td>\n",
              "      <td>23.45</td>\n",
              "      <td>NaN</td>\n",
              "      <td>S</td>\n",
              "    </tr>\n",
              "    <tr>\n",
              "      <th>889</th>\n",
              "      <td>890</td>\n",
              "      <td>1</td>\n",
              "      <td>1</td>\n",
              "      <td>Behr, Mr. Karl Howell</td>\n",
              "      <td>male</td>\n",
              "      <td>26.0</td>\n",
              "      <td>0</td>\n",
              "      <td>0</td>\n",
              "      <td>111369</td>\n",
              "      <td>30.00</td>\n",
              "      <td>C148</td>\n",
              "      <td>C</td>\n",
              "    </tr>\n",
              "    <tr>\n",
              "      <th>890</th>\n",
              "      <td>891</td>\n",
              "      <td>0</td>\n",
              "      <td>3</td>\n",
              "      <td>Dooley, Mr. Patrick</td>\n",
              "      <td>male</td>\n",
              "      <td>32.0</td>\n",
              "      <td>0</td>\n",
              "      <td>0</td>\n",
              "      <td>370376</td>\n",
              "      <td>7.75</td>\n",
              "      <td>NaN</td>\n",
              "      <td>Q</td>\n",
              "    </tr>\n",
              "  </tbody>\n",
              "</table>\n",
              "</div>"
            ],
            "text/plain": [
              "     PassengerId  Survived  Pclass  ...   Fare Cabin  Embarked\n",
              "886          887         0       2  ...  13.00   NaN         S\n",
              "887          888         1       1  ...  30.00   B42         S\n",
              "888          889         0       3  ...  23.45   NaN         S\n",
              "889          890         1       1  ...  30.00  C148         C\n",
              "890          891         0       3  ...   7.75   NaN         Q\n",
              "\n",
              "[5 rows x 12 columns]"
            ]
          },
          "metadata": {},
          "execution_count": 77
        }
      ]
    },
    {
      "cell_type": "code",
      "metadata": {
        "id": "vKbyq06cseha",
        "colab": {
          "base_uri": "https://localhost:8080/",
          "height": 467
        },
        "outputId": "1e46faa7-b75b-46ba-e969-75d72f5b41fc"
      },
      "source": [
        "train_df.tail(10)"
      ],
      "execution_count": null,
      "outputs": [
        {
          "output_type": "execute_result",
          "data": {
            "text/html": [
              "<div>\n",
              "<style scoped>\n",
              "    .dataframe tbody tr th:only-of-type {\n",
              "        vertical-align: middle;\n",
              "    }\n",
              "\n",
              "    .dataframe tbody tr th {\n",
              "        vertical-align: top;\n",
              "    }\n",
              "\n",
              "    .dataframe thead th {\n",
              "        text-align: right;\n",
              "    }\n",
              "</style>\n",
              "<table border=\"1\" class=\"dataframe\">\n",
              "  <thead>\n",
              "    <tr style=\"text-align: right;\">\n",
              "      <th></th>\n",
              "      <th>PassengerId</th>\n",
              "      <th>Survived</th>\n",
              "      <th>Pclass</th>\n",
              "      <th>Name</th>\n",
              "      <th>Sex</th>\n",
              "      <th>Age</th>\n",
              "      <th>SibSp</th>\n",
              "      <th>Parch</th>\n",
              "      <th>Ticket</th>\n",
              "      <th>Fare</th>\n",
              "      <th>Cabin</th>\n",
              "      <th>Embarked</th>\n",
              "    </tr>\n",
              "  </thead>\n",
              "  <tbody>\n",
              "    <tr>\n",
              "      <th>881</th>\n",
              "      <td>882</td>\n",
              "      <td>0</td>\n",
              "      <td>3</td>\n",
              "      <td>Markun, Mr. Johann</td>\n",
              "      <td>male</td>\n",
              "      <td>33.0</td>\n",
              "      <td>0</td>\n",
              "      <td>0</td>\n",
              "      <td>349257</td>\n",
              "      <td>7.8958</td>\n",
              "      <td>NaN</td>\n",
              "      <td>S</td>\n",
              "    </tr>\n",
              "    <tr>\n",
              "      <th>882</th>\n",
              "      <td>883</td>\n",
              "      <td>0</td>\n",
              "      <td>3</td>\n",
              "      <td>Dahlberg, Miss. Gerda Ulrika</td>\n",
              "      <td>female</td>\n",
              "      <td>22.0</td>\n",
              "      <td>0</td>\n",
              "      <td>0</td>\n",
              "      <td>7552</td>\n",
              "      <td>10.5167</td>\n",
              "      <td>NaN</td>\n",
              "      <td>S</td>\n",
              "    </tr>\n",
              "    <tr>\n",
              "      <th>883</th>\n",
              "      <td>884</td>\n",
              "      <td>0</td>\n",
              "      <td>2</td>\n",
              "      <td>Banfield, Mr. Frederick James</td>\n",
              "      <td>male</td>\n",
              "      <td>28.0</td>\n",
              "      <td>0</td>\n",
              "      <td>0</td>\n",
              "      <td>C.A./SOTON 34068</td>\n",
              "      <td>10.5000</td>\n",
              "      <td>NaN</td>\n",
              "      <td>S</td>\n",
              "    </tr>\n",
              "    <tr>\n",
              "      <th>884</th>\n",
              "      <td>885</td>\n",
              "      <td>0</td>\n",
              "      <td>3</td>\n",
              "      <td>Sutehall, Mr. Henry Jr</td>\n",
              "      <td>male</td>\n",
              "      <td>25.0</td>\n",
              "      <td>0</td>\n",
              "      <td>0</td>\n",
              "      <td>SOTON/OQ 392076</td>\n",
              "      <td>7.0500</td>\n",
              "      <td>NaN</td>\n",
              "      <td>S</td>\n",
              "    </tr>\n",
              "    <tr>\n",
              "      <th>885</th>\n",
              "      <td>886</td>\n",
              "      <td>0</td>\n",
              "      <td>3</td>\n",
              "      <td>Rice, Mrs. William (Margaret Norton)</td>\n",
              "      <td>female</td>\n",
              "      <td>39.0</td>\n",
              "      <td>0</td>\n",
              "      <td>5</td>\n",
              "      <td>382652</td>\n",
              "      <td>29.1250</td>\n",
              "      <td>NaN</td>\n",
              "      <td>Q</td>\n",
              "    </tr>\n",
              "    <tr>\n",
              "      <th>886</th>\n",
              "      <td>887</td>\n",
              "      <td>0</td>\n",
              "      <td>2</td>\n",
              "      <td>Montvila, Rev. Juozas</td>\n",
              "      <td>male</td>\n",
              "      <td>27.0</td>\n",
              "      <td>0</td>\n",
              "      <td>0</td>\n",
              "      <td>211536</td>\n",
              "      <td>13.0000</td>\n",
              "      <td>NaN</td>\n",
              "      <td>S</td>\n",
              "    </tr>\n",
              "    <tr>\n",
              "      <th>887</th>\n",
              "      <td>888</td>\n",
              "      <td>1</td>\n",
              "      <td>1</td>\n",
              "      <td>Graham, Miss. Margaret Edith</td>\n",
              "      <td>female</td>\n",
              "      <td>19.0</td>\n",
              "      <td>0</td>\n",
              "      <td>0</td>\n",
              "      <td>112053</td>\n",
              "      <td>30.0000</td>\n",
              "      <td>B42</td>\n",
              "      <td>S</td>\n",
              "    </tr>\n",
              "    <tr>\n",
              "      <th>888</th>\n",
              "      <td>889</td>\n",
              "      <td>0</td>\n",
              "      <td>3</td>\n",
              "      <td>Johnston, Miss. Catherine Helen \"Carrie\"</td>\n",
              "      <td>female</td>\n",
              "      <td>NaN</td>\n",
              "      <td>1</td>\n",
              "      <td>2</td>\n",
              "      <td>W./C. 6607</td>\n",
              "      <td>23.4500</td>\n",
              "      <td>NaN</td>\n",
              "      <td>S</td>\n",
              "    </tr>\n",
              "    <tr>\n",
              "      <th>889</th>\n",
              "      <td>890</td>\n",
              "      <td>1</td>\n",
              "      <td>1</td>\n",
              "      <td>Behr, Mr. Karl Howell</td>\n",
              "      <td>male</td>\n",
              "      <td>26.0</td>\n",
              "      <td>0</td>\n",
              "      <td>0</td>\n",
              "      <td>111369</td>\n",
              "      <td>30.0000</td>\n",
              "      <td>C148</td>\n",
              "      <td>C</td>\n",
              "    </tr>\n",
              "    <tr>\n",
              "      <th>890</th>\n",
              "      <td>891</td>\n",
              "      <td>0</td>\n",
              "      <td>3</td>\n",
              "      <td>Dooley, Mr. Patrick</td>\n",
              "      <td>male</td>\n",
              "      <td>32.0</td>\n",
              "      <td>0</td>\n",
              "      <td>0</td>\n",
              "      <td>370376</td>\n",
              "      <td>7.7500</td>\n",
              "      <td>NaN</td>\n",
              "      <td>Q</td>\n",
              "    </tr>\n",
              "  </tbody>\n",
              "</table>\n",
              "</div>"
            ],
            "text/plain": [
              "     PassengerId  Survived  Pclass  ...     Fare Cabin  Embarked\n",
              "881          882         0       3  ...   7.8958   NaN         S\n",
              "882          883         0       3  ...  10.5167   NaN         S\n",
              "883          884         0       2  ...  10.5000   NaN         S\n",
              "884          885         0       3  ...   7.0500   NaN         S\n",
              "885          886         0       3  ...  29.1250   NaN         Q\n",
              "886          887         0       2  ...  13.0000   NaN         S\n",
              "887          888         1       1  ...  30.0000   B42         S\n",
              "888          889         0       3  ...  23.4500   NaN         S\n",
              "889          890         1       1  ...  30.0000  C148         C\n",
              "890          891         0       3  ...   7.7500   NaN         Q\n",
              "\n",
              "[10 rows x 12 columns]"
            ]
          },
          "metadata": {},
          "execution_count": 78
        }
      ]
    },
    {
      "cell_type": "markdown",
      "metadata": {
        "id": "bYBVspfh87io"
      },
      "source": [
        "##### shape()"
      ]
    },
    {
      "cell_type": "code",
      "metadata": {
        "colab": {
          "base_uri": "https://localhost:8080/"
        },
        "id": "4n5q703W8-Cv",
        "outputId": "11dfe9c2-c565-4a99-ae03-93b4b8bff27b"
      },
      "source": [
        "train_df.shape"
      ],
      "execution_count": null,
      "outputs": [
        {
          "output_type": "execute_result",
          "data": {
            "text/plain": [
              "(891, 12)"
            ]
          },
          "metadata": {},
          "execution_count": 79
        }
      ]
    },
    {
      "cell_type": "markdown",
      "metadata": {
        "id": "bvzRdJGIGm8X"
      },
      "source": [
        "train_df -> training data, validation data\n",
        "\n",
        "create model based on training data\n",
        "\n",
        "validate model based on validation\n",
        "\n",
        "select your model\n",
        "\n",
        "Apply this model on test_df\n",
        "\n",
        "[0 1 0 .....]\n",
        "[0 1 1 .....]"
      ]
    },
    {
      "cell_type": "code",
      "metadata": {
        "colab": {
          "base_uri": "https://localhost:8080/"
        },
        "id": "9gOvnnjQ9BJn",
        "outputId": "7e87c942-a979-4404-edaf-1fdcdcdaec5e"
      },
      "source": [
        "test_df.shape"
      ],
      "execution_count": null,
      "outputs": [
        {
          "output_type": "execute_result",
          "data": {
            "text/plain": [
              "(418, 11)"
            ]
          },
          "metadata": {},
          "execution_count": 80
        }
      ]
    },
    {
      "cell_type": "markdown",
      "metadata": {
        "id": "_AeE0Uq6skwp"
      },
      "source": [
        "##### Get info() of the Dataframe"
      ]
    },
    {
      "cell_type": "code",
      "metadata": {
        "id": "oE940uursqTN",
        "colab": {
          "base_uri": "https://localhost:8080/"
        },
        "outputId": "7cb67ea3-2164-4694-ad04-50b37c942acf"
      },
      "source": [
        "train_df.info()"
      ],
      "execution_count": null,
      "outputs": [
        {
          "output_type": "stream",
          "name": "stdout",
          "text": [
            "<class 'pandas.core.frame.DataFrame'>\n",
            "RangeIndex: 891 entries, 0 to 890\n",
            "Data columns (total 12 columns):\n",
            " #   Column       Non-Null Count  Dtype  \n",
            "---  ------       --------------  -----  \n",
            " 0   PassengerId  891 non-null    int64  \n",
            " 1   Survived     891 non-null    int64  \n",
            " 2   Pclass       891 non-null    int64  \n",
            " 3   Name         891 non-null    object \n",
            " 4   Sex          891 non-null    object \n",
            " 5   Age          714 non-null    float64\n",
            " 6   SibSp        891 non-null    int64  \n",
            " 7   Parch        891 non-null    int64  \n",
            " 8   Ticket       891 non-null    object \n",
            " 9   Fare         891 non-null    float64\n",
            " 10  Cabin        204 non-null    object \n",
            " 11  Embarked     889 non-null    object \n",
            "dtypes: float64(2), int64(5), object(5)\n",
            "memory usage: 83.7+ KB\n"
          ]
        }
      ]
    },
    {
      "cell_type": "code",
      "metadata": {
        "id": "NrN5Tt8IwNNF",
        "colab": {
          "base_uri": "https://localhost:8080/",
          "height": 300
        },
        "outputId": "88bb38e7-1a3a-42c4-d562-4a17c6d53a3a"
      },
      "source": [
        "train_df.describe()"
      ],
      "execution_count": null,
      "outputs": [
        {
          "output_type": "execute_result",
          "data": {
            "text/html": [
              "<div>\n",
              "<style scoped>\n",
              "    .dataframe tbody tr th:only-of-type {\n",
              "        vertical-align: middle;\n",
              "    }\n",
              "\n",
              "    .dataframe tbody tr th {\n",
              "        vertical-align: top;\n",
              "    }\n",
              "\n",
              "    .dataframe thead th {\n",
              "        text-align: right;\n",
              "    }\n",
              "</style>\n",
              "<table border=\"1\" class=\"dataframe\">\n",
              "  <thead>\n",
              "    <tr style=\"text-align: right;\">\n",
              "      <th></th>\n",
              "      <th>PassengerId</th>\n",
              "      <th>Survived</th>\n",
              "      <th>Pclass</th>\n",
              "      <th>Age</th>\n",
              "      <th>SibSp</th>\n",
              "      <th>Parch</th>\n",
              "      <th>Fare</th>\n",
              "    </tr>\n",
              "  </thead>\n",
              "  <tbody>\n",
              "    <tr>\n",
              "      <th>count</th>\n",
              "      <td>891.000000</td>\n",
              "      <td>891.000000</td>\n",
              "      <td>891.000000</td>\n",
              "      <td>714.000000</td>\n",
              "      <td>891.000000</td>\n",
              "      <td>891.000000</td>\n",
              "      <td>891.000000</td>\n",
              "    </tr>\n",
              "    <tr>\n",
              "      <th>mean</th>\n",
              "      <td>446.000000</td>\n",
              "      <td>0.383838</td>\n",
              "      <td>2.308642</td>\n",
              "      <td>29.699118</td>\n",
              "      <td>0.523008</td>\n",
              "      <td>0.381594</td>\n",
              "      <td>32.204208</td>\n",
              "    </tr>\n",
              "    <tr>\n",
              "      <th>std</th>\n",
              "      <td>257.353842</td>\n",
              "      <td>0.486592</td>\n",
              "      <td>0.836071</td>\n",
              "      <td>14.526497</td>\n",
              "      <td>1.102743</td>\n",
              "      <td>0.806057</td>\n",
              "      <td>49.693429</td>\n",
              "    </tr>\n",
              "    <tr>\n",
              "      <th>min</th>\n",
              "      <td>1.000000</td>\n",
              "      <td>0.000000</td>\n",
              "      <td>1.000000</td>\n",
              "      <td>0.420000</td>\n",
              "      <td>0.000000</td>\n",
              "      <td>0.000000</td>\n",
              "      <td>0.000000</td>\n",
              "    </tr>\n",
              "    <tr>\n",
              "      <th>25%</th>\n",
              "      <td>223.500000</td>\n",
              "      <td>0.000000</td>\n",
              "      <td>2.000000</td>\n",
              "      <td>20.125000</td>\n",
              "      <td>0.000000</td>\n",
              "      <td>0.000000</td>\n",
              "      <td>7.910400</td>\n",
              "    </tr>\n",
              "    <tr>\n",
              "      <th>50%</th>\n",
              "      <td>446.000000</td>\n",
              "      <td>0.000000</td>\n",
              "      <td>3.000000</td>\n",
              "      <td>28.000000</td>\n",
              "      <td>0.000000</td>\n",
              "      <td>0.000000</td>\n",
              "      <td>14.454200</td>\n",
              "    </tr>\n",
              "    <tr>\n",
              "      <th>75%</th>\n",
              "      <td>668.500000</td>\n",
              "      <td>1.000000</td>\n",
              "      <td>3.000000</td>\n",
              "      <td>38.000000</td>\n",
              "      <td>1.000000</td>\n",
              "      <td>0.000000</td>\n",
              "      <td>31.000000</td>\n",
              "    </tr>\n",
              "    <tr>\n",
              "      <th>max</th>\n",
              "      <td>891.000000</td>\n",
              "      <td>1.000000</td>\n",
              "      <td>3.000000</td>\n",
              "      <td>80.000000</td>\n",
              "      <td>8.000000</td>\n",
              "      <td>6.000000</td>\n",
              "      <td>512.329200</td>\n",
              "    </tr>\n",
              "  </tbody>\n",
              "</table>\n",
              "</div>"
            ],
            "text/plain": [
              "       PassengerId    Survived      Pclass  ...       SibSp       Parch        Fare\n",
              "count   891.000000  891.000000  891.000000  ...  891.000000  891.000000  891.000000\n",
              "mean    446.000000    0.383838    2.308642  ...    0.523008    0.381594   32.204208\n",
              "std     257.353842    0.486592    0.836071  ...    1.102743    0.806057   49.693429\n",
              "min       1.000000    0.000000    1.000000  ...    0.000000    0.000000    0.000000\n",
              "25%     223.500000    0.000000    2.000000  ...    0.000000    0.000000    7.910400\n",
              "50%     446.000000    0.000000    3.000000  ...    0.000000    0.000000   14.454200\n",
              "75%     668.500000    1.000000    3.000000  ...    1.000000    0.000000   31.000000\n",
              "max     891.000000    1.000000    3.000000  ...    8.000000    6.000000  512.329200\n",
              "\n",
              "[8 rows x 7 columns]"
            ]
          },
          "metadata": {},
          "execution_count": 82
        }
      ]
    },
    {
      "cell_type": "markdown",
      "metadata": {
        "id": "hLlnJYtpwr5l"
      },
      "source": [
        "38% of the passengers survived"
      ]
    },
    {
      "cell_type": "markdown",
      "metadata": {
        "id": "CDDj7mgExFmC"
      },
      "source": [
        "#### Missing data"
      ]
    },
    {
      "cell_type": "code",
      "metadata": {
        "colab": {
          "base_uri": "https://localhost:8080/"
        },
        "id": "_TPEfc4mxE8b",
        "outputId": "b6a75b12-f92e-4a57-f49e-4a35b8b15a6b"
      },
      "source": [
        "# missing values as absolute number\n",
        "\n",
        "train_df.isnull().sum()"
      ],
      "execution_count": null,
      "outputs": [
        {
          "output_type": "execute_result",
          "data": {
            "text/plain": [
              "PassengerId      0\n",
              "Survived         0\n",
              "Pclass           0\n",
              "Name             0\n",
              "Sex              0\n",
              "Age            177\n",
              "SibSp            0\n",
              "Parch            0\n",
              "Ticket           0\n",
              "Fare             0\n",
              "Cabin          687\n",
              "Embarked         2\n",
              "dtype: int64"
            ]
          },
          "metadata": {},
          "execution_count": 83
        }
      ]
    },
    {
      "cell_type": "code",
      "metadata": {
        "colab": {
          "base_uri": "https://localhost:8080/"
        },
        "id": "rjN6kA23xltf",
        "outputId": "9a678c2a-20fc-41af-ff32-aa2b1b217e15"
      },
      "source": [
        "# missing values as percentages\n",
        "\n",
        "missingvals = train_df.isnull().sum()/len(train_df)\n",
        "missingvals.sort_values(ascending=False)"
      ],
      "execution_count": null,
      "outputs": [
        {
          "output_type": "execute_result",
          "data": {
            "text/plain": [
              "Cabin          0.771044\n",
              "Age            0.198653\n",
              "Embarked       0.002245\n",
              "Fare           0.000000\n",
              "Ticket         0.000000\n",
              "Parch          0.000000\n",
              "SibSp          0.000000\n",
              "Sex            0.000000\n",
              "Name           0.000000\n",
              "Pclass         0.000000\n",
              "Survived       0.000000\n",
              "PassengerId    0.000000\n",
              "dtype: float64"
            ]
          },
          "metadata": {},
          "execution_count": 84
        }
      ]
    },
    {
      "cell_type": "code",
      "metadata": {
        "colab": {
          "base_uri": "https://localhost:8080/"
        },
        "id": "DonyLHtNYsie",
        "outputId": "641016c1-7a9b-4bed-e593-9bc86e358fe2"
      },
      "source": [
        "train_df.nunique()"
      ],
      "execution_count": null,
      "outputs": [
        {
          "output_type": "execute_result",
          "data": {
            "text/plain": [
              "PassengerId    891\n",
              "Survived         2\n",
              "Pclass           3\n",
              "Name           891\n",
              "Sex              2\n",
              "Age             88\n",
              "SibSp            7\n",
              "Parch            7\n",
              "Ticket         681\n",
              "Fare           248\n",
              "Cabin          147\n",
              "Embarked         3\n",
              "dtype: int64"
            ]
          },
          "metadata": {},
          "execution_count": 85
        }
      ]
    },
    {
      "cell_type": "markdown",
      "metadata": {
        "id": "0fqOwzSIXLm9"
      },
      "source": [
        "##### Age"
      ]
    },
    {
      "cell_type": "code",
      "metadata": {
        "id": "cS293C8dJNyv",
        "colab": {
          "base_uri": "https://localhost:8080/"
        },
        "outputId": "d6ce0fba-ce4e-4b50-f5c1-2ab868e7388a"
      },
      "source": [
        "train_df['Age']"
      ],
      "execution_count": null,
      "outputs": [
        {
          "output_type": "execute_result",
          "data": {
            "text/plain": [
              "0      22.0\n",
              "1      38.0\n",
              "2      26.0\n",
              "3      35.0\n",
              "4      35.0\n",
              "       ... \n",
              "886    27.0\n",
              "887    19.0\n",
              "888     NaN\n",
              "889    26.0\n",
              "890    32.0\n",
              "Name: Age, Length: 891, dtype: float64"
            ]
          },
          "metadata": {},
          "execution_count": 86
        }
      ]
    },
    {
      "cell_type": "code",
      "metadata": {
        "id": "kCR7BHT6XNBQ"
      },
      "source": [
        "train_df['Age'] = train_df['Age'].fillna(train_df['Age'].dropna().median())"
      ],
      "execution_count": null,
      "outputs": []
    },
    {
      "cell_type": "code",
      "metadata": {
        "id": "d8CMNb5yJM8z",
        "colab": {
          "base_uri": "https://localhost:8080/"
        },
        "outputId": "8c340d24-7869-4643-d590-ab29b36a2831"
      },
      "source": [
        "train_df['Age']"
      ],
      "execution_count": null,
      "outputs": [
        {
          "output_type": "execute_result",
          "data": {
            "text/plain": [
              "0      22.0\n",
              "1      38.0\n",
              "2      26.0\n",
              "3      35.0\n",
              "4      35.0\n",
              "       ... \n",
              "886    27.0\n",
              "887    19.0\n",
              "888    28.0\n",
              "889    26.0\n",
              "890    32.0\n",
              "Name: Age, Length: 891, dtype: float64"
            ]
          },
          "metadata": {},
          "execution_count": 88
        }
      ]
    },
    {
      "cell_type": "code",
      "metadata": {
        "colab": {
          "base_uri": "https://localhost:8080/"
        },
        "id": "ZA4FEknDXbuC",
        "outputId": "603405aa-9155-407a-c7fd-27dc4c7a0940"
      },
      "source": [
        "# check number of missing values\n",
        "train_df['Age'].isna().sum()"
      ],
      "execution_count": null,
      "outputs": [
        {
          "output_type": "execute_result",
          "data": {
            "text/plain": [
              "0"
            ]
          },
          "metadata": {},
          "execution_count": 89
        }
      ]
    },
    {
      "cell_type": "markdown",
      "metadata": {
        "id": "GqN4saxPYDSa"
      },
      "source": [
        "##### Embarked"
      ]
    },
    {
      "cell_type": "code",
      "metadata": {
        "colab": {
          "base_uri": "https://localhost:8080/"
        },
        "id": "0USxqkWPYIB9",
        "outputId": "cdd1f91b-fc55-4dee-8b63-74a0ce7131f2"
      },
      "source": [
        "train_df[\"Embarked\"].value_counts()"
      ],
      "execution_count": null,
      "outputs": [
        {
          "output_type": "execute_result",
          "data": {
            "text/plain": [
              "S    644\n",
              "C    168\n",
              "Q     77\n",
              "Name: Embarked, dtype: int64"
            ]
          },
          "metadata": {},
          "execution_count": 90
        }
      ]
    },
    {
      "cell_type": "code",
      "metadata": {
        "id": "Jy64U5myrpmS"
      },
      "source": [
        "train_df[\"Embarked\"] = train_df[\"Embarked\"].fillna('S')"
      ],
      "execution_count": null,
      "outputs": []
    },
    {
      "cell_type": "code",
      "metadata": {
        "id": "_gmlb_jBLH17",
        "colab": {
          "base_uri": "https://localhost:8080/"
        },
        "outputId": "0d8df542-b26b-48c4-8252-1664eba59548"
      },
      "source": [
        "train_df[\"Embarked\"].value_counts()"
      ],
      "execution_count": null,
      "outputs": [
        {
          "output_type": "execute_result",
          "data": {
            "text/plain": [
              "S    646\n",
              "C    168\n",
              "Q     77\n",
              "Name: Embarked, dtype: int64"
            ]
          },
          "metadata": {},
          "execution_count": 92
        }
      ]
    },
    {
      "cell_type": "markdown",
      "metadata": {
        "id": "XjOo3l-iAUGt"
      },
      "source": [
        "##### Cabin"
      ]
    },
    {
      "cell_type": "code",
      "metadata": {
        "id": "D6pinJQgLTDu",
        "colab": {
          "base_uri": "https://localhost:8080/"
        },
        "outputId": "a39019c2-4a73-473b-e6d8-848c4d7e8d91"
      },
      "source": [
        "train_df['Cabin']"
      ],
      "execution_count": null,
      "outputs": [
        {
          "output_type": "execute_result",
          "data": {
            "text/plain": [
              "0       NaN\n",
              "1       C85\n",
              "2       NaN\n",
              "3      C123\n",
              "4       NaN\n",
              "       ... \n",
              "886     NaN\n",
              "887     B42\n",
              "888     NaN\n",
              "889    C148\n",
              "890     NaN\n",
              "Name: Cabin, Length: 891, dtype: object"
            ]
          },
          "metadata": {},
          "execution_count": 93
        }
      ]
    },
    {
      "cell_type": "code",
      "metadata": {
        "id": "8Y45c1otAVve"
      },
      "source": [
        "train_df['CabinM'] = train_df['Cabin'].fillna(\"U0\")"
      ],
      "execution_count": null,
      "outputs": []
    },
    {
      "cell_type": "code",
      "metadata": {
        "id": "B-9nT1u5AcTJ",
        "colab": {
          "base_uri": "https://localhost:8080/"
        },
        "outputId": "e896da12-e8bc-4d19-fe4b-25c301341f81"
      },
      "source": [
        "train_df['CabinM']"
      ],
      "execution_count": null,
      "outputs": [
        {
          "output_type": "execute_result",
          "data": {
            "text/plain": [
              "0        U0\n",
              "1       C85\n",
              "2        U0\n",
              "3      C123\n",
              "4        U0\n",
              "       ... \n",
              "886      U0\n",
              "887     B42\n",
              "888      U0\n",
              "889    C148\n",
              "890      U0\n",
              "Name: CabinM, Length: 891, dtype: object"
            ]
          },
          "metadata": {},
          "execution_count": 95
        }
      ]
    },
    {
      "cell_type": "code",
      "metadata": {
        "id": "QO9oo235sZN1",
        "colab": {
          "base_uri": "https://localhost:8080/"
        },
        "outputId": "472defa1-04a9-421a-f4fb-1028fc08e8de"
      },
      "source": [
        "missingvals = train_df.isnull().sum()/len(train_df)\n",
        "missingvals.sort_values(ascending=False)"
      ],
      "execution_count": null,
      "outputs": [
        {
          "output_type": "execute_result",
          "data": {
            "text/plain": [
              "Cabin          0.771044\n",
              "CabinM         0.000000\n",
              "Embarked       0.000000\n",
              "Fare           0.000000\n",
              "Ticket         0.000000\n",
              "Parch          0.000000\n",
              "SibSp          0.000000\n",
              "Age            0.000000\n",
              "Sex            0.000000\n",
              "Name           0.000000\n",
              "Pclass         0.000000\n",
              "Survived       0.000000\n",
              "PassengerId    0.000000\n",
              "dtype: float64"
            ]
          },
          "metadata": {},
          "execution_count": 96
        }
      ]
    },
    {
      "cell_type": "markdown",
      "metadata": {
        "id": "0IpqowRjtF82"
      },
      "source": [
        "#### Data exploration"
      ]
    },
    {
      "cell_type": "code",
      "metadata": {
        "id": "SYc3OwgAtKej",
        "colab": {
          "base_uri": "https://localhost:8080/"
        },
        "outputId": "a34a3d41-bca5-44c6-ae81-d3744bc2accb"
      },
      "source": [
        "train_df.columns"
      ],
      "execution_count": null,
      "outputs": [
        {
          "output_type": "execute_result",
          "data": {
            "text/plain": [
              "Index(['PassengerId', 'Survived', 'Pclass', 'Name', 'Sex', 'Age', 'SibSp',\n",
              "       'Parch', 'Ticket', 'Fare', 'Cabin', 'Embarked', 'CabinM'],\n",
              "      dtype='object')"
            ]
          },
          "metadata": {},
          "execution_count": 97
        }
      ]
    },
    {
      "cell_type": "markdown",
      "metadata": {
        "id": "ZdEpmF1svwM3"
      },
      "source": [
        "###### Seperate features into numerical and categorical"
      ]
    },
    {
      "cell_type": "code",
      "metadata": {
        "id": "swLdK8tdvveD"
      },
      "source": [
        "train_df_num = train_df[['Age','SibSp','Parch','Fare']]\n",
        "train_df_cat = train_df[['Survived','Pclass','Sex','Ticket','Cabin','Embarked']]"
      ],
      "execution_count": null,
      "outputs": []
    },
    {
      "cell_type": "code",
      "metadata": {
        "id": "XXpCK6LgwH5X"
      },
      "source": [
        "import seaborn as sns\n",
        "import matplotlib.pyplot as plt\n",
        "%matplotlib inline"
      ],
      "execution_count": null,
      "outputs": []
    },
    {
      "cell_type": "code",
      "metadata": {
        "id": "oDIMbA1KOAIG",
        "colab": {
          "base_uri": "https://localhost:8080/"
        },
        "outputId": "7f50ec56-bbad-4b47-d039-c5195423a667"
      },
      "source": [
        "train_df_num.columns"
      ],
      "execution_count": null,
      "outputs": [
        {
          "output_type": "execute_result",
          "data": {
            "text/plain": [
              "Index(['Age', 'SibSp', 'Parch', 'Fare'], dtype='object')"
            ]
          },
          "metadata": {},
          "execution_count": 100
        }
      ]
    },
    {
      "cell_type": "code",
      "metadata": {
        "id": "5WSoaIXzyigo",
        "colab": {
          "base_uri": "https://localhost:8080/"
        },
        "outputId": "6e9c9d6f-2dd8-4485-e719-589af25e6c96"
      },
      "source": [
        "for i in train_df_num.columns:\n",
        "    plt.hist(train_df_num[i])\n",
        "    plt.title(i)\n",
        "    plt.show()"
      ],
      "execution_count": null,
      "outputs": [
        {
          "output_type": "display_data",
          "data": {
            "image/png": "[encoded data removed]",
            "text/plain": [
              "<Figure size 432x288 with 1 Axes>"
            ]
          },
          "metadata": {
            "needs_background": "light"
          }
        },
        {
          "output_type": "display_data",
          "data": {
            "image/png": "[encoded data removed]",
            "text/plain": [
              "<Figure size 432x288 with 1 Axes>"
            ]
          },
          "metadata": {
            "needs_background": "light"
          }
        },
        {
          "output_type": "display_data",
          "data": {
            "image/png": "[encoded data removed]",
            "text/plain": [
              "<Figure size 432x288 with 1 Axes>"
            ]
          },
          "metadata": {
            "needs_background": "light"
          }
        },
        {
          "output_type": "display_data",
          "data": {
            "image/png": "[encoded data removed]",
            "text/plain": [
              "<Figure size 432x288 with 1 Axes>"
            ]
          },
          "metadata": {
            "needs_background": "light"
          }
        }
      ]
    },
    {
      "cell_type": "markdown",
      "metadata": {
        "id": "7RjuIt8PzB_d"
      },
      "source": [
        "Age is close to normal. Others are scattered."
      ]
    },
    {
      "cell_type": "code",
      "metadata": {
        "id": "gXyMyJlFPpTR",
        "colab": {
          "base_uri": "https://localhost:8080/"
        },
        "outputId": "e62a3648-c596-4ec0-e736-e2016097c0c5"
      },
      "source": [
        "train_df_num.corr()"
      ],
      "execution_count": null,
      "outputs": [
        {
          "output_type": "execute_result",
          "data": {
            "text/html": [
              "<div>\n",
              "<style scoped>\n",
              "    .dataframe tbody tr th:only-of-type {\n",
              "        vertical-align: middle;\n",
              "    }\n",
              "\n",
              "    .dataframe tbody tr th {\n",
              "        vertical-align: top;\n",
              "    }\n",
              "\n",
              "    .dataframe thead th {\n",
              "        text-align: right;\n",
              "    }\n",
              "</style>\n",
              "<table border=\"1\" class=\"dataframe\">\n",
              "  <thead>\n",
              "    <tr style=\"text-align: right;\">\n",
              "      <th></th>\n",
              "      <th>Age</th>\n",
              "      <th>SibSp</th>\n",
              "      <th>Parch</th>\n",
              "      <th>Fare</th>\n",
              "    </tr>\n",
              "  </thead>\n",
              "  <tbody>\n",
              "    <tr>\n",
              "      <th>Age</th>\n",
              "      <td>1.000000</td>\n",
              "      <td>-0.233296</td>\n",
              "      <td>-0.172482</td>\n",
              "      <td>0.096688</td>\n",
              "    </tr>\n",
              "    <tr>\n",
              "      <th>SibSp</th>\n",
              "      <td>-0.233296</td>\n",
              "      <td>1.000000</td>\n",
              "      <td>0.414838</td>\n",
              "      <td>0.159651</td>\n",
              "    </tr>\n",
              "    <tr>\n",
              "      <th>Parch</th>\n",
              "      <td>-0.172482</td>\n",
              "      <td>0.414838</td>\n",
              "      <td>1.000000</td>\n",
              "      <td>0.216225</td>\n",
              "    </tr>\n",
              "    <tr>\n",
              "      <th>Fare</th>\n",
              "      <td>0.096688</td>\n",
              "      <td>0.159651</td>\n",
              "      <td>0.216225</td>\n",
              "      <td>1.000000</td>\n",
              "    </tr>\n",
              "  </tbody>\n",
              "</table>\n",
              "</div>"
            ],
            "text/plain": [
              "            Age     SibSp     Parch      Fare\n",
              "Age    1.000000 -0.233296 -0.172482  0.096688\n",
              "SibSp -0.233296  1.000000  0.414838  0.159651\n",
              "Parch -0.172482  0.414838  1.000000  0.216225\n",
              "Fare   0.096688  0.159651  0.216225  1.000000"
            ]
          },
          "metadata": {},
          "execution_count": 102
        }
      ]
    },
    {
      "cell_type": "code",
      "metadata": {
        "id": "3s2t53SlwMn4",
        "colab": {
          "base_uri": "https://localhost:8080/"
        },
        "outputId": "c9fbc88f-7698-4a3c-fe72-562839885769"
      },
      "source": [
        "sns.heatmap(train_df_num.corr())"
      ],
      "execution_count": null,
      "outputs": [
        {
          "output_type": "execute_result",
          "data": {
            "text/plain": [
              "<matplotlib.axes._subplots.AxesSubplot at 0x7fb186008550>"
            ]
          },
          "metadata": {},
          "execution_count": 103
        },
        {
          "output_type": "display_data",
          "data": {
            "image/png": "[encoded data removed]",
            "text/plain": [
              "<Figure size 432x288 with 2 Axes>"
            ]
          },
          "metadata": {
            "needs_background": "light"
          }
        }
      ]
    },
    {
      "cell_type": "markdown",
      "metadata": {
        "id": "7HMwPRV5xO0N"
      },
      "source": [
        "The only significant correlation is between SibSp and Parch"
      ]
    },
    {
      "cell_type": "code",
      "metadata": {
        "id": "nT-KK5H3wMxf",
        "colab": {
          "base_uri": "https://localhost:8080/"
        },
        "outputId": "9307944f-9f09-426d-a7ed-d845621fd7ed"
      },
      "source": [
        "pd.pivot_table(train_df, index = 'Survived', values = ['Age','SibSp','Parch','Fare'])"
      ],
      "execution_count": null,
      "outputs": [
        {
          "output_type": "execute_result",
          "data": {
            "text/html": [
              "<div>\n",
              "<style scoped>\n",
              "    .dataframe tbody tr th:only-of-type {\n",
              "        vertical-align: middle;\n",
              "    }\n",
              "\n",
              "    .dataframe tbody tr th {\n",
              "        vertical-align: top;\n",
              "    }\n",
              "\n",
              "    .dataframe thead th {\n",
              "        text-align: right;\n",
              "    }\n",
              "</style>\n",
              "<table border=\"1\" class=\"dataframe\">\n",
              "  <thead>\n",
              "    <tr style=\"text-align: right;\">\n",
              "      <th></th>\n",
              "      <th>Age</th>\n",
              "      <th>Fare</th>\n",
              "      <th>Parch</th>\n",
              "      <th>SibSp</th>\n",
              "    </tr>\n",
              "    <tr>\n",
              "      <th>Survived</th>\n",
              "      <th></th>\n",
              "      <th></th>\n",
              "      <th></th>\n",
              "      <th></th>\n",
              "    </tr>\n",
              "  </thead>\n",
              "  <tbody>\n",
              "    <tr>\n",
              "      <th>0</th>\n",
              "      <td>30.028233</td>\n",
              "      <td>22.117887</td>\n",
              "      <td>0.329690</td>\n",
              "      <td>0.553734</td>\n",
              "    </tr>\n",
              "    <tr>\n",
              "      <th>1</th>\n",
              "      <td>28.291433</td>\n",
              "      <td>48.395408</td>\n",
              "      <td>0.464912</td>\n",
              "      <td>0.473684</td>\n",
              "    </tr>\n",
              "  </tbody>\n",
              "</table>\n",
              "</div>"
            ],
            "text/plain": [
              "                Age       Fare     Parch     SibSp\n",
              "Survived                                          \n",
              "0         30.028233  22.117887  0.329690  0.553734\n",
              "1         28.291433  48.395408  0.464912  0.473684"
            ]
          },
          "metadata": {},
          "execution_count": 104
        }
      ]
    },
    {
      "cell_type": "markdown",
      "metadata": {
        "id": "KF54aPfovALp"
      },
      "source": [
        "##### Survived"
      ]
    },
    {
      "cell_type": "code",
      "metadata": {
        "id": "UXMErdHIvhEU",
        "colab": {
          "base_uri": "https://localhost:8080/"
        },
        "outputId": "abec87a6-26d7-4f13-e2d2-c847c241a9c8"
      },
      "source": [
        "for i in train_df_cat.columns:\n",
        "    sns.barplot(x=train_df_cat[i].value_counts().index,y=train_df_cat[i].value_counts()).set_title(i)\n",
        "    plt.show()"
      ],
      "execution_count": null,
      "outputs": [
        {
          "output_type": "display_data",
          "data": {
            "image/png": "[encoded data removed]",
            "text/plain": [
              "<Figure size 432x288 with 1 Axes>"
            ]
          },
          "metadata": {
            "needs_background": "light"
          }
        },
        {
          "output_type": "display_data",
          "data": {
            "image/png": "[encoded data removed]",
            "text/plain": [
              "<Figure size 432x288 with 1 Axes>"
            ]
          },
          "metadata": {
            "needs_background": "light"
          }
        },
        {
          "output_type": "display_data",
          "data": {
            "image/png": "[encoded data removed]",
            "text/plain": [
              "<Figure size 432x288 with 1 Axes>"
            ]
          },
          "metadata": {
            "needs_background": "light"
          }
        },
        {
          "output_type": "display_data",
          "data": {
            "image/png": "[encoded data removed]",
            "text/plain": [
              "<Figure size 432x288 with 1 Axes>"
            ]
          },
          "metadata": {
            "needs_background": "light"
          }
        },
        {
          "output_type": "display_data",
          "data": {
            "image/png": "[encoded data removed]",
            "text/plain": [
              "<Figure size 432x288 with 1 Axes>"
            ]
          },
          "metadata": {
            "needs_background": "light"
          }
        },
        {
          "output_type": "display_data",
          "data": {
            "image/png": "[encoded data removed]",
            "text/plain": [
              "<Figure size 432x288 with 1 Axes>"
            ]
          },
          "metadata": {
            "needs_background": "light"
          }
        }
      ]
    },
    {
      "cell_type": "markdown",
      "metadata": {
        "id": "MOh58YpaRSEg"
      },
      "source": [
        "Ticket and Cabin data is messy\n",
        "\n",
        "Majority of the people travelled 3rd class\n",
        "\n",
        "There were approx double the number of males compared to females\n",
        "\n",
        "Embarked: Most of the passengers boarded the ship from Southampton."
      ]
    },
    {
      "cell_type": "code",
      "metadata": {
        "id": "DN-h5o_ru_SN",
        "colab": {
          "base_uri": "https://localhost:8080/"
        },
        "outputId": "900d438b-67c8-4d0b-e9dc-f1e63e1989ea"
      },
      "source": [
        "print(pd.pivot_table(train_df, index = 'Survived', columns = 'Pclass',\n",
        "                     values = 'Ticket' ,aggfunc ='count'))\n",
        "print()\n",
        "print(pd.pivot_table(train_df, index = 'Survived', columns = 'Sex', \n",
        "                     values = 'Ticket' ,aggfunc ='count'))\n",
        "print()\n",
        "print(pd.pivot_table(train_df, index = 'Survived', columns = 'Embarked', \n",
        "                     values = 'Ticket' ,aggfunc ='count'))"
      ],
      "execution_count": null,
      "outputs": [
        {
          "output_type": "stream",
          "name": "stdout",
          "text": [
            "Pclass      1   2    3\n",
            "Survived              \n",
            "0          80  97  372\n",
            "1         136  87  119\n",
            "\n",
            "Sex       female  male\n",
            "Survived              \n",
            "0             81   468\n",
            "1            233   109\n",
            "\n",
            "Embarked   C   Q    S\n",
            "Survived             \n",
            "0         75  47  427\n",
            "1         93  30  219\n"
          ]
        }
      ]
    },
    {
      "cell_type": "markdown",
      "metadata": {
        "id": "eo3wKaPUR9ZX"
      },
      "source": [
        "More people survived in the first class\n",
        "\n",
        "More women survived compared to males\n",
        "\n",
        "Survived to Non survivor ratio is better for those embarked on Cherboug"
      ]
    },
    {
      "cell_type": "markdown",
      "metadata": {
        "id": "5m-dEu7dTb4w"
      },
      "source": [
        "### Feature engineering"
      ]
    },
    {
      "cell_type": "markdown",
      "metadata": {
        "id": "Mk9hJ2mHf4l9"
      },
      "source": [
        "##### Cabin"
      ]
    },
    {
      "cell_type": "code",
      "metadata": {
        "id": "NaGvZRB5SfUo",
        "colab": {
          "base_uri": "https://localhost:8080/"
        },
        "outputId": "a5b81f9f-f80b-455c-bd02-731429b707f0"
      },
      "source": [
        "train_df.CabinM"
      ],
      "execution_count": null,
      "outputs": [
        {
          "output_type": "execute_result",
          "data": {
            "text/plain": [
              "0        U0\n",
              "1       C85\n",
              "2        U0\n",
              "3      C123\n",
              "4        U0\n",
              "       ... \n",
              "886      U0\n",
              "887     B42\n",
              "888      U0\n",
              "889    C148\n",
              "890      U0\n",
              "Name: CabinM, Length: 891, dtype: object"
            ]
          },
          "metadata": {},
          "execution_count": 107
        }
      ]
    },
    {
      "cell_type": "code",
      "metadata": {
        "id": "DM4zgT0wSszF",
        "colab": {
          "base_uri": "https://localhost:8080/"
        },
        "outputId": "b8733dcb-a7a1-41dd-ca3c-dd451fdb1909"
      },
      "source": [
        "mystr = 'U0'\n",
        "mystr.split(' ')"
      ],
      "execution_count": null,
      "outputs": [
        {
          "output_type": "execute_result",
          "data": {
            "text/plain": [
              "['U0']"
            ]
          },
          "metadata": {},
          "execution_count": 108
        }
      ]
    },
    {
      "cell_type": "code",
      "metadata": {
        "id": "1OKbSnKaduK9",
        "colab": {
          "base_uri": "https://localhost:8080/"
        },
        "outputId": "b78ac81c-6b88-4b17-b5ff-5335dc7d69f1"
      },
      "source": [
        "[x for x in train_df.CabinM if len(x.split(' '))>1]"
      ],
      "execution_count": null,
      "outputs": [
        {
          "output_type": "execute_result",
          "data": {
            "text/plain": [
              "['C23 C25 C27',\n",
              " 'F G73',\n",
              " 'C23 C25 C27',\n",
              " 'D10 D12',\n",
              " 'B58 B60',\n",
              " 'F E69',\n",
              " 'C22 C26',\n",
              " 'B58 B60',\n",
              " 'C22 C26',\n",
              " 'B57 B59 B63 B66',\n",
              " 'C23 C25 C27',\n",
              " 'B96 B98',\n",
              " 'B96 B98',\n",
              " 'C23 C25 C27',\n",
              " 'C22 C26',\n",
              " 'B51 B53 B55',\n",
              " 'F G63',\n",
              " 'C62 C64',\n",
              " 'F G73',\n",
              " 'B57 B59 B63 B66',\n",
              " 'B96 B98',\n",
              " 'B82 B84',\n",
              " 'B96 B98',\n",
              " 'B51 B53 B55']"
            ]
          },
          "metadata": {},
          "execution_count": 109
        }
      ]
    },
    {
      "cell_type": "markdown",
      "metadata": {
        "id": "54IcwOJ7UPxG"
      },
      "source": [
        "if null \n",
        "\n",
        "return 0\n",
        "\n",
        "if split and find that there is only one cabin\n",
        "\n",
        "return 1\n",
        "\n",
        "if split and find that there is only two cabin\n",
        "\n",
        "return 2\n"
      ]
    },
    {
      "cell_type": "code",
      "metadata": {
        "id": "1b8HQ9GkAvdY",
        "colab": {
          "base_uri": "https://localhost:8080/"
        },
        "outputId": "09cd70ab-5a4d-4e38-ce66-36abb729e8bd"
      },
      "source": [
        "train_df['cabin_multiple'] = train_df.Cabin.apply(lambda x: 0 if pd.isna(x) \n",
        "                                                    else len(x.split(' ')))\n",
        "train_df['cabin_multiple'].value_counts()\n",
        "\n"
      ],
      "execution_count": null,
      "outputs": [
        {
          "output_type": "execute_result",
          "data": {
            "text/plain": [
              "0    687\n",
              "1    180\n",
              "2     16\n",
              "3      6\n",
              "4      2\n",
              "Name: cabin_multiple, dtype: int64"
            ]
          },
          "metadata": {},
          "execution_count": 110
        }
      ]
    },
    {
      "cell_type": "code",
      "metadata": {
        "id": "ESivF4HyA8K3",
        "colab": {
          "base_uri": "https://localhost:8080/",
          "height": 143
        },
        "outputId": "9738db8b-1f9a-4f04-d850-8d7a4afe9dac"
      },
      "source": [
        "pd.pivot_table(train_df, index = 'Survived', columns = 'cabin_multiple',\n",
        "               values = 'Ticket' ,aggfunc ='count')"
      ],
      "execution_count": null,
      "outputs": [
        {
          "output_type": "execute_result",
          "data": {
            "text/html": [
              "<div>\n",
              "<style scoped>\n",
              "    .dataframe tbody tr th:only-of-type {\n",
              "        vertical-align: middle;\n",
              "    }\n",
              "\n",
              "    .dataframe tbody tr th {\n",
              "        vertical-align: top;\n",
              "    }\n",
              "\n",
              "    .dataframe thead th {\n",
              "        text-align: right;\n",
              "    }\n",
              "</style>\n",
              "<table border=\"1\" class=\"dataframe\">\n",
              "  <thead>\n",
              "    <tr style=\"text-align: right;\">\n",
              "      <th>cabin_multiple</th>\n",
              "      <th>0</th>\n",
              "      <th>1</th>\n",
              "      <th>2</th>\n",
              "      <th>3</th>\n",
              "      <th>4</th>\n",
              "    </tr>\n",
              "    <tr>\n",
              "      <th>Survived</th>\n",
              "      <th></th>\n",
              "      <th></th>\n",
              "      <th></th>\n",
              "      <th></th>\n",
              "      <th></th>\n",
              "    </tr>\n",
              "  </thead>\n",
              "  <tbody>\n",
              "    <tr>\n",
              "      <th>0</th>\n",
              "      <td>481.0</td>\n",
              "      <td>58.0</td>\n",
              "      <td>7.0</td>\n",
              "      <td>3.0</td>\n",
              "      <td>NaN</td>\n",
              "    </tr>\n",
              "    <tr>\n",
              "      <th>1</th>\n",
              "      <td>206.0</td>\n",
              "      <td>122.0</td>\n",
              "      <td>9.0</td>\n",
              "      <td>3.0</td>\n",
              "      <td>2.0</td>\n",
              "    </tr>\n",
              "  </tbody>\n",
              "</table>\n",
              "</div>"
            ],
            "text/plain": [
              "cabin_multiple      0      1    2    3    4\n",
              "Survived                                   \n",
              "0               481.0   58.0  7.0  3.0  NaN\n",
              "1               206.0  122.0  9.0  3.0  2.0"
            ]
          },
          "metadata": {},
          "execution_count": 111
        }
      ]
    },
    {
      "cell_type": "code",
      "metadata": {
        "id": "XylQIbI0gZZv",
        "colab": {
          "base_uri": "https://localhost:8080/",
          "height": 505
        },
        "outputId": "2f5ef6f2-3a0a-4c43-9109-03e9f3b6e2b7"
      },
      "source": [
        "train_df['cabin_first_letter'] = train_df.Cabin.apply(lambda x: str(x)[0])\n",
        "#comparing survival rates by cabin\n",
        "print(train_df.cabin_first_letter.value_counts())\n",
        "pt_table = pd.pivot_table(train_df,index='Survived',columns='cabin_first_letter', \n",
        "                        values = 'Name', aggfunc='count')\n",
        "lbl = [x for x in pt_table]\n",
        "survivedvals = [pt_table[x][0] for x in pt_table]\n",
        "pct = [pt_table[x][1]/(pt_table[x][0]+pt_table[x][1]) for x in pt_table]\n",
        "\n",
        "pd.DataFrame(pct, lbl)"
      ],
      "execution_count": null,
      "outputs": [
        {
          "output_type": "stream",
          "name": "stdout",
          "text": [
            "n    687\n",
            "C     59\n",
            "B     47\n",
            "D     33\n",
            "E     32\n",
            "A     15\n",
            "F     13\n",
            "G      4\n",
            "T      1\n",
            "Name: cabin_first_letter, dtype: int64\n"
          ]
        },
        {
          "output_type": "execute_result",
          "data": {
            "text/html": [
              "<div>\n",
              "<style scoped>\n",
              "    .dataframe tbody tr th:only-of-type {\n",
              "        vertical-align: middle;\n",
              "    }\n",
              "\n",
              "    .dataframe tbody tr th {\n",
              "        vertical-align: top;\n",
              "    }\n",
              "\n",
              "    .dataframe thead th {\n",
              "        text-align: right;\n",
              "    }\n",
              "</style>\n",
              "<table border=\"1\" class=\"dataframe\">\n",
              "  <thead>\n",
              "    <tr style=\"text-align: right;\">\n",
              "      <th></th>\n",
              "      <th>0</th>\n",
              "    </tr>\n",
              "  </thead>\n",
              "  <tbody>\n",
              "    <tr>\n",
              "      <th>A</th>\n",
              "      <td>0.466667</td>\n",
              "    </tr>\n",
              "    <tr>\n",
              "      <th>B</th>\n",
              "      <td>0.744681</td>\n",
              "    </tr>\n",
              "    <tr>\n",
              "      <th>C</th>\n",
              "      <td>0.593220</td>\n",
              "    </tr>\n",
              "    <tr>\n",
              "      <th>D</th>\n",
              "      <td>0.757576</td>\n",
              "    </tr>\n",
              "    <tr>\n",
              "      <th>E</th>\n",
              "      <td>0.750000</td>\n",
              "    </tr>\n",
              "    <tr>\n",
              "      <th>F</th>\n",
              "      <td>0.615385</td>\n",
              "    </tr>\n",
              "    <tr>\n",
              "      <th>G</th>\n",
              "      <td>0.500000</td>\n",
              "    </tr>\n",
              "    <tr>\n",
              "      <th>T</th>\n",
              "      <td>NaN</td>\n",
              "    </tr>\n",
              "    <tr>\n",
              "      <th>n</th>\n",
              "      <td>0.299854</td>\n",
              "    </tr>\n",
              "  </tbody>\n",
              "</table>\n",
              "</div>"
            ],
            "text/plain": [
              "          0\n",
              "A  0.466667\n",
              "B  0.744681\n",
              "C  0.593220\n",
              "D  0.757576\n",
              "E  0.750000\n",
              "F  0.615385\n",
              "G  0.500000\n",
              "T       NaN\n",
              "n  0.299854"
            ]
          },
          "metadata": {},
          "execution_count": 112
        }
      ]
    },
    {
      "cell_type": "markdown",
      "metadata": {
        "id": "Bg-3RnlsrMIu"
      },
      "source": [
        "We decide to drop Cabin"
      ]
    },
    {
      "cell_type": "code",
      "metadata": {
        "id": "HRz7TpdywZLr"
      },
      "source": [
        "train_df = train_df.drop([\"Cabin\", \"CabinM\",\"cabin_multiple\",\"cabin_first_letter\"], axis=1)"
      ],
      "execution_count": null,
      "outputs": []
    },
    {
      "cell_type": "code",
      "metadata": {
        "colab": {
          "base_uri": "https://localhost:8080/"
        },
        "id": "2pDBPdWkw_nj",
        "outputId": "b7368cce-d7c3-4327-9222-b8e4a7ab25c1"
      },
      "source": [
        "train_df.columns"
      ],
      "execution_count": null,
      "outputs": [
        {
          "output_type": "execute_result",
          "data": {
            "text/plain": [
              "Index(['PassengerId', 'Survived', 'Pclass', 'Name', 'Sex', 'Age', 'SibSp',\n",
              "       'Parch', 'Ticket', 'Fare', 'Embarked'],\n",
              "      dtype='object')"
            ]
          },
          "metadata": {},
          "execution_count": 114
        }
      ]
    },
    {
      "cell_type": "markdown",
      "metadata": {
        "id": "tOyaj7EWrS__"
      },
      "source": [
        "##### Ticket"
      ]
    },
    {
      "cell_type": "code",
      "metadata": {
        "id": "FDA6rymCsCVP"
      },
      "source": [
        "train_df['numeric_ticket'] = train_df.Ticket.apply(lambda x: 1 if x.isnumeric() else 0)\n",
        "train_df['ticket_letters'] = train_df.Ticket.apply(lambda x: ''.join(x.split(' ')[:-1])\n",
        "                                            .replace('.','').replace('/','')\n",
        "                                            .lower() if len(x.split(' ')[:-1]) >0 else 0)"
      ],
      "execution_count": null,
      "outputs": []
    },
    {
      "cell_type": "code",
      "metadata": {
        "colab": {
          "base_uri": "https://localhost:8080/"
        },
        "id": "TebOYNGhsVI4",
        "outputId": "6a7ac7be-a4e7-4826-8555-13b8953489c9"
      },
      "source": [
        "train_df['numeric_ticket']"
      ],
      "execution_count": null,
      "outputs": [
        {
          "output_type": "execute_result",
          "data": {
            "text/plain": [
              "0      0\n",
              "1      0\n",
              "2      0\n",
              "3      1\n",
              "4      1\n",
              "      ..\n",
              "886    1\n",
              "887    1\n",
              "888    0\n",
              "889    1\n",
              "890    1\n",
              "Name: numeric_ticket, Length: 891, dtype: int64"
            ]
          },
          "metadata": {},
          "execution_count": 116
        }
      ]
    },
    {
      "cell_type": "code",
      "metadata": {
        "colab": {
          "base_uri": "https://localhost:8080/"
        },
        "id": "tj1G3lFxsXjF",
        "outputId": "469387f8-69f2-4995-ad94-17ff1b02e3ee"
      },
      "source": [
        "train_df['ticket_letters']"
      ],
      "execution_count": null,
      "outputs": [
        {
          "output_type": "execute_result",
          "data": {
            "text/plain": [
              "0          a5\n",
              "1          pc\n",
              "2      stono2\n",
              "3           0\n",
              "4           0\n",
              "        ...  \n",
              "886         0\n",
              "887         0\n",
              "888        wc\n",
              "889         0\n",
              "890         0\n",
              "Name: ticket_letters, Length: 891, dtype: object"
            ]
          },
          "metadata": {},
          "execution_count": 117
        }
      ]
    },
    {
      "cell_type": "code",
      "metadata": {
        "id": "ZafFgUzAw7tY"
      },
      "source": [
        "train_df = train_df.drop([\"Ticket\", \"ticket_letters\"], axis=1)"
      ],
      "execution_count": null,
      "outputs": []
    },
    {
      "cell_type": "markdown",
      "metadata": {
        "id": "TH-qYY5Kr8Oc"
      },
      "source": [
        "##### Name"
      ]
    },
    {
      "cell_type": "code",
      "metadata": {
        "id": "ETYIlhxSY-xQ",
        "colab": {
          "base_uri": "https://localhost:8080/"
        },
        "outputId": "34b7c0ec-cd79-476c-fc39-0025ed166bed"
      },
      "source": [
        "train_df[\"Name\"]"
      ],
      "execution_count": null,
      "outputs": [
        {
          "output_type": "execute_result",
          "data": {
            "text/plain": [
              "0                                Braund, Mr. Owen Harris\n",
              "1      Cumings, Mrs. John Bradley (Florence Briggs Th...\n",
              "2                                 Heikkinen, Miss. Laina\n",
              "3           Futrelle, Mrs. Jacques Heath (Lily May Peel)\n",
              "4                               Allen, Mr. William Henry\n",
              "                             ...                        \n",
              "886                                Montvila, Rev. Juozas\n",
              "887                         Graham, Miss. Margaret Edith\n",
              "888             Johnston, Miss. Catherine Helen \"Carrie\"\n",
              "889                                Behr, Mr. Karl Howell\n",
              "890                                  Dooley, Mr. Patrick\n",
              "Name: Name, Length: 891, dtype: object"
            ]
          },
          "metadata": {},
          "execution_count": 119
        }
      ]
    },
    {
      "cell_type": "code",
      "metadata": {
        "id": "BfLypE0jA-8A",
        "colab": {
          "base_uri": "https://localhost:8080/"
        },
        "outputId": "814be118-0d9c-4ac1-e199-9bca00e6a523"
      },
      "source": [
        "train_df['name_title'] = train_df.Name.apply(lambda x: x.split(',')[1]\n",
        "                                                        .split('.')[0].strip())\n",
        "train_df['name_title'].value_counts()"
      ],
      "execution_count": null,
      "outputs": [
        {
          "output_type": "execute_result",
          "data": {
            "text/plain": [
              "Mr              517\n",
              "Miss            182\n",
              "Mrs             125\n",
              "Master           40\n",
              "Dr                7\n",
              "Rev               6\n",
              "Col               2\n",
              "Major             2\n",
              "Mlle              2\n",
              "Mme               1\n",
              "Jonkheer          1\n",
              "the Countess      1\n",
              "Don               1\n",
              "Ms                1\n",
              "Sir               1\n",
              "Capt              1\n",
              "Lady              1\n",
              "Name: name_title, dtype: int64"
            ]
          },
          "metadata": {},
          "execution_count": 120
        }
      ]
    },
    {
      "cell_type": "code",
      "metadata": {
        "id": "Z3sS4dBTxR1f"
      },
      "source": [
        "train_df = train_df.drop([\"Name\"], axis=1)"
      ],
      "execution_count": null,
      "outputs": []
    },
    {
      "cell_type": "markdown",
      "metadata": {
        "id": "DnXGopOivxHY"
      },
      "source": [
        "##### Parch SibSp"
      ]
    },
    {
      "cell_type": "code",
      "metadata": {
        "id": "dfGSmPgDv9uo"
      },
      "source": [
        "train_df['Family'] = train_df.Parch + train_df.SibSp"
      ],
      "execution_count": null,
      "outputs": []
    },
    {
      "cell_type": "code",
      "metadata": {
        "id": "x2kuA9Y_v61Y"
      },
      "source": [
        "train_df['Is_Alone'] = train_df.Family == 0"
      ],
      "execution_count": null,
      "outputs": []
    },
    {
      "cell_type": "code",
      "metadata": {
        "id": "niSzrpbLwHMj"
      },
      "source": [
        "train_df = train_df.drop([\"Family\",\"Parch\",\"SibSp\"], axis=1)"
      ],
      "execution_count": null,
      "outputs": []
    },
    {
      "cell_type": "code",
      "metadata": {
        "colab": {
          "base_uri": "https://localhost:8080/"
        },
        "id": "jersWxsGuZ1N",
        "outputId": "c923d54f-5060-4ddb-f702-b7d16e08f5ff"
      },
      "source": [
        "train_df.loc[0]"
      ],
      "execution_count": null,
      "outputs": [
        {
          "output_type": "execute_result",
          "data": {
            "text/plain": [
              "PassengerId           1\n",
              "Survived              0\n",
              "Pclass                3\n",
              "Sex                male\n",
              "Age                  22\n",
              "Fare               7.25\n",
              "Embarked              S\n",
              "numeric_ticket        0\n",
              "name_title           Mr\n",
              "Is_Alone          False\n",
              "Name: 0, dtype: object"
            ]
          },
          "metadata": {},
          "execution_count": 125
        }
      ]
    },
    {
      "cell_type": "markdown",
      "metadata": {
        "id": "ueHinnHUu8xo"
      },
      "source": [
        "##### Encoding"
      ]
    },
    {
      "cell_type": "code",
      "metadata": {
        "id": "5c6lpr0z1C82"
      },
      "source": [
        "from sklearn import preprocessing"
      ],
      "execution_count": null,
      "outputs": []
    },
    {
      "cell_type": "code",
      "metadata": {
        "id": "4qp849UTuzRb"
      },
      "source": [
        "# Encode Age\n",
        "train_df['Sex'] = preprocessing.LabelEncoder().fit_transform(train_df['Sex'])\n"
      ],
      "execution_count": null,
      "outputs": []
    },
    {
      "cell_type": "code",
      "metadata": {
        "id": "SwhzcuaH4yC2",
        "colab": {
          "base_uri": "https://localhost:8080/"
        },
        "outputId": "c4d019f7-143f-4aad-9a8d-07026260c9dc"
      },
      "source": [
        "train_df['Sex'] "
      ],
      "execution_count": null,
      "outputs": [
        {
          "output_type": "execute_result",
          "data": {
            "text/plain": [
              "0      1\n",
              "1      0\n",
              "2      0\n",
              "3      0\n",
              "4      1\n",
              "      ..\n",
              "886    1\n",
              "887    0\n",
              "888    0\n",
              "889    1\n",
              "890    1\n",
              "Name: Sex, Length: 891, dtype: int64"
            ]
          },
          "metadata": {},
          "execution_count": 128
        }
      ]
    },
    {
      "cell_type": "code",
      "metadata": {
        "id": "zvjc7sqTzmLL"
      },
      "source": [
        "# Encode Embarked\n",
        "train_df  = pd.get_dummies(train_df, columns=[\"Embarked\"], prefix=\"Emb\", drop_first = True)"
      ],
      "execution_count": null,
      "outputs": []
    },
    {
      "cell_type": "code",
      "metadata": {
        "id": "xfMA3EdMy7gA",
        "colab": {
          "base_uri": "https://localhost:8080/"
        },
        "outputId": "1dcd027c-4b86-43b3-c738-65e61ddb3c58"
      },
      "source": [
        "train_df.loc[0]"
      ],
      "execution_count": null,
      "outputs": [
        {
          "output_type": "execute_result",
          "data": {
            "text/plain": [
              "PassengerId           1\n",
              "Survived              0\n",
              "Pclass                3\n",
              "Sex                   1\n",
              "Age                  22\n",
              "Fare               7.25\n",
              "numeric_ticket        0\n",
              "name_title           Mr\n",
              "Is_Alone          False\n",
              "Emb_Q                 0\n",
              "Emb_S                 1\n",
              "Name: 0, dtype: object"
            ]
          },
          "metadata": {},
          "execution_count": 130
        }
      ]
    },
    {
      "cell_type": "code",
      "metadata": {
        "id": "41HiK_a_1ege"
      },
      "source": [
        "# Encode Name title\n",
        "train_df = pd.get_dummies(train_df, columns=[\"name_title\"], prefix=\"Name\", drop_first = True)"
      ],
      "execution_count": null,
      "outputs": []
    },
    {
      "cell_type": "code",
      "metadata": {
        "id": "FgNHlC9k2eIH"
      },
      "source": [
        "# Encode Is_Alone\n",
        "train_df['Is_Alone'] = preprocessing.LabelEncoder().fit_transform(train_df['Is_Alone'])\n"
      ],
      "execution_count": null,
      "outputs": []
    },
    {
      "cell_type": "code",
      "metadata": {
        "id": "8r65gsQ87VGa",
        "colab": {
          "base_uri": "https://localhost:8080/"
        },
        "outputId": "dd0819ee-e6f3-4f16-dbe4-7492a3316d3e"
      },
      "source": [
        "train_df.loc[0]"
      ],
      "execution_count": null,
      "outputs": [
        {
          "output_type": "execute_result",
          "data": {
            "text/plain": [
              "PassengerId           1.00\n",
              "Survived              0.00\n",
              "Pclass                3.00\n",
              "Sex                   1.00\n",
              "Age                  22.00\n",
              "Fare                  7.25\n",
              "numeric_ticket        0.00\n",
              "Is_Alone              0.00\n",
              "Emb_Q                 0.00\n",
              "Emb_S                 1.00\n",
              "Name_Col              0.00\n",
              "Name_Don              0.00\n",
              "Name_Dr               0.00\n",
              "Name_Jonkheer         0.00\n",
              "Name_Lady             0.00\n",
              "Name_Major            0.00\n",
              "Name_Master           0.00\n",
              "Name_Miss             0.00\n",
              "Name_Mlle             0.00\n",
              "Name_Mme              0.00\n",
              "Name_Mr               1.00\n",
              "Name_Mrs              0.00\n",
              "Name_Ms               0.00\n",
              "Name_Rev              0.00\n",
              "Name_Sir              0.00\n",
              "Name_the Countess     0.00\n",
              "Name: 0, dtype: float64"
            ]
          },
          "metadata": {},
          "execution_count": 133
        }
      ]
    },
    {
      "cell_type": "markdown",
      "metadata": {
        "id": "tm51yFmN7959"
      },
      "source": [
        "### Model"
      ]
    },
    {
      "cell_type": "markdown",
      "metadata": {
        "id": "D1GXP195UMnk"
      },
      "source": [
        "##### Test Train Split"
      ]
    },
    {
      "cell_type": "code",
      "metadata": {
        "id": "HQVwfBmp8Tih"
      },
      "source": [
        "# Test train split\n",
        "from sklearn.model_selection import train_test_split\n",
        "X = train_df.drop(\"Survived\", axis=1)\n",
        "y = train_df[\"Survived\"]\n",
        "X_train, X_test, y_train, y_test = train_test_split(X, y, test_size=0.33, random_state=42)"
      ],
      "execution_count": null,
      "outputs": []
    },
    {
      "cell_type": "code",
      "metadata": {
        "id": "7bivvXvD9MUK",
        "colab": {
          "base_uri": "https://localhost:8080/"
        },
        "outputId": "135c11d0-a015-44d9-a1a6-2028b2bd72f5"
      },
      "source": [
        "len(X_train)"
      ],
      "execution_count": null,
      "outputs": [
        {
          "output_type": "execute_result",
          "data": {
            "text/plain": [
              "596"
            ]
          },
          "metadata": {},
          "execution_count": 136
        }
      ]
    },
    {
      "cell_type": "code",
      "metadata": {
        "id": "laz1-FFE9Wiy",
        "colab": {
          "base_uri": "https://localhost:8080/"
        },
        "outputId": "ca4e7641-4d74-4e02-a07d-25a3e2a964cc"
      },
      "source": [
        "len(X_test)"
      ],
      "execution_count": null,
      "outputs": [
        {
          "output_type": "execute_result",
          "data": {
            "text/plain": [
              "295"
            ]
          },
          "metadata": {},
          "execution_count": 137
        }
      ]
    },
    {
      "cell_type": "code",
      "metadata": {
        "id": "ph4RI6qt9esZ"
      },
      "source": [
        "y_train"
      ],
      "execution_count": null,
      "outputs": []
    },
    {
      "cell_type": "markdown",
      "metadata": {
        "id": "vuaSZUs9UQtt"
      },
      "source": [
        "##### Baseline model"
      ]
    },
    {
      "cell_type": "code",
      "metadata": {
        "id": "Xqs8rO-ZUTuX"
      },
      "source": [
        "from sklearn.dummy import DummyClassifier"
      ],
      "execution_count": null,
      "outputs": []
    },
    {
      "cell_type": "code",
      "metadata": {
        "id": "bXnqs_jHUVmh"
      },
      "source": [
        "dummy_model = DummyClassifier(strategy='uniform', random_state=1)"
      ],
      "execution_count": null,
      "outputs": []
    },
    {
      "cell_type": "code",
      "metadata": {
        "id": "WiYZnHRAVRDd"
      },
      "source": [
        "# Fit the training data into the model\n",
        "dummy_model.fit(X_train, y_train)"
      ],
      "execution_count": null,
      "outputs": []
    },
    {
      "cell_type": "code",
      "metadata": {
        "colab": {
          "base_uri": "https://localhost:8080/"
        },
        "id": "q_hPsv1wVa2r",
        "outputId": "03ddb7e1-4f15-46c6-8892-873f986d73ad"
      },
      "source": [
        "# Measure accuracy\n",
        "dummy_model.score(X_test, y_test)"
      ],
      "execution_count": null,
      "outputs": [
        {
          "output_type": "execute_result",
          "data": {
            "text/plain": [
              "0.5220338983050847"
            ]
          },
          "metadata": {},
          "execution_count": 144
        }
      ]
    },
    {
      "cell_type": "code",
      "metadata": {
        "id": "u6kWg3jfWCFo"
      },
      "source": [
        "#confusion matrix\n",
        "\n",
        "from sklearn.metrics import confusion_matrix\n",
        "from sklearn.metrics import ConfusionMatrixDisplay\n"
      ],
      "execution_count": null,
      "outputs": []
    },
    {
      "cell_type": "code",
      "metadata": {
        "colab": {
          "base_uri": "https://localhost:8080/"
        },
        "id": "Mv-6CMvIa-kh",
        "outputId": "0e67b039-98fc-4c80-ab9e-5ec6788c1d26"
      },
      "source": [
        "confusion_matrix(y_test, dummy_model.predict(X_test))"
      ],
      "execution_count": null,
      "outputs": [
        {
          "output_type": "execute_result",
          "data": {
            "text/plain": [
              "array([[89, 86],\n",
              "       [55, 65]])"
            ]
          },
          "metadata": {},
          "execution_count": 149
        }
      ]
    },
    {
      "cell_type": "code",
      "metadata": {
        "colab": {
          "base_uri": "https://localhost:8080/",
          "height": 295
        },
        "id": "JfE7fBQebAYD",
        "outputId": "5c18ffb1-0109-4321-eb17-2445eb9b67d3"
      },
      "source": [
        "cm = ConfusionMatrixDisplay.from_estimator(dummy_model,X_test, y_test)\n",
        "cm.ax_.set_title(\"Confusion Matrix\", color=\"white\")\n",
        "\n",
        "plt.show()"
      ],
      "execution_count": null,
      "outputs": [
        {
          "output_type": "display_data",
          "data": {
            "image/png": "[encoded data removed]",
            "text/plain": [
              "<Figure size 432x288 with 2 Axes>"
            ]
          },
          "metadata": {
            "needs_background": "light"
          }
        }
      ]
    },
    {
      "cell_type": "markdown",
      "metadata": {
        "id": "vJPd4MgsVtuY"
      },
      "source": [
        "##### Logistic Regression"
      ]
    },
    {
      "cell_type": "code",
      "metadata": {
        "id": "EziZ2Uxj8A6w",
        "colab": {
          "base_uri": "https://localhost:8080/"
        },
        "outputId": "a0a1d3ad-29d8-4375-8c89-09cca0e5d9ec"
      },
      "source": [
        "# Logistic regression\n",
        "\n",
        "from sklearn.model_selection import cross_val_score\n",
        "from sklearn.linear_model import LogisticRegression\n",
        "\n",
        "lrmodel = LogisticRegression(max_iter = 2000, random_state=42)\n",
        "cv = cross_val_score(lrmodel,X,y,cv=5)\n",
        "print(cv)\n",
        "print(cv.mean())"
      ],
      "execution_count": null,
      "outputs": [
        {
          "output_type": "stream",
          "name": "stdout",
          "text": [
            "[0.7877095  0.80898876 0.78651685 0.76966292 0.79775281]\n",
            "0.7901261691042623\n"
          ]
        }
      ]
    },
    {
      "cell_type": "code",
      "metadata": {
        "id": "mvGrE587BQr6",
        "colab": {
          "base_uri": "https://localhost:8080/"
        },
        "outputId": "a6c92612-c794-48f0-9c71-c591cfc83dda"
      },
      "source": [
        "# Fit the training data into the model\n",
        "lrmodel.fit(X_train,y_train)"
      ],
      "execution_count": null,
      "outputs": [
        {
          "output_type": "execute_result",
          "data": {
            "text/plain": [
              "LogisticRegression(max_iter=2000, random_state=42)"
            ]
          },
          "metadata": {},
          "execution_count": 159
        }
      ]
    },
    {
      "cell_type": "code",
      "metadata": {
        "id": "hgCUb0UpBlmA"
      },
      "source": [
        "# Predict using our model\n",
        "lrmodel.predict(X_test)"
      ],
      "execution_count": null,
      "outputs": []
    },
    {
      "cell_type": "code",
      "metadata": {
        "id": "zoN9vxTWB4Pc"
      },
      "source": [
        "# Measure accuracy\n",
        "lrmodel.score(X_test, y_test)"
      ],
      "execution_count": null,
      "outputs": []
    },
    {
      "cell_type": "code",
      "metadata": {
        "id": "qhVfwyxICTe0"
      },
      "source": [
        "# Get probabilty value\n",
        "probalr = lrmodel.predict_proba(X_test)"
      ],
      "execution_count": null,
      "outputs": []
    },
    {
      "cell_type": "code",
      "metadata": {
        "id": "5XTJLktmCoeF"
      },
      "source": [
        "# Use proba value\n",
        "[x[0]<.75 for x in probalr]"
      ],
      "execution_count": null,
      "outputs": []
    },
    {
      "cell_type": "code",
      "metadata": {
        "colab": {
          "base_uri": "https://localhost:8080/"
        },
        "id": "RWNBrXeadp14",
        "outputId": "40cce850-ceeb-40e4-950b-5fb888646d33"
      },
      "source": [
        "confusion_matrix(y_test, lrmodel.predict(X_test))"
      ],
      "execution_count": null,
      "outputs": [
        {
          "output_type": "execute_result",
          "data": {
            "text/plain": [
              "array([[152,  23],\n",
              "       [ 31,  89]])"
            ]
          },
          "metadata": {},
          "execution_count": 164
        }
      ]
    },
    {
      "cell_type": "code",
      "metadata": {
        "colab": {
          "base_uri": "https://localhost:8080/",
          "height": 295
        },
        "id": "il0yxPK4eFT0",
        "outputId": "a1965b6b-329b-4853-823b-6ccdaacdbf0b"
      },
      "source": [
        "cm = ConfusionMatrixDisplay.from_estimator(lrmodel,X_test, y_test)\n",
        "cm.ax_.set_title(\"Confusion Matrix\", color=\"white\")\n",
        "\n",
        "plt.show()"
      ],
      "execution_count": null,
      "outputs": [
        {
          "output_type": "display_data",
          "data": {
            "image/png": "[encoded data removed]",
            "text/plain": [
              "<Figure size 432x288 with 2 Axes>"
            ]
          },
          "metadata": {
            "needs_background": "light"
          }
        }
      ]
    },
    {
      "cell_type": "markdown",
      "metadata": {
        "id": "DyVvY6Abe-gy"
      },
      "source": [
        "##### KNN"
      ]
    },
    {
      "cell_type": "code",
      "metadata": {
        "colab": {
          "base_uri": "https://localhost:8080/"
        },
        "id": "n661wYFtfAi5",
        "outputId": "90f20c36-18af-4880-b40c-0fdb67227f77"
      },
      "source": [
        "from sklearn.neighbors import KNeighborsClassifier\n",
        "knnmodel = KNeighborsClassifier()\n",
        "cv = cross_val_score(knnmodel,X_train,y_train,cv=5)\n",
        "print(cv)\n",
        "print(cv.mean())"
      ],
      "execution_count": null,
      "outputs": [
        {
          "output_type": "stream",
          "name": "stdout",
          "text": [
            "[0.61666667 0.61344538 0.62184874 0.57983193 0.65546218]\n",
            "0.6174509803921568\n"
          ]
        }
      ]
    },
    {
      "cell_type": "markdown",
      "metadata": {
        "id": "Mqfv57CufwAU"
      },
      "source": [
        "##### SVC"
      ]
    },
    {
      "cell_type": "code",
      "metadata": {
        "colab": {
          "base_uri": "https://localhost:8080/"
        },
        "id": "iZiQ1QsSfydt",
        "outputId": "908f379e-7788-4d73-b974-599c7bda6f3e"
      },
      "source": [
        "from sklearn.svm import SVC\n",
        "svc = SVC(probability = True)\n",
        "cv = cross_val_score(svc,X_train,y_train,cv=5)\n",
        "print(cv)\n",
        "print(cv.mean())"
      ],
      "execution_count": null,
      "outputs": [
        {
          "output_type": "stream",
          "name": "stdout",
          "text": [
            "[0.63333333 0.63865546 0.65546218 0.62184874 0.6302521 ]\n",
            "0.6359103641456583\n"
          ]
        }
      ]
    },
    {
      "cell_type": "markdown",
      "metadata": {
        "id": "enkw7Cs7gyGz"
      },
      "source": [
        "##### Gaussian Naive Bayes"
      ]
    },
    {
      "cell_type": "code",
      "metadata": {
        "colab": {
          "base_uri": "https://localhost:8080/"
        },
        "id": "OG01KSflg4BI",
        "outputId": "6bd5fa49-64d3-4427-9275-6bfa9db94423"
      },
      "source": [
        "from sklearn.naive_bayes import GaussianNB\n",
        "\n",
        "\n",
        "gnb = GaussianNB()\n",
        "cv = cross_val_score(gnb,X_train,y_train,cv=5)\n",
        "print(cv)\n",
        "print(cv.mean())"
      ],
      "execution_count": null,
      "outputs": [
        {
          "output_type": "stream",
          "name": "stdout",
          "text": [
            "[0.69166667 0.78991597 0.71428571 0.74789916 0.72268908]\n",
            "0.7332913165266107\n"
          ]
        }
      ]
    },
    {
      "cell_type": "markdown",
      "metadata": {
        "id": "6pNj6Iq4hQQR"
      },
      "source": [
        "##### Random Forest"
      ]
    },
    {
      "cell_type": "code",
      "metadata": {
        "colab": {
          "base_uri": "https://localhost:8080/"
        },
        "id": "k4ot4aPShcnR",
        "outputId": "750b66ef-edda-4c84-89c9-f54a5dee5fde"
      },
      "source": [
        "from sklearn.ensemble import RandomForestClassifier\n",
        "\n",
        "rfmodel = RandomForestClassifier(criterion='entropy', random_state=1)\n",
        "cv = cross_val_score(rfmodel,X_train,y_train,cv=5)\n",
        "print(cv)\n",
        "print(cv.mean())"
      ],
      "execution_count": null,
      "outputs": [
        {
          "output_type": "stream",
          "name": "stdout",
          "text": [
            "[0.76666667 0.84033613 0.77310924 0.78151261 0.8487395 ]\n",
            "0.8020728291316527\n"
          ]
        }
      ]
    },
    {
      "cell_type": "code",
      "metadata": {
        "colab": {
          "base_uri": "https://localhost:8080/"
        },
        "id": "krW3Brp-jaTE",
        "outputId": "595ff909-cdce-4e37-bdbb-207eebb4a1b1"
      },
      "source": [
        "# Fit the training data into the model\n",
        "rfmodel.fit(X_train,y_train)"
      ],
      "execution_count": null,
      "outputs": [
        {
          "output_type": "execute_result",
          "data": {
            "text/plain": [
              "RandomForestClassifier(criterion='entropy', random_state=1)"
            ]
          },
          "metadata": {},
          "execution_count": 173
        }
      ]
    },
    {
      "cell_type": "code",
      "metadata": {
        "id": "pCUJ5xV9jkmY"
      },
      "source": [
        "# Predict using our model\n",
        "rfmodel.predict(X_test)"
      ],
      "execution_count": null,
      "outputs": []
    },
    {
      "cell_type": "code",
      "metadata": {
        "colab": {
          "base_uri": "https://localhost:8080/"
        },
        "id": "_0AJafT3jnzm",
        "outputId": "54a12db8-0eaf-413d-ec2b-dc740a5c5ce9"
      },
      "source": [
        "# Measure accuracy\n",
        "rfmodel.score(X_test, y_test)"
      ],
      "execution_count": null,
      "outputs": [
        {
          "output_type": "execute_result",
          "data": {
            "text/plain": [
              "0.8271186440677966"
            ]
          },
          "metadata": {},
          "execution_count": 175
        }
      ]
    },
    {
      "cell_type": "code",
      "metadata": {
        "id": "eJzEy4Cajq0H"
      },
      "source": [
        "# Get probabilty value\n",
        "probarf = rfmodel.predict_proba(X_test)"
      ],
      "execution_count": null,
      "outputs": []
    },
    {
      "cell_type": "code",
      "metadata": {
        "id": "5YgI3EhvjtoU"
      },
      "source": [
        "# Use proba value\n",
        "[x[0]<.75 for x in probarf]"
      ],
      "execution_count": null,
      "outputs": []
    },
    {
      "cell_type": "code",
      "metadata": {
        "colab": {
          "base_uri": "https://localhost:8080/"
        },
        "id": "GvNQgIC7jwmW",
        "outputId": "55a8f1e8-7d38-4df5-8b13-2ae2ad8b259e"
      },
      "source": [
        "confusion_matrix(y_test, rfmodel.predict(X_test))"
      ],
      "execution_count": null,
      "outputs": [
        {
          "output_type": "execute_result",
          "data": {
            "text/plain": [
              "array([[157,  18],\n",
              "       [ 33,  87]])"
            ]
          },
          "metadata": {},
          "execution_count": 180
        }
      ]
    },
    {
      "cell_type": "code",
      "metadata": {
        "colab": {
          "base_uri": "https://localhost:8080/",
          "height": 295
        },
        "id": "yQwb7ydXjxSC",
        "outputId": "7d70597a-5b46-4768-9b61-157893e58be4"
      },
      "source": [
        "cm = ConfusionMatrixDisplay.from_estimator(rfmodel,X_test, y_test)\n",
        "cm.ax_.set_title(\"Confusion Matrix\", color=\"white\")\n",
        "\n",
        "plt.show()"
      ],
      "execution_count": null,
      "outputs": [
        {
          "output_type": "display_data",
          "data": {
            "image/png": "[encoded data removed]",
            "text/plain": [
              "<Figure size 432x288 with 2 Axes>"
            ]
          },
          "metadata": {
            "needs_background": "light"
          }
        }
      ]
    },
    {
      "cell_type": "markdown",
      "metadata": {
        "id": "jmt76WpIk4_3"
      },
      "source": [
        "##### Hyper parameter tuning"
      ]
    },
    {
      "cell_type": "markdown",
      "metadata": {
        "id": "EcdBVtpRqJrY"
      },
      "source": [
        " class sklearn.ensemble.RandomForestClassifier(n_estimators=100, *, criterion='gini', max_depth=None, min_samples_split=2, min_samples_leaf=1, min_weight_fraction_leaf=0.0, max_features='auto', max_leaf_nodes=None, min_impurity_decrease=0.0, bootstrap=True, oob_score=False, n_jobs=None, random_state=None, verbose=0, warm_start=False, class_weight=None, ccp_alpha=0.0, max_samples=None)[source]"
      ]
    },
    {
      "cell_type": "code",
      "metadata": {
        "colab": {
          "base_uri": "https://localhost:8080/"
        },
        "id": "GjkGAfBMk_-w",
        "outputId": "5afd4cea-4688-445e-fef3-854994141fb7"
      },
      "source": [
        "#rfmodel = RandomForestClassifier(criterion='entropy', random_state=1)\n",
        "#cv = cross_val_score(rfmodel,X_train,y_train,cv=5)\n",
        "#print(cv.mean())\n",
        "\n",
        "criterion = [\"gini\", \"entropy\"]\n",
        "for c in criterion:\n",
        "  cv = cross_val_score(RandomForestClassifier(criterion=c, random_state=1),X_train,y_train,cv=5)\n",
        "  print(\"For criterion \"+ c + \": \"+str(cv.mean()) )\n"
      ],
      "execution_count": null,
      "outputs": [
        {
          "output_type": "stream",
          "name": "stdout",
          "text": [
            "For criterion gini: 0.8087675070028011\n",
            "For criterion entropy: 0.8020728291316527\n"
          ]
        }
      ]
    },
    {
      "cell_type": "code",
      "metadata": {
        "colab": {
          "base_uri": "https://localhost:8080/"
        },
        "id": "VnM188ZlrdhR",
        "outputId": "350f4669-7995-4a87-ae62-4afdb97462ea"
      },
      "source": [
        "criterion = [\"gini\", \"entropy\"]\n",
        "cvrange = [5, 10, 15]\n",
        "for c in criterion:\n",
        "  for cval in cvrange:\n",
        "    cv = cross_val_score(RandomForestClassifier(criterion=c, random_state=1),X_train,y_train,cv=cval)\n",
        "    print(\"For criterion \"+ c + \" and cv value of \"+str(cval) +\": \"+str(cv.mean()) )"
      ],
      "execution_count": null,
      "outputs": [
        {
          "output_type": "stream",
          "name": "stdout",
          "text": [
            "For criterion gini and cv value of 5: 0.8087675070028011\n",
            "For criterion gini and cv value of 10: 0.8037288135593219\n",
            "For criterion gini and cv value of 15: 0.7936324786324785\n",
            "For criterion entropy and cv value of 5: 0.8020728291316527\n",
            "For criterion entropy and cv value of 10: 0.7885875706214689\n",
            "For criterion entropy and cv value of 15: 0.8037606837606839\n"
          ]
        }
      ]
    },
    {
      "cell_type": "markdown",
      "metadata": {
        "id": "quLHozs9meUj"
      },
      "source": [
        "Hyper parameter tuning using gridsearchcv"
      ]
    },
    {
      "cell_type": "code",
      "metadata": {
        "colab": {
          "base_uri": "https://localhost:8080/"
        },
        "id": "Cu1Q-gpasd0O",
        "outputId": "ff19b95b-54eb-494e-d98a-6780fcd3e412"
      },
      "source": [
        "from sklearn.model_selection import GridSearchCV\n",
        "cvrange = [5, 10, 15]\n",
        "\n",
        "for cval in cvrange:\n",
        "  print (\" for cv value of \"+ str(cval))\n",
        "  gdmodel = GridSearchCV(RandomForestClassifier(random_state=1),\n",
        "                         {'criterion':[\"gini\", \"entropy\"]}, \n",
        "                         cv=cval, \n",
        "                         return_train_score=False)\n",
        "  gdmodel.fit(X_train,y_train)\n",
        "  print(gdmodel.cv_results_)\n"
      ],
      "execution_count": null,
      "outputs": [
        {
          "output_type": "stream",
          "name": "stdout",
          "text": [
            " for cv value of 5\n",
            "{'mean_fit_time': array([0.17516246, 0.18831706]), 'std_fit_time': array([0.00774621, 0.00305307]), 'mean_score_time': array([0.01530194, 0.01407557]), 'std_score_time': array([0.00141015, 0.00024184]), 'param_criterion': masked_array(data=['gini', 'entropy'],\n",
            "             mask=[False, False],\n",
            "       fill_value='?',\n",
            "            dtype=object), 'params': [{'criterion': 'gini'}, {'criterion': 'entropy'}], 'split0_test_score': array([0.78333333, 0.76666667]), 'split1_test_score': array([0.8487395 , 0.84033613]), 'split2_test_score': array([0.77310924, 0.77310924]), 'split3_test_score': array([0.80672269, 0.78151261]), 'split4_test_score': array([0.83193277, 0.8487395 ]), 'mean_test_score': array([0.80876751, 0.80207283]), 'std_test_score': array([0.02848501, 0.0350915 ]), 'rank_test_score': array([1, 2], dtype=int32)}\n",
            " for cv value of 10\n",
            "{'mean_fit_time': array([0.17918286, 0.19429233]), 'std_fit_time': array([0.00598684, 0.00498981]), 'mean_score_time': array([0.01406446, 0.01347857]), 'std_score_time': array([0.0006735 , 0.00060894]), 'param_criterion': masked_array(data=['gini', 'entropy'],\n",
            "             mask=[False, False],\n",
            "       fill_value='?',\n",
            "            dtype=object), 'params': [{'criterion': 'gini'}, {'criterion': 'entropy'}], 'split0_test_score': array([0.73333333, 0.71666667]), 'split1_test_score': array([0.86666667, 0.83333333]), 'split2_test_score': array([0.85, 0.85]), 'split3_test_score': array([0.83333333, 0.86666667]), 'split4_test_score': array([0.75      , 0.73333333]), 'split5_test_score': array([0.76666667, 0.73333333]), 'split6_test_score': array([0.81355932, 0.79661017]), 'split7_test_score': array([0.72881356, 0.69491525]), 'split8_test_score': array([0.79661017, 0.76271186]), 'split9_test_score': array([0.89830508, 0.89830508]), 'mean_test_score': array([0.80372881, 0.78858757]), 'std_test_score': array([0.0555867 , 0.06685435]), 'rank_test_score': array([1, 2], dtype=int32)}\n",
            " for cv value of 15\n",
            "{'mean_fit_time': array([0.17998551, 0.19557948]), 'std_fit_time': array([0.00565572, 0.00542148]), 'mean_score_time': array([0.01434526, 0.01335983]), 'std_score_time': array([0.00164694, 0.00059199]), 'param_criterion': masked_array(data=['gini', 'entropy'],\n",
            "             mask=[False, False],\n",
            "       fill_value='?',\n",
            "            dtype=object), 'params': [{'criterion': 'gini'}, {'criterion': 'entropy'}], 'split0_test_score': array([0.725, 0.775]), 'split1_test_score': array([0.725, 0.725]), 'split2_test_score': array([0.9, 0.9]), 'split3_test_score': array([0.9, 0.9]), 'split4_test_score': array([0.775, 0.8  ]), 'split5_test_score': array([0.875, 0.875]), 'split6_test_score': array([0.8 , 0.75]), 'split7_test_score': array([0.75 , 0.775]), 'split8_test_score': array([0.775, 0.775]), 'split9_test_score': array([0.8, 0.8]), 'split10_test_score': array([0.7  , 0.725]), 'split11_test_score': array([0.74358974, 0.74358974]), 'split12_test_score': array([0.61538462, 0.69230769]), 'split13_test_score': array([0.92307692, 0.92307692]), 'split14_test_score': array([0.8974359, 0.8974359]), 'mean_test_score': array([0.79363248, 0.80376068]), 'std_test_score': array([0.08638035, 0.07323901]), 'rank_test_score': array([2, 1], dtype=int32)}\n"
          ]
        }
      ]
    },
    {
      "cell_type": "code",
      "metadata": {
        "colab": {
          "base_uri": "https://localhost:8080/"
        },
        "id": "T7lb2qPkvOdc",
        "outputId": "2631d6ce-20f1-408f-ad56-55586c361c3a"
      },
      "source": [
        "print(gdmodel.cv_results_['mean_test_score'])"
      ],
      "execution_count": null,
      "outputs": [
        {
          "output_type": "stream",
          "name": "stdout",
          "text": [
            "[0.79363248 0.80376068]\n"
          ]
        }
      ]
    },
    {
      "cell_type": "code",
      "metadata": {
        "colab": {
          "base_uri": "https://localhost:8080/"
        },
        "id": "bHiphtiNwT4U",
        "outputId": "d97d15bf-9000-4db2-dc02-81afb7a0acc1"
      },
      "source": [
        "from sklearn.model_selection import GridSearchCV\n",
        "cvrange = [5, 10, 15]\n",
        "\n",
        "for cval in cvrange:\n",
        "  print (\" for cv value of \"+ str(cval))\n",
        "  gdmodel = GridSearchCV(RandomForestClassifier(random_state=1),\n",
        "                         {'criterion':[\"gini\", \"entropy\"]}, \n",
        "                         cv=cval, \n",
        "                         return_train_score=False)\n",
        "  gdmodel.fit(X_train,y_train)\n",
        "  df = pd.DataFrame(gdmodel.cv_results_)\n",
        "  print(df)"
      ],
      "execution_count": null,
      "outputs": [
        {
          "output_type": "stream",
          "name": "stdout",
          "text": [
            " for cv value of 5\n",
            "   mean_fit_time  std_fit_time  ...  std_test_score  rank_test_score\n",
            "0       0.172120      0.003728  ...        0.028485                1\n",
            "1       0.189096      0.004141  ...        0.035091                2\n",
            "\n",
            "[2 rows x 14 columns]\n",
            " for cv value of 10\n",
            "   mean_fit_time  std_fit_time  ...  std_test_score  rank_test_score\n",
            "0       0.177322      0.003844  ...        0.055587                1\n",
            "1       0.194309      0.006491  ...        0.066854                2\n",
            "\n",
            "[2 rows x 19 columns]\n",
            " for cv value of 15\n",
            "   mean_fit_time  std_fit_time  ...  std_test_score  rank_test_score\n",
            "0       0.180034      0.004086  ...        0.086380                2\n",
            "1       0.200616      0.007899  ...        0.073239                1\n",
            "\n",
            "[2 rows x 24 columns]\n"
          ]
        }
      ]
    },
    {
      "cell_type": "code",
      "metadata": {
        "colab": {
          "base_uri": "https://localhost:8080/"
        },
        "id": "qksIqD94ww4D",
        "outputId": "331b11c4-5291-4331-d142-410c6dc630f6"
      },
      "source": [
        "df.columns"
      ],
      "execution_count": null,
      "outputs": [
        {
          "output_type": "execute_result",
          "data": {
            "text/plain": [
              "Index(['mean_fit_time', 'std_fit_time', 'mean_score_time', 'std_score_time',\n",
              "       'param_criterion', 'params', 'split0_test_score', 'split1_test_score',\n",
              "       'split2_test_score', 'split3_test_score', 'split4_test_score',\n",
              "       'split5_test_score', 'split6_test_score', 'split7_test_score',\n",
              "       'split8_test_score', 'split9_test_score', 'split10_test_score',\n",
              "       'split11_test_score', 'split12_test_score', 'split13_test_score',\n",
              "       'split14_test_score', 'mean_test_score', 'std_test_score',\n",
              "       'rank_test_score'],\n",
              "      dtype='object')"
            ]
          },
          "metadata": {},
          "execution_count": 197
        }
      ]
    },
    {
      "cell_type": "code",
      "metadata": {
        "colab": {
          "base_uri": "https://localhost:8080/"
        },
        "id": "5oH-mp0Kw39y",
        "outputId": "3747d31d-bbb9-401d-8f56-0a8c4bcc5136"
      },
      "source": [
        "from sklearn.model_selection import GridSearchCV\n",
        "cvrange = [5, 10, 15]\n",
        "\n",
        "for cval in cvrange:\n",
        "  print (\" for cv value of \"+ str(cval))\n",
        "  gdmodel = GridSearchCV(RandomForestClassifier(random_state=1),\n",
        "                         {'criterion':[\"gini\", \"entropy\"]}, \n",
        "                         cv=cval, \n",
        "                         return_train_score=False)\n",
        "  gdmodel.fit(X_train,y_train)\n",
        "  df = pd.DataFrame(gdmodel.cv_results_)\n",
        "  print(df[[\"param_criterion\",\"mean_test_score\"]])"
      ],
      "execution_count": null,
      "outputs": [
        {
          "output_type": "stream",
          "name": "stdout",
          "text": [
            " for cv value of 5\n",
            "  param_criterion  mean_test_score\n",
            "0            gini         0.808768\n",
            "1         entropy         0.802073\n",
            " for cv value of 10\n",
            "  param_criterion  mean_test_score\n",
            "0            gini         0.803729\n",
            "1         entropy         0.788588\n",
            " for cv value of 15\n",
            "  param_criterion  mean_test_score\n",
            "0            gini         0.793632\n",
            "1         entropy         0.803761\n"
          ]
        }
      ]
    },
    {
      "cell_type": "code",
      "metadata": {
        "colab": {
          "base_uri": "https://localhost:8080/"
        },
        "id": "alj41b1ex1nh",
        "outputId": "a5659174-bed6-4a69-a00f-97bed17901d6"
      },
      "source": [
        "dir(gdmodel)"
      ],
      "execution_count": null,
      "outputs": [
        {
          "output_type": "execute_result",
          "data": {
            "text/plain": [
              "['__abstractmethods__',\n",
              " '__class__',\n",
              " '__delattr__',\n",
              " '__dict__',\n",
              " '__dir__',\n",
              " '__doc__',\n",
              " '__eq__',\n",
              " '__format__',\n",
              " '__ge__',\n",
              " '__getattribute__',\n",
              " '__getstate__',\n",
              " '__gt__',\n",
              " '__hash__',\n",
              " '__init__',\n",
              " '__init_subclass__',\n",
              " '__le__',\n",
              " '__lt__',\n",
              " '__module__',\n",
              " '__ne__',\n",
              " '__new__',\n",
              " '__reduce__',\n",
              " '__reduce_ex__',\n",
              " '__repr__',\n",
              " '__setattr__',\n",
              " '__setstate__',\n",
              " '__sizeof__',\n",
              " '__str__',\n",
              " '__subclasshook__',\n",
              " '__weakref__',\n",
              " '_abc_impl',\n",
              " '_check_feature_names',\n",
              " '_check_n_features',\n",
              " '_check_refit_for_multimetric',\n",
              " '_estimator_type',\n",
              " '_format_results',\n",
              " '_get_param_names',\n",
              " '_get_tags',\n",
              " '_more_tags',\n",
              " '_pairwise',\n",
              " '_repr_html_',\n",
              " '_repr_html_inner',\n",
              " '_repr_mimebundle_',\n",
              " '_required_parameters',\n",
              " '_run_search',\n",
              " '_select_best_index',\n",
              " '_validate_data',\n",
              " 'best_estimator_',\n",
              " 'best_index_',\n",
              " 'best_params_',\n",
              " 'best_score_',\n",
              " 'classes_',\n",
              " 'cv',\n",
              " 'cv_results_',\n",
              " 'decision_function',\n",
              " 'error_score',\n",
              " 'estimator',\n",
              " 'feature_names_in_',\n",
              " 'fit',\n",
              " 'get_params',\n",
              " 'inverse_transform',\n",
              " 'multimetric_',\n",
              " 'n_features_in_',\n",
              " 'n_jobs',\n",
              " 'n_splits_',\n",
              " 'param_grid',\n",
              " 'pre_dispatch',\n",
              " 'predict',\n",
              " 'predict_log_proba',\n",
              " 'predict_proba',\n",
              " 'refit',\n",
              " 'refit_time_',\n",
              " 'return_train_score',\n",
              " 'score',\n",
              " 'score_samples',\n",
              " 'scorer_',\n",
              " 'scoring',\n",
              " 'set_params',\n",
              " 'transform',\n",
              " 'verbose']"
            ]
          },
          "metadata": {},
          "execution_count": 200
        }
      ]
    },
    {
      "cell_type": "code",
      "metadata": {
        "colab": {
          "base_uri": "https://localhost:8080/"
        },
        "id": "_NOdaXvex-Oa",
        "outputId": "a4f7925b-45a1-40d8-9b29-f1f59bab7688"
      },
      "source": [
        "gdmodel.best_score_"
      ],
      "execution_count": null,
      "outputs": [
        {
          "output_type": "execute_result",
          "data": {
            "text/plain": [
              "0.8037606837606839"
            ]
          },
          "metadata": {},
          "execution_count": 202
        }
      ]
    },
    {
      "cell_type": "code",
      "metadata": {
        "colab": {
          "base_uri": "https://localhost:8080/"
        },
        "id": "iaEaUk4WyMYb",
        "outputId": "9b5865a7-c2e5-4fbc-de6c-2489cb481e3e"
      },
      "source": [
        "gdmodel.best_params_"
      ],
      "execution_count": null,
      "outputs": [
        {
          "output_type": "execute_result",
          "data": {
            "text/plain": [
              "{'criterion': 'entropy'}"
            ]
          },
          "metadata": {},
          "execution_count": 203
        }
      ]
    },
    {
      "cell_type": "markdown",
      "metadata": {
        "id": "6N3kBP-Iyc4o"
      },
      "source": [
        "##### Use RandomizedSearchCV if the dataset is huge\n",
        "\n",
        "use for loop across "
      ]
    },
    {
      "cell_type": "code",
      "metadata": {
        "id": "jkt3S7qyypX-"
      },
      "source": [
        "model_params = {\n",
        "    'svm': {\n",
        "        'model': SVC(gamma='auto'),\n",
        "        'params' : {\n",
        "            'C': [1,10,20],\n",
        "            'kernel': ['rbf','linear']\n",
        "        }  \n",
        "    },\n",
        "    'random_forest': {\n",
        "        'model': RandomForestClassifier(),\n",
        "        'params' : {\n",
        "            'n_estimators': [1,5,10]\n",
        "        }\n",
        "    },\n",
        "    'logistic_regression' : {\n",
        "        'model': LogisticRegression(solver='liblinear',multi_class='auto'),\n",
        "        'params': {\n",
        "            'C': [1,5,10]\n",
        "        }\n",
        "    }\n",
        "}\n"
      ],
      "execution_count": null,
      "outputs": []
    },
    {
      "cell_type": "code",
      "metadata": {
        "id": "-HEZfTE3zdTB"
      },
      "source": [
        "scores = []\n",
        "\n",
        "for model_name, mp in model_params.items():\n",
        "    clf =  GridSearchCV(mp['model'], mp['params'], cv=5, return_train_score=False)\n",
        "    clf.fit(X_train, y_train)\n",
        "    scores.append({\n",
        "        'model': model_name,\n",
        "        'best_score': clf.best_score_,\n",
        "        'best_params': clf.best_params_\n",
        "    })\n",
        "    \n",
        "df = pd.DataFrame(scores,columns=['model','best_score','best_params'])\n",
        "df\n"
      ],
      "execution_count": null,
      "outputs": []
    },
    {
      "cell_type": "markdown",
      "metadata": {
        "id": "ONLTYpGt-cP1"
      },
      "source": [
        "# Save and deploy"
      ]
    },
    {
      "cell_type": "code",
      "metadata": {
        "id": "4J1ih4iy-e_b"
      },
      "source": [
        "import pickle"
      ],
      "execution_count": null,
      "outputs": []
    },
    {
      "cell_type": "code",
      "metadata": {
        "id": "CqXhJ9UK-wbS"
      },
      "source": [
        "with open('model_pickle', 'wb') as f:\n",
        "  pickle.dump(model, f)"
      ],
      "execution_count": null,
      "outputs": []
    },
    {
      "cell_type": "code",
      "metadata": {
        "id": "WuSjiWUX_HWd"
      },
      "source": [
        "with open('model_pickle', 'rb') as f:\n",
        "  reloadmodel = pickle.load(f)"
      ],
      "execution_count": null,
      "outputs": []
    },
    {
      "cell_type": "code",
      "metadata": {
        "id": "HX_FragO_jfx"
      },
      "source": [
        "reloadmodel.predict(X_test)"
      ],
      "execution_count": null,
      "outputs": []
    },
    {
      "cell_type": "code",
      "metadata": {
        "id": "6-A_RuKY_tFB"
      },
      "source": [
        "from sklearn.externals import joblib\n",
        "joblib.dump(model,'model_joblib')"
      ],
      "execution_count": null,
      "outputs": []
    },
    {
      "cell_type": "code",
      "metadata": {
        "id": "rxZVSulCAcAQ"
      },
      "source": [
        "reloadmodel2 = joblib.load('model_joblib')"
      ],
      "execution_count": null,
      "outputs": []
    }
  ]
}