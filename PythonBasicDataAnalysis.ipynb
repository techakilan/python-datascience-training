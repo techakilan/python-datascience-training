{
  "nbformat": 4,
  "nbformat_minor": 0,
  "metadata": {
    "colab": {
      "name": "PythonBasicDataAnalysis.ipynb",
      "provenance": [],
      "authorship_tag": "ABX9TyNQNCVYvGzQM2Ervv6RNhLW",
      "include_colab_link": true
    },
    "kernelspec": {
      "name": "python3",
      "display_name": "Python 3"
    },
    "language_info": {
      "name": "python"
    }
  },
  "cells": [
    {
      "cell_type": "markdown",
      "metadata": {
        "id": "view-in-github",
        "colab_type": "text"
      },
      "source": [
        "<a href=\"https://colab.research.google.com/github/techakilan/python-datascience-training/blob/master/PythonBasicDataAnalysis.ipynb\" target=\"_parent\"><img src=\"https://colab.research.google.com/assets/colab-badge.svg\" alt=\"Open In Colab\"/></a>"
      ]
    },
    {
      "cell_type": "code",
      "metadata": {
        "id": "pNx5i5MvryUo"
      },
      "source": [
        "import pandas as pd"
      ],
      "execution_count": 3,
      "outputs": []
    },
    {
      "cell_type": "markdown",
      "metadata": {
        "id": "DZ5X7pdkrRi0"
      },
      "source": [
        "### CSV from Google drive"
      ]
    },
    {
      "cell_type": "markdown",
      "metadata": {
        "id": "D6TWtpnTrWSA"
      },
      "source": [
        "##### Mount from google drive"
      ]
    },
    {
      "cell_type": "code",
      "metadata": {
        "id": "cqdqFoUjrUYh",
        "outputId": "561856a9-45ba-4f5d-f571-774863222b72",
        "colab": {
          "base_uri": "https://localhost:8080/"
        }
      },
      "source": [
        "from google.colab import drive\n",
        "drive.mount('/content/drive')"
      ],
      "execution_count": 1,
      "outputs": [
        {
          "output_type": "stream",
          "name": "stdout",
          "text": [
            "Mounted at /content/drive\n"
          ]
        }
      ]
    },
    {
      "cell_type": "markdown",
      "metadata": {
        "id": "GjUwJTW4rm6e"
      },
      "source": [
        "##### Import csv file from google drive and create dataframe"
      ]
    },
    {
      "cell_type": "code",
      "metadata": {
        "id": "w1zsMx_rrlt5"
      },
      "source": [
        "iris_df = pd.read_csv('/content/drive/MyDrive/colabs_data/Iris.csv')\n",
        "iris_df"
      ],
      "execution_count": null,
      "outputs": []
    },
    {
      "cell_type": "markdown",
      "metadata": {
        "id": "qN19YTdgsES8"
      },
      "source": [
        "##### head()"
      ]
    },
    {
      "cell_type": "code",
      "metadata": {
        "id": "DuZiUjDMsBzc"
      },
      "source": [
        "iris_df.head()"
      ],
      "execution_count": null,
      "outputs": []
    },
    {
      "cell_type": "code",
      "metadata": {
        "id": "ntLf8hPgsK9a"
      },
      "source": [
        "iris_df.head(10)"
      ],
      "execution_count": null,
      "outputs": []
    },
    {
      "cell_type": "markdown",
      "metadata": {
        "id": "TrTxi4cWsUJw"
      },
      "source": [
        "##### tail()"
      ]
    },
    {
      "cell_type": "code",
      "metadata": {
        "id": "LOQNqBY0sXow"
      },
      "source": [
        "iris_df.tail()"
      ],
      "execution_count": null,
      "outputs": []
    },
    {
      "cell_type": "code",
      "metadata": {
        "id": "vKbyq06cseha"
      },
      "source": [
        "iris_df.tail(10)"
      ],
      "execution_count": null,
      "outputs": []
    },
    {
      "cell_type": "markdown",
      "metadata": {
        "id": "_AeE0Uq6skwp"
      },
      "source": [
        "##### Get info() of the Dataframe"
      ]
    },
    {
      "cell_type": "code",
      "metadata": {
        "id": "oE940uursqTN"
      },
      "source": [
        "iris_df.info()"
      ],
      "execution_count": null,
      "outputs": []
    }
  ]
}