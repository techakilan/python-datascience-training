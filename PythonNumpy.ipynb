{
  "nbformat": 4,
  "nbformat_minor": 0,
  "metadata": {
    "colab": {
      "name": "PythonNumpy.ipynb",
      "provenance": [],
      "collapsed_sections": [],
      "include_colab_link": true
    },
    "kernelspec": {
      "name": "python3",
      "display_name": "Python 3"
    },
    "language_info": {
      "name": "python"
    }
  },
  "cells": [
    {
      "cell_type": "markdown",
      "metadata": {
        "id": "view-in-github",
        "colab_type": "text"
      },
      "source": [
        "<a href=\"https://colab.research.google.com/github/techakilan/python-datascience-training/blob/master/PythonNumpy.ipynb\" target=\"_parent\"><img src=\"https://colab.research.google.com/assets/colab-badge.svg\" alt=\"Open In Colab\"/></a>"
      ]
    },
    {
      "cell_type": "markdown",
      "metadata": {
        "id": "eBQm5ordL39l"
      },
      "source": [
        "# Import numpy"
      ]
    },
    {
      "cell_type": "markdown",
      "metadata": {
        "id": "HVWSnVb5KjG2"
      },
      "source": [
        "Lists cons - \n",
        "* Take up lot of memory\n",
        "* Performance issue\n",
        "* Lacks functionality"
      ]
    },
    {
      "cell_type": "code",
      "metadata": {
        "id": "tedk6-ZSMMTM"
      },
      "source": [
        "import numpy as np"
      ],
      "execution_count": 4,
      "outputs": []
    },
    {
      "cell_type": "markdown",
      "metadata": {
        "id": "shqa84BPMpFX"
      },
      "source": [
        "# Create 1D array"
      ]
    },
    {
      "cell_type": "markdown",
      "metadata": {
        "id": "PVN6IGsCAQhu"
      },
      "source": [
        "#### Every element is a scalar"
      ]
    },
    {
      "cell_type": "code",
      "metadata": {
        "colab": {
          "base_uri": "https://localhost:8080/"
        },
        "id": "fK2fRyRfMQvk",
        "outputId": "0b43bd3d-9466-4d27-f49e-35463fd1381c"
      },
      "source": [
        "onedarray = np.array([1])\n",
        "print(onedarray)"
      ],
      "execution_count": 7,
      "outputs": [
        {
          "output_type": "stream",
          "name": "stdout",
          "text": [
            "[1]\n"
          ]
        }
      ]
    },
    {
      "cell_type": "code",
      "metadata": {
        "colab": {
          "base_uri": "https://localhost:8080/"
        },
        "id": "h2TWKDjaPrnG",
        "outputId": "13a51665-997e-4dd9-d4d5-c7b9c7477c42"
      },
      "source": [
        "onedarray2 = np.array([1,2,3])\n",
        "print(onedarray2)"
      ],
      "execution_count": 8,
      "outputs": [
        {
          "output_type": "stream",
          "name": "stdout",
          "text": [
            "[1 2 3]\n"
          ]
        }
      ]
    },
    {
      "cell_type": "markdown",
      "metadata": {
        "id": "jbLi3j7VNOX8"
      },
      "source": [
        "# Create 2d array\n",
        "\n",
        "#### can be considered as 1D array having every element as 1D array"
      ]
    },
    {
      "cell_type": "code",
      "metadata": {
        "colab": {
          "base_uri": "https://localhost:8080/"
        },
        "id": "MZdKZWrrM775",
        "outputId": "4a3bbf80-c8a1-4e5a-b44c-d81cceed8028"
      },
      "source": [
        "twodarray = np.array([[1]])\n",
        "print(twodarray)"
      ],
      "execution_count": 9,
      "outputs": [
        {
          "output_type": "stream",
          "name": "stdout",
          "text": [
            "[[1]]\n"
          ]
        }
      ]
    },
    {
      "cell_type": "code",
      "metadata": {
        "colab": {
          "base_uri": "https://localhost:8080/"
        },
        "id": "1xRk9D0bP3uz",
        "outputId": "09809cbd-0576-4e6f-add5-506623ffa7d6"
      },
      "source": [
        "twodarray2 = np.array([[1,2],[3,4]])\n",
        "print(twodarray2)"
      ],
      "execution_count": 10,
      "outputs": [
        {
          "output_type": "stream",
          "name": "stdout",
          "text": [
            "[[1 2]\n",
            " [3 4]]\n"
          ]
        }
      ]
    },
    {
      "cell_type": "code",
      "metadata": {
        "colab": {
          "base_uri": "https://localhost:8080/"
        },
        "id": "xbk-DLSQO2qr",
        "outputId": "ac0f30a9-23a5-46b6-b2a1-0686140fbd60"
      },
      "source": [
        "one1 = np.array([1,2,3])\n",
        "one2 = np.array([3,4,5])\n",
        "two1 = np.array([one1,one2])\n",
        "two1"
      ],
      "execution_count": 11,
      "outputs": [
        {
          "output_type": "execute_result",
          "data": {
            "text/plain": [
              "array([[1, 2, 3],\n",
              "       [3, 4, 5]])"
            ]
          },
          "metadata": {},
          "execution_count": 11
        }
      ]
    },
    {
      "cell_type": "markdown",
      "metadata": {
        "id": "pyUs4_DENttQ"
      },
      "source": [
        "# Create 3D array\n",
        "#### can be considered as 1D array where every element is a 2D array"
      ]
    },
    {
      "cell_type": "code",
      "metadata": {
        "colab": {
          "base_uri": "https://localhost:8080/"
        },
        "id": "bCoJzmdiNXyM",
        "outputId": "be7e4724-793c-4b48-af30-c3b5f5924009"
      },
      "source": [
        "threedarray = np.array([[[1]]])\n",
        "print(threedarray)"
      ],
      "execution_count": 16,
      "outputs": [
        {
          "output_type": "stream",
          "name": "stdout",
          "text": [
            "[[[1]]]\n"
          ]
        }
      ]
    },
    {
      "cell_type": "code",
      "metadata": {
        "colab": {
          "base_uri": "https://localhost:8080/"
        },
        "id": "Cg30X8-eQLO5",
        "outputId": "2b78e12a-6cae-4b0a-ab1e-b42da4de0045"
      },
      "source": [
        "threedarray2 = np.array([[[1,2,3],[7,8,9]],[[4,5,6],[9,8,7]], [[1,2,3],[7,8,9]],[[4,5,6],[9,8,7]]])\n",
        "print(threedarray2)"
      ],
      "execution_count": 15,
      "outputs": [
        {
          "output_type": "stream",
          "name": "stdout",
          "text": [
            "[[[1 2 3]\n",
            "  [7 8 9]]\n",
            "\n",
            " [[4 5 6]\n",
            "  [9 8 7]]\n",
            "\n",
            " [[1 2 3]\n",
            "  [7 8 9]]\n",
            "\n",
            " [[4 5 6]\n",
            "  [9 8 7]]]\n"
          ]
        }
      ]
    },
    {
      "cell_type": "markdown",
      "metadata": {
        "id": "oINMslc2RKG4"
      },
      "source": [
        "\n",
        "[\n",
        " \n",
        "  1 2\n",
        " \n",
        "  3 4\n",
        "  \n",
        "  ]"
      ]
    },
    {
      "cell_type": "code",
      "metadata": {
        "colab": {
          "base_uri": "https://localhost:8080/"
        },
        "id": "qt0DaHEZRHqo",
        "outputId": "98130cf9-2e2f-4cfa-d138-15d47890ce8b"
      },
      "source": [
        "np.array([[1,2],[3,4]])"
      ],
      "execution_count": 18,
      "outputs": [
        {
          "output_type": "execute_result",
          "data": {
            "text/plain": [
              "array([[1, 2],\n",
              "       [3, 4]])"
            ]
          },
          "metadata": {},
          "execution_count": 18
        }
      ]
    },
    {
      "cell_type": "markdown",
      "metadata": {
        "id": "coiHVKzvOGuR"
      },
      "source": [
        "# Get dimension of an array"
      ]
    },
    {
      "cell_type": "markdown",
      "metadata": {
        "id": "MGUjUK4fOM2a"
      },
      "source": [
        "### Dimensions of 1D array"
      ]
    },
    {
      "cell_type": "markdown",
      "metadata": {
        "id": "yTl4rUW0OkA6"
      },
      "source": [
        "onedarray => \n",
        "\n",
        "[1]\n",
        "\n",
        "The dimension of the array is 1"
      ]
    },
    {
      "cell_type": "code",
      "metadata": {
        "colab": {
          "base_uri": "https://localhost:8080/"
        },
        "id": "hW168lswRsPT",
        "outputId": "d59b7864-a8bf-49fb-cb52-b93ddde34581"
      },
      "source": [
        "print(onedarray)"
      ],
      "execution_count": 20,
      "outputs": [
        {
          "output_type": "stream",
          "name": "stdout",
          "text": [
            "[1]\n"
          ]
        }
      ]
    },
    {
      "cell_type": "code",
      "metadata": {
        "colab": {
          "base_uri": "https://localhost:8080/"
        },
        "id": "LeM_9k8DOK-1",
        "outputId": "54ee2292-220a-4215-8125-1b60f40022a4"
      },
      "source": [
        "onedarray.ndim"
      ],
      "execution_count": 21,
      "outputs": [
        {
          "output_type": "execute_result",
          "data": {
            "text/plain": [
              "1"
            ]
          },
          "metadata": {},
          "execution_count": 21
        }
      ]
    },
    {
      "cell_type": "markdown",
      "metadata": {
        "id": "c9j3yXQTOm9t"
      },
      "source": [
        "onedarray2 => \n",
        "\n",
        "[1 2 3]\n",
        "\n",
        "The dimension of the array is 1"
      ]
    },
    {
      "cell_type": "code",
      "metadata": {
        "colab": {
          "base_uri": "https://localhost:8080/"
        },
        "id": "R7o1mA2LRD5G",
        "outputId": "7039ba82-a392-4d1e-e0ed-a18d06e9e862"
      },
      "source": [
        "onedarray2.ndim"
      ],
      "execution_count": 22,
      "outputs": [
        {
          "output_type": "execute_result",
          "data": {
            "text/plain": [
              "1"
            ]
          },
          "metadata": {},
          "execution_count": 22
        }
      ]
    },
    {
      "cell_type": "markdown",
      "metadata": {
        "id": "9imok2e8Ogix"
      },
      "source": [
        "### Dimension of 2D array"
      ]
    },
    {
      "cell_type": "markdown",
      "metadata": {
        "id": "9y62btgcO0mO"
      },
      "source": [
        "twodarray => \n",
        "\n",
        "[[1]]\n",
        "\n",
        "The dimension of the array is 2"
      ]
    },
    {
      "cell_type": "code",
      "metadata": {
        "colab": {
          "base_uri": "https://localhost:8080/"
        },
        "id": "XJ1QWmv8OX-Q",
        "outputId": "80260452-487e-468d-db34-68f4b673ddc8"
      },
      "source": [
        "twodarray.ndim"
      ],
      "execution_count": 23,
      "outputs": [
        {
          "output_type": "execute_result",
          "data": {
            "text/plain": [
              "2"
            ]
          },
          "metadata": {},
          "execution_count": 23
        }
      ]
    },
    {
      "cell_type": "markdown",
      "metadata": {
        "id": "83_UGARJPWj5"
      },
      "source": [
        "twodarray2 => \n",
        "\n",
        "[[1 2]\n",
        "\n",
        " [3 4]]\n",
        "\n",
        " The dimension of the array is 2\n",
        "\n"
      ]
    },
    {
      "cell_type": "code",
      "metadata": {
        "colab": {
          "base_uri": "https://localhost:8080/"
        },
        "id": "UOUp4EftQ-FS",
        "outputId": "04b33815-99ba-4ee5-d6b7-8f5120ead909"
      },
      "source": [
        "twodarray2.ndim"
      ],
      "execution_count": 24,
      "outputs": [
        {
          "output_type": "execute_result",
          "data": {
            "text/plain": [
              "2"
            ]
          },
          "metadata": {},
          "execution_count": 24
        }
      ]
    },
    {
      "cell_type": "markdown",
      "metadata": {
        "id": "o-GHBnkFOojA"
      },
      "source": [
        "### Dimension of 3D array"
      ]
    },
    {
      "cell_type": "markdown",
      "metadata": {
        "id": "weG0R9tfbhV0"
      },
      "source": [
        "threedarray =>\n",
        "\n",
        "[[[1]]]\n",
        "\n",
        "The dimension of the array is 3"
      ]
    },
    {
      "cell_type": "code",
      "metadata": {
        "colab": {
          "base_uri": "https://localhost:8080/"
        },
        "id": "Pnxm0berOrP4",
        "outputId": "7d7d0c1d-ba6c-42e1-a80d-c9974910d0be"
      },
      "source": [
        "threedarray.ndim"
      ],
      "execution_count": 25,
      "outputs": [
        {
          "output_type": "execute_result",
          "data": {
            "text/plain": [
              "3"
            ]
          },
          "metadata": {},
          "execution_count": 25
        }
      ]
    },
    {
      "cell_type": "markdown",
      "metadata": {
        "id": "ygN5yp_gbxmF"
      },
      "source": [
        "threedarray2 =>\n",
        "\n",
        "[[[1 2 3]\n",
        "  [7 8 9]]\n",
        "\n",
        " [[4 5 6]\n",
        "  [9 8 7]]\n",
        "\n",
        " [[1 2 3]\n",
        "  [7 8 9]]\n",
        "\n",
        " [[4 5 6]\n",
        "  [9 8 7]]]\n",
        "\n",
        "The dimension of the array is 3"
      ]
    },
    {
      "cell_type": "code",
      "metadata": {
        "colab": {
          "base_uri": "https://localhost:8080/"
        },
        "id": "QAyrPpsnOvJ7",
        "outputId": "d43fa937-3494-4188-ad9b-c70a5d0634b7"
      },
      "source": [
        "threedarray2.ndim"
      ],
      "execution_count": 26,
      "outputs": [
        {
          "output_type": "execute_result",
          "data": {
            "text/plain": [
              "3"
            ]
          },
          "metadata": {},
          "execution_count": 26
        }
      ]
    },
    {
      "cell_type": "markdown",
      "metadata": {
        "id": "REzrNLKmJfHm"
      },
      "source": [
        "# Shape of array"
      ]
    },
    {
      "cell_type": "markdown",
      "metadata": {
        "id": "UcNnZmIMJjVa"
      },
      "source": [
        "### Shape of 1D array"
      ]
    },
    {
      "cell_type": "markdown",
      "metadata": {
        "id": "LRdoOepCO4MG"
      },
      "source": [
        "onedarray =>\n",
        "\n",
        "[1]"
      ]
    },
    {
      "cell_type": "code",
      "metadata": {
        "id": "DNdCS0XWI7OC",
        "colab": {
          "base_uri": "https://localhost:8080/"
        },
        "outputId": "302801dd-5dc9-4055-d986-4dd597a221da"
      },
      "source": [
        "onedarray.shape"
      ],
      "execution_count": 27,
      "outputs": [
        {
          "output_type": "execute_result",
          "data": {
            "text/plain": [
              "(1,)"
            ]
          },
          "metadata": {},
          "execution_count": 27
        }
      ]
    },
    {
      "cell_type": "markdown",
      "metadata": {
        "id": "awl6v0mFe0Ac"
      },
      "source": [
        "The result (1, ) means the array has single index with a index length of 1. Total length of array is 1."
      ]
    },
    {
      "cell_type": "markdown",
      "metadata": {
        "id": "P0KLUjuBPBJl"
      },
      "source": [
        "onedarray2 =>\n",
        "\n",
        "[1 2 3]"
      ]
    },
    {
      "cell_type": "code",
      "metadata": {
        "id": "8V_vlihuJu_u",
        "colab": {
          "base_uri": "https://localhost:8080/"
        },
        "outputId": "00c9f476-6910-4a62-cf4b-63620e77ca11"
      },
      "source": [
        "onedarray2.shape"
      ],
      "execution_count": 28,
      "outputs": [
        {
          "output_type": "execute_result",
          "data": {
            "text/plain": [
              "(3,)"
            ]
          },
          "metadata": {},
          "execution_count": 28
        }
      ]
    },
    {
      "cell_type": "markdown",
      "metadata": {
        "id": "MtrxPUqWd5Wu"
      },
      "source": [
        "The result (3,) means the array has single index with a index length of 3\n",
        "\n",
        "i= 0    1    2\n",
        "\n",
        "[  1    2     3]\n",
        "\n",
        "The total length of array is 3"
      ]
    },
    {
      "cell_type": "markdown",
      "metadata": {
        "id": "tpQLvsO0ORU0"
      },
      "source": [
        "### Shape of 2D array"
      ]
    },
    {
      "cell_type": "markdown",
      "metadata": {
        "id": "gRdQ1UlNPNXm"
      },
      "source": [
        "twodarray =>\n",
        "\n",
        "[[1]]"
      ]
    },
    {
      "cell_type": "code",
      "metadata": {
        "id": "pd0lqxfEJxng",
        "colab": {
          "base_uri": "https://localhost:8080/"
        },
        "outputId": "7a0b7388-8b2a-4e43-ca95-4bf019aef10a"
      },
      "source": [
        "twodarray.shape"
      ],
      "execution_count": 29,
      "outputs": [
        {
          "output_type": "execute_result",
          "data": {
            "text/plain": [
              "(1, 1)"
            ]
          },
          "metadata": {},
          "execution_count": 29
        }
      ]
    },
    {
      "cell_type": "markdown",
      "metadata": {
        "id": "KQVxtE9_fNj5"
      },
      "source": [
        "The result (1,1) means the array has 2 indexes (say i,j) and first index has length of 1 and second index has length of 1. The total length of array is 1.\n",
        "\n",
        "i= 0\n",
        "\n",
        "j= 0\n",
        "\n",
        "[1]"
      ]
    },
    {
      "cell_type": "markdown",
      "metadata": {
        "id": "VN7sexHHPd0C"
      },
      "source": [
        "twodarray2 =>\n",
        "\n",
        "[[1 2]\n",
        "\n",
        " [3 4]]\n",
        "\n"
      ]
    },
    {
      "cell_type": "code",
      "metadata": {
        "id": "0143zvT4OYFT",
        "colab": {
          "base_uri": "https://localhost:8080/"
        },
        "outputId": "55b2c497-e35c-4b7d-a539-e3d4b21373d7"
      },
      "source": [
        "twodarray2.shape"
      ],
      "execution_count": 30,
      "outputs": [
        {
          "output_type": "execute_result",
          "data": {
            "text/plain": [
              "(2, 2)"
            ]
          },
          "metadata": {},
          "execution_count": 30
        }
      ]
    },
    {
      "cell_type": "markdown",
      "metadata": {
        "id": "kOR0V93Afm3i"
      },
      "source": [
        "The result (2,2) means that the array has 2 indexes(say i,j) and the first index has length of 2 and second index has length of 2. The total length of the array is 4.\n",
        "\n",
        "i= 0    1\n",
        "\n",
        "j= 0    1\n",
        "\n",
        "[1 2 3 4]"
      ]
    },
    {
      "cell_type": "code",
      "metadata": {
        "colab": {
          "base_uri": "https://localhost:8080/"
        },
        "id": "FP97THTZgWUo",
        "outputId": "fed1f4a5-815d-46a2-9ae4-d1ac6a338f4e"
      },
      "source": [
        "myarr = np.array([ [1,2,3],[4,5,6]])\n",
        "print(myarr)"
      ],
      "execution_count": 32,
      "outputs": [
        {
          "output_type": "stream",
          "name": "stdout",
          "text": [
            "[[1 2 3]\n",
            " [4 5 6]]\n"
          ]
        }
      ]
    },
    {
      "cell_type": "code",
      "metadata": {
        "id": "KhEjRPuDU3cs",
        "outputId": "91c48394-96ec-4b35-a629-bfa6bc373bb3",
        "colab": {
          "base_uri": "https://localhost:8080/"
        }
      },
      "source": [
        "myarr[1][2]"
      ],
      "execution_count": 40,
      "outputs": [
        {
          "output_type": "execute_result",
          "data": {
            "text/plain": [
              "6"
            ]
          },
          "metadata": {},
          "execution_count": 40
        }
      ]
    },
    {
      "cell_type": "code",
      "metadata": {
        "id": "8kraKHRbUagz",
        "outputId": "33cc0111-c865-4018-cf51-8b624c8e1ee8",
        "colab": {
          "base_uri": "https://localhost:8080/"
        }
      },
      "source": [
        "myarr.ndim"
      ],
      "execution_count": 33,
      "outputs": [
        {
          "output_type": "execute_result",
          "data": {
            "text/plain": [
              "2"
            ]
          },
          "metadata": {},
          "execution_count": 33
        }
      ]
    },
    {
      "cell_type": "code",
      "metadata": {
        "id": "xUlL_3LOUkn5",
        "outputId": "cb52caa7-7f4d-4226-e5c2-f274f030fb2b",
        "colab": {
          "base_uri": "https://localhost:8080/"
        }
      },
      "source": [
        "myarr.shape"
      ],
      "execution_count": 34,
      "outputs": [
        {
          "output_type": "execute_result",
          "data": {
            "text/plain": [
              "(2, 3)"
            ]
          },
          "metadata": {},
          "execution_count": 34
        }
      ]
    },
    {
      "cell_type": "markdown",
      "metadata": {
        "id": "qLpfr8oScmeY"
      },
      "source": [
        "### Shape of 3D array"
      ]
    },
    {
      "cell_type": "markdown",
      "metadata": {
        "id": "VHrshJ4BcuDz"
      },
      "source": [
        "threedarray =>\n",
        "\n",
        "[[[1]]]"
      ]
    },
    {
      "cell_type": "code",
      "metadata": {
        "id": "cKSY3HSYObwx",
        "colab": {
          "base_uri": "https://localhost:8080/"
        },
        "outputId": "70e8f21b-c306-4f74-b6cd-0fb2fd33956a"
      },
      "source": [
        "threedarray.shape"
      ],
      "execution_count": 41,
      "outputs": [
        {
          "output_type": "execute_result",
          "data": {
            "text/plain": [
              "(1, 1, 1)"
            ]
          },
          "metadata": {},
          "execution_count": 41
        }
      ]
    },
    {
      "cell_type": "markdown",
      "metadata": {
        "id": "Yh-6LjbPgogU"
      },
      "source": [
        "The result means the array has 3 indexes(say i,j,k). The first index has length 1. Second index has length 1. Third index has length 1. The array length is 1\n",
        "\n",
        "i = 0\n",
        "\n",
        "j = 0\n",
        "\n",
        "k = 0\n",
        "\n",
        "[1]"
      ]
    },
    {
      "cell_type": "markdown",
      "metadata": {
        "id": "-0BKi1ZVc8Km"
      },
      "source": [
        "threedarray2 =>\n",
        "\n",
        "\n",
        "[[[1 2 3] [7 8 9]]\n",
        "\n",
        "[[4 5 6] [9 8 7]]\n",
        "\n",
        "[[1 2 3] [7 8 9]]\n",
        "\n",
        "[[4 5 6] [9 8 7]]]"
      ]
    },
    {
      "cell_type": "code",
      "metadata": {
        "colab": {
          "base_uri": "https://localhost:8080/"
        },
        "id": "HAQw6yQHdBJO",
        "outputId": "c7bced30-ff29-42d5-d42e-d385e955baef"
      },
      "source": [
        "threedarray2.shape"
      ],
      "execution_count": 45,
      "outputs": [
        {
          "output_type": "execute_result",
          "data": {
            "text/plain": [
              "(4, 2, 3)"
            ]
          },
          "metadata": {},
          "execution_count": 45
        }
      ]
    },
    {
      "cell_type": "markdown",
      "metadata": {
        "id": "GCwFXFYuhZXn"
      },
      "source": [
        "The result means the array has 3 indexes(say i,j,k). The first index has length 4. Second index has length 2. Third index has length 3. The array length is 24.\n",
        "\n",
        "\n",
        "i = 0    1    2    3\n",
        "\n",
        "j = 0    1\n",
        "\n",
        "k = 0    1    2\n",
        "\n",
        "[1 2 3 7 8 9 4 5 6 9 8 7 1 2 3 7 8 9 4 5 6 9 8 7]"
      ]
    },
    {
      "cell_type": "code",
      "metadata": {
        "colab": {
          "base_uri": "https://localhost:8080/"
        },
        "id": "XIxw5KD2hVUT",
        "outputId": "7857334b-e256-42a0-b1bd-a6a5364b9fbe"
      },
      "source": [
        "threedarray2[3,1,2]"
      ],
      "execution_count": 46,
      "outputs": [
        {
          "output_type": "execute_result",
          "data": {
            "text/plain": [
              "7"
            ]
          },
          "metadata": {},
          "execution_count": 46
        }
      ]
    },
    {
      "cell_type": "markdown",
      "metadata": {
        "id": "sqNPIs0O-6fJ"
      },
      "source": [
        "The result seven means at the index [3,1,2] we find the element 7"
      ]
    },
    {
      "cell_type": "markdown",
      "metadata": {
        "id": "_88Pzd02kmFj"
      },
      "source": [
        "# Reshape an array"
      ]
    },
    {
      "cell_type": "code",
      "metadata": {
        "colab": {
          "base_uri": "https://localhost:8080/"
        },
        "id": "EA4eb1I1h44C",
        "outputId": "c710539c-b6a3-484b-93fa-e7fb78391841"
      },
      "source": [
        "origarray = np.array([1,2,3,4,5,6,7,8,9,10,11,12,13,14,15, 16])\n",
        "print(origarray)"
      ],
      "execution_count": 47,
      "outputs": [
        {
          "output_type": "stream",
          "name": "stdout",
          "text": [
            "[ 1  2  3  4  5  6  7  8  9 10 11 12 13 14 15 16]\n"
          ]
        }
      ]
    },
    {
      "cell_type": "code",
      "metadata": {
        "colab": {
          "base_uri": "https://localhost:8080/"
        },
        "id": "ruP5LDpRk0oy",
        "outputId": "64887103-1a12-4bfd-9203-4364e45b41af"
      },
      "source": [
        "origarray.shape"
      ],
      "execution_count": 48,
      "outputs": [
        {
          "output_type": "execute_result",
          "data": {
            "text/plain": [
              "(16,)"
            ]
          },
          "metadata": {},
          "execution_count": 48
        }
      ]
    },
    {
      "cell_type": "markdown",
      "metadata": {
        "id": "0HHwoQ0DlFBK"
      },
      "source": [
        "The result say this is one dimensional array, so it has single index. The length of the index is same as length of the array. the length is 16."
      ]
    },
    {
      "cell_type": "markdown",
      "metadata": {
        "id": "BMOMvoyHl3Xs"
      },
      "source": [
        "### Convert the array to two dimensional array of shape (2,8)"
      ]
    },
    {
      "cell_type": "code",
      "metadata": {
        "colab": {
          "base_uri": "https://localhost:8080/"
        },
        "id": "zfY1ZK5JlSuM",
        "outputId": "252e172c-ce6c-4793-cf3a-bc102be84e1b"
      },
      "source": [
        "reshape2darray = origarray.reshape((2,8))\n",
        "print(reshape2darray)"
      ],
      "execution_count": 49,
      "outputs": [
        {
          "output_type": "stream",
          "name": "stdout",
          "text": [
            "[[ 1  2  3  4  5  6  7  8]\n",
            " [ 9 10 11 12 13 14 15 16]]\n"
          ]
        }
      ]
    },
    {
      "cell_type": "code",
      "metadata": {
        "id": "wYMY-fg7YNII",
        "outputId": "1f45ca7b-1b2b-4e0e-ebec-fcc604f0587c",
        "colab": {
          "base_uri": "https://localhost:8080/"
        }
      },
      "source": [
        "newarr = origarray.reshape((8,2))\n",
        "newarr"
      ],
      "execution_count": 56,
      "outputs": [
        {
          "output_type": "execute_result",
          "data": {
            "text/plain": [
              "array([[ 1,  2],\n",
              "       [ 3,  4],\n",
              "       [ 5,  6],\n",
              "       [ 7,  8],\n",
              "       [ 9, 10],\n",
              "       [11, 12],\n",
              "       [13, 14],\n",
              "       [15, 16]])"
            ]
          },
          "metadata": {},
          "execution_count": 56
        }
      ]
    },
    {
      "cell_type": "code",
      "metadata": {
        "id": "NGoT1rdXa0tG",
        "outputId": "e51261b1-47ca-440e-af9c-c89e1901b602",
        "colab": {
          "base_uri": "https://localhost:8080/"
        }
      },
      "source": [
        "newarr.shape"
      ],
      "execution_count": 59,
      "outputs": [
        {
          "output_type": "execute_result",
          "data": {
            "text/plain": [
              "(8, 2)"
            ]
          },
          "metadata": {},
          "execution_count": 59
        }
      ]
    },
    {
      "cell_type": "code",
      "metadata": {
        "id": "apTpIKRemd5d",
        "colab": {
          "base_uri": "https://localhost:8080/"
        },
        "outputId": "7cff831f-11cc-4bce-9665-805c156abf41"
      },
      "source": [
        "reshape2darray.ndim"
      ],
      "execution_count": 57,
      "outputs": [
        {
          "output_type": "execute_result",
          "data": {
            "text/plain": [
              "2"
            ]
          },
          "metadata": {},
          "execution_count": 57
        }
      ]
    },
    {
      "cell_type": "code",
      "metadata": {
        "id": "F8Qz2iwPms0A",
        "colab": {
          "base_uri": "https://localhost:8080/"
        },
        "outputId": "4cd49c62-2ce9-414c-8224-70e50c28624c"
      },
      "source": [
        "reshape2darray.shape"
      ],
      "execution_count": 58,
      "outputs": [
        {
          "output_type": "execute_result",
          "data": {
            "text/plain": [
              "(2, 8)"
            ]
          },
          "metadata": {},
          "execution_count": 58
        }
      ]
    },
    {
      "cell_type": "markdown",
      "metadata": {
        "id": "l0ksB0P8mzdu"
      },
      "source": [
        "### Convert the array to three dimensional array of shape (4,2,2)"
      ]
    },
    {
      "cell_type": "code",
      "metadata": {
        "id": "pG8EHkyVmvVR",
        "colab": {
          "base_uri": "https://localhost:8080/"
        },
        "outputId": "e36ed41e-02ee-474f-f79b-482828b137b8"
      },
      "source": [
        "reshape3darray = origarray.reshape((4,2,2))\n",
        "print(reshape3darray)"
      ],
      "execution_count": 60,
      "outputs": [
        {
          "output_type": "stream",
          "name": "stdout",
          "text": [
            "[[[ 1  2]\n",
            "  [ 3  4]]\n",
            "\n",
            " [[ 5  6]\n",
            "  [ 7  8]]\n",
            "\n",
            " [[ 9 10]\n",
            "  [11 12]]\n",
            "\n",
            " [[13 14]\n",
            "  [15 16]]]\n"
          ]
        }
      ]
    },
    {
      "cell_type": "code",
      "metadata": {
        "id": "rfKYnxP0nkDd",
        "colab": {
          "base_uri": "https://localhost:8080/"
        },
        "outputId": "d52820e8-e2fe-4717-9078-14d7955c1232"
      },
      "source": [
        "reshape3darray.ndim"
      ],
      "execution_count": 61,
      "outputs": [
        {
          "output_type": "execute_result",
          "data": {
            "text/plain": [
              "3"
            ]
          },
          "metadata": {},
          "execution_count": 61
        }
      ]
    },
    {
      "cell_type": "code",
      "metadata": {
        "id": "LkZ71Oton5_V",
        "colab": {
          "base_uri": "https://localhost:8080/"
        },
        "outputId": "a903aac6-739d-4661-d5a7-78b062e3b448"
      },
      "source": [
        "reshape3darray.shape"
      ],
      "execution_count": 62,
      "outputs": [
        {
          "output_type": "execute_result",
          "data": {
            "text/plain": [
              "(4, 2, 2)"
            ]
          },
          "metadata": {},
          "execution_count": 62
        }
      ]
    },
    {
      "cell_type": "code",
      "metadata": {
        "id": "3SalxZFlbe7F",
        "outputId": "b1539c81-d620-46f9-d177-a4e883d38fbf",
        "colab": {
          "base_uri": "https://localhost:8080/"
        }
      },
      "source": [
        "reshape3darray.reshape((16,))"
      ],
      "execution_count": 63,
      "outputs": [
        {
          "output_type": "execute_result",
          "data": {
            "text/plain": [
              "array([ 1,  2,  3,  4,  5,  6,  7,  8,  9, 10, 11, 12, 13, 14, 15, 16])"
            ]
          },
          "metadata": {},
          "execution_count": 63
        }
      ]
    },
    {
      "cell_type": "markdown",
      "metadata": {
        "id": "_OEhJokdKSpt"
      },
      "source": [
        "# Array create methods"
      ]
    },
    {
      "cell_type": "markdown",
      "metadata": {
        "id": "BLvJCG0qN7sU"
      },
      "source": [
        "###  Create from list\n"
      ]
    },
    {
      "cell_type": "code",
      "metadata": {
        "id": "6sn9oMAHOVoi",
        "colab": {
          "base_uri": "https://localhost:8080/"
        },
        "outputId": "e199a87d-8b72-49fb-abb4-befef20c1bf1"
      },
      "source": [
        "arrayfromlist = np.array([1,2,3,4,5])\n",
        "print(arrayfromlist)"
      ],
      "execution_count": 64,
      "outputs": [
        {
          "output_type": "stream",
          "name": "stdout",
          "text": [
            "[1 2 3 4 5]\n"
          ]
        }
      ]
    },
    {
      "cell_type": "code",
      "metadata": {
        "id": "Lg5CDxZ6b-Wv",
        "outputId": "0e00c414-4faa-4b87-b864-7b2d3d095f09",
        "colab": {
          "base_uri": "https://localhost:8080/"
        }
      },
      "source": [
        "type(arrayfromlist)"
      ],
      "execution_count": 65,
      "outputs": [
        {
          "output_type": "execute_result",
          "data": {
            "text/plain": [
              "numpy.ndarray"
            ]
          },
          "metadata": {},
          "execution_count": 65
        }
      ]
    },
    {
      "cell_type": "markdown",
      "metadata": {
        "id": "zIg4d_3ROhoT"
      },
      "source": [
        "### Create array having all values as zeroe "
      ]
    },
    {
      "cell_type": "code",
      "metadata": {
        "id": "94Q_KiTtO0bS",
        "colab": {
          "base_uri": "https://localhost:8080/"
        },
        "outputId": "29560388-7837-44fc-edc9-411f4502702b"
      },
      "source": [
        "array1dallzeros = np.zeros(10)\n",
        "print(array1dallzeros)"
      ],
      "execution_count": 66,
      "outputs": [
        {
          "output_type": "stream",
          "name": "stdout",
          "text": [
            "[0. 0. 0. 0. 0. 0. 0. 0. 0. 0.]\n"
          ]
        }
      ]
    },
    {
      "cell_type": "code",
      "metadata": {
        "id": "AjG0zytiPSvp",
        "colab": {
          "base_uri": "https://localhost:8080/"
        },
        "outputId": "a5bef11c-234b-4071-efde-2f44cb6b1237"
      },
      "source": [
        "array2dallzeros = np.zeros((5,5))\n",
        "print(array2dallzeros)"
      ],
      "execution_count": 67,
      "outputs": [
        {
          "output_type": "stream",
          "name": "stdout",
          "text": [
            "[[0. 0. 0. 0. 0.]\n",
            " [0. 0. 0. 0. 0.]\n",
            " [0. 0. 0. 0. 0.]\n",
            " [0. 0. 0. 0. 0.]\n",
            " [0. 0. 0. 0. 0.]]\n"
          ]
        }
      ]
    },
    {
      "cell_type": "code",
      "metadata": {
        "id": "R1LJ5VC2Pfjo",
        "colab": {
          "base_uri": "https://localhost:8080/"
        },
        "outputId": "fabb3c36-9e50-4116-a73a-637dc9488a8b"
      },
      "source": [
        "array3dallzeros = np.zeros((2,3,4))\n",
        "print(array3dallzeros)"
      ],
      "execution_count": 68,
      "outputs": [
        {
          "output_type": "stream",
          "name": "stdout",
          "text": [
            "[[[0. 0. 0. 0.]\n",
            "  [0. 0. 0. 0.]\n",
            "  [0. 0. 0. 0.]]\n",
            "\n",
            " [[0. 0. 0. 0.]\n",
            "  [0. 0. 0. 0.]\n",
            "  [0. 0. 0. 0.]]]\n"
          ]
        }
      ]
    },
    {
      "cell_type": "markdown",
      "metadata": {
        "id": "zq-LAa4UP70m"
      },
      "source": [
        "Another numpy function similar to numpy.zeros is numpy.ones. Instead of zeros all values are 1. "
      ]
    },
    {
      "cell_type": "code",
      "metadata": {
        "id": "jMHpf5kWQIyt",
        "colab": {
          "base_uri": "https://localhost:8080/"
        },
        "outputId": "2770ad74-d982-4082-fe8d-a7bc153ca078"
      },
      "source": [
        "arrayallones = np.ones((2,3))\n",
        "print(arrayallones)"
      ],
      "execution_count": 69,
      "outputs": [
        {
          "output_type": "stream",
          "name": "stdout",
          "text": [
            "[[1. 1. 1.]\n",
            " [1. 1. 1.]]\n"
          ]
        }
      ]
    },
    {
      "cell_type": "markdown",
      "metadata": {
        "id": "y54ChH5aVprc"
      },
      "source": [
        "### Create array having all random values"
      ]
    },
    {
      "cell_type": "code",
      "metadata": {
        "colab": {
          "base_uri": "https://localhost:8080/"
        },
        "id": "rADg7oatW-dG",
        "outputId": "4630fb90-562c-4fdc-9f99-078dd363f4fc"
      },
      "source": [
        "arrayallrandom = np.random.random((2,3))\n",
        "print(arrayallrandom)"
      ],
      "execution_count": 70,
      "outputs": [
        {
          "output_type": "stream",
          "name": "stdout",
          "text": [
            "[[0.02575559 0.16799989 0.23139095]\n",
            " [0.90956997 0.99700506 0.92750267]]\n"
          ]
        }
      ]
    },
    {
      "cell_type": "markdown",
      "metadata": {
        "id": "3BYHGoq6XMlF"
      },
      "source": [
        "### Create array having all values with normal distribution"
      ]
    },
    {
      "cell_type": "code",
      "metadata": {
        "colab": {
          "base_uri": "https://localhost:8080/"
        },
        "id": "fhj4fKrQXV18",
        "outputId": "1601f6f6-8f76-44b2-f8eb-f123082d3dfe"
      },
      "source": [
        "arrayallrandomnormal =  np.random.randn(10)\n",
        "print(arrayallrandomnormal)"
      ],
      "execution_count": 71,
      "outputs": [
        {
          "output_type": "stream",
          "name": "stdout",
          "text": [
            "[-0.78704292 -0.3068476   0.34616153 -1.5117913   0.08522278  1.48084703\n",
            "  0.68632777 -0.19729026  0.9181675   0.17126893]\n"
          ]
        }
      ]
    },
    {
      "cell_type": "code",
      "metadata": {
        "colab": {
          "base_uri": "https://localhost:8080/"
        },
        "id": "xkc-21vxYre9",
        "outputId": "39001b24-6a1f-4dd1-c437-fac293bb9892"
      },
      "source": [
        "array2dallrandomnormal = arrayallrandomnormal.reshape((2,5))\n",
        "print(array2dallrandomnormal)"
      ],
      "execution_count": 72,
      "outputs": [
        {
          "output_type": "stream",
          "name": "stdout",
          "text": [
            "[[-0.78704292 -0.3068476   0.34616153 -1.5117913   0.08522278]\n",
            " [ 1.48084703  0.68632777 -0.19729026  0.9181675   0.17126893]]\n"
          ]
        }
      ]
    },
    {
      "cell_type": "markdown",
      "metadata": {
        "id": "1fXyczmZdRnT"
      },
      "source": [
        "### Create equally spaced (linearly spaced) array"
      ]
    },
    {
      "cell_type": "code",
      "metadata": {
        "colab": {
          "base_uri": "https://localhost:8080/"
        },
        "id": "q2O4XDfpdZ8H",
        "outputId": "55b8d0c9-c9f4-49e8-934d-ac3ff7b19e3e"
      },
      "source": [
        "arraylinspaced = np.linspace(0,10,5)\n",
        "print(arraylinspaced)"
      ],
      "execution_count": 73,
      "outputs": [
        {
          "output_type": "stream",
          "name": "stdout",
          "text": [
            "[ 0.   2.5  5.   7.5 10. ]\n"
          ]
        }
      ]
    },
    {
      "cell_type": "markdown",
      "metadata": {
        "id": "RAaXzWwGd_2Q"
      },
      "source": [
        "### Create equally spaced(taking space as input) array"
      ]
    },
    {
      "cell_type": "code",
      "metadata": {
        "colab": {
          "base_uri": "https://localhost:8080/"
        },
        "id": "FnV9o8q-eUpA",
        "outputId": "93b67978-84cc-41a7-deba-7f62f310e139"
      },
      "source": [
        "arrayarange = np.arange(0,10,2.5)\n",
        "print(arrayarange)"
      ],
      "execution_count": 74,
      "outputs": [
        {
          "output_type": "stream",
          "name": "stdout",
          "text": [
            "[0.  2.5 5.  7.5]\n"
          ]
        }
      ]
    },
    {
      "cell_type": "markdown",
      "metadata": {
        "id": "YjZZBAMtjS-C"
      },
      "source": [
        "# Array operations\n",
        "\n",
        "Numpy arrays operate differently compared to python lists as numpy arrays allow large number of mathematical operation to be performed on them. As mentioned earlier, they are also superfast."
      ]
    },
    {
      "cell_type": "markdown",
      "metadata": {
        "id": "WPcfMTnIj1ut"
      },
      "source": [
        "### Scalar operations"
      ]
    },
    {
      "cell_type": "code",
      "metadata": {
        "id": "b7S4yyd5KoLi"
      },
      "source": [
        "cardsarray = np.array([1,2,3,4,5])\n",
        "print(cardsarray)"
      ],
      "execution_count": null,
      "outputs": []
    },
    {
      "cell_type": "code",
      "metadata": {
        "id": "DvK03N-mkMNW"
      },
      "source": [
        "# Multiply cardsarray with scalar value of 5\n",
        "scalarmulcardsarray = 5*cardsarray\n",
        "print(scalarmulcardsarray)"
      ],
      "execution_count": null,
      "outputs": []
    },
    {
      "cell_type": "code",
      "metadata": {
        "id": "DkYd3rpHkeHX"
      },
      "source": [
        "#Divide cards array with scalar value of 5\n",
        "cardsarraydivscalar = cardsarray/5\n",
        "print(cardsarraydivscalar) "
      ],
      "execution_count": null,
      "outputs": []
    },
    {
      "cell_type": "code",
      "metadata": {
        "id": "-He0ZsuNlIlL"
      },
      "source": [
        "#Reciprocal of cardsarray values\n",
        "reciprocalcardsarray = 1/cardsarray\n",
        "print(reciprocalcardsarray)"
      ],
      "execution_count": null,
      "outputs": []
    },
    {
      "cell_type": "markdown",
      "metadata": {
        "id": "S2OHHPsVm98D"
      },
      "source": [
        "### Conditional Operations"
      ]
    },
    {
      "cell_type": "code",
      "metadata": {
        "id": "QbIwZyA2lZ6V"
      },
      "source": [
        "conditionalarray = np.array([1,2,3,4,5,6,7,8,9])\n",
        "print(conditionalarray) "
      ],
      "execution_count": null,
      "outputs": []
    },
    {
      "cell_type": "code",
      "metadata": {
        "id": "78loqikbnNQ2"
      },
      "source": [
        "conditionalarray > 5"
      ],
      "execution_count": null,
      "outputs": []
    },
    {
      "cell_type": "code",
      "metadata": {
        "id": "-_VqtoC6nUBN"
      },
      "source": [
        "conditionalarray < 5"
      ],
      "execution_count": null,
      "outputs": []
    },
    {
      "cell_type": "code",
      "metadata": {
        "id": "wRxvEL4mnZOo"
      },
      "source": [
        "conditionalarray == 5"
      ],
      "execution_count": null,
      "outputs": []
    },
    {
      "cell_type": "markdown",
      "metadata": {
        "id": "BNNz6E4HoFcD"
      },
      "source": [
        "#### use conditional as index"
      ]
    },
    {
      "cell_type": "code",
      "metadata": {
        "id": "Btzme4iHnbl4"
      },
      "source": [
        "conditionalarray[conditionalarray>3]"
      ],
      "execution_count": null,
      "outputs": []
    },
    {
      "cell_type": "markdown",
      "metadata": {
        "id": "xGYQiftYpbPN"
      },
      "source": [
        "### Apply user defined function on all elements on an array"
      ]
    },
    {
      "cell_type": "code",
      "metadata": {
        "id": "9jnljMAInvIx"
      },
      "source": [
        "ufarray = np.array([1,2,3,4,5])\n",
        "print(ufarray)"
      ],
      "execution_count": null,
      "outputs": []
    },
    {
      "cell_type": "code",
      "metadata": {
        "id": "nF3_iTlspsBh"
      },
      "source": [
        "def f(x):\n",
        "  return x**x+1"
      ],
      "execution_count": null,
      "outputs": []
    },
    {
      "cell_type": "code",
      "metadata": {
        "id": "0H3JmqJlp2ib"
      },
      "source": [
        "f(2)"
      ],
      "execution_count": null,
      "outputs": []
    },
    {
      "cell_type": "code",
      "metadata": {
        "id": "muME1Kf5p4ie"
      },
      "source": [
        "f(ufarray)"
      ],
      "execution_count": null,
      "outputs": []
    },
    {
      "cell_type": "markdown",
      "metadata": {
        "id": "js7e6_6tqHtA"
      },
      "source": [
        "### Matrix Multiplcation using array"
      ]
    },
    {
      "cell_type": "markdown",
      "metadata": {
        "id": "dU-whRPBybeJ"
      },
      "source": [
        "Create two simple 2D matrices matrixA and MatrixB. matrixA has shape (1,3) and matrixB has shape (3,1)"
      ]
    },
    {
      "cell_type": "code",
      "metadata": {
        "id": "7AiOkqwJp8Jl"
      },
      "source": [
        "matrixA = np.array([[1,2,3]])\n",
        "print(matrixA)"
      ],
      "execution_count": null,
      "outputs": []
    },
    {
      "cell_type": "code",
      "metadata": {
        "id": "OivFQMV0wxWb"
      },
      "source": [
        "matrixA.shape"
      ],
      "execution_count": null,
      "outputs": []
    },
    {
      "cell_type": "code",
      "metadata": {
        "id": "4jA_LGm-w9w5"
      },
      "source": [
        "matrixB = np.array([[1],[2],[3]])\n",
        "print(matrixB)"
      ],
      "execution_count": null,
      "outputs": []
    },
    {
      "cell_type": "code",
      "metadata": {
        "id": "vvsS9LyoxKGU"
      },
      "source": [
        "matrixB.shape"
      ],
      "execution_count": null,
      "outputs": []
    },
    {
      "cell_type": "markdown",
      "metadata": {
        "id": "QtQNeCAqxjg9"
      },
      "source": [
        "### dot product of matrices"
      ]
    },
    {
      "cell_type": "code",
      "metadata": {
        "id": "KYYYtUkzxsCo"
      },
      "source": [
        "dotProd = matrixA.dot(matrixB)\n",
        "print(dotProd)"
      ],
      "execution_count": null,
      "outputs": []
    },
    {
      "cell_type": "code",
      "metadata": {
        "id": "DSQQf08_yDu4"
      },
      "source": [
        "matrixA.ndim"
      ],
      "execution_count": null,
      "outputs": []
    },
    {
      "cell_type": "code",
      "metadata": {
        "id": "A0EtdY7JyRno"
      },
      "source": [
        "matrixB.ndim"
      ],
      "execution_count": null,
      "outputs": []
    },
    {
      "cell_type": "code",
      "metadata": {
        "id": "46dSj88KyVM7"
      },
      "source": [
        "dotProd.ndim"
      ],
      "execution_count": null,
      "outputs": []
    },
    {
      "cell_type": "code",
      "metadata": {
        "id": "M4hp08XC2iD2"
      },
      "source": [
        "#### Another way to achieve dot product\n",
        "print(matrixA@matrixB)"
      ],
      "execution_count": null,
      "outputs": []
    },
    {
      "cell_type": "code",
      "metadata": {
        "id": "cDzezrs-3Bsr"
      },
      "source": [
        ""
      ],
      "execution_count": null,
      "outputs": []
    },
    {
      "cell_type": "markdown",
      "metadata": {
        "id": "lkMTn1p7y8U8"
      },
      "source": [
        "### Matrix multiplication\n",
        "\n",
        "\n",
        "[[1 2 3]] * [\n",
        "  \n",
        "  [1]\n",
        " [2]\n",
        " [3]\n",
        " \n",
        " ]\n"
      ]
    },
    {
      "cell_type": "code",
      "metadata": {
        "id": "py_tsYGHxNlb"
      },
      "source": [
        "matrixA*matrixB"
      ],
      "execution_count": null,
      "outputs": []
    },
    {
      "cell_type": "code",
      "metadata": {
        "id": "d5UbQUZw223e"
      },
      "source": [
        "a=np.array([1,2,3])\n",
        "b=np.array([3,2,1])\n",
        "a*b"
      ],
      "execution_count": null,
      "outputs": []
    },
    {
      "cell_type": "markdown",
      "metadata": {
        "id": "hGYm0lWoz_xe"
      },
      "source": [
        "# Simple plots using plyplot"
      ]
    },
    {
      "cell_type": "markdown",
      "metadata": {
        "id": "Sn8Qn8AD0Ix-"
      },
      "source": [
        "### line plot"
      ]
    },
    {
      "cell_type": "code",
      "metadata": {
        "id": "lJbV1xFe1Mr3"
      },
      "source": [
        "import matplotlib.pyplot as plt"
      ],
      "execution_count": null,
      "outputs": []
    },
    {
      "cell_type": "code",
      "metadata": {
        "id": "FD7u8tbj1rh1"
      },
      "source": [
        "x= np.random.randn(10)\n",
        "plt.hist(x)"
      ],
      "execution_count": null,
      "outputs": []
    },
    {
      "cell_type": "code",
      "metadata": {
        "id": "GHVCGStAxTwR"
      },
      "source": [
        "x=np.array([1,2,3,4,5,6,7])\n",
        "plt.plot(x, x**x)"
      ],
      "execution_count": null,
      "outputs": []
    },
    {
      "cell_type": "markdown",
      "metadata": {
        "id": "84lkyv1486KF"
      },
      "source": [
        "# Array indexing"
      ]
    },
    {
      "cell_type": "markdown",
      "metadata": {
        "id": "zgAmVkam92Bj"
      },
      "source": [
        "## Index 1D array"
      ]
    },
    {
      "cell_type": "code",
      "metadata": {
        "id": "Z5Ujaah80alp"
      },
      "source": [
        "index1d =np.array([1,2,3,4,5])\n",
        "print(index1d)"
      ],
      "execution_count": null,
      "outputs": []
    },
    {
      "cell_type": "code",
      "metadata": {
        "id": "wI7VeUQ59Vtj"
      },
      "source": [
        "### First Element\n",
        "index1d[0]"
      ],
      "execution_count": null,
      "outputs": []
    },
    {
      "cell_type": "code",
      "metadata": {
        "id": "rUa2hc8A9aHl"
      },
      "source": [
        "### Last Element\n",
        "index1d[4]"
      ],
      "execution_count": null,
      "outputs": []
    },
    {
      "cell_type": "markdown",
      "metadata": {
        "id": "jg2CG_Jv-NKf"
      },
      "source": [
        "## Index 2D array"
      ]
    },
    {
      "cell_type": "code",
      "metadata": {
        "id": "BoM7CM_f9l79"
      },
      "source": [
        "index2d = np.array([[1,2,3],[4,5,6],[7,8,9]])\n",
        "print(index2d)"
      ],
      "execution_count": null,
      "outputs": []
    },
    {
      "cell_type": "markdown",
      "metadata": {
        "id": "RuVglS7BB59l"
      },
      "source": [
        "#### To get first 1D array"
      ]
    },
    {
      "cell_type": "code",
      "metadata": {
        "id": "6ps6IJHTCA58"
      },
      "source": [
        "index2d[0]"
      ],
      "execution_count": null,
      "outputs": []
    },
    {
      "cell_type": "code",
      "metadata": {
        "id": "JttDqA3x_Nhm"
      },
      "source": [
        "###First Element\n",
        "index2d[0,0]"
      ],
      "execution_count": null,
      "outputs": []
    },
    {
      "cell_type": "code",
      "metadata": {
        "id": "0Zigiulb_UED"
      },
      "source": [
        "###Last Element\n",
        "index2d[2,2]"
      ],
      "execution_count": null,
      "outputs": []
    },
    {
      "cell_type": "code",
      "metadata": {
        "id": "X2iraCMr_aK1"
      },
      "source": [
        "### central element\n",
        "index2d[1,1]"
      ],
      "execution_count": null,
      "outputs": []
    },
    {
      "cell_type": "markdown",
      "metadata": {
        "id": "uTuKAc83_h_w"
      },
      "source": [
        "### Index 3D array"
      ]
    },
    {
      "cell_type": "code",
      "metadata": {
        "id": "GIpezp0N_fvy"
      },
      "source": [
        "index3d = np.array([ [[1,2,3],[4,5,6]],[[7,8,9],[10,11,12]],[[13,14,15],[16,17,18]] ])\n",
        "print(index3d)"
      ],
      "execution_count": null,
      "outputs": []
    },
    {
      "cell_type": "markdown",
      "metadata": {
        "id": "HIrOBcy_BkEV"
      },
      "source": [
        "#### To get first 2D array"
      ]
    },
    {
      "cell_type": "code",
      "metadata": {
        "id": "cGm9nHF7ACFu"
      },
      "source": [
        "index3d[0]"
      ],
      "execution_count": null,
      "outputs": []
    },
    {
      "cell_type": "markdown",
      "metadata": {
        "id": "iHSI0guJBqkw"
      },
      "source": [
        "#### To get first 1D array from first 2D array"
      ]
    },
    {
      "cell_type": "code",
      "metadata": {
        "id": "cfX5rizhBVvj"
      },
      "source": [
        "index3d[0,0]"
      ],
      "execution_count": null,
      "outputs": []
    },
    {
      "cell_type": "markdown",
      "metadata": {
        "id": "ROHVpRRrBxld"
      },
      "source": [
        "#### To get the first element"
      ]
    },
    {
      "cell_type": "code",
      "metadata": {
        "id": "U4iBiu4XBbqb"
      },
      "source": [
        "index3d[0,0,0]"
      ],
      "execution_count": null,
      "outputs": []
    },
    {
      "cell_type": "markdown",
      "metadata": {
        "id": "HXcmFbQICPkX"
      },
      "source": [
        "# Array Slicing\n",
        "##[start:end:step]\n",
        "\n",
        "### default value for start =0\n",
        "\n",
        "### default value for end = length of the array\n",
        "\n",
        "### default value for step = 1"
      ]
    },
    {
      "cell_type": "markdown",
      "metadata": {
        "id": "5ks13_LrEOh6"
      },
      "source": [
        "### Slice 1D array"
      ]
    },
    {
      "cell_type": "code",
      "metadata": {
        "id": "3n89ZJ_kBegI"
      },
      "source": [
        "slice1d =np.array([1,2,3,4,5])\n",
        "print(slice1d)"
      ],
      "execution_count": null,
      "outputs": []
    },
    {
      "cell_type": "code",
      "metadata": {
        "id": "FMp88-fRDtBi"
      },
      "source": [
        "### Get First 2 elements. expected values for [start:end:step] =>[0:2:1]\n",
        "\n",
        "### [0:2:1]\n",
        "print(\"pattern => [0:2:1]\")\n",
        "print(slice1d[0:2:1])\n",
        "print(\"--------------\")\n",
        "### same as [:2]\n",
        "print(\"pattern =>[:2]\")\n",
        "print(slice1d[:2])\n",
        "\n",
        "\n"
      ],
      "execution_count": null,
      "outputs": []
    },
    {
      "cell_type": "code",
      "metadata": {
        "id": "zxPRlXyEDx-Z"
      },
      "source": [
        "### Exclude first 2 elements. expected values for [start:end:step] =>[0:2:1]\n",
        "\n",
        "### same as [2:5:1]\n",
        "print(\"pattern [2:5:1]\")\n",
        "print(slice1d[2:5:1])\n",
        "print(\"--------------\")\n",
        "### same as [2:]\n",
        "print(\"pattern [2:]\")\n",
        "print(slice1d[2:])\n",
        "\n",
        "\n",
        "\n"
      ],
      "execution_count": null,
      "outputs": []
    },
    {
      "cell_type": "code",
      "metadata": {
        "id": "b27fRyRzFx0V"
      },
      "source": [
        "### Get last two elements. expected values for [start:end:step] =>[3:5:1] or [-2:5:1] or [-2:]\n",
        "print(\"pattern [3:5:1]\")\n",
        "print(slice1d[3:5:1])\n",
        "print(\"--------------\")\n",
        "print(\"pattern [-2:5:1]\")\n",
        "print(slice1d[-2:5:1])\n",
        "print(\"--------------\")\n",
        "print(\"pattern [-2:]\")\n",
        "print(slice1d[-2:])"
      ],
      "execution_count": null,
      "outputs": []
    },
    {
      "cell_type": "code",
      "metadata": {
        "id": "43PcBtcmF-yp"
      },
      "source": [
        "### Exclude last two elements  expected values for [start:end:step] =>[0:3:1] or [0:-2:1] or [:-2]\n",
        "print(\"pattern [0:3:1]\")\n",
        "print(slice1d[0:3:1])\n",
        "print(\"--------------\")\n",
        "print(\"pattern [0:-2:1]\")\n",
        "print(slice1d[0:-2:1])\n",
        "print(\"--------------\")\n",
        "print(\"pattern [:-2]\")\n",
        "print(slice1d[:-2])"
      ],
      "execution_count": null,
      "outputs": []
    },
    {
      "cell_type": "markdown",
      "metadata": {
        "id": "6CbjlhxZtrkC"
      },
      "source": [
        "#### Use conditional array for slicing"
      ]
    },
    {
      "cell_type": "code",
      "metadata": {
        "id": "sbatis7ztqq9"
      },
      "source": [
        "### Check indexes where value is greater than 2\n",
        "conditionalindexes = slice1d>2\n",
        "print(conditionalindexes)"
      ],
      "execution_count": null,
      "outputs": []
    },
    {
      "cell_type": "code",
      "metadata": {
        "id": "iNShCU-7uUlZ"
      },
      "source": [
        "### Use conditional index to values greater than 2\n",
        "\n",
        "print(slice1d[conditionalindexes])"
      ],
      "execution_count": null,
      "outputs": []
    },
    {
      "cell_type": "code",
      "metadata": {
        "id": "3JXhrsmaurqu"
      },
      "source": [
        "### conditional slicing can be done directly on the array itself\n",
        "print(slice1d[slice1d>2])"
      ],
      "execution_count": null,
      "outputs": []
    },
    {
      "cell_type": "code",
      "metadata": {
        "id": "xNy-CCoeww3y"
      },
      "source": [
        "### more conditional slicing\n",
        "x=np.array([1,2,3,4,5,6,7,8,9,10,11,12,13,14,15])\n",
        "print(x[x%3==0])"
      ],
      "execution_count": null,
      "outputs": []
    },
    {
      "cell_type": "code",
      "metadata": {
        "id": "DV_6uFn6xx9O"
      },
      "source": [
        "### conditional using strings - Get all country name starting with i\n",
        "countries = np.array([\"argentina\", \"india\",\"afghanisthan\",\"england\",\"israel\",\"usa\", \"france\",\"iran\"])\n",
        "### create an array of first letters of the countries \n",
        "first_letters = np.vectorize(lambda s: s[0]) (countries)\n",
        "### use first letters as indexes\n",
        "print(countries[first_letters==\"i\"])\n"
      ],
      "execution_count": null,
      "outputs": []
    },
    {
      "cell_type": "code",
      "metadata": {
        "id": "3ZtkZhuCzuIT"
      },
      "source": [
        "### Or the above conditional may be combined in single line\n",
        "print(countries[np.vectorize(lambda s:s[0])(countries)==\"i\"])"
      ],
      "execution_count": null,
      "outputs": []
    },
    {
      "cell_type": "markdown",
      "metadata": {
        "id": "wp7QAOtcEcuq"
      },
      "source": [
        "### Slice 2D array\n",
        "\n",
        "#### A 2D array is array with elements which are 1D array"
      ]
    },
    {
      "cell_type": "code",
      "metadata": {
        "id": "AOk_kCt6D3eV"
      },
      "source": [
        "slice2d =  np.array([[1,2,3],[4,5,6],[7,8,9]])\n",
        "print(slice2d)"
      ],
      "execution_count": null,
      "outputs": []
    },
    {
      "cell_type": "code",
      "metadata": {
        "id": "zcsy-mbdEnU2"
      },
      "source": [
        "### Get the first 2 elements of the 2D array. Remember the elements of 2D array is 1D array\n",
        "### expected values for [start:end:step] =>[0:2:1] or [:2]\n",
        "print(\"pattern [0:2:1]\")\n",
        "print(slice2d[0:2:1])\n",
        "print(\"--------------\")\n",
        "print(\"pattern [:2]\")\n",
        "print(slice2d[:2])\n"
      ],
      "execution_count": null,
      "outputs": []
    },
    {
      "cell_type": "markdown",
      "metadata": {
        "id": "I3zV7M16seih"
      },
      "source": [
        "### Slice 3D array\n",
        "\n",
        "A 3D array is array with elements which are 2D array"
      ]
    },
    {
      "cell_type": "code",
      "metadata": {
        "id": "OzQwMwXqFDxL"
      },
      "source": [
        "slice3d = np.array([ [[1,2,3],[4,5,6]],[[7,8,9],[10,11,12]],[[13,14,15],[16,17,18]] ])\n",
        "print(slice3d)"
      ],
      "execution_count": null,
      "outputs": []
    },
    {
      "cell_type": "code",
      "metadata": {
        "id": "bVyjag6Qsrao"
      },
      "source": [
        "### Get the first 2 elements of the 3D array. Remember the elements of 3D array is 2D array\n",
        "### expected values for [start:end:step] =>[0:2:1] or [:2]\n",
        "print(\"pattern [0:2:1]\")\n",
        "print(slice3d[0:2:1])\n",
        "print(\"--------------\")\n",
        "print(\"pattern [:2]\")\n",
        "print(slice3d[:2])"
      ],
      "execution_count": null,
      "outputs": []
    },
    {
      "cell_type": "markdown",
      "metadata": {
        "id": "OMa8GITIZzVI"
      },
      "source": [
        "### Iterate through an array"
      ]
    },
    {
      "cell_type": "markdown",
      "metadata": {
        "id": "NfGK--I5Z_PK"
      },
      "source": [
        "##### 1d array"
      ]
    },
    {
      "cell_type": "code",
      "metadata": {
        "id": "XR99ZBE3s2JA"
      },
      "source": [
        "import numpy as np\n",
        "\n",
        "arr = np.array([1, 2, 3])\n",
        "\n",
        "for x in arr:\n",
        "  print(x) "
      ],
      "execution_count": null,
      "outputs": []
    },
    {
      "cell_type": "markdown",
      "metadata": {
        "id": "9NRzOV6GaBqw"
      },
      "source": [
        "##### 2d array"
      ]
    },
    {
      "cell_type": "code",
      "metadata": {
        "id": "CFOMfUP-aD9M"
      },
      "source": [
        "import numpy as np\n",
        "\n",
        "arr = np.array([[1, 2, 3], [4, 5, 6]])\n",
        "\n",
        "for x in arr:\n",
        "  for y in x:\n",
        "    print(y) "
      ],
      "execution_count": null,
      "outputs": []
    },
    {
      "cell_type": "markdown",
      "metadata": {
        "id": "1rC2yF1laP1p"
      },
      "source": [
        "##### 3d array"
      ]
    },
    {
      "cell_type": "code",
      "metadata": {
        "id": "Uvb5S821aSmU"
      },
      "source": [
        "import numpy as np\n",
        "\n",
        "arr = np.array([[[1, 2, 3], [4, 5, 6]], [[7, 8, 9], [10, 11, 12]]])\n",
        "\n",
        "for x in arr:\n",
        "  for y in x:\n",
        "    for z in y:\n",
        "      print(z)"
      ],
      "execution_count": null,
      "outputs": []
    },
    {
      "cell_type": "markdown",
      "metadata": {
        "id": "dEvOXRR4aaO9"
      },
      "source": [
        "##### iterating using nditer()"
      ]
    },
    {
      "cell_type": "code",
      "metadata": {
        "id": "1Mep7GNmaZrH"
      },
      "source": [
        "import numpy as np\n",
        "\n",
        "arr = np.array([[[1, 2], [3, 4]], [[5, 6], [7, 8]]])\n",
        "\n",
        "for x in np.nditer(arr):\n",
        "  print(x) "
      ],
      "execution_count": null,
      "outputs": []
    },
    {
      "cell_type": "markdown",
      "metadata": {
        "id": "cI-47BFEdBhk"
      },
      "source": [
        "### Dtype"
      ]
    },
    {
      "cell_type": "code",
      "metadata": {
        "id": "QczyTLkXdDmq"
      },
      "source": [
        "my_int = 1\n",
        "type(my_int)\n"
      ],
      "execution_count": null,
      "outputs": []
    },
    {
      "cell_type": "markdown",
      "metadata": {
        "id": "STTglf77eRnc"
      },
      "source": [
        "Whether i32 or i64 is used will depend on architecture of the host machine running the program"
      ]
    },
    {
      "cell_type": "code",
      "metadata": {
        "id": "f9_futwUdZnH"
      },
      "source": [
        "print(np.dtype('i2'))\n",
        "print(np.dtype('i4'))\n",
        "print(np.dtype('i8'))"
      ],
      "execution_count": null,
      "outputs": []
    },
    {
      "cell_type": "code",
      "metadata": {
        "id": "ip3MOpI-fXpP"
      },
      "source": [
        "arr = np.array([1, 2, 3, 4], dtype='S')\n",
        "\n",
        "print(arr)\n",
        "print(arr.dtype) "
      ],
      "execution_count": null,
      "outputs": []
    },
    {
      "cell_type": "code",
      "metadata": {
        "id": "oEIVgKuHf9tD"
      },
      "source": [
        "arr1 = np.array([1, 2, 3, 4])\n",
        "\n",
        "print(type(arr1))\n",
        "print(type(arr1[0])) "
      ],
      "execution_count": null,
      "outputs": []
    },
    {
      "cell_type": "code",
      "metadata": {
        "id": "kVSaZAawgEKW"
      },
      "source": [
        "arr2 = np.array(arr1, dtype='i4')\n",
        "\n",
        "print(type(arr2))\n",
        "print(type(arr2[0])) \n"
      ],
      "execution_count": null,
      "outputs": []
    },
    {
      "cell_type": "markdown",
      "metadata": {
        "id": "ioJZNVXthDcy"
      },
      "source": [
        "### Enumerate"
      ]
    },
    {
      "cell_type": "code",
      "metadata": {
        "id": "0ShN46ivgT46"
      },
      "source": [
        "arr = np.array([1, 2, 3])\n",
        "new_arr = np.ndenumerate(arr)\n",
        "\n",
        "print(new_arr)"
      ],
      "execution_count": null,
      "outputs": []
    },
    {
      "cell_type": "code",
      "metadata": {
        "id": "3qMMNgmVhSV1"
      },
      "source": [
        "for i,x in new_arr:\n",
        "  print(\"index is \"+str(i)+\" value is \"+str(x))"
      ],
      "execution_count": null,
      "outputs": []
    },
    {
      "cell_type": "markdown",
      "metadata": {
        "id": "-HCJ4KTPi_sv"
      },
      "source": [
        "### Join"
      ]
    },
    {
      "cell_type": "markdown",
      "metadata": {
        "id": "DAo2b6NVjCkN"
      },
      "source": [
        "##### Simple"
      ]
    },
    {
      "cell_type": "code",
      "metadata": {
        "id": "Mgs2J5OwiJKy"
      },
      "source": [
        "arr1 = np.array([1, 2, 3])\n",
        "arr2 = np.array([4, 5, 6])\n",
        "arr = np.concatenate((arr1, arr2))\n",
        "\n",
        "print(arr) "
      ],
      "execution_count": null,
      "outputs": []
    },
    {
      "cell_type": "markdown",
      "metadata": {
        "id": "ipXd8VWTjJCB"
      },
      "source": [
        "###### 2d array"
      ]
    },
    {
      "cell_type": "code",
      "metadata": {
        "id": "hdt29W-fjRDz"
      },
      "source": [
        "arr1 = np.array([[1, 2], [3, 4]])\n",
        "arr2 = np.array([[5, 6], [7, 8]])\n",
        "print(arr1)\n",
        "print(arr2)"
      ],
      "execution_count": null,
      "outputs": []
    },
    {
      "cell_type": "code",
      "metadata": {
        "id": "eLu8AqYsj_6j"
      },
      "source": [
        "np.concatenate((arr1, arr2), axis=1)"
      ],
      "execution_count": null,
      "outputs": []
    },
    {
      "cell_type": "code",
      "metadata": {
        "id": "AffR_TKGkEeh"
      },
      "source": [
        "np.concatenate((arr1, arr2))"
      ],
      "execution_count": null,
      "outputs": []
    },
    {
      "cell_type": "markdown",
      "metadata": {
        "id": "iAWkl5-7khM3"
      },
      "source": [
        "##### using stack"
      ]
    },
    {
      "cell_type": "code",
      "metadata": {
        "id": "KoqcR7i5kouV"
      },
      "source": [
        "np.stack((arr1,arr2), axis=1)"
      ],
      "execution_count": null,
      "outputs": []
    },
    {
      "cell_type": "code",
      "metadata": {
        "id": "HYYvA_nok54t"
      },
      "source": [
        "np.stack((arr1,arr2))"
      ],
      "execution_count": null,
      "outputs": []
    },
    {
      "cell_type": "markdown",
      "metadata": {
        "id": "cp1yXiLElHt1"
      },
      "source": [
        "##### using hstack"
      ]
    },
    {
      "cell_type": "code",
      "metadata": {
        "id": "S-stHgvhlMwA"
      },
      "source": [
        "np.hstack((arr1,arr2))"
      ],
      "execution_count": null,
      "outputs": []
    },
    {
      "cell_type": "markdown",
      "metadata": {
        "id": "Vbo3sHhAlX52"
      },
      "source": [
        "##### using vstack"
      ]
    },
    {
      "cell_type": "code",
      "metadata": {
        "id": "HkdGQr5ElZ6r"
      },
      "source": [
        "np.vstack((arr1,arr2))"
      ],
      "execution_count": null,
      "outputs": []
    },
    {
      "cell_type": "markdown",
      "metadata": {
        "id": "MgUQUvJcl4gb"
      },
      "source": [
        "### Split"
      ]
    },
    {
      "cell_type": "code",
      "metadata": {
        "id": "wXrRwCZkl53R"
      },
      "source": [
        "arr = np.array([1, 2, 3, 4, 5, 6])\n",
        "newarr = np.array_split(arr, 3)\n",
        "print(newarr[0])\n",
        "print(newarr[1])\n",
        "print(newarr[2]) "
      ],
      "execution_count": null,
      "outputs": []
    },
    {
      "cell_type": "markdown",
      "metadata": {
        "id": "HRt2MWDwnGnn"
      },
      "source": [
        "### Search"
      ]
    },
    {
      "cell_type": "markdown",
      "metadata": {
        "id": "SsrqYHN9nWUh"
      },
      "source": [
        "##### where() returns indexes"
      ]
    },
    {
      "cell_type": "code",
      "metadata": {
        "id": "cEAGVRaOnF-P"
      },
      "source": [
        "arr = np.array([1, 2, 3, 4, 5, 4, 4])\n",
        "x = np.where(arr == 4)\n",
        "print(x) "
      ],
      "execution_count": null,
      "outputs": []
    },
    {
      "cell_type": "code",
      "metadata": {
        "id": "FvAF-QjGnb-G"
      },
      "source": [
        "print(arr[x]) "
      ],
      "execution_count": null,
      "outputs": []
    },
    {
      "cell_type": "code",
      "metadata": {
        "id": "EOt1Acp-noZY"
      },
      "source": [
        "arr = np.array([1, 2, 3, 4, 5, 6, 7, 8])\n",
        "x = np.where(arr%2 == 0)\n",
        "print(x)\n",
        "print(arr[x])"
      ],
      "execution_count": null,
      "outputs": []
    },
    {
      "cell_type": "markdown",
      "metadata": {
        "id": "iaZWtgL-n-Da"
      },
      "source": [
        "### Sort"
      ]
    },
    {
      "cell_type": "code",
      "metadata": {
        "id": "ZfRc2Oq5n_ym"
      },
      "source": [
        "arr = np.array([3, 2, 0, 1])\n",
        "print(np.sort(arr)) "
      ],
      "execution_count": null,
      "outputs": []
    },
    {
      "cell_type": "code",
      "metadata": {
        "id": "dletbJMVoNRD"
      },
      "source": [
        "arr = np.array(['banana', 'cherry', 'apple'])\n",
        "print(np.sort(arr)) "
      ],
      "execution_count": null,
      "outputs": []
    },
    {
      "cell_type": "markdown",
      "metadata": {
        "id": "ULyV55wsoSol"
      },
      "source": [
        "### Filter"
      ]
    },
    {
      "cell_type": "code",
      "metadata": {
        "id": "rcytAoEvoUNf"
      },
      "source": [
        "arr = np.array([41, 42, 43, 44])\n",
        "x = [True, False, True, False]\n",
        "newarr = arr[x]\n",
        "print(newarr) "
      ],
      "execution_count": null,
      "outputs": []
    }
  ]
}