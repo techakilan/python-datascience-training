{
  "nbformat": 4,
  "nbformat_minor": 0,
  "metadata": {
    "colab": {
      "name": "PythonFileHandling.ipynb",
      "provenance": [],
      "collapsed_sections": [],
      "include_colab_link": true
    },
    "kernelspec": {
      "name": "python3",
      "display_name": "Python 3"
    },
    "language_info": {
      "name": "python"
    }
  },
  "cells": [
    {
      "cell_type": "markdown",
      "metadata": {
        "id": "view-in-github",
        "colab_type": "text"
      },
      "source": [
        "<a href=\"https://colab.research.google.com/github/techakilan/python-datascience-training/blob/master/PythonFileHandling.ipynb\" target=\"_parent\"><img src=\"https://colab.research.google.com/assets/colab-badge.svg\" alt=\"Open In Colab\"/></a>"
      ]
    },
    {
      "cell_type": "markdown",
      "metadata": {
        "id": "kH67c0JGglH9"
      },
      "source": [
        ""
      ]
    },
    {
      "cell_type": "markdown",
      "metadata": {
        "id": "I2GA4d1ehUVa"
      },
      "source": [
        "## Open function\n",
        "\n",
        "The open() function opens the file (if possible) and returns the corresponding file object.\n",
        "\n",
        "The open() function takes two parameters; filename, and mode.\n",
        "\n",
        "Important modes are,\n",
        "\n",
        "\"r\" - Read - Default value. Opens a file for reading, error if the file does not exist\n",
        "\n",
        "\"a\" - Append - Opens a file for appending, creates the file if it does not exist\n",
        "\n",
        "\"w\" - Write - Opens a file for writing, creates the file if it does not exist\n",
        "\n",
        "\"x\" - Create - Creates the specified file, returns an error if the file exists\n",
        "\n",
        "\"t\" - Text - Default value. Text mode\n",
        "\n",
        "\"b\" - Binary - Binary mode (e.g. images)"
      ]
    },
    {
      "cell_type": "markdown",
      "metadata": {
        "id": "XhziVjcvg8X0"
      },
      "source": [
        "## Create File - mode x creates a file, returns error if the file with the same name already exists\n",
        "\n",
        "opening file with mode \"w\", or write mode also creates a file. This will be covered later.\n",
        "\n",
        "opening file with mode \"a\", or append mode also creates a file. This will be covered later.\n",
        "\n"
      ]
    },
    {
      "cell_type": "code",
      "metadata": {
        "id": "oMpk-VGXCL_j"
      },
      "source": [
        "# Filename\n",
        "fname = \"demo.txt\""
      ],
      "execution_count": null,
      "outputs": []
    },
    {
      "cell_type": "code",
      "metadata": {
        "colab": {
          "base_uri": "https://localhost:8080/"
        },
        "id": "8s-ixY_2hLkS",
        "outputId": "aee04f74-42cb-4794-d67c-aad69d264ac0"
      },
      "source": [
        "# Create file\n",
        "create_file_handler = open(fname, \"x\")\n",
        "print(create_file_handler)"
      ],
      "execution_count": null,
      "outputs": [
        {
          "output_type": "stream",
          "name": "stdout",
          "text": [
            "<_io.TextIOWrapper name='demo.txt' mode='x' encoding='UTF-8'>\n"
          ]
        }
      ]
    },
    {
      "cell_type": "code",
      "metadata": {
        "colab": {
          "base_uri": "https://localhost:8080/",
          "height": 185
        },
        "id": "NuLumO1SlyYN",
        "outputId": "d35cdf00-cc44-469b-b45c-96266846a4c5"
      },
      "source": [
        "repeat_create_file_handler = open(fname, \"x\")\n",
        "print(repeat_create_file_handler)"
      ],
      "execution_count": null,
      "outputs": [
        {
          "output_type": "error",
          "ename": "FileExistsError",
          "evalue": "ignored",
          "traceback": [
            "\u001b[0;31m---------------------------------------------------------------------------\u001b[0m",
            "\u001b[0;31mFileExistsError\u001b[0m                           Traceback (most recent call last)",
            "\u001b[0;32m<ipython-input-115-412c7257a572>\u001b[0m in \u001b[0;36m<module>\u001b[0;34m()\u001b[0m\n\u001b[0;32m----> 1\u001b[0;31m \u001b[0mrepeat_create_file_handler\u001b[0m \u001b[0;34m=\u001b[0m \u001b[0mopen\u001b[0m\u001b[0;34m(\u001b[0m\u001b[0mfname\u001b[0m\u001b[0;34m,\u001b[0m \u001b[0;34m\"x\"\u001b[0m\u001b[0;34m)\u001b[0m\u001b[0;34m\u001b[0m\u001b[0;34m\u001b[0m\u001b[0m\n\u001b[0m\u001b[1;32m      2\u001b[0m \u001b[0mprint\u001b[0m\u001b[0;34m(\u001b[0m\u001b[0mrepeat_create_file_handler\u001b[0m\u001b[0;34m)\u001b[0m\u001b[0;34m\u001b[0m\u001b[0;34m\u001b[0m\u001b[0m\n",
            "\u001b[0;31mFileExistsError\u001b[0m: [Errno 17] File exists: 'demo.txt'"
          ]
        }
      ]
    },
    {
      "cell_type": "markdown",
      "metadata": {
        "id": "dMLO8jMhm5xb"
      },
      "source": [
        "## Check if file exists"
      ]
    },
    {
      "cell_type": "code",
      "metadata": {
        "colab": {
          "base_uri": "https://localhost:8080/"
        },
        "id": "S-qAWR0Bm5II",
        "outputId": "14dcd499-8a46-422a-88bc-ea5dae2ec71c"
      },
      "source": [
        "import os\n",
        "if os.path.exists(fname):\n",
        "  print(\"File exists\")\n",
        "else:\n",
        "  print(\"File does not exist\")"
      ],
      "execution_count": null,
      "outputs": [
        {
          "output_type": "stream",
          "name": "stdout",
          "text": [
            "File exists\n"
          ]
        }
      ]
    },
    {
      "cell_type": "code",
      "metadata": {
        "id": "OJPPt2hir3gE"
      },
      "source": [
        "# create custom_file_exits() function\n",
        "\n",
        "def custom_file_exists(fname):\n",
        "  import os\n",
        "  if os.path.exists(fname):\n",
        "    print(\"File exists\")\n",
        "  else:\n",
        "    print(\"File does not exist\")"
      ],
      "execution_count": null,
      "outputs": []
    },
    {
      "cell_type": "code",
      "metadata": {
        "colab": {
          "base_uri": "https://localhost:8080/"
        },
        "id": "kR3h6-ruCGLO",
        "outputId": "601e45df-c304-4a95-c4b3-04305387f4b2"
      },
      "source": [
        "custom_file_exits(fname)"
      ],
      "execution_count": null,
      "outputs": [
        {
          "output_type": "stream",
          "name": "stdout",
          "text": [
            "File exists\n"
          ]
        }
      ]
    },
    {
      "cell_type": "markdown",
      "metadata": {
        "id": "X7k70kngo7f2"
      },
      "source": [
        "## Custom Create function"
      ]
    },
    {
      "cell_type": "code",
      "metadata": {
        "id": "gUqGHOFIo_Nu"
      },
      "source": [
        "def custom_create_x(fname):\n",
        "  import os\n",
        "  if os.path.exists(fname):\n",
        "    print (\"File already exists\")\n",
        "    return None  \n",
        "  else:\n",
        "    print(\"File created successfully\")\n",
        "    return open(fname, \"x\")\n"
      ],
      "execution_count": null,
      "outputs": []
    },
    {
      "cell_type": "code",
      "metadata": {
        "colab": {
          "base_uri": "https://localhost:8080/"
        },
        "id": "UHr-XXNds3P1",
        "outputId": "abec275f-3d81-4322-dedf-47e7a0183d87"
      },
      "source": [
        "custom_file_exits(fname)"
      ],
      "execution_count": null,
      "outputs": [
        {
          "output_type": "stream",
          "name": "stdout",
          "text": [
            "File exists\n"
          ]
        }
      ]
    },
    {
      "cell_type": "code",
      "metadata": {
        "colab": {
          "base_uri": "https://localhost:8080/"
        },
        "id": "14BUfcfTpjJ7",
        "outputId": "46c45afd-cbe8-472e-f798-7e5b07fc8e2f"
      },
      "source": [
        "custom_create_x(fname)\n"
      ],
      "execution_count": null,
      "outputs": [
        {
          "output_type": "stream",
          "name": "stdout",
          "text": [
            "File already exists\n"
          ]
        }
      ]
    },
    {
      "cell_type": "markdown",
      "metadata": {
        "id": "7vpWGNyFmJeB"
      },
      "source": [
        "## Delete file - causes error if the file does not exist"
      ]
    },
    {
      "cell_type": "markdown",
      "metadata": {
        "id": "tyEJwxugl-UD"
      },
      "source": [
        ""
      ]
    },
    {
      "cell_type": "code",
      "metadata": {
        "id": "fKVsAC8bmY05"
      },
      "source": [
        "import os\n",
        "os.remove(fname)"
      ],
      "execution_count": null,
      "outputs": []
    },
    {
      "cell_type": "code",
      "metadata": {
        "colab": {
          "base_uri": "https://localhost:8080/"
        },
        "id": "K0exmP8kDLK0",
        "outputId": "c992b5fa-b9b4-42bb-edbd-fee7fc547112"
      },
      "source": [
        "custom_file_exits(fname)"
      ],
      "execution_count": null,
      "outputs": [
        {
          "output_type": "stream",
          "name": "stdout",
          "text": [
            "File does not exist\n"
          ]
        }
      ]
    },
    {
      "cell_type": "code",
      "metadata": {
        "colab": {
          "base_uri": "https://localhost:8080/",
          "height": 202
        },
        "id": "1q0LmMCvmdE5",
        "outputId": "cfc9060c-226b-431d-a251-c2421c2187ad"
      },
      "source": [
        "#Try to remove again\n",
        "import os\n",
        "os.remove(fname)"
      ],
      "execution_count": null,
      "outputs": [
        {
          "output_type": "error",
          "ename": "FileNotFoundError",
          "evalue": "ignored",
          "traceback": [
            "\u001b[0;31m---------------------------------------------------------------------------\u001b[0m",
            "\u001b[0;31mFileNotFoundError\u001b[0m                         Traceback (most recent call last)",
            "\u001b[0;32m<ipython-input-124-130cb0ba33f6>\u001b[0m in \u001b[0;36m<module>\u001b[0;34m()\u001b[0m\n\u001b[1;32m      1\u001b[0m \u001b[0;31m#Try to remove again\u001b[0m\u001b[0;34m\u001b[0m\u001b[0;34m\u001b[0m\u001b[0;34m\u001b[0m\u001b[0m\n\u001b[1;32m      2\u001b[0m \u001b[0;32mimport\u001b[0m \u001b[0mos\u001b[0m\u001b[0;34m\u001b[0m\u001b[0;34m\u001b[0m\u001b[0m\n\u001b[0;32m----> 3\u001b[0;31m \u001b[0mos\u001b[0m\u001b[0;34m.\u001b[0m\u001b[0mremove\u001b[0m\u001b[0;34m(\u001b[0m\u001b[0mfname\u001b[0m\u001b[0;34m)\u001b[0m\u001b[0;34m\u001b[0m\u001b[0;34m\u001b[0m\u001b[0m\n\u001b[0m",
            "\u001b[0;31mFileNotFoundError\u001b[0m: [Errno 2] No such file or directory: 'demo.txt'"
          ]
        }
      ]
    },
    {
      "cell_type": "markdown",
      "metadata": {
        "id": "b9ouyxJwrDzk"
      },
      "source": [
        "## Custom delete function"
      ]
    },
    {
      "cell_type": "code",
      "metadata": {
        "id": "6NwDevy4rCDR"
      },
      "source": [
        "def custom_delete(fname):\n",
        "  import os\n",
        "  if os.path.exists(fname):\n",
        "    os.remove(fname)\n",
        "    print (\"File deleted\")\n",
        "  else:\n",
        "    print(\"File does not exist\")\n"
      ],
      "execution_count": null,
      "outputs": []
    },
    {
      "cell_type": "code",
      "metadata": {
        "colab": {
          "base_uri": "https://localhost:8080/"
        },
        "id": "CMnaRlxNsaSZ",
        "outputId": "86dcdfd2-4c95-4cc2-b1a8-d5204b782c83"
      },
      "source": [
        "custom_file_exits(fname)"
      ],
      "execution_count": null,
      "outputs": [
        {
          "output_type": "stream",
          "name": "stdout",
          "text": [
            "File does not exist\n"
          ]
        }
      ]
    },
    {
      "cell_type": "code",
      "metadata": {
        "colab": {
          "base_uri": "https://localhost:8080/"
        },
        "id": "XFUWRz_Qrk-p",
        "outputId": "2412e305-3563-4b61-f00d-2edb27c78d49"
      },
      "source": [
        "custom_delete(fname)"
      ],
      "execution_count": null,
      "outputs": [
        {
          "output_type": "stream",
          "name": "stdout",
          "text": [
            "File does not exist\n"
          ]
        }
      ]
    },
    {
      "cell_type": "code",
      "metadata": {
        "colab": {
          "base_uri": "https://localhost:8080/"
        },
        "id": "hX3hRms3rqMv",
        "outputId": "fd102dba-e254-4eb2-8775-85928973c5c4"
      },
      "source": [
        "custom_create_x(fname)"
      ],
      "execution_count": null,
      "outputs": [
        {
          "output_type": "stream",
          "name": "stdout",
          "text": [
            "File created successfully\n"
          ]
        },
        {
          "output_type": "execute_result",
          "data": {
            "text/plain": [
              "<_io.TextIOWrapper name='demo.txt' mode='x' encoding='UTF-8'>"
            ]
          },
          "metadata": {},
          "execution_count": 128
        }
      ]
    },
    {
      "cell_type": "code",
      "metadata": {
        "colab": {
          "base_uri": "https://localhost:8080/"
        },
        "id": "6Qua2E6usuHO",
        "outputId": "da8d9d0b-54ea-4e16-d71b-ba4509f492fa"
      },
      "source": [
        "custom_delete(fname)"
      ],
      "execution_count": null,
      "outputs": [
        {
          "output_type": "stream",
          "name": "stdout",
          "text": [
            "File deleted\n"
          ]
        }
      ]
    },
    {
      "cell_type": "markdown",
      "metadata": {
        "id": "u2HttyZzuBa1"
      },
      "source": [
        "## Write into a file - w mode . Overwrites if there are any existing content int the file"
      ]
    },
    {
      "cell_type": "code",
      "metadata": {
        "colab": {
          "base_uri": "https://localhost:8080/"
        },
        "id": "6xzGSEa0uAxN",
        "outputId": "d78ad2f3-d926-40ee-b7f0-3776a898fb63"
      },
      "source": [
        "custom_create_x(fname)\n",
        "\n",
        "my_write_handler=open(fname,\"w\")\n",
        "my_write_handler.write(\"Cats rule the world\")\n"
      ],
      "execution_count": null,
      "outputs": [
        {
          "output_type": "stream",
          "name": "stdout",
          "text": [
            "File created successfully\n"
          ]
        },
        {
          "output_type": "execute_result",
          "data": {
            "text/plain": [
              "19"
            ]
          },
          "metadata": {},
          "execution_count": 130
        }
      ]
    },
    {
      "cell_type": "code",
      "metadata": {
        "id": "vgqeTjgPvSND"
      },
      "source": [
        "my_write_handler.close()"
      ],
      "execution_count": null,
      "outputs": []
    },
    {
      "cell_type": "markdown",
      "metadata": {
        "id": "RQ9ldvGsD_tt"
      },
      "source": [
        "##Write into a file - w mode . Creates file if the file does not exist"
      ]
    },
    {
      "cell_type": "code",
      "metadata": {
        "colab": {
          "base_uri": "https://localhost:8080/"
        },
        "id": "t3O5ai5BEe-Q",
        "outputId": "b82e4038-d6c6-42a0-b12d-5bbc17da5993"
      },
      "source": [
        "custom_file_exits(\"newfile.txt\")"
      ],
      "execution_count": null,
      "outputs": [
        {
          "output_type": "stream",
          "name": "stdout",
          "text": [
            "File does not exist\n"
          ]
        }
      ]
    },
    {
      "cell_type": "code",
      "metadata": {
        "colab": {
          "base_uri": "https://localhost:8080/"
        },
        "id": "6fTLJVuhEBqU",
        "outputId": "715c9775-6cf7-4a45-c2eb-72af5ed63543"
      },
      "source": [
        "my_write_handler = open(\"newfile.txt\",\"w\")\n",
        "my_write_handler.write(\"Cats always rule the world\")\n"
      ],
      "execution_count": null,
      "outputs": [
        {
          "output_type": "execute_result",
          "data": {
            "text/plain": [
              "26"
            ]
          },
          "metadata": {},
          "execution_count": 133
        }
      ]
    },
    {
      "cell_type": "code",
      "metadata": {
        "id": "PvQBA4iDFdKz"
      },
      "source": [
        "my_write_handler.close()"
      ],
      "execution_count": null,
      "outputs": []
    },
    {
      "cell_type": "code",
      "metadata": {
        "colab": {
          "base_uri": "https://localhost:8080/"
        },
        "id": "NIG58AUyGPpO",
        "outputId": "97334d4e-d394-4cf5-89d0-60229ec04ec3"
      },
      "source": [
        "custom_delete(\"newfile.txt\")"
      ],
      "execution_count": null,
      "outputs": [
        {
          "output_type": "stream",
          "name": "stdout",
          "text": [
            "File deleted\n"
          ]
        }
      ]
    },
    {
      "cell_type": "markdown",
      "metadata": {
        "id": "0q-VX3OyGAs-"
      },
      "source": [
        "## Write into a file - a mode. Append contents to the exiting contents of the file."
      ]
    },
    {
      "cell_type": "code",
      "metadata": {
        "colab": {
          "base_uri": "https://localhost:8080/"
        },
        "id": "GKW9MZ4rF6Jo",
        "outputId": "9f67f35a-17f2-4aec-ead1-2fd76ded9b33"
      },
      "source": [
        " my_write_handler = open(fname,\"a\")\n",
        " my_write_handler.write(\"\\nAppend content to the cat story\")"
      ],
      "execution_count": null,
      "outputs": [
        {
          "output_type": "execute_result",
          "data": {
            "text/plain": [
              "32"
            ]
          },
          "metadata": {},
          "execution_count": 136
        }
      ]
    },
    {
      "cell_type": "code",
      "metadata": {
        "id": "MIIfUUDUG4Yr"
      },
      "source": [
        "my_write_handler.close()"
      ],
      "execution_count": null,
      "outputs": []
    },
    {
      "cell_type": "markdown",
      "metadata": {
        "id": "tqNdoJF-HHM8"
      },
      "source": [
        "## Write into a file - a mode. Creates file if the file does not exist"
      ]
    },
    {
      "cell_type": "code",
      "metadata": {
        "colab": {
          "base_uri": "https://localhost:8080/"
        },
        "id": "RYa-0ToYG6AC",
        "outputId": "f19018bf-923b-4b38-cc3f-56e8d3eafec8"
      },
      "source": [
        "custom_file_exits(\"newfile.txt\")"
      ],
      "execution_count": null,
      "outputs": [
        {
          "output_type": "stream",
          "name": "stdout",
          "text": [
            "File does not exist\n"
          ]
        }
      ]
    },
    {
      "cell_type": "code",
      "metadata": {
        "colab": {
          "base_uri": "https://localhost:8080/"
        },
        "id": "14nqu6HhHSM-",
        "outputId": "f9a82c31-1ff0-411b-eb97-6b7434fd266d"
      },
      "source": [
        "my_write_handler = open(\"newfile.txt\",\"a\")\n",
        "my_write_handler.write(\"Cats always rule the world\")"
      ],
      "execution_count": null,
      "outputs": [
        {
          "output_type": "execute_result",
          "data": {
            "text/plain": [
              "26"
            ]
          },
          "metadata": {},
          "execution_count": 139
        }
      ]
    },
    {
      "cell_type": "code",
      "metadata": {
        "id": "p0_1jLjHHUrq"
      },
      "source": [
        "my_write_handler.close()"
      ],
      "execution_count": null,
      "outputs": []
    },
    {
      "cell_type": "code",
      "metadata": {
        "colab": {
          "base_uri": "https://localhost:8080/"
        },
        "id": "yfYciVvLHY6W",
        "outputId": "11e70111-f4a9-4fdc-eade-1d93b863cc34"
      },
      "source": [
        "custom_delete(\"newfile.txt\")"
      ],
      "execution_count": null,
      "outputs": [
        {
          "output_type": "stream",
          "name": "stdout",
          "text": [
            "File deleted\n"
          ]
        }
      ]
    },
    {
      "cell_type": "markdown",
      "metadata": {
        "id": "Feh3KWUwH9DR"
      },
      "source": [
        "## Read from file - r mode. Throws error if the file does not exist."
      ]
    },
    {
      "cell_type": "code",
      "metadata": {
        "colab": {
          "base_uri": "https://localhost:8080/",
          "height": 167
        },
        "id": "KXAf2s8wIF9w",
        "outputId": "a2a371e2-3cfb-4c92-aab0-b1076cfbdb88"
      },
      "source": [
        "my_read_handler = open(\"read_demo.txt\",\"r\")"
      ],
      "execution_count": null,
      "outputs": [
        {
          "output_type": "error",
          "ename": "FileNotFoundError",
          "evalue": "ignored",
          "traceback": [
            "\u001b[0;31m---------------------------------------------------------------------------\u001b[0m",
            "\u001b[0;31mFileNotFoundError\u001b[0m                         Traceback (most recent call last)",
            "\u001b[0;32m<ipython-input-142-2a4caed8e6db>\u001b[0m in \u001b[0;36m<module>\u001b[0;34m()\u001b[0m\n\u001b[0;32m----> 1\u001b[0;31m \u001b[0mmy_read_handler\u001b[0m \u001b[0;34m=\u001b[0m \u001b[0mopen\u001b[0m\u001b[0;34m(\u001b[0m\u001b[0;34m\"read_demo.txt\"\u001b[0m\u001b[0;34m,\u001b[0m\u001b[0;34m\"r\"\u001b[0m\u001b[0;34m)\u001b[0m\u001b[0;34m\u001b[0m\u001b[0;34m\u001b[0m\u001b[0m\n\u001b[0m",
            "\u001b[0;31mFileNotFoundError\u001b[0m: [Errno 2] No such file or directory: 'read_demo.txt'"
          ]
        }
      ]
    },
    {
      "cell_type": "code",
      "metadata": {
        "id": "2V4l9IWgJI8a"
      },
      "source": [
        "file_contents = \"\"\"Roman and Greek are in europe.\n",
        "Persians, Indians and Cinese ae in Asia.\n",
        "Egyptians are in Africa.\n",
        "Aztecs and Mayans are in Americas.\n",
        "Maoris are in Newzealan\"\"\""
      ],
      "execution_count": null,
      "outputs": []
    },
    {
      "cell_type": "code",
      "metadata": {
        "id": "LGOnmgwSQwN-"
      },
      "source": [
        "my_write_handler = open(\"read_demo.txt\",\"w\")\n",
        "my_write_handler.write(file_contents)\n",
        "my_write_handler.close()"
      ],
      "execution_count": null,
      "outputs": []
    },
    {
      "cell_type": "markdown",
      "metadata": {
        "id": "sFNCh1siTRKI"
      },
      "source": [
        "### Read all contents"
      ]
    },
    {
      "cell_type": "code",
      "metadata": {
        "colab": {
          "base_uri": "https://localhost:8080/"
        },
        "id": "7IBips3ySJMg",
        "outputId": "178f581a-821c-4af7-8afb-96889084d26b"
      },
      "source": [
        "custom_file_exists(\"read_demo.txt\")"
      ],
      "execution_count": null,
      "outputs": [
        {
          "output_type": "stream",
          "name": "stdout",
          "text": [
            "File exists\n"
          ]
        }
      ]
    },
    {
      "cell_type": "code",
      "metadata": {
        "colab": {
          "base_uri": "https://localhost:8080/"
        },
        "id": "qCfKUhRwRtiK",
        "outputId": "e419e254-caef-4358-c79c-24d2edd0e09a"
      },
      "source": [
        "my_read_handler = open(\"read_demo.txt\",\"r\")\n",
        "print(my_read_handler.read())\n",
        "my_read_handler.close()\n",
        "\n"
      ],
      "execution_count": null,
      "outputs": [
        {
          "output_type": "stream",
          "name": "stdout",
          "text": [
            "Roman and Greek are in europe.\n",
            "Persians, Indians and Cinese ae in Asia.\n",
            "Egyptians are in Africa.\n",
            "Aztecs and Mayans are in Americas.\n",
            "Maoris are in Newzealan\n"
          ]
        }
      ]
    },
    {
      "cell_type": "markdown",
      "metadata": {
        "id": "ZdpP79WMTp9V"
      },
      "source": [
        "### Read number of characters from a file"
      ]
    },
    {
      "cell_type": "code",
      "metadata": {
        "colab": {
          "base_uri": "https://localhost:8080/"
        },
        "id": "jAdECtyZTzSl",
        "outputId": "cfb8a75a-ecf5-4674-b61b-ef5f01373dd4"
      },
      "source": [
        "my_read_handler = open(\"read_demo.txt\",\"r\")\n",
        "print(my_read_handler.read(5))"
      ],
      "execution_count": null,
      "outputs": [
        {
          "output_type": "stream",
          "name": "stdout",
          "text": [
            "Roman\n"
          ]
        }
      ]
    },
    {
      "cell_type": "code",
      "metadata": {
        "colab": {
          "base_uri": "https://localhost:8080/"
        },
        "id": "rxpuBpFMT62F",
        "outputId": "5eb17b60-8237-45a4-a384-3410ddf2e7da"
      },
      "source": [
        "print(my_read_handler.read(20))"
      ],
      "execution_count": null,
      "outputs": [
        {
          "output_type": "stream",
          "name": "stdout",
          "text": [
            " and Greek are in eu\n"
          ]
        }
      ]
    },
    {
      "cell_type": "code",
      "metadata": {
        "id": "atW3GohFT2YW"
      },
      "source": [
        "my_read_handler.close()"
      ],
      "execution_count": null,
      "outputs": []
    },
    {
      "cell_type": "markdown",
      "metadata": {
        "id": "KM3o0HznUK_P"
      },
      "source": [
        "### Read single line from a file"
      ]
    },
    {
      "cell_type": "code",
      "metadata": {
        "colab": {
          "base_uri": "https://localhost:8080/"
        },
        "id": "YjHsngU6UO6M",
        "outputId": "67e7c13f-dd85-4978-ee77-6d01bf276e7a"
      },
      "source": [
        "my_read_handler = open(\"read_demo.txt\",\"r\")\n",
        "print(my_read_handler.readline())"
      ],
      "execution_count": null,
      "outputs": [
        {
          "output_type": "stream",
          "name": "stdout",
          "text": [
            "Roman and Greek are in europe.\n",
            "\n"
          ]
        }
      ]
    },
    {
      "cell_type": "code",
      "metadata": {
        "colab": {
          "base_uri": "https://localhost:8080/"
        },
        "id": "fghodkHzUiW2",
        "outputId": "4b97de93-c264-4a4d-ffa9-e0c15368dd0f"
      },
      "source": [
        "print(my_read_handler.readline())"
      ],
      "execution_count": null,
      "outputs": [
        {
          "output_type": "stream",
          "name": "stdout",
          "text": [
            "Persians, Indians and Cinese ae in Asia.\n",
            "\n"
          ]
        }
      ]
    },
    {
      "cell_type": "code",
      "metadata": {
        "id": "gS6UbvWVUeg6"
      },
      "source": [
        "my_read_handler.close()"
      ],
      "execution_count": null,
      "outputs": []
    },
    {
      "cell_type": "markdown",
      "metadata": {
        "id": "NLyxzWtmUsJv"
      },
      "source": [
        "### Loop through lines in a file"
      ]
    },
    {
      "cell_type": "code",
      "metadata": {
        "id": "8nvgdMYmU0l2"
      },
      "source": [
        "my_read_handler = open(\"read_demo.txt\",\"r\")"
      ],
      "execution_count": null,
      "outputs": []
    },
    {
      "cell_type": "code",
      "metadata": {
        "colab": {
          "base_uri": "https://localhost:8080/"
        },
        "id": "o5TxDvxGU33U",
        "outputId": "e6bf9853-dc1b-4101-b6df-7ece58eb9969"
      },
      "source": [
        "for single_line in my_read_handler:\n",
        "  print(single_line)"
      ],
      "execution_count": null,
      "outputs": [
        {
          "output_type": "stream",
          "name": "stdout",
          "text": [
            "Roman and Greek are in europe.\n",
            "\n",
            "Persians, Indians and Cinese ae in Asia.\n",
            "\n",
            "Egyptians are in Africa.\n",
            "\n",
            "Aztecs and Mayans are in Americas.\n",
            "\n",
            "Maoris are in Newzealan\n"
          ]
        }
      ]
    },
    {
      "cell_type": "code",
      "metadata": {
        "id": "zIEihVEFVEkS"
      },
      "source": [
        "my_read_handler.close()"
      ],
      "execution_count": null,
      "outputs": []
    },
    {
      "cell_type": "markdown",
      "metadata": {
        "id": "MqcroldOVyzQ"
      },
      "source": [
        "### Get part of file- number of lines"
      ]
    },
    {
      "cell_type": "code",
      "metadata": {
        "id": "mdgURpm6V1mI"
      },
      "source": [
        "my_read_handler = open(\"read_demo.txt\",\"r\")"
      ],
      "execution_count": null,
      "outputs": []
    },
    {
      "cell_type": "code",
      "metadata": {
        "id": "XtUXEWedV39a"
      },
      "source": [
        "contents = my_read_handler.readlines()"
      ],
      "execution_count": null,
      "outputs": []
    },
    {
      "cell_type": "code",
      "metadata": {
        "colab": {
          "base_uri": "https://localhost:8080/"
        },
        "id": "4Pww0dlqY1mn",
        "outputId": "bd99a4dc-0f38-48ac-ed5e-f55046b3058c"
      },
      "source": [
        "print(contents)"
      ],
      "execution_count": null,
      "outputs": [
        {
          "output_type": "stream",
          "name": "stdout",
          "text": [
            "['Roman and Greek are in europe.\\n', 'Persians, Indians and Cinese ae in Asia.\\n', 'Egyptians are in Africa.\\n', 'Aztecs and Mayans are in Americas.\\n', 'Maoris are in Newzealan']\n"
          ]
        }
      ]
    },
    {
      "cell_type": "code",
      "metadata": {
        "colab": {
          "base_uri": "https://localhost:8080/"
        },
        "id": "ij-W0AMvWXrb",
        "outputId": "0ec1b35b-0ecc-45ff-98c0-c09e7a25d199"
      },
      "source": [
        "for i in range(1,3):\n",
        "  print(contents[i])"
      ],
      "execution_count": null,
      "outputs": [
        {
          "output_type": "stream",
          "name": "stdout",
          "text": [
            "Persians, Indians and Cinese ae in Asia.\n",
            "\n",
            "Egyptians are in Africa.\n",
            "\n"
          ]
        }
      ]
    }
  ]
}