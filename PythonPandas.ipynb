{
  "nbformat": 4,
  "nbformat_minor": 0,
  "metadata": {
    "colab": {
      "name": "PythonPandas.ipynb",
      "provenance": [],
      "collapsed_sections": [],
      "authorship_tag": "ABX9TyOkW+sqBUDlKwpNargTFpxI",
      "include_colab_link": true
    },
    "kernelspec": {
      "name": "python3",
      "display_name": "Python 3"
    },
    "language_info": {
      "name": "python"
    }
  },
  "cells": [
    {
      "cell_type": "markdown",
      "metadata": {
        "id": "view-in-github",
        "colab_type": "text"
      },
      "source": [
        "<a href=\"https://colab.research.google.com/github/techakilan/python-datascience-training/blob/master/PythonPandas.ipynb\" target=\"_parent\"><img src=\"https://colab.research.google.com/assets/colab-badge.svg\" alt=\"Open In Colab\"/></a>"
      ]
    },
    {
      "cell_type": "code",
      "metadata": {
        "id": "ti43RnruQlnr"
      },
      "source": [
        "import pandas as pd"
      ],
      "execution_count": 2,
      "outputs": []
    },
    {
      "cell_type": "markdown",
      "metadata": {
        "id": "DElMvFB2Q8iz"
      },
      "source": [
        "##### Get Version"
      ]
    },
    {
      "cell_type": "code",
      "metadata": {
        "id": "eWiL-Ui4Q_UV"
      },
      "source": [
        "\n",
        "print(pd.__version__) "
      ],
      "execution_count": null,
      "outputs": []
    },
    {
      "cell_type": "markdown",
      "metadata": {
        "id": "fD0wxKqIRI-Y"
      },
      "source": [
        "### Series"
      ]
    },
    {
      "cell_type": "code",
      "metadata": {
        "id": "kWBSKUdzRIVz"
      },
      "source": [
        "mylist = [1, 7, 2]\n",
        "myseries = pd.Series(mylist)\n",
        "print(myseries)"
      ],
      "execution_count": null,
      "outputs": []
    },
    {
      "cell_type": "code",
      "metadata": {
        "id": "3djuFlU0Thgs"
      },
      "source": [
        "type(myseries)"
      ],
      "execution_count": null,
      "outputs": []
    },
    {
      "cell_type": "markdown",
      "metadata": {
        "id": "WeKnZtawT5k-"
      },
      "source": [
        "##### Default index"
      ]
    },
    {
      "cell_type": "code",
      "metadata": {
        "id": "QFo4sKMaUHjA"
      },
      "source": [
        "print(myseries)"
      ],
      "execution_count": null,
      "outputs": []
    },
    {
      "cell_type": "code",
      "metadata": {
        "id": "4gsSUTIeUR4_"
      },
      "source": [
        "# access items in a series\n",
        "print(myseries[0])\n",
        "print(myseries[1])\n",
        "print(myseries[2])"
      ],
      "execution_count": null,
      "outputs": []
    },
    {
      "cell_type": "markdown",
      "metadata": {
        "id": "_urepQakULe-"
      },
      "source": [
        "##### Labelled Index"
      ]
    },
    {
      "cell_type": "code",
      "metadata": {
        "id": "RGadwjVvUOa7"
      },
      "source": [
        "mylist = [1, 7, 2]\n",
        "myseries =  pd.Series(mylist, index = [\"x\", \"y\", \"z\"])\n",
        "print(myseries)"
      ],
      "execution_count": null,
      "outputs": []
    },
    {
      "cell_type": "code",
      "metadata": {
        "id": "x4P8AHLsU0Tu"
      },
      "source": [
        "# access items in a series\n",
        "print(myseries[\"x\"])\n",
        "print(myseries[\"y\"])\n",
        "print(myseries[\"z\"])"
      ],
      "execution_count": null,
      "outputs": []
    },
    {
      "cell_type": "code",
      "metadata": {
        "id": "ew97RXDrU65J"
      },
      "source": [
        "# access items in a series\n",
        "print(myseries[0])\n",
        "print(myseries[1])\n",
        "print(myseries[2])"
      ],
      "execution_count": null,
      "outputs": []
    },
    {
      "cell_type": "markdown",
      "metadata": {
        "id": "VINtUutMVHEZ"
      },
      "source": [
        "##### Create series using Dict"
      ]
    },
    {
      "cell_type": "code",
      "metadata": {
        "colab": {
          "base_uri": "https://localhost:8080/"
        },
        "id": "kM4CH96cVMK2",
        "outputId": "26915937-0e48-4e8e-dd61-41d6f521f4ff"
      },
      "source": [
        "# Dict showing daywise calories\n",
        "\n",
        "mydict = {\"day1\": 420, \"day2\": 380, \"day3\": 390}\n",
        "myseries =  pd.Series(mydict)\n",
        "print(myseries)"
      ],
      "execution_count": 24,
      "outputs": [
        {
          "output_type": "stream",
          "name": "stdout",
          "text": [
            "day1    420\n",
            "day2    380\n",
            "day3    390\n",
            "dtype: int64\n"
          ]
        }
      ]
    },
    {
      "cell_type": "code",
      "metadata": {
        "id": "aUKVWcCyt0U2",
        "outputId": "3b6b95d7-f54d-4ea3-9a01-864a4cd4d44b",
        "colab": {
          "base_uri": "https://localhost:8080/"
        }
      },
      "source": [
        "myseries[\"day1\":\"day2\"]"
      ],
      "execution_count": 29,
      "outputs": [
        {
          "output_type": "execute_result",
          "data": {
            "text/plain": [
              "day1    420\n",
              "day2    380\n",
              "dtype: int64"
            ]
          },
          "metadata": {},
          "execution_count": 29
        }
      ]
    },
    {
      "cell_type": "code",
      "metadata": {
        "id": "rFglfHuauUnx",
        "outputId": "81d24a45-daf6-4e5f-a61a-0005889ec7bc",
        "colab": {
          "base_uri": "https://localhost:8080/"
        }
      },
      "source": [
        "myseries[\"day1\":\"day3\"]"
      ],
      "execution_count": 30,
      "outputs": [
        {
          "output_type": "execute_result",
          "data": {
            "text/plain": [
              "day1    420\n",
              "day2    380\n",
              "day3    390\n",
              "dtype: int64"
            ]
          },
          "metadata": {},
          "execution_count": 30
        }
      ]
    },
    {
      "cell_type": "code",
      "metadata": {
        "id": "H9Hf82saV7Au"
      },
      "source": [
        "# access items in a series\n",
        "print(myseries[\"day1\"])\n",
        "print(myseries[\"day2\"])\n",
        "print(myseries[\"day3\"])"
      ],
      "execution_count": null,
      "outputs": []
    },
    {
      "cell_type": "code",
      "metadata": {
        "id": "Qbya2v-8WAYH"
      },
      "source": [
        "# access items in a series\n",
        "print(myseries[0])\n",
        "print(myseries[1])\n",
        "print(myseries[2])"
      ],
      "execution_count": null,
      "outputs": []
    },
    {
      "cell_type": "code",
      "metadata": {
        "id": "tXa6F0uiWJn4"
      },
      "source": [
        "# create series using only day 1 and day 2 calories data\n",
        "\n",
        "newseries =  pd.Series(mydict,[\"day1\",\"day2\"])\n",
        "print(newseries)"
      ],
      "execution_count": null,
      "outputs": []
    },
    {
      "cell_type": "markdown",
      "metadata": {
        "id": "Ky7gW-DTWpBI"
      },
      "source": [
        "### DataFrame"
      ]
    },
    {
      "cell_type": "markdown",
      "metadata": {
        "id": "DuIvuv5PWvdO"
      },
      "source": [
        "##### Create dataframe"
      ]
    },
    {
      "cell_type": "code",
      "metadata": {
        "id": "yVic8ocTWr_k"
      },
      "source": [
        "# create a column(in this example we use list) called calories\n",
        "\n",
        "calories = [420, 380, 390]\n",
        "print(calories)\n",
        "print(type(calories))"
      ],
      "execution_count": null,
      "outputs": []
    },
    {
      "cell_type": "code",
      "metadata": {
        "id": "g5uhhvLMXRwt"
      },
      "source": [
        "# create a column(in this example we use list) called duration\n",
        "\n",
        "duration = [50, 40, 45]\n",
        "print(duration)\n",
        "print(type(duration))\n"
      ],
      "execution_count": null,
      "outputs": []
    },
    {
      "cell_type": "code",
      "metadata": {
        "id": "2b5GrsQ7XjYu"
      },
      "source": [
        "# create data for dataframe using the columns (list) calories and duration\n",
        "\n",
        "mydata = {\"calories\":calories, \"duration\":duration} \n",
        "print(mydata)\n",
        "print(type(mydata))"
      ],
      "execution_count": null,
      "outputs": []
    },
    {
      "cell_type": "code",
      "metadata": {
        "id": "GNJMrR5RYEUs"
      },
      "source": [
        "# create dataframe\n",
        "mydataframe = pd.DataFrame(mydata)\n",
        "print(mydataframe)\n",
        "print(type(mydataframe))"
      ],
      "execution_count": null,
      "outputs": []
    },
    {
      "cell_type": "markdown",
      "metadata": {
        "id": "WddwDagiGX52"
      },
      "source": [
        "#### Get headers"
      ]
    },
    {
      "cell_type": "code",
      "metadata": {
        "id": "USgGF2m9GZyO"
      },
      "source": [
        "mydataframe.columns"
      ],
      "execution_count": null,
      "outputs": []
    },
    {
      "cell_type": "markdown",
      "metadata": {
        "id": "Xf7nwwq1Yw0w"
      },
      "source": [
        "#### Get a row/rows from a dataframe"
      ]
    },
    {
      "cell_type": "code",
      "metadata": {
        "id": "O1yo6JJWY0ot"
      },
      "source": [
        "# get first row from dataframe\n",
        "mydataframe.loc[0]"
      ],
      "execution_count": null,
      "outputs": []
    },
    {
      "cell_type": "code",
      "metadata": {
        "id": "8b_U82VRZEBE"
      },
      "source": [
        "# data type of a row in a dataframe\n",
        "type(mydataframe.loc[0])"
      ],
      "execution_count": null,
      "outputs": []
    },
    {
      "cell_type": "code",
      "metadata": {
        "id": "u5ttsp97ZS1E"
      },
      "source": [
        "#get last row in a dataframe\n",
        "length=len(mydataframe)\n",
        "mydataframe.loc[length-1]\n"
      ],
      "execution_count": null,
      "outputs": []
    },
    {
      "cell_type": "code",
      "metadata": {
        "id": "29yuVeSkZpHE"
      },
      "source": [
        "# get multiple rows from a dataframe - Filtering\n",
        "\n",
        "mydataframe.loc[[0,1]]"
      ],
      "execution_count": null,
      "outputs": []
    },
    {
      "cell_type": "markdown",
      "metadata": {
        "id": "EwOTmRjFHD1c"
      },
      "source": [
        "#### Get Column of a dataframe"
      ]
    },
    {
      "cell_type": "code",
      "metadata": {
        "id": "QKj4p_jBHKtW"
      },
      "source": [
        "mydataframe[\"calories\"]"
      ],
      "execution_count": null,
      "outputs": []
    },
    {
      "cell_type": "code",
      "metadata": {
        "id": "RFTd504zHReU"
      },
      "source": [
        "mydataframe.calories"
      ],
      "execution_count": null,
      "outputs": []
    },
    {
      "cell_type": "markdown",
      "metadata": {
        "id": "TmJ3NaICaADD"
      },
      "source": [
        "#### Index of a dataframe"
      ]
    },
    {
      "cell_type": "code",
      "metadata": {
        "id": "MGg7r7o1aJ2d"
      },
      "source": [
        "# Default Index\n",
        "mydataframe"
      ],
      "execution_count": null,
      "outputs": []
    },
    {
      "cell_type": "code",
      "metadata": {
        "id": "cYNUE_BYaUc-"
      },
      "source": [
        "# Named index\n",
        "namedindexdf = pd.DataFrame(mydata,[\"day1\",\"day2\",\"day3\"])\n",
        "print(namedindexdf)"
      ],
      "execution_count": null,
      "outputs": []
    },
    {
      "cell_type": "code",
      "metadata": {
        "id": "dLtyCs1ibGQ3"
      },
      "source": [
        "# Locate using named index\n",
        "namedindexdf.loc[\"day1\"]"
      ],
      "execution_count": null,
      "outputs": []
    },
    {
      "cell_type": "code",
      "metadata": {
        "id": "LkzDw7-BbNwF"
      },
      "source": [
        "# filter rows\n",
        "namedindexdf.loc[[\"day1\",\"day2\"]]"
      ],
      "execution_count": null,
      "outputs": []
    },
    {
      "cell_type": "markdown",
      "metadata": {
        "id": "i4mzObdMcQGe"
      },
      "source": [
        "### CSV"
      ]
    },
    {
      "cell_type": "markdown",
      "metadata": {
        "id": "742XUTDFdOpA"
      },
      "source": [
        "##### Create a csv file"
      ]
    },
    {
      "cell_type": "code",
      "metadata": {
        "id": "uSkTQzVWcR2J"
      },
      "source": [
        "import csv\n",
        "\n",
        "header = ['name', 'area', 'country_code2', 'country_code3']\n",
        "data = [\n",
        "    ['Albania', 28748, 'AL', 'ALB'],\n",
        "    ['Algeria', 2381741, 'DZ', 'DZA'],\n",
        "    ['American Samoa', 199, 'AS', 'ASM'],\n",
        "    ['Andorra', 468, 'AD', 'AND'],\n",
        "    ['Angola', 1246700, 'AO', 'AGO'],\n",
        "    ['Anguilla',102, 'AI','AIA']\n",
        "]\n",
        "\n",
        "with open('countries.csv', 'w', encoding='UTF8', newline='') as f:\n",
        "    writer = csv.writer(f)\n",
        "\n",
        "    # write the header\n",
        "    writer.writerow(header)\n",
        "\n",
        "    # write multiple rows\n",
        "    writer.writerows(data)\n",
        "f.close()"
      ],
      "execution_count": null,
      "outputs": []
    },
    {
      "cell_type": "markdown",
      "metadata": {
        "id": "kIMxScWmdSph"
      },
      "source": [
        "### Load data from a file into a dataframe"
      ]
    },
    {
      "cell_type": "code",
      "metadata": {
        "id": "e3JoJWOmdiWg"
      },
      "source": [
        "# Load a csv file\n",
        "df = pd.read_csv('countries.csv')"
      ],
      "execution_count": null,
      "outputs": []
    },
    {
      "cell_type": "code",
      "metadata": {
        "id": "EKqwaLBjfEBK"
      },
      "source": [
        "# print the dataframe\n",
        "print(df)"
      ],
      "execution_count": null,
      "outputs": []
    },
    {
      "cell_type": "markdown",
      "metadata": {
        "id": "ajHtjxF9fvG_"
      },
      "source": [
        "To print entire dataframe use print(df.tostring())"
      ]
    },
    {
      "cell_type": "markdown",
      "metadata": {
        "id": "j6Rrx193gHBr"
      },
      "source": [
        "### JSON"
      ]
    },
    {
      "cell_type": "code",
      "metadata": {
        "id": "niu5eA-alHTL"
      },
      "source": [
        "# create json data from existing data\n",
        "datajson = {}\n",
        "headerlength = len(header)\n",
        "datacount = len(data)\n",
        "for k in range(headerlength):\n",
        "  datajson[header[k]] = {}\n",
        "\n",
        "for i in range(datacount):\n",
        "  for j in range(headerlength):   \n",
        "      datajson[header[j]][i] = data[i][j]\n",
        "  \n",
        "print(datajson)"
      ],
      "execution_count": null,
      "outputs": []
    },
    {
      "cell_type": "code",
      "metadata": {
        "id": "u9cXjQZ1qg_G"
      },
      "source": [
        "import json\n",
        "# write json data to file\n",
        "with open('data.json', 'w') as outfile:\n",
        "    json.dump(datajson, outfile)"
      ],
      "execution_count": null,
      "outputs": []
    },
    {
      "cell_type": "code",
      "metadata": {
        "id": "EM9as2z4mwvg"
      },
      "source": [
        "# Load country data into dataframe\n",
        "jsondf =  pd.DataFrame(datajson)\n",
        "jsondf"
      ],
      "execution_count": null,
      "outputs": []
    },
    {
      "cell_type": "code",
      "metadata": {
        "id": "aH6ONo54rHHV"
      },
      "source": [
        "# load json data from file\n",
        "df = pd.read_json('data.json')\n",
        "print(df) "
      ],
      "execution_count": null,
      "outputs": []
    },
    {
      "cell_type": "markdown",
      "metadata": {
        "id": "F9yWexiZtJZK"
      },
      "source": [
        "### CSV from Google drive"
      ]
    },
    {
      "cell_type": "markdown",
      "metadata": {
        "id": "N0dOH4kntO0x"
      },
      "source": [
        "##### Mount google drive"
      ]
    },
    {
      "cell_type": "code",
      "metadata": {
        "colab": {
          "base_uri": "https://localhost:8080/"
        },
        "id": "bl10s3aTtSsk",
        "outputId": "c5562b9b-4552-4e64-95c8-f66e8f188f79"
      },
      "source": [
        "from google.colab import drive\n",
        "drive.mount('/content/drive')"
      ],
      "execution_count": 4,
      "outputs": [
        {
          "output_type": "stream",
          "name": "stdout",
          "text": [
            "Mounted at /content/drive\n"
          ]
        }
      ]
    },
    {
      "cell_type": "markdown",
      "metadata": {
        "id": "kUl9O70ss0Qc"
      },
      "source": [
        "##### Import csv file from google drive and create dataframe"
      ]
    },
    {
      "cell_type": "code",
      "metadata": {
        "id": "WLOlv5MBrJt-"
      },
      "source": [
        "iris_df = pd.read_csv('/content/drive/MyDrive/colabs_data/Iris.csv')\n",
        "iris_df"
      ],
      "execution_count": null,
      "outputs": []
    },
    {
      "cell_type": "markdown",
      "metadata": {
        "id": "JuvCT-ZptqVV"
      },
      "source": [
        "#### head()"
      ]
    },
    {
      "cell_type": "code",
      "metadata": {
        "id": "omNsGDBMtsTj"
      },
      "source": [
        "iris_df.head()"
      ],
      "execution_count": null,
      "outputs": []
    },
    {
      "cell_type": "code",
      "metadata": {
        "id": "Ay4_uOeatws9"
      },
      "source": [
        "iris_df.head(10)"
      ],
      "execution_count": null,
      "outputs": []
    },
    {
      "cell_type": "markdown",
      "metadata": {
        "id": "jwx0WY8St2MO"
      },
      "source": [
        "#### tail()"
      ]
    },
    {
      "cell_type": "code",
      "metadata": {
        "id": "azPTqAgst4-Q"
      },
      "source": [
        "iris_df.tail()"
      ],
      "execution_count": null,
      "outputs": []
    },
    {
      "cell_type": "code",
      "metadata": {
        "id": "HyxOzl0xt964"
      },
      "source": [
        "iris_df.tail(10)"
      ],
      "execution_count": null,
      "outputs": []
    },
    {
      "cell_type": "markdown",
      "metadata": {
        "id": "6Sb-pHOzuSCM"
      },
      "source": [
        "#### Get info about the dataframe"
      ]
    },
    {
      "cell_type": "code",
      "metadata": {
        "id": "F50qnC5cuVmn"
      },
      "source": [
        "iris_df.info()"
      ],
      "execution_count": null,
      "outputs": []
    },
    {
      "cell_type": "code",
      "metadata": {
        "id": "9KjrFNzs3pcT"
      },
      "source": [
        "iris_df.describe()"
      ],
      "execution_count": null,
      "outputs": []
    },
    {
      "cell_type": "markdown",
      "metadata": {
        "id": "O5iBzlKP6ikz"
      },
      "source": [
        "#### copy()"
      ]
    },
    {
      "cell_type": "code",
      "metadata": {
        "id": "cYy3EK3h6k93"
      },
      "source": [
        "copy_demo_df = iris_df.copy()"
      ],
      "execution_count": null,
      "outputs": []
    },
    {
      "cell_type": "markdown",
      "metadata": {
        "id": "0OiiOkSG7u-Z"
      },
      "source": [
        "#### drop()"
      ]
    },
    {
      "cell_type": "code",
      "metadata": {
        "id": "-6ePH0126ty4"
      },
      "source": [
        "copy_demo_df.drop(\"Id\", axis=1)"
      ],
      "execution_count": null,
      "outputs": []
    },
    {
      "cell_type": "code",
      "metadata": {
        "id": "SSicvMcp7pUF"
      },
      "source": [
        "copy_demo_df"
      ],
      "execution_count": null,
      "outputs": []
    },
    {
      "cell_type": "markdown",
      "metadata": {
        "id": "eiVzWoVhDytf"
      },
      "source": [
        "#### filter"
      ]
    },
    {
      "cell_type": "markdown",
      "metadata": {
        "id": "IxktP2UFIUpN"
      },
      "source": [
        "##### filter by rows"
      ]
    },
    {
      "cell_type": "code",
      "metadata": {
        "id": "PR0DmW7aIBs9"
      },
      "source": [
        "iris_df.loc[[0,2]]"
      ],
      "execution_count": null,
      "outputs": []
    },
    {
      "cell_type": "code",
      "metadata": {
        "id": "qz2dzBPZIZa_"
      },
      "source": [
        "iris_df.loc[2:5]"
      ],
      "execution_count": null,
      "outputs": []
    },
    {
      "cell_type": "code",
      "metadata": {
        "id": "FlbSkSa6IpKu"
      },
      "source": [
        "twotofive_df = iris_df.loc[2:5]\n",
        "eigthttoten_df = iris_df.loc[8:10]\n",
        "\n",
        "concat_df_list = [twotofive_df, eigthttoten_df]\n",
        "pd.concat(concat_df_list)"
      ],
      "execution_count": null,
      "outputs": []
    },
    {
      "cell_type": "code",
      "metadata": {
        "id": "fCvYZygxD5F3"
      },
      "source": [
        "iris_df[iris_df.Species == \"Iris-setosa\"]"
      ],
      "execution_count": null,
      "outputs": []
    },
    {
      "cell_type": "code",
      "metadata": {
        "id": "d5CoEuyLESwk"
      },
      "source": [
        "# AND\n",
        "iris_df[(iris_df.Species == \"Iris-setosa\") & (iris_df.Id<10)]"
      ],
      "execution_count": null,
      "outputs": []
    },
    {
      "cell_type": "code",
      "metadata": {
        "id": "u7uKnY3cE4Qc"
      },
      "source": [
        "# OR\n",
        "iris_df[(iris_df.Id>140) | (iris_df.Id<10)]"
      ],
      "execution_count": null,
      "outputs": []
    },
    {
      "cell_type": "markdown",
      "metadata": {
        "id": "McqNNWJm_AnQ"
      },
      "source": [
        "#### Display all items in a dataframe"
      ]
    },
    {
      "cell_type": "code",
      "metadata": {
        "id": "u9vG3FB7Acfb"
      },
      "source": [
        "pd.get_option('display.max_rows')"
      ],
      "execution_count": null,
      "outputs": []
    },
    {
      "cell_type": "code",
      "metadata": {
        "id": "VoUdBlbU_P93"
      },
      "source": [
        "pd.set_option('display.max_rows',None)"
      ],
      "execution_count": null,
      "outputs": []
    },
    {
      "cell_type": "code",
      "metadata": {
        "id": "Y6lJ8oFW_Wce"
      },
      "source": [
        "print(iris_df)"
      ],
      "execution_count": null,
      "outputs": []
    },
    {
      "cell_type": "code",
      "metadata": {
        "id": "0BrwlsUh_GvB"
      },
      "source": [
        "pd.set_option('display.max_rows', 60)\n",
        "print(iris_df)"
      ],
      "execution_count": null,
      "outputs": []
    },
    {
      "cell_type": "code",
      "metadata": {
        "id": "zPvwcvORAGV0"
      },
      "source": [
        "pd.set_option('display.max_rows',iris_df.shape[0]+1)"
      ],
      "execution_count": null,
      "outputs": []
    },
    {
      "cell_type": "code",
      "metadata": {
        "id": "E8yJEOmjAPlZ"
      },
      "source": [
        "print(iris_df)"
      ],
      "execution_count": null,
      "outputs": []
    },
    {
      "cell_type": "code",
      "metadata": {
        "id": "5sF5Ow90AS-Y"
      },
      "source": [
        "pd.set_option('display.max_rows', 60)\n",
        "print(iris_df)"
      ],
      "execution_count": null,
      "outputs": []
    },
    {
      "cell_type": "markdown",
      "metadata": {
        "id": "I77wWE4Z4Lek"
      },
      "source": [
        "### Handling missing data"
      ]
    },
    {
      "cell_type": "code",
      "metadata": {
        "id": "PkeKq0sR4U7l"
      },
      "source": [
        "titanic_df = pd.read_csv('/content/drive/MyDrive/colabs_data/titanic/train.csv')\n",
        "print(titanic_df)"
      ],
      "execution_count": null,
      "outputs": []
    },
    {
      "cell_type": "code",
      "metadata": {
        "id": "EKEr_djZ4YF6"
      },
      "source": [
        "titanic_df.info()"
      ],
      "execution_count": null,
      "outputs": []
    },
    {
      "cell_type": "markdown",
      "metadata": {
        "id": "rVpAeS5H4p4O"
      },
      "source": [
        "#### fillna()"
      ]
    },
    {
      "cell_type": "code",
      "metadata": {
        "id": "bpuf3tXE6dF5"
      },
      "source": [
        "# create a copy for verfication\n",
        "titanic_df_fillna = titanic_df.copy()"
      ],
      "execution_count": 7,
      "outputs": []
    },
    {
      "cell_type": "code",
      "metadata": {
        "id": "-bYCpRZ14nzX",
        "outputId": "af20ce30-932c-479c-d962-d7912df6d08a",
        "colab": {
          "base_uri": "https://localhost:8080/"
        }
      },
      "source": [
        "# total count\n",
        "len(titanic_df)"
      ],
      "execution_count": 8,
      "outputs": [
        {
          "output_type": "execute_result",
          "data": {
            "text/plain": [
              "891"
            ]
          },
          "metadata": {},
          "execution_count": 8
        }
      ]
    },
    {
      "cell_type": "code",
      "metadata": {
        "id": "jKJBtDCc5hXv",
        "outputId": "35309743-c8e8-43a5-96a1-a0bb3c913a51",
        "colab": {
          "base_uri": "https://localhost:8080/"
        }
      },
      "source": [
        "# count of missing cabin values\n",
        "titanic_df[\"Cabin\"].isnull().sum()"
      ],
      "execution_count": 9,
      "outputs": [
        {
          "output_type": "execute_result",
          "data": {
            "text/plain": [
              "687"
            ]
          },
          "metadata": {},
          "execution_count": 9
        }
      ]
    },
    {
      "cell_type": "code",
      "metadata": {
        "id": "5RMurviW8oXK",
        "outputId": "d9414b4e-2d5d-47e6-cca6-aeac30a860d2",
        "colab": {
          "base_uri": "https://localhost:8080/"
        }
      },
      "source": [
        "titanic_df[\"Cabin\"]"
      ],
      "execution_count": 10,
      "outputs": [
        {
          "output_type": "execute_result",
          "data": {
            "text/plain": [
              "0       NaN\n",
              "1       C85\n",
              "2       NaN\n",
              "3      C123\n",
              "4       NaN\n",
              "       ... \n",
              "886     NaN\n",
              "887     B42\n",
              "888     NaN\n",
              "889    C148\n",
              "890     NaN\n",
              "Name: Cabin, Length: 891, dtype: object"
            ]
          },
          "metadata": {},
          "execution_count": 10
        }
      ]
    },
    {
      "cell_type": "code",
      "metadata": {
        "id": "RX3Ulagd6AYP"
      },
      "source": [
        "#fillna\n",
        "titanic_df_fillna[\"Cabin\"] = titanic_df_fillna[\"Cabin\"].fillna(\"U0\")"
      ],
      "execution_count": 11,
      "outputs": []
    },
    {
      "cell_type": "code",
      "metadata": {
        "id": "-nVMfNGu88Cq",
        "outputId": "17728a6d-b374-4e7d-9e89-a714618beaad",
        "colab": {
          "base_uri": "https://localhost:8080/"
        }
      },
      "source": [
        "titanic_df[\"Cabin\"]"
      ],
      "execution_count": 12,
      "outputs": [
        {
          "output_type": "execute_result",
          "data": {
            "text/plain": [
              "0       NaN\n",
              "1       C85\n",
              "2       NaN\n",
              "3      C123\n",
              "4       NaN\n",
              "       ... \n",
              "886     NaN\n",
              "887     B42\n",
              "888     NaN\n",
              "889    C148\n",
              "890     NaN\n",
              "Name: Cabin, Length: 891, dtype: object"
            ]
          },
          "metadata": {},
          "execution_count": 12
        }
      ]
    },
    {
      "cell_type": "code",
      "metadata": {
        "id": "RwTEwdvf84yi",
        "outputId": "7b4a7440-fa74-4232-a296-cc068140e886",
        "colab": {
          "base_uri": "https://localhost:8080/"
        }
      },
      "source": [
        "titanic_df_fillna[\"Cabin\"]"
      ],
      "execution_count": 13,
      "outputs": [
        {
          "output_type": "execute_result",
          "data": {
            "text/plain": [
              "0        U0\n",
              "1       C85\n",
              "2        U0\n",
              "3      C123\n",
              "4        U0\n",
              "       ... \n",
              "886      U0\n",
              "887     B42\n",
              "888      U0\n",
              "889    C148\n",
              "890      U0\n",
              "Name: Cabin, Length: 891, dtype: object"
            ]
          },
          "metadata": {},
          "execution_count": 13
        }
      ]
    },
    {
      "cell_type": "code",
      "metadata": {
        "id": "h4yax54T6JYt",
        "outputId": "575c27be-6a26-42fe-bfc2-5a030f968644",
        "colab": {
          "base_uri": "https://localhost:8080/"
        }
      },
      "source": [
        "titanic_df[\"Cabin\"].isnull().sum()"
      ],
      "execution_count": 14,
      "outputs": [
        {
          "output_type": "execute_result",
          "data": {
            "text/plain": [
              "687"
            ]
          },
          "metadata": {},
          "execution_count": 14
        }
      ]
    },
    {
      "cell_type": "code",
      "metadata": {
        "id": "F9bqknZF8SqR",
        "outputId": "7fb0dcb4-1ed5-4e4a-e60b-c3b4f55d23e6",
        "colab": {
          "base_uri": "https://localhost:8080/"
        }
      },
      "source": [
        "titanic_df_fillna[\"Cabin\"].isnull().sum()"
      ],
      "execution_count": 15,
      "outputs": [
        {
          "output_type": "execute_result",
          "data": {
            "text/plain": [
              "0"
            ]
          },
          "metadata": {},
          "execution_count": 15
        }
      ]
    },
    {
      "cell_type": "markdown",
      "metadata": {
        "id": "DyNl_sYtBvJ6"
      },
      "source": [
        "##### Handling multiple fillna"
      ]
    },
    {
      "cell_type": "code",
      "metadata": {
        "id": "xLQmzxwJ9trV"
      },
      "source": [
        "titanic_df_fillna2 = titanic_df.copy()"
      ],
      "execution_count": 16,
      "outputs": []
    },
    {
      "cell_type": "code",
      "metadata": {
        "id": "fuppeSNj97Ry"
      },
      "source": [
        "titanic_df_fillna2.info()"
      ],
      "execution_count": null,
      "outputs": []
    },
    {
      "cell_type": "code",
      "metadata": {
        "id": "UKV5zcNiB4Fq",
        "outputId": "0a181162-67f1-4488-e7cb-2c0c7c1f46fa",
        "colab": {
          "base_uri": "https://localhost:8080/"
        }
      },
      "source": [
        "titanic_df_fillna2[\"Cabin\"]"
      ],
      "execution_count": 21,
      "outputs": [
        {
          "output_type": "execute_result",
          "data": {
            "text/plain": [
              "0       NaN\n",
              "1       C85\n",
              "2       NaN\n",
              "3      C123\n",
              "4       NaN\n",
              "       ... \n",
              "886     NaN\n",
              "887     B42\n",
              "888     NaN\n",
              "889    C148\n",
              "890     NaN\n",
              "Name: Cabin, Length: 891, dtype: object"
            ]
          },
          "metadata": {},
          "execution_count": 21
        }
      ]
    },
    {
      "cell_type": "code",
      "metadata": {
        "id": "_5xjY49TB8_r",
        "outputId": "496ec8b5-47e5-4534-81c4-cd6323616098",
        "colab": {
          "base_uri": "https://localhost:8080/"
        }
      },
      "source": [
        "titanic_df_fillna2[\"Age\"]"
      ],
      "execution_count": 23,
      "outputs": [
        {
          "output_type": "execute_result",
          "data": {
            "text/plain": [
              "0      22.0\n",
              "1      38.0\n",
              "2      26.0\n",
              "3      35.0\n",
              "4      35.0\n",
              "       ... \n",
              "886    27.0\n",
              "887    19.0\n",
              "888     NaN\n",
              "889    26.0\n",
              "890    32.0\n",
              "Name: Age, Length: 891, dtype: float64"
            ]
          },
          "metadata": {},
          "execution_count": 23
        }
      ]
    },
    {
      "cell_type": "code",
      "metadata": {
        "id": "HV-OmiDsrb69"
      },
      "source": [
        "titanic_df_fillna2.fillna({\"Cabin\":\"U0\",\"Age\":\"18\"})"
      ],
      "execution_count": null,
      "outputs": []
    }
  ]
}