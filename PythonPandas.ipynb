{
  "nbformat": 4,
  "nbformat_minor": 0,
  "metadata": {
    "colab": {
      "name": "PythonPandas.ipynb",
      "provenance": [],
      "authorship_tag": "ABX9TyMX8A+wQ4QbNqGMDAvyOsdy",
      "include_colab_link": true
    },
    "kernelspec": {
      "name": "python3",
      "display_name": "Python 3"
    },
    "language_info": {
      "name": "python"
    }
  },
  "cells": [
    {
      "cell_type": "markdown",
      "metadata": {
        "id": "view-in-github",
        "colab_type": "text"
      },
      "source": [
        "<a href=\"https://colab.research.google.com/github/techakilan/python-datascience-training/blob/master/PythonPandas.ipynb\" target=\"_parent\"><img src=\"https://colab.research.google.com/assets/colab-badge.svg\" alt=\"Open In Colab\"/></a>"
      ]
    },
    {
      "cell_type": "code",
      "metadata": {
        "id": "ti43RnruQlnr"
      },
      "source": [
        "import pandas as pd"
      ],
      "execution_count": 1,
      "outputs": []
    },
    {
      "cell_type": "markdown",
      "metadata": {
        "id": "DElMvFB2Q8iz"
      },
      "source": [
        "##### Get Version"
      ]
    },
    {
      "cell_type": "code",
      "metadata": {
        "colab": {
          "base_uri": "https://localhost:8080/"
        },
        "id": "eWiL-Ui4Q_UV",
        "outputId": "80787b23-436e-4843-94bd-6857c36b9461"
      },
      "source": [
        "\n",
        "print(pd.__version__) "
      ],
      "execution_count": 2,
      "outputs": [
        {
          "output_type": "stream",
          "name": "stdout",
          "text": [
            "1.1.5\n"
          ]
        }
      ]
    },
    {
      "cell_type": "markdown",
      "metadata": {
        "id": "fD0wxKqIRI-Y"
      },
      "source": [
        "### Series"
      ]
    },
    {
      "cell_type": "code",
      "metadata": {
        "colab": {
          "base_uri": "https://localhost:8080/"
        },
        "id": "kWBSKUdzRIVz",
        "outputId": "fe046b72-f746-4769-bcdf-f8dbbb83652a"
      },
      "source": [
        "mylist = [1, 7, 2]\n",
        "myseries = pd.Series(mylist)\n",
        "print(myseries)"
      ],
      "execution_count": 5,
      "outputs": [
        {
          "output_type": "stream",
          "name": "stdout",
          "text": [
            "0    1\n",
            "1    7\n",
            "2    2\n",
            "dtype: int64\n"
          ]
        }
      ]
    },
    {
      "cell_type": "code",
      "metadata": {
        "colab": {
          "base_uri": "https://localhost:8080/"
        },
        "id": "3djuFlU0Thgs",
        "outputId": "eb27015a-281d-462f-e83e-fcd0a78fa54e"
      },
      "source": [
        "type(myseries)"
      ],
      "execution_count": 6,
      "outputs": [
        {
          "output_type": "execute_result",
          "data": {
            "text/plain": [
              "pandas.core.series.Series"
            ]
          },
          "metadata": {},
          "execution_count": 6
        }
      ]
    },
    {
      "cell_type": "markdown",
      "metadata": {
        "id": "WeKnZtawT5k-"
      },
      "source": [
        "##### Default index"
      ]
    },
    {
      "cell_type": "code",
      "metadata": {
        "colab": {
          "base_uri": "https://localhost:8080/"
        },
        "id": "QFo4sKMaUHjA",
        "outputId": "6fd1642f-e731-479a-e0b1-6b66d8b5f028"
      },
      "source": [
        "print(myseries)"
      ],
      "execution_count": 7,
      "outputs": [
        {
          "output_type": "stream",
          "name": "stdout",
          "text": [
            "0    1\n",
            "1    7\n",
            "2    2\n",
            "dtype: int64\n"
          ]
        }
      ]
    },
    {
      "cell_type": "code",
      "metadata": {
        "colab": {
          "base_uri": "https://localhost:8080/"
        },
        "id": "4gsSUTIeUR4_",
        "outputId": "a42462b1-5af4-4d9f-cf71-e6b80df69455"
      },
      "source": [
        "# access items in a series\n",
        "print(myseries[0])\n",
        "print(myseries[1])\n",
        "print(myseries[2])"
      ],
      "execution_count": 8,
      "outputs": [
        {
          "output_type": "stream",
          "name": "stdout",
          "text": [
            "1\n",
            "7\n",
            "2\n"
          ]
        }
      ]
    },
    {
      "cell_type": "markdown",
      "metadata": {
        "id": "_urepQakULe-"
      },
      "source": [
        "##### Labelled Index"
      ]
    },
    {
      "cell_type": "code",
      "metadata": {
        "colab": {
          "base_uri": "https://localhost:8080/"
        },
        "id": "RGadwjVvUOa7",
        "outputId": "bb96c961-48e4-4174-f5a5-7c4f7d1d3ef6"
      },
      "source": [
        "mylist = [1, 7, 2]\n",
        "myseries =  pd.Series(mylist, index = [\"x\", \"y\", \"z\"])\n",
        "print(myseries)"
      ],
      "execution_count": 9,
      "outputs": [
        {
          "output_type": "stream",
          "name": "stdout",
          "text": [
            "x    1\n",
            "y    7\n",
            "z    2\n",
            "dtype: int64\n"
          ]
        }
      ]
    },
    {
      "cell_type": "code",
      "metadata": {
        "colab": {
          "base_uri": "https://localhost:8080/"
        },
        "id": "x4P8AHLsU0Tu",
        "outputId": "f147fbbf-3766-428b-a568-8ab0a46d0a36"
      },
      "source": [
        "# access items in a series\n",
        "print(myseries[\"x\"])\n",
        "print(myseries[\"y\"])\n",
        "print(myseries[\"z\"])"
      ],
      "execution_count": 10,
      "outputs": [
        {
          "output_type": "stream",
          "name": "stdout",
          "text": [
            "1\n",
            "7\n",
            "2\n"
          ]
        }
      ]
    },
    {
      "cell_type": "code",
      "metadata": {
        "colab": {
          "base_uri": "https://localhost:8080/"
        },
        "id": "ew97RXDrU65J",
        "outputId": "fc67cdc3-a29e-4968-cee5-ce96faeada85"
      },
      "source": [
        "# access items in a series\n",
        "print(myseries[0])\n",
        "print(myseries[1])\n",
        "print(myseries[2])"
      ],
      "execution_count": 11,
      "outputs": [
        {
          "output_type": "stream",
          "name": "stdout",
          "text": [
            "1\n",
            "7\n",
            "2\n"
          ]
        }
      ]
    },
    {
      "cell_type": "markdown",
      "metadata": {
        "id": "VINtUutMVHEZ"
      },
      "source": [
        "##### Create series using Dict"
      ]
    },
    {
      "cell_type": "code",
      "metadata": {
        "id": "kM4CH96cVMK2"
      },
      "source": [
        ""
      ],
      "execution_count": null,
      "outputs": []
    }
  ]
}