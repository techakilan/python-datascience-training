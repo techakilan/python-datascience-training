{
  "nbformat": 4,
  "nbformat_minor": 0,
  "metadata": {
    "colab": {
      "name": "PythonPandas.ipynb",
      "provenance": [],
      "collapsed_sections": [],
      "authorship_tag": "ABX9TyNmFwo/nOTLqCjfnQiJRNpv",
      "include_colab_link": true
    },
    "kernelspec": {
      "name": "python3",
      "display_name": "Python 3"
    },
    "language_info": {
      "name": "python"
    }
  },
  "cells": [
    {
      "cell_type": "markdown",
      "metadata": {
        "id": "view-in-github",
        "colab_type": "text"
      },
      "source": [
        "<a href=\"https://colab.research.google.com/github/techakilan/python-datascience-training/blob/master/PythonPandas.ipynb\" target=\"_parent\"><img src=\"https://colab.research.google.com/assets/colab-badge.svg\" alt=\"Open In Colab\"/></a>"
      ]
    },
    {
      "cell_type": "code",
      "metadata": {
        "id": "ti43RnruQlnr"
      },
      "source": [
        "import pandas as pd"
      ],
      "execution_count": 1,
      "outputs": []
    },
    {
      "cell_type": "markdown",
      "metadata": {
        "id": "DElMvFB2Q8iz"
      },
      "source": [
        "##### Get Version"
      ]
    },
    {
      "cell_type": "code",
      "metadata": {
        "colab": {
          "base_uri": "https://localhost:8080/"
        },
        "id": "eWiL-Ui4Q_UV",
        "outputId": "80787b23-436e-4843-94bd-6857c36b9461"
      },
      "source": [
        "\n",
        "print(pd.__version__) "
      ],
      "execution_count": 2,
      "outputs": [
        {
          "output_type": "stream",
          "name": "stdout",
          "text": [
            "1.1.5\n"
          ]
        }
      ]
    },
    {
      "cell_type": "markdown",
      "metadata": {
        "id": "fD0wxKqIRI-Y"
      },
      "source": [
        "### Series"
      ]
    },
    {
      "cell_type": "code",
      "metadata": {
        "colab": {
          "base_uri": "https://localhost:8080/"
        },
        "id": "kWBSKUdzRIVz",
        "outputId": "fe046b72-f746-4769-bcdf-f8dbbb83652a"
      },
      "source": [
        "mylist = [1, 7, 2]\n",
        "myseries = pd.Series(mylist)\n",
        "print(myseries)"
      ],
      "execution_count": 5,
      "outputs": [
        {
          "output_type": "stream",
          "name": "stdout",
          "text": [
            "0    1\n",
            "1    7\n",
            "2    2\n",
            "dtype: int64\n"
          ]
        }
      ]
    },
    {
      "cell_type": "code",
      "metadata": {
        "colab": {
          "base_uri": "https://localhost:8080/"
        },
        "id": "3djuFlU0Thgs",
        "outputId": "eb27015a-281d-462f-e83e-fcd0a78fa54e"
      },
      "source": [
        "type(myseries)"
      ],
      "execution_count": 6,
      "outputs": [
        {
          "output_type": "execute_result",
          "data": {
            "text/plain": [
              "pandas.core.series.Series"
            ]
          },
          "metadata": {},
          "execution_count": 6
        }
      ]
    },
    {
      "cell_type": "markdown",
      "metadata": {
        "id": "WeKnZtawT5k-"
      },
      "source": [
        "##### Default index"
      ]
    },
    {
      "cell_type": "code",
      "metadata": {
        "colab": {
          "base_uri": "https://localhost:8080/"
        },
        "id": "QFo4sKMaUHjA",
        "outputId": "6fd1642f-e731-479a-e0b1-6b66d8b5f028"
      },
      "source": [
        "print(myseries)"
      ],
      "execution_count": 7,
      "outputs": [
        {
          "output_type": "stream",
          "name": "stdout",
          "text": [
            "0    1\n",
            "1    7\n",
            "2    2\n",
            "dtype: int64\n"
          ]
        }
      ]
    },
    {
      "cell_type": "code",
      "metadata": {
        "colab": {
          "base_uri": "https://localhost:8080/"
        },
        "id": "4gsSUTIeUR4_",
        "outputId": "a42462b1-5af4-4d9f-cf71-e6b80df69455"
      },
      "source": [
        "# access items in a series\n",
        "print(myseries[0])\n",
        "print(myseries[1])\n",
        "print(myseries[2])"
      ],
      "execution_count": 8,
      "outputs": [
        {
          "output_type": "stream",
          "name": "stdout",
          "text": [
            "1\n",
            "7\n",
            "2\n"
          ]
        }
      ]
    },
    {
      "cell_type": "markdown",
      "metadata": {
        "id": "_urepQakULe-"
      },
      "source": [
        "##### Labelled Index"
      ]
    },
    {
      "cell_type": "code",
      "metadata": {
        "colab": {
          "base_uri": "https://localhost:8080/"
        },
        "id": "RGadwjVvUOa7",
        "outputId": "bb96c961-48e4-4174-f5a5-7c4f7d1d3ef6"
      },
      "source": [
        "mylist = [1, 7, 2]\n",
        "myseries =  pd.Series(mylist, index = [\"x\", \"y\", \"z\"])\n",
        "print(myseries)"
      ],
      "execution_count": 9,
      "outputs": [
        {
          "output_type": "stream",
          "name": "stdout",
          "text": [
            "x    1\n",
            "y    7\n",
            "z    2\n",
            "dtype: int64\n"
          ]
        }
      ]
    },
    {
      "cell_type": "code",
      "metadata": {
        "colab": {
          "base_uri": "https://localhost:8080/"
        },
        "id": "x4P8AHLsU0Tu",
        "outputId": "f147fbbf-3766-428b-a568-8ab0a46d0a36"
      },
      "source": [
        "# access items in a series\n",
        "print(myseries[\"x\"])\n",
        "print(myseries[\"y\"])\n",
        "print(myseries[\"z\"])"
      ],
      "execution_count": 10,
      "outputs": [
        {
          "output_type": "stream",
          "name": "stdout",
          "text": [
            "1\n",
            "7\n",
            "2\n"
          ]
        }
      ]
    },
    {
      "cell_type": "code",
      "metadata": {
        "colab": {
          "base_uri": "https://localhost:8080/"
        },
        "id": "ew97RXDrU65J",
        "outputId": "fc67cdc3-a29e-4968-cee5-ce96faeada85"
      },
      "source": [
        "# access items in a series\n",
        "print(myseries[0])\n",
        "print(myseries[1])\n",
        "print(myseries[2])"
      ],
      "execution_count": 11,
      "outputs": [
        {
          "output_type": "stream",
          "name": "stdout",
          "text": [
            "1\n",
            "7\n",
            "2\n"
          ]
        }
      ]
    },
    {
      "cell_type": "markdown",
      "metadata": {
        "id": "VINtUutMVHEZ"
      },
      "source": [
        "##### Create series using Dict"
      ]
    },
    {
      "cell_type": "code",
      "metadata": {
        "colab": {
          "base_uri": "https://localhost:8080/"
        },
        "id": "kM4CH96cVMK2",
        "outputId": "6049bb2e-e7cb-4d47-e0f0-2f4d238e25aa"
      },
      "source": [
        "# Dict showing daywise calories\n",
        "\n",
        "mydict = {\"day1\": 420, \"day2\": 380, \"day3\": 390}\n",
        "myseries =  pd.Series(mydict)\n",
        "print(myseries)"
      ],
      "execution_count": 13,
      "outputs": [
        {
          "output_type": "stream",
          "name": "stdout",
          "text": [
            "day1    420\n",
            "day2    380\n",
            "day3    390\n",
            "dtype: int64\n"
          ]
        }
      ]
    },
    {
      "cell_type": "code",
      "metadata": {
        "colab": {
          "base_uri": "https://localhost:8080/"
        },
        "id": "H9Hf82saV7Au",
        "outputId": "0be92bdb-4ddf-4ba6-a7bc-6d0854e0a26b"
      },
      "source": [
        "# access items in a series\n",
        "print(myseries[\"day1\"])\n",
        "print(myseries[\"day2\"])\n",
        "print(myseries[\"day3\"])"
      ],
      "execution_count": 14,
      "outputs": [
        {
          "output_type": "stream",
          "name": "stdout",
          "text": [
            "420\n",
            "380\n",
            "390\n"
          ]
        }
      ]
    },
    {
      "cell_type": "code",
      "metadata": {
        "colab": {
          "base_uri": "https://localhost:8080/"
        },
        "id": "Qbya2v-8WAYH",
        "outputId": "99faac57-9e85-4b94-e433-36ebca0fb714"
      },
      "source": [
        "# access items in a series\n",
        "print(myseries[0])\n",
        "print(myseries[1])\n",
        "print(myseries[2])"
      ],
      "execution_count": 15,
      "outputs": [
        {
          "output_type": "stream",
          "name": "stdout",
          "text": [
            "420\n",
            "380\n",
            "390\n"
          ]
        }
      ]
    },
    {
      "cell_type": "code",
      "metadata": {
        "colab": {
          "base_uri": "https://localhost:8080/"
        },
        "id": "tXa6F0uiWJn4",
        "outputId": "69414bf1-1edc-46bd-959f-d2680f4c3419"
      },
      "source": [
        "# create series using only day 1 and day 2 calories data\n",
        "\n",
        "newseries =  pd.Series(mydict,[\"day1\",\"day2\"])\n",
        "print(newseries)"
      ],
      "execution_count": 16,
      "outputs": [
        {
          "output_type": "stream",
          "name": "stdout",
          "text": [
            "day1    420\n",
            "day2    380\n",
            "dtype: int64\n"
          ]
        }
      ]
    },
    {
      "cell_type": "markdown",
      "metadata": {
        "id": "Ky7gW-DTWpBI"
      },
      "source": [
        "### DataFrame"
      ]
    },
    {
      "cell_type": "markdown",
      "metadata": {
        "id": "DuIvuv5PWvdO"
      },
      "source": [
        "##### Create dataframe"
      ]
    },
    {
      "cell_type": "code",
      "metadata": {
        "colab": {
          "base_uri": "https://localhost:8080/"
        },
        "id": "yVic8ocTWr_k",
        "outputId": "890232df-b595-4426-f81c-65aff969c883"
      },
      "source": [
        "# create a column(in this example we use list) called calories\n",
        "\n",
        "calories = [420, 380, 390]\n",
        "print(calories)\n",
        "print(type(calories))"
      ],
      "execution_count": 17,
      "outputs": [
        {
          "output_type": "stream",
          "name": "stdout",
          "text": [
            "[420, 380, 390]\n",
            "<class 'list'>\n"
          ]
        }
      ]
    },
    {
      "cell_type": "code",
      "metadata": {
        "colab": {
          "base_uri": "https://localhost:8080/"
        },
        "id": "g5uhhvLMXRwt",
        "outputId": "5c8a5c24-4b46-4f43-e857-713e0800da77"
      },
      "source": [
        "# create a column(in this example we use list) called duration\n",
        "\n",
        "duration = [50, 40, 45]\n",
        "print(duration)\n",
        "print(type(duration))\n"
      ],
      "execution_count": 18,
      "outputs": [
        {
          "output_type": "stream",
          "name": "stdout",
          "text": [
            "[50, 40, 45]\n",
            "<class 'list'>\n"
          ]
        }
      ]
    },
    {
      "cell_type": "code",
      "metadata": {
        "colab": {
          "base_uri": "https://localhost:8080/"
        },
        "id": "2b5GrsQ7XjYu",
        "outputId": "4d048eef-745f-4f63-91bf-53822aab30a8"
      },
      "source": [
        "# create data for dataframe using the columns (list) calories and duration\n",
        "\n",
        "mydata = {\"calories\":calories, \"duration\":duration} \n",
        "print(mydata)\n",
        "print(type(mydata))"
      ],
      "execution_count": 19,
      "outputs": [
        {
          "output_type": "stream",
          "name": "stdout",
          "text": [
            "{'calories': [420, 380, 390], 'duration': [50, 40, 45]}\n",
            "<class 'dict'>\n"
          ]
        }
      ]
    },
    {
      "cell_type": "code",
      "metadata": {
        "colab": {
          "base_uri": "https://localhost:8080/"
        },
        "id": "GNJMrR5RYEUs",
        "outputId": "ad0a75d4-6262-4efb-b4cc-bf70daaaf4a1"
      },
      "source": [
        "# create dataframe\n",
        "mydataframe = pd.DataFrame(mydata)\n",
        "print(mydataframe)\n",
        "print(type(mydataframe))"
      ],
      "execution_count": 20,
      "outputs": [
        {
          "output_type": "stream",
          "name": "stdout",
          "text": [
            "   calories  duration\n",
            "0       420        50\n",
            "1       380        40\n",
            "2       390        45\n",
            "<class 'pandas.core.frame.DataFrame'>\n"
          ]
        }
      ]
    },
    {
      "cell_type": "markdown",
      "metadata": {
        "id": "Xf7nwwq1Yw0w"
      },
      "source": [
        "##### Get a row/rows from a dataframe"
      ]
    },
    {
      "cell_type": "code",
      "metadata": {
        "colab": {
          "base_uri": "https://localhost:8080/"
        },
        "id": "O1yo6JJWY0ot",
        "outputId": "8ae78e89-f3da-4253-ab0f-9d0b13294e96"
      },
      "source": [
        "# get first row from dataframe\n",
        "mydataframe.loc[0]"
      ],
      "execution_count": 21,
      "outputs": [
        {
          "output_type": "execute_result",
          "data": {
            "text/plain": [
              "calories    420\n",
              "duration     50\n",
              "Name: 0, dtype: int64"
            ]
          },
          "metadata": {},
          "execution_count": 21
        }
      ]
    },
    {
      "cell_type": "code",
      "metadata": {
        "colab": {
          "base_uri": "https://localhost:8080/"
        },
        "id": "8b_U82VRZEBE",
        "outputId": "c18c822f-4bea-443b-9948-ebfccd66e7fe"
      },
      "source": [
        "# data type of a row in a dataframe\n",
        "type(mydataframe.loc[0])"
      ],
      "execution_count": 22,
      "outputs": [
        {
          "output_type": "execute_result",
          "data": {
            "text/plain": [
              "pandas.core.series.Series"
            ]
          },
          "metadata": {},
          "execution_count": 22
        }
      ]
    },
    {
      "cell_type": "code",
      "metadata": {
        "colab": {
          "base_uri": "https://localhost:8080/"
        },
        "id": "u5ttsp97ZS1E",
        "outputId": "4b6c5c5a-1694-457e-abaa-adf202b9ff1a"
      },
      "source": [
        "#get last row in a dataframe\n",
        "length=len(mydataframe)\n",
        "mydataframe.loc[length-1]\n"
      ],
      "execution_count": 24,
      "outputs": [
        {
          "output_type": "execute_result",
          "data": {
            "text/plain": [
              "calories    390\n",
              "duration     45\n",
              "Name: 2, dtype: int64"
            ]
          },
          "metadata": {},
          "execution_count": 24
        }
      ]
    },
    {
      "cell_type": "code",
      "metadata": {
        "colab": {
          "base_uri": "https://localhost:8080/",
          "height": 112
        },
        "id": "29yuVeSkZpHE",
        "outputId": "fc832289-5ab2-4a7a-947c-d8b6ef77f693"
      },
      "source": [
        "# get multiple rows from a dataframe - Filtering\n",
        "\n",
        "mydataframe.loc[[0,1]]"
      ],
      "execution_count": 26,
      "outputs": [
        {
          "output_type": "execute_result",
          "data": {
            "text/html": [
              "<div>\n",
              "<style scoped>\n",
              "    .dataframe tbody tr th:only-of-type {\n",
              "        vertical-align: middle;\n",
              "    }\n",
              "\n",
              "    .dataframe tbody tr th {\n",
              "        vertical-align: top;\n",
              "    }\n",
              "\n",
              "    .dataframe thead th {\n",
              "        text-align: right;\n",
              "    }\n",
              "</style>\n",
              "<table border=\"1\" class=\"dataframe\">\n",
              "  <thead>\n",
              "    <tr style=\"text-align: right;\">\n",
              "      <th></th>\n",
              "      <th>calories</th>\n",
              "      <th>duration</th>\n",
              "    </tr>\n",
              "  </thead>\n",
              "  <tbody>\n",
              "    <tr>\n",
              "      <th>0</th>\n",
              "      <td>420</td>\n",
              "      <td>50</td>\n",
              "    </tr>\n",
              "    <tr>\n",
              "      <th>1</th>\n",
              "      <td>380</td>\n",
              "      <td>40</td>\n",
              "    </tr>\n",
              "  </tbody>\n",
              "</table>\n",
              "</div>"
            ],
            "text/plain": [
              "   calories  duration\n",
              "0       420        50\n",
              "1       380        40"
            ]
          },
          "metadata": {},
          "execution_count": 26
        }
      ]
    },
    {
      "cell_type": "markdown",
      "metadata": {
        "id": "TmJ3NaICaADD"
      },
      "source": [
        "###### Index of a dataframe"
      ]
    },
    {
      "cell_type": "code",
      "metadata": {
        "colab": {
          "base_uri": "https://localhost:8080/",
          "height": 143
        },
        "id": "MGg7r7o1aJ2d",
        "outputId": "57d9913a-5d80-4d5c-ddb3-f4b032f7d01f"
      },
      "source": [
        "# Default Index\n",
        "mydataframe"
      ],
      "execution_count": 27,
      "outputs": [
        {
          "output_type": "execute_result",
          "data": {
            "text/html": [
              "<div>\n",
              "<style scoped>\n",
              "    .dataframe tbody tr th:only-of-type {\n",
              "        vertical-align: middle;\n",
              "    }\n",
              "\n",
              "    .dataframe tbody tr th {\n",
              "        vertical-align: top;\n",
              "    }\n",
              "\n",
              "    .dataframe thead th {\n",
              "        text-align: right;\n",
              "    }\n",
              "</style>\n",
              "<table border=\"1\" class=\"dataframe\">\n",
              "  <thead>\n",
              "    <tr style=\"text-align: right;\">\n",
              "      <th></th>\n",
              "      <th>calories</th>\n",
              "      <th>duration</th>\n",
              "    </tr>\n",
              "  </thead>\n",
              "  <tbody>\n",
              "    <tr>\n",
              "      <th>0</th>\n",
              "      <td>420</td>\n",
              "      <td>50</td>\n",
              "    </tr>\n",
              "    <tr>\n",
              "      <th>1</th>\n",
              "      <td>380</td>\n",
              "      <td>40</td>\n",
              "    </tr>\n",
              "    <tr>\n",
              "      <th>2</th>\n",
              "      <td>390</td>\n",
              "      <td>45</td>\n",
              "    </tr>\n",
              "  </tbody>\n",
              "</table>\n",
              "</div>"
            ],
            "text/plain": [
              "   calories  duration\n",
              "0       420        50\n",
              "1       380        40\n",
              "2       390        45"
            ]
          },
          "metadata": {},
          "execution_count": 27
        }
      ]
    },
    {
      "cell_type": "code",
      "metadata": {
        "colab": {
          "base_uri": "https://localhost:8080/"
        },
        "id": "cYNUE_BYaUc-",
        "outputId": "1222f3c4-06d8-4d0d-91f4-329a1a3a84c2"
      },
      "source": [
        "# Named index\n",
        "namedindexdf = pd.DataFrame(mydata,[\"day1\",\"day2\",\"day3\"])\n",
        "print(namedindexdf)"
      ],
      "execution_count": 28,
      "outputs": [
        {
          "output_type": "stream",
          "name": "stdout",
          "text": [
            "      calories  duration\n",
            "day1       420        50\n",
            "day2       380        40\n",
            "day3       390        45\n"
          ]
        }
      ]
    },
    {
      "cell_type": "code",
      "metadata": {
        "colab": {
          "base_uri": "https://localhost:8080/"
        },
        "id": "dLtyCs1ibGQ3",
        "outputId": "66fcc56a-65bf-4fc9-ea2f-81587bc21e48"
      },
      "source": [
        "# Locate using named index\n",
        "namedindexdf.loc[\"day1\"]"
      ],
      "execution_count": 30,
      "outputs": [
        {
          "output_type": "execute_result",
          "data": {
            "text/plain": [
              "calories    420\n",
              "duration     50\n",
              "Name: day1, dtype: int64"
            ]
          },
          "metadata": {},
          "execution_count": 30
        }
      ]
    },
    {
      "cell_type": "code",
      "metadata": {
        "colab": {
          "base_uri": "https://localhost:8080/",
          "height": 112
        },
        "id": "LkzDw7-BbNwF",
        "outputId": "c6b0d638-d505-40b6-a81f-bfffdfa79102"
      },
      "source": [
        "# filter\n",
        "namedindexdf.loc[[\"day1\",\"day2\"]]"
      ],
      "execution_count": 31,
      "outputs": [
        {
          "output_type": "execute_result",
          "data": {
            "text/html": [
              "<div>\n",
              "<style scoped>\n",
              "    .dataframe tbody tr th:only-of-type {\n",
              "        vertical-align: middle;\n",
              "    }\n",
              "\n",
              "    .dataframe tbody tr th {\n",
              "        vertical-align: top;\n",
              "    }\n",
              "\n",
              "    .dataframe thead th {\n",
              "        text-align: right;\n",
              "    }\n",
              "</style>\n",
              "<table border=\"1\" class=\"dataframe\">\n",
              "  <thead>\n",
              "    <tr style=\"text-align: right;\">\n",
              "      <th></th>\n",
              "      <th>calories</th>\n",
              "      <th>duration</th>\n",
              "    </tr>\n",
              "  </thead>\n",
              "  <tbody>\n",
              "    <tr>\n",
              "      <th>day1</th>\n",
              "      <td>420</td>\n",
              "      <td>50</td>\n",
              "    </tr>\n",
              "    <tr>\n",
              "      <th>day2</th>\n",
              "      <td>380</td>\n",
              "      <td>40</td>\n",
              "    </tr>\n",
              "  </tbody>\n",
              "</table>\n",
              "</div>"
            ],
            "text/plain": [
              "      calories  duration\n",
              "day1       420        50\n",
              "day2       380        40"
            ]
          },
          "metadata": {},
          "execution_count": 31
        }
      ]
    },
    {
      "cell_type": "markdown",
      "metadata": {
        "id": "hose_L5HdJFt"
      },
      "source": [
        ""
      ]
    },
    {
      "cell_type": "markdown",
      "metadata": {
        "id": "i4mzObdMcQGe"
      },
      "source": [
        "### CSV"
      ]
    },
    {
      "cell_type": "markdown",
      "metadata": {
        "id": "742XUTDFdOpA"
      },
      "source": [
        "##### Create a csv file"
      ]
    },
    {
      "cell_type": "code",
      "metadata": {
        "id": "uSkTQzVWcR2J"
      },
      "source": [
        "import csv\n",
        "\n",
        "header = ['name', 'area', 'country_code2', 'country_code3']\n",
        "data = [\n",
        "    ['Albania', 28748, 'AL', 'ALB'],\n",
        "    ['Algeria', 2381741, 'DZ', 'DZA'],\n",
        "    ['American Samoa', 199, 'AS', 'ASM'],\n",
        "    ['Andorra', 468, 'AD', 'AND'],\n",
        "    ['Angola', 1246700, 'AO', 'AGO'],\n",
        "    ['Anguilla',102, 'AI','AIA']\n",
        "]\n",
        "\n",
        "with open('countries.csv', 'w', encoding='UTF8', newline='') as f:\n",
        "    writer = csv.writer(f)\n",
        "\n",
        "    # write the header\n",
        "    writer.writerow(header)\n",
        "\n",
        "    # write multiple rows\n",
        "    writer.writerows(data)\n",
        "f.close()"
      ],
      "execution_count": 35,
      "outputs": []
    },
    {
      "cell_type": "markdown",
      "metadata": {
        "id": "kIMxScWmdSph"
      },
      "source": [
        "### Load data from a file into a dataframe"
      ]
    },
    {
      "cell_type": "code",
      "metadata": {
        "id": "e3JoJWOmdiWg"
      },
      "source": [
        "# Load a csv file\n",
        "df = pd.read_csv('countries.csv')"
      ],
      "execution_count": 41,
      "outputs": []
    },
    {
      "cell_type": "code",
      "metadata": {
        "colab": {
          "base_uri": "https://localhost:8080/"
        },
        "id": "EKqwaLBjfEBK",
        "outputId": "961aa1db-92af-48c5-9947-ab3b08d647dc"
      },
      "source": [
        "# print the dataframe\n",
        "print(df)"
      ],
      "execution_count": 42,
      "outputs": [
        {
          "output_type": "stream",
          "name": "stdout",
          "text": [
            "             name     area country_code2 country_code3\n",
            "0         Albania    28748            AL           ALB\n",
            "1         Algeria  2381741            DZ           DZA\n",
            "2  American Samoa      199            AS           ASM\n",
            "3         Andorra      468            AD           AND\n",
            "4          Angola  1246700            AO           AGO\n",
            "5        Anguilla      102            AI           AIA\n"
          ]
        }
      ]
    },
    {
      "cell_type": "markdown",
      "metadata": {
        "id": "ajHtjxF9fvG_"
      },
      "source": [
        "To print entire dataframe use print(df.tostring())"
      ]
    },
    {
      "cell_type": "markdown",
      "metadata": {
        "id": "j6Rrx193gHBr"
      },
      "source": [
        "### JSON"
      ]
    },
    {
      "cell_type": "code",
      "metadata": {
        "colab": {
          "base_uri": "https://localhost:8080/"
        },
        "id": "niu5eA-alHTL",
        "outputId": "d38a1650-2935-4015-ccfe-9465599ceb4d"
      },
      "source": [
        "# create json data from existing data\n",
        "datajson = {}\n",
        "headerlength = len(header)\n",
        "datacount = len(data)\n",
        "for k in range(headerlength):\n",
        "  datajson[header[k]] = {}\n",
        "\n",
        "for i in range(datacount):\n",
        "  for j in range(headerlength):   \n",
        "      datajson[header[j]][i] = data[i][j]\n",
        "  \n",
        "print(datajson)"
      ],
      "execution_count": 73,
      "outputs": [
        {
          "output_type": "stream",
          "name": "stdout",
          "text": [
            "{'name': {0: 'Albania', 1: 'Algeria', 2: 'American Samoa', 3: 'Andorra', 4: 'Angola', 5: 'Anguilla'}, 'area': {0: 28748, 1: 2381741, 2: 199, 3: 468, 4: 1246700, 5: 102}, 'country_code2': {0: 'AL', 1: 'DZ', 2: 'AS', 3: 'AD', 4: 'AO', 5: 'AI'}, 'country_code3': {0: 'ALB', 1: 'DZA', 2: 'ASM', 3: 'AND', 4: 'AGO', 5: 'AIA'}}\n"
          ]
        }
      ]
    },
    {
      "cell_type": "code",
      "metadata": {
        "id": "u9cXjQZ1qg_G"
      },
      "source": [
        "# write json data to file\n",
        "with open('data.json', 'w') as outfile:\n",
        "    json.dump(datajson, outfile)"
      ],
      "execution_count": 75,
      "outputs": []
    },
    {
      "cell_type": "code",
      "metadata": {
        "colab": {
          "base_uri": "https://localhost:8080/",
          "height": 237
        },
        "id": "EM9as2z4mwvg",
        "outputId": "36d1f6f4-ad19-41d0-80ab-3b462bf2888e"
      },
      "source": [
        "# Load country data into dataframe\n",
        "jsondf =  pd.DataFrame(datajson)\n",
        "jsondf"
      ],
      "execution_count": 74,
      "outputs": [
        {
          "output_type": "execute_result",
          "data": {
            "text/html": [
              "<div>\n",
              "<style scoped>\n",
              "    .dataframe tbody tr th:only-of-type {\n",
              "        vertical-align: middle;\n",
              "    }\n",
              "\n",
              "    .dataframe tbody tr th {\n",
              "        vertical-align: top;\n",
              "    }\n",
              "\n",
              "    .dataframe thead th {\n",
              "        text-align: right;\n",
              "    }\n",
              "</style>\n",
              "<table border=\"1\" class=\"dataframe\">\n",
              "  <thead>\n",
              "    <tr style=\"text-align: right;\">\n",
              "      <th></th>\n",
              "      <th>name</th>\n",
              "      <th>area</th>\n",
              "      <th>country_code2</th>\n",
              "      <th>country_code3</th>\n",
              "    </tr>\n",
              "  </thead>\n",
              "  <tbody>\n",
              "    <tr>\n",
              "      <th>0</th>\n",
              "      <td>Albania</td>\n",
              "      <td>28748</td>\n",
              "      <td>AL</td>\n",
              "      <td>ALB</td>\n",
              "    </tr>\n",
              "    <tr>\n",
              "      <th>1</th>\n",
              "      <td>Algeria</td>\n",
              "      <td>2381741</td>\n",
              "      <td>DZ</td>\n",
              "      <td>DZA</td>\n",
              "    </tr>\n",
              "    <tr>\n",
              "      <th>2</th>\n",
              "      <td>American Samoa</td>\n",
              "      <td>199</td>\n",
              "      <td>AS</td>\n",
              "      <td>ASM</td>\n",
              "    </tr>\n",
              "    <tr>\n",
              "      <th>3</th>\n",
              "      <td>Andorra</td>\n",
              "      <td>468</td>\n",
              "      <td>AD</td>\n",
              "      <td>AND</td>\n",
              "    </tr>\n",
              "    <tr>\n",
              "      <th>4</th>\n",
              "      <td>Angola</td>\n",
              "      <td>1246700</td>\n",
              "      <td>AO</td>\n",
              "      <td>AGO</td>\n",
              "    </tr>\n",
              "    <tr>\n",
              "      <th>5</th>\n",
              "      <td>Anguilla</td>\n",
              "      <td>102</td>\n",
              "      <td>AI</td>\n",
              "      <td>AIA</td>\n",
              "    </tr>\n",
              "  </tbody>\n",
              "</table>\n",
              "</div>"
            ],
            "text/plain": [
              "             name     area country_code2 country_code3\n",
              "0         Albania    28748            AL           ALB\n",
              "1         Algeria  2381741            DZ           DZA\n",
              "2  American Samoa      199            AS           ASM\n",
              "3         Andorra      468            AD           AND\n",
              "4          Angola  1246700            AO           AGO\n",
              "5        Anguilla      102            AI           AIA"
            ]
          },
          "metadata": {},
          "execution_count": 74
        }
      ]
    },
    {
      "cell_type": "code",
      "metadata": {
        "colab": {
          "base_uri": "https://localhost:8080/"
        },
        "id": "aH6ONo54rHHV",
        "outputId": "ac5325b7-7d29-4e83-c64d-66044c5e1ec2"
      },
      "source": [
        "# load json data from file\n",
        "df = pd.read_json('data.json')\n",
        "print(df) "
      ],
      "execution_count": 76,
      "outputs": [
        {
          "output_type": "stream",
          "name": "stdout",
          "text": [
            "             name     area country_code2 country_code3\n",
            "0         Albania    28748            AL           ALB\n",
            "1         Algeria  2381741            DZ           DZA\n",
            "2  American Samoa      199            AS           ASM\n",
            "3         Andorra      468            AD           AND\n",
            "4          Angola  1246700            AO           AGO\n",
            "5        Anguilla      102            AI           AIA\n"
          ]
        }
      ]
    },
    {
      "cell_type": "code",
      "metadata": {
        "id": "WLOlv5MBrJt-"
      },
      "source": [
        ""
      ],
      "execution_count": null,
      "outputs": []
    }
  ]
}