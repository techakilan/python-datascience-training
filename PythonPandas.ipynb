{
  "nbformat": 4,
  "nbformat_minor": 0,
  "metadata": {
    "colab": {
      "name": "PythonPandas.ipynb",
      "provenance": [],
      "collapsed_sections": [],
      "authorship_tag": "ABX9TyPIY7v9kHfqTWc4dK8uKoyM",
      "include_colab_link": true
    },
    "kernelspec": {
      "name": "python3",
      "display_name": "Python 3"
    },
    "language_info": {
      "name": "python"
    }
  },
  "cells": [
    {
      "cell_type": "markdown",
      "metadata": {
        "id": "view-in-github",
        "colab_type": "text"
      },
      "source": [
        "<a href=\"https://colab.research.google.com/github/techakilan/python-datascience-training/blob/master/PythonPandas.ipynb\" target=\"_parent\"><img src=\"https://colab.research.google.com/assets/colab-badge.svg\" alt=\"Open In Colab\"/></a>"
      ]
    },
    {
      "cell_type": "code",
      "metadata": {
        "id": "ti43RnruQlnr"
      },
      "source": [
        "import pandas as pd"
      ],
      "execution_count": 2,
      "outputs": []
    },
    {
      "cell_type": "markdown",
      "metadata": {
        "id": "DElMvFB2Q8iz"
      },
      "source": [
        "##### Get Version"
      ]
    },
    {
      "cell_type": "code",
      "metadata": {
        "id": "eWiL-Ui4Q_UV"
      },
      "source": [
        "\n",
        "print(pd.__version__) "
      ],
      "execution_count": null,
      "outputs": []
    },
    {
      "cell_type": "markdown",
      "metadata": {
        "id": "fD0wxKqIRI-Y"
      },
      "source": [
        "### Series"
      ]
    },
    {
      "cell_type": "code",
      "metadata": {
        "colab": {
          "base_uri": "https://localhost:8080/"
        },
        "id": "kWBSKUdzRIVz",
        "outputId": "7b2ca6fb-71fd-4209-81be-443ba1d0d5ff"
      },
      "source": [
        "mylist = [1, 7, 2]\n",
        "myseries = pd.Series(mylist)\n",
        "print(myseries)"
      ],
      "execution_count": null,
      "outputs": [
        {
          "output_type": "stream",
          "name": "stdout",
          "text": [
            "0    1\n",
            "1    7\n",
            "2    2\n",
            "dtype: int64\n"
          ]
        }
      ]
    },
    {
      "cell_type": "code",
      "metadata": {
        "colab": {
          "base_uri": "https://localhost:8080/"
        },
        "id": "3djuFlU0Thgs",
        "outputId": "c2bf0077-77fd-4c1b-9299-2c0cfb8d0770"
      },
      "source": [
        "type(myseries)"
      ],
      "execution_count": null,
      "outputs": [
        {
          "output_type": "execute_result",
          "data": {
            "text/plain": [
              "pandas.core.series.Series"
            ]
          },
          "metadata": {},
          "execution_count": 44
        }
      ]
    },
    {
      "cell_type": "code",
      "metadata": {
        "colab": {
          "base_uri": "https://localhost:8080/"
        },
        "id": "ZITEXPNSwtI7",
        "outputId": "a7746f7d-d609-4dd5-c951-3285b8792c58"
      },
      "source": [
        "# implicit index\n",
        "myseries.iloc[0]"
      ],
      "execution_count": null,
      "outputs": [
        {
          "output_type": "execute_result",
          "data": {
            "text/plain": [
              "1"
            ]
          },
          "metadata": {},
          "execution_count": 45
        }
      ]
    },
    {
      "cell_type": "code",
      "metadata": {
        "colab": {
          "base_uri": "https://localhost:8080/"
        },
        "id": "IZM6B0ltw3uL",
        "outputId": "7aaa96f4-b1cc-41f5-b7ed-a6514dbf5a5f"
      },
      "source": [
        "# implicit index\n",
        "myseries.iloc[1]"
      ],
      "execution_count": null,
      "outputs": [
        {
          "output_type": "execute_result",
          "data": {
            "text/plain": [
              "7"
            ]
          },
          "metadata": {},
          "execution_count": 46
        }
      ]
    },
    {
      "cell_type": "code",
      "metadata": {
        "colab": {
          "base_uri": "https://localhost:8080/"
        },
        "id": "fQoATtt7w8N4",
        "outputId": "00fa5681-28ad-411c-e652-13272fb9c579"
      },
      "source": [
        "myseries2 = pd.Series(mylist, index=[1,2,3])\n",
        "print(myseries2)"
      ],
      "execution_count": null,
      "outputs": [
        {
          "output_type": "stream",
          "name": "stdout",
          "text": [
            "1    1\n",
            "2    7\n",
            "3    2\n",
            "dtype: int64\n"
          ]
        }
      ]
    },
    {
      "cell_type": "code",
      "metadata": {
        "colab": {
          "base_uri": "https://localhost:8080/"
        },
        "id": "NhiWqTDQxNq4",
        "outputId": "09130a26-b585-4379-c6d7-29a03c66226f"
      },
      "source": [
        "# implicit index\n",
        "myseries2.iloc[1]"
      ],
      "execution_count": null,
      "outputs": [
        {
          "output_type": "execute_result",
          "data": {
            "text/plain": [
              "7"
            ]
          },
          "metadata": {},
          "execution_count": 50
        }
      ]
    },
    {
      "cell_type": "code",
      "metadata": {
        "colab": {
          "base_uri": "https://localhost:8080/"
        },
        "id": "DsdBZrcPxRkP",
        "outputId": "0c28975e-601e-4108-8ae6-cb4a49f440ca"
      },
      "source": [
        "#explicit index\n",
        "myseries2.loc[1]"
      ],
      "execution_count": null,
      "outputs": [
        {
          "output_type": "execute_result",
          "data": {
            "text/plain": [
              "1"
            ]
          },
          "metadata": {},
          "execution_count": 51
        }
      ]
    },
    {
      "cell_type": "markdown",
      "metadata": {
        "id": "WeKnZtawT5k-"
      },
      "source": [
        "##### Default index"
      ]
    },
    {
      "cell_type": "code",
      "metadata": {
        "id": "QFo4sKMaUHjA"
      },
      "source": [
        "print(myseries)"
      ],
      "execution_count": null,
      "outputs": []
    },
    {
      "cell_type": "code",
      "metadata": {
        "id": "4gsSUTIeUR4_"
      },
      "source": [
        "# access items in a series\n",
        "print(myseries[0])\n",
        "print(myseries[1])\n",
        "print(myseries[2])"
      ],
      "execution_count": null,
      "outputs": []
    },
    {
      "cell_type": "markdown",
      "metadata": {
        "id": "_urepQakULe-"
      },
      "source": [
        "##### Labelled Index"
      ]
    },
    {
      "cell_type": "code",
      "metadata": {
        "id": "RGadwjVvUOa7"
      },
      "source": [
        "mylist = [1, 7, 2]\n",
        "myseries =  pd.Series(mylist, index = [\"x\", \"y\", \"z\"])\n",
        "print(myseries)"
      ],
      "execution_count": null,
      "outputs": []
    },
    {
      "cell_type": "code",
      "metadata": {
        "id": "x4P8AHLsU0Tu"
      },
      "source": [
        "# access items in a series\n",
        "print(myseries[\"x\"])\n",
        "print(myseries[\"y\"])\n",
        "print(myseries[\"z\"])"
      ],
      "execution_count": null,
      "outputs": []
    },
    {
      "cell_type": "code",
      "metadata": {
        "id": "ew97RXDrU65J"
      },
      "source": [
        "# access items in a series\n",
        "print(myseries[0])\n",
        "print(myseries[1])\n",
        "print(myseries[2])"
      ],
      "execution_count": null,
      "outputs": []
    },
    {
      "cell_type": "markdown",
      "metadata": {
        "id": "VINtUutMVHEZ"
      },
      "source": [
        "##### Create series using Dict"
      ]
    },
    {
      "cell_type": "code",
      "metadata": {
        "colab": {
          "base_uri": "https://localhost:8080/"
        },
        "id": "kM4CH96cVMK2",
        "outputId": "26915937-0e48-4e8e-dd61-41d6f521f4ff"
      },
      "source": [
        "# Dict showing daywise calories\n",
        "\n",
        "mydict = {\"day1\": 420, \"day2\": 380, \"day3\": 390}\n",
        "myseries =  pd.Series(mydict)\n",
        "print(myseries)"
      ],
      "execution_count": null,
      "outputs": [
        {
          "output_type": "stream",
          "name": "stdout",
          "text": [
            "day1    420\n",
            "day2    380\n",
            "day3    390\n",
            "dtype: int64\n"
          ]
        }
      ]
    },
    {
      "cell_type": "code",
      "metadata": {
        "colab": {
          "base_uri": "https://localhost:8080/"
        },
        "id": "aUKVWcCyt0U2",
        "outputId": "3b6b95d7-f54d-4ea3-9a01-864a4cd4d44b"
      },
      "source": [
        "myseries[\"day1\":\"day2\"]"
      ],
      "execution_count": null,
      "outputs": [
        {
          "output_type": "execute_result",
          "data": {
            "text/plain": [
              "day1    420\n",
              "day2    380\n",
              "dtype: int64"
            ]
          },
          "metadata": {},
          "execution_count": 29
        }
      ]
    },
    {
      "cell_type": "code",
      "metadata": {
        "colab": {
          "base_uri": "https://localhost:8080/"
        },
        "id": "rFglfHuauUnx",
        "outputId": "81d24a45-daf6-4e5f-a61a-0005889ec7bc"
      },
      "source": [
        "myseries[\"day1\":\"day3\"]"
      ],
      "execution_count": null,
      "outputs": [
        {
          "output_type": "execute_result",
          "data": {
            "text/plain": [
              "day1    420\n",
              "day2    380\n",
              "day3    390\n",
              "dtype: int64"
            ]
          },
          "metadata": {},
          "execution_count": 30
        }
      ]
    },
    {
      "cell_type": "code",
      "metadata": {
        "id": "H9Hf82saV7Au"
      },
      "source": [
        "# access items in a series\n",
        "print(myseries[\"day1\"])\n",
        "print(myseries[\"day2\"])\n",
        "print(myseries[\"day3\"])"
      ],
      "execution_count": null,
      "outputs": []
    },
    {
      "cell_type": "code",
      "metadata": {
        "id": "Qbya2v-8WAYH"
      },
      "source": [
        "# access items in a series\n",
        "print(myseries[0])\n",
        "print(myseries[1])\n",
        "print(myseries[2])"
      ],
      "execution_count": null,
      "outputs": []
    },
    {
      "cell_type": "code",
      "metadata": {
        "id": "tXa6F0uiWJn4"
      },
      "source": [
        "# create series using only day 1 and day 2 calories data\n",
        "\n",
        "newseries =  pd.Series(mydict,[\"day1\",\"day2\"])\n",
        "print(newseries)"
      ],
      "execution_count": null,
      "outputs": []
    },
    {
      "cell_type": "markdown",
      "metadata": {
        "id": "Ky7gW-DTWpBI"
      },
      "source": [
        "### DataFrame"
      ]
    },
    {
      "cell_type": "markdown",
      "metadata": {
        "id": "DuIvuv5PWvdO"
      },
      "source": [
        "##### Create dataframe"
      ]
    },
    {
      "cell_type": "code",
      "metadata": {
        "id": "yVic8ocTWr_k"
      },
      "source": [
        "# create a column(in this example we use list) called calories\n",
        "\n",
        "calories = [420, 380, 390]\n",
        "print(calories)\n",
        "print(type(calories))"
      ],
      "execution_count": null,
      "outputs": []
    },
    {
      "cell_type": "code",
      "metadata": {
        "id": "g5uhhvLMXRwt"
      },
      "source": [
        "# create a column(in this example we use list) called duration\n",
        "\n",
        "duration = [50, 40, 45]\n",
        "print(duration)\n",
        "print(type(duration))\n"
      ],
      "execution_count": null,
      "outputs": []
    },
    {
      "cell_type": "code",
      "metadata": {
        "id": "2b5GrsQ7XjYu"
      },
      "source": [
        "# create data for dataframe using the columns (list) calories and duration\n",
        "\n",
        "mydata = {\"calories\":calories, \"duration\":duration} \n",
        "print(mydata)\n",
        "print(type(mydata))"
      ],
      "execution_count": null,
      "outputs": []
    },
    {
      "cell_type": "code",
      "metadata": {
        "id": "GNJMrR5RYEUs"
      },
      "source": [
        "# create dataframe\n",
        "mydataframe = pd.DataFrame(mydata)\n",
        "print(mydataframe)\n",
        "print(type(mydataframe))"
      ],
      "execution_count": null,
      "outputs": []
    },
    {
      "cell_type": "markdown",
      "metadata": {
        "id": "WddwDagiGX52"
      },
      "source": [
        "#### Get headers"
      ]
    },
    {
      "cell_type": "code",
      "metadata": {
        "id": "USgGF2m9GZyO"
      },
      "source": [
        "mydataframe.columns"
      ],
      "execution_count": null,
      "outputs": []
    },
    {
      "cell_type": "markdown",
      "metadata": {
        "id": "Xf7nwwq1Yw0w"
      },
      "source": [
        "#### Get a row/rows from a dataframe"
      ]
    },
    {
      "cell_type": "code",
      "metadata": {
        "id": "O1yo6JJWY0ot"
      },
      "source": [
        "# get first row from dataframe\n",
        "mydataframe.loc[0]"
      ],
      "execution_count": null,
      "outputs": []
    },
    {
      "cell_type": "code",
      "metadata": {
        "id": "8b_U82VRZEBE"
      },
      "source": [
        "# data type of a row in a dataframe\n",
        "type(mydataframe.loc[0])"
      ],
      "execution_count": null,
      "outputs": []
    },
    {
      "cell_type": "code",
      "metadata": {
        "id": "u5ttsp97ZS1E"
      },
      "source": [
        "#get last row in a dataframe\n",
        "length=len(mydataframe)\n",
        "mydataframe.loc[length-1]\n"
      ],
      "execution_count": null,
      "outputs": []
    },
    {
      "cell_type": "code",
      "metadata": {
        "id": "29yuVeSkZpHE"
      },
      "source": [
        "# get multiple rows from a dataframe - Filtering\n",
        "\n",
        "mydataframe.loc[[0,1]]"
      ],
      "execution_count": null,
      "outputs": []
    },
    {
      "cell_type": "markdown",
      "metadata": {
        "id": "EwOTmRjFHD1c"
      },
      "source": [
        "#### Get Column of a dataframe"
      ]
    },
    {
      "cell_type": "code",
      "metadata": {
        "id": "QKj4p_jBHKtW"
      },
      "source": [
        "mydataframe[\"calories\"]"
      ],
      "execution_count": null,
      "outputs": []
    },
    {
      "cell_type": "code",
      "metadata": {
        "id": "RFTd504zHReU"
      },
      "source": [
        "mydataframe.calories"
      ],
      "execution_count": null,
      "outputs": []
    },
    {
      "cell_type": "markdown",
      "metadata": {
        "id": "TmJ3NaICaADD"
      },
      "source": [
        "#### Index of a dataframe"
      ]
    },
    {
      "cell_type": "code",
      "metadata": {
        "id": "MGg7r7o1aJ2d"
      },
      "source": [
        "# Default Index\n",
        "mydataframe"
      ],
      "execution_count": null,
      "outputs": []
    },
    {
      "cell_type": "code",
      "metadata": {
        "id": "cYNUE_BYaUc-"
      },
      "source": [
        "# Named index\n",
        "namedindexdf = pd.DataFrame(mydata,[\"day1\",\"day2\",\"day3\"])\n",
        "print(namedindexdf)"
      ],
      "execution_count": null,
      "outputs": []
    },
    {
      "cell_type": "code",
      "metadata": {
        "id": "dLtyCs1ibGQ3"
      },
      "source": [
        "# Locate using named index\n",
        "namedindexdf.loc[\"day1\"]"
      ],
      "execution_count": null,
      "outputs": []
    },
    {
      "cell_type": "code",
      "metadata": {
        "id": "LkzDw7-BbNwF"
      },
      "source": [
        "# filter rows\n",
        "namedindexdf.loc[[\"day1\",\"day2\"]]"
      ],
      "execution_count": null,
      "outputs": []
    },
    {
      "cell_type": "markdown",
      "metadata": {
        "id": "i4mzObdMcQGe"
      },
      "source": [
        "### CSV"
      ]
    },
    {
      "cell_type": "markdown",
      "metadata": {
        "id": "742XUTDFdOpA"
      },
      "source": [
        "##### Create a csv file"
      ]
    },
    {
      "cell_type": "code",
      "metadata": {
        "id": "uSkTQzVWcR2J"
      },
      "source": [
        "import csv\n",
        "\n",
        "header = ['name', 'area', 'country_code2', 'country_code3']\n",
        "data = [\n",
        "    ['Albania', 28748, 'AL', 'ALB'],\n",
        "    ['Algeria', 2381741, 'DZ', 'DZA'],\n",
        "    ['American Samoa', 199, 'AS', 'ASM'],\n",
        "    ['Andorra', 468, 'AD', 'AND'],\n",
        "    ['Angola', 1246700, 'AO', 'AGO'],\n",
        "    ['Anguilla',102, 'AI','AIA']\n",
        "]\n",
        "\n",
        "with open('countries.csv', 'w', encoding='UTF8', newline='') as f:\n",
        "    writer = csv.writer(f)\n",
        "\n",
        "    # write the header\n",
        "    writer.writerow(header)\n",
        "\n",
        "    # write multiple rows\n",
        "    writer.writerows(data)\n",
        "f.close()"
      ],
      "execution_count": null,
      "outputs": []
    },
    {
      "cell_type": "markdown",
      "metadata": {
        "id": "kIMxScWmdSph"
      },
      "source": [
        "### Load data from a file into a dataframe"
      ]
    },
    {
      "cell_type": "code",
      "metadata": {
        "id": "e3JoJWOmdiWg"
      },
      "source": [
        "# Load a csv file\n",
        "df = pd.read_csv('countries.csv')"
      ],
      "execution_count": null,
      "outputs": []
    },
    {
      "cell_type": "code",
      "metadata": {
        "id": "EKqwaLBjfEBK"
      },
      "source": [
        "# print the dataframe\n",
        "print(df)"
      ],
      "execution_count": null,
      "outputs": []
    },
    {
      "cell_type": "markdown",
      "metadata": {
        "id": "ajHtjxF9fvG_"
      },
      "source": [
        "To print entire dataframe use print(df.tostring())"
      ]
    },
    {
      "cell_type": "markdown",
      "metadata": {
        "id": "j6Rrx193gHBr"
      },
      "source": [
        "### JSON"
      ]
    },
    {
      "cell_type": "code",
      "metadata": {
        "id": "niu5eA-alHTL"
      },
      "source": [
        "# create json data from existing data\n",
        "datajson = {}\n",
        "headerlength = len(header)\n",
        "datacount = len(data)\n",
        "for k in range(headerlength):\n",
        "  datajson[header[k]] = {}\n",
        "\n",
        "for i in range(datacount):\n",
        "  for j in range(headerlength):   \n",
        "      datajson[header[j]][i] = data[i][j]\n",
        "  \n",
        "print(datajson)"
      ],
      "execution_count": null,
      "outputs": []
    },
    {
      "cell_type": "code",
      "metadata": {
        "id": "u9cXjQZ1qg_G"
      },
      "source": [
        "import json\n",
        "# write json data to file\n",
        "with open('data.json', 'w') as outfile:\n",
        "    json.dump(datajson, outfile)"
      ],
      "execution_count": null,
      "outputs": []
    },
    {
      "cell_type": "code",
      "metadata": {
        "id": "EM9as2z4mwvg"
      },
      "source": [
        "# Load country data into dataframe\n",
        "jsondf =  pd.DataFrame(datajson)\n",
        "jsondf"
      ],
      "execution_count": null,
      "outputs": []
    },
    {
      "cell_type": "code",
      "metadata": {
        "id": "aH6ONo54rHHV"
      },
      "source": [
        "# load json data from file\n",
        "df = pd.read_json('data.json')\n",
        "print(df) "
      ],
      "execution_count": null,
      "outputs": []
    },
    {
      "cell_type": "markdown",
      "metadata": {
        "id": "F9yWexiZtJZK"
      },
      "source": [
        "### CSV from Google drive"
      ]
    },
    {
      "cell_type": "markdown",
      "metadata": {
        "id": "N0dOH4kntO0x"
      },
      "source": [
        "##### Mount google drive"
      ]
    },
    {
      "cell_type": "code",
      "metadata": {
        "colab": {
          "base_uri": "https://localhost:8080/"
        },
        "id": "bl10s3aTtSsk",
        "outputId": "af5f2702-b59a-4a34-d675-89012adc1267"
      },
      "source": [
        "from google.colab import drive\n",
        "drive.mount('/content/drive')"
      ],
      "execution_count": 4,
      "outputs": [
        {
          "output_type": "stream",
          "name": "stdout",
          "text": [
            "Mounted at /content/drive\n"
          ]
        }
      ]
    },
    {
      "cell_type": "markdown",
      "metadata": {
        "id": "kUl9O70ss0Qc"
      },
      "source": [
        "##### Import csv file from google drive and create dataframe"
      ]
    },
    {
      "cell_type": "code",
      "metadata": {
        "id": "WLOlv5MBrJt-"
      },
      "source": [
        "iris_df = pd.read_csv('/content/drive/MyDrive/colabs_data/Iris.csv')\n",
        "iris_df"
      ],
      "execution_count": null,
      "outputs": []
    },
    {
      "cell_type": "markdown",
      "metadata": {
        "id": "JuvCT-ZptqVV"
      },
      "source": [
        "#### head()"
      ]
    },
    {
      "cell_type": "code",
      "metadata": {
        "id": "omNsGDBMtsTj"
      },
      "source": [
        "iris_df.head()"
      ],
      "execution_count": null,
      "outputs": []
    },
    {
      "cell_type": "code",
      "metadata": {
        "id": "Ay4_uOeatws9"
      },
      "source": [
        "iris_df.head(10)"
      ],
      "execution_count": null,
      "outputs": []
    },
    {
      "cell_type": "markdown",
      "metadata": {
        "id": "jwx0WY8St2MO"
      },
      "source": [
        "#### tail()"
      ]
    },
    {
      "cell_type": "code",
      "metadata": {
        "id": "azPTqAgst4-Q"
      },
      "source": [
        "iris_df.tail()"
      ],
      "execution_count": null,
      "outputs": []
    },
    {
      "cell_type": "code",
      "metadata": {
        "id": "HyxOzl0xt964"
      },
      "source": [
        "iris_df.tail(10)"
      ],
      "execution_count": null,
      "outputs": []
    },
    {
      "cell_type": "markdown",
      "metadata": {
        "id": "6Sb-pHOzuSCM"
      },
      "source": [
        "#### Get info about the dataframe"
      ]
    },
    {
      "cell_type": "code",
      "metadata": {
        "id": "F50qnC5cuVmn"
      },
      "source": [
        "iris_df.info()"
      ],
      "execution_count": null,
      "outputs": []
    },
    {
      "cell_type": "code",
      "metadata": {
        "id": "9KjrFNzs3pcT"
      },
      "source": [
        "iris_df.describe()"
      ],
      "execution_count": null,
      "outputs": []
    },
    {
      "cell_type": "markdown",
      "metadata": {
        "id": "O5iBzlKP6ikz"
      },
      "source": [
        "#### copy()"
      ]
    },
    {
      "cell_type": "code",
      "metadata": {
        "id": "cYy3EK3h6k93"
      },
      "source": [
        "copy_demo_df = iris_df.copy()"
      ],
      "execution_count": null,
      "outputs": []
    },
    {
      "cell_type": "markdown",
      "metadata": {
        "id": "0OiiOkSG7u-Z"
      },
      "source": [
        "#### drop()"
      ]
    },
    {
      "cell_type": "code",
      "metadata": {
        "id": "-6ePH0126ty4"
      },
      "source": [
        "copy_demo_df.drop(\"Id\", axis=1)"
      ],
      "execution_count": null,
      "outputs": []
    },
    {
      "cell_type": "code",
      "metadata": {
        "id": "SSicvMcp7pUF"
      },
      "source": [
        "copy_demo_df"
      ],
      "execution_count": null,
      "outputs": []
    },
    {
      "cell_type": "markdown",
      "metadata": {
        "id": "eiVzWoVhDytf"
      },
      "source": [
        "#### filter"
      ]
    },
    {
      "cell_type": "markdown",
      "metadata": {
        "id": "IxktP2UFIUpN"
      },
      "source": [
        "##### filter by rows"
      ]
    },
    {
      "cell_type": "code",
      "metadata": {
        "id": "PR0DmW7aIBs9"
      },
      "source": [
        "iris_df.loc[[0,2]]"
      ],
      "execution_count": null,
      "outputs": []
    },
    {
      "cell_type": "code",
      "metadata": {
        "id": "qz2dzBPZIZa_"
      },
      "source": [
        "iris_df.loc[2:5]"
      ],
      "execution_count": null,
      "outputs": []
    },
    {
      "cell_type": "code",
      "metadata": {
        "id": "FlbSkSa6IpKu"
      },
      "source": [
        "twotofive_df = iris_df.loc[2:5]\n",
        "eigthttoten_df = iris_df.loc[8:10]\n",
        "\n",
        "concat_df_list = [twotofive_df, eigthttoten_df]\n",
        "pd.concat(concat_df_list)"
      ],
      "execution_count": null,
      "outputs": []
    },
    {
      "cell_type": "code",
      "metadata": {
        "id": "fCvYZygxD5F3"
      },
      "source": [
        "iris_df[iris_df.Species == \"Iris-setosa\"]"
      ],
      "execution_count": null,
      "outputs": []
    },
    {
      "cell_type": "code",
      "metadata": {
        "id": "d5CoEuyLESwk"
      },
      "source": [
        "# AND\n",
        "iris_df[(iris_df.Species == \"Iris-setosa\") & (iris_df.Id<10)]"
      ],
      "execution_count": null,
      "outputs": []
    },
    {
      "cell_type": "code",
      "metadata": {
        "id": "u7uKnY3cE4Qc"
      },
      "source": [
        "# OR\n",
        "iris_df[(iris_df.Id>140) | (iris_df.Id<10)]"
      ],
      "execution_count": null,
      "outputs": []
    },
    {
      "cell_type": "markdown",
      "metadata": {
        "id": "McqNNWJm_AnQ"
      },
      "source": [
        "#### Display all items in a dataframe"
      ]
    },
    {
      "cell_type": "code",
      "metadata": {
        "id": "u9vG3FB7Acfb"
      },
      "source": [
        "pd.get_option('display.max_rows')"
      ],
      "execution_count": null,
      "outputs": []
    },
    {
      "cell_type": "code",
      "metadata": {
        "id": "VoUdBlbU_P93"
      },
      "source": [
        "pd.set_option('display.max_rows',None)"
      ],
      "execution_count": null,
      "outputs": []
    },
    {
      "cell_type": "code",
      "metadata": {
        "id": "Y6lJ8oFW_Wce"
      },
      "source": [
        "print(iris_df)"
      ],
      "execution_count": null,
      "outputs": []
    },
    {
      "cell_type": "code",
      "metadata": {
        "id": "0BrwlsUh_GvB"
      },
      "source": [
        "pd.set_option('display.max_rows', 60)\n",
        "print(iris_df)"
      ],
      "execution_count": null,
      "outputs": []
    },
    {
      "cell_type": "code",
      "metadata": {
        "id": "zPvwcvORAGV0"
      },
      "source": [
        "pd.set_option('display.max_rows',iris_df.shape[0]+1)"
      ],
      "execution_count": null,
      "outputs": []
    },
    {
      "cell_type": "code",
      "metadata": {
        "id": "E8yJEOmjAPlZ"
      },
      "source": [
        "print(iris_df)"
      ],
      "execution_count": null,
      "outputs": []
    },
    {
      "cell_type": "code",
      "metadata": {
        "id": "5sF5Ow90AS-Y"
      },
      "source": [
        "pd.set_option('display.max_rows', 60)\n",
        "print(iris_df)"
      ],
      "execution_count": null,
      "outputs": []
    },
    {
      "cell_type": "markdown",
      "metadata": {
        "id": "I77wWE4Z4Lek"
      },
      "source": [
        "### Handling missing data"
      ]
    },
    {
      "cell_type": "code",
      "metadata": {
        "id": "PkeKq0sR4U7l"
      },
      "source": [
        "titanic_df = pd.read_csv('/content/drive/MyDrive/colabs_data/titanic/train.csv')\n",
        "print(titanic_df)"
      ],
      "execution_count": null,
      "outputs": []
    },
    {
      "cell_type": "code",
      "metadata": {
        "id": "EKEr_djZ4YF6"
      },
      "source": [
        "titanic_df.info()"
      ],
      "execution_count": null,
      "outputs": []
    },
    {
      "cell_type": "code",
      "metadata": {
        "id": "kmvGza34vUZ8"
      },
      "source": [
        "titanic_df.isna().any()"
      ],
      "execution_count": null,
      "outputs": []
    },
    {
      "cell_type": "code",
      "metadata": {
        "colab": {
          "base_uri": "https://localhost:8080/"
        },
        "id": "smgF6yX2v1ce",
        "outputId": "1de0071f-95db-4c23-ecee-caefb8f94f85"
      },
      "source": [
        "titanic_df.isna().sum()"
      ],
      "execution_count": null,
      "outputs": [
        {
          "output_type": "execute_result",
          "data": {
            "text/plain": [
              "PassengerId      0\n",
              "Survived         0\n",
              "Pclass           0\n",
              "Name             0\n",
              "Sex              0\n",
              "Age            177\n",
              "SibSp            0\n",
              "Parch            0\n",
              "Ticket           0\n",
              "Fare             0\n",
              "Cabin          687\n",
              "Embarked         2\n",
              "dtype: int64"
            ]
          },
          "metadata": {},
          "execution_count": 35
        }
      ]
    },
    {
      "cell_type": "markdown",
      "metadata": {
        "id": "yJiHdUddzVDd"
      },
      "source": [
        "#### dropna()"
      ]
    },
    {
      "cell_type": "code",
      "metadata": {
        "id": "rUZlbzmbzXhA"
      },
      "source": [
        "titanic_df_dropna_all = titanic_df.copy()"
      ],
      "execution_count": null,
      "outputs": []
    },
    {
      "cell_type": "code",
      "metadata": {
        "id": "Qyo6dwvSzdAU"
      },
      "source": [
        "titanic_df_dropna_all = titanic_df_dropna_all.dropna()"
      ],
      "execution_count": null,
      "outputs": []
    },
    {
      "cell_type": "code",
      "metadata": {
        "colab": {
          "base_uri": "https://localhost:8080/"
        },
        "id": "bqFZcHJOzglc",
        "outputId": "0fd2d0e2-a391-492b-8def-8458e19fb4cd"
      },
      "source": [
        "len(titanic_df)"
      ],
      "execution_count": null,
      "outputs": [
        {
          "output_type": "execute_result",
          "data": {
            "text/plain": [
              "891"
            ]
          },
          "metadata": {},
          "execution_count": 72
        }
      ]
    },
    {
      "cell_type": "code",
      "metadata": {
        "colab": {
          "base_uri": "https://localhost:8080/"
        },
        "id": "2Lv3Yj0izjbs",
        "outputId": "4fe75729-3955-488f-d81a-96abd48ee832"
      },
      "source": [
        "len(titanic_df_dropna_all)"
      ],
      "execution_count": null,
      "outputs": [
        {
          "output_type": "execute_result",
          "data": {
            "text/plain": [
              "183"
            ]
          },
          "metadata": {},
          "execution_count": 73
        }
      ]
    },
    {
      "cell_type": "code",
      "metadata": {
        "colab": {
          "base_uri": "https://localhost:8080/"
        },
        "id": "jKQClV9uz3BG",
        "outputId": "e572c23d-2543-46ac-fee8-043183914291"
      },
      "source": [
        "#drop row in which a particular column is has na\n",
        "titanic_df_dropna_embarked = titanic_df.copy()\n",
        "titanic_df_dropna_embarked = titanic_df_dropna_embarked[titanic_df_dropna_embarked[\"Embarked\"].notna()]\n",
        "len(titanic_df_dropna_embarked)"
      ],
      "execution_count": null,
      "outputs": [
        {
          "output_type": "execute_result",
          "data": {
            "text/plain": [
              "889"
            ]
          },
          "metadata": {},
          "execution_count": 78
        }
      ]
    },
    {
      "cell_type": "markdown",
      "metadata": {
        "id": "rVpAeS5H4p4O"
      },
      "source": [
        "#### fillna()"
      ]
    },
    {
      "cell_type": "code",
      "metadata": {
        "id": "bpuf3tXE6dF5"
      },
      "source": [
        "# create a copy for verfication\n",
        "titanic_df_fillna = titanic_df.copy()"
      ],
      "execution_count": null,
      "outputs": []
    },
    {
      "cell_type": "code",
      "metadata": {
        "colab": {
          "base_uri": "https://localhost:8080/"
        },
        "id": "FcHgsyTAwHVi",
        "outputId": "1d9e2246-1dcb-4fa1-c8a3-6b2029549405"
      },
      "source": [
        "titanic_df.isna().sum()"
      ],
      "execution_count": null,
      "outputs": [
        {
          "output_type": "execute_result",
          "data": {
            "text/plain": [
              "PassengerId      0\n",
              "Survived         0\n",
              "Pclass           0\n",
              "Name             0\n",
              "Sex              0\n",
              "Age            177\n",
              "SibSp            0\n",
              "Parch            0\n",
              "Ticket           0\n",
              "Fare             0\n",
              "Cabin          687\n",
              "Embarked         2\n",
              "dtype: int64"
            ]
          },
          "metadata": {},
          "execution_count": 36
        }
      ]
    },
    {
      "cell_type": "code",
      "metadata": {
        "id": "jKJBtDCc5hXv",
        "colab": {
          "base_uri": "https://localhost:8080/"
        },
        "outputId": "35309743-c8e8-43a5-96a1-a0bb3c913a51"
      },
      "source": [
        "# count of missing cabin values\n",
        "titanic_df[\"Cabin\"].isnull().sum()"
      ],
      "execution_count": null,
      "outputs": [
        {
          "output_type": "execute_result",
          "data": {
            "text/plain": [
              "687"
            ]
          },
          "metadata": {},
          "execution_count": 9
        }
      ]
    },
    {
      "cell_type": "code",
      "metadata": {
        "id": "5RMurviW8oXK",
        "colab": {
          "base_uri": "https://localhost:8080/"
        },
        "outputId": "d9414b4e-2d5d-47e6-cca6-aeac30a860d2"
      },
      "source": [
        "titanic_df[\"Cabin\"]"
      ],
      "execution_count": null,
      "outputs": [
        {
          "output_type": "execute_result",
          "data": {
            "text/plain": [
              "0       NaN\n",
              "1       C85\n",
              "2       NaN\n",
              "3      C123\n",
              "4       NaN\n",
              "       ... \n",
              "886     NaN\n",
              "887     B42\n",
              "888     NaN\n",
              "889    C148\n",
              "890     NaN\n",
              "Name: Cabin, Length: 891, dtype: object"
            ]
          },
          "metadata": {},
          "execution_count": 10
        }
      ]
    },
    {
      "cell_type": "code",
      "metadata": {
        "id": "RX3Ulagd6AYP"
      },
      "source": [
        "#fillna\n",
        "titanic_df_fillna[\"Cabin\"] = titanic_df_fillna[\"Cabin\"].fillna(\"U0\")"
      ],
      "execution_count": null,
      "outputs": []
    },
    {
      "cell_type": "code",
      "metadata": {
        "id": "-nVMfNGu88Cq",
        "colab": {
          "base_uri": "https://localhost:8080/"
        },
        "outputId": "17728a6d-b374-4e7d-9e89-a714618beaad"
      },
      "source": [
        "titanic_df[\"Cabin\"]"
      ],
      "execution_count": null,
      "outputs": [
        {
          "output_type": "execute_result",
          "data": {
            "text/plain": [
              "0       NaN\n",
              "1       C85\n",
              "2       NaN\n",
              "3      C123\n",
              "4       NaN\n",
              "       ... \n",
              "886     NaN\n",
              "887     B42\n",
              "888     NaN\n",
              "889    C148\n",
              "890     NaN\n",
              "Name: Cabin, Length: 891, dtype: object"
            ]
          },
          "metadata": {},
          "execution_count": 12
        }
      ]
    },
    {
      "cell_type": "code",
      "metadata": {
        "id": "RwTEwdvf84yi",
        "colab": {
          "base_uri": "https://localhost:8080/"
        },
        "outputId": "7b4a7440-fa74-4232-a296-cc068140e886"
      },
      "source": [
        "titanic_df_fillna[\"Cabin\"]"
      ],
      "execution_count": null,
      "outputs": [
        {
          "output_type": "execute_result",
          "data": {
            "text/plain": [
              "0        U0\n",
              "1       C85\n",
              "2        U0\n",
              "3      C123\n",
              "4        U0\n",
              "       ... \n",
              "886      U0\n",
              "887     B42\n",
              "888      U0\n",
              "889    C148\n",
              "890      U0\n",
              "Name: Cabin, Length: 891, dtype: object"
            ]
          },
          "metadata": {},
          "execution_count": 13
        }
      ]
    },
    {
      "cell_type": "code",
      "metadata": {
        "id": "h4yax54T6JYt",
        "colab": {
          "base_uri": "https://localhost:8080/"
        },
        "outputId": "575c27be-6a26-42fe-bfc2-5a030f968644"
      },
      "source": [
        "titanic_df[\"Cabin\"].isnull().sum()"
      ],
      "execution_count": null,
      "outputs": [
        {
          "output_type": "execute_result",
          "data": {
            "text/plain": [
              "687"
            ]
          },
          "metadata": {},
          "execution_count": 14
        }
      ]
    },
    {
      "cell_type": "code",
      "metadata": {
        "id": "F9bqknZF8SqR",
        "colab": {
          "base_uri": "https://localhost:8080/"
        },
        "outputId": "7fb0dcb4-1ed5-4e4a-e60b-c3b4f55d23e6"
      },
      "source": [
        "titanic_df_fillna[\"Cabin\"].isnull().sum()"
      ],
      "execution_count": null,
      "outputs": [
        {
          "output_type": "execute_result",
          "data": {
            "text/plain": [
              "0"
            ]
          },
          "metadata": {},
          "execution_count": 15
        }
      ]
    },
    {
      "cell_type": "markdown",
      "metadata": {
        "id": "DyNl_sYtBvJ6"
      },
      "source": [
        "##### Handling multiple fillna"
      ]
    },
    {
      "cell_type": "code",
      "metadata": {
        "id": "xLQmzxwJ9trV"
      },
      "source": [
        "titanic_df_fillna2 = titanic_df.copy()"
      ],
      "execution_count": null,
      "outputs": []
    },
    {
      "cell_type": "code",
      "metadata": {
        "id": "fuppeSNj97Ry"
      },
      "source": [
        "titanic_df_fillna2.info()"
      ],
      "execution_count": null,
      "outputs": []
    },
    {
      "cell_type": "code",
      "metadata": {
        "id": "UKV5zcNiB4Fq",
        "colab": {
          "base_uri": "https://localhost:8080/"
        },
        "outputId": "0a181162-67f1-4488-e7cb-2c0c7c1f46fa"
      },
      "source": [
        "titanic_df_fillna2[\"Cabin\"]"
      ],
      "execution_count": null,
      "outputs": [
        {
          "output_type": "execute_result",
          "data": {
            "text/plain": [
              "0       NaN\n",
              "1       C85\n",
              "2       NaN\n",
              "3      C123\n",
              "4       NaN\n",
              "       ... \n",
              "886     NaN\n",
              "887     B42\n",
              "888     NaN\n",
              "889    C148\n",
              "890     NaN\n",
              "Name: Cabin, Length: 891, dtype: object"
            ]
          },
          "metadata": {},
          "execution_count": 21
        }
      ]
    },
    {
      "cell_type": "code",
      "metadata": {
        "id": "_5xjY49TB8_r",
        "colab": {
          "base_uri": "https://localhost:8080/"
        },
        "outputId": "496ec8b5-47e5-4534-81c4-cd6323616098"
      },
      "source": [
        "titanic_df_fillna2[\"Age\"]"
      ],
      "execution_count": null,
      "outputs": [
        {
          "output_type": "execute_result",
          "data": {
            "text/plain": [
              "0      22.0\n",
              "1      38.0\n",
              "2      26.0\n",
              "3      35.0\n",
              "4      35.0\n",
              "       ... \n",
              "886    27.0\n",
              "887    19.0\n",
              "888     NaN\n",
              "889    26.0\n",
              "890    32.0\n",
              "Name: Age, Length: 891, dtype: float64"
            ]
          },
          "metadata": {},
          "execution_count": 23
        }
      ]
    },
    {
      "cell_type": "code",
      "metadata": {
        "id": "HV-OmiDsrb69"
      },
      "source": [
        "# fillna in multiple columns\n",
        "titanic_df_fillna2.fillna({\"Cabin\":\"U0\",\"Age\":\"18\"})"
      ],
      "execution_count": null,
      "outputs": []
    },
    {
      "cell_type": "markdown",
      "metadata": {
        "id": "oRLPJMSqNz-W"
      },
      "source": [
        "##### fillna with mean values"
      ]
    },
    {
      "cell_type": "code",
      "metadata": {
        "id": "i1XNJJ2z1_fp"
      },
      "source": [
        "# fillna for age with mean values\n",
        "titanic_df_fillna_mean_age = titanic_df.copy()"
      ],
      "execution_count": null,
      "outputs": []
    },
    {
      "cell_type": "code",
      "metadata": {
        "colab": {
          "base_uri": "https://localhost:8080/"
        },
        "id": "p5ecN46k2fTK",
        "outputId": "79553cd2-f93c-4538-e7b6-522f991f20e4"
      },
      "source": [
        "mean_age = titanic_df[\"Age\"].mean()\n",
        "mean_age"
      ],
      "execution_count": null,
      "outputs": [
        {
          "output_type": "execute_result",
          "data": {
            "text/plain": [
              "29.69911764705882"
            ]
          },
          "metadata": {},
          "execution_count": 85
        }
      ]
    },
    {
      "cell_type": "code",
      "metadata": {
        "id": "pI1DLMea2_UC"
      },
      "source": [
        "titanic_df_fillna_mean_age[\"Age\"].fillna(round(mean_age))"
      ],
      "execution_count": null,
      "outputs": []
    },
    {
      "cell_type": "markdown",
      "metadata": {
        "id": "bhFB4gyxN65L"
      },
      "source": [
        "##### forward fill"
      ]
    },
    {
      "cell_type": "code",
      "metadata": {
        "id": "vzDmixKs4ctx"
      },
      "source": [
        "# fillna for age with forward fill\n",
        "titanic_df_fillna_ffill = titanic_df.copy()"
      ],
      "execution_count": null,
      "outputs": []
    },
    {
      "cell_type": "code",
      "metadata": {
        "id": "iVzGOAkY4iSh",
        "colab": {
          "base_uri": "https://localhost:8080/"
        },
        "outputId": "0c15204e-5d53-4b7b-e7f3-4591bd093af1"
      },
      "source": [
        "titanic_df_fillna_ffill[\"Age\"].fillna(method=\"ffill\")"
      ],
      "execution_count": null,
      "outputs": [
        {
          "output_type": "execute_result",
          "data": {
            "text/plain": [
              "0      22.0\n",
              "1      38.0\n",
              "2      26.0\n",
              "3      35.0\n",
              "4      35.0\n",
              "       ... \n",
              "886    27.0\n",
              "887    19.0\n",
              "888    19.0\n",
              "889    26.0\n",
              "890    32.0\n",
              "Name: Age, Length: 891, dtype: float64"
            ]
          },
          "metadata": {},
          "execution_count": 88
        }
      ]
    },
    {
      "cell_type": "markdown",
      "metadata": {
        "id": "-OGSmjRkN_Wq"
      },
      "source": [
        "##### backward fill"
      ]
    },
    {
      "cell_type": "code",
      "metadata": {
        "id": "Vy5Vcz9x4sw8"
      },
      "source": [
        "# fillna for age with backword fill\n",
        "titanic_df_fillna_bfill = titanic_df.copy()"
      ],
      "execution_count": null,
      "outputs": []
    },
    {
      "cell_type": "code",
      "metadata": {
        "id": "7tT08sdz42Fl",
        "colab": {
          "base_uri": "https://localhost:8080/"
        },
        "outputId": "03c38031-d74e-4c90-8dc6-54b26d31ebac"
      },
      "source": [
        "titanic_df_fillna_bfill[\"Age\"].fillna(method=\"bfill\")"
      ],
      "execution_count": null,
      "outputs": [
        {
          "output_type": "execute_result",
          "data": {
            "text/plain": [
              "0      22.0\n",
              "1      38.0\n",
              "2      26.0\n",
              "3      35.0\n",
              "4      35.0\n",
              "       ... \n",
              "886    27.0\n",
              "887    19.0\n",
              "888    26.0\n",
              "889    26.0\n",
              "890    32.0\n",
              "Name: Age, Length: 891, dtype: float64"
            ]
          },
          "metadata": {},
          "execution_count": 91
        }
      ]
    },
    {
      "cell_type": "markdown",
      "metadata": {
        "id": "Nvf3neHFRSno"
      },
      "source": [
        "##### fill previous column value .\n",
        "##### fill next column value"
      ]
    },
    {
      "cell_type": "code",
      "metadata": {
        "id": "jl4-7kAERdXl"
      },
      "source": [
        "titanic_df_fillna_column = titanic_df.copy()"
      ],
      "execution_count": 46,
      "outputs": []
    },
    {
      "cell_type": "code",
      "metadata": {
        "id": "IrGOuoqPU1JT"
      },
      "source": [
        "titanic_df_fillna_index.columns"
      ],
      "execution_count": null,
      "outputs": []
    },
    {
      "cell_type": "code",
      "metadata": {
        "id": "FNz2385DT8VE"
      },
      "source": [
        "titanic_df_fillna_index[[\"Sex\",\"Age\",\"SibSp\"]]"
      ],
      "execution_count": null,
      "outputs": []
    },
    {
      "cell_type": "code",
      "metadata": {
        "id": "JUx6qxvHRgWg"
      },
      "source": [
        "titanic_df_fillna_previous= titanic_df_fillna_index.fillna(method=\"bfill\", axis=\"columns\") \n",
        "titanic_df_fillna_next= titanic_df_fillna_index.fillna(method=\"ffill\", axis=\"columns\") "
      ],
      "execution_count": 53,
      "outputs": []
    },
    {
      "cell_type": "code",
      "metadata": {
        "id": "Cjbv-cGWUSGz"
      },
      "source": [
        "titanic_df_fillna_previous[[\"Sex\",\"Age\",\"SibSp\"]]"
      ],
      "execution_count": null,
      "outputs": []
    },
    {
      "cell_type": "code",
      "metadata": {
        "id": "eDZyxsaJVtmC"
      },
      "source": [
        "titanic_df_fillna_next[[\"Sex\",\"Age\",\"SibSp\"]]"
      ],
      "execution_count": null,
      "outputs": []
    },
    {
      "cell_type": "markdown",
      "metadata": {
        "id": "_eZeNScDXYEn"
      },
      "source": [
        "#### Interpolate"
      ]
    },
    {
      "cell_type": "code",
      "metadata": {
        "id": "Buj41hEgXXYN"
      },
      "source": [
        "titanic_df_interpolate = titanic_df.interpolate()"
      ],
      "execution_count": 56,
      "outputs": []
    },
    {
      "cell_type": "code",
      "metadata": {
        "id": "aFS3yAQeXjpm"
      },
      "source": [
        "titanic_df[[\"Age\",\"Cabin\",\"Embarked\"]]"
      ],
      "execution_count": null,
      "outputs": []
    },
    {
      "cell_type": "code",
      "metadata": {
        "colab": {
          "base_uri": "https://localhost:8080/",
          "height": 423
        },
        "id": "FKWdaJNiXrsR",
        "outputId": "a36515c3-a35f-49c9-c3ff-a4ff2c5c8890"
      },
      "source": [
        "titanic_df_interpolate[[\"Age\",\"Cabin\",\"Embarked\"]]"
      ],
      "execution_count": 61,
      "outputs": [
        {
          "output_type": "execute_result",
          "data": {
            "text/html": [
              "<div>\n",
              "<style scoped>\n",
              "    .dataframe tbody tr th:only-of-type {\n",
              "        vertical-align: middle;\n",
              "    }\n",
              "\n",
              "    .dataframe tbody tr th {\n",
              "        vertical-align: top;\n",
              "    }\n",
              "\n",
              "    .dataframe thead th {\n",
              "        text-align: right;\n",
              "    }\n",
              "</style>\n",
              "<table border=\"1\" class=\"dataframe\">\n",
              "  <thead>\n",
              "    <tr style=\"text-align: right;\">\n",
              "      <th></th>\n",
              "      <th>Age</th>\n",
              "      <th>Cabin</th>\n",
              "      <th>Embarked</th>\n",
              "    </tr>\n",
              "  </thead>\n",
              "  <tbody>\n",
              "    <tr>\n",
              "      <th>0</th>\n",
              "      <td>22.0</td>\n",
              "      <td>NaN</td>\n",
              "      <td>S</td>\n",
              "    </tr>\n",
              "    <tr>\n",
              "      <th>1</th>\n",
              "      <td>38.0</td>\n",
              "      <td>C85</td>\n",
              "      <td>C</td>\n",
              "    </tr>\n",
              "    <tr>\n",
              "      <th>2</th>\n",
              "      <td>26.0</td>\n",
              "      <td>NaN</td>\n",
              "      <td>S</td>\n",
              "    </tr>\n",
              "    <tr>\n",
              "      <th>3</th>\n",
              "      <td>35.0</td>\n",
              "      <td>C123</td>\n",
              "      <td>S</td>\n",
              "    </tr>\n",
              "    <tr>\n",
              "      <th>4</th>\n",
              "      <td>35.0</td>\n",
              "      <td>NaN</td>\n",
              "      <td>S</td>\n",
              "    </tr>\n",
              "    <tr>\n",
              "      <th>...</th>\n",
              "      <td>...</td>\n",
              "      <td>...</td>\n",
              "      <td>...</td>\n",
              "    </tr>\n",
              "    <tr>\n",
              "      <th>886</th>\n",
              "      <td>27.0</td>\n",
              "      <td>NaN</td>\n",
              "      <td>S</td>\n",
              "    </tr>\n",
              "    <tr>\n",
              "      <th>887</th>\n",
              "      <td>19.0</td>\n",
              "      <td>B42</td>\n",
              "      <td>S</td>\n",
              "    </tr>\n",
              "    <tr>\n",
              "      <th>888</th>\n",
              "      <td>22.5</td>\n",
              "      <td>NaN</td>\n",
              "      <td>S</td>\n",
              "    </tr>\n",
              "    <tr>\n",
              "      <th>889</th>\n",
              "      <td>26.0</td>\n",
              "      <td>C148</td>\n",
              "      <td>C</td>\n",
              "    </tr>\n",
              "    <tr>\n",
              "      <th>890</th>\n",
              "      <td>32.0</td>\n",
              "      <td>NaN</td>\n",
              "      <td>Q</td>\n",
              "    </tr>\n",
              "  </tbody>\n",
              "</table>\n",
              "<p>891 rows × 3 columns</p>\n",
              "</div>"
            ],
            "text/plain": [
              "      Age Cabin Embarked\n",
              "0    22.0   NaN        S\n",
              "1    38.0   C85        C\n",
              "2    26.0   NaN        S\n",
              "3    35.0  C123        S\n",
              "4    35.0   NaN        S\n",
              "..    ...   ...      ...\n",
              "886  27.0   NaN        S\n",
              "887  19.0   B42        S\n",
              "888  22.5   NaN        S\n",
              "889  26.0  C148        C\n",
              "890  32.0   NaN        Q\n",
              "\n",
              "[891 rows x 3 columns]"
            ]
          },
          "metadata": {},
          "execution_count": 61
        }
      ]
    },
    {
      "cell_type": "markdown",
      "metadata": {
        "id": "EI66L9k_YnGy"
      },
      "source": [
        "#### replace()"
      ]
    },
    {
      "cell_type": "code",
      "metadata": {
        "id": "_vetT4YYYvMr"
      },
      "source": [
        "import numpy as np\n",
        "titanic_df_replace = titanic_df.copy()"
      ],
      "execution_count": 62,
      "outputs": []
    },
    {
      "cell_type": "code",
      "metadata": {
        "id": "NqQZakpNZT0T"
      },
      "source": [
        "titanic_df_replace[\"Cabin\"] = titanic_df_replace[\"Cabin\"].replace(np.NaN, \"Unknown\")"
      ],
      "execution_count": 63,
      "outputs": []
    },
    {
      "cell_type": "code",
      "metadata": {
        "id": "79r1RvJWZ4Yh"
      },
      "source": [
        "titanic_df_replace[\"Cabin\"]"
      ],
      "execution_count": null,
      "outputs": []
    },
    {
      "cell_type": "code",
      "metadata": {
        "id": "LCQnD1IaaDlq"
      },
      "source": [
        "titanic_df_replace2 = titanic_df.copy()"
      ],
      "execution_count": 70,
      "outputs": []
    },
    {
      "cell_type": "code",
      "metadata": {
        "id": "EM3VG-dQaErb"
      },
      "source": [
        "titanic_df_replace2 = titanic_df_replace2.replace({\"Cabin\":np.NaN,\"Embarked\":np.NaN},\"Unknown\")"
      ],
      "execution_count": 71,
      "outputs": []
    },
    {
      "cell_type": "code",
      "metadata": {
        "id": "jNZnLG9XbDW2"
      },
      "source": [
        "titanic_df_replace2[[\"Age\",\"Cabin\",\"Embarked\"]]"
      ],
      "execution_count": null,
      "outputs": []
    },
    {
      "cell_type": "code",
      "metadata": {
        "id": "lD1_KRYPbNBg"
      },
      "source": [
        "titanic_df_replace2[titanic_df_replace2[\"Embarked\"]==\"Unknown\"]"
      ],
      "execution_count": null,
      "outputs": []
    },
    {
      "cell_type": "markdown",
      "metadata": {
        "id": "Itgutb2IcR7j"
      },
      "source": [
        "#### regex()"
      ]
    },
    {
      "cell_type": "code",
      "metadata": {
        "id": "-TWPw01xcTxl"
      },
      "source": [
        "titanic_df_regex = titanic_df.copy()"
      ],
      "execution_count": 134,
      "outputs": []
    },
    {
      "cell_type": "code",
      "metadata": {
        "id": "czjTF5TacXse"
      },
      "source": [
        "titanic_df_regex[titanic_df_regex[\"Age\"].between(20,25)]"
      ],
      "execution_count": null,
      "outputs": []
    },
    {
      "cell_type": "code",
      "metadata": {
        "id": "UJniN3wkhDjU"
      },
      "source": [
        "titanic_df_regex[titanic_df_regex[\"Age\"] == 15]"
      ],
      "execution_count": null,
      "outputs": []
    },
    {
      "cell_type": "code",
      "metadata": {
        "id": "0n_IaKoMc3_3"
      },
      "source": [
        "titanic_df_regex[\"Age\"] =  titanic_df_regex[\"Age\"].replace(15,\"15 years\")"
      ],
      "execution_count": 137,
      "outputs": []
    },
    {
      "cell_type": "code",
      "metadata": {
        "id": "3-Qbljr8gdYy"
      },
      "source": [
        "titanic_df_regex[titanic_df_regex[\"Age\"]==\"15 years\"]"
      ],
      "execution_count": null,
      "outputs": []
    },
    {
      "cell_type": "code",
      "metadata": {
        "id": "NxeQL6Z8htgj"
      },
      "source": [
        "titanic_df_regex[titanic_df_regex[\"Age\"].between(20,25)]"
      ],
      "execution_count": null,
      "outputs": []
    },
    {
      "cell_type": "code",
      "metadata": {
        "id": "JORCeARQhwJ7"
      },
      "source": [
        "titanic_df_regex= titanic_df_regex.replace(to_replace ={'Age':'[A-Za-z]'}, value = '', regex = True)"
      ],
      "execution_count": 155,
      "outputs": []
    },
    {
      "cell_type": "code",
      "metadata": {
        "id": "d4vzuPHzjAwG"
      },
      "source": [
        "new_df[new_df[\"Age\"]==\"15 years\"]"
      ],
      "execution_count": null,
      "outputs": []
    },
    {
      "cell_type": "code",
      "metadata": {
        "id": "U1IpInkomPSK"
      },
      "source": [
        "titanic_df_regex[titanic_df_regex[\"Age\"].between(20,25)]"
      ],
      "execution_count": null,
      "outputs": []
    },
    {
      "cell_type": "code",
      "metadata": {
        "id": "rpI3uZ1fiwhs"
      },
      "source": [
        "titanic_df_regex[\"Age\"] = titanic_df_regex[\"Age\"].astype(float)"
      ],
      "execution_count": 156,
      "outputs": []
    },
    {
      "cell_type": "code",
      "metadata": {
        "id": "REwYX4r2mZOn"
      },
      "source": [
        "titanic_df_regex[titanic_df_regex[\"Age\"].between(20,25)]"
      ],
      "execution_count": null,
      "outputs": []
    },
    {
      "cell_type": "markdown",
      "metadata": {
        "id": "YgAe9YzznJkY"
      },
      "source": [
        "##### replace with list"
      ]
    },
    {
      "cell_type": "code",
      "metadata": {
        "id": "bDuMfLpXnKh3"
      },
      "source": [
        "state_df = pd.DataFrame({'state':['Puduchery','Kerala','Tamilnadu','goa','Rajasthan'],'size':['Small', 'Medium', 'Large', 'Small', 'Large']})"
      ],
      "execution_count": 178,
      "outputs": []
    },
    {
      "cell_type": "code",
      "metadata": {
        "id": "7pZjKFrCnRbB"
      },
      "source": [
        "state_df"
      ],
      "execution_count": null,
      "outputs": []
    },
    {
      "cell_type": "code",
      "metadata": {
        "id": "agNOaBuypi7d"
      },
      "source": [
        "state_df1 = state_df.replace(['Small', 'Medium', 'Large'],[1,2,3])"
      ],
      "execution_count": 180,
      "outputs": []
    },
    {
      "cell_type": "code",
      "metadata": {
        "id": "4hLfxDxUp3ud"
      },
      "source": [
        "state_df1"
      ],
      "execution_count": null,
      "outputs": []
    },
    {
      "cell_type": "code",
      "metadata": {
        "id": "3AiUbh1sqF0V"
      },
      "source": [
        "state_df2 = state_df.replace({\"size\":{'Small' : 1, 'Medium' : 2, 'Large' : 3 }})"
      ],
      "execution_count": 182,
      "outputs": []
    },
    {
      "cell_type": "code",
      "metadata": {
        "id": "XWncEfa9qXgK"
      },
      "source": [
        "state_df2"
      ],
      "execution_count": null,
      "outputs": []
    },
    {
      "cell_type": "markdown",
      "metadata": {
        "id": "mZp1yVcVtZrQ"
      },
      "source": [
        "#### groupby()"
      ]
    },
    {
      "cell_type": "code",
      "metadata": {
        "id": "t81ALCcHuJFj"
      },
      "source": [
        "titanic_df.info()"
      ],
      "execution_count": null,
      "outputs": []
    },
    {
      "cell_type": "code",
      "metadata": {
        "id": "mqLh8Sfjw3HR"
      },
      "source": [
        "titanic_df_groupby = titanic_df.copy()"
      ],
      "execution_count": 207,
      "outputs": []
    },
    {
      "cell_type": "code",
      "metadata": {
        "id": "bKTg8Zb3w9D2"
      },
      "source": [
        "titanic_df_groupby = titanic_df_groupby.dropna()"
      ],
      "execution_count": 208,
      "outputs": []
    },
    {
      "cell_type": "code",
      "metadata": {
        "id": "PsQol0latZGT"
      },
      "source": [
        "titanic_df_groupby = titanic_df_groupby.groupby(\"Embarked\")"
      ],
      "execution_count": 209,
      "outputs": []
    },
    {
      "cell_type": "code",
      "metadata": {
        "id": "BYC3d8Art7JG"
      },
      "source": [
        "for embarked, embarked_df in titanic_df_groupby:\n",
        "  print(embarked)\n",
        "  print(embarked_df)"
      ],
      "execution_count": null,
      "outputs": []
    },
    {
      "cell_type": "code",
      "metadata": {
        "id": "Te1uXQ_7uoGV"
      },
      "source": [
        "titanic_df_groupby.get_group(\"S\")"
      ],
      "execution_count": null,
      "outputs": []
    },
    {
      "cell_type": "code",
      "metadata": {
        "id": "PGaH5Dcou-nQ"
      },
      "source": [
        "titanic_df_groupby.max()"
      ],
      "execution_count": null,
      "outputs": []
    },
    {
      "cell_type": "code",
      "metadata": {
        "id": "y2V5PKcBxWGp"
      },
      "source": [
        "titanic_df_groupby.min()"
      ],
      "execution_count": null,
      "outputs": []
    }
  ]
}