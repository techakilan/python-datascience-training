{
  "nbformat": 4,
  "nbformat_minor": 0,
  "metadata": {
    "colab": {
      "name": "Tutorial1.ipynb",
      "provenance": [],
      "authorship_tag": "ABX9TyNxaYvBb/CggdUKlHg8e2u/",
      "include_colab_link": true
    },
    "kernelspec": {
      "name": "python3",
      "display_name": "Python 3"
    },
    "language_info": {
      "name": "python"
    }
  },
  "cells": [
    {
      "cell_type": "markdown",
      "metadata": {
        "id": "view-in-github",
        "colab_type": "text"
      },
      "source": [
        "<a href=\"https://colab.research.google.com/github/techakilan/python-datascience-training/blob/master/Tutorial1.ipynb\" target=\"_parent\"><img src=\"https://colab.research.google.com/assets/colab-badge.svg\" alt=\"Open In Colab\"/></a>"
      ]
    },
    {
      "cell_type": "markdown",
      "metadata": {
        "id": "YczM1iJBiXgV"
      },
      "source": [
        "# Hello world"
      ]
    },
    {
      "cell_type": "code",
      "metadata": {
        "id": "X3ZqaVk0icgr",
        "colab": {
          "base_uri": "https://localhost:8080/"
        },
        "outputId": "79a2665d-d3dd-4fe4-acaf-58db61c05ca1"
      },
      "source": [
        "print (\"Hello World\")"
      ],
      "execution_count": null,
      "outputs": [
        {
          "output_type": "stream",
          "name": "stdout",
          "text": [
            "Hello World\n"
          ]
        }
      ]
    },
    {
      "cell_type": "markdown",
      "metadata": {
        "id": "u-qW4aF9iWyG"
      },
      "source": [
        ""
      ]
    }
  ]
}