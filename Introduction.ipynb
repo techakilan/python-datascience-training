{
  "nbformat": 4,
  "nbformat_minor": 0,
  "metadata": {
    "colab": {
      "name": "Introduction.ipynb",
      "provenance": [],
      "authorship_tag": "ABX9TyMI4r62VoZYVq7kxJCfgG7P",
      "include_colab_link": true
    },
    "kernelspec": {
      "name": "python3",
      "display_name": "Python 3"
    },
    "language_info": {
      "name": "python"
    }
  },
  "cells": [
    {
      "cell_type": "markdown",
      "metadata": {
        "id": "view-in-github",
        "colab_type": "text"
      },
      "source": [
        "<a href=\"https://colab.research.google.com/github/techakilan/python-datascience-training/blob/master/Introduction.ipynb\" target=\"_parent\"><img src=\"https://colab.research.google.com/assets/colab-badge.svg\" alt=\"Open In Colab\"/></a>"
      ]
    },
    {
      "cell_type": "markdown",
      "metadata": {
        "id": "nGrN62X4J9U_"
      },
      "source": [
        "## Mount google drive"
      ]
    },
    {
      "cell_type": "code",
      "metadata": {
        "colab": {
          "base_uri": "https://localhost:8080/"
        },
        "id": "b-dAcHCPaPS6",
        "outputId": "69c84c34-da5d-4e04-aae2-c579be049302"
      },
      "source": [
        "from google.colab import drive\n",
        "drive.mount('/content/drive')"
      ],
      "execution_count": 2,
      "outputs": [
        {
          "output_type": "stream",
          "name": "stdout",
          "text": [
            "Mounted at /content/drive\n"
          ]
        }
      ]
    },
    {
      "cell_type": "markdown",
      "metadata": {
        "id": "-V7F4wN7KMrG"
      },
      "source": [
        "### Import csv file and create dataframe"
      ]
    },
    {
      "cell_type": "code",
      "metadata": {
        "id": "3AHkvB7DrTa_"
      },
      "source": [
        "import pandas as pd"
      ],
      "execution_count": 4,
      "outputs": []
    },
    {
      "cell_type": "code",
      "metadata": {
        "colab": {
          "base_uri": "https://localhost:8080/",
          "height": 424
        },
        "id": "T8bB7Kw9rZni",
        "outputId": "be1f7953-9e61-4478-aa7c-471fa0018138"
      },
      "source": [
        "# https://drive.google.com/file/d/1ftrn6Etbwuln6hT5bzluLKfdOVcuUlxh/view?usp=sharing\n",
        "\n",
        "\n",
        "iris_df = pd.read_csv('/content/drive/MyDrive/colabs_data/Iris.csv')\n",
        "iris_df"
      ],
      "execution_count": 5,
      "outputs": [
        {
          "output_type": "execute_result",
          "data": {
            "text/html": [
              "<div>\n",
              "<style scoped>\n",
              "    .dataframe tbody tr th:only-of-type {\n",
              "        vertical-align: middle;\n",
              "    }\n",
              "\n",
              "    .dataframe tbody tr th {\n",
              "        vertical-align: top;\n",
              "    }\n",
              "\n",
              "    .dataframe thead th {\n",
              "        text-align: right;\n",
              "    }\n",
              "</style>\n",
              "<table border=\"1\" class=\"dataframe\">\n",
              "  <thead>\n",
              "    <tr style=\"text-align: right;\">\n",
              "      <th></th>\n",
              "      <th>Id</th>\n",
              "      <th>SepalLengthCm</th>\n",
              "      <th>SepalWidthCm</th>\n",
              "      <th>PetalLengthCm</th>\n",
              "      <th>PetalWidthCm</th>\n",
              "      <th>Species</th>\n",
              "    </tr>\n",
              "  </thead>\n",
              "  <tbody>\n",
              "    <tr>\n",
              "      <th>0</th>\n",
              "      <td>1</td>\n",
              "      <td>5.1</td>\n",
              "      <td>3.5</td>\n",
              "      <td>1.4</td>\n",
              "      <td>0.2</td>\n",
              "      <td>Iris-setosa</td>\n",
              "    </tr>\n",
              "    <tr>\n",
              "      <th>1</th>\n",
              "      <td>2</td>\n",
              "      <td>4.9</td>\n",
              "      <td>3.0</td>\n",
              "      <td>1.4</td>\n",
              "      <td>0.2</td>\n",
              "      <td>Iris-setosa</td>\n",
              "    </tr>\n",
              "    <tr>\n",
              "      <th>2</th>\n",
              "      <td>3</td>\n",
              "      <td>4.7</td>\n",
              "      <td>3.2</td>\n",
              "      <td>1.3</td>\n",
              "      <td>0.2</td>\n",
              "      <td>Iris-setosa</td>\n",
              "    </tr>\n",
              "    <tr>\n",
              "      <th>3</th>\n",
              "      <td>4</td>\n",
              "      <td>4.6</td>\n",
              "      <td>3.1</td>\n",
              "      <td>1.5</td>\n",
              "      <td>0.2</td>\n",
              "      <td>Iris-setosa</td>\n",
              "    </tr>\n",
              "    <tr>\n",
              "      <th>4</th>\n",
              "      <td>5</td>\n",
              "      <td>5.0</td>\n",
              "      <td>3.6</td>\n",
              "      <td>1.4</td>\n",
              "      <td>0.2</td>\n",
              "      <td>Iris-setosa</td>\n",
              "    </tr>\n",
              "    <tr>\n",
              "      <th>...</th>\n",
              "      <td>...</td>\n",
              "      <td>...</td>\n",
              "      <td>...</td>\n",
              "      <td>...</td>\n",
              "      <td>...</td>\n",
              "      <td>...</td>\n",
              "    </tr>\n",
              "    <tr>\n",
              "      <th>145</th>\n",
              "      <td>146</td>\n",
              "      <td>6.7</td>\n",
              "      <td>3.0</td>\n",
              "      <td>5.2</td>\n",
              "      <td>2.3</td>\n",
              "      <td>Iris-virginica</td>\n",
              "    </tr>\n",
              "    <tr>\n",
              "      <th>146</th>\n",
              "      <td>147</td>\n",
              "      <td>6.3</td>\n",
              "      <td>2.5</td>\n",
              "      <td>5.0</td>\n",
              "      <td>1.9</td>\n",
              "      <td>Iris-virginica</td>\n",
              "    </tr>\n",
              "    <tr>\n",
              "      <th>147</th>\n",
              "      <td>148</td>\n",
              "      <td>6.5</td>\n",
              "      <td>3.0</td>\n",
              "      <td>5.2</td>\n",
              "      <td>2.0</td>\n",
              "      <td>Iris-virginica</td>\n",
              "    </tr>\n",
              "    <tr>\n",
              "      <th>148</th>\n",
              "      <td>149</td>\n",
              "      <td>6.2</td>\n",
              "      <td>3.4</td>\n",
              "      <td>5.4</td>\n",
              "      <td>2.3</td>\n",
              "      <td>Iris-virginica</td>\n",
              "    </tr>\n",
              "    <tr>\n",
              "      <th>149</th>\n",
              "      <td>150</td>\n",
              "      <td>5.9</td>\n",
              "      <td>3.0</td>\n",
              "      <td>5.1</td>\n",
              "      <td>1.8</td>\n",
              "      <td>Iris-virginica</td>\n",
              "    </tr>\n",
              "  </tbody>\n",
              "</table>\n",
              "<p>150 rows × 6 columns</p>\n",
              "</div>"
            ],
            "text/plain": [
              "      Id  SepalLengthCm  ...  PetalWidthCm         Species\n",
              "0      1            5.1  ...           0.2     Iris-setosa\n",
              "1      2            4.9  ...           0.2     Iris-setosa\n",
              "2      3            4.7  ...           0.2     Iris-setosa\n",
              "3      4            4.6  ...           0.2     Iris-setosa\n",
              "4      5            5.0  ...           0.2     Iris-setosa\n",
              "..   ...            ...  ...           ...             ...\n",
              "145  146            6.7  ...           2.3  Iris-virginica\n",
              "146  147            6.3  ...           1.9  Iris-virginica\n",
              "147  148            6.5  ...           2.0  Iris-virginica\n",
              "148  149            6.2  ...           2.3  Iris-virginica\n",
              "149  150            5.9  ...           1.8  Iris-virginica\n",
              "\n",
              "[150 rows x 6 columns]"
            ]
          },
          "metadata": {},
          "execution_count": 5
        }
      ]
    },
    {
      "cell_type": "markdown",
      "metadata": {
        "id": "f8nM2kgdKVqM"
      },
      "source": [
        "### Create sqllite database"
      ]
    },
    {
      "cell_type": "code",
      "metadata": {
        "colab": {
          "base_uri": "https://localhost:8080/"
        },
        "id": "jXU28XeSAZPo",
        "outputId": "5a522c9e-d2bd-428d-e92a-82ad26cc01f0"
      },
      "source": [
        "import sqlite3\n",
        "\n",
        "conn = sqlite3.connect('intro.db')\n",
        "print (\"Successfully connected to the database\")"
      ],
      "execution_count": 18,
      "outputs": [
        {
          "output_type": "stream",
          "name": "stdout",
          "text": [
            "Successfully connected to the database\n"
          ]
        }
      ]
    },
    {
      "cell_type": "markdown",
      "metadata": {
        "id": "V1iCAWDdKkTM"
      },
      "source": [
        "### Import sql to populate database"
      ]
    },
    {
      "cell_type": "code",
      "metadata": {
        "colab": {
          "base_uri": "https://localhost:8080/"
        },
        "id": "tVdm0EzaAcN9",
        "outputId": "c0605bc4-5b8b-49d1-ccfe-a1d850314115"
      },
      "source": [
        "drive_sql = open('drive/MyDrive/colabs_data/sql_training.sql',\"r\")\n",
        "drive_sql_contents = drive_sql.read()\n",
        "conn.executescript(drive_sql_contents)\n",
        "print(\"Successfully populated db with initial values from google drive\")"
      ],
      "execution_count": 20,
      "outputs": [
        {
          "output_type": "stream",
          "name": "stdout",
          "text": [
            "Successfully populated db with initial values from google drive\n"
          ]
        }
      ]
    },
    {
      "cell_type": "markdown",
      "metadata": {
        "id": "K11hv-uKK8BM"
      },
      "source": [
        "### Get list of table"
      ]
    },
    {
      "cell_type": "code",
      "metadata": {
        "colab": {
          "base_uri": "https://localhost:8080/"
        },
        "id": "MXuPTqOXBgA5",
        "outputId": "e54b0b9a-5a47-4cfa-c976-e443b03d146a"
      },
      "source": [
        "get_all_tables_query = \"SELECT name FROM sqlite_master WHERE type='table';\"\n",
        "\n",
        "result = conn.execute(get_all_tables_query)\n",
        "rows = result.fetchall()\n",
        "print (rows)"
      ],
      "execution_count": 29,
      "outputs": [
        {
          "output_type": "stream",
          "name": "stdout",
          "text": [
            "[('AGENTS',), ('CUSTOMER',), ('ORDERS',)]\n"
          ]
        }
      ]
    },
    {
      "cell_type": "markdown",
      "metadata": {
        "id": "aFuunsI1LDN4"
      },
      "source": [
        "### Get columns in AGENTS table"
      ]
    },
    {
      "cell_type": "code",
      "metadata": {
        "colab": {
          "base_uri": "https://localhost:8080/"
        },
        "id": "cbdvVxkBGv97",
        "outputId": "21fd49ae-1bc6-4b36-8c8e-094e7450fe31"
      },
      "source": [
        "get_all_columns_query = \"PRAGMA table_info('AGENTS')\"\n",
        "\n",
        "result = conn.execute(get_all_columns_query)\n",
        "rows = result.fetchall()\n",
        "print (rows)"
      ],
      "execution_count": 32,
      "outputs": [
        {
          "output_type": "stream",
          "name": "stdout",
          "text": [
            "[(0, 'AGENT_CODE', 'CHAR(6)', 1, None, 1), (1, 'AGENT_NAME', 'CHAR(40)', 0, None, 0), (2, 'WORKING_AREA', 'CHAR(35)', 0, None, 0), (3, 'COMMISSION', 'NUMBER(10,2)', 0, None, 0), (4, 'PHONE_NO', 'CHAR(15)', 0, None, 0), (5, 'COUNTRY', 'VARCHAR2(25)', 0, None, 0)]\n"
          ]
        }
      ]
    },
    {
      "cell_type": "markdown",
      "metadata": {
        "id": "Kwn4lwxOJ7gs"
      },
      "source": [
        ""
      ]
    },
    {
      "cell_type": "code",
      "metadata": {
        "colab": {
          "base_uri": "https://localhost:8080/"
        },
        "id": "X8jesTY-CRfa",
        "outputId": "e7c5e21d-dc65-450a-ba60-65aef14cb425"
      },
      "source": [
        "get_all_columns_query = \"PRAGMA table_info('AGENTS')\"\n",
        "\n",
        "result = conn.execute(get_all_columns_query)\n",
        "rows = result.fetchall()\n",
        "column_names = list(zip(*rows))\n",
        "print (column_names)"
      ],
      "execution_count": 31,
      "outputs": [
        {
          "output_type": "stream",
          "name": "stdout",
          "text": [
            "[(0, 1, 2, 3, 4, 5), ('AGENT_CODE', 'AGENT_NAME', 'WORKING_AREA', 'COMMISSION', 'PHONE_NO', 'COUNTRY'), ('CHAR(6)', 'CHAR(40)', 'CHAR(35)', 'NUMBER(10,2)', 'CHAR(15)', 'VARCHAR2(25)'), (1, 0, 0, 0, 0, 0), (None, None, None, None, None, None), (1, 0, 0, 0, 0, 0)]\n"
          ]
        }
      ]
    },
    {
      "cell_type": "code",
      "metadata": {
        "colab": {
          "base_uri": "https://localhost:8080/"
        },
        "id": "SzSee6SoEc3H",
        "outputId": "38d0ec4d-26e0-49bf-f727-237bad96b414"
      },
      "source": [
        "column_names[1]"
      ],
      "execution_count": 33,
      "outputs": [
        {
          "output_type": "execute_result",
          "data": {
            "text/plain": [
              "('AGENT_CODE',\n",
              " 'AGENT_NAME',\n",
              " 'WORKING_AREA',\n",
              " 'COMMISSION',\n",
              " 'PHONE_NO',\n",
              " 'COUNTRY')"
            ]
          },
          "metadata": {},
          "execution_count": 33
        }
      ]
    },
    {
      "cell_type": "markdown",
      "metadata": {
        "id": "9c3gPnMGLTQE"
      },
      "source": [
        "### Get AGENT_NAME and PHONE_NO details"
      ]
    },
    {
      "cell_type": "code",
      "metadata": {
        "colab": {
          "base_uri": "https://localhost:8080/"
        },
        "id": "D1L15zRKLYtg",
        "outputId": "9bd46208-1dfa-4982-e970-f3caefe8efa7"
      },
      "source": [
        "get_agent_info_query = \"SELECT AGENT_NAME, PHONE_NO from AGENTS\"\n",
        "result = conn.execute(get_agent_info_query)\n",
        "rows=result.fetchall()\n",
        "for row in rows:\n",
        "  print(row)"
      ],
      "execution_count": 40,
      "outputs": [
        {
          "output_type": "stream",
          "name": "stdout",
          "text": [
            "('Ramasundar', '077-25814763')\n",
            "('Alex ', '075-12458969')\n",
            "('Alford', '044-25874365')\n",
            "('Ravi Kumar', '077-45625874')\n",
            "('Santakumar', '007-22388644')\n",
            "('Lucida', '044-52981425')\n",
            "('Anderson', '045-21447739')\n",
            "('Subbarao', '077-12346674')\n",
            "('Mukesh', '029-12358964')\n",
            "('McDen', '078-22255588')\n",
            "('Ivan', '008-22544166')\n",
            "('Benjamin', '008-22536178')\n"
          ]
        }
      ]
    }
  ]
}