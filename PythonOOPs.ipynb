{
  "nbformat": 4,
  "nbformat_minor": 0,
  "metadata": {
    "colab": {
      "name": "PythonOOPs.ipynb",
      "provenance": [],
      "authorship_tag": "ABX9TyPTUFqIPwOgFqy2OScrNuol",
      "include_colab_link": true
    },
    "kernelspec": {
      "name": "python3",
      "display_name": "Python 3"
    },
    "language_info": {
      "name": "python"
    }
  },
  "cells": [
    {
      "cell_type": "markdown",
      "metadata": {
        "id": "view-in-github",
        "colab_type": "text"
      },
      "source": [
        "<a href=\"https://colab.research.google.com/github/techakilan/python-datascience-training/blob/master/PythonOOPs.ipynb\" target=\"_parent\"><img src=\"https://colab.research.google.com/assets/colab-badge.svg\" alt=\"Open In Colab\"/></a>"
      ]
    },
    {
      "cell_type": "markdown",
      "metadata": {
        "id": "NPHIFSRfcfrJ"
      },
      "source": [
        "### Create a Class"
      ]
    },
    {
      "cell_type": "code",
      "metadata": {
        "id": "7m9MSTRucly3"
      },
      "source": [
        "class MyClass:\n",
        "  name=\"demo\""
      ],
      "execution_count": 2,
      "outputs": []
    },
    {
      "cell_type": "code",
      "metadata": {
        "colab": {
          "base_uri": "https://localhost:8080/",
          "height": 35
        },
        "id": "ofuBtaeAcwOj",
        "outputId": "33e894e4-df77-4fdd-b126-eb463e90bbee"
      },
      "source": [
        "MyClass.name"
      ],
      "execution_count": 3,
      "outputs": [
        {
          "output_type": "execute_result",
          "data": {
            "application/vnd.google.colaboratory.intrinsic+json": {
              "type": "string"
            },
            "text/plain": [
              "'demo'"
            ]
          },
          "metadata": {},
          "execution_count": 3
        }
      ]
    },
    {
      "cell_type": "markdown",
      "metadata": {
        "id": "SmxCyMMIdC5R"
      },
      "source": [
        "### Create an Object"
      ]
    },
    {
      "cell_type": "code",
      "metadata": {
        "colab": {
          "base_uri": "https://localhost:8080/",
          "height": 35
        },
        "id": "FPxYOzEfdFua",
        "outputId": "0da8b5d7-656a-4a47-8ec4-20ab8e07988a"
      },
      "source": [
        "my_Obj = MyClass()\n",
        "my_Obj.name"
      ],
      "execution_count": 5,
      "outputs": [
        {
          "output_type": "execute_result",
          "data": {
            "application/vnd.google.colaboratory.intrinsic+json": {
              "type": "string"
            },
            "text/plain": [
              "'demo'"
            ]
          },
          "metadata": {},
          "execution_count": 5
        }
      ]
    },
    {
      "cell_type": "markdown",
      "metadata": {
        "id": "W09KKaIWdfMy"
      },
      "source": [
        "## Create a Car Class"
      ]
    },
    {
      "cell_type": "code",
      "metadata": {
        "id": "3h-VyXJ0dhgR"
      },
      "source": [
        "class Car:\n",
        "  "
      ],
      "execution_count": null,
      "outputs": []
    }
  ]
}