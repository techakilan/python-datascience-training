{
  "nbformat": 4,
  "nbformat_minor": 0,
  "metadata": {
    "colab": {
      "name": "PythonOOPs.ipynb",
      "provenance": [],
      "authorship_tag": "ABX9TyPqjxbgPEFnZSB/kV3U34QE",
      "include_colab_link": true
    },
    "kernelspec": {
      "name": "python3",
      "display_name": "Python 3"
    },
    "language_info": {
      "name": "python"
    }
  },
  "cells": [
    {
      "cell_type": "markdown",
      "metadata": {
        "id": "view-in-github",
        "colab_type": "text"
      },
      "source": [
        "<a href=\"https://colab.research.google.com/github/techakilan/python-datascience-training/blob/master/PythonOOPs.ipynb\" target=\"_parent\"><img src=\"https://colab.research.google.com/assets/colab-badge.svg\" alt=\"Open In Colab\"/></a>"
      ]
    },
    {
      "cell_type": "markdown",
      "metadata": {
        "id": "NPHIFSRfcfrJ"
      },
      "source": [
        "### Create a Class"
      ]
    },
    {
      "cell_type": "code",
      "metadata": {
        "id": "7m9MSTRucly3"
      },
      "source": [
        "class MyClass:\n",
        "  name=\"demo\""
      ],
      "execution_count": 1,
      "outputs": []
    },
    {
      "cell_type": "code",
      "metadata": {
        "colab": {
          "base_uri": "https://localhost:8080/",
          "height": 35
        },
        "id": "ofuBtaeAcwOj",
        "outputId": "52f0eef2-5250-4e42-b503-40779b9e55a7"
      },
      "source": [
        "MyClass.name"
      ],
      "execution_count": 2,
      "outputs": [
        {
          "output_type": "execute_result",
          "data": {
            "application/vnd.google.colaboratory.intrinsic+json": {
              "type": "string"
            },
            "text/plain": [
              "'demo'"
            ]
          },
          "metadata": {},
          "execution_count": 2
        }
      ]
    },
    {
      "cell_type": "markdown",
      "metadata": {
        "id": "SmxCyMMIdC5R"
      },
      "source": [
        "### Create an Object"
      ]
    },
    {
      "cell_type": "code",
      "metadata": {
        "colab": {
          "base_uri": "https://localhost:8080/",
          "height": 35
        },
        "id": "FPxYOzEfdFua",
        "outputId": "feffcf26-8e34-497f-860f-3007c89fd875"
      },
      "source": [
        "my_Obj = MyClass()\n",
        "my_Obj.name"
      ],
      "execution_count": 3,
      "outputs": [
        {
          "output_type": "execute_result",
          "data": {
            "application/vnd.google.colaboratory.intrinsic+json": {
              "type": "string"
            },
            "text/plain": [
              "'demo'"
            ]
          },
          "metadata": {},
          "execution_count": 3
        }
      ]
    },
    {
      "cell_type": "code",
      "metadata": {
        "id": "05a2Dpai8fr2"
      },
      "source": [
        "MyClass.name = \"demo2\""
      ],
      "execution_count": 4,
      "outputs": []
    },
    {
      "cell_type": "code",
      "metadata": {
        "id": "Hd_tCJBR8kqo",
        "outputId": "e53e46b3-c02a-4e1b-937e-f699742dc57b",
        "colab": {
          "base_uri": "https://localhost:8080/",
          "height": 35
        }
      },
      "source": [
        "MyClass.name"
      ],
      "execution_count": 5,
      "outputs": [
        {
          "output_type": "execute_result",
          "data": {
            "application/vnd.google.colaboratory.intrinsic+json": {
              "type": "string"
            },
            "text/plain": [
              "'demo2'"
            ]
          },
          "metadata": {},
          "execution_count": 5
        }
      ]
    },
    {
      "cell_type": "code",
      "metadata": {
        "id": "-9chMa0a8pll"
      },
      "source": [
        "my_Obj.name = \"demo3\""
      ],
      "execution_count": 6,
      "outputs": []
    },
    {
      "cell_type": "code",
      "metadata": {
        "id": "dgJnEBji8s4J",
        "outputId": "88e2df7a-7518-40f6-b09a-e9eec844e46f",
        "colab": {
          "base_uri": "https://localhost:8080/",
          "height": 35
        }
      },
      "source": [
        "my_Obj.name"
      ],
      "execution_count": 7,
      "outputs": [
        {
          "output_type": "execute_result",
          "data": {
            "application/vnd.google.colaboratory.intrinsic+json": {
              "type": "string"
            },
            "text/plain": [
              "'demo3'"
            ]
          },
          "metadata": {},
          "execution_count": 7
        }
      ]
    },
    {
      "cell_type": "code",
      "metadata": {
        "id": "IFLD8ngy9N1D",
        "outputId": "b28a8dc6-281f-4e41-8d71-a0f8672f44b0",
        "colab": {
          "base_uri": "https://localhost:8080/"
        }
      },
      "source": [
        "type(my_Obj)"
      ],
      "execution_count": 9,
      "outputs": [
        {
          "output_type": "execute_result",
          "data": {
            "text/plain": [
              "__main__.MyClass"
            ]
          },
          "metadata": {},
          "execution_count": 9
        }
      ]
    },
    {
      "cell_type": "code",
      "metadata": {
        "id": "1cN-k8upp2Vy",
        "colab": {
          "base_uri": "https://localhost:8080/"
        },
        "outputId": "30e7c0b8-6a0e-463c-ed76-0fee19c6f212"
      },
      "source": [
        "dir(my_Obj)"
      ],
      "execution_count": 8,
      "outputs": [
        {
          "output_type": "execute_result",
          "data": {
            "text/plain": [
              "['__class__',\n",
              " '__delattr__',\n",
              " '__dict__',\n",
              " '__dir__',\n",
              " '__doc__',\n",
              " '__eq__',\n",
              " '__format__',\n",
              " '__ge__',\n",
              " '__getattribute__',\n",
              " '__gt__',\n",
              " '__hash__',\n",
              " '__init__',\n",
              " '__init_subclass__',\n",
              " '__le__',\n",
              " '__lt__',\n",
              " '__module__',\n",
              " '__ne__',\n",
              " '__new__',\n",
              " '__reduce__',\n",
              " '__reduce_ex__',\n",
              " '__repr__',\n",
              " '__setattr__',\n",
              " '__sizeof__',\n",
              " '__str__',\n",
              " '__subclasshook__',\n",
              " '__weakref__',\n",
              " 'name']"
            ]
          },
          "metadata": {},
          "execution_count": 8
        }
      ]
    },
    {
      "cell_type": "code",
      "metadata": {
        "id": "RFqt96Ezq_MQ",
        "colab": {
          "base_uri": "https://localhost:8080/"
        },
        "outputId": "5906e915-9c8a-4038-bcba-2be84f30f6f0"
      },
      "source": [
        " [x for x in dir(my_Obj) if not x.startswith('__')]"
      ],
      "execution_count": 10,
      "outputs": [
        {
          "output_type": "execute_result",
          "data": {
            "text/plain": [
              "['name']"
            ]
          },
          "metadata": {},
          "execution_count": 10
        }
      ]
    },
    {
      "cell_type": "markdown",
      "metadata": {
        "id": "W09KKaIWdfMy"
      },
      "source": [
        "## Create a Person Class"
      ]
    },
    {
      "cell_type": "markdown",
      "metadata": {
        "id": "xO-P-6oaBKb0"
      },
      "source": [
        "##### Attributes - Properties "
      ]
    },
    {
      "cell_type": "code",
      "metadata": {
        "id": "3h-VyXJ0dhgR"
      },
      "source": [
        "class Person:\n",
        "    def __init__(self, name, age):\n",
        "        self.name = name\n",
        "        self.age = age\n",
        "  "
      ],
      "execution_count": 13,
      "outputs": []
    },
    {
      "cell_type": "code",
      "metadata": {
        "colab": {
          "base_uri": "https://localhost:8080/"
        },
        "id": "MQFB8_J2ApQW",
        "outputId": "c11620a7-48ac-4e57-fe78-7c342bb305e0"
      },
      "source": [
        "my_Person = Person(\"Bob\", 42)\n",
        "[x for x in dir(my_Person) if not x.startswith('__')]"
      ],
      "execution_count": 18,
      "outputs": [
        {
          "output_type": "execute_result",
          "data": {
            "text/plain": [
              "['age', 'introduceyourself', 'name']"
            ]
          },
          "metadata": {},
          "execution_count": 18
        }
      ]
    },
    {
      "cell_type": "markdown",
      "metadata": {
        "id": "u4N06_LzA9vq"
      },
      "source": [
        "##### Attributes - Methods"
      ]
    },
    {
      "cell_type": "code",
      "metadata": {
        "id": "TOHyfgZMBgid"
      },
      "source": [
        "class Person:\n",
        "    def __init__(self, name, age):\n",
        "        self.name = name\n",
        "        self.age = age\n",
        "        \n",
        "    def introduceyourself(self):\n",
        "        print(\"My name is \" + self.name)\n",
        "        print(\"My age is \" + str(self.age))"
      ],
      "execution_count": 15,
      "outputs": []
    },
    {
      "cell_type": "code",
      "metadata": {
        "colab": {
          "base_uri": "https://localhost:8080/"
        },
        "id": "WJS7TnjCBlm5",
        "outputId": "07b6b8cd-d2f4-4fef-bfe4-24e426a3567e"
      },
      "source": [
        "my_Person = Person(\"Bob\", 42)\n",
        "[x for x in dir(my_Person) if not x.startswith('__')]"
      ],
      "execution_count": 16,
      "outputs": [
        {
          "output_type": "execute_result",
          "data": {
            "text/plain": [
              "['name']"
            ]
          },
          "metadata": {},
          "execution_count": 16
        }
      ]
    },
    {
      "cell_type": "code",
      "metadata": {
        "colab": {
          "base_uri": "https://localhost:8080/"
        },
        "id": "GcZxh33zBzg4",
        "outputId": "360dca84-b66d-4830-f0e9-750e3b9533a3"
      },
      "source": [
        "my_Person.introduceyourself()"
      ],
      "execution_count": 17,
      "outputs": [
        {
          "output_type": "stream",
          "name": "stdout",
          "text": [
            "My name is Bob\n",
            "My age is 42\n"
          ]
        }
      ]
    },
    {
      "cell_type": "markdown",
      "metadata": {
        "id": "aIYy7psyB-Uk"
      },
      "source": [
        "### Inheritance"
      ]
    },
    {
      "cell_type": "code",
      "metadata": {
        "id": "grkPusKAB9qN"
      },
      "source": [
        "class Teacher(Person): #this class inherits the class above!\n",
        "    def stateprofession(self):\n",
        "        print(\"I am a teacher!\")"
      ],
      "execution_count": null,
      "outputs": []
    },
    {
      "cell_type": "code",
      "metadata": {
        "id": "dr1myGdKCGUb"
      },
      "source": [
        "teacher_Person = Teacher(\"Bob\", 42)\n",
        "teacher_Person.introduceyourself()\n",
        "teacher_Person.stateprofession()"
      ],
      "execution_count": null,
      "outputs": []
    },
    {
      "cell_type": "code",
      "metadata": {
        "id": "JpQV1dK6CdEd"
      },
      "source": [
        "[x for x in dir(teacher_Person) if not x.startswith('__')]"
      ],
      "execution_count": null,
      "outputs": []
    },
    {
      "cell_type": "markdown",
      "metadata": {
        "id": "_qCu6hh2DsHG"
      },
      "source": [
        "##### Method overloading - constructor"
      ]
    },
    {
      "cell_type": "markdown",
      "metadata": {
        "id": "_2zEz5lFFcdk"
      },
      "source": [
        "class Person:\n",
        "    \n",
        "  \n",
        "    def __init__(self, name, age):\n",
        "        self.name = name\n",
        "        self.age = age\n",
        "\n",
        "    def introduceyourself(self):\n",
        "        print(\"My name is \" + self.name)\n",
        "        print(\"My age is \" + str(self.age))"
      ]
    },
    {
      "cell_type": "code",
      "metadata": {
        "id": "slLUolf7EN2j"
      },
      "source": [
        "class Teacher(Person): #this class inherits the class above!\n",
        "    def __init__(self, name, age, course):\n",
        "        self.course = course #initialise a new variable\n",
        "        super().__init__(name,age) #call the init of Person\n",
        "        \n",
        "    def stateprofession(self):\n",
        "        print(\"I am a teacher!\") \n",
        "        print(\"I teach \" + str(self.course) )       \n",
        "    \n",
        "    def introduceyourself(self):\n",
        "        super().introduceyourself() #call the introduceyourself() of the Person\n",
        "        "
      ],
      "execution_count": null,
      "outputs": []
    },
    {
      "cell_type": "code",
      "metadata": {
        "id": "Gzl5eF_PF26Q"
      },
      "source": [
        "newteacher_Person = Teacher(\"Bob\", 42,\"maths\")\n",
        "[x for x in dir(newteacher_Person) if not x.startswith('__')]"
      ],
      "execution_count": null,
      "outputs": []
    },
    {
      "cell_type": "code",
      "metadata": {
        "id": "nPosmJRqGKF1"
      },
      "source": [
        "newteacher_Person.introduceyourself()\n",
        "newteacher_Person.stateprofession()"
      ],
      "execution_count": null,
      "outputs": []
    },
    {
      "cell_type": "markdown",
      "metadata": {
        "id": "_yeLTfdjHCGM"
      },
      "source": [
        "##### Method overriding - constructor"
      ]
    },
    {
      "cell_type": "markdown",
      "metadata": {
        "id": "pskSZADaHrk8"
      },
      "source": [
        "\n",
        "class Person:\n",
        "    \n",
        "  \n",
        "    def __init__(self, name, age):\n",
        "        self.name = name\n",
        "        self.age = age\n",
        "\n",
        "    def introduceyourself(self):\n",
        "        print(\"My name is \" + self.name)\n",
        "        print(\"My age is \" + str(self.age))"
      ]
    },
    {
      "cell_type": "code",
      "metadata": {
        "id": "S27Au0KoGsdw"
      },
      "source": [
        "class Teacher(Person): #this class inherits the class above!\n",
        "    def __init__(self, name, age):\n",
        "        self.course = \"\" #initialise a new variable\n",
        "        super().__init__(name,age) #call the init of Person\n",
        "\n",
        "    def addcourse(self, course):\n",
        "       self.course = course\n",
        "    def stateprofession(self):\n",
        "        print(\"I am a teacher!\") \n",
        "        print(\"I teach \" + str(self.course) )       \n",
        "    \n",
        "    def introduceyourself(self):\n",
        "        super().introduceyourself() #call the introduceyourself() of the Person"
      ],
      "execution_count": null,
      "outputs": []
    },
    {
      "cell_type": "code",
      "metadata": {
        "id": "-i7dprbvIkmh"
      },
      "source": [
        "newteacher_Person = Teacher(\"Bob\", 42,\"maths\")\n",
        "[x for x in dir(newteacher_Person) if not x.startswith('__')]"
      ],
      "execution_count": null,
      "outputs": []
    },
    {
      "cell_type": "code",
      "metadata": {
        "id": "w3cGG_MJIn5V"
      },
      "source": [
        "newteacher_Person.introduceyourself()\n",
        "newteacher_Person.stateprofession()"
      ],
      "execution_count": null,
      "outputs": []
    },
    {
      "cell_type": "markdown",
      "metadata": {
        "id": "K8kj8dsSJdDV"
      },
      "source": [
        "##### Operator overloading"
      ]
    },
    {
      "cell_type": "code",
      "metadata": {
        "id": "mSZVottqLZuD"
      },
      "source": [
        "class Rating():\n",
        "   def __init__(self, singles=0, doubles=0):\n",
        "        self.singles = singles\n",
        "        self.doubles = doubles\n",
        "   def display(self):\n",
        "        print(\"singles rating: \"+str(self.singles))\n",
        "        print(\"doubles rating: \"+str(self.doubles))\n",
        "\n"
      ],
      "execution_count": null,
      "outputs": []
    },
    {
      "cell_type": "code",
      "metadata": {
        "id": "7zAKyuQwM9RJ"
      },
      "source": [
        "player1 = Rating(7,9)\n",
        "player2 = Rating(8,6)\n",
        "\n",
        "overallrating = player1+player2"
      ],
      "execution_count": null,
      "outputs": []
    },
    {
      "cell_type": "code",
      "metadata": {
        "id": "N8DzcdkTM0nj"
      },
      "source": [
        "class Rating():\n",
        "   def __init__(self, singles=0, doubles=0):\n",
        "        self.singles = singles\n",
        "        self.doubles = doubles\n",
        "   def __add__(self,other):\n",
        "        singles = self.singles + other.singles\n",
        "        doubles = self.doubles + other.doubles\n",
        "        return Rating(singles, doubles)\n",
        "   def display(self):\n",
        "        print(\"singles rating: \"+str(self.singles))\n",
        "        print(\"doubles rating: \"+str(self.doubles))"
      ],
      "execution_count": null,
      "outputs": []
    },
    {
      "cell_type": "code",
      "metadata": {
        "id": "rtW6G-QuN9PV"
      },
      "source": [
        "player1 = Rating(7,9)\n",
        "player2 = Rating(8,6)\n",
        "\n",
        "overallrating = player1+player2\n",
        "overallrating.display()"
      ],
      "execution_count": null,
      "outputs": []
    },
    {
      "cell_type": "code",
      "metadata": {
        "id": "mJqT-N1CPDy3"
      },
      "source": [
        "dir(player1)"
      ],
      "execution_count": null,
      "outputs": []
    },
    {
      "cell_type": "markdown",
      "metadata": {
        "id": "bWNxUBe6Okjs"
      },
      "source": [
        "##### Other special methods are __str__, __lt__, __gt__ etc"
      ]
    }
  ]
}