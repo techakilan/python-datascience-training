{
  "nbformat": 4,
  "nbformat_minor": 0,
  "metadata": {
    "colab": {
      "name": "PythonOOPs.ipynb",
      "provenance": [],
      "authorship_tag": "ABX9TyOr+3F8zSib+6npcFiwzdTs",
      "include_colab_link": true
    },
    "kernelspec": {
      "name": "python3",
      "display_name": "Python 3"
    },
    "language_info": {
      "name": "python"
    }
  },
  "cells": [
    {
      "cell_type": "markdown",
      "metadata": {
        "id": "view-in-github",
        "colab_type": "text"
      },
      "source": [
        "<a href=\"https://colab.research.google.com/github/techakilan/python-datascience-training/blob/master/PythonOOPs.ipynb\" target=\"_parent\"><img src=\"https://colab.research.google.com/assets/colab-badge.svg\" alt=\"Open In Colab\"/></a>"
      ]
    },
    {
      "cell_type": "markdown",
      "metadata": {
        "id": "NPHIFSRfcfrJ"
      },
      "source": [
        "### Create a Class"
      ]
    },
    {
      "cell_type": "code",
      "metadata": {
        "id": "7m9MSTRucly3"
      },
      "source": [
        "class MyClass:\n",
        "  name=\"demo\""
      ],
      "execution_count": 10,
      "outputs": []
    },
    {
      "cell_type": "code",
      "metadata": {
        "colab": {
          "base_uri": "https://localhost:8080/",
          "height": 35
        },
        "id": "ofuBtaeAcwOj",
        "outputId": "7cfaa433-6c9e-4933-c7cf-b76a4513ebb5"
      },
      "source": [
        "MyClass.name"
      ],
      "execution_count": 11,
      "outputs": [
        {
          "output_type": "execute_result",
          "data": {
            "application/vnd.google.colaboratory.intrinsic+json": {
              "type": "string"
            },
            "text/plain": [
              "'demo'"
            ]
          },
          "metadata": {},
          "execution_count": 11
        }
      ]
    },
    {
      "cell_type": "markdown",
      "metadata": {
        "id": "SmxCyMMIdC5R"
      },
      "source": [
        "### Create an Object"
      ]
    },
    {
      "cell_type": "code",
      "metadata": {
        "colab": {
          "base_uri": "https://localhost:8080/",
          "height": 35
        },
        "id": "FPxYOzEfdFua",
        "outputId": "00bbe8a6-a440-46f7-d7de-92ba6c6a5e1d"
      },
      "source": [
        "my_Obj = MyClass()\n",
        "my_Obj.name"
      ],
      "execution_count": 12,
      "outputs": [
        {
          "output_type": "execute_result",
          "data": {
            "application/vnd.google.colaboratory.intrinsic+json": {
              "type": "string"
            },
            "text/plain": [
              "'demo'"
            ]
          },
          "metadata": {},
          "execution_count": 12
        }
      ]
    },
    {
      "cell_type": "code",
      "metadata": {
        "id": "1cN-k8upp2Vy",
        "colab": {
          "base_uri": "https://localhost:8080/"
        },
        "outputId": "db9a6989-e546-4a11-9031-0c3695f55fd9"
      },
      "source": [
        "dir(my_Obj)"
      ],
      "execution_count": 13,
      "outputs": [
        {
          "output_type": "execute_result",
          "data": {
            "text/plain": [
              "['__class__',\n",
              " '__delattr__',\n",
              " '__dict__',\n",
              " '__dir__',\n",
              " '__doc__',\n",
              " '__eq__',\n",
              " '__format__',\n",
              " '__ge__',\n",
              " '__getattribute__',\n",
              " '__gt__',\n",
              " '__hash__',\n",
              " '__init__',\n",
              " '__init_subclass__',\n",
              " '__le__',\n",
              " '__lt__',\n",
              " '__module__',\n",
              " '__ne__',\n",
              " '__new__',\n",
              " '__reduce__',\n",
              " '__reduce_ex__',\n",
              " '__repr__',\n",
              " '__setattr__',\n",
              " '__sizeof__',\n",
              " '__str__',\n",
              " '__subclasshook__',\n",
              " '__weakref__',\n",
              " 'name']"
            ]
          },
          "metadata": {},
          "execution_count": 13
        }
      ]
    },
    {
      "cell_type": "code",
      "metadata": {
        "id": "RFqt96Ezq_MQ",
        "colab": {
          "base_uri": "https://localhost:8080/"
        },
        "outputId": "b0779e13-262d-4a84-ad6d-d2116c4410c3"
      },
      "source": [
        " [x for x in dir(my_Obj) if not x.startswith('__')]"
      ],
      "execution_count": 14,
      "outputs": [
        {
          "output_type": "execute_result",
          "data": {
            "text/plain": [
              "['name']"
            ]
          },
          "metadata": {},
          "execution_count": 14
        }
      ]
    },
    {
      "cell_type": "markdown",
      "metadata": {
        "id": "W09KKaIWdfMy"
      },
      "source": [
        "## Create a Person Class"
      ]
    },
    {
      "cell_type": "markdown",
      "metadata": {
        "id": "xO-P-6oaBKb0"
      },
      "source": [
        "##### Attributes - Properties "
      ]
    },
    {
      "cell_type": "code",
      "metadata": {
        "id": "3h-VyXJ0dhgR"
      },
      "source": [
        "class Person:\n",
        "    def __init__(self, name, age):\n",
        "        self.name = name\n",
        "        self.age = age\n",
        "  "
      ],
      "execution_count": 15,
      "outputs": []
    },
    {
      "cell_type": "code",
      "metadata": {
        "colab": {
          "base_uri": "https://localhost:8080/"
        },
        "id": "MQFB8_J2ApQW",
        "outputId": "8aa8bcd5-2954-401b-838b-ff8c19c48020"
      },
      "source": [
        "my_Person = Person(\"Bob\", 42)\n",
        "[x for x in dir(my_Obj) if not x.startswith('__')]"
      ],
      "execution_count": 17,
      "outputs": [
        {
          "output_type": "execute_result",
          "data": {
            "text/plain": [
              "['age', 'name']"
            ]
          },
          "metadata": {},
          "execution_count": 17
        }
      ]
    },
    {
      "cell_type": "markdown",
      "metadata": {
        "id": "u4N06_LzA9vq"
      },
      "source": [
        "##### Attributes - Methods"
      ]
    },
    {
      "cell_type": "code",
      "metadata": {
        "id": "TOHyfgZMBgid"
      },
      "source": [
        "class Person:\n",
        "    def __init__(self, name, age):\n",
        "        self.name = name\n",
        "        self.age = age\n",
        "        \n",
        "    def introduceyourself(self):\n",
        "        print(\"My name is \" + self.name)\n",
        "        print(\"My age is \" + str(self.age))"
      ],
      "execution_count": 18,
      "outputs": []
    },
    {
      "cell_type": "code",
      "metadata": {
        "colab": {
          "base_uri": "https://localhost:8080/"
        },
        "id": "WJS7TnjCBlm5",
        "outputId": "139601ae-6342-4a8f-9438-b944185490f1"
      },
      "source": [
        "my_Person = Person(\"Bob\", 42)\n",
        "[x for x in dir(my_Obj) if not x.startswith('__')]"
      ],
      "execution_count": 19,
      "outputs": [
        {
          "output_type": "execute_result",
          "data": {
            "text/plain": [
              "['age', 'name']"
            ]
          },
          "metadata": {},
          "execution_count": 19
        }
      ]
    },
    {
      "cell_type": "code",
      "metadata": {
        "colab": {
          "base_uri": "https://localhost:8080/"
        },
        "id": "GcZxh33zBzg4",
        "outputId": "5cc99345-1cac-49fa-b3c8-627e60d68f29"
      },
      "source": [
        "my_Person.introduceyourself()"
      ],
      "execution_count": 20,
      "outputs": [
        {
          "output_type": "stream",
          "name": "stdout",
          "text": [
            "My name is Bob\n",
            "My age is 42\n"
          ]
        }
      ]
    },
    {
      "cell_type": "markdown",
      "metadata": {
        "id": "aIYy7psyB-Uk"
      },
      "source": [
        "### Inheritance"
      ]
    },
    {
      "cell_type": "code",
      "metadata": {
        "id": "grkPusKAB9qN"
      },
      "source": [
        "class Teacher(Person): #this class inherits the class above!\n",
        "    def stateprofession(self):\n",
        "        print(\"I am a teacher!\")"
      ],
      "execution_count": 22,
      "outputs": []
    },
    {
      "cell_type": "code",
      "metadata": {
        "id": "dr1myGdKCGUb"
      },
      "source": [
        "teacher_Person = Teacher(\"Bob\", 42)\n",
        "teacher_Person.introduceyourself()\n",
        "teacher_Person.stateprofession()"
      ],
      "execution_count": null,
      "outputs": []
    },
    {
      "cell_type": "code",
      "metadata": {
        "colab": {
          "base_uri": "https://localhost:8080/"
        },
        "id": "JpQV1dK6CdEd",
        "outputId": "33e8b911-f30e-486c-9f1e-70cad388f0ab"
      },
      "source": [
        "[x for x in dir(teacher_Person) if not x.startswith('__')]"
      ],
      "execution_count": 26,
      "outputs": [
        {
          "output_type": "execute_result",
          "data": {
            "text/plain": [
              "['age', 'introduceyourself', 'name', 'stateprofession']"
            ]
          },
          "metadata": {},
          "execution_count": 26
        }
      ]
    },
    {
      "cell_type": "markdown",
      "metadata": {
        "id": "_qCu6hh2DsHG"
      },
      "source": [
        "##### Method overloading - constructor"
      ]
    },
    {
      "cell_type": "markdown",
      "metadata": {
        "id": "_2zEz5lFFcdk"
      },
      "source": [
        "class Person:\n",
        "    \n",
        "  \n",
        "    def __init__(self, name, age):\n",
        "        self.name = name\n",
        "        self.age = age\n",
        "\n",
        "    def introduceyourself(self):\n",
        "        print(\"My name is \" + self.name)\n",
        "        print(\"My age is \" + str(self.age))"
      ]
    },
    {
      "cell_type": "code",
      "metadata": {
        "id": "slLUolf7EN2j"
      },
      "source": [
        "class Teacher(Person): #this class inherits the class above!\n",
        "    def __init__(self, name, age, course):\n",
        "        self.course = course #initialise a new variable\n",
        "        super().__init__(name,age) #call the init of Person\n",
        "        \n",
        "    def stateprofession(self):\n",
        "        print(\"I am a teacher!\") \n",
        "        print(\"I teach \" + str(self.course) )       \n",
        "    \n",
        "    def introduceyourself(self):\n",
        "        super().introduceyourself() #call the introduceyourself() of the Person\n",
        "        "
      ],
      "execution_count": 36,
      "outputs": []
    },
    {
      "cell_type": "code",
      "metadata": {
        "colab": {
          "base_uri": "https://localhost:8080/"
        },
        "id": "Gzl5eF_PF26Q",
        "outputId": "3d59d074-a40f-4ca4-82ed-61830ceb53d6"
      },
      "source": [
        "newteacher_Person = Teacher(\"Bob\", 42,\"maths\")\n",
        "[x for x in dir(newteacher_Person) if not x.startswith('__')]"
      ],
      "execution_count": 37,
      "outputs": [
        {
          "output_type": "execute_result",
          "data": {
            "text/plain": [
              "['age', 'course', 'introduceyourself', 'name', 'stateprofession']"
            ]
          },
          "metadata": {},
          "execution_count": 37
        }
      ]
    },
    {
      "cell_type": "code",
      "metadata": {
        "colab": {
          "base_uri": "https://localhost:8080/"
        },
        "id": "nPosmJRqGKF1",
        "outputId": "f8e70e8f-b81b-4770-e5ec-9df2742c155d"
      },
      "source": [
        "newteacher_Person.introduceyourself()\n",
        "newteacher_Person.stateprofession()"
      ],
      "execution_count": 38,
      "outputs": [
        {
          "output_type": "stream",
          "name": "stdout",
          "text": [
            "My name is Bob\n",
            "My age is 42\n",
            "I am a teacher!\n",
            "I teach maths\n"
          ]
        }
      ]
    },
    {
      "cell_type": "markdown",
      "metadata": {
        "id": "_yeLTfdjHCGM"
      },
      "source": [
        "##### Method overriding - constructor"
      ]
    },
    {
      "cell_type": "markdown",
      "metadata": {
        "id": "pskSZADaHrk8"
      },
      "source": [
        "\n",
        "class Person:\n",
        "    \n",
        "  \n",
        "    def __init__(self, name, age):\n",
        "        self.name = name\n",
        "        self.age = age\n",
        "\n",
        "    def introduceyourself(self):\n",
        "        print(\"My name is \" + self.name)\n",
        "        print(\"My age is \" + str(self.age))"
      ]
    },
    {
      "cell_type": "code",
      "metadata": {
        "id": "S27Au0KoGsdw"
      },
      "source": [
        "class Teacher(Person): #this class inherits the class above!\n",
        "    def __init__(self, name, age):\n",
        "        self.course = \"\" #initialise a new variable\n",
        "        super().__init__(name,age) #call the init of Person\n",
        "\n",
        "    def addcourse(self, course):\n",
        "       self.course = course\n",
        "    def stateprofession(self):\n",
        "        print(\"I am a teacher!\") \n",
        "        print(\"I teach \" + str(self.course) )       \n",
        "    \n",
        "    def introduceyourself(self):\n",
        "        super().introduceyourself() #call the introduceyourself() of the Person"
      ],
      "execution_count": null,
      "outputs": []
    },
    {
      "cell_type": "code",
      "metadata": {
        "colab": {
          "base_uri": "https://localhost:8080/"
        },
        "id": "-i7dprbvIkmh",
        "outputId": "a53a4b9c-761d-45fb-f8b7-0ba63548ffa2"
      },
      "source": [
        "newteacher_Person = Teacher(\"Bob\", 42,\"maths\")\n",
        "[x for x in dir(newteacher_Person) if not x.startswith('__')]"
      ],
      "execution_count": 39,
      "outputs": [
        {
          "output_type": "execute_result",
          "data": {
            "text/plain": [
              "['age', 'course', 'introduceyourself', 'name', 'stateprofession']"
            ]
          },
          "metadata": {},
          "execution_count": 39
        }
      ]
    },
    {
      "cell_type": "code",
      "metadata": {
        "colab": {
          "base_uri": "https://localhost:8080/"
        },
        "id": "w3cGG_MJIn5V",
        "outputId": "8b0ccb9b-f2e1-4b0f-87be-3038512ef203"
      },
      "source": [
        "newteacher_Person.introduceyourself()\n",
        "newteacher_Person.stateprofession()"
      ],
      "execution_count": 40,
      "outputs": [
        {
          "output_type": "stream",
          "name": "stdout",
          "text": [
            "My name is Bob\n",
            "My age is 42\n",
            "I am a teacher!\n",
            "I teach maths\n"
          ]
        }
      ]
    },
    {
      "cell_type": "markdown",
      "metadata": {
        "id": "K8kj8dsSJdDV"
      },
      "source": [
        "##### Operator overloading"
      ]
    },
    {
      "cell_type": "code",
      "metadata": {
        "id": "mSZVottqLZuD"
      },
      "source": [
        "class Rating():\n",
        "   def __init__(self, singles=0, doubles=0):\n",
        "        self.singles = singles\n",
        "        self.doubles = doubles\n",
        "   def display(self):\n",
        "        print(\"singles rating: \"+str(self.singles))\n",
        "        print(\"doubles rating: \"+str(self.doubles))\n",
        "\n"
      ],
      "execution_count": 43,
      "outputs": []
    },
    {
      "cell_type": "code",
      "metadata": {
        "colab": {
          "base_uri": "https://localhost:8080/",
          "height": 201
        },
        "id": "7zAKyuQwM9RJ",
        "outputId": "baaa0200-f071-4c13-d292-af2566257fd6"
      },
      "source": [
        "player1 = Rating(7,9)\n",
        "player2 = Rating(8,6)\n",
        "\n",
        "overallrating = player1+player2"
      ],
      "execution_count": 44,
      "outputs": [
        {
          "output_type": "error",
          "ename": "TypeError",
          "evalue": "ignored",
          "traceback": [
            "\u001b[0;31m---------------------------------------------------------------------------\u001b[0m",
            "\u001b[0;31mTypeError\u001b[0m                                 Traceback (most recent call last)",
            "\u001b[0;32m<ipython-input-44-290d6af6f1d8>\u001b[0m in \u001b[0;36m<module>\u001b[0;34m()\u001b[0m\n\u001b[1;32m      2\u001b[0m \u001b[0mplayer2\u001b[0m \u001b[0;34m=\u001b[0m \u001b[0mRating\u001b[0m\u001b[0;34m(\u001b[0m\u001b[0;36m8\u001b[0m\u001b[0;34m,\u001b[0m\u001b[0;36m6\u001b[0m\u001b[0;34m)\u001b[0m\u001b[0;34m\u001b[0m\u001b[0;34m\u001b[0m\u001b[0m\n\u001b[1;32m      3\u001b[0m \u001b[0;34m\u001b[0m\u001b[0m\n\u001b[0;32m----> 4\u001b[0;31m \u001b[0moverallrating\u001b[0m \u001b[0;34m=\u001b[0m \u001b[0mplayer1\u001b[0m\u001b[0;34m+\u001b[0m\u001b[0mplayer2\u001b[0m\u001b[0;34m\u001b[0m\u001b[0;34m\u001b[0m\u001b[0m\n\u001b[0m",
            "\u001b[0;31mTypeError\u001b[0m: unsupported operand type(s) for +: 'Rating' and 'Rating'"
          ]
        }
      ]
    },
    {
      "cell_type": "code",
      "metadata": {
        "id": "N8DzcdkTM0nj"
      },
      "source": [
        "class Rating():\n",
        "   def __init__(self, singles=0, doubles=0):\n",
        "        self.singles = singles\n",
        "        self.doubles = doubles\n",
        "   def __add__(self,other):\n",
        "        singles = self.singles + other.singles\n",
        "        doubles = self.doubles + other.doubles\n",
        "        return Rating(singles, doubles)\n",
        "   def display(self):\n",
        "        print(\"singles rating: \"+str(self.singles))\n",
        "        print(\"doubles rating: \"+str(self.doubles))"
      ],
      "execution_count": 47,
      "outputs": []
    },
    {
      "cell_type": "code",
      "metadata": {
        "id": "rtW6G-QuN9PV",
        "outputId": "c93c89bb-2747-4099-bd5e-27294c1eef77",
        "colab": {
          "base_uri": "https://localhost:8080/"
        }
      },
      "source": [
        "player1 = Rating(7,9)\n",
        "player2 = Rating(8,6)\n",
        "\n",
        "overallrating = player1+player2\n",
        "overallrating.display()"
      ],
      "execution_count": 48,
      "outputs": [
        {
          "output_type": "stream",
          "name": "stdout",
          "text": [
            "singles rating: 15\n",
            "doubles rating: 15\n"
          ]
        }
      ]
    },
    {
      "cell_type": "code",
      "metadata": {
        "id": "mJqT-N1CPDy3",
        "outputId": "d1b8d6d9-fc5c-46dc-ba07-f3a5ce0c1833",
        "colab": {
          "base_uri": "https://localhost:8080/"
        }
      },
      "source": [
        "dir(player1)"
      ],
      "execution_count": 50,
      "outputs": [
        {
          "output_type": "execute_result",
          "data": {
            "text/plain": [
              "['__add__',\n",
              " '__class__',\n",
              " '__delattr__',\n",
              " '__dict__',\n",
              " '__dir__',\n",
              " '__doc__',\n",
              " '__eq__',\n",
              " '__format__',\n",
              " '__ge__',\n",
              " '__getattribute__',\n",
              " '__gt__',\n",
              " '__hash__',\n",
              " '__init__',\n",
              " '__init_subclass__',\n",
              " '__le__',\n",
              " '__lt__',\n",
              " '__module__',\n",
              " '__ne__',\n",
              " '__new__',\n",
              " '__reduce__',\n",
              " '__reduce_ex__',\n",
              " '__repr__',\n",
              " '__setattr__',\n",
              " '__sizeof__',\n",
              " '__str__',\n",
              " '__subclasshook__',\n",
              " '__weakref__',\n",
              " 'display',\n",
              " 'doubles',\n",
              " 'singles']"
            ]
          },
          "metadata": {},
          "execution_count": 50
        }
      ]
    },
    {
      "cell_type": "markdown",
      "metadata": {
        "id": "bWNxUBe6Okjs"
      },
      "source": [
        "##### Other special methods are __str__, __lt__, __gt__ etc"
      ]
    }
  ]
}