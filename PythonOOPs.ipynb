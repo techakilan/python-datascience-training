{
  "nbformat": 4,
  "nbformat_minor": 0,
  "metadata": {
    "colab": {
      "name": "PythonOOPs.ipynb",
      "provenance": [],
      "authorship_tag": "ABX9TyNj69J59EITsWOD29sVTJZp",
      "include_colab_link": true
    },
    "kernelspec": {
      "name": "python3",
      "display_name": "Python 3"
    },
    "language_info": {
      "name": "python"
    }
  },
  "cells": [
    {
      "cell_type": "markdown",
      "metadata": {
        "id": "view-in-github",
        "colab_type": "text"
      },
      "source": [
        "<a href=\"https://colab.research.google.com/github/techakilan/python-datascience-training/blob/master/PythonOOPs.ipynb\" target=\"_parent\"><img src=\"https://colab.research.google.com/assets/colab-badge.svg\" alt=\"Open In Colab\"/></a>"
      ]
    },
    {
      "cell_type": "markdown",
      "metadata": {
        "id": "NPHIFSRfcfrJ"
      },
      "source": [
        "### Create a Class"
      ]
    },
    {
      "cell_type": "code",
      "metadata": {
        "id": "7m9MSTRucly3"
      },
      "source": [
        "class MyClass:\n",
        "  name=\"demo\""
      ],
      "execution_count": null,
      "outputs": []
    },
    {
      "cell_type": "code",
      "metadata": {
        "colab": {
          "base_uri": "https://localhost:8080/",
          "height": 35
        },
        "id": "ofuBtaeAcwOj",
        "outputId": "52f0eef2-5250-4e42-b503-40779b9e55a7"
      },
      "source": [
        "MyClass.name"
      ],
      "execution_count": null,
      "outputs": [
        {
          "output_type": "execute_result",
          "data": {
            "application/vnd.google.colaboratory.intrinsic+json": {
              "type": "string"
            },
            "text/plain": [
              "'demo'"
            ]
          },
          "metadata": {},
          "execution_count": 2
        }
      ]
    },
    {
      "cell_type": "markdown",
      "metadata": {
        "id": "SmxCyMMIdC5R"
      },
      "source": [
        "### Create an Object"
      ]
    },
    {
      "cell_type": "code",
      "metadata": {
        "colab": {
          "base_uri": "https://localhost:8080/",
          "height": 35
        },
        "id": "FPxYOzEfdFua",
        "outputId": "feffcf26-8e34-497f-860f-3007c89fd875"
      },
      "source": [
        "my_Obj = MyClass()\n",
        "my_Obj.name"
      ],
      "execution_count": null,
      "outputs": [
        {
          "output_type": "execute_result",
          "data": {
            "application/vnd.google.colaboratory.intrinsic+json": {
              "type": "string"
            },
            "text/plain": [
              "'demo'"
            ]
          },
          "metadata": {},
          "execution_count": 3
        }
      ]
    },
    {
      "cell_type": "code",
      "metadata": {
        "id": "05a2Dpai8fr2"
      },
      "source": [
        "MyClass.name = \"demo2\""
      ],
      "execution_count": null,
      "outputs": []
    },
    {
      "cell_type": "code",
      "metadata": {
        "colab": {
          "base_uri": "https://localhost:8080/",
          "height": 35
        },
        "id": "Hd_tCJBR8kqo",
        "outputId": "e53e46b3-c02a-4e1b-937e-f699742dc57b"
      },
      "source": [
        "MyClass.name"
      ],
      "execution_count": null,
      "outputs": [
        {
          "output_type": "execute_result",
          "data": {
            "application/vnd.google.colaboratory.intrinsic+json": {
              "type": "string"
            },
            "text/plain": [
              "'demo2'"
            ]
          },
          "metadata": {},
          "execution_count": 5
        }
      ]
    },
    {
      "cell_type": "code",
      "metadata": {
        "id": "-9chMa0a8pll"
      },
      "source": [
        "my_Obj.name = \"demo3\""
      ],
      "execution_count": null,
      "outputs": []
    },
    {
      "cell_type": "code",
      "metadata": {
        "colab": {
          "base_uri": "https://localhost:8080/",
          "height": 35
        },
        "id": "dgJnEBji8s4J",
        "outputId": "88e2df7a-7518-40f6-b09a-e9eec844e46f"
      },
      "source": [
        "my_Obj.name"
      ],
      "execution_count": null,
      "outputs": [
        {
          "output_type": "execute_result",
          "data": {
            "application/vnd.google.colaboratory.intrinsic+json": {
              "type": "string"
            },
            "text/plain": [
              "'demo3'"
            ]
          },
          "metadata": {},
          "execution_count": 7
        }
      ]
    },
    {
      "cell_type": "code",
      "metadata": {
        "colab": {
          "base_uri": "https://localhost:8080/"
        },
        "id": "IFLD8ngy9N1D",
        "outputId": "b28a8dc6-281f-4e41-8d71-a0f8672f44b0"
      },
      "source": [
        "type(my_Obj)"
      ],
      "execution_count": null,
      "outputs": [
        {
          "output_type": "execute_result",
          "data": {
            "text/plain": [
              "__main__.MyClass"
            ]
          },
          "metadata": {},
          "execution_count": 9
        }
      ]
    },
    {
      "cell_type": "code",
      "metadata": {
        "id": "1cN-k8upp2Vy",
        "colab": {
          "base_uri": "https://localhost:8080/"
        },
        "outputId": "30e7c0b8-6a0e-463c-ed76-0fee19c6f212"
      },
      "source": [
        "dir(my_Obj)"
      ],
      "execution_count": null,
      "outputs": [
        {
          "output_type": "execute_result",
          "data": {
            "text/plain": [
              "['__class__',\n",
              " '__delattr__',\n",
              " '__dict__',\n",
              " '__dir__',\n",
              " '__doc__',\n",
              " '__eq__',\n",
              " '__format__',\n",
              " '__ge__',\n",
              " '__getattribute__',\n",
              " '__gt__',\n",
              " '__hash__',\n",
              " '__init__',\n",
              " '__init_subclass__',\n",
              " '__le__',\n",
              " '__lt__',\n",
              " '__module__',\n",
              " '__ne__',\n",
              " '__new__',\n",
              " '__reduce__',\n",
              " '__reduce_ex__',\n",
              " '__repr__',\n",
              " '__setattr__',\n",
              " '__sizeof__',\n",
              " '__str__',\n",
              " '__subclasshook__',\n",
              " '__weakref__',\n",
              " 'name']"
            ]
          },
          "metadata": {},
          "execution_count": 8
        }
      ]
    },
    {
      "cell_type": "code",
      "metadata": {
        "id": "RFqt96Ezq_MQ",
        "colab": {
          "base_uri": "https://localhost:8080/"
        },
        "outputId": "5906e915-9c8a-4038-bcba-2be84f30f6f0"
      },
      "source": [
        " [x for x in dir(my_Obj) if not x.startswith('__')]"
      ],
      "execution_count": null,
      "outputs": [
        {
          "output_type": "execute_result",
          "data": {
            "text/plain": [
              "['name']"
            ]
          },
          "metadata": {},
          "execution_count": 10
        }
      ]
    },
    {
      "cell_type": "markdown",
      "metadata": {
        "id": "W09KKaIWdfMy"
      },
      "source": [
        "## Create a Person Class"
      ]
    },
    {
      "cell_type": "markdown",
      "metadata": {
        "id": "xO-P-6oaBKb0"
      },
      "source": [
        "##### Attributes - Properties "
      ]
    },
    {
      "cell_type": "code",
      "metadata": {
        "id": "3h-VyXJ0dhgR"
      },
      "source": [
        "class Person:\n",
        "    def __init__(self, name, age):\n",
        "        self.name = name\n",
        "        self.age = age\n",
        "  "
      ],
      "execution_count": 1,
      "outputs": []
    },
    {
      "cell_type": "code",
      "metadata": {
        "colab": {
          "base_uri": "https://localhost:8080/"
        },
        "id": "MQFB8_J2ApQW",
        "outputId": "17950e8d-06db-470c-9898-93df83d3a472"
      },
      "source": [
        "my_Person = Person(\"Bob\", 42)\n",
        "my_Person.age"
      ],
      "execution_count": 6,
      "outputs": [
        {
          "output_type": "execute_result",
          "data": {
            "text/plain": [
              "42"
            ]
          },
          "metadata": {},
          "execution_count": 6
        }
      ]
    },
    {
      "cell_type": "code",
      "metadata": {
        "colab": {
          "base_uri": "https://localhost:8080/"
        },
        "id": "MjBQRH0zLhbY",
        "outputId": "48f03be6-9d77-4bf2-ba7c-0da426b2d97e"
      },
      "source": [
        "[x for x in dir(my_Person) if not x.startswith('__')]"
      ],
      "execution_count": 4,
      "outputs": [
        {
          "output_type": "execute_result",
          "data": {
            "text/plain": [
              "['age', 'name']"
            ]
          },
          "metadata": {},
          "execution_count": 4
        }
      ]
    },
    {
      "cell_type": "markdown",
      "metadata": {
        "id": "u4N06_LzA9vq"
      },
      "source": [
        "##### Attributes - Methods"
      ]
    },
    {
      "cell_type": "code",
      "metadata": {
        "id": "TOHyfgZMBgid"
      },
      "source": [
        "class Person:\n",
        "    def __init__(self, name, age):\n",
        "        self.name = name\n",
        "        self.age = age\n",
        "        \n",
        "    def introduceyourself(self):\n",
        "        print(\"My name is \" + self.name)\n",
        "        print(\"My age is \" + str(self.age))"
      ],
      "execution_count": 7,
      "outputs": []
    },
    {
      "cell_type": "code",
      "metadata": {
        "colab": {
          "base_uri": "https://localhost:8080/"
        },
        "id": "WJS7TnjCBlm5",
        "outputId": "f8482490-263f-4960-e6c4-416b1f104dca"
      },
      "source": [
        "my_Person = Person(\"Bob\", 42)\n",
        "[x for x in dir(my_Person) if not x.startswith('__')]"
      ],
      "execution_count": 8,
      "outputs": [
        {
          "output_type": "execute_result",
          "data": {
            "text/plain": [
              "['age', 'introduceyourself', 'name']"
            ]
          },
          "metadata": {},
          "execution_count": 8
        }
      ]
    },
    {
      "cell_type": "code",
      "metadata": {
        "colab": {
          "base_uri": "https://localhost:8080/"
        },
        "id": "GcZxh33zBzg4",
        "outputId": "f7c58b55-c6ea-499a-b553-fdfdfb717f57"
      },
      "source": [
        "my_Person.introduceyourself()"
      ],
      "execution_count": null,
      "outputs": [
        {
          "output_type": "stream",
          "name": "stdout",
          "text": [
            "My name is Bob\n",
            "My age is 42\n"
          ]
        }
      ]
    },
    {
      "cell_type": "markdown",
      "metadata": {
        "id": "aIYy7psyB-Uk"
      },
      "source": [
        "### Inheritance"
      ]
    },
    {
      "cell_type": "code",
      "metadata": {
        "id": "grkPusKAB9qN"
      },
      "source": [
        "class Teacher(Person): #this class inherits the class above!\n",
        "    def stateprofession(self):\n",
        "        print(\"I am a teacher!\")"
      ],
      "execution_count": 23,
      "outputs": []
    },
    {
      "cell_type": "code",
      "metadata": {
        "id": "dr1myGdKCGUb",
        "colab": {
          "base_uri": "https://localhost:8080/"
        },
        "outputId": "7078dcb7-3211-4e55-e9e5-926c41257eda"
      },
      "source": [
        "teacher_Person = Teacher(\"Bob\", 42)\n",
        "teacher_Person.introduceyourself()\n",
        "teacher_Person.stateprofession()"
      ],
      "execution_count": 10,
      "outputs": [
        {
          "output_type": "stream",
          "name": "stdout",
          "text": [
            "My name is Bob\n",
            "My age is 42\n",
            "I am a teacher!\n"
          ]
        }
      ]
    },
    {
      "cell_type": "code",
      "metadata": {
        "colab": {
          "base_uri": "https://localhost:8080/"
        },
        "id": "JpQV1dK6CdEd",
        "outputId": "f93e99a4-c242-4670-cc6a-d611c0113c84"
      },
      "source": [
        "[x for x in dir(teacher_Person) if not x.startswith('__')]"
      ],
      "execution_count": 11,
      "outputs": [
        {
          "output_type": "execute_result",
          "data": {
            "text/plain": [
              "['age', 'introduceyourself', 'name', 'stateprofession']"
            ]
          },
          "metadata": {},
          "execution_count": 11
        }
      ]
    },
    {
      "cell_type": "markdown",
      "metadata": {
        "id": "_qCu6hh2DsHG"
      },
      "source": [
        "##### Method overloading - constructor"
      ]
    },
    {
      "cell_type": "markdown",
      "metadata": {
        "id": "_2zEz5lFFcdk"
      },
      "source": [
        "class Person:\n",
        "    \n",
        "  \n",
        "    def __init__(self, name, age):\n",
        "        self.name = name\n",
        "        self.age = age\n",
        "\n",
        "    def introduceyourself(self):\n",
        "        print(\"My name is \" + self.name)\n",
        "        print(\"My age is \" + str(self.age))"
      ]
    },
    {
      "cell_type": "code",
      "metadata": {
        "id": "slLUolf7EN2j"
      },
      "source": [
        "class Teacher(Person): #this class inherits the class above!\n",
        "    def __init__(self, name, age, course):\n",
        "        self.course = course #initialise a new variable\n",
        "        super().__init__(name,age) #call the init of Person\n",
        "        \n",
        "    def stateprofession(self):\n",
        "        print(\"I am a teacher!\") \n",
        "        print(\"I teach \" + str(self.course) )       \n",
        "    \n",
        "    def introduceyourself(self):\n",
        "        super().introduceyourself() #call the introduceyourself() of the Person\n",
        "        "
      ],
      "execution_count": 12,
      "outputs": []
    },
    {
      "cell_type": "code",
      "metadata": {
        "colab": {
          "base_uri": "https://localhost:8080/"
        },
        "id": "Gzl5eF_PF26Q",
        "outputId": "d85a2824-9281-49b6-bd09-918c2ffbc494"
      },
      "source": [
        "newteacher_Person = Teacher(\"Bob\", 42,\"maths\")\n",
        "[x for x in dir(newteacher_Person) if not x.startswith('__')]"
      ],
      "execution_count": 13,
      "outputs": [
        {
          "output_type": "execute_result",
          "data": {
            "text/plain": [
              "['age', 'course', 'introduceyourself', 'name', 'stateprofession']"
            ]
          },
          "metadata": {},
          "execution_count": 13
        }
      ]
    },
    {
      "cell_type": "code",
      "metadata": {
        "colab": {
          "base_uri": "https://localhost:8080/"
        },
        "id": "nPosmJRqGKF1",
        "outputId": "24178a8a-fb88-48fd-8c3c-70495d1d2333"
      },
      "source": [
        "newteacher_Person.introduceyourself()\n",
        "newteacher_Person.stateprofession()"
      ],
      "execution_count": 14,
      "outputs": [
        {
          "output_type": "stream",
          "name": "stdout",
          "text": [
            "My name is Bob\n",
            "My age is 42\n",
            "I am a teacher!\n",
            "I teach maths\n"
          ]
        }
      ]
    },
    {
      "cell_type": "markdown",
      "metadata": {
        "id": "_yeLTfdjHCGM"
      },
      "source": [
        "##### Method overriding - constructor"
      ]
    },
    {
      "cell_type": "markdown",
      "metadata": {
        "id": "pskSZADaHrk8"
      },
      "source": [
        "\n",
        "class Person:\n",
        "    \n",
        "  \n",
        "    def __init__(self, name, age):\n",
        "        self.name = name\n",
        "        self.age = age\n",
        "\n",
        "    def introduceyourself(self):\n",
        "        print(\"My name is \" + self.name)\n",
        "        print(\"My age is \" + str(self.age))"
      ]
    },
    {
      "cell_type": "code",
      "metadata": {
        "id": "S27Au0KoGsdw"
      },
      "source": [
        "class Teacher(Person): #this class inherits the class above!\n",
        "    def __init__(self, name, age):\n",
        "        self.course = \"\" #initialise a new variable\n",
        "        super().__init__(name,age) #call the init of Person\n",
        "\n",
        "    def addcourse(self, course):\n",
        "       self.course = course\n",
        "    def stateprofession(self):\n",
        "        print(\"I am a teacher!\") \n",
        "        print(\"I teach \" + str(self.course) )       \n",
        "    \n",
        "    def introduceyourself(self):\n",
        "        super().introduceyourself() #call the introduceyourself() of the Person"
      ],
      "execution_count": 15,
      "outputs": []
    },
    {
      "cell_type": "code",
      "metadata": {
        "colab": {
          "base_uri": "https://localhost:8080/"
        },
        "id": "-i7dprbvIkmh",
        "outputId": "ba877721-799f-4633-956f-45381e9e44d1"
      },
      "source": [
        "newteacher_Person = Teacher(\"Bob\", 42)\n",
        "newteacher_Person.addcourse(\"maths\")\n",
        "[x for x in dir(newteacher_Person) if not x.startswith('__')]"
      ],
      "execution_count": 16,
      "outputs": [
        {
          "output_type": "execute_result",
          "data": {
            "text/plain": [
              "['addcourse', 'age', 'course', 'introduceyourself', 'name', 'stateprofession']"
            ]
          },
          "metadata": {},
          "execution_count": 16
        }
      ]
    },
    {
      "cell_type": "code",
      "metadata": {
        "colab": {
          "base_uri": "https://localhost:8080/"
        },
        "id": "w3cGG_MJIn5V",
        "outputId": "e9530b6e-ae5f-453a-b9a8-1ebde09401fc"
      },
      "source": [
        "newteacher_Person.introduceyourself()\n",
        "newteacher_Person.stateprofession()"
      ],
      "execution_count": 17,
      "outputs": [
        {
          "output_type": "stream",
          "name": "stdout",
          "text": [
            "My name is Bob\n",
            "My age is 42\n",
            "I am a teacher!\n",
            "I teach maths\n"
          ]
        }
      ]
    },
    {
      "cell_type": "markdown",
      "metadata": {
        "id": "K8kj8dsSJdDV"
      },
      "source": [
        "##### Operator overloading"
      ]
    },
    {
      "cell_type": "code",
      "metadata": {
        "id": "mSZVottqLZuD"
      },
      "source": [
        "class Rating():\n",
        "   def __init__(self, singles=0, doubles=0):\n",
        "        self.singles = singles\n",
        "        self.doubles = doubles\n",
        "   def display(self):\n",
        "        print(\"singles rating: \"+str(self.singles))\n",
        "        print(\"doubles rating: \"+str(self.doubles))\n",
        "\n"
      ],
      "execution_count": 18,
      "outputs": []
    },
    {
      "cell_type": "code",
      "metadata": {
        "id": "_MYJPDQGDf-u"
      },
      "source": [
        "player1 = Rating(7,9)\n",
        "player2 = Rating(8,6)"
      ],
      "execution_count": 19,
      "outputs": []
    },
    {
      "cell_type": "code",
      "metadata": {
        "id": "XYeIjrraDjzl",
        "colab": {
          "base_uri": "https://localhost:8080/"
        },
        "outputId": "d8334059-0078-4a51-ac75-5d17ae2f2998"
      },
      "source": [
        "player1.display()"
      ],
      "execution_count": 20,
      "outputs": [
        {
          "output_type": "stream",
          "name": "stdout",
          "text": [
            "singles rating: 7\n",
            "doubles rating: 9\n"
          ]
        }
      ]
    },
    {
      "cell_type": "code",
      "metadata": {
        "id": "rsM8vNPkDn4P",
        "colab": {
          "base_uri": "https://localhost:8080/"
        },
        "outputId": "82debc46-56e8-4b09-c659-39c8b6b3b7e6"
      },
      "source": [
        "player2.display()"
      ],
      "execution_count": 21,
      "outputs": [
        {
          "output_type": "stream",
          "name": "stdout",
          "text": [
            "singles rating: 8\n",
            "doubles rating: 6\n"
          ]
        }
      ]
    },
    {
      "cell_type": "code",
      "metadata": {
        "colab": {
          "base_uri": "https://localhost:8080/",
          "height": 201
        },
        "id": "7zAKyuQwM9RJ",
        "outputId": "ae5ae10c-db50-402b-9bbf-e36c9bc844e5"
      },
      "source": [
        "player1 = Rating(7,9)\n",
        "player2 = Rating(8,6)\n",
        "\n",
        "overallrating = player1+player2"
      ],
      "execution_count": 22,
      "outputs": [
        {
          "output_type": "error",
          "ename": "TypeError",
          "evalue": "ignored",
          "traceback": [
            "\u001b[0;31m---------------------------------------------------------------------------\u001b[0m",
            "\u001b[0;31mTypeError\u001b[0m                                 Traceback (most recent call last)",
            "\u001b[0;32m<ipython-input-22-290d6af6f1d8>\u001b[0m in \u001b[0;36m<module>\u001b[0;34m()\u001b[0m\n\u001b[1;32m      2\u001b[0m \u001b[0mplayer2\u001b[0m \u001b[0;34m=\u001b[0m \u001b[0mRating\u001b[0m\u001b[0;34m(\u001b[0m\u001b[0;36m8\u001b[0m\u001b[0;34m,\u001b[0m\u001b[0;36m6\u001b[0m\u001b[0;34m)\u001b[0m\u001b[0;34m\u001b[0m\u001b[0;34m\u001b[0m\u001b[0m\n\u001b[1;32m      3\u001b[0m \u001b[0;34m\u001b[0m\u001b[0m\n\u001b[0;32m----> 4\u001b[0;31m \u001b[0moverallrating\u001b[0m \u001b[0;34m=\u001b[0m \u001b[0mplayer1\u001b[0m\u001b[0;34m+\u001b[0m\u001b[0mplayer2\u001b[0m\u001b[0;34m\u001b[0m\u001b[0;34m\u001b[0m\u001b[0m\n\u001b[0m",
            "\u001b[0;31mTypeError\u001b[0m: unsupported operand type(s) for +: 'Rating' and 'Rating'"
          ]
        }
      ]
    },
    {
      "cell_type": "code",
      "metadata": {
        "id": "N8DzcdkTM0nj"
      },
      "source": [
        "class Rating():\n",
        "   def __init__(self, singles=0, doubles=0):\n",
        "        self.singles = singles\n",
        "        self.doubles = doubles\n",
        "   def __add__(self,other):\n",
        "        singles = self.singles + other.singles\n",
        "        doubles = self.doubles + other.doubles\n",
        "        return Rating(singles, doubles)\n",
        "   def display(self):\n",
        "        print(\"singles rating: \"+str(self.singles))\n",
        "        print(\"doubles rating: \"+str(self.doubles))"
      ],
      "execution_count": 37,
      "outputs": []
    },
    {
      "cell_type": "code",
      "metadata": {
        "id": "rtW6G-QuN9PV",
        "colab": {
          "base_uri": "https://localhost:8080/"
        },
        "outputId": "5b39bfbc-db12-4d32-a2dd-fd9681be20e6"
      },
      "source": [
        "player1 = Rating(7,9)\n",
        "player2 = Rating(8,6)\n",
        "\n",
        "overallrating = player1+player2\n",
        "overallrating.display()"
      ],
      "execution_count": 38,
      "outputs": [
        {
          "output_type": "stream",
          "name": "stdout",
          "text": [
            "singles rating: 15\n",
            "doubles rating: 15\n"
          ]
        }
      ]
    },
    {
      "cell_type": "code",
      "metadata": {
        "id": "mJqT-N1CPDy3",
        "colab": {
          "base_uri": "https://localhost:8080/"
        },
        "outputId": "86ffd056-e8b3-4b74-91ef-399651b54838"
      },
      "source": [
        "dir(player1)"
      ],
      "execution_count": 39,
      "outputs": [
        {
          "output_type": "execute_result",
          "data": {
            "text/plain": [
              "['__add__',\n",
              " '__class__',\n",
              " '__delattr__',\n",
              " '__dict__',\n",
              " '__dir__',\n",
              " '__doc__',\n",
              " '__eq__',\n",
              " '__format__',\n",
              " '__ge__',\n",
              " '__getattribute__',\n",
              " '__gt__',\n",
              " '__hash__',\n",
              " '__init__',\n",
              " '__init_subclass__',\n",
              " '__le__',\n",
              " '__lt__',\n",
              " '__module__',\n",
              " '__ne__',\n",
              " '__new__',\n",
              " '__reduce__',\n",
              " '__reduce_ex__',\n",
              " '__repr__',\n",
              " '__setattr__',\n",
              " '__sizeof__',\n",
              " '__str__',\n",
              " '__subclasshook__',\n",
              " '__weakref__',\n",
              " 'display',\n",
              " 'doubles',\n",
              " 'singles']"
            ]
          },
          "metadata": {},
          "execution_count": 39
        }
      ]
    },
    {
      "cell_type": "code",
      "metadata": {
        "id": "aiYxpcIXPIfm"
      },
      "source": [
        ""
      ],
      "execution_count": null,
      "outputs": []
    },
    {
      "cell_type": "markdown",
      "metadata": {
        "id": "bWNxUBe6Okjs"
      },
      "source": [
        "##### Other special methods are __str__, __lt__, __gt__ etc"
      ]
    },
    {
      "cell_type": "code",
      "metadata": {
        "id": "cF6b7etXPJfa"
      },
      "source": [
        "class Demooverride:\n",
        "  def welcome(self):\n",
        "    print (\"welcome all\")\n",
        "  def add(self,num1,num2):\n",
        "    print(num1+num2)"
      ],
      "execution_count": 29,
      "outputs": []
    },
    {
      "cell_type": "code",
      "metadata": {
        "id": "G6u0beICQAQM"
      },
      "source": [
        "class ChildOverride(Demooverride):\n",
        "  def mul(self, num1, num2):\n",
        "    print(num1*num2)\n",
        "  def welcome(self):\n",
        "    print(\"hey all\")"
      ],
      "execution_count": 33,
      "outputs": []
    },
    {
      "cell_type": "code",
      "metadata": {
        "id": "vAgqlICsQcpd"
      },
      "source": [
        "parentObj = Demooverride()\n",
        "childObj = ChildOverride()"
      ],
      "execution_count": 34,
      "outputs": []
    },
    {
      "cell_type": "code",
      "metadata": {
        "colab": {
          "base_uri": "https://localhost:8080/"
        },
        "id": "xGsgC2DHQ1sU",
        "outputId": "dbc29c78-3378-497c-8d31-3cf6c515f449"
      },
      "source": [
        "childObj.welcome()"
      ],
      "execution_count": 36,
      "outputs": [
        {
          "output_type": "stream",
          "name": "stdout",
          "text": [
            "hey all\n"
          ]
        }
      ]
    },
    {
      "cell_type": "code",
      "metadata": {
        "colab": {
          "base_uri": "https://localhost:8080/"
        },
        "id": "eoJrQpxnQq29",
        "outputId": "6a5abf18-256f-40d4-f2d7-06410a7d926b"
      },
      "source": [
        "parentObj.welcome()"
      ],
      "execution_count": 35,
      "outputs": [
        {
          "output_type": "stream",
          "name": "stdout",
          "text": [
            "welcome all\n"
          ]
        }
      ]
    }
  ]
}