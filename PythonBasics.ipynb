{
  "nbformat": 4,
  "nbformat_minor": 0,
  "metadata": {
    "colab": {
      "name": "PythonBasics.ipynb",
      "provenance": [],
      "collapsed_sections": [],
      "authorship_tag": "ABX9TyNbRnwU9vYbih63dXF6gUI7",
      "include_colab_link": true
    },
    "kernelspec": {
      "name": "python3",
      "display_name": "Python 3"
    },
    "language_info": {
      "name": "python"
    }
  },
  "cells": [
    {
      "cell_type": "markdown",
      "metadata": {
        "id": "view-in-github",
        "colab_type": "text"
      },
      "source": [
        "<a href=\"https://colab.research.google.com/github/techakilan/python-datascience-training/blob/master/PythonBasics.ipynb\" target=\"_parent\"><img src=\"https://colab.research.google.com/assets/colab-badge.svg\" alt=\"Open In Colab\"/></a>"
      ]
    },
    {
      "cell_type": "markdown",
      "metadata": {
        "id": "dlwB1oURVTQp"
      },
      "source": [
        "### Hello world Example"
      ]
    },
    {
      "cell_type": "code",
      "metadata": {
        "colab": {
          "base_uri": "https://localhost:8080/"
        },
        "id": "Xy1WEucrVG08",
        "outputId": "4811e9bf-9a2d-4514-ee8b-82bd15a56f5c"
      },
      "source": [
        "print(\"Hello, World!\")"
      ],
      "execution_count": 2,
      "outputs": [
        {
          "output_type": "stream",
          "name": "stdout",
          "text": [
            "Hello, World!\n"
          ]
        }
      ]
    },
    {
      "cell_type": "markdown",
      "metadata": {
        "id": "9bfAmdNwVxzf"
      },
      "source": [
        "## Variables"
      ]
    },
    {
      "cell_type": "code",
      "metadata": {
        "id": "LXc-hYPKV0sC"
      },
      "source": [
        "x=5\n",
        "y=7"
      ],
      "execution_count": 3,
      "outputs": []
    },
    {
      "cell_type": "code",
      "metadata": {
        "colab": {
          "base_uri": "https://localhost:8080/"
        },
        "id": "Xx2CVcUhV_MV",
        "outputId": "2a5ada0e-8a2f-47eb-a4ac-4f6e2e87c1fa"
      },
      "source": [
        "print(x)\n",
        "x"
      ],
      "execution_count": 4,
      "outputs": [
        {
          "output_type": "stream",
          "name": "stdout",
          "text": [
            "5\n"
          ]
        },
        {
          "output_type": "execute_result",
          "data": {
            "text/plain": [
              "5"
            ]
          },
          "metadata": {},
          "execution_count": 4
        }
      ]
    },
    {
      "cell_type": "markdown",
      "metadata": {
        "id": "390jUKiAx8xF"
      },
      "source": [
        ""
      ]
    },
    {
      "cell_type": "code",
      "metadata": {
        "colab": {
          "base_uri": "https://localhost:8080/"
        },
        "id": "dT_8kjcvWmQZ",
        "outputId": "8b633618-9967-4133-a970-ce6e2629c4c4"
      },
      "source": [
        "type(x)"
      ],
      "execution_count": 5,
      "outputs": [
        {
          "output_type": "execute_result",
          "data": {
            "text/plain": [
              "int"
            ]
          },
          "metadata": {},
          "execution_count": 5
        }
      ]
    },
    {
      "cell_type": "markdown",
      "metadata": {
        "id": "rX1crBq1Wx3_"
      },
      "source": [
        "## Simple Data types\n",
        "\n",
        "variables do not have explicit data type as python associates types with values.\n",
        "So x = 8 works. But int x = 8 will throw syntax error. However we may use type hinting using x:int = 8 which is same as x = 8"
      ]
    },
    {
      "cell_type": "markdown",
      "metadata": {
        "id": "WeUvO71yW246"
      },
      "source": [
        "#### Int (Numeric)\n",
        "\n"
      ]
    },
    {
      "cell_type": "code",
      "metadata": {
        "colab": {
          "base_uri": "https://localhost:8080/"
        },
        "id": "i7un1Tp7W04h",
        "outputId": "89a0fed8-867e-49f6-94bb-d7262bd992ab"
      },
      "source": [
        "x:int = 8\n",
        "y=8\n",
        "print(type(x))\n",
        "print(type(y))"
      ],
      "execution_count": 6,
      "outputs": [
        {
          "output_type": "stream",
          "name": "stdout",
          "text": [
            "<class 'int'>\n",
            "<class 'int'>\n"
          ]
        }
      ]
    },
    {
      "cell_type": "markdown",
      "metadata": {
        "id": "aciShRYAYsOV"
      },
      "source": [
        "#### Float(Numeric)"
      ]
    },
    {
      "cell_type": "code",
      "metadata": {
        "colab": {
          "base_uri": "https://localhost:8080/"
        },
        "id": "4bAY0MnPY5Cz",
        "outputId": "0e8ea35d-85f2-47e1-da23-9d9550f2bafc"
      },
      "source": [
        "x=8.8\n",
        "print(type(x))"
      ],
      "execution_count": 7,
      "outputs": [
        {
          "output_type": "stream",
          "name": "stdout",
          "text": [
            "<class 'float'>\n"
          ]
        }
      ]
    },
    {
      "cell_type": "markdown",
      "metadata": {
        "id": "rOiCmg55ZA6T"
      },
      "source": [
        "#### Complex numbers(Numeric)"
      ]
    },
    {
      "cell_type": "code",
      "metadata": {
        "colab": {
          "base_uri": "https://localhost:8080/"
        },
        "id": "KS5jTw3bZMMK",
        "outputId": "44aea897-c9b2-4c71-cb0a-6cc02008c4da"
      },
      "source": [
        "c1 = complex(2,3)\n",
        "print(c1)\n",
        "print(type(c1))"
      ],
      "execution_count": 8,
      "outputs": [
        {
          "output_type": "stream",
          "name": "stdout",
          "text": [
            "(2+3j)\n",
            "<class 'complex'>\n"
          ]
        }
      ]
    },
    {
      "cell_type": "markdown",
      "metadata": {
        "id": "xRFF8ucIyUZa"
      },
      "source": [
        "#### Boolean data type"
      ]
    },
    {
      "cell_type": "code",
      "metadata": {
        "colab": {
          "base_uri": "https://localhost:8080/"
        },
        "id": "kLKShl_3yf3U",
        "outputId": "9601573e-ad25-474b-bccd-5178cab47d44"
      },
      "source": [
        "x= True\n",
        "y= False\n",
        "print(x)\n",
        "print(y)"
      ],
      "execution_count": 9,
      "outputs": [
        {
          "output_type": "stream",
          "name": "stdout",
          "text": [
            "True\n",
            "False\n"
          ]
        }
      ]
    },
    {
      "cell_type": "code",
      "metadata": {
        "colab": {
          "base_uri": "https://localhost:8080/"
        },
        "id": "09dazpWNyykM",
        "outputId": "e5052d83-64e7-4839-dd33-90d17d9fb077"
      },
      "source": [
        "print(1==1)\n",
        "print(1>2)\n",
        "print(1<2)"
      ],
      "execution_count": 10,
      "outputs": [
        {
          "output_type": "stream",
          "name": "stdout",
          "text": [
            "True\n",
            "False\n",
            "True\n"
          ]
        }
      ]
    },
    {
      "cell_type": "markdown",
      "metadata": {
        "id": "mA7HegTf0W18"
      },
      "source": [
        "### String data type"
      ]
    },
    {
      "cell_type": "code",
      "metadata": {
        "colab": {
          "base_uri": "https://localhost:8080/"
        },
        "id": "eqZh_DkA0iDy",
        "outputId": "dd654f7f-74ad-4eab-f0ef-e9d6f1c7362b"
      },
      "source": [
        "txt1 = \"cats rule the world\"\n",
        "print(txt1)\n",
        "print(type(txt1))"
      ],
      "execution_count": 11,
      "outputs": [
        {
          "output_type": "stream",
          "name": "stdout",
          "text": [
            "cats rule the world\n",
            "<class 'str'>\n"
          ]
        }
      ]
    },
    {
      "cell_type": "code",
      "metadata": {
        "colab": {
          "base_uri": "https://localhost:8080/"
        },
        "id": "EqTf-N5E0Y_y",
        "outputId": "3c808a69-8024-4c1c-f949-2f51555b88a0"
      },
      "source": [
        "\n",
        "txt2 = 'cats rule the world'\n",
        "print(txt2)\n",
        "print(type(txt2))"
      ],
      "execution_count": 12,
      "outputs": [
        {
          "output_type": "stream",
          "name": "stdout",
          "text": [
            "cats rule the world\n",
            "<class 'str'>\n"
          ]
        }
      ]
    },
    {
      "cell_type": "code",
      "metadata": {
        "colab": {
          "base_uri": "https://localhost:8080/"
        },
        "id": "G7N4dhzv0vvR",
        "outputId": "e757c087-942d-463b-e8ba-bd2daa559aab"
      },
      "source": [
        "print(txt1==txt2)"
      ],
      "execution_count": 13,
      "outputs": [
        {
          "output_type": "stream",
          "name": "stdout",
          "text": [
            "True\n"
          ]
        }
      ]
    },
    {
      "cell_type": "markdown",
      "metadata": {
        "id": "TpglKuvDWJue"
      },
      "source": [
        "## Type casting"
      ]
    },
    {
      "cell_type": "markdown",
      "metadata": {
        "id": "3W7wyl-QaRWG"
      },
      "source": [
        "### Int to String"
      ]
    },
    {
      "cell_type": "code",
      "metadata": {
        "colab": {
          "base_uri": "https://localhost:8080/"
        },
        "id": "a4AHazF9WMrf",
        "outputId": "663058cf-6ba9-4e85-95b5-b490633bba41"
      },
      "source": [
        "num=8\n",
        "txt = str(num)\n",
        "print(txt)\n",
        "print(type(num))\n",
        "print(type(txt))\n",
        "\n",
        "\n"
      ],
      "execution_count": 14,
      "outputs": [
        {
          "output_type": "stream",
          "name": "stdout",
          "text": [
            "8\n",
            "<class 'int'>\n",
            "<class 'str'>\n"
          ]
        }
      ]
    },
    {
      "cell_type": "code",
      "metadata": {
        "colab": {
          "base_uri": "https://localhost:8080/",
          "height": 202
        },
        "id": "LbLC33lBa5Qs",
        "outputId": "7945225a-36d2-4ed7-f238-9ad08faad8db"
      },
      "source": [
        "num=8\n",
        "txt = \"cats rule the world\"\n",
        "print(num+\" \"+txt)"
      ],
      "execution_count": 15,
      "outputs": [
        {
          "output_type": "error",
          "ename": "TypeError",
          "evalue": "ignored",
          "traceback": [
            "\u001b[0;31m---------------------------------------------------------------------------\u001b[0m",
            "\u001b[0;31mTypeError\u001b[0m                                 Traceback (most recent call last)",
            "\u001b[0;32m<ipython-input-15-e760917eaccc>\u001b[0m in \u001b[0;36m<module>\u001b[0;34m()\u001b[0m\n\u001b[1;32m      1\u001b[0m \u001b[0mnum\u001b[0m\u001b[0;34m=\u001b[0m\u001b[0;36m8\u001b[0m\u001b[0;34m\u001b[0m\u001b[0;34m\u001b[0m\u001b[0m\n\u001b[1;32m      2\u001b[0m \u001b[0mtxt\u001b[0m \u001b[0;34m=\u001b[0m \u001b[0;34m\"cats rule the world\"\u001b[0m\u001b[0;34m\u001b[0m\u001b[0;34m\u001b[0m\u001b[0m\n\u001b[0;32m----> 3\u001b[0;31m \u001b[0mprint\u001b[0m\u001b[0;34m(\u001b[0m\u001b[0mnum\u001b[0m\u001b[0;34m+\u001b[0m\u001b[0;34m\" \"\u001b[0m\u001b[0;34m+\u001b[0m\u001b[0mtxt\u001b[0m\u001b[0;34m)\u001b[0m\u001b[0;34m\u001b[0m\u001b[0;34m\u001b[0m\u001b[0m\n\u001b[0m",
            "\u001b[0;31mTypeError\u001b[0m: unsupported operand type(s) for +: 'int' and 'str'"
          ]
        }
      ]
    },
    {
      "cell_type": "code",
      "metadata": {
        "colab": {
          "base_uri": "https://localhost:8080/"
        },
        "id": "eFBiOaSMbOTW",
        "outputId": "c0fb2901-ac23-4f26-a82c-4d6203db2b4b"
      },
      "source": [
        "num=8\n",
        "txt = \"cats rule the world\"\n",
        "print(str(num)+\" \"+txt)"
      ],
      "execution_count": 17,
      "outputs": [
        {
          "output_type": "stream",
          "name": "stdout",
          "text": [
            "8 cats rule the world\n"
          ]
        }
      ]
    },
    {
      "cell_type": "markdown",
      "metadata": {
        "id": "6UhKMvX9uWQL"
      },
      "source": [
        "### Float to String"
      ]
    },
    {
      "cell_type": "code",
      "metadata": {
        "colab": {
          "base_uri": "https://localhost:8080/"
        },
        "id": "4ssWYGm8uAsW",
        "outputId": "9e2b9cf7-c09f-48d0-91b1-a01d477b7f6d"
      },
      "source": [
        "num = 8.2\n",
        "print(str(num))\n",
        "print(type(str(num)))"
      ],
      "execution_count": 18,
      "outputs": [
        {
          "output_type": "stream",
          "name": "stdout",
          "text": [
            "8.2\n",
            "<class 'str'>\n"
          ]
        }
      ]
    },
    {
      "cell_type": "markdown",
      "metadata": {
        "id": "AfjNhVlguY_w"
      },
      "source": [
        "### Complex to string"
      ]
    },
    {
      "cell_type": "code",
      "metadata": {
        "colab": {
          "base_uri": "https://localhost:8080/"
        },
        "id": "wcFhLjDpudSU",
        "outputId": "a354dd8a-e67c-4060-d316-7517726f7b69"
      },
      "source": [
        "c1 = complex(3,4)\n",
        "print(str(c1))"
      ],
      "execution_count": 19,
      "outputs": [
        {
          "output_type": "stream",
          "name": "stdout",
          "text": [
            "(3+4j)\n"
          ]
        }
      ]
    },
    {
      "cell_type": "markdown",
      "metadata": {
        "id": "eyFdmwZjztaa"
      },
      "source": [
        "### String to Int"
      ]
    },
    {
      "cell_type": "code",
      "metadata": {
        "colab": {
          "base_uri": "https://localhost:8080/",
          "height": 185
        },
        "id": "X_TNdg4Tzwul",
        "outputId": "a5e1cb75-bd33-4516-f673-680dc26381ca"
      },
      "source": [
        "txt = \"cats rule the world\"\n",
        "print(int(txt))"
      ],
      "execution_count": 20,
      "outputs": [
        {
          "output_type": "error",
          "ename": "ValueError",
          "evalue": "ignored",
          "traceback": [
            "\u001b[0;31m---------------------------------------------------------------------------\u001b[0m",
            "\u001b[0;31mValueError\u001b[0m                                Traceback (most recent call last)",
            "\u001b[0;32m<ipython-input-20-4c33da52b877>\u001b[0m in \u001b[0;36m<module>\u001b[0;34m()\u001b[0m\n\u001b[1;32m      1\u001b[0m \u001b[0mtxt\u001b[0m \u001b[0;34m=\u001b[0m \u001b[0;34m\"cats rule the world\"\u001b[0m\u001b[0;34m\u001b[0m\u001b[0;34m\u001b[0m\u001b[0m\n\u001b[0;32m----> 2\u001b[0;31m \u001b[0mprint\u001b[0m\u001b[0;34m(\u001b[0m\u001b[0mint\u001b[0m\u001b[0;34m(\u001b[0m\u001b[0mtxt\u001b[0m\u001b[0;34m)\u001b[0m\u001b[0;34m)\u001b[0m\u001b[0;34m\u001b[0m\u001b[0;34m\u001b[0m\u001b[0m\n\u001b[0m",
            "\u001b[0;31mValueError\u001b[0m: invalid literal for int() with base 10: 'cats rule the world'"
          ]
        }
      ]
    },
    {
      "cell_type": "code",
      "metadata": {
        "colab": {
          "base_uri": "https://localhost:8080/"
        },
        "id": "YydWCoem0TLh",
        "outputId": "3422e5af-6948-4c10-d018-bc56b7a97f15"
      },
      "source": [
        "raw_user_age = input(\"What is your age?\")\n",
        "user_age = int(raw_user_age)\n",
        "print(user_age)"
      ],
      "execution_count": 21,
      "outputs": [
        {
          "output_type": "stream",
          "name": "stdout",
          "text": [
            "What is your age?12\n",
            "12\n"
          ]
        }
      ]
    },
    {
      "cell_type": "code",
      "metadata": {
        "colab": {
          "base_uri": "https://localhost:8080/"
        },
        "id": "fCj8g9ZI10_n",
        "outputId": "74690741-782e-4995-a961-22118404a63c"
      },
      "source": [
        "print(type(raw_user_age))\n",
        "print(type(int(raw_user_age)))"
      ],
      "execution_count": 22,
      "outputs": [
        {
          "output_type": "stream",
          "name": "stdout",
          "text": [
            "<class 'str'>\n",
            "<class 'int'>\n"
          ]
        }
      ]
    },
    {
      "cell_type": "markdown",
      "metadata": {
        "id": "WqypBtAc2Y5w"
      },
      "source": [
        "### String to Float"
      ]
    },
    {
      "cell_type": "code",
      "metadata": {
        "colab": {
          "base_uri": "https://localhost:8080/"
        },
        "id": "xVk2rqx92bH3",
        "outputId": "b006d514-04e7-41ac-c76b-dd4092561df0"
      },
      "source": [
        "txtFloat = \"8.2\"\n",
        "print(type(txtFloat))\n",
        "print(type(float(txtFloat)))\n"
      ],
      "execution_count": 23,
      "outputs": [
        {
          "output_type": "stream",
          "name": "stdout",
          "text": [
            "<class 'str'>\n",
            "<class 'float'>\n"
          ]
        }
      ]
    },
    {
      "cell_type": "markdown",
      "metadata": {
        "id": "NqqBnqob2vPj"
      },
      "source": [
        "### String to Complex"
      ]
    },
    {
      "cell_type": "code",
      "metadata": {
        "colab": {
          "base_uri": "https://localhost:8080/"
        },
        "id": "l1jF9T92216-",
        "outputId": "01515733-7d6c-4e7b-e9e3-fb99619fb8e7"
      },
      "source": [
        "txtComplex=\"(3+4j)\"\n",
        "print(type(txtComplex))\n",
        "print(type(complex(c1)))"
      ],
      "execution_count": 24,
      "outputs": [
        {
          "output_type": "stream",
          "name": "stdout",
          "text": [
            "<class 'str'>\n",
            "<class 'complex'>\n"
          ]
        }
      ]
    },
    {
      "cell_type": "markdown",
      "metadata": {
        "id": "5QfWWriuxADR"
      },
      "source": [
        "## Data types continued..."
      ]
    },
    {
      "cell_type": "markdown",
      "metadata": {
        "id": "tksgS2CW4BFf"
      },
      "source": [
        "### Sequence - List"
      ]
    },
    {
      "cell_type": "code",
      "metadata": {
        "colab": {
          "base_uri": "https://localhost:8080/"
        },
        "id": "G7BGha793-49",
        "outputId": "4ecf6e72-173f-4d23-e838-0887d8c3839f"
      },
      "source": [
        "# List of Strings\n",
        "fruitList = [\"apple\", \"banana\", \"cherry\",\"mango\",\"kiwi\",\"orange\",\"pineapple\"]\n",
        "print(fruitList)\n",
        "print(type(fruitList))\n",
        "print(type(fruitList[0]))"
      ],
      "execution_count": 25,
      "outputs": [
        {
          "output_type": "stream",
          "name": "stdout",
          "text": [
            "['apple', 'banana', 'cherry', 'mango', 'kiwi', 'orange', 'pineapple']\n",
            "<class 'list'>\n",
            "<class 'str'>\n"
          ]
        }
      ]
    },
    {
      "cell_type": "code",
      "metadata": {
        "colab": {
          "base_uri": "https://localhost:8080/"
        },
        "id": "joete07o4s0Q",
        "outputId": "829e5376-67a2-402b-f82a-290b2ac423f7"
      },
      "source": [
        "# List with mixed type\n",
        "\n",
        "mixedList = [\"apple\", 1]\n",
        "print(type(mixedList[0]))\n",
        "print(type(mixedList[1]))"
      ],
      "execution_count": 26,
      "outputs": [
        {
          "output_type": "stream",
          "name": "stdout",
          "text": [
            "<class 'str'>\n",
            "<class 'int'>\n"
          ]
        }
      ]
    },
    {
      "cell_type": "markdown",
      "metadata": {
        "id": "EqkYSiLS5to9"
      },
      "source": [
        "#### List Constructor"
      ]
    },
    {
      "cell_type": "code",
      "metadata": {
        "colab": {
          "base_uri": "https://localhost:8080/"
        },
        "id": "hBQwtMF-5v05",
        "outputId": "519551d4-c778-44e4-9c68-8ff4b9c60eed"
      },
      "source": [
        "fruitsConstructor = list((\"apple\", \"banana\", \"cherry\"))\n",
        "print(fruitsConstructor)\n",
        "print(type(fruitsConstructor))"
      ],
      "execution_count": 27,
      "outputs": [
        {
          "output_type": "stream",
          "name": "stdout",
          "text": [
            "['apple', 'banana', 'cherry']\n",
            "<class 'list'>\n"
          ]
        }
      ]
    },
    {
      "cell_type": "markdown",
      "metadata": {
        "id": "z3avA6ZU5JnH"
      },
      "source": [
        "#### List operations - Length"
      ]
    },
    {
      "cell_type": "code",
      "metadata": {
        "colab": {
          "base_uri": "https://localhost:8080/"
        },
        "id": "y5amItsS5Ry9",
        "outputId": "7e189c3c-f390-479a-836c-91ba93548839"
      },
      "source": [
        "print(len(fruitList))\n",
        "print(len(mixedList))"
      ],
      "execution_count": 28,
      "outputs": [
        {
          "output_type": "stream",
          "name": "stdout",
          "text": [
            "7\n",
            "2\n"
          ]
        }
      ]
    },
    {
      "cell_type": "markdown",
      "metadata": {
        "id": "DHtYfabh5hfj"
      },
      "source": [
        "#### List operation - Access list item"
      ]
    },
    {
      "cell_type": "code",
      "metadata": {
        "colab": {
          "base_uri": "https://localhost:8080/"
        },
        "id": "qKZs9QfC6bsw",
        "outputId": "6e19b77d-b938-4b37-d8f9-766414ffea74"
      },
      "source": [
        "# Positive Indexing [Index starts from 0 to (length of the list - 1)]\n",
        "# [\"apple\", \"banana\", \"cherry\",\"mango\",\"kiwi\",\"orange\",\"pineapple\"]\n",
        "print(fruitList[0])"
      ],
      "execution_count": 29,
      "outputs": [
        {
          "output_type": "stream",
          "name": "stdout",
          "text": [
            "apple\n"
          ]
        }
      ]
    },
    {
      "cell_type": "code",
      "metadata": {
        "colab": {
          "base_uri": "https://localhost:8080/"
        },
        "id": "BuSb7XrN6tZ3",
        "outputId": "53ca8b6d-c443-451a-a03b-78f3a67605ef"
      },
      "source": [
        "# Positive Indexing\n",
        "print(fruitList[1])"
      ],
      "execution_count": 30,
      "outputs": [
        {
          "output_type": "stream",
          "name": "stdout",
          "text": [
            "banana\n"
          ]
        }
      ]
    },
    {
      "cell_type": "code",
      "metadata": {
        "colab": {
          "base_uri": "https://localhost:8080/"
        },
        "id": "qhw_K7-s8VgR",
        "outputId": "35f4f5eb-bb7d-4314-c0dc-74ea8530beeb"
      },
      "source": [
        "print(fruitList[len(fruitList)-1])\n",
        "print(fruitList[6])"
      ],
      "execution_count": 31,
      "outputs": [
        {
          "output_type": "stream",
          "name": "stdout",
          "text": [
            "pineapple\n",
            "pineapple\n"
          ]
        }
      ]
    },
    {
      "cell_type": "code",
      "metadata": {
        "colab": {
          "base_uri": "https://localhost:8080/"
        },
        "id": "8VNeTw2o63DE",
        "outputId": "a1d589b1-c259-4ec0-a6ad-660217000a06"
      },
      "source": [
        "# Negative Indexing [index starts from -1 to length of the list]\n",
        "# [\"apple\", \"banana\", \"cherry\",\"mango\",\"kiwi\",\"orange\",\"pineapple\"]\n",
        "print(fruitList[-1])"
      ],
      "execution_count": 32,
      "outputs": [
        {
          "output_type": "stream",
          "name": "stdout",
          "text": [
            "pineapple\n"
          ]
        }
      ]
    },
    {
      "cell_type": "code",
      "metadata": {
        "colab": {
          "base_uri": "https://localhost:8080/"
        },
        "id": "7GTnwuBd8lmS",
        "outputId": "77148cc7-4271-498b-d16c-f2567acc6b7b"
      },
      "source": [
        "# Negative Indexing\n",
        "print(fruitList[-len(fruitList)])\n",
        "print(fruitList[-7])"
      ],
      "execution_count": 33,
      "outputs": [
        {
          "output_type": "stream",
          "name": "stdout",
          "text": [
            "apple\n",
            "apple\n"
          ]
        }
      ]
    },
    {
      "cell_type": "markdown",
      "metadata": {
        "id": "Lfr9t4v93YFR"
      },
      "source": [
        "[start,end,step]"
      ]
    },
    {
      "cell_type": "code",
      "metadata": {
        "colab": {
          "base_uri": "https://localhost:8080/"
        },
        "id": "dB5NQFiXAUYY",
        "outputId": "382c601c-bab0-4fd1-bb5c-aa6ac6d4271f"
      },
      "source": [
        "# Default values for Range of Index\n",
        "start=0\n",
        "end= len(fruitList)\n",
        "step=1\n",
        "print(\"start =\", start)\n",
        "print(\"end =\", end)\n",
        "print(\"step =\", step)\n",
        "print(type(start))\n",
        "print(type(end))\n",
        "print(type(step))\n",
        "print(fruitList)\n",
        "print(fruitList[start:end:step])"
      ],
      "execution_count": 34,
      "outputs": [
        {
          "output_type": "stream",
          "name": "stdout",
          "text": [
            "start = 0\n",
            "end = 7\n",
            "step = 1\n",
            "<class 'int'>\n",
            "<class 'int'>\n",
            "<class 'int'>\n",
            "['apple', 'banana', 'cherry', 'mango', 'kiwi', 'orange', 'pineapple']\n",
            "['apple', 'banana', 'cherry', 'mango', 'kiwi', 'orange', 'pineapple']\n"
          ]
        }
      ]
    },
    {
      "cell_type": "code",
      "metadata": {
        "colab": {
          "base_uri": "https://localhost:8080/"
        },
        "id": "zi3PtOjsCAhc",
        "outputId": "7b570e4a-651f-44e0-fe8c-e5e7f723a1ec"
      },
      "source": [
        "# Range of index \n",
        "# [\"apple\", \"banana\", \"cherry\",\"mango\",\"kiwi\",\"orange\",\"pineapple\"]\n",
        "start = 2\n",
        "end = 5\n",
        "print(fruitList[2:5])\n",
        "print(fruitList[start:end])\n"
      ],
      "execution_count": 35,
      "outputs": [
        {
          "output_type": "stream",
          "name": "stdout",
          "text": [
            "['cherry', 'mango', 'kiwi']\n",
            "['cherry', 'mango', 'kiwi']\n"
          ]
        }
      ]
    },
    {
      "cell_type": "markdown",
      "metadata": {
        "id": "ZJVaZEZ2Ci0g"
      },
      "source": [
        "#### The result for start=2 to end=5\n",
        "#### items in index 2,3,4 [from start to (end-1)]\n",
        "#### or items in position 3,4,5\n"
      ]
    },
    {
      "cell_type": "code",
      "metadata": {
        "colab": {
          "base_uri": "https://localhost:8080/"
        },
        "id": "1tVm6An8AuBx",
        "outputId": "3a559ccb-f632-43ac-c007-62ce08748cc1"
      },
      "source": [
        "# Range of index \n",
        "start = 2\n",
        "end = 5\n",
        "step=2\n",
        "print(fruitList[2:5:2])\n",
        "print(fruitList[start:end:step])"
      ],
      "execution_count": 36,
      "outputs": [
        {
          "output_type": "stream",
          "name": "stdout",
          "text": [
            "['cherry', 'kiwi']\n",
            "['cherry', 'kiwi']\n"
          ]
        }
      ]
    },
    {
      "cell_type": "markdown",
      "metadata": {
        "id": "qBA37QqhD320"
      },
      "source": [
        "The result for start=2 to end=5 with step=2\n",
        "\n",
        "items in index 2,4 [from start to (end-1), with step value of 2]\n",
        "\n",
        "or items in position 3,5"
      ]
    },
    {
      "cell_type": "code",
      "metadata": {
        "colab": {
          "base_uri": "https://localhost:8080/"
        },
        "id": "Pd8LELy4FD6O",
        "outputId": "eb2ca659-ee95-4f25-949f-118c84417aa7"
      },
      "source": [
        "# Range of index \n",
        "# [\"apple\", \"banana\", \"cherry\",\"mango\",\"kiwi\",\"orange\",\"pineapple\"]\n",
        "print(fruitList[:5:2])"
      ],
      "execution_count": 37,
      "outputs": [
        {
          "output_type": "stream",
          "name": "stdout",
          "text": [
            "['apple', 'cherry', 'kiwi']\n"
          ]
        }
      ]
    },
    {
      "cell_type": "markdown",
      "metadata": {
        "id": "jfs0pQ79FjNH"
      },
      "source": [
        "##### The default value of start is taken as 0"
      ]
    },
    {
      "cell_type": "code",
      "metadata": {
        "colab": {
          "base_uri": "https://localhost:8080/"
        },
        "id": "_K2diw1oFt0x",
        "outputId": "14a2e9db-7266-4df0-cc80-174360b70b9a"
      },
      "source": [
        "# Range of index\n",
        "# [\"apple\", \"banana\", \"cherry\",\"mango\",\"kiwi\",\"orange\",\"pineapple\"]\n",
        "print(fruitList[::2])\n",
        "print(fruitList[0:7:2])"
      ],
      "execution_count": 38,
      "outputs": [
        {
          "output_type": "stream",
          "name": "stdout",
          "text": [
            "['apple', 'cherry', 'kiwi', 'pineapple']\n",
            "['apple', 'cherry', 'kiwi', 'pineapple']\n"
          ]
        }
      ]
    },
    {
      "cell_type": "markdown",
      "metadata": {
        "id": "lQVAt8DqF6fd"
      },
      "source": [
        "##### The default value of start is taken as 0, end is taken as 7"
      ]
    },
    {
      "cell_type": "code",
      "metadata": {
        "colab": {
          "base_uri": "https://localhost:8080/"
        },
        "id": "reS93Z4EGBeD",
        "outputId": "18fb42fd-460c-4280-a2f6-c2f872d7df4a"
      },
      "source": [
        "# Range of index\n",
        "print(fruitList[2::])"
      ],
      "execution_count": 39,
      "outputs": [
        {
          "output_type": "stream",
          "name": "stdout",
          "text": [
            "['cherry', 'mango', 'kiwi', 'orange', 'pineapple']\n"
          ]
        }
      ]
    },
    {
      "cell_type": "markdown",
      "metadata": {
        "id": "4ot4DgAuGgug"
      },
      "source": [
        "##### The default value of end is taken as 7, step is taken as 1"
      ]
    },
    {
      "cell_type": "markdown",
      "metadata": {
        "id": "dEtYGvdelTHe"
      },
      "source": [
        "#### List operation - copy"
      ]
    },
    {
      "cell_type": "markdown",
      "metadata": {
        "id": "1pwdxhRARLyt"
      },
      "source": [
        "##### The copy operation creates an exact copy of the original list. Changes to the original or copy do not affect the other."
      ]
    },
    {
      "cell_type": "code",
      "metadata": {
        "colab": {
          "base_uri": "https://localhost:8080/"
        },
        "id": "5DkxsGGRlYuP",
        "outputId": "ec9bcbac-fcb5-44e3-dd26-3f73be079f22"
      },
      "source": [
        "fruitListCopy = fruitList.copy()\n",
        "print(fruitList)\n",
        "print(fruitListCopy)\n",
        "print(fruitList==fruitListCopy)"
      ],
      "execution_count": 40,
      "outputs": [
        {
          "output_type": "stream",
          "name": "stdout",
          "text": [
            "['apple', 'banana', 'cherry', 'mango', 'kiwi', 'orange', 'pineapple']\n",
            "['apple', 'banana', 'cherry', 'mango', 'kiwi', 'orange', 'pineapple']\n",
            "True\n"
          ]
        }
      ]
    },
    {
      "cell_type": "markdown",
      "metadata": {
        "id": "2ycwGrHLRg_v"
      },
      "source": [
        "##### The list() operation behaves similar to copy"
      ]
    },
    {
      "cell_type": "code",
      "metadata": {
        "colab": {
          "base_uri": "https://localhost:8080/"
        },
        "id": "lSrIec6FlvQJ",
        "outputId": "b488256e-66fc-4369-b662-41d2b9ff3335"
      },
      "source": [
        "fruitListCopy = list(fruitList)\n",
        "print(fruitList)\n",
        "print(fruitListCopy)\n",
        "print(fruitList==fruitListCopy)"
      ],
      "execution_count": 41,
      "outputs": [
        {
          "output_type": "stream",
          "name": "stdout",
          "text": [
            "['apple', 'banana', 'cherry', 'mango', 'kiwi', 'orange', 'pineapple']\n",
            "['apple', 'banana', 'cherry', 'mango', 'kiwi', 'orange', 'pineapple']\n",
            "True\n"
          ]
        }
      ]
    },
    {
      "cell_type": "markdown",
      "metadata": {
        "id": "2z0OjZktG10k"
      },
      "source": [
        "#### List operation - replace value of an item in the list"
      ]
    },
    {
      "cell_type": "markdown",
      "metadata": {
        "id": "QC7OyNHXRvEq"
      },
      "source": [
        "##### A list item is replaced by assigning new value to item directly using = operator. The item is accessed using its index."
      ]
    },
    {
      "cell_type": "code",
      "metadata": {
        "id": "bOzzoeb9G9ek",
        "colab": {
          "base_uri": "https://localhost:8080/"
        },
        "outputId": "5d26e0c6-dd31-469c-f30d-6988635282db"
      },
      "source": [
        "# modify single item\n",
        "fruitListCopy = fruitList.copy()\n",
        "fruitListCopy[3] = 'mango_change1'\n",
        "print(fruitListCopy[3])\n",
        "fruitListCopy[3] = 'mango_change2'\n",
        "print(fruitListCopy[3])"
      ],
      "execution_count": 42,
      "outputs": [
        {
          "output_type": "stream",
          "name": "stdout",
          "text": [
            "mango_change1\n",
            "mango_change2\n"
          ]
        }
      ]
    },
    {
      "cell_type": "markdown",
      "metadata": {
        "id": "J3qP8QyDSCPz"
      },
      "source": [
        "#### Replace slice of an item. This is done using = operator. The new value is a list(or a slice of list). "
      ]
    },
    {
      "cell_type": "code",
      "metadata": {
        "id": "i4-ZnuYwH2fY",
        "colab": {
          "base_uri": "https://localhost:8080/"
        },
        "outputId": "63cb1fbf-b3d4-4364-9cc5-ed10cad1315b"
      },
      "source": [
        "# modify slice of items\n",
        "fruitListCopy = fruitList.copy()\n",
        "fruitListCopy[4:6] = ['kiwi_change1','orange_change1']\n",
        "print(fruitListCopy)\n",
        "fruitListCopy[4:6] = ['kiwi_change2','orange_change2']\n",
        "print(fruitListCopy)"
      ],
      "execution_count": 43,
      "outputs": [
        {
          "output_type": "stream",
          "name": "stdout",
          "text": [
            "['apple', 'banana', 'cherry', 'mango', 'kiwi_change1', 'orange_change1', 'pineapple']\n",
            "['apple', 'banana', 'cherry', 'mango', 'kiwi_change2', 'orange_change2', 'pineapple']\n"
          ]
        }
      ]
    },
    {
      "cell_type": "code",
      "metadata": {
        "id": "Fz3zYvMHKlxp",
        "colab": {
          "base_uri": "https://localhost:8080/"
        },
        "outputId": "f9f4f70c-95b8-4d87-f2a8-7cb572da6cfd"
      },
      "source": [
        "# modify slice of items with single value\n",
        "fruitListCopy = fruitList.copy()\n",
        "fruitListCopy[3:6] = ['newfruit']\n",
        "print(fruitListCopy)"
      ],
      "execution_count": 44,
      "outputs": [
        {
          "output_type": "stream",
          "name": "stdout",
          "text": [
            "['apple', 'banana', 'cherry', 'newfruit', 'pineapple']\n"
          ]
        }
      ]
    },
    {
      "cell_type": "code",
      "metadata": {
        "id": "RjRgyruKSidn",
        "outputId": "c203c933-a4da-4675-8ee1-9b95bff71c39",
        "colab": {
          "base_uri": "https://localhost:8080/"
        }
      },
      "source": [
        "# replace slice of item with another slice of items\n",
        "\n",
        "fruitListCopy1 = fruitList.copy()\n",
        "fruitListCopy2 = fruitList.copy()\n",
        "\n",
        "print(fruitListCopy1[1:3])\n",
        "print(fruitListCopy2[4:7])\n",
        "fruitListCopy2[1:3] = fruitListCopy1[4:7]\n",
        "\n",
        "print(fruitList)\n",
        "print(fruitListCopy1)\n",
        "print(fruitListCopy2)"
      ],
      "execution_count": 77,
      "outputs": [
        {
          "output_type": "stream",
          "name": "stdout",
          "text": [
            "['banana', 'cherry']\n",
            "['kiwi', 'orange', 'pineapple']\n",
            "['apple', 'banana', 'cherry', 'mango', 'kiwi', 'orange', 'pineapple']\n",
            "['apple', 'banana', 'cherry', 'mango', 'kiwi', 'orange', 'pineapple']\n",
            "['apple', 'kiwi', 'orange', 'pineapple', 'mango', 'kiwi', 'orange', 'pineapple']\n"
          ]
        }
      ]
    },
    {
      "cell_type": "markdown",
      "metadata": {
        "id": "mfA2gtipHkAB"
      },
      "source": [
        "##### List operation - Append/Insert item"
      ]
    },
    {
      "cell_type": "code",
      "metadata": {
        "id": "U8cLv68RLasv",
        "colab": {
          "base_uri": "https://localhost:8080/"
        },
        "outputId": "616165bf-a5de-4464-c71b-7e8222fa49fa"
      },
      "source": [
        "# Insert item at index 4\n",
        "fruitListCopy = fruitList.copy()\n",
        "fruitListCopy[3] = 'changed'\n",
        "print(fruitListCopy)\n",
        "fruitListCopy.insert(4,'newinsert')\n",
        "print(fruitListCopy)"
      ],
      "execution_count": 46,
      "outputs": [
        {
          "output_type": "stream",
          "name": "stdout",
          "text": [
            "['apple', 'banana', 'cherry', 'changed', 'kiwi', 'orange', 'pineapple']\n",
            "['apple', 'banana', 'cherry', 'changed', 'newinsert', 'kiwi', 'orange', 'pineapple']\n"
          ]
        }
      ]
    },
    {
      "cell_type": "code",
      "metadata": {
        "id": "WGSfNe3yOSMy",
        "colab": {
          "base_uri": "https://localhost:8080/"
        },
        "outputId": "7fbfe94e-9479-469b-81b6-94ebf240c70a"
      },
      "source": [
        "# Insert item at the end of the list\n",
        "fruitListCopy = fruitList.copy()\n",
        "print(fruitListCopy)\n",
        "fruitListCopy.append('append')\n",
        "print(fruitListCopy)"
      ],
      "execution_count": 47,
      "outputs": [
        {
          "output_type": "stream",
          "name": "stdout",
          "text": [
            "['apple', 'banana', 'cherry', 'mango', 'kiwi', 'orange', 'pineapple']\n",
            "['apple', 'banana', 'cherry', 'mango', 'kiwi', 'orange', 'pineapple', 'append']\n"
          ]
        }
      ]
    },
    {
      "cell_type": "code",
      "metadata": {
        "id": "BxkNITCaO_xW",
        "colab": {
          "base_uri": "https://localhost:8080/"
        },
        "outputId": "6b1a1d2b-a526-4e76-d1df-aa484077674d"
      },
      "source": [
        "# Insert item at the beginning of the list\n",
        "fruitListCopy = fruitList.copy()\n",
        "print(fruitListCopy)\n",
        "fruitListCopy.insert(0,'insertatstart')\n",
        "print(fruitListCopy)"
      ],
      "execution_count": 48,
      "outputs": [
        {
          "output_type": "stream",
          "name": "stdout",
          "text": [
            "['apple', 'banana', 'cherry', 'mango', 'kiwi', 'orange', 'pineapple']\n",
            "['insertatstart', 'apple', 'banana', 'cherry', 'mango', 'kiwi', 'orange', 'pineapple']\n"
          ]
        }
      ]
    },
    {
      "cell_type": "code",
      "metadata": {
        "colab": {
          "base_uri": "https://localhost:8080/"
        },
        "id": "VtyUjgXGa-bF",
        "outputId": "5acd1969-29bf-40c6-f581-77362930db03"
      },
      "source": [
        "# Remove list item by item\n",
        "fruitListCopy = fruitList.copy()\n",
        "print(fruitListCopy)\n",
        "fruitListCopy.remove(\"kiwi\")\n",
        "print(fruitListCopy)\n"
      ],
      "execution_count": 49,
      "outputs": [
        {
          "output_type": "stream",
          "name": "stdout",
          "text": [
            "['apple', 'banana', 'cherry', 'mango', 'kiwi', 'orange', 'pineapple']\n",
            "['apple', 'banana', 'cherry', 'mango', 'orange', 'pineapple']\n"
          ]
        }
      ]
    },
    {
      "cell_type": "code",
      "metadata": {
        "colab": {
          "base_uri": "https://localhost:8080/"
        },
        "id": "eL559vhtb2Ou",
        "outputId": "c89d8786-cbab-44ec-f4cc-48c60668c7c1"
      },
      "source": [
        "#Remove item using item index\n",
        "\n",
        "fruitListCopy = fruitList.copy()\n",
        "print(fruitListCopy)\n",
        "fruitListCopy.pop(4)\n",
        "print(fruitListCopy)\n"
      ],
      "execution_count": 50,
      "outputs": [
        {
          "output_type": "stream",
          "name": "stdout",
          "text": [
            "['apple', 'banana', 'cherry', 'mango', 'kiwi', 'orange', 'pineapple']\n",
            "['apple', 'banana', 'cherry', 'mango', 'orange', 'pineapple']\n"
          ]
        }
      ]
    },
    {
      "cell_type": "code",
      "metadata": {
        "colab": {
          "base_uri": "https://localhost:8080/"
        },
        "id": "LWy0SgtFcFpH",
        "outputId": "0dd1debf-1c42-4578-9fdd-da09c6e1a96d"
      },
      "source": [
        "#Remove item using item index and print the removed item\n",
        "fruitListCopy = fruitList.copy()\n",
        "fruit = fruitListCopy.pop(4)\n",
        "print(fruit)"
      ],
      "execution_count": 51,
      "outputs": [
        {
          "output_type": "stream",
          "name": "stdout",
          "text": [
            "kiwi\n"
          ]
        }
      ]
    },
    {
      "cell_type": "code",
      "metadata": {
        "colab": {
          "base_uri": "https://localhost:8080/"
        },
        "id": "Y_gAexL-cgYw",
        "outputId": "94661aa2-ef65-4163-805e-55a1d6ced498"
      },
      "source": [
        "# Remove the last item\n",
        "\n",
        "fruitListCopy = fruitList.copy()\n",
        "print(fruitListCopy)\n",
        "fruitListCopy.pop()\n",
        "print(fruitListCopy)"
      ],
      "execution_count": 52,
      "outputs": [
        {
          "output_type": "stream",
          "name": "stdout",
          "text": [
            "['apple', 'banana', 'cherry', 'mango', 'kiwi', 'orange', 'pineapple']\n",
            "['apple', 'banana', 'cherry', 'mango', 'kiwi', 'orange']\n"
          ]
        }
      ]
    },
    {
      "cell_type": "code",
      "metadata": {
        "colab": {
          "base_uri": "https://localhost:8080/"
        },
        "id": "Apul_QH8cuMa",
        "outputId": "4b67afc2-7781-4ffe-b195-69e100a4ad9d"
      },
      "source": [
        "# Remove the first item\n",
        "fruitListCopy = fruitList.copy()\n",
        "print(fruitListCopy)\n",
        "del fruitListCopy[0]\n",
        "print(fruitListCopy)"
      ],
      "execution_count": 53,
      "outputs": [
        {
          "output_type": "stream",
          "name": "stdout",
          "text": [
            "['apple', 'banana', 'cherry', 'mango', 'kiwi', 'orange', 'pineapple']\n",
            "['banana', 'cherry', 'mango', 'kiwi', 'orange', 'pineapple']\n"
          ]
        }
      ]
    },
    {
      "cell_type": "code",
      "metadata": {
        "colab": {
          "base_uri": "https://localhost:8080/",
          "height": 219
        },
        "id": "JaRtj07bdXeQ",
        "outputId": "d1b3ce97-369c-44b4-d379-26fc3cf909a5"
      },
      "source": [
        "# Remove the entire list\n",
        "fruitListCopy = fruitList.copy()\n",
        "print(fruitListCopy)\n",
        "del fruitListCopy\n",
        "print(fruitListCopy)\n"
      ],
      "execution_count": 54,
      "outputs": [
        {
          "output_type": "stream",
          "name": "stdout",
          "text": [
            "['apple', 'banana', 'cherry', 'mango', 'kiwi', 'orange', 'pineapple']\n"
          ]
        },
        {
          "output_type": "error",
          "ename": "NameError",
          "evalue": "ignored",
          "traceback": [
            "\u001b[0;31m---------------------------------------------------------------------------\u001b[0m",
            "\u001b[0;31mNameError\u001b[0m                                 Traceback (most recent call last)",
            "\u001b[0;32m<ipython-input-54-951ea923c04a>\u001b[0m in \u001b[0;36m<module>\u001b[0;34m()\u001b[0m\n\u001b[1;32m      3\u001b[0m \u001b[0mprint\u001b[0m\u001b[0;34m(\u001b[0m\u001b[0mfruitListCopy\u001b[0m\u001b[0;34m)\u001b[0m\u001b[0;34m\u001b[0m\u001b[0;34m\u001b[0m\u001b[0m\n\u001b[1;32m      4\u001b[0m \u001b[0;32mdel\u001b[0m \u001b[0mfruitListCopy\u001b[0m\u001b[0;34m\u001b[0m\u001b[0;34m\u001b[0m\u001b[0m\n\u001b[0;32m----> 5\u001b[0;31m \u001b[0mprint\u001b[0m\u001b[0;34m(\u001b[0m\u001b[0mfruitListCopy\u001b[0m\u001b[0;34m)\u001b[0m\u001b[0;34m\u001b[0m\u001b[0;34m\u001b[0m\u001b[0m\n\u001b[0m",
            "\u001b[0;31mNameError\u001b[0m: name 'fruitListCopy' is not defined"
          ]
        }
      ]
    },
    {
      "cell_type": "code",
      "metadata": {
        "colab": {
          "base_uri": "https://localhost:8080/"
        },
        "id": "bcjJIH_7djFF",
        "outputId": "5f981914-e198-49ea-c281-320f15777160"
      },
      "source": [
        "# Clear the entire list\n",
        "fruitListCopy = fruitList.copy()\n",
        "print(fruitListCopy)\n",
        "fruitListCopy.clear()\n",
        "print(fruitListCopy)"
      ],
      "execution_count": 55,
      "outputs": [
        {
          "output_type": "stream",
          "name": "stdout",
          "text": [
            "['apple', 'banana', 'cherry', 'mango', 'kiwi', 'orange', 'pineapple']\n",
            "[]\n"
          ]
        }
      ]
    },
    {
      "cell_type": "markdown",
      "metadata": {
        "id": "1DI1XH0kdwao"
      },
      "source": [
        "#### List operation - Looping though the list"
      ]
    },
    {
      "cell_type": "code",
      "metadata": {
        "colab": {
          "base_uri": "https://localhost:8080/"
        },
        "id": "RZOORH1hd0-G",
        "outputId": "eecfec5a-71e8-4eed-b9dd-65a8267e4e9f"
      },
      "source": [
        "# Loop through the list by getting the item\n",
        "for item in fruitList:\n",
        "  print(item)"
      ],
      "execution_count": 56,
      "outputs": [
        {
          "output_type": "stream",
          "name": "stdout",
          "text": [
            "apple\n",
            "banana\n",
            "cherry\n",
            "mango\n",
            "kiwi\n",
            "orange\n",
            "pineapple\n"
          ]
        }
      ]
    },
    {
      "cell_type": "code",
      "metadata": {
        "colab": {
          "base_uri": "https://localhost:8080/"
        },
        "id": "DfY1-hy8eSLf",
        "outputId": "069e48ee-4b0a-49b0-edd3-0ba8962d7a75"
      },
      "source": [
        "# Loop through the list by index value using range() and len()\n",
        "for index in range(len(fruitList)):\n",
        "  print(fruitList[index])"
      ],
      "execution_count": 57,
      "outputs": [
        {
          "output_type": "stream",
          "name": "stdout",
          "text": [
            "apple\n",
            "banana\n",
            "cherry\n",
            "mango\n",
            "kiwi\n",
            "orange\n",
            "pineapple\n"
          ]
        }
      ]
    },
    {
      "cell_type": "code",
      "metadata": {
        "colab": {
          "base_uri": "https://localhost:8080/"
        },
        "id": "cnpC3ETQemtz",
        "outputId": "927c7313-36d4-4476-f67b-ce95a57413cd"
      },
      "source": [
        "# range function has start, end, step\n",
        "for index in range(0,6,2):\n",
        "  print(fruitList[index])"
      ],
      "execution_count": 58,
      "outputs": [
        {
          "output_type": "stream",
          "name": "stdout",
          "text": [
            "apple\n",
            "cherry\n",
            "kiwi\n"
          ]
        }
      ]
    },
    {
      "cell_type": "code",
      "metadata": {
        "colab": {
          "base_uri": "https://localhost:8080/"
        },
        "id": "G3DmzLfJfcSo",
        "outputId": "f7c4ea53-6b4e-4c27-f9fc-03fa25d09be4"
      },
      "source": [
        "#Loop using while \n",
        "index =0\n",
        "while index < len(fruitList):\n",
        "  print(fruitList[index])\n",
        "  index+=1"
      ],
      "execution_count": 59,
      "outputs": [
        {
          "output_type": "stream",
          "name": "stdout",
          "text": [
            "apple\n",
            "banana\n",
            "cherry\n",
            "mango\n",
            "kiwi\n",
            "orange\n",
            "pineapple\n"
          ]
        }
      ]
    },
    {
      "cell_type": "markdown",
      "metadata": {
        "id": "UBwK_SkTgrvz"
      },
      "source": [
        "##### List Comprehension\n"
      ]
    },
    {
      "cell_type": "code",
      "metadata": {
        "colab": {
          "base_uri": "https://localhost:8080/"
        },
        "id": "QsuPMIy6f8w7",
        "outputId": "b099d9b5-1e46-4d2d-f8c1-c2b383c6eb31"
      },
      "source": [
        "# Loop using List comprehension\n",
        "\n",
        "[item for item in fruitList] "
      ],
      "execution_count": 60,
      "outputs": [
        {
          "output_type": "execute_result",
          "data": {
            "text/plain": [
              "['apple', 'banana', 'cherry', 'mango', 'kiwi', 'orange', 'pineapple']"
            ]
          },
          "metadata": {},
          "execution_count": 60
        }
      ]
    },
    {
      "cell_type": "code",
      "metadata": {
        "colab": {
          "base_uri": "https://localhost:8080/"
        },
        "id": "kDGveYt1g7tv",
        "outputId": "14d99033-598d-4916-c81e-f4db029936e3"
      },
      "source": [
        "# Loop with condition\n",
        "\n",
        "[item for item in fruitList if item[0]>'c']  "
      ],
      "execution_count": 61,
      "outputs": [
        {
          "output_type": "execute_result",
          "data": {
            "text/plain": [
              "['mango', 'kiwi', 'orange', 'pineapple']"
            ]
          },
          "metadata": {},
          "execution_count": 61
        }
      ]
    },
    {
      "cell_type": "markdown",
      "metadata": {
        "id": "DPKcaF8zh0Lk"
      },
      "source": [
        "##### Using lambda"
      ]
    },
    {
      "cell_type": "code",
      "metadata": {
        "colab": {
          "base_uri": "https://localhost:8080/"
        },
        "id": "WJxl52tzhlPB",
        "outputId": "496537fa-072a-4f07-83e8-8122d055b9f9"
      },
      "source": [
        "list(map(lambda x:x, fruitList))"
      ],
      "execution_count": 62,
      "outputs": [
        {
          "output_type": "execute_result",
          "data": {
            "text/plain": [
              "['apple', 'banana', 'cherry', 'mango', 'kiwi', 'orange', 'pineapple']"
            ]
          },
          "metadata": {},
          "execution_count": 62
        }
      ]
    },
    {
      "cell_type": "code",
      "metadata": {
        "colab": {
          "base_uri": "https://localhost:8080/"
        },
        "id": "B62Vwfwdh4Bw",
        "outputId": "3fd01906-cbcb-4aea-8007-b2ea46954aa8"
      },
      "source": [
        "list(map(lambda x:x[0]>'c', fruitList))"
      ],
      "execution_count": 63,
      "outputs": [
        {
          "output_type": "execute_result",
          "data": {
            "text/plain": [
              "[False, False, False, True, True, True, True]"
            ]
          },
          "metadata": {},
          "execution_count": 63
        }
      ]
    },
    {
      "cell_type": "code",
      "metadata": {
        "colab": {
          "base_uri": "https://localhost:8080/"
        },
        "id": "yJsIOzJAj8Oi",
        "outputId": "096f3da0-18f4-44cf-ae19-2beb892da9e7"
      },
      "source": [
        "list(filter(lambda x:x[0]>'c', fruitList))"
      ],
      "execution_count": 64,
      "outputs": [
        {
          "output_type": "execute_result",
          "data": {
            "text/plain": [
              "['mango', 'kiwi', 'orange', 'pineapple']"
            ]
          },
          "metadata": {},
          "execution_count": 64
        }
      ]
    },
    {
      "cell_type": "markdown",
      "metadata": {
        "id": "TrgyKDuqkemc"
      },
      "source": [
        "##### Sort List"
      ]
    },
    {
      "cell_type": "code",
      "metadata": {
        "colab": {
          "base_uri": "https://localhost:8080/"
        },
        "id": "UXO7KrADkiCp",
        "outputId": "6bfd88ed-d5e3-492a-8d41-00f71453415b"
      },
      "source": [
        "fruitListCopy = fruitList.copy()\n",
        "print(fruitListCopy)\n",
        "fruitListCopy.sort()\n",
        "print(fruitListCopy)"
      ],
      "execution_count": 65,
      "outputs": [
        {
          "output_type": "stream",
          "name": "stdout",
          "text": [
            "['apple', 'banana', 'cherry', 'mango', 'kiwi', 'orange', 'pineapple']\n",
            "['apple', 'banana', 'cherry', 'kiwi', 'mango', 'orange', 'pineapple']\n"
          ]
        }
      ]
    },
    {
      "cell_type": "code",
      "metadata": {
        "colab": {
          "base_uri": "https://localhost:8080/"
        },
        "id": "Ro0fFr4Mk4yk",
        "outputId": "dde52c12-1894-4ec8-f975-36da4a02df53"
      },
      "source": [
        "fruitListCopy = fruitList.copy()\n",
        "print(fruitListCopy)\n",
        "fruitListCopy.sort(reverse=True)\n",
        "print(fruitListCopy)"
      ],
      "execution_count": 66,
      "outputs": [
        {
          "output_type": "stream",
          "name": "stdout",
          "text": [
            "['apple', 'banana', 'cherry', 'mango', 'kiwi', 'orange', 'pineapple']\n",
            "['pineapple', 'orange', 'mango', 'kiwi', 'cherry', 'banana', 'apple']\n"
          ]
        }
      ]
    },
    {
      "cell_type": "markdown",
      "metadata": {
        "id": "ft1zcaqOmnmM"
      },
      "source": [
        "##### Join List"
      ]
    },
    {
      "cell_type": "code",
      "metadata": {
        "colab": {
          "base_uri": "https://localhost:8080/"
        },
        "id": "MOozr4vTmq7w",
        "outputId": "2583fd9a-c238-4ef8-a482-08936019e416"
      },
      "source": [
        "costList = [10,7,8,9,5,9,10]\n",
        "fruitAndCostList = fruitList+costList\n",
        "print(fruitAndCostList)"
      ],
      "execution_count": 67,
      "outputs": [
        {
          "output_type": "stream",
          "name": "stdout",
          "text": [
            "['apple', 'banana', 'cherry', 'mango', 'kiwi', 'orange', 'pineapple', 10, 7, 8, 9, 5, 9, 10]\n"
          ]
        }
      ]
    },
    {
      "cell_type": "code",
      "metadata": {
        "colab": {
          "base_uri": "https://localhost:8080/"
        },
        "id": "H0e5Er-tnYgu",
        "outputId": "64640f93-3161-4a6d-ade4-b0c31850a829"
      },
      "source": [
        "fruitListCopy = fruitList.copy()\n",
        "fruitListCopy.extend([10,7,8,9,5,9,10])\n",
        "print(fruitListCopy)"
      ],
      "execution_count": 68,
      "outputs": [
        {
          "output_type": "stream",
          "name": "stdout",
          "text": [
            "['apple', 'banana', 'cherry', 'mango', 'kiwi', 'orange', 'pineapple', 10, 7, 8, 9, 5, 9, 10]\n"
          ]
        }
      ]
    },
    {
      "cell_type": "markdown",
      "metadata": {
        "id": "_2-Yunsmnzzn"
      },
      "source": [
        "##### Count"
      ]
    },
    {
      "cell_type": "code",
      "metadata": {
        "colab": {
          "base_uri": "https://localhost:8080/"
        },
        "id": "lHL3mx0cn1xW",
        "outputId": "852261db-b5f2-4b5f-fb17-593f2a466e0e"
      },
      "source": [
        "costList = [10,7,8,9,5,9,10]\n",
        "costList.count(10)"
      ],
      "execution_count": 69,
      "outputs": [
        {
          "output_type": "execute_result",
          "data": {
            "text/plain": [
              "2"
            ]
          },
          "metadata": {},
          "execution_count": 69
        }
      ]
    },
    {
      "cell_type": "markdown",
      "metadata": {
        "id": "VlfVlOLKoJPV"
      },
      "source": [
        "##### Reverse"
      ]
    },
    {
      "cell_type": "code",
      "metadata": {
        "colab": {
          "base_uri": "https://localhost:8080/"
        },
        "id": "Grkon7KYoMrL",
        "outputId": "537860fb-73dd-447b-8ca7-2f85eaa129be"
      },
      "source": [
        "fruitListCopy = fruitList.copy()\n",
        "print(fruitListCopy)\n",
        "fruitListCopy.reverse()\n",
        "print(fruitListCopy)"
      ],
      "execution_count": 70,
      "outputs": [
        {
          "output_type": "stream",
          "name": "stdout",
          "text": [
            "['apple', 'banana', 'cherry', 'mango', 'kiwi', 'orange', 'pineapple']\n",
            "['pineapple', 'orange', 'kiwi', 'mango', 'cherry', 'banana', 'apple']\n"
          ]
        }
      ]
    },
    {
      "cell_type": "markdown",
      "metadata": {
        "id": "FI2OBeARE8uM"
      },
      "source": [
        "### Sequence - "
      ]
    },
    {
      "cell_type": "code",
      "metadata": {
        "id": "NrbTWqT8D5CZ",
        "outputId": "11867b5e-03c4-4d43-844c-f4b2e1a9c7e0",
        "colab": {
          "base_uri": "https://localhost:8080/"
        }
      },
      "source": [
        "print(fruitList)"
      ],
      "execution_count": 71,
      "outputs": [
        {
          "output_type": "stream",
          "name": "stdout",
          "text": [
            "['apple', 'banana', 'cherry', 'mango', 'kiwi', 'orange', 'pineapple']\n"
          ]
        }
      ]
    }
  ]
}