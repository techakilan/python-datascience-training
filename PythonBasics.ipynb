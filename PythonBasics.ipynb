{
  "nbformat": 4,
  "nbformat_minor": 0,
  "metadata": {
    "colab": {
      "name": "PythonBasics.ipynb",
      "provenance": [],
      "authorship_tag": "ABX9TyMHx/H0FprLOw0c/MH3U67c",
      "include_colab_link": true
    },
    "kernelspec": {
      "name": "python3",
      "display_name": "Python 3"
    },
    "language_info": {
      "name": "python"
    }
  },
  "cells": [
    {
      "cell_type": "markdown",
      "metadata": {
        "id": "view-in-github",
        "colab_type": "text"
      },
      "source": [
        "<a href=\"https://colab.research.google.com/github/techakilan/python-datascience-training/blob/master/PythonBasics.ipynb\" target=\"_parent\"><img src=\"https://colab.research.google.com/assets/colab-badge.svg\" alt=\"Open In Colab\"/></a>"
      ]
    },
    {
      "cell_type": "markdown",
      "metadata": {
        "id": "dlwB1oURVTQp"
      },
      "source": [
        "### Hello world Example"
      ]
    },
    {
      "cell_type": "code",
      "metadata": {
        "colab": {
          "base_uri": "https://localhost:8080/"
        },
        "id": "Xy1WEucrVG08",
        "outputId": "cc94c379-759a-4c17-a8d8-a413b2f5ac2c"
      },
      "source": [
        "print(\"Hello, World!\")"
      ],
      "execution_count": 1,
      "outputs": [
        {
          "output_type": "stream",
          "name": "stdout",
          "text": [
            "Hello, World!\n"
          ]
        }
      ]
    },
    {
      "cell_type": "markdown",
      "metadata": {
        "id": "9bfAmdNwVxzf"
      },
      "source": [
        "## Variables"
      ]
    },
    {
      "cell_type": "code",
      "metadata": {
        "id": "LXc-hYPKV0sC"
      },
      "source": [
        "x=5\n",
        "y=7"
      ],
      "execution_count": 2,
      "outputs": []
    },
    {
      "cell_type": "code",
      "metadata": {
        "colab": {
          "base_uri": "https://localhost:8080/"
        },
        "id": "Xx2CVcUhV_MV",
        "outputId": "91816e4d-acb6-4aa4-c4c8-c87b6ecda79f"
      },
      "source": [
        "print(x)\n",
        "x"
      ],
      "execution_count": 4,
      "outputs": [
        {
          "output_type": "stream",
          "name": "stdout",
          "text": [
            "5\n"
          ]
        },
        {
          "output_type": "execute_result",
          "data": {
            "text/plain": [
              "5"
            ]
          },
          "metadata": {},
          "execution_count": 4
        }
      ]
    },
    {
      "cell_type": "code",
      "metadata": {
        "colab": {
          "base_uri": "https://localhost:8080/"
        },
        "id": "dT_8kjcvWmQZ",
        "outputId": "824cc4de-288c-4d5b-be4c-5bbff6ed6379"
      },
      "source": [
        "type(x)"
      ],
      "execution_count": 5,
      "outputs": [
        {
          "output_type": "execute_result",
          "data": {
            "text/plain": [
              "int"
            ]
          },
          "metadata": {},
          "execution_count": 5
        }
      ]
    },
    {
      "cell_type": "markdown",
      "metadata": {
        "id": "rX1crBq1Wx3_"
      },
      "source": [
        "## Simple Data types\n",
        "\n",
        "variables do not have explicit data type as python associates types with values.\n",
        "So x = 8 works. But int x = 8 will throw syntax error. However we may use type hinting using x:int = 8 which is same as x = 8"
      ]
    },
    {
      "cell_type": "markdown",
      "metadata": {
        "id": "WeUvO71yW246"
      },
      "source": [
        "#### Int (Numeric)\n",
        "\n"
      ]
    },
    {
      "cell_type": "code",
      "metadata": {
        "colab": {
          "base_uri": "https://localhost:8080/"
        },
        "id": "i7un1Tp7W04h",
        "outputId": "8c092171-9503-448f-9f96-7f4ef195d3ce"
      },
      "source": [
        "x:int = 8\n",
        "y=8\n",
        "print(type(x))\n",
        "print(type(y))"
      ],
      "execution_count": 8,
      "outputs": [
        {
          "output_type": "stream",
          "name": "stdout",
          "text": [
            "<class 'int'>\n",
            "<class 'int'>\n"
          ]
        }
      ]
    },
    {
      "cell_type": "markdown",
      "metadata": {
        "id": "aciShRYAYsOV"
      },
      "source": [
        "#### Float(Numeric)"
      ]
    },
    {
      "cell_type": "code",
      "metadata": {
        "colab": {
          "base_uri": "https://localhost:8080/"
        },
        "id": "4bAY0MnPY5Cz",
        "outputId": "bbe68938-1d3f-4a85-eda3-2a2a29a296cf"
      },
      "source": [
        "x=8.8\n",
        "print(type(x))"
      ],
      "execution_count": 9,
      "outputs": [
        {
          "output_type": "stream",
          "name": "stdout",
          "text": [
            "<class 'float'>\n"
          ]
        }
      ]
    },
    {
      "cell_type": "markdown",
      "metadata": {
        "id": "rOiCmg55ZA6T"
      },
      "source": [
        "#### Complex numbers(Numeric)"
      ]
    },
    {
      "cell_type": "code",
      "metadata": {
        "colab": {
          "base_uri": "https://localhost:8080/"
        },
        "id": "KS5jTw3bZMMK",
        "outputId": "5c3a9bd8-406e-4b57-d4dd-279d6af17fc0"
      },
      "source": [
        "c1 = complex(2,3)\n",
        "print(c1)\n",
        "print(type(c1))"
      ],
      "execution_count": 10,
      "outputs": [
        {
          "output_type": "stream",
          "name": "stdout",
          "text": [
            "(2+3j)\n",
            "<class 'complex'>\n"
          ]
        }
      ]
    },
    {
      "cell_type": "markdown",
      "metadata": {
        "id": "xRFF8ucIyUZa"
      },
      "source": [
        "#### Boolean data type"
      ]
    },
    {
      "cell_type": "code",
      "metadata": {
        "colab": {
          "base_uri": "https://localhost:8080/"
        },
        "id": "kLKShl_3yf3U",
        "outputId": "f8ab6c8c-c3b5-46a2-ac15-ea1698714e78"
      },
      "source": [
        "x= True\n",
        "y= False\n",
        "print(x)\n",
        "print(y)"
      ],
      "execution_count": 19,
      "outputs": [
        {
          "output_type": "stream",
          "name": "stdout",
          "text": [
            "True\n",
            "False\n"
          ]
        }
      ]
    },
    {
      "cell_type": "code",
      "metadata": {
        "colab": {
          "base_uri": "https://localhost:8080/"
        },
        "id": "09dazpWNyykM",
        "outputId": "3082ce23-95d1-4c98-8aa2-030d5b1459c1"
      },
      "source": [
        "print(1==1)\n",
        "print(1>2)\n",
        "print(1<2)"
      ],
      "execution_count": 24,
      "outputs": [
        {
          "output_type": "stream",
          "name": "stdout",
          "text": [
            "True\n",
            "False\n",
            "True\n"
          ]
        }
      ]
    },
    {
      "cell_type": "markdown",
      "metadata": {
        "id": "mA7HegTf0W18"
      },
      "source": [
        "### String data type"
      ]
    },
    {
      "cell_type": "code",
      "metadata": {
        "colab": {
          "base_uri": "https://localhost:8080/"
        },
        "id": "eqZh_DkA0iDy",
        "outputId": "b5d13197-addc-46b0-e257-fa05c1b709ae"
      },
      "source": [
        "txt1 = \"cats rule the world\"\n",
        "print(txt1)\n",
        "print(type(txt1))"
      ],
      "execution_count": 26,
      "outputs": [
        {
          "output_type": "stream",
          "name": "stdout",
          "text": [
            "cats rule the world\n",
            "<class 'str'>\n"
          ]
        }
      ]
    },
    {
      "cell_type": "code",
      "metadata": {
        "colab": {
          "base_uri": "https://localhost:8080/"
        },
        "id": "EqTf-N5E0Y_y",
        "outputId": "0c2ca439-f410-48a8-b960-c0eac00d9d17"
      },
      "source": [
        "\n",
        "txt2 = 'cats rule the world'\n",
        "print(txt2)\n",
        "print(type(txt2))"
      ],
      "execution_count": 27,
      "outputs": [
        {
          "output_type": "stream",
          "name": "stdout",
          "text": [
            "cats rule the world\n",
            "<class 'str'>\n"
          ]
        }
      ]
    },
    {
      "cell_type": "code",
      "metadata": {
        "colab": {
          "base_uri": "https://localhost:8080/"
        },
        "id": "G7N4dhzv0vvR",
        "outputId": "f320f093-acd6-43ee-875e-394b19e68d8e"
      },
      "source": [
        "print(txt1==txt2)"
      ],
      "execution_count": 28,
      "outputs": [
        {
          "output_type": "stream",
          "name": "stdout",
          "text": [
            "True\n"
          ]
        }
      ]
    },
    {
      "cell_type": "markdown",
      "metadata": {
        "id": "TpglKuvDWJue"
      },
      "source": [
        "## Type casting"
      ]
    },
    {
      "cell_type": "markdown",
      "metadata": {
        "id": "3W7wyl-QaRWG"
      },
      "source": [
        "### Int to String"
      ]
    },
    {
      "cell_type": "code",
      "metadata": {
        "colab": {
          "base_uri": "https://localhost:8080/"
        },
        "id": "a4AHazF9WMrf",
        "outputId": "4a9cf329-df3a-47fe-937f-80a07e9322aa"
      },
      "source": [
        "num=8\n",
        "txt = str(num)\n",
        "print(txt)\n",
        "print(type(num))\n",
        "print(type(txt))\n",
        "\n",
        "\n"
      ],
      "execution_count": 12,
      "outputs": [
        {
          "output_type": "stream",
          "name": "stdout",
          "text": [
            "8\n",
            "<class 'int'>\n",
            "<class 'str'>\n"
          ]
        }
      ]
    },
    {
      "cell_type": "code",
      "metadata": {
        "colab": {
          "base_uri": "https://localhost:8080/",
          "height": 202
        },
        "id": "LbLC33lBa5Qs",
        "outputId": "dd1dd280-5e2a-4ade-e698-f609edd35edf"
      },
      "source": [
        "num=8\n",
        "txt = \"cats rule the world\"\n",
        "print(num+\" \"+txt)"
      ],
      "execution_count": 13,
      "outputs": [
        {
          "output_type": "error",
          "ename": "TypeError",
          "evalue": "ignored",
          "traceback": [
            "\u001b[0;31m---------------------------------------------------------------------------\u001b[0m",
            "\u001b[0;31mTypeError\u001b[0m                                 Traceback (most recent call last)",
            "\u001b[0;32m<ipython-input-13-e760917eaccc>\u001b[0m in \u001b[0;36m<module>\u001b[0;34m()\u001b[0m\n\u001b[1;32m      1\u001b[0m \u001b[0mnum\u001b[0m\u001b[0;34m=\u001b[0m\u001b[0;36m8\u001b[0m\u001b[0;34m\u001b[0m\u001b[0;34m\u001b[0m\u001b[0m\n\u001b[1;32m      2\u001b[0m \u001b[0mtxt\u001b[0m \u001b[0;34m=\u001b[0m \u001b[0;34m\"cats rule the world\"\u001b[0m\u001b[0;34m\u001b[0m\u001b[0;34m\u001b[0m\u001b[0m\n\u001b[0;32m----> 3\u001b[0;31m \u001b[0mprint\u001b[0m\u001b[0;34m(\u001b[0m\u001b[0mnum\u001b[0m\u001b[0;34m+\u001b[0m\u001b[0;34m\" \"\u001b[0m\u001b[0;34m+\u001b[0m\u001b[0mtxt\u001b[0m\u001b[0;34m)\u001b[0m\u001b[0;34m\u001b[0m\u001b[0;34m\u001b[0m\u001b[0m\n\u001b[0m",
            "\u001b[0;31mTypeError\u001b[0m: unsupported operand type(s) for +: 'int' and 'str'"
          ]
        }
      ]
    },
    {
      "cell_type": "code",
      "metadata": {
        "colab": {
          "base_uri": "https://localhost:8080/"
        },
        "id": "eFBiOaSMbOTW",
        "outputId": "7b954c0e-0cdd-4ccf-b326-d7f533dd786f"
      },
      "source": [
        "num=8\n",
        "txt = \"cats rule the world\"\n",
        "print(str(num)+\" \"+txt)"
      ],
      "execution_count": 14,
      "outputs": [
        {
          "output_type": "stream",
          "name": "stdout",
          "text": [
            "8 cats rule the world\n"
          ]
        }
      ]
    },
    {
      "cell_type": "markdown",
      "metadata": {
        "id": "6UhKMvX9uWQL"
      },
      "source": [
        "### Float to String"
      ]
    },
    {
      "cell_type": "code",
      "metadata": {
        "colab": {
          "base_uri": "https://localhost:8080/"
        },
        "id": "4ssWYGm8uAsW",
        "outputId": "4579327d-15c4-44ba-c510-be5175992fcb"
      },
      "source": [
        "num = 8.2\n",
        "print(str(num))\n",
        "print(type(str(num)))"
      ],
      "execution_count": 16,
      "outputs": [
        {
          "output_type": "stream",
          "name": "stdout",
          "text": [
            "8.2\n",
            "<class 'str'>\n"
          ]
        }
      ]
    },
    {
      "cell_type": "markdown",
      "metadata": {
        "id": "AfjNhVlguY_w"
      },
      "source": [
        "### Complex to string"
      ]
    },
    {
      "cell_type": "code",
      "metadata": {
        "colab": {
          "base_uri": "https://localhost:8080/"
        },
        "id": "wcFhLjDpudSU",
        "outputId": "16bc67b3-7b89-4b5f-fd39-fcb3f2f50531"
      },
      "source": [
        "c1 = complex(3,4)\n",
        "print(str(c1))"
      ],
      "execution_count": 17,
      "outputs": [
        {
          "output_type": "stream",
          "name": "stdout",
          "text": [
            "(3+4j)\n"
          ]
        }
      ]
    },
    {
      "cell_type": "markdown",
      "metadata": {
        "id": "eyFdmwZjztaa"
      },
      "source": [
        "### String to Int"
      ]
    },
    {
      "cell_type": "code",
      "metadata": {
        "colab": {
          "base_uri": "https://localhost:8080/",
          "height": 185
        },
        "id": "X_TNdg4Tzwul",
        "outputId": "624b2fa0-7a38-45ae-9f46-df23893d86c7"
      },
      "source": [
        "txt = \"cats rule the world\"\n",
        "print(int(txt))"
      ],
      "execution_count": 25,
      "outputs": [
        {
          "output_type": "error",
          "ename": "ValueError",
          "evalue": "ignored",
          "traceback": [
            "\u001b[0;31m---------------------------------------------------------------------------\u001b[0m",
            "\u001b[0;31mValueError\u001b[0m                                Traceback (most recent call last)",
            "\u001b[0;32m<ipython-input-25-4c33da52b877>\u001b[0m in \u001b[0;36m<module>\u001b[0;34m()\u001b[0m\n\u001b[1;32m      1\u001b[0m \u001b[0mtxt\u001b[0m \u001b[0;34m=\u001b[0m \u001b[0;34m\"cats rule the world\"\u001b[0m\u001b[0;34m\u001b[0m\u001b[0;34m\u001b[0m\u001b[0m\n\u001b[0;32m----> 2\u001b[0;31m \u001b[0mprint\u001b[0m\u001b[0;34m(\u001b[0m\u001b[0mint\u001b[0m\u001b[0;34m(\u001b[0m\u001b[0mtxt\u001b[0m\u001b[0;34m)\u001b[0m\u001b[0;34m)\u001b[0m\u001b[0;34m\u001b[0m\u001b[0;34m\u001b[0m\u001b[0m\n\u001b[0m",
            "\u001b[0;31mValueError\u001b[0m: invalid literal for int() with base 10: 'cats rule the world'"
          ]
        }
      ]
    },
    {
      "cell_type": "code",
      "metadata": {
        "colab": {
          "base_uri": "https://localhost:8080/"
        },
        "id": "YydWCoem0TLh",
        "outputId": "a8d042b2-96f8-4ed2-f904-8b0a68c423a5"
      },
      "source": [
        "raw_user_age = input(\"What is your age?\")\n",
        "user_age = int(raw_user_age)\n",
        "print(user_age)"
      ],
      "execution_count": 29,
      "outputs": [
        {
          "output_type": "stream",
          "name": "stdout",
          "text": [
            "What is your age?12\n",
            "12\n"
          ]
        }
      ]
    },
    {
      "cell_type": "code",
      "metadata": {
        "colab": {
          "base_uri": "https://localhost:8080/"
        },
        "id": "fCj8g9ZI10_n",
        "outputId": "207f0b9d-2fa7-4fa4-ad30-b7fec997a038"
      },
      "source": [
        "print(type(raw_user_age))\n",
        "print(type(int(raw_user_age)))"
      ],
      "execution_count": 30,
      "outputs": [
        {
          "output_type": "stream",
          "name": "stdout",
          "text": [
            "<class 'str'>\n",
            "<class 'int'>\n"
          ]
        }
      ]
    },
    {
      "cell_type": "markdown",
      "metadata": {
        "id": "WqypBtAc2Y5w"
      },
      "source": [
        "### String to Float"
      ]
    },
    {
      "cell_type": "code",
      "metadata": {
        "colab": {
          "base_uri": "https://localhost:8080/"
        },
        "id": "xVk2rqx92bH3",
        "outputId": "3a7ac67a-9185-4cda-d263-155fe1a12543"
      },
      "source": [
        "txtFloat = \"8.2\"\n",
        "print(type(txtFloat))\n",
        "print(type(float(txtFloat)))"
      ],
      "execution_count": 31,
      "outputs": [
        {
          "output_type": "stream",
          "name": "stdout",
          "text": [
            "<class 'str'>\n",
            "<class 'float'>\n"
          ]
        }
      ]
    },
    {
      "cell_type": "markdown",
      "metadata": {
        "id": "NqqBnqob2vPj"
      },
      "source": [
        "### String to Complex"
      ]
    },
    {
      "cell_type": "code",
      "metadata": {
        "colab": {
          "base_uri": "https://localhost:8080/"
        },
        "id": "l1jF9T92216-",
        "outputId": "fbfa3b12-4a95-4b29-e1c5-b366f24ef337"
      },
      "source": [
        "txtComplex=\"(3+4j)\"\n",
        "print(type(txtComplex))\n",
        "print(type(complex(c1)))"
      ],
      "execution_count": 35,
      "outputs": [
        {
          "output_type": "stream",
          "name": "stdout",
          "text": [
            "<class 'str'>\n",
            "<class 'complex'>\n"
          ]
        }
      ]
    },
    {
      "cell_type": "markdown",
      "metadata": {
        "id": "5QfWWriuxADR"
      },
      "source": [
        "## Data types continued..."
      ]
    },
    {
      "cell_type": "markdown",
      "metadata": {
        "id": "tksgS2CW4BFf"
      },
      "source": [
        "### Sequence - List"
      ]
    },
    {
      "cell_type": "code",
      "metadata": {
        "colab": {
          "base_uri": "https://localhost:8080/"
        },
        "id": "G7BGha793-49",
        "outputId": "59094659-cb52-4f3c-ea40-0ba0c22b929c"
      },
      "source": [
        "# List of Strings\n",
        "fruitList = [\"apple\", \"banana\", \"cherry\",\"mango\",\"kiwi\",\"orange\",\"pineapple\"]\n",
        "print(fruitList)\n",
        "print(type(fruitList))"
      ],
      "execution_count": 47,
      "outputs": [
        {
          "output_type": "stream",
          "name": "stdout",
          "text": [
            "['apple', 'banana', 'cherry', 'mango', 'kiwi', 'orange', 'pineapple']\n",
            "<class 'list'>\n"
          ]
        }
      ]
    },
    {
      "cell_type": "code",
      "metadata": {
        "colab": {
          "base_uri": "https://localhost:8080/"
        },
        "id": "joete07o4s0Q",
        "outputId": "57e38e10-62f7-42d4-fbb4-002729904487"
      },
      "source": [
        "# List with mixed type\n",
        "\n",
        "mixedList = [\"apple\", 1]\n",
        "print(type(mixedList[0]))\n",
        "print(type(mixedList[1]))"
      ],
      "execution_count": 41,
      "outputs": [
        {
          "output_type": "stream",
          "name": "stdout",
          "text": [
            "<class 'str'>\n",
            "<class 'int'>\n"
          ]
        }
      ]
    },
    {
      "cell_type": "markdown",
      "metadata": {
        "id": "EqkYSiLS5to9"
      },
      "source": [
        "### List Constructor"
      ]
    },
    {
      "cell_type": "code",
      "metadata": {
        "colab": {
          "base_uri": "https://localhost:8080/"
        },
        "id": "hBQwtMF-5v05",
        "outputId": "14726d69-4312-4ca4-8b89-e11de9b59d5b"
      },
      "source": [
        "fruitsConstructor = list((\"apple\", \"banana\", \"cherry\"))\n",
        "print(fruitsConstructor)\n",
        "print(type(fruitsConstructor))"
      ],
      "execution_count": 43,
      "outputs": [
        {
          "output_type": "stream",
          "name": "stdout",
          "text": [
            "['apple', 'banana', 'cherry']\n",
            "<class 'list'>\n"
          ]
        }
      ]
    },
    {
      "cell_type": "markdown",
      "metadata": {
        "id": "z3avA6ZU5JnH"
      },
      "source": [
        "### List operations - Length"
      ]
    },
    {
      "cell_type": "code",
      "metadata": {
        "colab": {
          "base_uri": "https://localhost:8080/"
        },
        "id": "y5amItsS5Ry9",
        "outputId": "c88a0218-d3bb-4d93-a79c-79b18f0b8db9"
      },
      "source": [
        "print(len(fruitList))\n",
        "print(len(mixedList))"
      ],
      "execution_count": 42,
      "outputs": [
        {
          "output_type": "stream",
          "name": "stdout",
          "text": [
            "3\n",
            "2\n"
          ]
        }
      ]
    },
    {
      "cell_type": "markdown",
      "metadata": {
        "id": "DHtYfabh5hfj"
      },
      "source": [
        "### List operation - Access list item"
      ]
    },
    {
      "cell_type": "code",
      "metadata": {
        "colab": {
          "base_uri": "https://localhost:8080/"
        },
        "id": "qKZs9QfC6bsw",
        "outputId": "7263e896-d15d-49bc-9da4-b56398b45aa3"
      },
      "source": [
        "# Positive Indexing [Index starts from 0 to (length of the list - 1)]\n",
        "print(fruitList[0])"
      ],
      "execution_count": 50,
      "outputs": [
        {
          "output_type": "stream",
          "name": "stdout",
          "text": [
            "apple\n"
          ]
        }
      ]
    },
    {
      "cell_type": "code",
      "metadata": {
        "colab": {
          "base_uri": "https://localhost:8080/"
        },
        "id": "BuSb7XrN6tZ3",
        "outputId": "a6e17ace-86ed-4b6a-a018-c109a1fd72bd"
      },
      "source": [
        "# Positive Indexing\n",
        "print(fruitList[1])"
      ],
      "execution_count": 49,
      "outputs": [
        {
          "output_type": "stream",
          "name": "stdout",
          "text": [
            "banana\n"
          ]
        }
      ]
    },
    {
      "cell_type": "code",
      "metadata": {
        "colab": {
          "base_uri": "https://localhost:8080/"
        },
        "id": "qhw_K7-s8VgR",
        "outputId": "183c029a-6379-45d7-f060-c278d7770c71"
      },
      "source": [
        "print(fruitList[len(fruitList)-1])"
      ],
      "execution_count": 53,
      "outputs": [
        {
          "output_type": "stream",
          "name": "stdout",
          "text": [
            "pineapple\n"
          ]
        }
      ]
    },
    {
      "cell_type": "code",
      "metadata": {
        "colab": {
          "base_uri": "https://localhost:8080/"
        },
        "id": "8VNeTw2o63DE",
        "outputId": "3fb281d6-caf3-4c01-8557-4b583535657a"
      },
      "source": [
        "# Negative Indexing [index starts from -1 to length of the list]\n",
        "print(fruitList[-1])"
      ],
      "execution_count": 46,
      "outputs": [
        {
          "output_type": "stream",
          "name": "stdout",
          "text": [
            "cherry\n"
          ]
        }
      ]
    },
    {
      "cell_type": "code",
      "metadata": {
        "colab": {
          "base_uri": "https://localhost:8080/"
        },
        "id": "7GTnwuBd8lmS",
        "outputId": "258cd484-0751-4900-8352-f4d6b949934d"
      },
      "source": [
        "# Negative Indexing\n",
        "print(fruitList[-len(fruitList)])"
      ],
      "execution_count": 55,
      "outputs": [
        {
          "output_type": "stream",
          "name": "stdout",
          "text": [
            "apple\n"
          ]
        }
      ]
    },
    {
      "cell_type": "code",
      "metadata": {
        "colab": {
          "base_uri": "https://localhost:8080/"
        },
        "id": "dB5NQFiXAUYY",
        "outputId": "ba912676-a5a9-482b-faa4-c6ebb81efc17"
      },
      "source": [
        "# Default values for Range of Index\n",
        "start=0\n",
        "end= len(fruitList)\n",
        "step=1\n",
        "print(\"start =\", start)\n",
        "print(\"end =\", end)\n",
        "print(\"step =\", step)\n",
        "print(type(start))\n",
        "print(type(end))\n",
        "print(type(step))\n",
        "print(fruitList)\n",
        "print(fruitList[start:end:step])"
      ],
      "execution_count": 65,
      "outputs": [
        {
          "output_type": "stream",
          "name": "stdout",
          "text": [
            "start = 0\n",
            "end = 7\n",
            "step = 1\n",
            "<class 'int'>\n",
            "<class 'int'>\n",
            "<class 'int'>\n",
            "['apple', 'banana', 'cherry', 'mango', 'kiwi', 'orange', 'pineapple']\n",
            "['apple', 'banana', 'cherry', 'mango', 'kiwi', 'orange', 'pineapple']\n"
          ]
        }
      ]
    },
    {
      "cell_type": "code",
      "metadata": {
        "colab": {
          "base_uri": "https://localhost:8080/"
        },
        "id": "zi3PtOjsCAhc",
        "outputId": "846bac91-d94c-475e-accb-8d3f2bcb50ec"
      },
      "source": [
        "# Range of index \n",
        "start = 2\n",
        "end = 5\n",
        "print(fruitList[start:end])\n"
      ],
      "execution_count": 67,
      "outputs": [
        {
          "output_type": "stream",
          "name": "stdout",
          "text": [
            "['cherry', 'mango', 'kiwi']\n"
          ]
        }
      ]
    },
    {
      "cell_type": "markdown",
      "metadata": {
        "id": "ZJVaZEZ2Ci0g"
      },
      "source": [
        "#### The result for start=2 to end=5\n",
        "#### items in index 2,3,4 [from start to (end-1)]\n",
        "  "
      ]
    },
    {
      "cell_type": "code",
      "metadata": {
        "id": "1tVm6An8AuBx"
      },
      "source": [
        ""
      ],
      "execution_count": null,
      "outputs": []
    }
  ]
}