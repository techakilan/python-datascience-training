{
  "nbformat": 4,
  "nbformat_minor": 0,
  "metadata": {
    "colab": {
      "name": "PythonBasics.ipynb",
      "provenance": [],
      "collapsed_sections": [],
      "authorship_tag": "ABX9TyPUXygtRXPw8vW0vtnctu9u",
      "include_colab_link": true
    },
    "kernelspec": {
      "name": "python3",
      "display_name": "Python 3"
    },
    "language_info": {
      "name": "python"
    }
  },
  "cells": [
    {
      "cell_type": "markdown",
      "metadata": {
        "id": "view-in-github",
        "colab_type": "text"
      },
      "source": [
        "<a href=\"https://colab.research.google.com/github/techakilan/python-datascience-training/blob/master/PythonBasics.ipynb\" target=\"_parent\"><img src=\"https://colab.research.google.com/assets/colab-badge.svg\" alt=\"Open In Colab\"/></a>"
      ]
    },
    {
      "cell_type": "markdown",
      "metadata": {
        "id": "dlwB1oURVTQp"
      },
      "source": [
        "### Hello world Example"
      ]
    },
    {
      "cell_type": "code",
      "metadata": {
        "colab": {
          "base_uri": "https://localhost:8080/"
        },
        "id": "Xy1WEucrVG08",
        "outputId": "c68960b8-81c8-4866-e4e9-5b7eb3d05fac"
      },
      "source": [
        "print(\"Hello, World!\")"
      ],
      "execution_count": 1,
      "outputs": [
        {
          "output_type": "stream",
          "name": "stdout",
          "text": [
            "Hello, World!\n"
          ]
        }
      ]
    },
    {
      "cell_type": "markdown",
      "metadata": {
        "id": "9bfAmdNwVxzf"
      },
      "source": [
        "## Variables"
      ]
    },
    {
      "cell_type": "code",
      "metadata": {
        "id": "LXc-hYPKV0sC"
      },
      "source": [
        "x=5\n",
        "y=7"
      ],
      "execution_count": 2,
      "outputs": []
    },
    {
      "cell_type": "code",
      "metadata": {
        "colab": {
          "base_uri": "https://localhost:8080/"
        },
        "id": "Xx2CVcUhV_MV",
        "outputId": "aca80fa9-cd07-410f-dc34-ea135f8a81f4"
      },
      "source": [
        "print(x)\n",
        "x"
      ],
      "execution_count": 3,
      "outputs": [
        {
          "output_type": "stream",
          "name": "stdout",
          "text": [
            "5\n"
          ]
        },
        {
          "output_type": "execute_result",
          "data": {
            "text/plain": [
              "5"
            ]
          },
          "metadata": {},
          "execution_count": 3
        }
      ]
    },
    {
      "cell_type": "markdown",
      "metadata": {
        "id": "390jUKiAx8xF"
      },
      "source": [
        ""
      ]
    },
    {
      "cell_type": "code",
      "metadata": {
        "colab": {
          "base_uri": "https://localhost:8080/"
        },
        "id": "dT_8kjcvWmQZ",
        "outputId": "bc8f0131-5121-4f1e-a29f-a4bc8d97c2cf"
      },
      "source": [
        "type(x)"
      ],
      "execution_count": 4,
      "outputs": [
        {
          "output_type": "execute_result",
          "data": {
            "text/plain": [
              "int"
            ]
          },
          "metadata": {},
          "execution_count": 4
        }
      ]
    },
    {
      "cell_type": "markdown",
      "metadata": {
        "id": "rX1crBq1Wx3_"
      },
      "source": [
        "## Simple Data types\n",
        "\n",
        "variables do not have explicit data type as python associates types with values.\n",
        "So x = 8 works. But int x = 8 will throw syntax error. However we may use type hinting using x:int = 8 which is same as x = 8"
      ]
    },
    {
      "cell_type": "markdown",
      "metadata": {
        "id": "WeUvO71yW246"
      },
      "source": [
        "#### Int (Numeric)\n",
        "\n"
      ]
    },
    {
      "cell_type": "code",
      "metadata": {
        "colab": {
          "base_uri": "https://localhost:8080/"
        },
        "id": "i7un1Tp7W04h",
        "outputId": "c12cb0c1-8456-4147-fed9-f5c159f30479"
      },
      "source": [
        "x:int = 8\n",
        "y=8\n",
        "print(type(x))\n",
        "print(type(y))"
      ],
      "execution_count": 5,
      "outputs": [
        {
          "output_type": "stream",
          "name": "stdout",
          "text": [
            "<class 'int'>\n",
            "<class 'int'>\n"
          ]
        }
      ]
    },
    {
      "cell_type": "markdown",
      "metadata": {
        "id": "aciShRYAYsOV"
      },
      "source": [
        "#### Float(Numeric)"
      ]
    },
    {
      "cell_type": "code",
      "metadata": {
        "colab": {
          "base_uri": "https://localhost:8080/"
        },
        "id": "4bAY0MnPY5Cz",
        "outputId": "57634256-3d38-47d4-ab19-87058563ff1f"
      },
      "source": [
        "x=8.8\n",
        "print(type(x))"
      ],
      "execution_count": 6,
      "outputs": [
        {
          "output_type": "stream",
          "name": "stdout",
          "text": [
            "<class 'float'>\n"
          ]
        }
      ]
    },
    {
      "cell_type": "markdown",
      "metadata": {
        "id": "rOiCmg55ZA6T"
      },
      "source": [
        "#### Complex numbers(Numeric)"
      ]
    },
    {
      "cell_type": "code",
      "metadata": {
        "colab": {
          "base_uri": "https://localhost:8080/"
        },
        "id": "KS5jTw3bZMMK",
        "outputId": "7bfbf776-6ca8-43ff-aa38-9391a969293f"
      },
      "source": [
        "c1 = complex(2,3)\n",
        "print(c1)\n",
        "print(type(c1))"
      ],
      "execution_count": 7,
      "outputs": [
        {
          "output_type": "stream",
          "name": "stdout",
          "text": [
            "(2+3j)\n",
            "<class 'complex'>\n"
          ]
        }
      ]
    },
    {
      "cell_type": "markdown",
      "metadata": {
        "id": "xRFF8ucIyUZa"
      },
      "source": [
        "#### Boolean data type"
      ]
    },
    {
      "cell_type": "code",
      "metadata": {
        "colab": {
          "base_uri": "https://localhost:8080/"
        },
        "id": "kLKShl_3yf3U",
        "outputId": "4c08442e-2b0c-45b6-ea92-77f67bdc0312"
      },
      "source": [
        "x= True\n",
        "y= False\n",
        "print(x)\n",
        "print(y)"
      ],
      "execution_count": 8,
      "outputs": [
        {
          "output_type": "stream",
          "name": "stdout",
          "text": [
            "True\n",
            "False\n"
          ]
        }
      ]
    },
    {
      "cell_type": "code",
      "metadata": {
        "colab": {
          "base_uri": "https://localhost:8080/"
        },
        "id": "09dazpWNyykM",
        "outputId": "9596b70c-e6de-45e9-cf6a-b2f0ab92327d"
      },
      "source": [
        "print(1==1)\n",
        "print(1>2)\n",
        "print(1<2)"
      ],
      "execution_count": 9,
      "outputs": [
        {
          "output_type": "stream",
          "name": "stdout",
          "text": [
            "True\n",
            "False\n",
            "True\n"
          ]
        }
      ]
    },
    {
      "cell_type": "markdown",
      "metadata": {
        "id": "mA7HegTf0W18"
      },
      "source": [
        "### String data type"
      ]
    },
    {
      "cell_type": "code",
      "metadata": {
        "colab": {
          "base_uri": "https://localhost:8080/"
        },
        "id": "eqZh_DkA0iDy",
        "outputId": "e3cab146-e2b0-471e-a28a-07114263d1f1"
      },
      "source": [
        "txt1 = \"cats rule the world\"\n",
        "print(txt1)\n",
        "print(type(txt1))"
      ],
      "execution_count": 10,
      "outputs": [
        {
          "output_type": "stream",
          "name": "stdout",
          "text": [
            "cats rule the world\n",
            "<class 'str'>\n"
          ]
        }
      ]
    },
    {
      "cell_type": "code",
      "metadata": {
        "colab": {
          "base_uri": "https://localhost:8080/"
        },
        "id": "EqTf-N5E0Y_y",
        "outputId": "905eecd1-9f33-4881-a038-0c383070d143"
      },
      "source": [
        "\n",
        "txt2 = 'cats rule the world'\n",
        "print(txt2)\n",
        "print(type(txt2))"
      ],
      "execution_count": 11,
      "outputs": [
        {
          "output_type": "stream",
          "name": "stdout",
          "text": [
            "cats rule the world\n",
            "<class 'str'>\n"
          ]
        }
      ]
    },
    {
      "cell_type": "code",
      "metadata": {
        "colab": {
          "base_uri": "https://localhost:8080/"
        },
        "id": "G7N4dhzv0vvR",
        "outputId": "7606f3dd-71cd-4147-de9a-09c307f50473"
      },
      "source": [
        "print(txt1==txt2)"
      ],
      "execution_count": 12,
      "outputs": [
        {
          "output_type": "stream",
          "name": "stdout",
          "text": [
            "True\n"
          ]
        }
      ]
    },
    {
      "cell_type": "markdown",
      "metadata": {
        "id": "TpglKuvDWJue"
      },
      "source": [
        "## Type casting"
      ]
    },
    {
      "cell_type": "markdown",
      "metadata": {
        "id": "3W7wyl-QaRWG"
      },
      "source": [
        "### Int to String"
      ]
    },
    {
      "cell_type": "code",
      "metadata": {
        "colab": {
          "base_uri": "https://localhost:8080/"
        },
        "id": "a4AHazF9WMrf",
        "outputId": "3041fbc5-3024-46b3-e864-e9c07a6fd35c"
      },
      "source": [
        "num=8\n",
        "txt = str(num)\n",
        "print(txt)\n",
        "print(type(num))\n",
        "print(type(txt))\n",
        "\n",
        "\n"
      ],
      "execution_count": 13,
      "outputs": [
        {
          "output_type": "stream",
          "name": "stdout",
          "text": [
            "8\n",
            "<class 'int'>\n",
            "<class 'str'>\n"
          ]
        }
      ]
    },
    {
      "cell_type": "code",
      "metadata": {
        "colab": {
          "base_uri": "https://localhost:8080/",
          "height": 202
        },
        "id": "LbLC33lBa5Qs",
        "outputId": "93c1b970-94b0-4c84-f82d-1dda712d4c86"
      },
      "source": [
        "num=8\n",
        "txt = \"cats rule the world\"\n",
        "print(num+\" \"+txt)"
      ],
      "execution_count": 14,
      "outputs": [
        {
          "output_type": "error",
          "ename": "TypeError",
          "evalue": "ignored",
          "traceback": [
            "\u001b[0;31m---------------------------------------------------------------------------\u001b[0m",
            "\u001b[0;31mTypeError\u001b[0m                                 Traceback (most recent call last)",
            "\u001b[0;32m<ipython-input-14-e760917eaccc>\u001b[0m in \u001b[0;36m<module>\u001b[0;34m()\u001b[0m\n\u001b[1;32m      1\u001b[0m \u001b[0mnum\u001b[0m\u001b[0;34m=\u001b[0m\u001b[0;36m8\u001b[0m\u001b[0;34m\u001b[0m\u001b[0;34m\u001b[0m\u001b[0m\n\u001b[1;32m      2\u001b[0m \u001b[0mtxt\u001b[0m \u001b[0;34m=\u001b[0m \u001b[0;34m\"cats rule the world\"\u001b[0m\u001b[0;34m\u001b[0m\u001b[0;34m\u001b[0m\u001b[0m\n\u001b[0;32m----> 3\u001b[0;31m \u001b[0mprint\u001b[0m\u001b[0;34m(\u001b[0m\u001b[0mnum\u001b[0m\u001b[0;34m+\u001b[0m\u001b[0;34m\" \"\u001b[0m\u001b[0;34m+\u001b[0m\u001b[0mtxt\u001b[0m\u001b[0;34m)\u001b[0m\u001b[0;34m\u001b[0m\u001b[0;34m\u001b[0m\u001b[0m\n\u001b[0m",
            "\u001b[0;31mTypeError\u001b[0m: unsupported operand type(s) for +: 'int' and 'str'"
          ]
        }
      ]
    },
    {
      "cell_type": "code",
      "metadata": {
        "colab": {
          "base_uri": "https://localhost:8080/"
        },
        "id": "eFBiOaSMbOTW",
        "outputId": "970988ed-9a83-4091-859c-a1080bea442c"
      },
      "source": [
        "num=8\n",
        "txt = \"cats rule the world\"\n",
        "print(str(num)+\" \"+txt)"
      ],
      "execution_count": 15,
      "outputs": [
        {
          "output_type": "stream",
          "name": "stdout",
          "text": [
            "8 cats rule the world\n"
          ]
        }
      ]
    },
    {
      "cell_type": "markdown",
      "metadata": {
        "id": "6UhKMvX9uWQL"
      },
      "source": [
        "### Float to String"
      ]
    },
    {
      "cell_type": "code",
      "metadata": {
        "colab": {
          "base_uri": "https://localhost:8080/"
        },
        "id": "4ssWYGm8uAsW",
        "outputId": "32c7b85a-c218-434c-871f-c9b052cb5b05"
      },
      "source": [
        "num = 8.2\n",
        "print(str(num))\n",
        "print(type(str(num)))"
      ],
      "execution_count": 16,
      "outputs": [
        {
          "output_type": "stream",
          "name": "stdout",
          "text": [
            "8.2\n",
            "<class 'str'>\n"
          ]
        }
      ]
    },
    {
      "cell_type": "markdown",
      "metadata": {
        "id": "AfjNhVlguY_w"
      },
      "source": [
        "### Complex to string"
      ]
    },
    {
      "cell_type": "code",
      "metadata": {
        "colab": {
          "base_uri": "https://localhost:8080/"
        },
        "id": "wcFhLjDpudSU",
        "outputId": "72c155f2-2b35-474e-bf50-240682151916"
      },
      "source": [
        "c1 = complex(3,4)\n",
        "print(str(c1))"
      ],
      "execution_count": 17,
      "outputs": [
        {
          "output_type": "stream",
          "name": "stdout",
          "text": [
            "(3+4j)\n"
          ]
        }
      ]
    },
    {
      "cell_type": "markdown",
      "metadata": {
        "id": "eyFdmwZjztaa"
      },
      "source": [
        "### String to Int"
      ]
    },
    {
      "cell_type": "code",
      "metadata": {
        "colab": {
          "base_uri": "https://localhost:8080/",
          "height": 185
        },
        "id": "X_TNdg4Tzwul",
        "outputId": "6e5f737d-f1e8-42a6-f1cf-3e0f744de8ab"
      },
      "source": [
        "txt = \"cats rule the world\"\n",
        "print(int(txt))"
      ],
      "execution_count": 18,
      "outputs": [
        {
          "output_type": "error",
          "ename": "ValueError",
          "evalue": "ignored",
          "traceback": [
            "\u001b[0;31m---------------------------------------------------------------------------\u001b[0m",
            "\u001b[0;31mValueError\u001b[0m                                Traceback (most recent call last)",
            "\u001b[0;32m<ipython-input-18-4c33da52b877>\u001b[0m in \u001b[0;36m<module>\u001b[0;34m()\u001b[0m\n\u001b[1;32m      1\u001b[0m \u001b[0mtxt\u001b[0m \u001b[0;34m=\u001b[0m \u001b[0;34m\"cats rule the world\"\u001b[0m\u001b[0;34m\u001b[0m\u001b[0;34m\u001b[0m\u001b[0m\n\u001b[0;32m----> 2\u001b[0;31m \u001b[0mprint\u001b[0m\u001b[0;34m(\u001b[0m\u001b[0mint\u001b[0m\u001b[0;34m(\u001b[0m\u001b[0mtxt\u001b[0m\u001b[0;34m)\u001b[0m\u001b[0;34m)\u001b[0m\u001b[0;34m\u001b[0m\u001b[0;34m\u001b[0m\u001b[0m\n\u001b[0m",
            "\u001b[0;31mValueError\u001b[0m: invalid literal for int() with base 10: 'cats rule the world'"
          ]
        }
      ]
    },
    {
      "cell_type": "code",
      "metadata": {
        "colab": {
          "base_uri": "https://localhost:8080/"
        },
        "id": "YydWCoem0TLh",
        "outputId": "eb7e61b0-6780-4b73-f96e-6ecfe9ba9e1e"
      },
      "source": [
        "raw_user_age = input(\"What is your age?\")\n",
        "user_age = int(raw_user_age)\n",
        "print(user_age)"
      ],
      "execution_count": 20,
      "outputs": [
        {
          "output_type": "stream",
          "name": "stdout",
          "text": [
            "What is your age?23\n",
            "23\n"
          ]
        }
      ]
    },
    {
      "cell_type": "code",
      "metadata": {
        "colab": {
          "base_uri": "https://localhost:8080/"
        },
        "id": "fCj8g9ZI10_n",
        "outputId": "57ed1cf9-8a38-472d-c3df-297fe937b3e8"
      },
      "source": [
        "print(type(raw_user_age))\n",
        "print(type(int(raw_user_age)))"
      ],
      "execution_count": 21,
      "outputs": [
        {
          "output_type": "stream",
          "name": "stdout",
          "text": [
            "<class 'str'>\n",
            "<class 'int'>\n"
          ]
        }
      ]
    },
    {
      "cell_type": "markdown",
      "metadata": {
        "id": "WqypBtAc2Y5w"
      },
      "source": [
        "### String to Float"
      ]
    },
    {
      "cell_type": "code",
      "metadata": {
        "colab": {
          "base_uri": "https://localhost:8080/"
        },
        "id": "xVk2rqx92bH3",
        "outputId": "111320fa-f6b8-4e39-acdd-e2cd1f9a491f"
      },
      "source": [
        "txtFloat = \"8.2\"\n",
        "print(type(txtFloat))\n",
        "print(type(float(txtFloat)))\n"
      ],
      "execution_count": 22,
      "outputs": [
        {
          "output_type": "stream",
          "name": "stdout",
          "text": [
            "<class 'str'>\n",
            "<class 'float'>\n"
          ]
        }
      ]
    },
    {
      "cell_type": "markdown",
      "metadata": {
        "id": "NqqBnqob2vPj"
      },
      "source": [
        "### String to Complex"
      ]
    },
    {
      "cell_type": "code",
      "metadata": {
        "colab": {
          "base_uri": "https://localhost:8080/"
        },
        "id": "l1jF9T92216-",
        "outputId": "dcdaddd0-db8a-4e41-b425-6a12cab52e1c"
      },
      "source": [
        "txtComplex=\"(3+4j)\"\n",
        "print(type(txtComplex))\n",
        "print(type(complex(c1)))"
      ],
      "execution_count": 23,
      "outputs": [
        {
          "output_type": "stream",
          "name": "stdout",
          "text": [
            "<class 'str'>\n",
            "<class 'complex'>\n"
          ]
        }
      ]
    },
    {
      "cell_type": "markdown",
      "metadata": {
        "id": "5QfWWriuxADR"
      },
      "source": [
        "## Data types continued..."
      ]
    },
    {
      "cell_type": "markdown",
      "metadata": {
        "id": "tksgS2CW4BFf"
      },
      "source": [
        "### Sequence - List"
      ]
    },
    {
      "cell_type": "code",
      "metadata": {
        "colab": {
          "base_uri": "https://localhost:8080/"
        },
        "id": "G7BGha793-49",
        "outputId": "1e5e9cc9-c1aa-45f4-ee96-5d1d169539ff"
      },
      "source": [
        "# List of Strings\n",
        "fruitList = [\"apple\", \"banana\", \"cherry\",\"mango\",\"kiwi\",\"orange\",\"pineapple\"]\n",
        "print(fruitList)\n",
        "print(type(fruitList))\n",
        "print(type(fruitList[0]))"
      ],
      "execution_count": 24,
      "outputs": [
        {
          "output_type": "stream",
          "name": "stdout",
          "text": [
            "['apple', 'banana', 'cherry', 'mango', 'kiwi', 'orange', 'pineapple']\n",
            "<class 'list'>\n",
            "<class 'str'>\n"
          ]
        }
      ]
    },
    {
      "cell_type": "code",
      "metadata": {
        "colab": {
          "base_uri": "https://localhost:8080/"
        },
        "id": "joete07o4s0Q",
        "outputId": "1096176b-e86a-47f8-da16-47569cf6a880"
      },
      "source": [
        "# List with mixed type\n",
        "\n",
        "mixedList = [\"apple\", 1]\n",
        "print(type(mixedList[0]))\n",
        "print(type(mixedList[1]))"
      ],
      "execution_count": 25,
      "outputs": [
        {
          "output_type": "stream",
          "name": "stdout",
          "text": [
            "<class 'str'>\n",
            "<class 'int'>\n"
          ]
        }
      ]
    },
    {
      "cell_type": "markdown",
      "metadata": {
        "id": "EqkYSiLS5to9"
      },
      "source": [
        "#### List Constructor"
      ]
    },
    {
      "cell_type": "code",
      "metadata": {
        "colab": {
          "base_uri": "https://localhost:8080/"
        },
        "id": "hBQwtMF-5v05",
        "outputId": "ab6f99cb-b53a-45f5-d6c1-bf225e38b5b6"
      },
      "source": [
        "fruitsConstructor = list((\"apple\", \"banana\", \"cherry\"))\n",
        "print(fruitsConstructor)\n",
        "print(type(fruitsConstructor))"
      ],
      "execution_count": 26,
      "outputs": [
        {
          "output_type": "stream",
          "name": "stdout",
          "text": [
            "['apple', 'banana', 'cherry']\n",
            "<class 'list'>\n"
          ]
        }
      ]
    },
    {
      "cell_type": "markdown",
      "metadata": {
        "id": "z3avA6ZU5JnH"
      },
      "source": [
        "#### List operations - Length"
      ]
    },
    {
      "cell_type": "code",
      "metadata": {
        "colab": {
          "base_uri": "https://localhost:8080/"
        },
        "id": "y5amItsS5Ry9",
        "outputId": "315d9532-b9f6-42dc-c03d-8cc7277983c1"
      },
      "source": [
        "print(len(fruitList))\n",
        "print(len(mixedList))"
      ],
      "execution_count": 27,
      "outputs": [
        {
          "output_type": "stream",
          "name": "stdout",
          "text": [
            "7\n",
            "2\n"
          ]
        }
      ]
    },
    {
      "cell_type": "markdown",
      "metadata": {
        "id": "DHtYfabh5hfj"
      },
      "source": [
        "#### List operation - Access list item"
      ]
    },
    {
      "cell_type": "code",
      "metadata": {
        "colab": {
          "base_uri": "https://localhost:8080/"
        },
        "id": "qKZs9QfC6bsw",
        "outputId": "eea548f0-fd21-4143-8932-328a627d19dd"
      },
      "source": [
        "# Positive Indexing [Index starts from 0 to (length of the list - 1)]\n",
        "# [\"apple\", \"banana\", \"cherry\",\"mango\",\"kiwi\",\"orange\",\"pineapple\"]\n",
        "print(fruitList[0])"
      ],
      "execution_count": 28,
      "outputs": [
        {
          "output_type": "stream",
          "name": "stdout",
          "text": [
            "apple\n"
          ]
        }
      ]
    },
    {
      "cell_type": "code",
      "metadata": {
        "colab": {
          "base_uri": "https://localhost:8080/"
        },
        "id": "BuSb7XrN6tZ3",
        "outputId": "d7240f79-a8f6-4fa6-c5c2-f3745cb7dc8d"
      },
      "source": [
        "# Positive Indexing\n",
        "print(fruitList[1])"
      ],
      "execution_count": 29,
      "outputs": [
        {
          "output_type": "stream",
          "name": "stdout",
          "text": [
            "banana\n"
          ]
        }
      ]
    },
    {
      "cell_type": "code",
      "metadata": {
        "colab": {
          "base_uri": "https://localhost:8080/"
        },
        "id": "qhw_K7-s8VgR",
        "outputId": "6dd4fed3-e898-41f2-b788-3a2cee0ee34d"
      },
      "source": [
        "print(fruitList[len(fruitList)-1])\n",
        "print(fruitList[6])"
      ],
      "execution_count": 30,
      "outputs": [
        {
          "output_type": "stream",
          "name": "stdout",
          "text": [
            "pineapple\n",
            "pineapple\n"
          ]
        }
      ]
    },
    {
      "cell_type": "code",
      "metadata": {
        "colab": {
          "base_uri": "https://localhost:8080/"
        },
        "id": "8VNeTw2o63DE",
        "outputId": "0f15869b-a034-4c84-941b-3e2e19b06a10"
      },
      "source": [
        "# Negative Indexing [index starts from -1 to length of the list]\n",
        "# [\"apple\", \"banana\", \"cherry\",\"mango\",\"kiwi\",\"orange\",\"pineapple\"]\n",
        "print(fruitList[-1])"
      ],
      "execution_count": 31,
      "outputs": [
        {
          "output_type": "stream",
          "name": "stdout",
          "text": [
            "pineapple\n"
          ]
        }
      ]
    },
    {
      "cell_type": "code",
      "metadata": {
        "colab": {
          "base_uri": "https://localhost:8080/"
        },
        "id": "7GTnwuBd8lmS",
        "outputId": "d7c25fd5-b101-49b8-db79-279593374bef"
      },
      "source": [
        "# Negative Indexing\n",
        "print(fruitList[-len(fruitList)])\n",
        "print(fruitList[-7])"
      ],
      "execution_count": 32,
      "outputs": [
        {
          "output_type": "stream",
          "name": "stdout",
          "text": [
            "apple\n",
            "apple\n"
          ]
        }
      ]
    },
    {
      "cell_type": "markdown",
      "metadata": {
        "id": "Lfr9t4v93YFR"
      },
      "source": [
        "[start,end,step]"
      ]
    },
    {
      "cell_type": "code",
      "metadata": {
        "colab": {
          "base_uri": "https://localhost:8080/"
        },
        "id": "dB5NQFiXAUYY",
        "outputId": "be5d5799-dd40-4f86-f82d-a233a74fa22b"
      },
      "source": [
        "# Default values for Range of Index\n",
        "start=0\n",
        "end= len(fruitList)\n",
        "step=1\n",
        "print(\"start =\", start)\n",
        "print(\"end =\", end)\n",
        "print(\"step =\", step)\n",
        "print(type(start))\n",
        "print(type(end))\n",
        "print(type(step))\n",
        "print(fruitList)\n",
        "print(fruitList[start:end:step])"
      ],
      "execution_count": 33,
      "outputs": [
        {
          "output_type": "stream",
          "name": "stdout",
          "text": [
            "start = 0\n",
            "end = 7\n",
            "step = 1\n",
            "<class 'int'>\n",
            "<class 'int'>\n",
            "<class 'int'>\n",
            "['apple', 'banana', 'cherry', 'mango', 'kiwi', 'orange', 'pineapple']\n",
            "['apple', 'banana', 'cherry', 'mango', 'kiwi', 'orange', 'pineapple']\n"
          ]
        }
      ]
    },
    {
      "cell_type": "code",
      "metadata": {
        "colab": {
          "base_uri": "https://localhost:8080/"
        },
        "id": "zi3PtOjsCAhc",
        "outputId": "042e0993-11b8-4b7b-b9b2-f56985ab7b39"
      },
      "source": [
        "# Range of index \n",
        "# [\"apple\", \"banana\", \"cherry\",\"mango\",\"kiwi\",\"orange\",\"pineapple\"]\n",
        "start = 2\n",
        "end = 5\n",
        "print(fruitList[2:5])\n",
        "print(fruitList[start:end])\n"
      ],
      "execution_count": 34,
      "outputs": [
        {
          "output_type": "stream",
          "name": "stdout",
          "text": [
            "['cherry', 'mango', 'kiwi']\n",
            "['cherry', 'mango', 'kiwi']\n"
          ]
        }
      ]
    },
    {
      "cell_type": "markdown",
      "metadata": {
        "id": "ZJVaZEZ2Ci0g"
      },
      "source": [
        "#### The result for start=2 to end=5\n",
        "#### items in index 2,3,4 [from start to (end-1)]\n",
        "#### or items in position 3,4,5\n"
      ]
    },
    {
      "cell_type": "code",
      "metadata": {
        "colab": {
          "base_uri": "https://localhost:8080/"
        },
        "id": "1tVm6An8AuBx",
        "outputId": "53d03cae-914f-4826-bcf6-ef69d5900a23"
      },
      "source": [
        "# Range of index \n",
        "start = 2\n",
        "end = 5\n",
        "step=2\n",
        "print(fruitList[2:5:2])\n",
        "print(fruitList[start:end:step])"
      ],
      "execution_count": 35,
      "outputs": [
        {
          "output_type": "stream",
          "name": "stdout",
          "text": [
            "['cherry', 'kiwi']\n",
            "['cherry', 'kiwi']\n"
          ]
        }
      ]
    },
    {
      "cell_type": "markdown",
      "metadata": {
        "id": "qBA37QqhD320"
      },
      "source": [
        "The result for start=2 to end=5 with step=2\n",
        "\n",
        "items in index 2,4 [from start to (end-1), with step value of 2]\n",
        "\n",
        "or items in position 3,5"
      ]
    },
    {
      "cell_type": "code",
      "metadata": {
        "colab": {
          "base_uri": "https://localhost:8080/"
        },
        "id": "Pd8LELy4FD6O",
        "outputId": "f434733e-204a-4d78-9074-40d4c61ac1d9"
      },
      "source": [
        "# Range of index \n",
        "# [\"apple\", \"banana\", \"cherry\",\"mango\",\"kiwi\",\"orange\",\"pineapple\"]\n",
        "print(fruitList[:5:2])"
      ],
      "execution_count": 36,
      "outputs": [
        {
          "output_type": "stream",
          "name": "stdout",
          "text": [
            "['apple', 'cherry', 'kiwi']\n"
          ]
        }
      ]
    },
    {
      "cell_type": "markdown",
      "metadata": {
        "id": "jfs0pQ79FjNH"
      },
      "source": [
        "##### The default value of start is taken as 0"
      ]
    },
    {
      "cell_type": "code",
      "metadata": {
        "colab": {
          "base_uri": "https://localhost:8080/"
        },
        "id": "_K2diw1oFt0x",
        "outputId": "4eb50645-128b-4ce3-ac74-ee3b9291da03"
      },
      "source": [
        "# Range of index\n",
        "# [\"apple\", \"banana\", \"cherry\",\"mango\",\"kiwi\",\"orange\",\"pineapple\"]\n",
        "print(fruitList[::2])\n",
        "print(fruitList[0:7:2])"
      ],
      "execution_count": 37,
      "outputs": [
        {
          "output_type": "stream",
          "name": "stdout",
          "text": [
            "['apple', 'cherry', 'kiwi', 'pineapple']\n",
            "['apple', 'cherry', 'kiwi', 'pineapple']\n"
          ]
        }
      ]
    },
    {
      "cell_type": "markdown",
      "metadata": {
        "id": "lQVAt8DqF6fd"
      },
      "source": [
        "##### The default value of start is taken as 0, end is taken as 7"
      ]
    },
    {
      "cell_type": "code",
      "metadata": {
        "colab": {
          "base_uri": "https://localhost:8080/"
        },
        "id": "reS93Z4EGBeD",
        "outputId": "083f13b9-46c3-4bdc-aa05-8e3d958a9555"
      },
      "source": [
        "# Range of index\n",
        "print(fruitList[2::])"
      ],
      "execution_count": 38,
      "outputs": [
        {
          "output_type": "stream",
          "name": "stdout",
          "text": [
            "['cherry', 'mango', 'kiwi', 'orange', 'pineapple']\n"
          ]
        }
      ]
    },
    {
      "cell_type": "markdown",
      "metadata": {
        "id": "4ot4DgAuGgug"
      },
      "source": [
        "##### The default value of end is taken as 7, step is taken as 1"
      ]
    },
    {
      "cell_type": "markdown",
      "metadata": {
        "id": "2z0OjZktG10k"
      },
      "source": [
        "#### List operation - modify value of an item in the list"
      ]
    },
    {
      "cell_type": "code",
      "metadata": {
        "id": "bOzzoeb9G9ek",
        "outputId": "b4cd8f76-8678-4ad7-b3bb-d92bfd805f83",
        "colab": {
          "base_uri": "https://localhost:8080/"
        }
      },
      "source": [
        "# modify single item\n",
        "fruitListCopy = fruitList.copy()\n",
        "fruitListCopy[3] = 'mango_change1'\n",
        "print(fruitListCopy[3])\n",
        "fruitListCopy[3] = 'mango_change2'\n",
        "print(fruitListCopy[3])"
      ],
      "execution_count": 47,
      "outputs": [
        {
          "output_type": "stream",
          "name": "stdout",
          "text": [
            "mango_change1\n",
            "mango_change2\n"
          ]
        }
      ]
    },
    {
      "cell_type": "code",
      "metadata": {
        "id": "i4-ZnuYwH2fY",
        "outputId": "82e56af4-0e76-4e52-901c-3ac7931f7210",
        "colab": {
          "base_uri": "https://localhost:8080/"
        }
      },
      "source": [
        "# modify slice of items\n",
        "fruitListCopy = fruitList.copy()\n",
        "fruitListCopy[4:6] = ['kiwi_change1','orange_change1']\n",
        "print(fruitListCopy)\n",
        "fruitListCopy[4:6] = ['kiwi_change2','orange_change2']\n",
        "print(fruitListCopy)"
      ],
      "execution_count": 48,
      "outputs": [
        {
          "output_type": "stream",
          "name": "stdout",
          "text": [
            "['apple', 'banana', 'cherry', 'mango', 'kiwi_change1', 'orange_change1', 'pineapple']\n",
            "['apple', 'banana', 'cherry', 'mango', 'kiwi_change2', 'orange_change2', 'pineapple']\n"
          ]
        }
      ]
    },
    {
      "cell_type": "code",
      "metadata": {
        "id": "Fz3zYvMHKlxp",
        "outputId": "8160e451-2c7b-4554-f915-2a960ba62301",
        "colab": {
          "base_uri": "https://localhost:8080/"
        }
      },
      "source": [
        "# modify slice of items with single value\n",
        "fruitListCopy = fruitList.copy()\n",
        "fruitListCopy[3:6] = ['newfruit']\n",
        "print(fruitListCopy)"
      ],
      "execution_count": 49,
      "outputs": [
        {
          "output_type": "stream",
          "name": "stdout",
          "text": [
            "['apple', 'banana', 'cherry', 'newfruit', 'pineapple']\n"
          ]
        }
      ]
    },
    {
      "cell_type": "markdown",
      "metadata": {
        "id": "mfA2gtipHkAB"
      },
      "source": [
        "##### List operation - Append/Insert item"
      ]
    },
    {
      "cell_type": "code",
      "metadata": {
        "id": "U8cLv68RLasv",
        "outputId": "9461ecb1-9de2-4544-d60f-4baf96abfe9b",
        "colab": {
          "base_uri": "https://localhost:8080/"
        }
      },
      "source": [
        "# Insert item at index 4\n",
        "fruitListCopy = fruitList.copy()\n",
        "fruitListCopy[3] = 'changed'\n",
        "print(fruitListCopy)\n",
        "fruitListCopy.insert(4,'newinsert')\n",
        "print(fruitListCopy)"
      ],
      "execution_count": 50,
      "outputs": [
        {
          "output_type": "stream",
          "name": "stdout",
          "text": [
            "['apple', 'banana', 'cherry', 'changed', 'kiwi', 'orange', 'pineapple']\n",
            "['apple', 'banana', 'cherry', 'changed', 'newinsert', 'kiwi', 'orange', 'pineapple']\n"
          ]
        }
      ]
    },
    {
      "cell_type": "code",
      "metadata": {
        "id": "WGSfNe3yOSMy",
        "outputId": "807a260b-2230-4c12-ad1d-b20d20c5f5d7",
        "colab": {
          "base_uri": "https://localhost:8080/"
        }
      },
      "source": [
        "# Insert item at the end of the list\n",
        "fruitListCopy = fruitList.copy()\n",
        "print(fruitListCopy)\n",
        "fruitListCopy.append('append')\n",
        "print(fruitListCopy)"
      ],
      "execution_count": 51,
      "outputs": [
        {
          "output_type": "stream",
          "name": "stdout",
          "text": [
            "['apple', 'banana', 'cherry', 'mango', 'kiwi', 'orange', 'pineapple']\n",
            "['apple', 'banana', 'cherry', 'mango', 'kiwi', 'orange', 'pineapple', 'append']\n"
          ]
        }
      ]
    },
    {
      "cell_type": "code",
      "metadata": {
        "id": "BxkNITCaO_xW",
        "outputId": "89e97b9f-1d1b-4d02-bb6f-19e4977e54ee",
        "colab": {
          "base_uri": "https://localhost:8080/"
        }
      },
      "source": [
        "# Insert item at the beginning of the list\n",
        "fruitListCopy = fruitList.copy()\n",
        "print(fruitListCopy)\n",
        "fruitListCopy.insert(0,'insertatstart')\n",
        "print(fruitListCopy)"
      ],
      "execution_count": 52,
      "outputs": [
        {
          "output_type": "stream",
          "name": "stdout",
          "text": [
            "['apple', 'banana', 'cherry', 'mango', 'kiwi', 'orange', 'pineapple']\n",
            "['insertatstart', 'apple', 'banana', 'cherry', 'mango', 'kiwi', 'orange', 'pineapple']\n"
          ]
        }
      ]
    },
    {
      "cell_type": "code",
      "metadata": {
        "id": "VtyUjgXGa-bF",
        "outputId": "56bfc78a-2ee9-4041-c12e-28a69380e266",
        "colab": {
          "base_uri": "https://localhost:8080/"
        }
      },
      "source": [
        "# Remove list item by item\n",
        "fruitListCopy = fruitList.copy()\n",
        "print(fruitListCopy)\n",
        "fruitListCopy.remove(\"kiwi\")\n",
        "print(fruitListCopy)\n"
      ],
      "execution_count": 54,
      "outputs": [
        {
          "output_type": "stream",
          "name": "stdout",
          "text": [
            "['apple', 'banana', 'cherry', 'mango', 'kiwi', 'orange', 'pineapple']\n",
            "['apple', 'banana', 'cherry', 'mango', 'orange', 'pineapple']\n"
          ]
        }
      ]
    },
    {
      "cell_type": "code",
      "metadata": {
        "id": "eL559vhtb2Ou",
        "outputId": "4a35a4f5-2afc-4eb4-97f3-519c1d10f0d9",
        "colab": {
          "base_uri": "https://localhost:8080/"
        }
      },
      "source": [
        "#Remove item using item index\n",
        "\n",
        "fruitListCopy = fruitList.copy()\n",
        "print(fruitListCopy)\n",
        "fruitListCopy.pop(4)\n",
        "print(fruitListCopy)\n"
      ],
      "execution_count": 55,
      "outputs": [
        {
          "output_type": "stream",
          "name": "stdout",
          "text": [
            "['apple', 'banana', 'cherry', 'mango', 'kiwi', 'orange', 'pineapple']\n",
            "['apple', 'banana', 'cherry', 'mango', 'orange', 'pineapple']\n"
          ]
        }
      ]
    },
    {
      "cell_type": "code",
      "metadata": {
        "id": "LWy0SgtFcFpH",
        "outputId": "f61ff3c2-feaf-4a27-a457-9c903d4550dc",
        "colab": {
          "base_uri": "https://localhost:8080/"
        }
      },
      "source": [
        "#Remove item using item index and print the removed item\n",
        "fruitListCopy = fruitList.copy()\n",
        "fruit = fruitListCopy.pop(4)\n",
        "print(fruit)"
      ],
      "execution_count": 56,
      "outputs": [
        {
          "output_type": "stream",
          "name": "stdout",
          "text": [
            "kiwi\n"
          ]
        }
      ]
    },
    {
      "cell_type": "code",
      "metadata": {
        "id": "Y_gAexL-cgYw",
        "outputId": "8320b390-3185-4913-9cd9-942ad4683bde",
        "colab": {
          "base_uri": "https://localhost:8080/"
        }
      },
      "source": [
        "# Remove the last item\n",
        "\n",
        "fruitListCopy = fruitList.copy()\n",
        "print(fruitListCopy)\n",
        "fruitListCopy.pop()\n",
        "print(fruitListCopy)"
      ],
      "execution_count": 57,
      "outputs": [
        {
          "output_type": "stream",
          "name": "stdout",
          "text": [
            "['apple', 'banana', 'cherry', 'mango', 'kiwi', 'orange', 'pineapple']\n",
            "['apple', 'banana', 'cherry', 'mango', 'kiwi', 'orange']\n"
          ]
        }
      ]
    },
    {
      "cell_type": "code",
      "metadata": {
        "id": "Apul_QH8cuMa",
        "outputId": "803be080-5811-4314-874c-b53ef73230de",
        "colab": {
          "base_uri": "https://localhost:8080/"
        }
      },
      "source": [
        "# Remove the first item\n",
        "fruitListCopy = fruitList.copy()\n",
        "print(fruitListCopy)\n",
        "del fruitListCopy[0]\n",
        "print(fruitListCopy)"
      ],
      "execution_count": 58,
      "outputs": [
        {
          "output_type": "stream",
          "name": "stdout",
          "text": [
            "['apple', 'banana', 'cherry', 'mango', 'kiwi', 'orange', 'pineapple']\n",
            "['banana', 'cherry', 'mango', 'kiwi', 'orange', 'pineapple']\n"
          ]
        }
      ]
    },
    {
      "cell_type": "code",
      "metadata": {
        "id": "JaRtj07bdXeQ",
        "outputId": "c90a9c4a-74fb-4ba9-b342-8f90c8e79f0e",
        "colab": {
          "base_uri": "https://localhost:8080/",
          "height": 219
        }
      },
      "source": [
        "# Remove the entire list\n",
        "fruitListCopy = fruitList.copy()\n",
        "print(fruitListCopy)\n",
        "del fruitListCopy\n",
        "print(fruitListCopy)\n"
      ],
      "execution_count": 59,
      "outputs": [
        {
          "output_type": "stream",
          "name": "stdout",
          "text": [
            "['apple', 'banana', 'cherry', 'mango', 'kiwi', 'orange', 'pineapple']\n"
          ]
        },
        {
          "output_type": "error",
          "ename": "NameError",
          "evalue": "ignored",
          "traceback": [
            "\u001b[0;31m---------------------------------------------------------------------------\u001b[0m",
            "\u001b[0;31mNameError\u001b[0m                                 Traceback (most recent call last)",
            "\u001b[0;32m<ipython-input-59-951ea923c04a>\u001b[0m in \u001b[0;36m<module>\u001b[0;34m()\u001b[0m\n\u001b[1;32m      3\u001b[0m \u001b[0mprint\u001b[0m\u001b[0;34m(\u001b[0m\u001b[0mfruitListCopy\u001b[0m\u001b[0;34m)\u001b[0m\u001b[0;34m\u001b[0m\u001b[0;34m\u001b[0m\u001b[0m\n\u001b[1;32m      4\u001b[0m \u001b[0;32mdel\u001b[0m \u001b[0mfruitListCopy\u001b[0m\u001b[0;34m\u001b[0m\u001b[0;34m\u001b[0m\u001b[0m\n\u001b[0;32m----> 5\u001b[0;31m \u001b[0mprint\u001b[0m\u001b[0;34m(\u001b[0m\u001b[0mfruitListCopy\u001b[0m\u001b[0;34m)\u001b[0m\u001b[0;34m\u001b[0m\u001b[0;34m\u001b[0m\u001b[0m\n\u001b[0m",
            "\u001b[0;31mNameError\u001b[0m: name 'fruitListCopy' is not defined"
          ]
        }
      ]
    },
    {
      "cell_type": "code",
      "metadata": {
        "id": "bcjJIH_7djFF",
        "outputId": "d3870636-5241-4ee5-9744-77a9904e2423",
        "colab": {
          "base_uri": "https://localhost:8080/"
        }
      },
      "source": [
        "# Clear the entire list\n",
        "fruitListCopy = fruitList.copy()\n",
        "print(fruitListCopy)\n",
        "fruitListCopy.clear()\n",
        "print(fruitListCopy)"
      ],
      "execution_count": 60,
      "outputs": [
        {
          "output_type": "stream",
          "name": "stdout",
          "text": [
            "['apple', 'banana', 'cherry', 'mango', 'kiwi', 'orange', 'pineapple']\n",
            "[]\n"
          ]
        }
      ]
    },
    {
      "cell_type": "markdown",
      "metadata": {
        "id": "1DI1XH0kdwao"
      },
      "source": [
        "#### List operation - Looping though the list"
      ]
    },
    {
      "cell_type": "code",
      "metadata": {
        "id": "RZOORH1hd0-G",
        "outputId": "748264f7-f597-4cb9-8be9-cab95160a799",
        "colab": {
          "base_uri": "https://localhost:8080/"
        }
      },
      "source": [
        "# Loop through the list by getting the item\n",
        "for item in fruitList:\n",
        "  print(item)"
      ],
      "execution_count": 61,
      "outputs": [
        {
          "output_type": "stream",
          "name": "stdout",
          "text": [
            "apple\n",
            "banana\n",
            "cherry\n",
            "mango\n",
            "kiwi\n",
            "orange\n",
            "pineapple\n"
          ]
        }
      ]
    },
    {
      "cell_type": "code",
      "metadata": {
        "id": "DfY1-hy8eSLf",
        "outputId": "88e3c6f0-bcf0-4ccb-bee0-1856d4f1d4cd",
        "colab": {
          "base_uri": "https://localhost:8080/"
        }
      },
      "source": [
        "# Loop through the list by index value using range() and len()\n",
        "for index in range(len(fruitList)):\n",
        "  print(fruitList[index])"
      ],
      "execution_count": 62,
      "outputs": [
        {
          "output_type": "stream",
          "name": "stdout",
          "text": [
            "apple\n",
            "banana\n",
            "cherry\n",
            "mango\n",
            "kiwi\n",
            "orange\n",
            "pineapple\n"
          ]
        }
      ]
    },
    {
      "cell_type": "code",
      "metadata": {
        "id": "cnpC3ETQemtz",
        "outputId": "5cebd8d9-955c-4947-e9b8-ca95ab537099",
        "colab": {
          "base_uri": "https://localhost:8080/"
        }
      },
      "source": [
        "# range function has start, end, step\n",
        "for index in range(0,6,2):\n",
        "  print(fruitList[index])"
      ],
      "execution_count": 67,
      "outputs": [
        {
          "output_type": "stream",
          "name": "stdout",
          "text": [
            "apple\n",
            "cherry\n",
            "kiwi\n"
          ]
        }
      ]
    },
    {
      "cell_type": "code",
      "metadata": {
        "id": "G3DmzLfJfcSo",
        "outputId": "30a43fba-9e53-4865-8c18-2199cb1c3e1f",
        "colab": {
          "base_uri": "https://localhost:8080/"
        }
      },
      "source": [
        "#Loop using while \n",
        "index =0\n",
        "while index < len(fruitList):\n",
        "  print(fruitList[index])\n",
        "  index+=1"
      ],
      "execution_count": 70,
      "outputs": [
        {
          "output_type": "stream",
          "name": "stdout",
          "text": [
            "apple\n",
            "banana\n",
            "cherry\n",
            "mango\n",
            "kiwi\n",
            "orange\n",
            "pineapple\n"
          ]
        }
      ]
    },
    {
      "cell_type": "markdown",
      "metadata": {
        "id": "UBwK_SkTgrvz"
      },
      "source": [
        "##### List Comprehension\n"
      ]
    },
    {
      "cell_type": "code",
      "metadata": {
        "id": "QsuPMIy6f8w7",
        "outputId": "b5dabe49-5d27-4e90-d512-0d9a2d16de5b",
        "colab": {
          "base_uri": "https://localhost:8080/"
        }
      },
      "source": [
        "# Loop using List comprehension\n",
        "\n",
        "[item for item in fruitList] "
      ],
      "execution_count": 72,
      "outputs": [
        {
          "output_type": "execute_result",
          "data": {
            "text/plain": [
              "['apple', 'banana', 'cherry', 'mango', 'kiwi', 'orange', 'pineapple']"
            ]
          },
          "metadata": {},
          "execution_count": 72
        }
      ]
    },
    {
      "cell_type": "code",
      "metadata": {
        "id": "kDGveYt1g7tv",
        "outputId": "3024c432-4116-437d-c3cb-4558e1981232",
        "colab": {
          "base_uri": "https://localhost:8080/"
        }
      },
      "source": [
        "# Loop with condition\n",
        "\n",
        "[item for item in fruitList if item[0]>'c']  "
      ],
      "execution_count": 73,
      "outputs": [
        {
          "output_type": "execute_result",
          "data": {
            "text/plain": [
              "['mango', 'kiwi', 'orange', 'pineapple']"
            ]
          },
          "metadata": {},
          "execution_count": 73
        }
      ]
    },
    {
      "cell_type": "markdown",
      "metadata": {
        "id": "DPKcaF8zh0Lk"
      },
      "source": [
        "##### Using lambda"
      ]
    },
    {
      "cell_type": "code",
      "metadata": {
        "id": "WJxl52tzhlPB",
        "outputId": "f307a413-a46b-4502-dd6e-7cd0e486528e",
        "colab": {
          "base_uri": "https://localhost:8080/"
        }
      },
      "source": [
        "list(map(lambda x:x, fruitList))"
      ],
      "execution_count": 74,
      "outputs": [
        {
          "output_type": "execute_result",
          "data": {
            "text/plain": [
              "['apple', 'banana', 'cherry', 'mango', 'kiwi', 'orange', 'pineapple']"
            ]
          },
          "metadata": {},
          "execution_count": 74
        }
      ]
    },
    {
      "cell_type": "code",
      "metadata": {
        "id": "B62Vwfwdh4Bw",
        "outputId": "1d097372-5855-4ad1-92f7-71aee5ba8f0e",
        "colab": {
          "base_uri": "https://localhost:8080/"
        }
      },
      "source": [
        "list(map(lambda x:x[0]>'c', fruitList))"
      ],
      "execution_count": 84,
      "outputs": [
        {
          "output_type": "execute_result",
          "data": {
            "text/plain": [
              "[False, False, False, True, True, True, True]"
            ]
          },
          "metadata": {},
          "execution_count": 84
        }
      ]
    },
    {
      "cell_type": "code",
      "metadata": {
        "id": "yJsIOzJAj8Oi",
        "outputId": "de856d48-7cb1-4f1b-d997-f4831c42e67a",
        "colab": {
          "base_uri": "https://localhost:8080/"
        }
      },
      "source": [
        "list(filter(lambda x:x[0]>'c', fruitList))"
      ],
      "execution_count": 85,
      "outputs": [
        {
          "output_type": "execute_result",
          "data": {
            "text/plain": [
              "['mango', 'kiwi', 'orange', 'pineapple']"
            ]
          },
          "metadata": {},
          "execution_count": 85
        }
      ]
    },
    {
      "cell_type": "markdown",
      "metadata": {
        "id": "TrgyKDuqkemc"
      },
      "source": [
        "##### Sort List"
      ]
    },
    {
      "cell_type": "code",
      "metadata": {
        "id": "UXO7KrADkiCp",
        "outputId": "3dd8d324-229b-43fa-be33-8b254607707a",
        "colab": {
          "base_uri": "https://localhost:8080/"
        }
      },
      "source": [
        "fruitListCopy = fruitList.copy()\n",
        "print(fruitListCopy)\n",
        "fruitListCopy.sort()\n",
        "print(fruitListCopy)"
      ],
      "execution_count": 86,
      "outputs": [
        {
          "output_type": "stream",
          "name": "stdout",
          "text": [
            "['apple', 'banana', 'cherry', 'mango', 'kiwi', 'orange', 'pineapple']\n",
            "['apple', 'banana', 'cherry', 'kiwi', 'mango', 'orange', 'pineapple']\n"
          ]
        }
      ]
    },
    {
      "cell_type": "code",
      "metadata": {
        "id": "Ro0fFr4Mk4yk",
        "outputId": "3ee0db92-11ce-4e99-c498-8b7d273c2f61",
        "colab": {
          "base_uri": "https://localhost:8080/"
        }
      },
      "source": [
        "fruitListCopy = fruitList.copy()\n",
        "print(fruitListCopy)\n",
        "fruitListCopy.sort(reverse=True)\n",
        "print(fruitListCopy)"
      ],
      "execution_count": 87,
      "outputs": [
        {
          "output_type": "stream",
          "name": "stdout",
          "text": [
            "['apple', 'banana', 'cherry', 'mango', 'kiwi', 'orange', 'pineapple']\n",
            "['pineapple', 'orange', 'mango', 'kiwi', 'cherry', 'banana', 'apple']\n"
          ]
        }
      ]
    },
    {
      "cell_type": "markdown",
      "metadata": {
        "id": "FI2OBeARE8uM"
      },
      "source": [
        "### Sequence - "
      ]
    },
    {
      "cell_type": "code",
      "metadata": {
        "id": "NrbTWqT8D5CZ"
      },
      "source": [
        "print(fruitList)"
      ],
      "execution_count": null,
      "outputs": []
    }
  ]
}