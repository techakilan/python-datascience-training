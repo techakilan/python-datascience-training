{
  "nbformat": 4,
  "nbformat_minor": 0,
  "metadata": {
    "colab": {
      "name": "PythonBasics.ipynb",
      "provenance": [],
      "collapsed_sections": [],
      "include_colab_link": true
    },
    "kernelspec": {
      "name": "python3",
      "display_name": "Python 3"
    },
    "language_info": {
      "name": "python"
    }
  },
  "cells": [
    {
      "cell_type": "markdown",
      "metadata": {
        "id": "view-in-github",
        "colab_type": "text"
      },
      "source": [
        "<a href=\"https://colab.research.google.com/github/techakilan/python-datascience-training/blob/master/PythonBasics.ipynb\" target=\"_parent\"><img src=\"https://colab.research.google.com/assets/colab-badge.svg\" alt=\"Open In Colab\"/></a>"
      ]
    },
    {
      "cell_type": "markdown",
      "metadata": {
        "id": "DkHJAYK08L1l"
      },
      "source": [
        "## Covered Topics\n",
        "\n",
        "Data Types\n",
        "\n",
        "*   Data Types - int, float, complex, string etc\n",
        "*   Sequences - List, Tuple, Set\n",
        "\n",
        "\n"
      ]
    },
    {
      "cell_type": "markdown",
      "metadata": {
        "id": "dlwB1oURVTQp"
      },
      "source": [
        "### Hello world Example"
      ]
    },
    {
      "cell_type": "code",
      "metadata": {
        "id": "Xy1WEucrVG08"
      },
      "source": [
        "print(\"Hello, World!\")"
      ],
      "execution_count": null,
      "outputs": []
    },
    {
      "cell_type": "markdown",
      "metadata": {
        "id": "9bfAmdNwVxzf"
      },
      "source": [
        "## Variables"
      ]
    },
    {
      "cell_type": "code",
      "metadata": {
        "id": "LXc-hYPKV0sC"
      },
      "source": [
        "x=5\n",
        "y=7"
      ],
      "execution_count": null,
      "outputs": []
    },
    {
      "cell_type": "code",
      "metadata": {
        "id": "Xx2CVcUhV_MV"
      },
      "source": [
        "print(x)\n",
        "x"
      ],
      "execution_count": null,
      "outputs": []
    },
    {
      "cell_type": "markdown",
      "metadata": {
        "id": "390jUKiAx8xF"
      },
      "source": [
        ""
      ]
    },
    {
      "cell_type": "code",
      "metadata": {
        "id": "dT_8kjcvWmQZ"
      },
      "source": [
        "type(x)"
      ],
      "execution_count": null,
      "outputs": []
    },
    {
      "cell_type": "markdown",
      "metadata": {
        "id": "rX1crBq1Wx3_"
      },
      "source": [
        "## Simple Data types\n",
        "\n",
        "variables do not have explicit data type as python associates types with values.\n",
        "So x = 8 works. But int x = 8 will throw syntax error. However we may use type hinting using x:int = 8 which is same as x = 8"
      ]
    },
    {
      "cell_type": "markdown",
      "metadata": {
        "id": "WeUvO71yW246"
      },
      "source": [
        "#### Int (Numeric)\n",
        "\n"
      ]
    },
    {
      "cell_type": "code",
      "metadata": {
        "id": "i7un1Tp7W04h"
      },
      "source": [
        "x:int = 8\n",
        "y=8\n",
        "print(type(x))\n",
        "print(type(y))"
      ],
      "execution_count": null,
      "outputs": []
    },
    {
      "cell_type": "markdown",
      "metadata": {
        "id": "aciShRYAYsOV"
      },
      "source": [
        "#### Float(Numeric)"
      ]
    },
    {
      "cell_type": "code",
      "metadata": {
        "id": "4bAY0MnPY5Cz"
      },
      "source": [
        "x=8.8\n",
        "print(type(x))"
      ],
      "execution_count": null,
      "outputs": []
    },
    {
      "cell_type": "markdown",
      "metadata": {
        "id": "rOiCmg55ZA6T"
      },
      "source": [
        "#### Complex numbers(Numeric)"
      ]
    },
    {
      "cell_type": "code",
      "metadata": {
        "id": "KS5jTw3bZMMK"
      },
      "source": [
        "c1 = complex(2,3)\n",
        "print(c1)\n",
        "print(type(c1))"
      ],
      "execution_count": null,
      "outputs": []
    },
    {
      "cell_type": "markdown",
      "metadata": {
        "id": "xRFF8ucIyUZa"
      },
      "source": [
        "#### Boolean data type"
      ]
    },
    {
      "cell_type": "code",
      "metadata": {
        "id": "kLKShl_3yf3U"
      },
      "source": [
        "x= True\n",
        "y= False\n",
        "print(x)\n",
        "print(y)"
      ],
      "execution_count": null,
      "outputs": []
    },
    {
      "cell_type": "code",
      "metadata": {
        "id": "09dazpWNyykM"
      },
      "source": [
        "print(1==1)\n",
        "print(1>2)\n",
        "print(1<2)"
      ],
      "execution_count": null,
      "outputs": []
    },
    {
      "cell_type": "markdown",
      "metadata": {
        "id": "mA7HegTf0W18"
      },
      "source": [
        "### String data type"
      ]
    },
    {
      "cell_type": "code",
      "metadata": {
        "id": "eqZh_DkA0iDy"
      },
      "source": [
        "txt1 = \"cats rule the world\"\n",
        "print(txt1)\n",
        "print(type(txt1))"
      ],
      "execution_count": null,
      "outputs": []
    },
    {
      "cell_type": "code",
      "metadata": {
        "id": "EqTf-N5E0Y_y"
      },
      "source": [
        "\n",
        "txt2 = 'cats rule the world'\n",
        "print(txt2)\n",
        "print(type(txt2))"
      ],
      "execution_count": null,
      "outputs": []
    },
    {
      "cell_type": "code",
      "metadata": {
        "id": "G7N4dhzv0vvR"
      },
      "source": [
        "print(txt1==txt2)"
      ],
      "execution_count": null,
      "outputs": []
    },
    {
      "cell_type": "markdown",
      "metadata": {
        "id": "TpglKuvDWJue"
      },
      "source": [
        "## Type casting"
      ]
    },
    {
      "cell_type": "markdown",
      "metadata": {
        "id": "3W7wyl-QaRWG"
      },
      "source": [
        "### Int to String"
      ]
    },
    {
      "cell_type": "code",
      "metadata": {
        "id": "a4AHazF9WMrf"
      },
      "source": [
        "num=8\n",
        "txt = str(num)\n",
        "print(txt)\n",
        "print(type(num))\n",
        "print(type(txt))\n",
        "\n",
        "\n"
      ],
      "execution_count": null,
      "outputs": []
    },
    {
      "cell_type": "code",
      "metadata": {
        "id": "LbLC33lBa5Qs"
      },
      "source": [
        "num=8\n",
        "txt = \"cats rule the world\"\n",
        "print(num+\" \"+txt)"
      ],
      "execution_count": null,
      "outputs": []
    },
    {
      "cell_type": "code",
      "metadata": {
        "id": "eFBiOaSMbOTW"
      },
      "source": [
        "num=8\n",
        "txt = \"cats rule the world\"\n",
        "print(str(num)+\" \"+txt)"
      ],
      "execution_count": null,
      "outputs": []
    },
    {
      "cell_type": "markdown",
      "metadata": {
        "id": "6UhKMvX9uWQL"
      },
      "source": [
        "### Float to String"
      ]
    },
    {
      "cell_type": "code",
      "metadata": {
        "id": "4ssWYGm8uAsW"
      },
      "source": [
        "num = 8.2\n",
        "print(str(num))\n",
        "print(type(str(num)))"
      ],
      "execution_count": null,
      "outputs": []
    },
    {
      "cell_type": "markdown",
      "metadata": {
        "id": "AfjNhVlguY_w"
      },
      "source": [
        "### Complex to string"
      ]
    },
    {
      "cell_type": "code",
      "metadata": {
        "id": "wcFhLjDpudSU"
      },
      "source": [
        "c1 = complex(3,4)\n",
        "print(str(c1))"
      ],
      "execution_count": null,
      "outputs": []
    },
    {
      "cell_type": "markdown",
      "metadata": {
        "id": "eyFdmwZjztaa"
      },
      "source": [
        "### String to Int"
      ]
    },
    {
      "cell_type": "code",
      "metadata": {
        "id": "X_TNdg4Tzwul"
      },
      "source": [
        "txt = \"cats rule the world\"\n",
        "print(int(txt))"
      ],
      "execution_count": null,
      "outputs": []
    },
    {
      "cell_type": "code",
      "metadata": {
        "id": "YydWCoem0TLh"
      },
      "source": [
        "raw_user_age = input(\"What is your age?\")\n",
        "user_age = int(raw_user_age)\n",
        "print(user_age)"
      ],
      "execution_count": null,
      "outputs": []
    },
    {
      "cell_type": "code",
      "metadata": {
        "id": "fCj8g9ZI10_n"
      },
      "source": [
        "print(type(raw_user_age))\n",
        "print(type(int(raw_user_age)))"
      ],
      "execution_count": null,
      "outputs": []
    },
    {
      "cell_type": "markdown",
      "metadata": {
        "id": "WqypBtAc2Y5w"
      },
      "source": [
        "### String to Float"
      ]
    },
    {
      "cell_type": "code",
      "metadata": {
        "id": "xVk2rqx92bH3"
      },
      "source": [
        "txtFloat = \"8.2\"\n",
        "print(type(txtFloat))\n",
        "print(type(float(txtFloat)))\n"
      ],
      "execution_count": null,
      "outputs": []
    },
    {
      "cell_type": "markdown",
      "metadata": {
        "id": "NqqBnqob2vPj"
      },
      "source": [
        "### String to Complex"
      ]
    },
    {
      "cell_type": "code",
      "metadata": {
        "id": "l1jF9T92216-"
      },
      "source": [
        "txtComplex=\"(3+4j)\"\n",
        "print(type(txtComplex))\n",
        "print(type(complex(c1)))"
      ],
      "execution_count": null,
      "outputs": []
    },
    {
      "cell_type": "markdown",
      "metadata": {
        "id": "5QfWWriuxADR"
      },
      "source": [
        "## Data types continued..."
      ]
    },
    {
      "cell_type": "markdown",
      "metadata": {
        "id": "tksgS2CW4BFf"
      },
      "source": [
        "### Sequence - List\n",
        "##### ORDERED, ALLOW DUPLICATES, MUTABLE"
      ]
    },
    {
      "cell_type": "code",
      "metadata": {
        "id": "G7BGha793-49"
      },
      "source": [
        "# List of Strings\n",
        "fruitList = [\"apple\", \"banana\", \"cherry\",\"mango\",\"kiwi\",\"orange\",\"pineapple\"]\n",
        "print(fruitList)\n",
        "print(type(fruitList))\n",
        "print(type(fruitList[0]))"
      ],
      "execution_count": null,
      "outputs": []
    },
    {
      "cell_type": "code",
      "metadata": {
        "id": "joete07o4s0Q"
      },
      "source": [
        "# List with mixed type\n",
        "\n",
        "mixedList = [\"apple\", 1]\n",
        "print(type(mixedList[0]))\n",
        "print(type(mixedList[1]))"
      ],
      "execution_count": null,
      "outputs": []
    },
    {
      "cell_type": "markdown",
      "metadata": {
        "id": "EqkYSiLS5to9"
      },
      "source": [
        "#### List Constructor"
      ]
    },
    {
      "cell_type": "code",
      "metadata": {
        "id": "hBQwtMF-5v05"
      },
      "source": [
        "# construct from list\n",
        "fruitsConstructor = list([\"apple\", \"banana\", \"cherry\"])\n",
        "print(fruitsConstructor)\n",
        "print(type(fruitsConstructor))"
      ],
      "execution_count": null,
      "outputs": []
    },
    {
      "cell_type": "code",
      "metadata": {
        "id": "lMYaPyiVtKCk"
      },
      "source": [
        "# construct from tuple\n",
        "fruitsConstructor = list((\"apple\", \"banana\", \"cherry\"))\n",
        "print(fruitsConstructor)\n",
        "print(type(fruitsConstructor))"
      ],
      "execution_count": null,
      "outputs": []
    },
    {
      "cell_type": "code",
      "metadata": {
        "id": "myzUkpdktgAP"
      },
      "source": [
        "# construct from set\n",
        "fruitsConstructor = list({\"apple\", \"banana\", \"cherry\"})\n",
        "print(fruitsConstructor)\n",
        "print(type(fruitsConstructor))"
      ],
      "execution_count": null,
      "outputs": []
    },
    {
      "cell_type": "markdown",
      "metadata": {
        "id": "z3avA6ZU5JnH"
      },
      "source": [
        "#### List operations - Length"
      ]
    },
    {
      "cell_type": "code",
      "metadata": {
        "id": "y5amItsS5Ry9"
      },
      "source": [
        "print(len(fruitList))\n",
        "print(len(mixedList))"
      ],
      "execution_count": null,
      "outputs": []
    },
    {
      "cell_type": "markdown",
      "metadata": {
        "id": "DHtYfabh5hfj"
      },
      "source": [
        "#### List operation - Access list item"
      ]
    },
    {
      "cell_type": "code",
      "metadata": {
        "id": "qKZs9QfC6bsw"
      },
      "source": [
        "# Indexing [Index starts from 0 to (length of the list - 1)]\n",
        "# [\"apple\", \"banana\", \"cherry\",\"mango\",\"kiwi\",\"orange\",\"pineapple\"]\n",
        "\n",
        "print(fruitList[0])"
      ],
      "execution_count": null,
      "outputs": []
    },
    {
      "cell_type": "code",
      "metadata": {
        "id": "BuSb7XrN6tZ3"
      },
      "source": [
        "# Positive Indexing\n",
        "# ['apple', 'banana', 'cherry', 'mango', 'kiwi', 'orange', 'pineapple']\n",
        "\n",
        "print(fruitList[1])"
      ],
      "execution_count": null,
      "outputs": []
    },
    {
      "cell_type": "code",
      "metadata": {
        "id": "qhw_K7-s8VgR"
      },
      "source": [
        "# ['apple', 'banana', 'cherry', 'mango', 'kiwi', 'orange', 'pineapple']\n",
        "\n",
        "length = len(fruitList)\n",
        "print(\"Length of list: \"+str(length))\n",
        "print(\"last item using[length-1]: \"+fruitList[length-1])\n",
        "print(\"last item using[6]: \"+fruitList[6])"
      ],
      "execution_count": null,
      "outputs": []
    },
    {
      "cell_type": "code",
      "metadata": {
        "id": "8VNeTw2o63DE"
      },
      "source": [
        "# Negative Indexing [index starts from -1 to length of the list]\n",
        "# [\"apple\", \"banana\", \"cherry\",\"mango\",\"kiwi\",\"orange\",\"pineapple\"]\n",
        "\n",
        "print(\"last item using[-1]: \"+fruitList[-1])"
      ],
      "execution_count": null,
      "outputs": []
    },
    {
      "cell_type": "code",
      "metadata": {
        "id": "7GTnwuBd8lmS"
      },
      "source": [
        "# Negative Indexing\n",
        "# [\"apple\", \"banana\", \"cherry\",\"mango\",\"kiwi\",\"orange\",\"pineapple\"]\n",
        "\n",
        "length = len(fruitList)\n",
        "print(length)\n",
        "print(\"first item using [-length]: \"+fruitList[-length])\n",
        "print(\"first item using [-7] \"+fruitList[-7])"
      ],
      "execution_count": null,
      "outputs": []
    },
    {
      "cell_type": "markdown",
      "metadata": {
        "id": "Lfr9t4v93YFR"
      },
      "source": [
        "[start,end,step]"
      ]
    },
    {
      "cell_type": "code",
      "metadata": {
        "id": "dB5NQFiXAUYY"
      },
      "source": [
        "# Default values for Range of Index\n",
        "# [\"apple\", \"banana\", \"cherry\",\"mango\",\"kiwi\",\"orange\",\"pineapple\"]\n",
        "start=0\n",
        "length= len(fruitList)\n",
        "step=1\n",
        "print(\"start =\", start)\n",
        "print(\"length =\", length)\n",
        "print(\"step =\", step)\n",
        "print(type(start))\n",
        "print(type(length))\n",
        "print(type(step))\n",
        "print(\" \")\n",
        "print(\"list original\")\n",
        "print(fruitList)\n",
        "print(\" \")\n",
        "print(\"list using [start:length:step]: \")\n",
        "print(fruitList[start:length:step])\n",
        "print(\" \")\n",
        "print(\"list using [0:7:1]:\")\n",
        "print(fruitList[0:7:1])"
      ],
      "execution_count": null,
      "outputs": []
    },
    {
      "cell_type": "code",
      "metadata": {
        "id": "GZ3A4E0DPgPs"
      },
      "source": [
        "# Entire list using negative range of index with explicit values is not possble.\n",
        "# [\"apple\", \"banana\", \"cherry\",\"mango\",\"kiwi\",\"orange\",\"pineapple\"]\n",
        "\n",
        "length= len(fruitList)\n",
        "end = -1\n",
        "step=1\n",
        "print(\"start =\", -length)\n",
        "print(\"end =\", end)\n",
        "print(\"step =\", step)\n",
        "print(type(start))\n",
        "print(type(length))\n",
        "print(type(step))\n",
        "print(\" \")\n",
        "print(\"list original\")\n",
        "print(fruitList)\n",
        "print(\" \")\n",
        "print(\"list using [start:end:step]: \")\n",
        "print(fruitList[start:end:step])\n",
        "print(\" \")\n",
        "print(\"list using [-7:-1:1]:\")\n",
        "print(fruitList[-7:-1:1])\n",
        "print(\" \")\n",
        "print(\"list using [-7:0:1]:\")\n",
        "print(fruitList[-7:0:1])\n"
      ],
      "execution_count": null,
      "outputs": []
    },
    {
      "cell_type": "code",
      "metadata": {
        "id": "lg9ycxqCQusx"
      },
      "source": [
        "# Get entire list using negative index\n",
        "# [\"apple\", \"banana\", \"cherry\",\"mango\",\"kiwi\",\"orange\",\"pineapple\"]\n",
        "\n",
        "length= len(fruitList)\n",
        "\n",
        "print(\" \")\n",
        "print(\"list using [-7::]\")\n",
        "print(fruitList[-7::])\n",
        "print(\" \")\n",
        "print(\"list using [-7::2]\")\n",
        "print(fruitList[-7::2])\n"
      ],
      "execution_count": null,
      "outputs": []
    },
    {
      "cell_type": "code",
      "metadata": {
        "id": "zi3PtOjsCAhc"
      },
      "source": [
        "# Range of index \n",
        "# [\"apple\", \"banana\", \"cherry\",\"mango\",\"kiwi\",\"orange\",\"pineapple\"]\n",
        "start = 2\n",
        "end = 5\n",
        "print(fruitList[2:5])\n",
        "print(fruitList[start:end])\n"
      ],
      "execution_count": null,
      "outputs": []
    },
    {
      "cell_type": "markdown",
      "metadata": {
        "id": "ZJVaZEZ2Ci0g"
      },
      "source": [
        "#### The result for start=2 to end=5\n",
        "#### items in index 2,3,4 [from start to (end-1)]\n",
        "#### or items in position 3,4,5\n"
      ]
    },
    {
      "cell_type": "code",
      "metadata": {
        "id": "1tVm6An8AuBx"
      },
      "source": [
        "# Range of index \n",
        "start = 2\n",
        "end = 5\n",
        "step=2\n",
        "print(fruitList[2:5:2])\n",
        "print(fruitList[start:end:step])"
      ],
      "execution_count": null,
      "outputs": []
    },
    {
      "cell_type": "markdown",
      "metadata": {
        "id": "qBA37QqhD320"
      },
      "source": [
        "The result for start=2 to end=5 with step=2\n",
        "\n",
        "items in index 2,4 [from start to (end-1), with step value of 2]\n",
        "\n",
        "or items in position 3,5"
      ]
    },
    {
      "cell_type": "code",
      "metadata": {
        "id": "Pd8LELy4FD6O"
      },
      "source": [
        "# Range of index \n",
        "# [\"apple\", \"banana\", \"cherry\",\"mango\",\"kiwi\",\"orange\",\"pineapple\"]\n",
        "print(fruitList[:5:2])"
      ],
      "execution_count": null,
      "outputs": []
    },
    {
      "cell_type": "markdown",
      "metadata": {
        "id": "jfs0pQ79FjNH"
      },
      "source": [
        "##### The default value of start is taken as 0"
      ]
    },
    {
      "cell_type": "code",
      "metadata": {
        "id": "_K2diw1oFt0x"
      },
      "source": [
        "# Range of index\n",
        "# [\"apple\", \"banana\", \"cherry\",\"mango\",\"kiwi\",\"orange\",\"pineapple\"]\n",
        "print(fruitList[::2])\n",
        "print(fruitList[0:7:2])"
      ],
      "execution_count": null,
      "outputs": []
    },
    {
      "cell_type": "markdown",
      "metadata": {
        "id": "lQVAt8DqF6fd"
      },
      "source": [
        "##### The default value of start is taken as 0, end is taken as 7"
      ]
    },
    {
      "cell_type": "code",
      "metadata": {
        "id": "reS93Z4EGBeD"
      },
      "source": [
        "# Range of index\n",
        "print(fruitList[2::])"
      ],
      "execution_count": null,
      "outputs": []
    },
    {
      "cell_type": "markdown",
      "metadata": {
        "id": "4ot4DgAuGgug"
      },
      "source": [
        "##### The default value of end is taken as 7, step is taken as 1"
      ]
    },
    {
      "cell_type": "markdown",
      "metadata": {
        "id": "dEtYGvdelTHe"
      },
      "source": [
        "#### List operation - copy"
      ]
    },
    {
      "cell_type": "markdown",
      "metadata": {
        "id": "1pwdxhRARLyt"
      },
      "source": [
        "##### The copy operation creates an exact copy of the original list. Changes to the original or copy do not affect the other."
      ]
    },
    {
      "cell_type": "code",
      "metadata": {
        "id": "5DkxsGGRlYuP"
      },
      "source": [
        "fruitListCopy = fruitList.copy()\n",
        "print(fruitList)\n",
        "print(fruitListCopy)\n",
        "print(fruitList==fruitListCopy)"
      ],
      "execution_count": null,
      "outputs": []
    },
    {
      "cell_type": "markdown",
      "metadata": {
        "id": "2ycwGrHLRg_v"
      },
      "source": [
        "##### The list() operation behaves similar to copy"
      ]
    },
    {
      "cell_type": "code",
      "metadata": {
        "id": "lSrIec6FlvQJ"
      },
      "source": [
        "fruitListCopy = list(fruitList)\n",
        "print(fruitList)\n",
        "print(fruitListCopy)\n",
        "print(fruitList==fruitListCopy)"
      ],
      "execution_count": null,
      "outputs": []
    },
    {
      "cell_type": "markdown",
      "metadata": {
        "id": "2z0OjZktG10k"
      },
      "source": [
        "#### List operation - replace value of an item in the list"
      ]
    },
    {
      "cell_type": "markdown",
      "metadata": {
        "id": "QC7OyNHXRvEq"
      },
      "source": [
        "##### A list item is replaced by assigning new value to item directly using = operator. The item is accessed using its index."
      ]
    },
    {
      "cell_type": "code",
      "metadata": {
        "id": "bOzzoeb9G9ek"
      },
      "source": [
        "# modify single item\n",
        "#['apple', 'banana', 'cherry', 'mango', 'kiwi', 'orange', 'pineapple']\n",
        "fruitListCopy = fruitList.copy()\n",
        "fruitListCopy[3] = 'mango_change1'\n",
        "print(fruitListCopy[3])\n",
        "fruitListCopy[3] = 'mango_change2'\n",
        "print(fruitListCopy[3])\n",
        "print(fruitListCopy)"
      ],
      "execution_count": null,
      "outputs": []
    },
    {
      "cell_type": "markdown",
      "metadata": {
        "id": "J3qP8QyDSCPz"
      },
      "source": [
        "#### Replace slice of an item. This is done using = operator. The new value is a list(or a slice of list). "
      ]
    },
    {
      "cell_type": "code",
      "metadata": {
        "id": "i4-ZnuYwH2fY"
      },
      "source": [
        "# replace slice of items\n",
        "#['apple', 'banana', 'cherry', 'mango', 'kiwi', 'orange', 'pineapple']\n",
        "fruitListCopy = fruitList.copy()\n",
        "fruitListCopy[4:6] = ['kiwi_change1','orange_change1']\n",
        "print(fruitListCopy)\n",
        "fruitListCopy[4:6] = ['kiwi_change2','orange_change2']\n",
        "print(fruitListCopy)"
      ],
      "execution_count": null,
      "outputs": []
    },
    {
      "cell_type": "code",
      "metadata": {
        "id": "Fz3zYvMHKlxp"
      },
      "source": [
        "# replace slice of items with single value\n",
        "#['apple', 'banana', 'cherry', 'mango', 'kiwi', 'orange', 'pineapple']\n",
        "fruitListCopy = fruitList.copy()\n",
        "fruitListCopy[3:6] = ['newfruit']\n",
        "print(fruitListCopy)"
      ],
      "execution_count": null,
      "outputs": []
    },
    {
      "cell_type": "code",
      "metadata": {
        "id": "RjRgyruKSidn"
      },
      "source": [
        "# replace slice of item with another slice of items\n",
        "#['apple', 'banana', 'cherry', 'mango', 'kiwi', 'orange', 'pineapple']\n",
        "fruitListCopy1 = fruitList.copy()\n",
        "fruitListCopy2 = fruitList.copy()\n",
        "\n",
        "print(fruitListCopy1[1:3])\n",
        "print(fruitListCopy2[4:7])\n",
        "fruitListCopy2[1:3] = fruitListCopy1[4:7]\n",
        "\n",
        "print(fruitList)\n",
        "print(fruitListCopy1)\n",
        "print(fruitListCopy2)"
      ],
      "execution_count": null,
      "outputs": []
    },
    {
      "cell_type": "markdown",
      "metadata": {
        "id": "mfA2gtipHkAB"
      },
      "source": [
        "##### List operation - Append/Insert item"
      ]
    },
    {
      "cell_type": "code",
      "metadata": {
        "id": "U8cLv68RLasv"
      },
      "source": [
        "# Insert item at index 4\n",
        "#['apple', 'banana', 'cherry', 'mango', 'kiwi', 'orange', 'pineapple']\n",
        "fruitListCopy = fruitList.copy()\n",
        "fruitListCopy[3] = 'changed'\n",
        "print(fruitListCopy)\n",
        "fruitListCopy.insert(4,'newinsert')\n",
        "print(fruitListCopy)"
      ],
      "execution_count": null,
      "outputs": []
    },
    {
      "cell_type": "code",
      "metadata": {
        "id": "WGSfNe3yOSMy"
      },
      "source": [
        "# Insert item at the end of the list\n",
        "#['apple', 'banana', 'cherry', 'mango', 'kiwi', 'orange', 'pineapple']\n",
        "fruitListCopy = fruitList.copy()\n",
        "print(fruitListCopy)\n",
        "fruitListCopy.append('append')\n",
        "print(fruitListCopy)"
      ],
      "execution_count": null,
      "outputs": []
    },
    {
      "cell_type": "code",
      "metadata": {
        "id": "BxkNITCaO_xW"
      },
      "source": [
        "# Insert item at the beginning of the list\n",
        "fruitListCopy = fruitList.copy()\n",
        "print(fruitListCopy)\n",
        "fruitListCopy.insert(0,'insertatstart')\n",
        "print(fruitListCopy)"
      ],
      "execution_count": null,
      "outputs": []
    },
    {
      "cell_type": "code",
      "metadata": {
        "id": "VtyUjgXGa-bF"
      },
      "source": [
        "# Remove list item by item\n",
        "#['apple', 'banana', 'cherry', 'mango', 'kiwi', 'orange', 'pineapple']\n",
        "fruitListCopy = fruitList.copy()\n",
        "print(fruitListCopy)\n",
        "fruitListCopy.remove(\"kiwi\")\n",
        "print(fruitListCopy)\n"
      ],
      "execution_count": null,
      "outputs": []
    },
    {
      "cell_type": "code",
      "metadata": {
        "id": "udU7zcaeztIS"
      },
      "source": [
        "fruits = [\"apple\",\"banana\",\"banana\"]\n",
        "fruits.remove(\"banana\")\n",
        "print(fruits)"
      ],
      "execution_count": null,
      "outputs": []
    },
    {
      "cell_type": "code",
      "metadata": {
        "id": "eL559vhtb2Ou"
      },
      "source": [
        "#Remove item using item index\n",
        "#['apple', 'banana', 'cherry', 'mango', 'kiwi', 'orange', 'pineapple']\n",
        "fruitListCopy = fruitList.copy()\n",
        "print(fruitListCopy)\n",
        "fruitListCopy.pop(4)\n",
        "print(fruitListCopy)\n"
      ],
      "execution_count": null,
      "outputs": []
    },
    {
      "cell_type": "code",
      "metadata": {
        "id": "LWy0SgtFcFpH"
      },
      "source": [
        "#Remove item using item index and print the removed item\n",
        "fruitListCopy = fruitList.copy()\n",
        "fruit = fruitListCopy.pop(4)\n",
        "print(fruit)"
      ],
      "execution_count": null,
      "outputs": []
    },
    {
      "cell_type": "code",
      "metadata": {
        "id": "Y_gAexL-cgYw"
      },
      "source": [
        "# Remove the last item\n",
        "\n",
        "fruitListCopy = fruitList.copy()\n",
        "print(fruitListCopy)\n",
        "fruitListCopy.pop()\n",
        "print(fruitListCopy)"
      ],
      "execution_count": null,
      "outputs": []
    },
    {
      "cell_type": "code",
      "metadata": {
        "id": "Apul_QH8cuMa"
      },
      "source": [
        "# Remove the first item\n",
        "fruitListCopy = fruitList.copy()\n",
        "print(fruitListCopy)\n",
        "del fruitListCopy[0]\n",
        "print(fruitListCopy)"
      ],
      "execution_count": null,
      "outputs": []
    },
    {
      "cell_type": "code",
      "metadata": {
        "id": "JaRtj07bdXeQ"
      },
      "source": [
        "# Remove the entire list\n",
        "#['apple', 'banana', 'cherry', 'mango', 'kiwi', 'orange', 'pineapple']\n",
        "fruitListCopy = fruitList.copy()\n",
        "print(fruitListCopy)\n",
        "del fruitListCopy\n",
        "print(fruitListCopy)\n"
      ],
      "execution_count": null,
      "outputs": []
    },
    {
      "cell_type": "code",
      "metadata": {
        "id": "bcjJIH_7djFF"
      },
      "source": [
        "# Clear the entire list\n",
        "#['apple', 'banana', 'cherry', 'mango', 'kiwi', 'orange', 'pineapple']\n",
        "fruitListCopy = fruitList.copy()\n",
        "print(fruitListCopy)\n",
        "fruitListCopy.clear()\n",
        "print(fruitListCopy)"
      ],
      "execution_count": null,
      "outputs": []
    },
    {
      "cell_type": "markdown",
      "metadata": {
        "id": "1DI1XH0kdwao"
      },
      "source": [
        "#### List operation - Looping though the list"
      ]
    },
    {
      "cell_type": "code",
      "metadata": {
        "id": "RZOORH1hd0-G"
      },
      "source": [
        "# Loop through the list by getting the item\n",
        "#['apple', 'banana', 'cherry', 'mango', 'kiwi', 'orange', 'pineapple']\n",
        "for item in fruitList:\n",
        "  print(\"The fruit name is\")\n",
        "  print(item)\n",
        "print(\"out of loop\")"
      ],
      "execution_count": null,
      "outputs": []
    },
    {
      "cell_type": "code",
      "metadata": {
        "id": "vODcz5qP2YRj"
      },
      "source": [
        "range(len(fruitList))"
      ],
      "execution_count": null,
      "outputs": []
    },
    {
      "cell_type": "code",
      "metadata": {
        "id": "DfY1-hy8eSLf"
      },
      "source": [
        "# Loop through the list by index value using range() and len()\n",
        "#['apple', 'banana', 'cherry', 'mango', 'kiwi', 'orange', 'pineapple']\n",
        "for index in range(len(fruitList)):\n",
        "  print(index)\n",
        "  print(fruitList[index])"
      ],
      "execution_count": null,
      "outputs": []
    },
    {
      "cell_type": "code",
      "metadata": {
        "id": "cnpC3ETQemtz"
      },
      "source": [
        "# range function has start, end, step\n",
        "#['apple', 'banana', 'cherry', 'mango', 'kiwi', 'orange', 'pineapple']\n",
        "for index in range(0,6,2):\n",
        "  print(fruitList[index])"
      ],
      "execution_count": null,
      "outputs": []
    },
    {
      "cell_type": "code",
      "metadata": {
        "id": "G3DmzLfJfcSo"
      },
      "source": [
        "#Loop using while \n",
        "index =0\n",
        "while index < len(fruitList):\n",
        "  print(fruitList[index])\n",
        "  index+=1"
      ],
      "execution_count": null,
      "outputs": []
    },
    {
      "cell_type": "markdown",
      "metadata": {
        "id": "UBwK_SkTgrvz"
      },
      "source": [
        "##### List Comprehension\n"
      ]
    },
    {
      "cell_type": "code",
      "metadata": {
        "id": "QsuPMIy6f8w7"
      },
      "source": [
        "# Loop using List comprehension\n",
        "#['apple', 'banana', 'cherry', 'mango', 'kiwi', 'orange', 'pineapple']\n",
        "\n",
        "[item for item in fruitList] "
      ],
      "execution_count": null,
      "outputs": []
    },
    {
      "cell_type": "code",
      "metadata": {
        "id": "kDGveYt1g7tv"
      },
      "source": [
        "# list comprehension with condition\n",
        "\n",
        "[item for item in fruitList if item[0]>'c']  "
      ],
      "execution_count": null,
      "outputs": []
    },
    {
      "cell_type": "code",
      "metadata": {
        "id": "WIxycjET3itg"
      },
      "source": [
        "numList = [1,2,3]\n",
        "[num+2 for num in numList]"
      ],
      "execution_count": null,
      "outputs": []
    },
    {
      "cell_type": "markdown",
      "metadata": {
        "id": "DPKcaF8zh0Lk"
      },
      "source": [
        "##### Using lambda"
      ]
    },
    {
      "cell_type": "code",
      "metadata": {
        "id": "KmzYquatWThc"
      },
      "source": [
        "# Lambda example\n",
        "\n",
        "add_ten_func = lambda a : a + 10\n",
        "print(add_ten_func(5))"
      ],
      "execution_count": null,
      "outputs": []
    },
    {
      "cell_type": "code",
      "metadata": {
        "id": "TWDSxVlKWoje"
      },
      "source": [
        "add_numbers_func = lambda a, b, c : a + b + c\n",
        "print(add_numbers_func(5, 6, 2))"
      ],
      "execution_count": null,
      "outputs": []
    },
    {
      "cell_type": "code",
      "metadata": {
        "id": "4gV96ddQWtVL"
      },
      "source": [
        "welcomeFunc = lambda name:\"welcome \"+name\n",
        "welcomeFunc(\"Bob\")\n"
      ],
      "execution_count": null,
      "outputs": []
    },
    {
      "cell_type": "code",
      "metadata": {
        "id": "fOVWDEVaYrsB"
      },
      "source": [
        "def welcomeSalutationFunc(salutation):\n",
        "  return lambda name: \"welcome \"+salutation+\" \"+name\n",
        "welcomeDoctor = welcomeSalutationFunc(\"Dr\")\n",
        "welcomeJudgeMale = welcomeSalutationFunc(\"His Excellency\")\n",
        "welcomeJudgeFemale = welcomeSalutationFunc(\"Her Excellency\")\n",
        "\n",
        "welcomeDoctor(\"John\")\n",
        "welcomeJudgeMale(\"Bob\")\n",
        "welcomeJudgeFemale(\"Alice\")"
      ],
      "execution_count": null,
      "outputs": []
    },
    {
      "cell_type": "code",
      "metadata": {
        "id": "WJxl52tzhlPB"
      },
      "source": [
        "# Use lambda to get entire list\n",
        "\n",
        "list(map(lambda x:x, fruitList))"
      ],
      "execution_count": null,
      "outputs": []
    },
    {
      "cell_type": "code",
      "metadata": {
        "id": "B62Vwfwdh4Bw"
      },
      "source": [
        "# Get list of boolean based on whether the item in the original list has first letter greater than c.\n",
        "list(map(lambda x:x[0]>'c', fruitList))"
      ],
      "execution_count": null,
      "outputs": []
    },
    {
      "cell_type": "code",
      "metadata": {
        "id": "yJsIOzJAj8Oi"
      },
      "source": [
        "#Filter list of items having the first letter greater than c\n",
        "list(filter(lambda x:x[0]>'c', fruitList))"
      ],
      "execution_count": null,
      "outputs": []
    },
    {
      "cell_type": "markdown",
      "metadata": {
        "id": "TrgyKDuqkemc"
      },
      "source": [
        "##### Sort List"
      ]
    },
    {
      "cell_type": "code",
      "metadata": {
        "id": "UXO7KrADkiCp"
      },
      "source": [
        "# Sort  list in ascending order\n",
        "#['apple', 'banana', 'cherry', 'mango', 'kiwi', 'orange', 'pineapple']\n",
        "fruitListCopy = fruitList.copy()\n",
        "print(fruitListCopy)\n",
        "fruitListCopy.sort(reverse=False)\n",
        "print(fruitListCopy)"
      ],
      "execution_count": null,
      "outputs": []
    },
    {
      "cell_type": "code",
      "metadata": {
        "id": "Ro0fFr4Mk4yk"
      },
      "source": [
        "# Sort  list in descending order\n",
        "\n",
        "fruitListCopy = fruitList.copy()\n",
        "print(fruitListCopy)\n",
        "fruitListCopy.sort(reverse=True)\n",
        "print(fruitListCopy)"
      ],
      "execution_count": null,
      "outputs": []
    },
    {
      "cell_type": "markdown",
      "metadata": {
        "id": "ft1zcaqOmnmM"
      },
      "source": [
        "##### Join List"
      ]
    },
    {
      "cell_type": "code",
      "metadata": {
        "id": "MOozr4vTmq7w"
      },
      "source": [
        "# Concatanate two list to create a bigger list \n",
        "#['apple', 'banana', 'cherry', 'mango', 'kiwi', 'orange', 'pineapple']\n",
        "costList = [10,7,8,9,5,9,10]\n",
        "fruitAndCostList = fruitList+costList\n",
        "print(fruitAndCostList)"
      ],
      "execution_count": null,
      "outputs": []
    },
    {
      "cell_type": "code",
      "metadata": {
        "id": "H0e5Er-tnYgu"
      },
      "source": [
        "# Make a bigger list with two lists using extend rather than join\n",
        "\n",
        "fruitListCopy = fruitList.copy()\n",
        "fruitListCopy.extend([10,7,8,9,5,9,10])\n",
        "print(fruitListCopy)"
      ],
      "execution_count": null,
      "outputs": []
    },
    {
      "cell_type": "markdown",
      "metadata": {
        "id": "_2-Yunsmnzzn"
      },
      "source": [
        "##### Count"
      ]
    },
    {
      "cell_type": "code",
      "metadata": {
        "id": "lHL3mx0cn1xW"
      },
      "source": [
        "# Get number of occurrence of an item in a list \n",
        "\n",
        "costList = [10,7,8,9,5,9,10]\n",
        "print(costList.count(10))\n",
        "print(costList.count(9))\n",
        "print(costList.count(5))\n",
        "print(costList.count(11))"
      ],
      "execution_count": null,
      "outputs": []
    },
    {
      "cell_type": "markdown",
      "metadata": {
        "id": "VlfVlOLKoJPV"
      },
      "source": [
        "##### Reverse"
      ]
    },
    {
      "cell_type": "code",
      "metadata": {
        "id": "Grkon7KYoMrL"
      },
      "source": [
        "# Reverse the items in a list\n",
        "\n",
        "fruitListCopy = fruitList.copy()\n",
        "print(fruitListCopy)\n",
        "fruitListCopy.reverse()\n",
        "print(fruitListCopy)"
      ],
      "execution_count": null,
      "outputs": []
    },
    {
      "cell_type": "markdown",
      "metadata": {
        "id": "rsD1fyNJqHA-"
      },
      "source": [
        "##### Typecasting to tuples, set"
      ]
    },
    {
      "cell_type": "code",
      "metadata": {
        "id": "vmMIi1bLqLki"
      },
      "source": [
        "#Convert to tuple\n",
        "#['apple', 'banana', 'cherry', 'mango', 'kiwi', 'orange', 'pineapple']\n",
        "fruitListCopy = fruitList.copy()\n",
        "convertToTuple = tuple(fruitListCopy)\n",
        "print(convertToTuple)\n",
        "print(type(convertToTuple))"
      ],
      "execution_count": null,
      "outputs": []
    },
    {
      "cell_type": "code",
      "metadata": {
        "id": "w6_Hyyvaqhwb"
      },
      "source": [
        "#Convert to set\n",
        "#['apple', 'banana', 'cherry', 'mango', 'kiwi', 'orange', 'pineapple']\n",
        "fruitListCopy = fruitList.copy()\n",
        "convertToSet = set(fruitListCopy)\n",
        "print(convertToSet)\n",
        "print(type(convertToSet))"
      ],
      "execution_count": null,
      "outputs": []
    },
    {
      "cell_type": "markdown",
      "metadata": {
        "id": "FI2OBeARE8uM"
      },
      "source": [
        "\n",
        "\n",
        "```\n",
        "# This is formatted as code\n",
        "```\n",
        "\n",
        "### Sequence - Tuples\n",
        "##### ORDERED, ALLOW DUPLICATES, IMMUTABLE"
      ]
    },
    {
      "cell_type": "markdown",
      "metadata": {
        "id": "ofmF4yvDg-Nz"
      },
      "source": [
        "##### A tuple is collection of ordered and immutable objects. It allows for duplicates."
      ]
    },
    {
      "cell_type": "code",
      "metadata": {
        "id": "NrbTWqT8D5CZ"
      },
      "source": [
        "personTuple = (13454,'John',23,'Manager','London')\n",
        "print(personTuple)"
      ],
      "execution_count": null,
      "outputs": []
    },
    {
      "cell_type": "markdown",
      "metadata": {
        "id": "-06Ia1vMhrEo"
      },
      "source": [
        "##### Empty Tuple"
      ]
    },
    {
      "cell_type": "code",
      "metadata": {
        "id": "unhf-uwse00X"
      },
      "source": [
        "emptyTuple = ()\n",
        "print(emptyTuple)"
      ],
      "execution_count": null,
      "outputs": []
    },
    {
      "cell_type": "markdown",
      "metadata": {
        "id": "hEbREUeOh6dC"
      },
      "source": [
        "#### Tuple with single item. Do not forget the comma."
      ]
    },
    {
      "cell_type": "code",
      "metadata": {
        "id": "YrZG_vmViDJH"
      },
      "source": [
        "singleTupleWrong = ('John')\n",
        "print(singleTupleWrong)\n",
        "print(type(singleTupleWrong))\n",
        "singleTupleWrong = (1)\n",
        "print(singleTupleWrong)\n",
        "print(type(singleTupleWrong))\n",
        "singleTupleWrong = (True)\n",
        "print(singleTupleWrong)\n",
        "print(type(singleTupleWrong))"
      ],
      "execution_count": null,
      "outputs": []
    },
    {
      "cell_type": "code",
      "metadata": {
        "id": "jdWgWNUyiovb"
      },
      "source": [
        "singleTuple = ('John',)\n",
        "print(singleTuple)\n",
        "print(type(singleTuple))\n",
        "singleTuple = (1,)\n",
        "print(singleTuple)\n",
        "print(type(singleTuple))\n",
        "singleTuple = (True,)\n",
        "print(singleTuple)\n",
        "print(type(singleTuple))"
      ],
      "execution_count": null,
      "outputs": []
    },
    {
      "cell_type": "markdown",
      "metadata": {
        "id": "Rn01rvo4i87W"
      },
      "source": [
        "#### Length of the Tuple"
      ]
    },
    {
      "cell_type": "code",
      "metadata": {
        "id": "zIcVdY6FjD39"
      },
      "source": [
        "print(personTuple)\n",
        "print(len(personTuple))"
      ],
      "execution_count": null,
      "outputs": []
    },
    {
      "cell_type": "markdown",
      "metadata": {
        "id": "XUqv0fATjYt2"
      },
      "source": [
        "#### Tuple constructor"
      ]
    },
    {
      "cell_type": "code",
      "metadata": {
        "id": "BOXRGSIVjbwr"
      },
      "source": [
        "constructorTuple = tuple((13454, 'John', 23, 'Manager', 'London'))\n",
        "print(constructorTuple)"
      ],
      "execution_count": null,
      "outputs": []
    },
    {
      "cell_type": "code",
      "metadata": {
        "id": "U_rpqwYfjruP"
      },
      "source": [
        "constructorTuple2=tuple(personTuple)\n",
        "print(personTuple == constructorTuple)\n",
        "print(personTuple == constructorTuple2)\n",
        "print(constructorTuple == constructorTuple2)"
      ],
      "execution_count": null,
      "outputs": []
    },
    {
      "cell_type": "code",
      "metadata": {
        "id": "vkjFIU3RuGpt"
      },
      "source": [
        "# construct from list\n",
        "personConstructor = tuple([13454, 'John', 23, 'Manager', 'London'])\n",
        "print(personConstructor)\n",
        "print(type(personConstructor))"
      ],
      "execution_count": null,
      "outputs": []
    },
    {
      "cell_type": "code",
      "metadata": {
        "id": "naoUiy77u8pE"
      },
      "source": [
        "# construct from set\n",
        "personConstructor = tuple({13454, 'John', 23, 'Manager', 'London'})\n",
        "print(personConstructor)\n",
        "print(type(personConstructor))"
      ],
      "execution_count": null,
      "outputs": []
    },
    {
      "cell_type": "markdown",
      "metadata": {
        "id": "jwCVhsUVATJY"
      },
      "source": [
        "##### Access Tuple Item using index "
      ]
    },
    {
      "cell_type": "code",
      "metadata": {
        "id": "TKUlTz2jAIgx"
      },
      "source": [
        "# Positive Indexing -from 0 to (length of tuple - 1) .\n",
        "# (13454, 'John', 23, 'Manager', 'London')\n",
        "\n",
        "length = len(personTuple)\n",
        "\n",
        "print(personTuple[0])\n",
        "print(personTuple[1])\n",
        "print(personTuple[length-2])\n",
        "print(personTuple[length-1])"
      ],
      "execution_count": null,
      "outputs": []
    },
    {
      "cell_type": "code",
      "metadata": {
        "id": "jKu4l6QvAdyr"
      },
      "source": [
        "# Negative Indexing - from -(length of tuple) to -1.\n",
        "# (13454, 'John', 23, 'Manager', 'London')\n",
        "\n",
        "length = len(personTuple)\n",
        "\n",
        "print(personTuple[-length])\n",
        "print(personTuple[-length+1])\n",
        "print(personTuple[-2])\n",
        "print(personTuple[-1])\n"
      ],
      "execution_count": null,
      "outputs": []
    },
    {
      "cell_type": "markdown",
      "metadata": {
        "id": "YyWTfCMiBz82"
      },
      "source": [
        "##### Get tuple slice by range of Index\n"
      ]
    },
    {
      "cell_type": "code",
      "metadata": {
        "id": "dhQuz18DCAAm"
      },
      "source": [
        "# the range is defined using [start:end:step] Default value is [0:(length of tuple):1]\n",
        "# (13454, 'John', 23, 'Manager', 'London')\n",
        "\n",
        "length = len(personTuple)\n",
        "\n",
        "print(personTuple[0:length:1])\n"
      ],
      "execution_count": null,
      "outputs": []
    },
    {
      "cell_type": "code",
      "metadata": {
        "id": "ZYw06SBkDAL5"
      },
      "source": [
        "# Tuple slice by Negative index. Getting entire tuple by explicitly using negative index is not possible\n",
        "# (13454, 'John', 23, 'Manager', 'London')\n",
        "\n",
        "length = len(personTuple)\n",
        "\n",
        "print(personTuple[-length:-1:1])"
      ],
      "execution_count": null,
      "outputs": []
    },
    {
      "cell_type": "code",
      "metadata": {
        "id": "jQ4tFgEEColi"
      },
      "source": [
        "# Get entire tuple by using partial negative index\n",
        "\n",
        "\n",
        "length = len(personTuple)\n",
        "\n",
        "print(personTuple[-length::])"
      ],
      "execution_count": null,
      "outputs": []
    },
    {
      "cell_type": "markdown",
      "metadata": {
        "id": "DtfllQU3ZdZ2"
      },
      "source": [
        "##### Check if an item exists in the tuple"
      ]
    },
    {
      "cell_type": "code",
      "metadata": {
        "id": "YrWua-44ZOBD"
      },
      "source": [
        "# Check if the tuple has john's data\n",
        "if \"John\" in personTuple:\n",
        "  print(\"The tuple contains john's data\") \n",
        "else:\n",
        "  print(\"The tuple does not contain john's data\") "
      ],
      "execution_count": null,
      "outputs": []
    },
    {
      "cell_type": "code",
      "metadata": {
        "id": "6dxaJlGaaHjg"
      },
      "source": [
        "# Check if the tuple has bob's data\n",
        "if \"Bob\" in personTuple:\n",
        "  print(\"The tuple contains bob's data\") \n",
        "else:\n",
        "  print(\"The tuple does not contain bob's data\") "
      ],
      "execution_count": null,
      "outputs": []
    },
    {
      "cell_type": "markdown",
      "metadata": {
        "id": "pgByilccbaFX"
      },
      "source": [
        "##### A Tuple is immutable"
      ]
    },
    {
      "cell_type": "code",
      "metadata": {
        "id": "PmTFfCV6aRxD"
      },
      "source": [
        "personTuple[1] = \"Bob\"\n",
        "print(personTuple)"
      ],
      "execution_count": null,
      "outputs": []
    },
    {
      "cell_type": "markdown",
      "metadata": {
        "id": "XzADcuAkcntS"
      },
      "source": [
        "##### Update item value in a tuple"
      ]
    },
    {
      "cell_type": "code",
      "metadata": {
        "id": "Cp7qtRK6cvY-"
      },
      "source": [
        "personTupleCopy = tuple(personTuple)\n",
        "\n",
        "print(personTupleCopy)\n",
        "\n",
        "personTupleToList = list(personTupleCopy)\n",
        "print(personTupleToList)\n",
        "personTupleToList[1] = \"Changed\"\n",
        "print(personTupleToList)\n",
        "personTupleCopy = tuple(personTupleToList)\n",
        "print(personTupleCopy)"
      ],
      "execution_count": null,
      "outputs": []
    },
    {
      "cell_type": "markdown",
      "metadata": {
        "id": "VR1MvOiPeCPU"
      },
      "source": [
        "##### Unpack a tuple"
      ]
    },
    {
      "cell_type": "code",
      "metadata": {
        "id": "JWv2h8xXddoW"
      },
      "source": [
        "print(personTuple)\n",
        "(id,name,age,designation, location) = personTuple\n",
        "print(id)\n",
        "print(name)\n",
        "print(age)\n",
        "print(designation)\n",
        "print(location)"
      ],
      "execution_count": null,
      "outputs": []
    },
    {
      "cell_type": "code",
      "metadata": {
        "id": "fIwhsxrUelfY"
      },
      "source": [
        "print(personTuple)\n",
        "(*personalDetails,designation, location) = personTuple\n",
        "print(personalDetails)\n",
        "print(designation)\n",
        "print(location)"
      ],
      "execution_count": null,
      "outputs": []
    },
    {
      "cell_type": "markdown",
      "metadata": {
        "id": "vEYumceufPkN"
      },
      "source": [
        "##### Loop through Tuple"
      ]
    },
    {
      "cell_type": "code",
      "metadata": {
        "id": "Hp-AY53Xey9N"
      },
      "source": [
        "# Loop using for \n",
        "\n",
        "for detail in personTuple:\n",
        "  print(detail)"
      ],
      "execution_count": null,
      "outputs": []
    },
    {
      "cell_type": "code",
      "metadata": {
        "id": "rMuSH6Blfcui"
      },
      "source": [
        "#Loop with index using range() and len()\n",
        "\n",
        "for i in range(len(personTuple)):\n",
        "  print(personTuple[i])"
      ],
      "execution_count": null,
      "outputs": []
    },
    {
      "cell_type": "code",
      "metadata": {
        "id": "E5dE395kf3Lg"
      },
      "source": [
        "# Using while loop\n",
        "\n",
        "i=0\n",
        "while i<len(personTuple):\n",
        "  print(personTuple[i])\n",
        "  i=i+1"
      ],
      "execution_count": null,
      "outputs": []
    },
    {
      "cell_type": "markdown",
      "metadata": {
        "id": "usmgQ7_MgeSR"
      },
      "source": [
        "##### Join Tuples"
      ]
    },
    {
      "cell_type": "code",
      "metadata": {
        "id": "-VZGXlFkgRm6"
      },
      "source": [
        "addressTuple = (\"Address line1\",\"Address line2\", 101101)\n",
        "newTuple = personTuple + addressTuple\n",
        "print(newTuple)"
      ],
      "execution_count": null,
      "outputs": []
    },
    {
      "cell_type": "markdown",
      "metadata": {
        "id": "ERmiVunBiCk7"
      },
      "source": [
        "##### Multiply content of a Tuple by number of times"
      ]
    },
    {
      "cell_type": "code",
      "metadata": {
        "id": "pzuPJuK9hSR7"
      },
      "source": [
        "fruits = (\"apple\", \"banana\", \"cherry\")\n",
        "mytuple = fruits * 2\n",
        "\n",
        "print(mytuple) "
      ],
      "execution_count": null,
      "outputs": []
    },
    {
      "cell_type": "markdown",
      "metadata": {
        "id": "FIHxMR7ckS9s"
      },
      "source": [
        "##### Count - count number of occurrence of an item in the Tuple"
      ]
    },
    {
      "cell_type": "code",
      "metadata": {
        "id": "0TC1v0Cfjj9z"
      },
      "source": [
        "fruits = (\"apple\", \"banana\", \"cherry\", \"banana\", \"cherry\", \"cherry\")\n",
        "print(fruits.count(\"apple\"))\n",
        "print(fruits.count(\"banana\"))\n",
        "print(fruits.count(\"cherry\"))"
      ],
      "execution_count": null,
      "outputs": []
    },
    {
      "cell_type": "markdown",
      "metadata": {
        "id": "qOPKqgEllAyC"
      },
      "source": [
        "##### Get index of an item in an Tuple"
      ]
    },
    {
      "cell_type": "code",
      "metadata": {
        "id": "0iCMawPRkw9C"
      },
      "source": [
        "fruits = (\"apple\", \"banana\", \"cherry\")\n",
        "print(fruits.index(\"apple\"))\n",
        "print(fruits.index(\"banana\"))\n",
        "print(fruits.index(\"cherry\"))"
      ],
      "execution_count": null,
      "outputs": []
    },
    {
      "cell_type": "markdown",
      "metadata": {
        "id": "r3FL5fm5ljwb"
      },
      "source": [
        "##### Trying to get an index of an non existent item"
      ]
    },
    {
      "cell_type": "code",
      "metadata": {
        "id": "awfjOsSIlVor"
      },
      "source": [
        "fruits = (\"apple\", \"banana\", \"cherry\")\n",
        "print(fruits.index(\"melon\"))"
      ],
      "execution_count": null,
      "outputs": []
    },
    {
      "cell_type": "markdown",
      "metadata": {
        "id": "10iKeY77rSj3"
      },
      "source": [
        "##### Typecasting to list,set"
      ]
    },
    {
      "cell_type": "code",
      "metadata": {
        "id": "LJvslOb3rWDR"
      },
      "source": [
        "# Convert to list\n",
        "fruits = (\"apple\", \"banana\", \"cherry\")\n",
        "print(fruits)\n",
        "convertToList = list(fruits)\n",
        "print(convertToList)\n",
        "print(type(convertToList))\n"
      ],
      "execution_count": null,
      "outputs": []
    },
    {
      "cell_type": "code",
      "metadata": {
        "id": "cX9D4H3prtFx"
      },
      "source": [
        "# Convert to set\n",
        "fruits = (\"apple\", \"banana\", \"cherry\")\n",
        "print(fruits)\n",
        "convertToSet = set(fruits)\n",
        "print(convertToSet)\n",
        "print(type(convertToSet))\n"
      ],
      "execution_count": null,
      "outputs": []
    },
    {
      "cell_type": "markdown",
      "metadata": {
        "id": "NOVYWv05nD2m"
      },
      "source": [
        "### Sequence - Set\n",
        "##### UNORDERED, NO DUPLICATES, IMMUTABLE"
      ]
    },
    {
      "cell_type": "code",
      "metadata": {
        "id": "ip2QbXNllwId"
      },
      "source": [
        "positiveIntegerSet = {1,2,3,4,5,6,7,8,9}\n",
        "print(positiveIntegerSet)"
      ],
      "execution_count": null,
      "outputs": []
    },
    {
      "cell_type": "markdown",
      "metadata": {
        "id": "dyJS26sgpfve"
      },
      "source": [
        "##### Type of set"
      ]
    },
    {
      "cell_type": "code",
      "metadata": {
        "id": "Ph85rd_Ipigx"
      },
      "source": [
        "print(type(positiveIntegerSet))"
      ],
      "execution_count": null,
      "outputs": []
    },
    {
      "cell_type": "markdown",
      "metadata": {
        "id": "7aDyO4JRpGDU"
      },
      "source": [
        "##### Length of the Set"
      ]
    },
    {
      "cell_type": "code",
      "metadata": {
        "id": "A4Br47oAo4Yq"
      },
      "source": [
        "length = len(positiveIntegerSet)\n",
        "print(length)"
      ],
      "execution_count": null,
      "outputs": []
    },
    {
      "cell_type": "markdown",
      "metadata": {
        "id": "lVS1m-v_sARP"
      },
      "source": [
        "##### Duplicates not allowed. It is automatically de-duped."
      ]
    },
    {
      "cell_type": "code",
      "metadata": {
        "id": "HJ69089-pPN5"
      },
      "source": [
        "primeNumberSet = {1,2,3,3,5}\n",
        "print(primeNumberSet)"
      ],
      "execution_count": null,
      "outputs": []
    },
    {
      "cell_type": "markdown",
      "metadata": {
        "id": "q0TKPtwjsdq4"
      },
      "source": [
        "##### Set constructor"
      ]
    },
    {
      "cell_type": "code",
      "metadata": {
        "id": "qvcMw8OwsOr2"
      },
      "source": [
        "# Construct from set\n",
        "\n",
        "positiveIntegerSet = set({1,2,3,4,5,6,7,8,9})\n",
        "print(positiveIntegerSet)\n",
        "\n"
      ],
      "execution_count": null,
      "outputs": []
    },
    {
      "cell_type": "code",
      "metadata": {
        "id": "Rm4Sx963voCS"
      },
      "source": [
        "# Construct from list\n",
        "\n",
        "positiveIntegerSet = set([1,2,3,4,5,6,7,8,9])\n",
        "print(positiveIntegerSet)"
      ],
      "execution_count": null,
      "outputs": []
    },
    {
      "cell_type": "code",
      "metadata": {
        "id": "1VLx_5Vys27u"
      },
      "source": [
        "# Construct from tuple\n",
        "positiveIntegerSet = set((1,2,3,4,5,6,7,8,9))\n",
        "print(positiveIntegerSet)"
      ],
      "execution_count": null,
      "outputs": []
    },
    {
      "cell_type": "markdown",
      "metadata": {
        "id": "eqnYyBiLweDi"
      },
      "source": [
        "##### Set is unordered"
      ]
    },
    {
      "cell_type": "code",
      "metadata": {
        "id": "Nm0VVQ_rwqwX"
      },
      "source": [
        "positiveIntegerSet = set((1,2,3,4,5,6,7,8,9))\n",
        "positiveIntegerSet[1]"
      ],
      "execution_count": null,
      "outputs": []
    },
    {
      "cell_type": "markdown",
      "metadata": {
        "id": "kuyQMsU9wSO-"
      },
      "source": [
        "##### Access set item"
      ]
    },
    {
      "cell_type": "code",
      "metadata": {
        "id": "Mwr52w8Dv8zI"
      },
      "source": [
        "positiveIntegerSet = set((1,2,3,4,5,6,7,8,9))\n",
        "for num in positiveIntegerSet:\n",
        "  print(num)"
      ],
      "execution_count": null,
      "outputs": []
    },
    {
      "cell_type": "code",
      "metadata": {
        "id": "9auNuugz9tCO"
      },
      "source": [
        "# Get last item. The set is unordered so the order in which the items are popped out cannot be determined.\n",
        "positiveIntegerSet = set((1,2,3,4,5,6,7,8,9))\n",
        "print(positiveIntegerSet)\n",
        "lastItem = positiveIntegerSet.pop()\n",
        "\n",
        "print(lastItem)"
      ],
      "execution_count": null,
      "outputs": []
    },
    {
      "cell_type": "markdown",
      "metadata": {
        "id": "mTz7MTzoxdMb"
      },
      "source": [
        "##### Check if an item exits in a set"
      ]
    },
    {
      "cell_type": "code",
      "metadata": {
        "id": "YKO3BoR3xEKP"
      },
      "source": [
        "positiveIntegerSet = set((1,2,3,4,5,6,7,8,9))\n",
        "print([3 in positiveIntegerSet])\n",
        "print([10 in positiveIntegerSet])"
      ],
      "execution_count": null,
      "outputs": []
    },
    {
      "cell_type": "markdown",
      "metadata": {
        "id": "9bxsX_hly8p4"
      },
      "source": [
        "##### Add Item"
      ]
    },
    {
      "cell_type": "code",
      "metadata": {
        "id": "vg0BTfxby-cZ"
      },
      "source": [
        "positiveIntegerSet = set((1,2,3,4,5,6,7,8,9))\n",
        "positiveIntegerSet.add(0)\n",
        "print(positiveIntegerSet)"
      ],
      "execution_count": null,
      "outputs": []
    },
    {
      "cell_type": "markdown",
      "metadata": {
        "id": "UH4OEGBxyCBE"
      },
      "source": [
        "##### Add entire set"
      ]
    },
    {
      "cell_type": "code",
      "metadata": {
        "id": "-6pnzU6255k3"
      },
      "source": [
        "# add another set into existing set\n",
        "positiveIntegerSet={1,2,3,4,5}\n",
        "positiveIntegerSet2={4,5,6,7,8,9}\n",
        "positiveIntegerSet.update(positiveIntegerSet2)\n",
        "print(positiveIntegerSet)"
      ],
      "execution_count": null,
      "outputs": []
    },
    {
      "cell_type": "code",
      "metadata": {
        "id": "S1Qbj_BnxsGp"
      },
      "source": [
        "# add a list into existing set\n",
        "positiveIntegerSet={1,2,3,4,5}\n",
        "positiveIntegerList=[4,5,6,7,8,9]\n",
        "positiveIntegerSet.update(positiveIntegerList)\n",
        "print(positiveIntegerSet)\n"
      ],
      "execution_count": null,
      "outputs": []
    },
    {
      "cell_type": "code",
      "metadata": {
        "id": "9Pdsn2SSyqfl"
      },
      "source": [
        "# add a tuple into existing set\n",
        "positiveIntegerSet={1,2,3,4,5}\n",
        "positiveIntegerList=(4,5,6,7,8,9)\n",
        "positiveIntegerSet.update(positiveIntegerList)\n",
        "print(positiveIntegerSet)"
      ],
      "execution_count": null,
      "outputs": []
    },
    {
      "cell_type": "markdown",
      "metadata": {
        "id": "s9yDWCDj7YWl"
      },
      "source": [
        "##### Remove item from set"
      ]
    },
    {
      "cell_type": "code",
      "metadata": {
        "id": "CMDgOJcU7T4o"
      },
      "source": [
        "# Using remove\n",
        "fruitsSet = {\"apple\", \"banana\", \"cherry\"}\n",
        "\n",
        "fruitsSet.remove(\"banana\")\n",
        "\n",
        "print(fruitsSet) "
      ],
      "execution_count": null,
      "outputs": []
    },
    {
      "cell_type": "code",
      "metadata": {
        "id": "Gh8dXOsR7kCu"
      },
      "source": [
        "# Using remove and the item does not exist in the set\n",
        "fruitsSet = {\"apple\", \"banana\", \"cherry\"}\n",
        "\n",
        "fruitsSet.remove(\"melon\")\n",
        "\n",
        "print(fruitsSet) "
      ],
      "execution_count": null,
      "outputs": []
    },
    {
      "cell_type": "code",
      "metadata": {
        "id": "tjRulfeR7zeV"
      },
      "source": [
        "# Using discard\n",
        "fruitsSet = {\"apple\", \"banana\", \"cherry\"}\n",
        "\n",
        "fruitsSet.discard(\"banana\")\n",
        "\n",
        "print(fruitsSet) "
      ],
      "execution_count": null,
      "outputs": []
    },
    {
      "cell_type": "code",
      "metadata": {
        "id": "Kj_ITala75eg"
      },
      "source": [
        "# Using discard and the item does not exist in the set\n",
        "fruitsSet = {\"apple\", \"banana\", \"cherry\"}\n",
        "\n",
        "fruitsSet.discard(\"melon\")\n",
        "\n",
        "print(fruitsSet) "
      ],
      "execution_count": null,
      "outputs": []
    },
    {
      "cell_type": "markdown",
      "metadata": {
        "id": "N4_vKzW89b3Q"
      },
      "source": [
        "##### Clear the Set"
      ]
    },
    {
      "cell_type": "code",
      "metadata": {
        "id": "J8EIKGFi8E6c"
      },
      "source": [
        "fruitSet = {\"apple\", \"banana\", \"cherry\"}\n",
        "print(fruitSet)\n",
        "fruitSet.clear()\n",
        "print(fruitSet)"
      ],
      "execution_count": null,
      "outputs": []
    },
    {
      "cell_type": "markdown",
      "metadata": {
        "id": "g6gDUXbY_xUT"
      },
      "source": [
        "##### delete the Set"
      ]
    },
    {
      "cell_type": "code",
      "metadata": {
        "id": "P9qR8Nqs_1_Q"
      },
      "source": [
        "delFruitSet = {\"apple\", \"banana\", \"cherry\"}\n",
        "print(delFruitSet)"
      ],
      "execution_count": null,
      "outputs": []
    },
    {
      "cell_type": "code",
      "metadata": {
        "id": "r-OEZH_G_9Vb"
      },
      "source": [
        "del delFruitSet"
      ],
      "execution_count": null,
      "outputs": []
    },
    {
      "cell_type": "markdown",
      "metadata": {
        "id": "xGoL00Kn8KBf"
      },
      "source": [
        ""
      ]
    },
    {
      "cell_type": "code",
      "metadata": {
        "id": "4QVG2sasABlH"
      },
      "source": [
        "print(delFruitSet)"
      ],
      "execution_count": null,
      "outputs": []
    },
    {
      "cell_type": "markdown",
      "metadata": {
        "id": "Go8iSQedAIbK"
      },
      "source": [
        "##### Loop through Set"
      ]
    },
    {
      "cell_type": "code",
      "metadata": {
        "id": "JvaWvrLUADQ-"
      },
      "source": [
        "fruitSet = {\"apple\", \"banana\", \"cherry\"}\n",
        "for fruit in fruitSet:\n",
        "  print(fruit)"
      ],
      "execution_count": null,
      "outputs": []
    },
    {
      "cell_type": "markdown",
      "metadata": {
        "id": "5W45XvqgAZe_"
      },
      "source": [
        "##### Set operations"
      ]
    },
    {
      "cell_type": "code",
      "metadata": {
        "id": "Nft1KL4CATY1"
      },
      "source": [
        "# union - the same can be achieved using update()\n",
        "fruitSet = {\"apple\", \"banana\", \"cherry\"}\n",
        "citrusSet = {\"orange\", \"Lemon\"}\n",
        "unionSet = fruitSet.union(citrusSet)\n",
        "print(unionSet)\n"
      ],
      "execution_count": null,
      "outputs": []
    },
    {
      "cell_type": "code",
      "metadata": {
        "id": "LWpQaRqoBu5P"
      },
      "source": [
        "# intersection without creating new Set\n",
        "fruitSet1 = {\"orange\",\"banana\",\"cherry\",\"pineapple\"}\n",
        "fruitSet2 = {\"pineapple\",\"melon\",\"orange\"}\n",
        "fruitSet1.intersection_update(fruitSet2)\n",
        "print(fruitSet1)"
      ],
      "execution_count": null,
      "outputs": []
    },
    {
      "cell_type": "code",
      "metadata": {
        "id": "ezwZL7w8Cc0N"
      },
      "source": [
        "# intersection with creation of new Set\n",
        "fruitSet1 = {\"orange\",\"banana\",\"cherry\",\"pineapple\"}\n",
        "fruitSet2 = {\"pineapple\",\"melon\",\"orange\"}\n",
        "fruitSet = fruitSet1.intersection(fruitSet2)\n",
        "print(fruitSet)"
      ],
      "execution_count": null,
      "outputs": []
    },
    {
      "cell_type": "code",
      "metadata": {
        "id": "Y9_kkKsDC46v"
      },
      "source": [
        "# get union of sets minus the intersection\n",
        "fruitSet1 = {\"orange\",\"banana\",\"cherry\",\"pineapple\"}\n",
        "fruitSet2 = {\"pineapple\",\"melon\",\"orange\"}\n",
        "fruitSet1.symmetric_difference_update(fruitSet2)\n",
        "print(fruitSet1)"
      ],
      "execution_count": null,
      "outputs": []
    },
    {
      "cell_type": "code",
      "metadata": {
        "id": "V8-QDD5AEMkb"
      },
      "source": [
        "# get union of sets minus the intersection\n",
        "fruitSet1 = {\"orange\",\"banana\",\"cherry\",\"pineapple\"}\n",
        "fruitSet2 = {\"pineapple\",\"melon\",\"orange\"}\n",
        "fruitSet = fruitSet1.symmetric_difference(fruitSet2)\n",
        "print(fruitSet)"
      ],
      "execution_count": null,
      "outputs": []
    },
    {
      "cell_type": "code",
      "metadata": {
        "id": "-Yb8C5csEZZ9"
      },
      "source": [
        "# difference between two sets\n",
        "fruitSet1 = {\"orange\",\"banana\",\"cherry\",\"pineapple\"}\n",
        "fruitSet2 = {\"pineapple\",\"melon\",\"orange\"}\n",
        "fruitSet = fruitSet1.difference(fruitSet2)\n",
        "print(fruitSet)"
      ],
      "execution_count": null,
      "outputs": []
    },
    {
      "cell_type": "code",
      "metadata": {
        "id": "3q3p9mtsHMa7"
      },
      "source": [
        "# difference between two sets\n",
        "fruitSet1 = {\"orange\",\"banana\",\"cherry\",\"pineapple\"}\n",
        "fruitSet2 = {\"pineapple\",\"melon\",\"orange\"}\n",
        "fruitSet1.difference_update(fruitSet2)\n",
        "print(fruitSet1)"
      ],
      "execution_count": null,
      "outputs": []
    },
    {
      "cell_type": "code",
      "metadata": {
        "id": "RmHB26GeHQMA"
      },
      "source": [
        "# isdisjoint\n",
        "\n",
        "disjointSet1 = {1,2,3}\n",
        "disjointSet2 = {4,5,6}\n",
        "disjointSet1.isdisjoint(disjointSet2)"
      ],
      "execution_count": null,
      "outputs": []
    },
    {
      "cell_type": "code",
      "metadata": {
        "id": "_Z33LZvRH3y3"
      },
      "source": [
        "# isdisjoint\n",
        "\n",
        "disjointFalseSet1 = {1,2,3,4,5}\n",
        "disjointFalseSet2 = {4,5,6,7,8}\n",
        "disjointFalseSet1.isdisjoint(disjointFalseSet2)"
      ],
      "execution_count": null,
      "outputs": []
    },
    {
      "cell_type": "code",
      "metadata": {
        "id": "MA4uuT6mIKa9"
      },
      "source": [
        "#issuperset() \n",
        "superSet = {1,2,3,4,5,6,7,8,9}\n",
        "subSet = {1,2,3,5,7}\n",
        "superSet.issuperset(subSet)"
      ],
      "execution_count": null,
      "outputs": []
    },
    {
      "cell_type": "code",
      "metadata": {
        "id": "Zu9DUV0CIxix"
      },
      "source": [
        "#issuperset()\n",
        "superSet = {1,2,3,4,5,6,7,8,9}\n",
        "subSet = {11,12,13}\n",
        "superSet.issuperset(subSet)"
      ],
      "execution_count": null,
      "outputs": []
    },
    {
      "cell_type": "code",
      "metadata": {
        "id": "zOnFpfsmIhG_"
      },
      "source": [
        "#issubset()\n",
        "superSet = {1,2,3,4,5,6,7,8,9}\n",
        "subSet = {1,2,3,5,7}\n",
        "subSet.issubset(superSet)"
      ],
      "execution_count": null,
      "outputs": []
    },
    {
      "cell_type": "code",
      "metadata": {
        "id": "28ctrrhcI8AQ"
      },
      "source": [
        "#issubset()\n",
        "superSet = {1,2,3,4,5,6,7,8,9}\n",
        "subSet = {11,12,13}\n",
        "subSet.issubset(superSet)"
      ],
      "execution_count": null,
      "outputs": []
    },
    {
      "cell_type": "markdown",
      "metadata": {
        "id": "fxh6GZWKK9ZU"
      },
      "source": [
        "### Sequence - Dict\n",
        "In the latest Python Versions (Above 3.7) Dict type is ORDERED.\n",
        "\n",
        "NO DUPLICATES, MUTABLE"
      ]
    },
    {
      "cell_type": "code",
      "metadata": {
        "id": "LJAcOEIRLBzn",
        "colab": {
          "base_uri": "https://localhost:8080/"
        },
        "outputId": "869ccb10-90f6-401d-807f-9eedee18188e"
      },
      "source": [
        "capitalsDict = {\"Japan\":\"Tokyo\", \"UK\":\"London\", \"Russia\":\"Moscow\",\"France\":\"Paris\", \"India\":\"New Delhi\"}\n",
        "print(capitalsDict)"
      ],
      "execution_count": 1,
      "outputs": [
        {
          "output_type": "stream",
          "name": "stdout",
          "text": [
            "{'Japan': 'Tokyo', 'UK': 'London', 'Russia': 'Moscow', 'France': 'Paris', 'India': 'New Delhi'}\n"
          ]
        }
      ]
    },
    {
      "cell_type": "markdown",
      "metadata": {
        "id": "zhlCmFxWLxKJ"
      },
      "source": [
        "##### Length of Dict"
      ]
    },
    {
      "cell_type": "code",
      "metadata": {
        "id": "k57XyCwpL0vj",
        "colab": {
          "base_uri": "https://localhost:8080/"
        },
        "outputId": "0351c62c-7a29-4157-a08f-128e5ca90622"
      },
      "source": [
        "capitalsDict = {\"Japan\":\"Tokyo\", \"UK\":\"London\", \"Russia\":\"Moscow\",\"France\":\"Paris\", \"India\":\"New Delhi\"}\n",
        "\n",
        "length = len(capitalsDict)\n",
        "\n",
        "print(length)\n"
      ],
      "execution_count": 2,
      "outputs": [
        {
          "output_type": "stream",
          "name": "stdout",
          "text": [
            "5\n"
          ]
        }
      ]
    },
    {
      "cell_type": "code",
      "metadata": {
        "id": "KxIOWAApME3F",
        "colab": {
          "base_uri": "https://localhost:8080/"
        },
        "outputId": "f63605bd-2f7f-4d27-824d-7e79a863cbb8"
      },
      "source": [
        "# type\n",
        "capitalsDict = {\"Japan\":\"Tokyo\", \"UK\":\"London\", \"Russia\":\"Moscow\",\"France\":\"Paris\", \"India\":\"New Delhi\"}\n",
        "print(type(capitalsDict))"
      ],
      "execution_count": 3,
      "outputs": [
        {
          "output_type": "stream",
          "name": "stdout",
          "text": [
            "<class 'dict'>\n"
          ]
        }
      ]
    },
    {
      "cell_type": "markdown",
      "metadata": {
        "id": "H8x1pPSFMCH0"
      },
      "source": [
        "##### Access Item "
      ]
    },
    {
      "cell_type": "code",
      "metadata": {
        "id": "rBbyN0F9NQ9N",
        "colab": {
          "base_uri": "https://localhost:8080/"
        },
        "outputId": "4d7ded21-bb54-465e-f04f-c67bd10cf436"
      },
      "source": [
        "# Using Key\n",
        "capitalsDict = {\"Japan\":\"Tokyo\", \"UK\":\"London\", \"Russia\":\"Moscow\",\"France\":\"Paris\", \"India\":\"New Delhi\"}\n",
        "capitalOfUK = capitalsDict[\"UK\"]\n",
        "print(capitalOfUK)"
      ],
      "execution_count": 4,
      "outputs": [
        {
          "output_type": "stream",
          "name": "stdout",
          "text": [
            "London\n"
          ]
        }
      ]
    },
    {
      "cell_type": "code",
      "metadata": {
        "id": "02RCkcGiNbRu",
        "colab": {
          "base_uri": "https://localhost:8080/"
        },
        "outputId": "02ee8e20-e2f0-44b9-dfc1-a66ef752c685"
      },
      "source": [
        "# Using get()\n",
        "capitalsDict = {\"Japan\":\"Tokyo\", \"UK\":\"London\", \"Russia\":\"Moscow\",\"France\":\"Paris\", \"India\":\"New Delhi\"}\n",
        "capitalOfUK = capitalsDict.get(\"UK\")\n",
        "print(capitalOfUK)"
      ],
      "execution_count": 5,
      "outputs": [
        {
          "output_type": "stream",
          "name": "stdout",
          "text": [
            "London\n"
          ]
        }
      ]
    },
    {
      "cell_type": "code",
      "metadata": {
        "id": "cdaNstEfN54M",
        "colab": {
          "base_uri": "https://localhost:8080/"
        },
        "outputId": "46fe6189-e881-4d8d-e1c8-31fc2f3b2617"
      },
      "source": [
        "# Get all keys in the dictionary\n",
        "\n",
        "capitalsDict = {\"Japan\":\"Tokyo\", \"UK\":\"London\", \"Russia\":\"Moscow\",\"France\":\"Paris\", \"India\":\"New Delhi\"}\n",
        "\n",
        "countriesAsKeys = capitalsDict.keys()\n",
        "\n",
        "print(countriesAsKeys)\n",
        "print(type(countriesAsKeys))\n",
        "\n",
        "countriesAsList = list(countriesAsKeys)\n",
        "print(countriesAsList)\n",
        "print(type(countriesAsList))"
      ],
      "execution_count": 6,
      "outputs": [
        {
          "output_type": "stream",
          "name": "stdout",
          "text": [
            "dict_keys(['Japan', 'UK', 'Russia', 'France', 'India'])\n",
            "<class 'dict_keys'>\n",
            "['Japan', 'UK', 'Russia', 'France', 'India']\n",
            "<class 'list'>\n"
          ]
        }
      ]
    },
    {
      "cell_type": "code",
      "metadata": {
        "id": "CjpnSzsFOff4",
        "colab": {
          "base_uri": "https://localhost:8080/"
        },
        "outputId": "994059cb-29b3-45be-cd80-e03290a4192a"
      },
      "source": [
        "# Loop through keys\n",
        "capitalsDict = {\"Japan\":\"Tokyo\", \"UK\":\"London\", \"Russia\":\"Moscow\",\"France\":\"Paris\", \"India\":\"New Delhi\"}\n",
        "\n",
        "countriesAsKeys = capitalsDict.keys()\n",
        "for country in countriesAsKeys:\n",
        "  print(country)"
      ],
      "execution_count": 7,
      "outputs": [
        {
          "output_type": "stream",
          "name": "stdout",
          "text": [
            "Japan\n",
            "UK\n",
            "Russia\n",
            "France\n",
            "India\n"
          ]
        }
      ]
    },
    {
      "cell_type": "code",
      "metadata": {
        "id": "CeUVF7MnPIQp",
        "colab": {
          "base_uri": "https://localhost:8080/"
        },
        "outputId": "8d0ef5b6-1932-4aca-83e7-b57bfe2bc0ab"
      },
      "source": [
        "# Get all values in the dictionary\n",
        "\n",
        "capitalsDict = {\"Japan\":\"Tokyo\", \"UK\":\"London\", \"Russia\":\"Moscow\",\"France\":\"Paris\", \"India\":\"New Delhi\"}\n",
        "\n",
        "capitalsAsValues = capitalsDict.values()\n",
        "\n",
        "print(capitalsAsValues)\n",
        "print(type(capitalsAsValues))\n",
        "\n",
        "capitalsAsList = list(capitalsAsValues)\n",
        "print(capitalsAsList)\n",
        "print(type(capitalsAsList))\n"
      ],
      "execution_count": 8,
      "outputs": [
        {
          "output_type": "stream",
          "name": "stdout",
          "text": [
            "dict_values(['Tokyo', 'London', 'Moscow', 'Paris', 'New Delhi'])\n",
            "<class 'dict_values'>\n",
            "['Tokyo', 'London', 'Moscow', 'Paris', 'New Delhi']\n",
            "<class 'list'>\n"
          ]
        }
      ]
    },
    {
      "cell_type": "code",
      "metadata": {
        "id": "nWRZxbQLQEo-",
        "colab": {
          "base_uri": "https://localhost:8080/"
        },
        "outputId": "15bbb633-9a57-4d3c-a0c5-8973ebb67cc6"
      },
      "source": [
        "# Loop through values\n",
        "capitalsDict = {\"Japan\":\"Tokyo\", \"UK\":\"London\", \"Russia\":\"Moscow\",\"France\":\"Paris\", \"India\":\"New Delhi\"}\n",
        "\n",
        "capitalsAsValues = capitalsDict.values()\n",
        "for capital in capitalsAsValues:\n",
        "  print(capital)"
      ],
      "execution_count": 9,
      "outputs": [
        {
          "output_type": "stream",
          "name": "stdout",
          "text": [
            "Tokyo\n",
            "London\n",
            "Moscow\n",
            "Paris\n",
            "New Delhi\n"
          ]
        }
      ]
    },
    {
      "cell_type": "code",
      "metadata": {
        "id": "5k8mQBdaQbbV",
        "colab": {
          "base_uri": "https://localhost:8080/"
        },
        "outputId": "40a6ab62-c2ce-406e-8cb0-2b747c98e613"
      },
      "source": [
        "#Get all values in the Dict and update any value\n",
        "\n",
        "capitalsDict = {\"Japan\":\"Tokyo\", \"UK\":\"London\", \"Russia\":\"Moscow\",\"France\":\"Paris\", \"India\":\"Delhi\"}\n",
        "\n",
        "capitalsAsValues = capitalsDict.values()\n",
        "\n",
        "print(capitalsAsValues)\n",
        "\n",
        "capitalsDict[\"India\"] = \"New Delhi\"\n",
        "\n",
        "print(capitalsAsValues)\n",
        "print(capitalsDict)\n",
        "capitalsDict[\"Indonesia\"] = \"Jakarta\"\n",
        "\n",
        "print(capitalsAsValues)\n",
        "print(capitalsDict)"
      ],
      "execution_count": 10,
      "outputs": [
        {
          "output_type": "stream",
          "name": "stdout",
          "text": [
            "dict_values(['Tokyo', 'London', 'Moscow', 'Paris', 'Delhi'])\n",
            "dict_values(['Tokyo', 'London', 'Moscow', 'Paris', 'New Delhi'])\n",
            "{'Japan': 'Tokyo', 'UK': 'London', 'Russia': 'Moscow', 'France': 'Paris', 'India': 'New Delhi'}\n",
            "dict_values(['Tokyo', 'London', 'Moscow', 'Paris', 'New Delhi', 'Jakarta'])\n",
            "{'Japan': 'Tokyo', 'UK': 'London', 'Russia': 'Moscow', 'France': 'Paris', 'India': 'New Delhi', 'Indonesia': 'Jakarta'}\n"
          ]
        }
      ]
    },
    {
      "cell_type": "code",
      "metadata": {
        "id": "rMtgqPI9Ru4B",
        "colab": {
          "base_uri": "https://localhost:8080/"
        },
        "outputId": "f4c7c3bf-2cfe-4c65-9b1a-7d3625fdbc4a"
      },
      "source": [
        "#Get all values in the Dict and update any value\n",
        "\n",
        "capitalsDict = {\"Japan\":\"Tokyo\", \"UK\":\"London\", \"Russia\":\"Moscow\",\"France\":\"Paris\", \"India\":\"Delhi\"}\n",
        "\n",
        "capitalsAsValues = capitalsDict.values()\n",
        "capitalsAsList = list(capitalsAsValues)\n",
        "print(capitalsAsList)\n",
        "\n",
        "capitalsDict[\"India\"] = \"New Delhi\"\n",
        "\n",
        "print(capitalsAsList)\n",
        "print(capitalsDict)\n",
        "print(capitalsAsValues)"
      ],
      "execution_count": 14,
      "outputs": [
        {
          "output_type": "stream",
          "name": "stdout",
          "text": [
            "['Tokyo', 'London', 'Moscow', 'Paris', 'Delhi']\n",
            "['Tokyo', 'London', 'Moscow', 'Paris', 'Delhi']\n",
            "{'Japan': 'Tokyo', 'UK': 'London', 'Russia': 'Moscow', 'France': 'Paris', 'India': 'New Delhi'}\n",
            "dict_values(['Tokyo', 'London', 'Moscow', 'Paris', 'New Delhi'])\n"
          ]
        }
      ]
    },
    {
      "cell_type": "code",
      "metadata": {
        "id": "I8198aH-R6ky",
        "colab": {
          "base_uri": "https://localhost:8080/",
          "height": 201
        },
        "outputId": "e095749b-e435-49c2-8717-46dab7a82ccb"
      },
      "source": [
        "# Key not exists\n",
        "\n",
        "capitalsDict = {\"Japan\":\"Tokyo\", \"UK\":\"London\", \"Russia\":\"Moscow\",\"France\":\"Paris\", \"India\":\"Delhi\"}\n",
        "\n",
        "print(capitalsDict[\"Peru\"])"
      ],
      "execution_count": 15,
      "outputs": [
        {
          "output_type": "error",
          "ename": "KeyError",
          "evalue": "ignored",
          "traceback": [
            "\u001b[0;31m---------------------------------------------------------------------------\u001b[0m",
            "\u001b[0;31mKeyError\u001b[0m                                  Traceback (most recent call last)",
            "\u001b[0;32m<ipython-input-15-cf75142a9966>\u001b[0m in \u001b[0;36m<module>\u001b[0;34m()\u001b[0m\n\u001b[1;32m      3\u001b[0m \u001b[0mcapitalsDict\u001b[0m \u001b[0;34m=\u001b[0m \u001b[0;34m{\u001b[0m\u001b[0;34m\"Japan\"\u001b[0m\u001b[0;34m:\u001b[0m\u001b[0;34m\"Tokyo\"\u001b[0m\u001b[0;34m,\u001b[0m \u001b[0;34m\"UK\"\u001b[0m\u001b[0;34m:\u001b[0m\u001b[0;34m\"London\"\u001b[0m\u001b[0;34m,\u001b[0m \u001b[0;34m\"Russia\"\u001b[0m\u001b[0;34m:\u001b[0m\u001b[0;34m\"Moscow\"\u001b[0m\u001b[0;34m,\u001b[0m\u001b[0;34m\"France\"\u001b[0m\u001b[0;34m:\u001b[0m\u001b[0;34m\"Paris\"\u001b[0m\u001b[0;34m,\u001b[0m \u001b[0;34m\"India\"\u001b[0m\u001b[0;34m:\u001b[0m\u001b[0;34m\"Delhi\"\u001b[0m\u001b[0;34m}\u001b[0m\u001b[0;34m\u001b[0m\u001b[0;34m\u001b[0m\u001b[0m\n\u001b[1;32m      4\u001b[0m \u001b[0;34m\u001b[0m\u001b[0m\n\u001b[0;32m----> 5\u001b[0;31m \u001b[0mprint\u001b[0m\u001b[0;34m(\u001b[0m\u001b[0mcapitalsDict\u001b[0m\u001b[0;34m[\u001b[0m\u001b[0;34m\"Peru\"\u001b[0m\u001b[0;34m]\u001b[0m\u001b[0;34m)\u001b[0m\u001b[0;34m\u001b[0m\u001b[0;34m\u001b[0m\u001b[0m\n\u001b[0m",
            "\u001b[0;31mKeyError\u001b[0m: 'Peru'"
          ]
        }
      ]
    },
    {
      "cell_type": "code",
      "metadata": {
        "id": "2JUiaeLBTOFr",
        "colab": {
          "base_uri": "https://localhost:8080/"
        },
        "outputId": "4a28badf-083d-4a8e-ef81-a144e9c9d352"
      },
      "source": [
        "# Check the key exists\n",
        "\n",
        "\n",
        "capitalsDict = {\"Japan\":\"Tokyo\", \"UK\":\"London\", \"Russia\":\"Moscow\",\"France\":\"Paris\", \"India\":\"Delhi\"}\n",
        "\n",
        "if \"Peru\" in capitalsDict:\n",
        "  print(capitalsDict[\"Peru\"])\n",
        "\n",
        "if \"Russia\" in capitalsDict:\n",
        "  print(capitalsDict[\"Russia\"])\n"
      ],
      "execution_count": 16,
      "outputs": [
        {
          "output_type": "stream",
          "name": "stdout",
          "text": [
            "Moscow\n"
          ]
        }
      ]
    },
    {
      "cell_type": "markdown",
      "metadata": {
        "id": "lbA6sAeCUFWX"
      },
      "source": [
        "##### Add Item"
      ]
    },
    {
      "cell_type": "code",
      "metadata": {
        "id": "wdL6nhKAUHDj",
        "colab": {
          "base_uri": "https://localhost:8080/"
        },
        "outputId": "c8d84f8b-4c7c-40d5-a174-4daa2c948f01"
      },
      "source": [
        "\n",
        "capitalsDict = {\"Japan\":\"Tokyo\", \"UK\":\"London\", \"Russia\":\"Moscow\",\"France\":\"Paris\", \"India\":\"Delhi\"}\n",
        "\n",
        "capitalsDict[\"Indonesia\"] = \"Jakarta\"\n",
        "\n",
        "print(capitalsDict)"
      ],
      "execution_count": 17,
      "outputs": [
        {
          "output_type": "stream",
          "name": "stdout",
          "text": [
            "{'Japan': 'Tokyo', 'UK': 'London', 'Russia': 'Moscow', 'France': 'Paris', 'India': 'Delhi', 'Indonesia': 'Jakarta'}\n"
          ]
        }
      ]
    },
    {
      "cell_type": "markdown",
      "metadata": {
        "id": "3UKtzLFqUfmc"
      },
      "source": [
        "##### Update Item"
      ]
    },
    {
      "cell_type": "code",
      "metadata": {
        "id": "dyIrG_0PUhsb",
        "colab": {
          "base_uri": "https://localhost:8080/"
        },
        "outputId": "2c32cc70-4088-401b-de5d-aa5dc31a68c3"
      },
      "source": [
        "capitalsDict = {\"Japan\":\"Tokyo\", \"UK\":\"London\", \"Russia\":\"Moscow\",\"France\":\"Paris\", \"India\":\"Delhi\"}\n",
        "capitalsDict.update({\"India\":\"New Delhi\"})\n",
        "print(capitalsDict)"
      ],
      "execution_count": 18,
      "outputs": [
        {
          "output_type": "stream",
          "name": "stdout",
          "text": [
            "{'Japan': 'Tokyo', 'UK': 'London', 'Russia': 'Moscow', 'France': 'Paris', 'India': 'New Delhi'}\n"
          ]
        }
      ]
    },
    {
      "cell_type": "markdown",
      "metadata": {
        "id": "ArSbvnT6UTbb"
      },
      "source": [
        "##### Remove Item"
      ]
    },
    {
      "cell_type": "code",
      "metadata": {
        "id": "8mKvTuq-UXFc",
        "colab": {
          "base_uri": "https://localhost:8080/"
        },
        "outputId": "d007e301-ec09-4591-ccf2-3d4d035a436c"
      },
      "source": [
        "capitalsDict = {\"Japan\":\"Tokyo\", \"UK\":\"London\", \"Russia\":\"Moscow\",\"France\":\"Paris\", \"India\":\"Delhi\"}\n",
        "\n",
        "capitalsDict.pop(\"Russia\")\n",
        "print(capitalsDict)\n",
        "\n",
        "del capitalsDict[\"Japan\"]\n",
        "print(capitalsDict)\n"
      ],
      "execution_count": 19,
      "outputs": [
        {
          "output_type": "stream",
          "name": "stdout",
          "text": [
            "{'Japan': 'Tokyo', 'UK': 'London', 'France': 'Paris', 'India': 'Delhi'}\n",
            "{'UK': 'London', 'France': 'Paris', 'India': 'Delhi'}\n"
          ]
        }
      ]
    },
    {
      "cell_type": "code",
      "metadata": {
        "id": "s9St9xQtVKo4",
        "colab": {
          "base_uri": "https://localhost:8080/"
        },
        "outputId": "1dc37bd3-33ff-4e08-d5b2-29167dd0e1ed"
      },
      "source": [
        "capitalsDict = {\"Japan\":\"Tokyo\", \"UK\":\"London\", \"Russia\":\"Moscow\",\"France\":\"Paris\", \"India\":\"Delhi\"}\n",
        "print(capitalsDict)\n",
        "\n",
        "capitalsDict.popitem()\n",
        "print(capitalsDict)\n"
      ],
      "execution_count": 20,
      "outputs": [
        {
          "output_type": "stream",
          "name": "stdout",
          "text": [
            "{'Japan': 'Tokyo', 'UK': 'London', 'Russia': 'Moscow', 'France': 'Paris', 'India': 'Delhi'}\n",
            "{'Japan': 'Tokyo', 'UK': 'London', 'Russia': 'Moscow', 'France': 'Paris'}\n"
          ]
        }
      ]
    },
    {
      "cell_type": "markdown",
      "metadata": {
        "id": "4nxdalnmWFAp"
      },
      "source": [
        "##### del method"
      ]
    },
    {
      "cell_type": "code",
      "metadata": {
        "id": "WREOSbtEWJCV",
        "colab": {
          "base_uri": "https://localhost:8080/"
        },
        "outputId": "4854923b-7717-4bc1-fbd3-87229a5e72ac"
      },
      "source": [
        "# Delete Item\n",
        "capitalsDict = {\"Japan\":\"Tokyo\", \"UK\":\"London\", \"Russia\":\"Moscow\",\"France\":\"Paris\", \"India\":\"Delhi\"}\n",
        "print(capitalsDict)\n",
        "\n",
        "del capitalsDict[\"Japan\"]\n",
        "print(capitalsDict)"
      ],
      "execution_count": 21,
      "outputs": [
        {
          "output_type": "stream",
          "name": "stdout",
          "text": [
            "{'Japan': 'Tokyo', 'UK': 'London', 'Russia': 'Moscow', 'France': 'Paris', 'India': 'Delhi'}\n",
            "{'UK': 'London', 'Russia': 'Moscow', 'France': 'Paris', 'India': 'Delhi'}\n"
          ]
        }
      ]
    },
    {
      "cell_type": "code",
      "metadata": {
        "id": "gPJhQ4AmWRd9",
        "colab": {
          "base_uri": "https://localhost:8080/"
        },
        "outputId": "0ea9d9d7-3d89-4c46-f757-c954d15d511b"
      },
      "source": [
        "# Delete Dict\n",
        "capitalsDictForDel = {\"Japan\":\"Tokyo\", \"UK\":\"London\", \"Russia\":\"Moscow\",\"France\":\"Paris\", \"India\":\"Delhi\"}\n",
        "print(capitalsDictForDel)\n",
        "del capitalsDictForDel"
      ],
      "execution_count": 22,
      "outputs": [
        {
          "output_type": "stream",
          "name": "stdout",
          "text": [
            "{'Japan': 'Tokyo', 'UK': 'London', 'Russia': 'Moscow', 'France': 'Paris', 'India': 'Delhi'}\n"
          ]
        }
      ]
    },
    {
      "cell_type": "code",
      "metadata": {
        "id": "M8CHT8MQWof4",
        "colab": {
          "base_uri": "https://localhost:8080/",
          "height": 167
        },
        "outputId": "d4f9a78e-0506-468a-a8bd-2e285412e47f"
      },
      "source": [
        "print(capitalsDictForDel)"
      ],
      "execution_count": 23,
      "outputs": [
        {
          "output_type": "error",
          "ename": "NameError",
          "evalue": "ignored",
          "traceback": [
            "\u001b[0;31m---------------------------------------------------------------------------\u001b[0m",
            "\u001b[0;31mNameError\u001b[0m                                 Traceback (most recent call last)",
            "\u001b[0;32m<ipython-input-23-174001171863>\u001b[0m in \u001b[0;36m<module>\u001b[0;34m()\u001b[0m\n\u001b[0;32m----> 1\u001b[0;31m \u001b[0mprint\u001b[0m\u001b[0;34m(\u001b[0m\u001b[0mcapitalsDictForDel\u001b[0m\u001b[0;34m)\u001b[0m\u001b[0;34m\u001b[0m\u001b[0;34m\u001b[0m\u001b[0m\n\u001b[0m",
            "\u001b[0;31mNameError\u001b[0m: name 'capitalsDictForDel' is not defined"
          ]
        }
      ]
    },
    {
      "cell_type": "markdown",
      "metadata": {
        "id": "Lk5aonvvW2JP"
      },
      "source": [
        "##### clear()"
      ]
    },
    {
      "cell_type": "code",
      "metadata": {
        "id": "oJmaVGOTW4_s",
        "colab": {
          "base_uri": "https://localhost:8080/"
        },
        "outputId": "d7577686-896b-4df4-8e95-8a06d25fd4ad"
      },
      "source": [
        "capitalsDict = {\"Japan\":\"Tokyo\", \"UK\":\"London\", \"Russia\":\"Moscow\",\"France\":\"Paris\", \"India\":\"Delhi\"}\n",
        "print(capitalsDict)\n",
        "\n",
        "capitalsDict.clear()\n",
        "print(capitalsDict)\n",
        "print(type(capitalsDict))"
      ],
      "execution_count": 25,
      "outputs": [
        {
          "output_type": "stream",
          "name": "stdout",
          "text": [
            "{'Japan': 'Tokyo', 'UK': 'London', 'Russia': 'Moscow', 'France': 'Paris', 'India': 'Delhi'}\n",
            "{}\n",
            "<class 'dict'>\n"
          ]
        }
      ]
    },
    {
      "cell_type": "markdown",
      "metadata": {
        "id": "t9nC90-oXlG5"
      },
      "source": [
        "##### copy()"
      ]
    },
    {
      "cell_type": "code",
      "metadata": {
        "id": "7AfcpWPtXnR3",
        "colab": {
          "base_uri": "https://localhost:8080/"
        },
        "outputId": "8cedb4f4-f00d-4f47-a299-e14561ed9020"
      },
      "source": [
        "capitalsDict = {\"Japan\":\"Tokyo\", \"UK\":\"London\", \"Russia\":\"Moscow\",\"France\":\"Paris\", \"India\":\"Delhi\"}\n",
        "print(capitalsDict)\n",
        "print(capitalsDict.copy())"
      ],
      "execution_count": 26,
      "outputs": [
        {
          "output_type": "stream",
          "name": "stdout",
          "text": [
            "{'Japan': 'Tokyo', 'UK': 'London', 'Russia': 'Moscow', 'France': 'Paris', 'India': 'Delhi'}\n",
            "{'Japan': 'Tokyo', 'UK': 'London', 'Russia': 'Moscow', 'France': 'Paris', 'India': 'Delhi'}\n"
          ]
        }
      ]
    },
    {
      "cell_type": "markdown",
      "metadata": {
        "id": "IJ50xD2oX2Sw"
      },
      "source": [
        "##### Nested Dicts"
      ]
    },
    {
      "cell_type": "code",
      "metadata": {
        "id": "LcylHwHSX5Gg",
        "colab": {
          "base_uri": "https://localhost:8080/"
        },
        "outputId": "69844931-3d03-4f6b-cdfb-cf358a21c51d"
      },
      "source": [
        "family = {\n",
        "  \"child1\" : {\n",
        "    \"name\" : \"Emil\",\n",
        "    \"year\" : 2004\n",
        "  },\n",
        "  \"child2\" : {\n",
        "    \"name\" : \"Tobias\",\n",
        "    \"year\" : 2007\n",
        "  },\n",
        "  \"child3\" : {\n",
        "    \"name\" : \"Linus\",\n",
        "    \"year\" : 2011\n",
        "  }\n",
        "} \n",
        "\n",
        "print(family)"
      ],
      "execution_count": 27,
      "outputs": [
        {
          "output_type": "stream",
          "name": "stdout",
          "text": [
            "{'child1': {'name': 'Emil', 'year': 2004}, 'child2': {'name': 'Tobias', 'year': 2007}, 'child3': {'name': 'Linus', 'year': 2011}}\n"
          ]
        }
      ]
    },
    {
      "cell_type": "code",
      "metadata": {
        "id": "8k_HEaYRYAw5",
        "colab": {
          "base_uri": "https://localhost:8080/",
          "height": 35
        },
        "outputId": "684c9252-ce00-4353-c150-66e3129c889c"
      },
      "source": [
        "family[\"child2\"][\"name\"]"
      ],
      "execution_count": 28,
      "outputs": [
        {
          "output_type": "execute_result",
          "data": {
            "application/vnd.google.colaboratory.intrinsic+json": {
              "type": "string"
            },
            "text/plain": [
              "'Tobias'"
            ]
          },
          "metadata": {},
          "execution_count": 28
        }
      ]
    },
    {
      "cell_type": "markdown",
      "metadata": {
        "id": "dlfgY9-JuGtK"
      },
      "source": [
        "### Summary\n",
        "######List - ORDERED, ALLOW DUPLICATES, MUTABLE\n",
        "#####Tuple - ORDERED, ALLOW DUPLICATES, IMMUTABLE\n",
        "#####Set - UNORDERED, NO DUPLICATES, IMMUTABLE\n",
        "#####DIct - NO DUPLICATES, MUTABLE"
      ]
    }
  ]
}