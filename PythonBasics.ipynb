{
  "nbformat": 4,
  "nbformat_minor": 0,
  "metadata": {
    "colab": {
      "name": "PythonBasics.ipynb",
      "provenance": [],
      "collapsed_sections": [],
      "authorship_tag": "ABX9TyMxT4xTVhJylYUvgCEQA08y",
      "include_colab_link": true
    },
    "kernelspec": {
      "name": "python3",
      "display_name": "Python 3"
    },
    "language_info": {
      "name": "python"
    }
  },
  "cells": [
    {
      "cell_type": "markdown",
      "metadata": {
        "id": "view-in-github",
        "colab_type": "text"
      },
      "source": [
        "<a href=\"https://colab.research.google.com/github/techakilan/python-datascience-training/blob/master/PythonBasics.ipynb\" target=\"_parent\"><img src=\"https://colab.research.google.com/assets/colab-badge.svg\" alt=\"Open In Colab\"/></a>"
      ]
    },
    {
      "cell_type": "markdown",
      "metadata": {
        "id": "DkHJAYK08L1l"
      },
      "source": [
        "## Covered Topics\n",
        "\n",
        "Data Types\n",
        "\n",
        "*   Data Types - int, float, complex, string etc\n",
        "*   Sequences - List, Tuple, Set\n",
        "\n",
        "\n"
      ]
    },
    {
      "cell_type": "markdown",
      "metadata": {
        "id": "dlwB1oURVTQp"
      },
      "source": [
        "### Hello world Example"
      ]
    },
    {
      "cell_type": "code",
      "metadata": {
        "id": "Xy1WEucrVG08"
      },
      "source": [
        "print(\"Hello, World!\")"
      ],
      "execution_count": null,
      "outputs": []
    },
    {
      "cell_type": "markdown",
      "metadata": {
        "id": "9bfAmdNwVxzf"
      },
      "source": [
        "## Variables"
      ]
    },
    {
      "cell_type": "code",
      "metadata": {
        "id": "LXc-hYPKV0sC"
      },
      "source": [
        "x=5\n",
        "y=7"
      ],
      "execution_count": null,
      "outputs": []
    },
    {
      "cell_type": "code",
      "metadata": {
        "id": "Xx2CVcUhV_MV"
      },
      "source": [
        "print(x)\n",
        "x"
      ],
      "execution_count": null,
      "outputs": []
    },
    {
      "cell_type": "markdown",
      "metadata": {
        "id": "390jUKiAx8xF"
      },
      "source": [
        ""
      ]
    },
    {
      "cell_type": "code",
      "metadata": {
        "id": "dT_8kjcvWmQZ"
      },
      "source": [
        "type(x)"
      ],
      "execution_count": null,
      "outputs": []
    },
    {
      "cell_type": "markdown",
      "metadata": {
        "id": "rX1crBq1Wx3_"
      },
      "source": [
        "## Simple Data types\n",
        "\n",
        "variables do not have explicit data type as python associates types with values.\n",
        "So x = 8 works. But int x = 8 will throw syntax error. However we may use type hinting using x:int = 8 which is same as x = 8"
      ]
    },
    {
      "cell_type": "markdown",
      "metadata": {
        "id": "WeUvO71yW246"
      },
      "source": [
        "#### Int (Numeric)\n",
        "\n"
      ]
    },
    {
      "cell_type": "code",
      "metadata": {
        "id": "i7un1Tp7W04h"
      },
      "source": [
        "x:int = 8\n",
        "y=8\n",
        "print(type(x))\n",
        "print(type(y))"
      ],
      "execution_count": null,
      "outputs": []
    },
    {
      "cell_type": "markdown",
      "metadata": {
        "id": "aciShRYAYsOV"
      },
      "source": [
        "#### Float(Numeric)"
      ]
    },
    {
      "cell_type": "code",
      "metadata": {
        "id": "4bAY0MnPY5Cz"
      },
      "source": [
        "x=8.8\n",
        "print(type(x))"
      ],
      "execution_count": null,
      "outputs": []
    },
    {
      "cell_type": "markdown",
      "metadata": {
        "id": "rOiCmg55ZA6T"
      },
      "source": [
        "#### Complex numbers(Numeric)"
      ]
    },
    {
      "cell_type": "code",
      "metadata": {
        "id": "KS5jTw3bZMMK"
      },
      "source": [
        "c1 = complex(2,3)\n",
        "print(c1)\n",
        "print(type(c1))"
      ],
      "execution_count": null,
      "outputs": []
    },
    {
      "cell_type": "markdown",
      "metadata": {
        "id": "xRFF8ucIyUZa"
      },
      "source": [
        "#### Boolean data type"
      ]
    },
    {
      "cell_type": "code",
      "metadata": {
        "id": "kLKShl_3yf3U"
      },
      "source": [
        "x= True\n",
        "y= False\n",
        "print(x)\n",
        "print(y)"
      ],
      "execution_count": null,
      "outputs": []
    },
    {
      "cell_type": "code",
      "metadata": {
        "id": "09dazpWNyykM"
      },
      "source": [
        "print(1==1)\n",
        "print(1>2)\n",
        "print(1<2)"
      ],
      "execution_count": null,
      "outputs": []
    },
    {
      "cell_type": "markdown",
      "metadata": {
        "id": "mA7HegTf0W18"
      },
      "source": [
        "### String data type"
      ]
    },
    {
      "cell_type": "code",
      "metadata": {
        "id": "eqZh_DkA0iDy"
      },
      "source": [
        "txt1 = \"cats rule the world\"\n",
        "print(txt1)\n",
        "print(type(txt1))"
      ],
      "execution_count": null,
      "outputs": []
    },
    {
      "cell_type": "code",
      "metadata": {
        "id": "EqTf-N5E0Y_y"
      },
      "source": [
        "\n",
        "txt2 = 'cats rule the world'\n",
        "print(txt2)\n",
        "print(type(txt2))"
      ],
      "execution_count": null,
      "outputs": []
    },
    {
      "cell_type": "code",
      "metadata": {
        "id": "G7N4dhzv0vvR"
      },
      "source": [
        "print(txt1==txt2)"
      ],
      "execution_count": null,
      "outputs": []
    },
    {
      "cell_type": "markdown",
      "metadata": {
        "id": "TpglKuvDWJue"
      },
      "source": [
        "## Type casting"
      ]
    },
    {
      "cell_type": "markdown",
      "metadata": {
        "id": "3W7wyl-QaRWG"
      },
      "source": [
        "### Int to String"
      ]
    },
    {
      "cell_type": "code",
      "metadata": {
        "id": "a4AHazF9WMrf"
      },
      "source": [
        "num=8\n",
        "txt = str(num)\n",
        "print(txt)\n",
        "print(type(num))\n",
        "print(type(txt))\n",
        "\n",
        "\n"
      ],
      "execution_count": null,
      "outputs": []
    },
    {
      "cell_type": "code",
      "metadata": {
        "id": "LbLC33lBa5Qs"
      },
      "source": [
        "num=8\n",
        "txt = \"cats rule the world\"\n",
        "print(num+\" \"+txt)"
      ],
      "execution_count": null,
      "outputs": []
    },
    {
      "cell_type": "code",
      "metadata": {
        "id": "eFBiOaSMbOTW"
      },
      "source": [
        "num=8\n",
        "txt = \"cats rule the world\"\n",
        "print(str(num)+\" \"+txt)"
      ],
      "execution_count": null,
      "outputs": []
    },
    {
      "cell_type": "markdown",
      "metadata": {
        "id": "6UhKMvX9uWQL"
      },
      "source": [
        "### Float to String"
      ]
    },
    {
      "cell_type": "code",
      "metadata": {
        "id": "4ssWYGm8uAsW"
      },
      "source": [
        "num = 8.2\n",
        "print(str(num))\n",
        "print(type(str(num)))"
      ],
      "execution_count": null,
      "outputs": []
    },
    {
      "cell_type": "markdown",
      "metadata": {
        "id": "AfjNhVlguY_w"
      },
      "source": [
        "### Complex to string"
      ]
    },
    {
      "cell_type": "code",
      "metadata": {
        "id": "wcFhLjDpudSU"
      },
      "source": [
        "c1 = complex(3,4)\n",
        "print(str(c1))"
      ],
      "execution_count": null,
      "outputs": []
    },
    {
      "cell_type": "markdown",
      "metadata": {
        "id": "eyFdmwZjztaa"
      },
      "source": [
        "### String to Int"
      ]
    },
    {
      "cell_type": "code",
      "metadata": {
        "id": "X_TNdg4Tzwul"
      },
      "source": [
        "txt = \"cats rule the world\"\n",
        "print(int(txt))"
      ],
      "execution_count": null,
      "outputs": []
    },
    {
      "cell_type": "code",
      "metadata": {
        "id": "YydWCoem0TLh"
      },
      "source": [
        "raw_user_age = input(\"What is your age?\")\n",
        "user_age = int(raw_user_age)\n",
        "print(user_age)"
      ],
      "execution_count": null,
      "outputs": []
    },
    {
      "cell_type": "code",
      "metadata": {
        "id": "fCj8g9ZI10_n"
      },
      "source": [
        "print(type(raw_user_age))\n",
        "print(type(int(raw_user_age)))"
      ],
      "execution_count": null,
      "outputs": []
    },
    {
      "cell_type": "markdown",
      "metadata": {
        "id": "WqypBtAc2Y5w"
      },
      "source": [
        "### String to Float"
      ]
    },
    {
      "cell_type": "code",
      "metadata": {
        "id": "xVk2rqx92bH3"
      },
      "source": [
        "txtFloat = \"8.2\"\n",
        "print(type(txtFloat))\n",
        "print(type(float(txtFloat)))\n"
      ],
      "execution_count": null,
      "outputs": []
    },
    {
      "cell_type": "markdown",
      "metadata": {
        "id": "NqqBnqob2vPj"
      },
      "source": [
        "### String to Complex"
      ]
    },
    {
      "cell_type": "code",
      "metadata": {
        "id": "l1jF9T92216-"
      },
      "source": [
        "txtComplex=\"(3+4j)\"\n",
        "print(type(txtComplex))\n",
        "print(type(complex(c1)))"
      ],
      "execution_count": null,
      "outputs": []
    },
    {
      "cell_type": "markdown",
      "metadata": {
        "id": "5QfWWriuxADR"
      },
      "source": [
        "## Data types continued..."
      ]
    },
    {
      "cell_type": "markdown",
      "metadata": {
        "id": "tksgS2CW4BFf"
      },
      "source": [
        "### Sequence - List\n",
        "##### ORDERED, ALLOW DUPLICATES, MUTABLE"
      ]
    },
    {
      "cell_type": "code",
      "metadata": {
        "id": "G7BGha793-49"
      },
      "source": [
        "# List of Strings\n",
        "fruitList = [\"apple\", \"banana\", \"cherry\",\"mango\",\"kiwi\",\"orange\",\"pineapple\"]\n",
        "print(fruitList)\n",
        "print(type(fruitList))\n",
        "print(type(fruitList[0]))"
      ],
      "execution_count": null,
      "outputs": []
    },
    {
      "cell_type": "code",
      "metadata": {
        "id": "joete07o4s0Q"
      },
      "source": [
        "# List with mixed type\n",
        "\n",
        "mixedList = [\"apple\", 1]\n",
        "print(type(mixedList[0]))\n",
        "print(type(mixedList[1]))"
      ],
      "execution_count": null,
      "outputs": []
    },
    {
      "cell_type": "markdown",
      "metadata": {
        "id": "EqkYSiLS5to9"
      },
      "source": [
        "#### List Constructor"
      ]
    },
    {
      "cell_type": "code",
      "metadata": {
        "colab": {
          "base_uri": "https://localhost:8080/"
        },
        "id": "hBQwtMF-5v05",
        "outputId": "10f62c6e-03a7-483e-d425-e08a2d31cf0c"
      },
      "source": [
        "# construct from list\n",
        "fruitsConstructor = list([\"apple\", \"banana\", \"cherry\"])\n",
        "print(fruitsConstructor)\n",
        "print(type(fruitsConstructor))"
      ],
      "execution_count": 30,
      "outputs": [
        {
          "output_type": "stream",
          "name": "stdout",
          "text": [
            "['apple', 'banana', 'cherry']\n",
            "<class 'list'>\n"
          ]
        }
      ]
    },
    {
      "cell_type": "code",
      "metadata": {
        "id": "lMYaPyiVtKCk"
      },
      "source": [
        "# construct from tuple\n",
        "fruitsConstructor = list((\"apple\", \"banana\", \"cherry\"))\n",
        "print(fruitsConstructor)\n",
        "print(type(fruitsConstructor))"
      ],
      "execution_count": null,
      "outputs": []
    },
    {
      "cell_type": "code",
      "metadata": {
        "id": "myzUkpdktgAP"
      },
      "source": [
        "# construct from set\n",
        "fruitsConstructor = list({\"apple\", \"banana\", \"cherry\"})\n",
        "print(fruitsConstructor)\n",
        "print(type(fruitsConstructor))"
      ],
      "execution_count": null,
      "outputs": []
    },
    {
      "cell_type": "markdown",
      "metadata": {
        "id": "z3avA6ZU5JnH"
      },
      "source": [
        "#### List operations - Length"
      ]
    },
    {
      "cell_type": "code",
      "metadata": {
        "id": "y5amItsS5Ry9",
        "colab": {
          "base_uri": "https://localhost:8080/"
        },
        "outputId": "0b7e63aa-660f-43c9-be1c-311932ecab0c"
      },
      "source": [
        "print(len(fruitList))\n",
        "print(len(mixedList))"
      ],
      "execution_count": 33,
      "outputs": [
        {
          "output_type": "stream",
          "name": "stdout",
          "text": [
            "7\n",
            "2\n"
          ]
        }
      ]
    },
    {
      "cell_type": "markdown",
      "metadata": {
        "id": "DHtYfabh5hfj"
      },
      "source": [
        "#### List operation - Access list item"
      ]
    },
    {
      "cell_type": "code",
      "metadata": {
        "colab": {
          "base_uri": "https://localhost:8080/"
        },
        "id": "qKZs9QfC6bsw",
        "outputId": "9d188e2a-e62c-406d-9f47-9a9758bb244d"
      },
      "source": [
        "# Indexing [Index starts from 0 to (length of the list - 1)]\n",
        "# [\"apple\", \"banana\", \"cherry\",\"mango\",\"kiwi\",\"orange\",\"pineapple\"]\n",
        "\n",
        "print(fruitList[0])"
      ],
      "execution_count": 34,
      "outputs": [
        {
          "output_type": "stream",
          "name": "stdout",
          "text": [
            "apple\n"
          ]
        }
      ]
    },
    {
      "cell_type": "code",
      "metadata": {
        "colab": {
          "base_uri": "https://localhost:8080/"
        },
        "id": "BuSb7XrN6tZ3",
        "outputId": "4ed65ccb-d372-4553-87ec-e1002fc8edb2"
      },
      "source": [
        "# Positive Indexing\n",
        "# ['apple', 'banana', 'cherry', 'mango', 'kiwi', 'orange', 'pineapple']\n",
        "\n",
        "print(fruitList[1])"
      ],
      "execution_count": 35,
      "outputs": [
        {
          "output_type": "stream",
          "name": "stdout",
          "text": [
            "banana\n"
          ]
        }
      ]
    },
    {
      "cell_type": "code",
      "metadata": {
        "colab": {
          "base_uri": "https://localhost:8080/"
        },
        "id": "qhw_K7-s8VgR",
        "outputId": "47899c96-107f-406d-e664-935596ca9f6b"
      },
      "source": [
        "# ['apple', 'banana', 'cherry', 'mango', 'kiwi', 'orange', 'pineapple']\n",
        "\n",
        "length = len(fruitList)\n",
        "print(\"Length of list: \"+str(length))\n",
        "print(\"last item using[length-1]: \"+fruitList[length-1])\n",
        "print(\"last item using[6]: \"+fruitList[6])"
      ],
      "execution_count": 36,
      "outputs": [
        {
          "output_type": "stream",
          "name": "stdout",
          "text": [
            "Length of list: 7\n",
            "last item using[length-1]: pineapple\n",
            "last item using[6]: pineapple\n"
          ]
        }
      ]
    },
    {
      "cell_type": "code",
      "metadata": {
        "colab": {
          "base_uri": "https://localhost:8080/"
        },
        "id": "8VNeTw2o63DE",
        "outputId": "c7e445ee-780c-49c0-cb4b-aeb3feefb4b1"
      },
      "source": [
        "# Negative Indexing [index starts from -1 to length of the list]\n",
        "# [\"apple\", \"banana\", \"cherry\",\"mango\",\"kiwi\",\"orange\",\"pineapple\"]\n",
        "\n",
        "print(\"last item using[-1]: \"+fruitList[-1])"
      ],
      "execution_count": 37,
      "outputs": [
        {
          "output_type": "stream",
          "name": "stdout",
          "text": [
            "last item using[-1]: pineapple\n"
          ]
        }
      ]
    },
    {
      "cell_type": "code",
      "metadata": {
        "colab": {
          "base_uri": "https://localhost:8080/"
        },
        "id": "7GTnwuBd8lmS",
        "outputId": "50b6d9b2-97fb-4cdd-c9bc-dd46d658506b"
      },
      "source": [
        "# Negative Indexing\n",
        "# [\"apple\", \"banana\", \"cherry\",\"mango\",\"kiwi\",\"orange\",\"pineapple\"]\n",
        "\n",
        "length = len(fruitList)\n",
        "print(length)\n",
        "print(\"first item using [-length]: \"+fruitList[-length])\n",
        "print(\"first item using [-7] \"+fruitList[-7])"
      ],
      "execution_count": 38,
      "outputs": [
        {
          "output_type": "stream",
          "name": "stdout",
          "text": [
            "7\n",
            "first item using [-length]: apple\n",
            "first item using [-7] apple\n"
          ]
        }
      ]
    },
    {
      "cell_type": "markdown",
      "metadata": {
        "id": "Lfr9t4v93YFR"
      },
      "source": [
        "[start,end,step]"
      ]
    },
    {
      "cell_type": "code",
      "metadata": {
        "id": "dB5NQFiXAUYY"
      },
      "source": [
        "# Default values for Range of Index\n",
        "# [\"apple\", \"banana\", \"cherry\",\"mango\",\"kiwi\",\"orange\",\"pineapple\"]\n",
        "start=0\n",
        "length= len(fruitList)\n",
        "step=1\n",
        "print(\"start =\", start)\n",
        "print(\"length =\", length)\n",
        "print(\"step =\", step)\n",
        "print(type(start))\n",
        "print(type(length))\n",
        "print(type(step))\n",
        "print(\" \")\n",
        "print(\"list original\")\n",
        "print(fruitList)\n",
        "print(\" \")\n",
        "print(\"list using [start:length:step]: \")\n",
        "print(fruitList[start:length:step])\n",
        "print(\" \")\n",
        "print(\"list using [0:7:1]:\")\n",
        "print(fruitList[0:7:1])"
      ],
      "execution_count": null,
      "outputs": []
    },
    {
      "cell_type": "code",
      "metadata": {
        "id": "GZ3A4E0DPgPs"
      },
      "source": [
        "# Entire list using negative range of index with explicit values is not possble.\n",
        "# [\"apple\", \"banana\", \"cherry\",\"mango\",\"kiwi\",\"orange\",\"pineapple\"]\n",
        "\n",
        "length= len(fruitList)\n",
        "end = -1\n",
        "step=1\n",
        "print(\"start =\", -length)\n",
        "print(\"end =\", end)\n",
        "print(\"step =\", step)\n",
        "print(type(start))\n",
        "print(type(length))\n",
        "print(type(step))\n",
        "print(\" \")\n",
        "print(\"list original\")\n",
        "print(fruitList)\n",
        "print(\" \")\n",
        "print(\"list using [start:end:step]: \")\n",
        "print(fruitList[start:end:step])\n",
        "print(\" \")\n",
        "print(\"list using [-7:-1:1]:\")\n",
        "print(fruitList[-7:-1:1])\n",
        "print(\" \")\n",
        "print(\"list using [-7:0:1]:\")\n",
        "print(fruitList[-7:0:1])\n"
      ],
      "execution_count": null,
      "outputs": []
    },
    {
      "cell_type": "code",
      "metadata": {
        "colab": {
          "base_uri": "https://localhost:8080/"
        },
        "id": "lg9ycxqCQusx",
        "outputId": "d008afd5-06ff-42f8-800a-c26aa96561af"
      },
      "source": [
        "# Get entire list using negative index\n",
        "# [\"apple\", \"banana\", \"cherry\",\"mango\",\"kiwi\",\"orange\",\"pineapple\"]\n",
        "\n",
        "length= len(fruitList)\n",
        "\n",
        "print(\" \")\n",
        "print(\"list using [-7::]\")\n",
        "print(fruitList[-7::])\n",
        "print(\" \")\n",
        "print(\"list using [-7::2]\")\n",
        "print(fruitList[-7::2])\n"
      ],
      "execution_count": 41,
      "outputs": [
        {
          "output_type": "stream",
          "name": "stdout",
          "text": [
            " \n",
            "list using [-7::]\n",
            "['apple', 'banana', 'cherry', 'mango', 'kiwi', 'orange', 'pineapple']\n",
            " \n",
            "list using [-7::2]\n",
            "['apple', 'cherry', 'kiwi', 'pineapple']\n"
          ]
        }
      ]
    },
    {
      "cell_type": "code",
      "metadata": {
        "id": "zi3PtOjsCAhc",
        "colab": {
          "base_uri": "https://localhost:8080/"
        },
        "outputId": "16588de8-b9b6-4a74-8af8-aa66b56f2242"
      },
      "source": [
        "# Range of index \n",
        "# [\"apple\", \"banana\", \"cherry\",\"mango\",\"kiwi\",\"orange\",\"pineapple\"]\n",
        "start = 2\n",
        "end = 5\n",
        "print(fruitList[2:5])\n",
        "print(fruitList[start:end])\n"
      ],
      "execution_count": 42,
      "outputs": [
        {
          "output_type": "stream",
          "name": "stdout",
          "text": [
            "['cherry', 'mango', 'kiwi']\n",
            "['cherry', 'mango', 'kiwi']\n"
          ]
        }
      ]
    },
    {
      "cell_type": "markdown",
      "metadata": {
        "id": "ZJVaZEZ2Ci0g"
      },
      "source": [
        "#### The result for start=2 to end=5\n",
        "#### items in index 2,3,4 [from start to (end-1)]\n",
        "#### or items in position 3,4,5\n"
      ]
    },
    {
      "cell_type": "code",
      "metadata": {
        "id": "1tVm6An8AuBx",
        "colab": {
          "base_uri": "https://localhost:8080/"
        },
        "outputId": "2439218e-a89f-46c1-e10f-8ee12db81495"
      },
      "source": [
        "# Range of index \n",
        "start = 2\n",
        "end = 5\n",
        "step=2\n",
        "print(fruitList[2:5:2])\n",
        "print(fruitList[start:end:step])"
      ],
      "execution_count": 43,
      "outputs": [
        {
          "output_type": "stream",
          "name": "stdout",
          "text": [
            "['cherry', 'kiwi']\n",
            "['cherry', 'kiwi']\n"
          ]
        }
      ]
    },
    {
      "cell_type": "markdown",
      "metadata": {
        "id": "qBA37QqhD320"
      },
      "source": [
        "The result for start=2 to end=5 with step=2\n",
        "\n",
        "items in index 2,4 [from start to (end-1), with step value of 2]\n",
        "\n",
        "or items in position 3,5"
      ]
    },
    {
      "cell_type": "code",
      "metadata": {
        "id": "Pd8LELy4FD6O",
        "colab": {
          "base_uri": "https://localhost:8080/"
        },
        "outputId": "a9d513a1-3dd7-4c04-fb19-a0723753bc46"
      },
      "source": [
        "# Range of index \n",
        "# [\"apple\", \"banana\", \"cherry\",\"mango\",\"kiwi\",\"orange\",\"pineapple\"]\n",
        "print(fruitList[:5:2])"
      ],
      "execution_count": 44,
      "outputs": [
        {
          "output_type": "stream",
          "name": "stdout",
          "text": [
            "['apple', 'cherry', 'kiwi']\n"
          ]
        }
      ]
    },
    {
      "cell_type": "markdown",
      "metadata": {
        "id": "jfs0pQ79FjNH"
      },
      "source": [
        "##### The default value of start is taken as 0"
      ]
    },
    {
      "cell_type": "code",
      "metadata": {
        "id": "_K2diw1oFt0x",
        "colab": {
          "base_uri": "https://localhost:8080/"
        },
        "outputId": "f9ede826-1d98-4ddd-fcbf-ea8af476495d"
      },
      "source": [
        "# Range of index\n",
        "# [\"apple\", \"banana\", \"cherry\",\"mango\",\"kiwi\",\"orange\",\"pineapple\"]\n",
        "print(fruitList[::2])\n",
        "print(fruitList[0:7:2])"
      ],
      "execution_count": 45,
      "outputs": [
        {
          "output_type": "stream",
          "name": "stdout",
          "text": [
            "['apple', 'cherry', 'kiwi', 'pineapple']\n",
            "['apple', 'cherry', 'kiwi', 'pineapple']\n"
          ]
        }
      ]
    },
    {
      "cell_type": "markdown",
      "metadata": {
        "id": "lQVAt8DqF6fd"
      },
      "source": [
        "##### The default value of start is taken as 0, end is taken as 7"
      ]
    },
    {
      "cell_type": "code",
      "metadata": {
        "id": "reS93Z4EGBeD",
        "colab": {
          "base_uri": "https://localhost:8080/"
        },
        "outputId": "e055c89e-1394-47a8-b544-73f37273cfcb"
      },
      "source": [
        "# Range of index\n",
        "print(fruitList[2::])"
      ],
      "execution_count": 46,
      "outputs": [
        {
          "output_type": "stream",
          "name": "stdout",
          "text": [
            "['cherry', 'mango', 'kiwi', 'orange', 'pineapple']\n"
          ]
        }
      ]
    },
    {
      "cell_type": "markdown",
      "metadata": {
        "id": "4ot4DgAuGgug"
      },
      "source": [
        "##### The default value of end is taken as 7, step is taken as 1"
      ]
    },
    {
      "cell_type": "markdown",
      "metadata": {
        "id": "dEtYGvdelTHe"
      },
      "source": [
        "#### List operation - copy"
      ]
    },
    {
      "cell_type": "markdown",
      "metadata": {
        "id": "1pwdxhRARLyt"
      },
      "source": [
        "##### The copy operation creates an exact copy of the original list. Changes to the original or copy do not affect the other."
      ]
    },
    {
      "cell_type": "code",
      "metadata": {
        "id": "5DkxsGGRlYuP",
        "colab": {
          "base_uri": "https://localhost:8080/"
        },
        "outputId": "b0e45631-a8b4-4c49-ab13-6f9511a0382a"
      },
      "source": [
        "fruitListCopy = fruitList.copy()\n",
        "print(fruitList)\n",
        "print(fruitListCopy)\n",
        "print(fruitList==fruitListCopy)"
      ],
      "execution_count": 47,
      "outputs": [
        {
          "output_type": "stream",
          "name": "stdout",
          "text": [
            "['apple', 'banana', 'cherry', 'mango', 'kiwi', 'orange', 'pineapple']\n",
            "['apple', 'banana', 'cherry', 'mango', 'kiwi', 'orange', 'pineapple']\n",
            "True\n"
          ]
        }
      ]
    },
    {
      "cell_type": "markdown",
      "metadata": {
        "id": "2ycwGrHLRg_v"
      },
      "source": [
        "##### The list() operation behaves similar to copy"
      ]
    },
    {
      "cell_type": "code",
      "metadata": {
        "id": "lSrIec6FlvQJ",
        "colab": {
          "base_uri": "https://localhost:8080/",
          "height": 219
        },
        "outputId": "b673f8ce-8acf-446f-c285-a706fbb0e626"
      },
      "source": [
        "fruitListCopy = list(fruitList)\n",
        "print(fruitList)\n",
        "print(fruitListCopy)\n",
        "print(fruitList==fruitListCopy)"
      ],
      "execution_count": 49,
      "outputs": [
        {
          "output_type": "error",
          "ename": "TypeError",
          "evalue": "ignored",
          "traceback": [
            "\u001b[0;31m---------------------------------------------------------------------------\u001b[0m",
            "\u001b[0;31mTypeError\u001b[0m                                 Traceback (most recent call last)",
            "\u001b[0;32m<ipython-input-49-270aef19ce7d>\u001b[0m in \u001b[0;36m<module>\u001b[0;34m()\u001b[0m\n\u001b[0;32m----> 1\u001b[0;31m \u001b[0mfruitListCopy\u001b[0m \u001b[0;34m=\u001b[0m \u001b[0mlist\u001b[0m\u001b[0;34m(\u001b[0m\u001b[0mfruitList\u001b[0m\u001b[0;34m)\u001b[0m\u001b[0;34m\u001b[0m\u001b[0;34m\u001b[0m\u001b[0m\n\u001b[0m\u001b[1;32m      2\u001b[0m \u001b[0mprint\u001b[0m\u001b[0;34m(\u001b[0m\u001b[0mfruitList\u001b[0m\u001b[0;34m)\u001b[0m\u001b[0;34m\u001b[0m\u001b[0;34m\u001b[0m\u001b[0m\n\u001b[1;32m      3\u001b[0m \u001b[0mprint\u001b[0m\u001b[0;34m(\u001b[0m\u001b[0mfruitListCopy\u001b[0m\u001b[0;34m)\u001b[0m\u001b[0;34m\u001b[0m\u001b[0;34m\u001b[0m\u001b[0m\n\u001b[1;32m      4\u001b[0m \u001b[0mprint\u001b[0m\u001b[0;34m(\u001b[0m\u001b[0mfruitList\u001b[0m\u001b[0;34m==\u001b[0m\u001b[0mfruitListCopy\u001b[0m\u001b[0;34m)\u001b[0m\u001b[0;34m\u001b[0m\u001b[0;34m\u001b[0m\u001b[0m\n",
            "\u001b[0;31mTypeError\u001b[0m: 'list' object is not callable"
          ]
        }
      ]
    },
    {
      "cell_type": "markdown",
      "metadata": {
        "id": "2z0OjZktG10k"
      },
      "source": [
        "#### List operation - replace value of an item in the list"
      ]
    },
    {
      "cell_type": "markdown",
      "metadata": {
        "id": "QC7OyNHXRvEq"
      },
      "source": [
        "##### A list item is replaced by assigning new value to item directly using = operator. The item is accessed using its index."
      ]
    },
    {
      "cell_type": "code",
      "metadata": {
        "id": "bOzzoeb9G9ek",
        "colab": {
          "base_uri": "https://localhost:8080/"
        },
        "outputId": "b7acd5f3-971b-44dc-c192-b05d8ce0ea9d"
      },
      "source": [
        "# modify single item\n",
        "#['apple', 'banana', 'cherry', 'mango', 'kiwi', 'orange', 'pineapple']\n",
        "fruitListCopy = fruitList.copy()\n",
        "fruitListCopy[3] = 'mango_change1'\n",
        "print(fruitListCopy[3])\n",
        "fruitListCopy[3] = 'mango_change2'\n",
        "print(fruitListCopy[3])\n",
        "print(fruitListCopy)"
      ],
      "execution_count": 51,
      "outputs": [
        {
          "output_type": "stream",
          "name": "stdout",
          "text": [
            "mango_change1\n",
            "mango_change2\n",
            "['apple', 'banana', 'cherry', 'mango_change2', 'kiwi', 'orange', 'pineapple']\n"
          ]
        }
      ]
    },
    {
      "cell_type": "markdown",
      "metadata": {
        "id": "J3qP8QyDSCPz"
      },
      "source": [
        "#### Replace slice of an item. This is done using = operator. The new value is a list(or a slice of list). "
      ]
    },
    {
      "cell_type": "code",
      "metadata": {
        "id": "i4-ZnuYwH2fY",
        "colab": {
          "base_uri": "https://localhost:8080/"
        },
        "outputId": "68298c58-892b-41e0-bab6-6ddadd9e97c6"
      },
      "source": [
        "# replace slice of items\n",
        "#['apple', 'banana', 'cherry', 'mango', 'kiwi', 'orange', 'pineapple']\n",
        "fruitListCopy = fruitList.copy()\n",
        "fruitListCopy[4:6] = ['kiwi_change1','orange_change1']\n",
        "print(fruitListCopy)\n",
        "fruitListCopy[4:6] = ['kiwi_change2','orange_change2']\n",
        "print(fruitListCopy)"
      ],
      "execution_count": 52,
      "outputs": [
        {
          "output_type": "stream",
          "name": "stdout",
          "text": [
            "['apple', 'banana', 'cherry', 'mango', 'kiwi_change1', 'orange_change1', 'pineapple']\n",
            "['apple', 'banana', 'cherry', 'mango', 'kiwi_change2', 'orange_change2', 'pineapple']\n"
          ]
        }
      ]
    },
    {
      "cell_type": "code",
      "metadata": {
        "id": "Fz3zYvMHKlxp",
        "colab": {
          "base_uri": "https://localhost:8080/"
        },
        "outputId": "78933bd1-d7e0-4918-b087-c4c6d03edbf2"
      },
      "source": [
        "# replace slice of items with single value\n",
        "#['apple', 'banana', 'cherry', 'mango', 'kiwi', 'orange', 'pineapple']\n",
        "fruitListCopy = fruitList.copy()\n",
        "fruitListCopy[3:6] = ['newfruit']\n",
        "print(fruitListCopy)"
      ],
      "execution_count": 53,
      "outputs": [
        {
          "output_type": "stream",
          "name": "stdout",
          "text": [
            "['apple', 'banana', 'cherry', 'newfruit', 'pineapple']\n"
          ]
        }
      ]
    },
    {
      "cell_type": "code",
      "metadata": {
        "id": "RjRgyruKSidn",
        "colab": {
          "base_uri": "https://localhost:8080/"
        },
        "outputId": "1a0af812-6740-4f71-980c-ea1cd8fb29ff"
      },
      "source": [
        "# replace slice of item with another slice of items\n",
        "#['apple', 'banana', 'cherry', 'mango', 'kiwi', 'orange', 'pineapple']\n",
        "fruitListCopy1 = fruitList.copy()\n",
        "fruitListCopy2 = fruitList.copy()\n",
        "\n",
        "print(fruitListCopy1[1:3])\n",
        "print(fruitListCopy2[4:7])\n",
        "fruitListCopy2[1:3] = fruitListCopy1[4:7]\n",
        "\n",
        "print(fruitList)\n",
        "print(fruitListCopy1)\n",
        "print(fruitListCopy2)"
      ],
      "execution_count": 54,
      "outputs": [
        {
          "output_type": "stream",
          "name": "stdout",
          "text": [
            "['banana', 'cherry']\n",
            "['kiwi', 'orange', 'pineapple']\n",
            "['apple', 'banana', 'cherry', 'mango', 'kiwi', 'orange', 'pineapple']\n",
            "['apple', 'banana', 'cherry', 'mango', 'kiwi', 'orange', 'pineapple']\n",
            "['apple', 'kiwi', 'orange', 'pineapple', 'mango', 'kiwi', 'orange', 'pineapple']\n"
          ]
        }
      ]
    },
    {
      "cell_type": "markdown",
      "metadata": {
        "id": "mfA2gtipHkAB"
      },
      "source": [
        "##### List operation - Append/Insert item"
      ]
    },
    {
      "cell_type": "code",
      "metadata": {
        "id": "U8cLv68RLasv",
        "colab": {
          "base_uri": "https://localhost:8080/"
        },
        "outputId": "a3eccebd-7033-4df0-bcb5-068e10242229"
      },
      "source": [
        "# Insert item at index 4\n",
        "#['apple', 'banana', 'cherry', 'mango', 'kiwi', 'orange', 'pineapple']\n",
        "fruitListCopy = fruitList.copy()\n",
        "fruitListCopy[3] = 'changed'\n",
        "print(fruitListCopy)\n",
        "fruitListCopy.insert(4,'newinsert')\n",
        "print(fruitListCopy)"
      ],
      "execution_count": 55,
      "outputs": [
        {
          "output_type": "stream",
          "name": "stdout",
          "text": [
            "['apple', 'banana', 'cherry', 'changed', 'kiwi', 'orange', 'pineapple']\n",
            "['apple', 'banana', 'cherry', 'changed', 'newinsert', 'kiwi', 'orange', 'pineapple']\n"
          ]
        }
      ]
    },
    {
      "cell_type": "code",
      "metadata": {
        "id": "WGSfNe3yOSMy",
        "colab": {
          "base_uri": "https://localhost:8080/"
        },
        "outputId": "dc67ce3e-1349-4da2-ddab-e62a3901f8de"
      },
      "source": [
        "# Insert item at the end of the list\n",
        "#['apple', 'banana', 'cherry', 'mango', 'kiwi', 'orange', 'pineapple']\n",
        "fruitListCopy = fruitList.copy()\n",
        "print(fruitListCopy)\n",
        "fruitListCopy.append('append')\n",
        "print(fruitListCopy)"
      ],
      "execution_count": 56,
      "outputs": [
        {
          "output_type": "stream",
          "name": "stdout",
          "text": [
            "['apple', 'banana', 'cherry', 'mango', 'kiwi', 'orange', 'pineapple']\n",
            "['apple', 'banana', 'cherry', 'mango', 'kiwi', 'orange', 'pineapple', 'append']\n"
          ]
        }
      ]
    },
    {
      "cell_type": "code",
      "metadata": {
        "id": "BxkNITCaO_xW",
        "colab": {
          "base_uri": "https://localhost:8080/"
        },
        "outputId": "b0695f8e-e30f-4a0e-edbb-1c930d252522"
      },
      "source": [
        "# Insert item at the beginning of the list\n",
        "fruitListCopy = fruitList.copy()\n",
        "print(fruitListCopy)\n",
        "fruitListCopy.insert(0,'insertatstart')\n",
        "print(fruitListCopy)"
      ],
      "execution_count": 57,
      "outputs": [
        {
          "output_type": "stream",
          "name": "stdout",
          "text": [
            "['apple', 'banana', 'cherry', 'mango', 'kiwi', 'orange', 'pineapple']\n",
            "['insertatstart', 'apple', 'banana', 'cherry', 'mango', 'kiwi', 'orange', 'pineapple']\n"
          ]
        }
      ]
    },
    {
      "cell_type": "code",
      "metadata": {
        "id": "VtyUjgXGa-bF",
        "colab": {
          "base_uri": "https://localhost:8080/"
        },
        "outputId": "6272653d-57e6-4783-8cd1-b653839eeabf"
      },
      "source": [
        "# Remove list item by item\n",
        "#['apple', 'banana', 'cherry', 'mango', 'kiwi', 'orange', 'pineapple']\n",
        "fruitListCopy = fruitList.copy()\n",
        "print(fruitListCopy)\n",
        "fruitListCopy.remove(\"kiwi\")\n",
        "print(fruitListCopy)\n"
      ],
      "execution_count": 58,
      "outputs": [
        {
          "output_type": "stream",
          "name": "stdout",
          "text": [
            "['apple', 'banana', 'cherry', 'mango', 'kiwi', 'orange', 'pineapple']\n",
            "['apple', 'banana', 'cherry', 'mango', 'orange', 'pineapple']\n"
          ]
        }
      ]
    },
    {
      "cell_type": "code",
      "metadata": {
        "id": "udU7zcaeztIS",
        "outputId": "66897b65-c953-4060-e9b5-9559aa8a1ee3",
        "colab": {
          "base_uri": "https://localhost:8080/"
        }
      },
      "source": [
        "fruits = [\"apple\",\"banana\",\"banana\"]\n",
        "fruits.remove(\"banana\")\n",
        "print(fruits)"
      ],
      "execution_count": 59,
      "outputs": [
        {
          "output_type": "stream",
          "name": "stdout",
          "text": [
            "['apple', 'banana']\n"
          ]
        }
      ]
    },
    {
      "cell_type": "code",
      "metadata": {
        "id": "eL559vhtb2Ou",
        "colab": {
          "base_uri": "https://localhost:8080/"
        },
        "outputId": "c431aa74-14c0-49e3-b664-3285912ed105"
      },
      "source": [
        "#Remove item using item index\n",
        "#['apple', 'banana', 'cherry', 'mango', 'kiwi', 'orange', 'pineapple']\n",
        "fruitListCopy = fruitList.copy()\n",
        "print(fruitListCopy)\n",
        "fruitListCopy.pop(4)\n",
        "print(fruitListCopy)\n"
      ],
      "execution_count": 60,
      "outputs": [
        {
          "output_type": "stream",
          "name": "stdout",
          "text": [
            "['apple', 'banana', 'cherry', 'mango', 'kiwi', 'orange', 'pineapple']\n",
            "['apple', 'banana', 'cherry', 'mango', 'orange', 'pineapple']\n"
          ]
        }
      ]
    },
    {
      "cell_type": "code",
      "metadata": {
        "id": "LWy0SgtFcFpH",
        "colab": {
          "base_uri": "https://localhost:8080/"
        },
        "outputId": "4f0db209-56a9-42d2-ef86-4cf048e2fe4d"
      },
      "source": [
        "#Remove item using item index and print the removed item\n",
        "fruitListCopy = fruitList.copy()\n",
        "fruit = fruitListCopy.pop(4)\n",
        "print(fruit)"
      ],
      "execution_count": 61,
      "outputs": [
        {
          "output_type": "stream",
          "name": "stdout",
          "text": [
            "kiwi\n"
          ]
        }
      ]
    },
    {
      "cell_type": "code",
      "metadata": {
        "id": "Y_gAexL-cgYw",
        "colab": {
          "base_uri": "https://localhost:8080/"
        },
        "outputId": "813db4b2-3068-49ef-9953-d20b1e0d64c7"
      },
      "source": [
        "# Remove the last item\n",
        "\n",
        "fruitListCopy = fruitList.copy()\n",
        "print(fruitListCopy)\n",
        "fruitListCopy.pop()\n",
        "print(fruitListCopy)"
      ],
      "execution_count": 62,
      "outputs": [
        {
          "output_type": "stream",
          "name": "stdout",
          "text": [
            "['apple', 'banana', 'cherry', 'mango', 'kiwi', 'orange', 'pineapple']\n",
            "['apple', 'banana', 'cherry', 'mango', 'kiwi', 'orange']\n"
          ]
        }
      ]
    },
    {
      "cell_type": "code",
      "metadata": {
        "id": "Apul_QH8cuMa",
        "colab": {
          "base_uri": "https://localhost:8080/"
        },
        "outputId": "b9ab90b2-9ff6-424a-f30e-d8a4893f7eed"
      },
      "source": [
        "# Remove the first item\n",
        "fruitListCopy = fruitList.copy()\n",
        "print(fruitListCopy)\n",
        "del fruitListCopy[0]\n",
        "print(fruitListCopy)"
      ],
      "execution_count": 63,
      "outputs": [
        {
          "output_type": "stream",
          "name": "stdout",
          "text": [
            "['apple', 'banana', 'cherry', 'mango', 'kiwi', 'orange', 'pineapple']\n",
            "['banana', 'cherry', 'mango', 'kiwi', 'orange', 'pineapple']\n"
          ]
        }
      ]
    },
    {
      "cell_type": "code",
      "metadata": {
        "id": "JaRtj07bdXeQ",
        "colab": {
          "base_uri": "https://localhost:8080/",
          "height": 219
        },
        "outputId": "d29a8bd6-260a-4a6c-fa14-5ee763be8401"
      },
      "source": [
        "# Remove the entire list\n",
        "#['apple', 'banana', 'cherry', 'mango', 'kiwi', 'orange', 'pineapple']\n",
        "fruitListCopy = fruitList.copy()\n",
        "print(fruitListCopy)\n",
        "del fruitListCopy\n",
        "print(fruitListCopy)\n"
      ],
      "execution_count": 64,
      "outputs": [
        {
          "output_type": "stream",
          "name": "stdout",
          "text": [
            "['apple', 'banana', 'cherry', 'mango', 'kiwi', 'orange', 'pineapple']\n"
          ]
        },
        {
          "output_type": "error",
          "ename": "NameError",
          "evalue": "ignored",
          "traceback": [
            "\u001b[0;31m---------------------------------------------------------------------------\u001b[0m",
            "\u001b[0;31mNameError\u001b[0m                                 Traceback (most recent call last)",
            "\u001b[0;32m<ipython-input-64-c46b5b91169e>\u001b[0m in \u001b[0;36m<module>\u001b[0;34m()\u001b[0m\n\u001b[1;32m      4\u001b[0m \u001b[0mprint\u001b[0m\u001b[0;34m(\u001b[0m\u001b[0mfruitListCopy\u001b[0m\u001b[0;34m)\u001b[0m\u001b[0;34m\u001b[0m\u001b[0;34m\u001b[0m\u001b[0m\n\u001b[1;32m      5\u001b[0m \u001b[0;32mdel\u001b[0m \u001b[0mfruitListCopy\u001b[0m\u001b[0;34m\u001b[0m\u001b[0;34m\u001b[0m\u001b[0m\n\u001b[0;32m----> 6\u001b[0;31m \u001b[0mprint\u001b[0m\u001b[0;34m(\u001b[0m\u001b[0mfruitListCopy\u001b[0m\u001b[0;34m)\u001b[0m\u001b[0;34m\u001b[0m\u001b[0;34m\u001b[0m\u001b[0m\n\u001b[0m",
            "\u001b[0;31mNameError\u001b[0m: name 'fruitListCopy' is not defined"
          ]
        }
      ]
    },
    {
      "cell_type": "code",
      "metadata": {
        "id": "bcjJIH_7djFF",
        "colab": {
          "base_uri": "https://localhost:8080/"
        },
        "outputId": "91f213e4-ca5d-4c8e-c8b2-1ac6ffbbd4a0"
      },
      "source": [
        "# Clear the entire list\n",
        "#['apple', 'banana', 'cherry', 'mango', 'kiwi', 'orange', 'pineapple']\n",
        "fruitListCopy = fruitList.copy()\n",
        "print(fruitListCopy)\n",
        "fruitListCopy.clear()\n",
        "print(fruitListCopy)"
      ],
      "execution_count": 65,
      "outputs": [
        {
          "output_type": "stream",
          "name": "stdout",
          "text": [
            "['apple', 'banana', 'cherry', 'mango', 'kiwi', 'orange', 'pineapple']\n",
            "[]\n"
          ]
        }
      ]
    },
    {
      "cell_type": "markdown",
      "metadata": {
        "id": "1DI1XH0kdwao"
      },
      "source": [
        "#### List operation - Looping though the list"
      ]
    },
    {
      "cell_type": "code",
      "metadata": {
        "id": "RZOORH1hd0-G",
        "colab": {
          "base_uri": "https://localhost:8080/"
        },
        "outputId": "5c23ff1b-ec4d-4a23-f347-7c6a0810ccfa"
      },
      "source": [
        "# Loop through the list by getting the item\n",
        "#['apple', 'banana', 'cherry', 'mango', 'kiwi', 'orange', 'pineapple']\n",
        "for item in fruitList:\n",
        "  print(\"The fruit name is\")\n",
        "  print(item)\n",
        "print(\"out of loop\")"
      ],
      "execution_count": 69,
      "outputs": [
        {
          "output_type": "stream",
          "name": "stdout",
          "text": [
            "The fruit name is\n",
            "apple\n",
            "The fruit name is\n",
            "banana\n",
            "The fruit name is\n",
            "cherry\n",
            "The fruit name is\n",
            "mango\n",
            "The fruit name is\n",
            "kiwi\n",
            "The fruit name is\n",
            "orange\n",
            "The fruit name is\n",
            "pineapple\n",
            "out of list\n"
          ]
        }
      ]
    },
    {
      "cell_type": "code",
      "metadata": {
        "id": "vODcz5qP2YRj",
        "outputId": "847aa52e-9555-41b7-d30b-9261343e690e",
        "colab": {
          "base_uri": "https://localhost:8080/"
        }
      },
      "source": [
        "range(len(fruitList))"
      ],
      "execution_count": 70,
      "outputs": [
        {
          "output_type": "execute_result",
          "data": {
            "text/plain": [
              "range(0, 7)"
            ]
          },
          "metadata": {},
          "execution_count": 70
        }
      ]
    },
    {
      "cell_type": "code",
      "metadata": {
        "id": "DfY1-hy8eSLf",
        "colab": {
          "base_uri": "https://localhost:8080/"
        },
        "outputId": "e884cac9-2dd7-4407-ce98-5ce8da94b83f"
      },
      "source": [
        "# Loop through the list by index value using range() and len()\n",
        "#['apple', 'banana', 'cherry', 'mango', 'kiwi', 'orange', 'pineapple']\n",
        "for index in range(len(fruitList)):\n",
        "  print(index)\n",
        "  print(fruitList[index])"
      ],
      "execution_count": 71,
      "outputs": [
        {
          "output_type": "stream",
          "name": "stdout",
          "text": [
            "0\n",
            "apple\n",
            "1\n",
            "banana\n",
            "2\n",
            "cherry\n",
            "3\n",
            "mango\n",
            "4\n",
            "kiwi\n",
            "5\n",
            "orange\n",
            "6\n",
            "pineapple\n"
          ]
        }
      ]
    },
    {
      "cell_type": "code",
      "metadata": {
        "id": "cnpC3ETQemtz",
        "colab": {
          "base_uri": "https://localhost:8080/"
        },
        "outputId": "c0c7b008-8090-4d0b-c7a1-26a9645e1774"
      },
      "source": [
        "# range function has start, end, step\n",
        "#['apple', 'banana', 'cherry', 'mango', 'kiwi', 'orange', 'pineapple']\n",
        "for index in range(0,6,2):\n",
        "  print(fruitList[index])"
      ],
      "execution_count": 72,
      "outputs": [
        {
          "output_type": "stream",
          "name": "stdout",
          "text": [
            "apple\n",
            "cherry\n",
            "kiwi\n"
          ]
        }
      ]
    },
    {
      "cell_type": "code",
      "metadata": {
        "id": "G3DmzLfJfcSo",
        "colab": {
          "base_uri": "https://localhost:8080/"
        },
        "outputId": "e6e853a5-6cce-4ff8-dd01-0f157f629371"
      },
      "source": [
        "#Loop using while \n",
        "index =0\n",
        "while index < len(fruitList):\n",
        "  print(fruitList[index])\n",
        "  index+=1"
      ],
      "execution_count": 76,
      "outputs": [
        {
          "output_type": "stream",
          "name": "stdout",
          "text": [
            "apple\n",
            "banana\n",
            "cherry\n",
            "mango\n",
            "kiwi\n",
            "orange\n",
            "pineapple\n"
          ]
        }
      ]
    },
    {
      "cell_type": "markdown",
      "metadata": {
        "id": "UBwK_SkTgrvz"
      },
      "source": [
        "##### List Comprehension\n"
      ]
    },
    {
      "cell_type": "code",
      "metadata": {
        "id": "QsuPMIy6f8w7",
        "colab": {
          "base_uri": "https://localhost:8080/"
        },
        "outputId": "ac93904c-97c8-4331-bd6d-774efb63ed52"
      },
      "source": [
        "# Loop using List comprehension\n",
        "#['apple', 'banana', 'cherry', 'mango', 'kiwi', 'orange', 'pineapple']\n",
        "\n",
        "[item for item in fruitList] "
      ],
      "execution_count": 77,
      "outputs": [
        {
          "output_type": "execute_result",
          "data": {
            "text/plain": [
              "['apple', 'banana', 'cherry', 'mango', 'kiwi', 'orange', 'pineapple']"
            ]
          },
          "metadata": {},
          "execution_count": 77
        }
      ]
    },
    {
      "cell_type": "code",
      "metadata": {
        "id": "kDGveYt1g7tv",
        "colab": {
          "base_uri": "https://localhost:8080/"
        },
        "outputId": "d783ac8d-16cc-4af7-e5e8-69f35ce80f0c"
      },
      "source": [
        "# list comprehension with condition\n",
        "\n",
        "[item for item in fruitList if item[0]>'c']  "
      ],
      "execution_count": 78,
      "outputs": [
        {
          "output_type": "execute_result",
          "data": {
            "text/plain": [
              "['mango', 'kiwi', 'orange', 'pineapple']"
            ]
          },
          "metadata": {},
          "execution_count": 78
        }
      ]
    },
    {
      "cell_type": "code",
      "metadata": {
        "id": "WIxycjET3itg",
        "outputId": "5ed66a63-6cec-49a8-f9ab-9ecb24f4ec5c",
        "colab": {
          "base_uri": "https://localhost:8080/"
        }
      },
      "source": [
        "numList = [1,2,3]\n",
        "[num+2 for num in numList]"
      ],
      "execution_count": 79,
      "outputs": [
        {
          "output_type": "execute_result",
          "data": {
            "text/plain": [
              "[3, 4, 5]"
            ]
          },
          "metadata": {},
          "execution_count": 79
        }
      ]
    },
    {
      "cell_type": "markdown",
      "metadata": {
        "id": "DPKcaF8zh0Lk"
      },
      "source": [
        "##### Using lambda"
      ]
    },
    {
      "cell_type": "code",
      "metadata": {
        "colab": {
          "base_uri": "https://localhost:8080/",
          "height": 202
        },
        "id": "WJxl52tzhlPB",
        "outputId": "e128026b-a88c-46dd-a644-ff73fe200c4b"
      },
      "source": [
        "# Use lambda to get entire list\n",
        "\n",
        "list(map(lambda x:x, fruitList))"
      ],
      "execution_count": 82,
      "outputs": [
        {
          "output_type": "error",
          "ename": "TypeError",
          "evalue": "ignored",
          "traceback": [
            "\u001b[0;31m---------------------------------------------------------------------------\u001b[0m",
            "\u001b[0;31mTypeError\u001b[0m                                 Traceback (most recent call last)",
            "\u001b[0;32m<ipython-input-82-2be776910580>\u001b[0m in \u001b[0;36m<module>\u001b[0;34m()\u001b[0m\n\u001b[1;32m      1\u001b[0m \u001b[0;31m# Use lambda to get entire list\u001b[0m\u001b[0;34m\u001b[0m\u001b[0;34m\u001b[0m\u001b[0;34m\u001b[0m\u001b[0m\n\u001b[1;32m      2\u001b[0m \u001b[0;34m\u001b[0m\u001b[0m\n\u001b[0;32m----> 3\u001b[0;31m \u001b[0mlist\u001b[0m\u001b[0;34m(\u001b[0m\u001b[0mmap\u001b[0m\u001b[0;34m(\u001b[0m\u001b[0;32mlambda\u001b[0m \u001b[0mx\u001b[0m\u001b[0;34m:\u001b[0m\u001b[0mx\u001b[0m\u001b[0;34m,\u001b[0m \u001b[0mfruitList\u001b[0m\u001b[0;34m)\u001b[0m\u001b[0;34m)\u001b[0m\u001b[0;34m\u001b[0m\u001b[0;34m\u001b[0m\u001b[0m\n\u001b[0m",
            "\u001b[0;31mTypeError\u001b[0m: 'list' object is not callable"
          ]
        }
      ]
    },
    {
      "cell_type": "code",
      "metadata": {
        "colab": {
          "base_uri": "https://localhost:8080/",
          "height": 185
        },
        "id": "B62Vwfwdh4Bw",
        "outputId": "63727294-f995-4924-a688-1dd5c6730ee9"
      },
      "source": [
        "# Get list of boolean based on whether the item in the original list has first letter greater than c.\n",
        "list(map(lambda x:x[0]>'c', fruitList))"
      ],
      "execution_count": 81,
      "outputs": [
        {
          "output_type": "error",
          "ename": "TypeError",
          "evalue": "ignored",
          "traceback": [
            "\u001b[0;31m---------------------------------------------------------------------------\u001b[0m",
            "\u001b[0;31mTypeError\u001b[0m                                 Traceback (most recent call last)",
            "\u001b[0;32m<ipython-input-81-dfa88013ed1a>\u001b[0m in \u001b[0;36m<module>\u001b[0;34m()\u001b[0m\n\u001b[1;32m      1\u001b[0m \u001b[0;31m# Get list of boolean based on whether the item in the original list has first letter greater than c.\u001b[0m\u001b[0;34m\u001b[0m\u001b[0;34m\u001b[0m\u001b[0;34m\u001b[0m\u001b[0m\n\u001b[0;32m----> 2\u001b[0;31m \u001b[0mlist\u001b[0m\u001b[0;34m(\u001b[0m\u001b[0mmap\u001b[0m\u001b[0;34m(\u001b[0m\u001b[0;32mlambda\u001b[0m \u001b[0mx\u001b[0m\u001b[0;34m:\u001b[0m\u001b[0mx\u001b[0m\u001b[0;34m[\u001b[0m\u001b[0;36m0\u001b[0m\u001b[0;34m]\u001b[0m\u001b[0;34m>\u001b[0m\u001b[0;34m'c'\u001b[0m\u001b[0;34m,\u001b[0m \u001b[0mfruitList\u001b[0m\u001b[0;34m)\u001b[0m\u001b[0;34m)\u001b[0m\u001b[0;34m\u001b[0m\u001b[0;34m\u001b[0m\u001b[0m\n\u001b[0m",
            "\u001b[0;31mTypeError\u001b[0m: 'list' object is not callable"
          ]
        }
      ]
    },
    {
      "cell_type": "code",
      "metadata": {
        "id": "yJsIOzJAj8Oi"
      },
      "source": [
        "#Filter list of items having the first letter greater than c\n",
        "list(filter(lambda x:x[0]>'c', fruitList))"
      ],
      "execution_count": null,
      "outputs": []
    },
    {
      "cell_type": "markdown",
      "metadata": {
        "id": "TrgyKDuqkemc"
      },
      "source": [
        "##### Sort List"
      ]
    },
    {
      "cell_type": "code",
      "metadata": {
        "colab": {
          "base_uri": "https://localhost:8080/"
        },
        "id": "UXO7KrADkiCp",
        "outputId": "18a65ae4-5c8c-42f0-c78e-4da4dcd31123"
      },
      "source": [
        "# Sort  list in ascending order\n",
        "#['apple', 'banana', 'cherry', 'mango', 'kiwi', 'orange', 'pineapple']\n",
        "fruitListCopy = fruitList.copy()\n",
        "print(fruitListCopy)\n",
        "fruitListCopy.sort(reverse=False)\n",
        "print(fruitListCopy)"
      ],
      "execution_count": 84,
      "outputs": [
        {
          "output_type": "stream",
          "name": "stdout",
          "text": [
            "['apple', 'banana', 'cherry', 'mango', 'kiwi', 'orange', 'pineapple']\n",
            "['apple', 'banana', 'cherry', 'kiwi', 'mango', 'orange', 'pineapple']\n"
          ]
        }
      ]
    },
    {
      "cell_type": "code",
      "metadata": {
        "colab": {
          "base_uri": "https://localhost:8080/"
        },
        "id": "Ro0fFr4Mk4yk",
        "outputId": "b0186cae-4353-430e-f5fb-6d7cfca8305a"
      },
      "source": [
        "# Sort  list in descending order\n",
        "\n",
        "fruitListCopy = fruitList.copy()\n",
        "print(fruitListCopy)\n",
        "fruitListCopy.sort(reverse=True)\n",
        "print(fruitListCopy)"
      ],
      "execution_count": 85,
      "outputs": [
        {
          "output_type": "stream",
          "name": "stdout",
          "text": [
            "['apple', 'banana', 'cherry', 'mango', 'kiwi', 'orange', 'pineapple']\n",
            "['pineapple', 'orange', 'mango', 'kiwi', 'cherry', 'banana', 'apple']\n"
          ]
        }
      ]
    },
    {
      "cell_type": "markdown",
      "metadata": {
        "id": "ft1zcaqOmnmM"
      },
      "source": [
        "##### Join List"
      ]
    },
    {
      "cell_type": "code",
      "metadata": {
        "colab": {
          "base_uri": "https://localhost:8080/"
        },
        "id": "MOozr4vTmq7w",
        "outputId": "92759de8-2453-4718-b793-4c682199abc1"
      },
      "source": [
        "# Concatanate two list to create a bigger list \n",
        "#['apple', 'banana', 'cherry', 'mango', 'kiwi', 'orange', 'pineapple']\n",
        "costList = [10,7,8,9,5,9,10]\n",
        "fruitAndCostList = fruitList+costList\n",
        "print(fruitAndCostList)"
      ],
      "execution_count": 86,
      "outputs": [
        {
          "output_type": "stream",
          "name": "stdout",
          "text": [
            "['apple', 'banana', 'cherry', 'mango', 'kiwi', 'orange', 'pineapple', 10, 7, 8, 9, 5, 9, 10]\n"
          ]
        }
      ]
    },
    {
      "cell_type": "code",
      "metadata": {
        "colab": {
          "base_uri": "https://localhost:8080/"
        },
        "id": "H0e5Er-tnYgu",
        "outputId": "9f557c42-3a47-4d63-ac36-18bbdbe4a43a"
      },
      "source": [
        "# Make a bigger list with two lists using extend rather than join\n",
        "\n",
        "fruitListCopy = fruitList.copy()\n",
        "fruitListCopy.extend([10,7,8,9,5,9,10])\n",
        "print(fruitListCopy)"
      ],
      "execution_count": 87,
      "outputs": [
        {
          "output_type": "stream",
          "name": "stdout",
          "text": [
            "['apple', 'banana', 'cherry', 'mango', 'kiwi', 'orange', 'pineapple', 10, 7, 8, 9, 5, 9, 10]\n"
          ]
        }
      ]
    },
    {
      "cell_type": "markdown",
      "metadata": {
        "id": "_2-Yunsmnzzn"
      },
      "source": [
        "##### Count"
      ]
    },
    {
      "cell_type": "code",
      "metadata": {
        "colab": {
          "base_uri": "https://localhost:8080/"
        },
        "id": "lHL3mx0cn1xW",
        "outputId": "240352c2-8691-42e0-9873-b6ebc31813d0"
      },
      "source": [
        "# Get number of occurrence of an item in a list \n",
        "\n",
        "costList = [10,7,8,9,5,9,10]\n",
        "print(costList.count(10))\n",
        "print(costList.count(9))\n",
        "print(costList.count(5))\n",
        "print(costList.count(11))"
      ],
      "execution_count": 88,
      "outputs": [
        {
          "output_type": "stream",
          "name": "stdout",
          "text": [
            "2\n",
            "2\n",
            "1\n",
            "0\n"
          ]
        }
      ]
    },
    {
      "cell_type": "markdown",
      "metadata": {
        "id": "VlfVlOLKoJPV"
      },
      "source": [
        "##### Reverse"
      ]
    },
    {
      "cell_type": "code",
      "metadata": {
        "colab": {
          "base_uri": "https://localhost:8080/"
        },
        "id": "Grkon7KYoMrL",
        "outputId": "93654319-910e-4d4a-8737-c6808d3fef29"
      },
      "source": [
        "# Reverse the items in a list\n",
        "\n",
        "fruitListCopy = fruitList.copy()\n",
        "print(fruitListCopy)\n",
        "fruitListCopy.reverse()\n",
        "print(fruitListCopy)"
      ],
      "execution_count": 89,
      "outputs": [
        {
          "output_type": "stream",
          "name": "stdout",
          "text": [
            "['apple', 'banana', 'cherry', 'mango', 'kiwi', 'orange', 'pineapple']\n",
            "['pineapple', 'orange', 'kiwi', 'mango', 'cherry', 'banana', 'apple']\n"
          ]
        }
      ]
    },
    {
      "cell_type": "markdown",
      "metadata": {
        "id": "rsD1fyNJqHA-"
      },
      "source": [
        "##### Typecasting to tuples, set"
      ]
    },
    {
      "cell_type": "code",
      "metadata": {
        "colab": {
          "base_uri": "https://localhost:8080/"
        },
        "id": "vmMIi1bLqLki",
        "outputId": "c380e645-0844-4aa1-8ea7-9f085f25cb73"
      },
      "source": [
        "#Convert to tuple\n",
        "#['apple', 'banana', 'cherry', 'mango', 'kiwi', 'orange', 'pineapple']\n",
        "fruitListCopy = fruitList.copy()\n",
        "convertToTuple = tuple(fruitListCopy)\n",
        "print(convertToTuple)\n",
        "print(type(convertToTuple))"
      ],
      "execution_count": 90,
      "outputs": [
        {
          "output_type": "stream",
          "name": "stdout",
          "text": [
            "('apple', 'banana', 'cherry', 'mango', 'kiwi', 'orange', 'pineapple')\n",
            "<class 'tuple'>\n"
          ]
        }
      ]
    },
    {
      "cell_type": "code",
      "metadata": {
        "colab": {
          "base_uri": "https://localhost:8080/"
        },
        "id": "w6_Hyyvaqhwb",
        "outputId": "6740bdc8-74e0-4246-8190-51e31d9cdd24"
      },
      "source": [
        "#Convert to set\n",
        "#['apple', 'banana', 'cherry', 'mango', 'kiwi', 'orange', 'pineapple']\n",
        "fruitListCopy = fruitList.copy()\n",
        "convertToSet = set(fruitListCopy)\n",
        "print(convertToSet)\n",
        "print(type(convertToSet))"
      ],
      "execution_count": 91,
      "outputs": [
        {
          "output_type": "stream",
          "name": "stdout",
          "text": [
            "{'orange', 'apple', 'banana', 'mango', 'kiwi', 'cherry', 'pineapple'}\n",
            "<class 'set'>\n"
          ]
        }
      ]
    },
    {
      "cell_type": "markdown",
      "metadata": {
        "id": "FI2OBeARE8uM"
      },
      "source": [
        "\n",
        "\n",
        "```\n",
        "# This is formatted as code\n",
        "```\n",
        "\n",
        "### Sequence - Tuples\n",
        "##### ORDERED, ALLOW DUPLICATES, IMMUTABLE"
      ]
    },
    {
      "cell_type": "markdown",
      "metadata": {
        "id": "ofmF4yvDg-Nz"
      },
      "source": [
        "##### A tuple is collection of ordered and immutable objects. It allows for duplicates."
      ]
    },
    {
      "cell_type": "code",
      "metadata": {
        "id": "NrbTWqT8D5CZ",
        "colab": {
          "base_uri": "https://localhost:8080/"
        },
        "outputId": "4150abde-ad20-424c-88df-51e20a23cbfd"
      },
      "source": [
        "personTuple = (13454,'John',23,'Manager','London')\n",
        "print(personTuple)"
      ],
      "execution_count": 92,
      "outputs": [
        {
          "output_type": "stream",
          "name": "stdout",
          "text": [
            "(13454, 'John', 23, 'Manager', 'London')\n"
          ]
        }
      ]
    },
    {
      "cell_type": "markdown",
      "metadata": {
        "id": "-06Ia1vMhrEo"
      },
      "source": [
        "##### Empty Tuple"
      ]
    },
    {
      "cell_type": "code",
      "metadata": {
        "colab": {
          "base_uri": "https://localhost:8080/"
        },
        "id": "unhf-uwse00X",
        "outputId": "0e656202-f175-4b40-a46b-20649d7f3a81"
      },
      "source": [
        "emptyTuple = ()\n",
        "print(emptyTuple)"
      ],
      "execution_count": 93,
      "outputs": [
        {
          "output_type": "stream",
          "name": "stdout",
          "text": [
            "()\n"
          ]
        }
      ]
    },
    {
      "cell_type": "markdown",
      "metadata": {
        "id": "hEbREUeOh6dC"
      },
      "source": [
        "#### Tuple with single item. Do not forget the comma."
      ]
    },
    {
      "cell_type": "code",
      "metadata": {
        "id": "YrZG_vmViDJH"
      },
      "source": [
        "singleTupleWrong = ('John')\n",
        "print(singleTupleWrong)\n",
        "print(type(singleTupleWrong))\n",
        "singleTupleWrong = (1)\n",
        "print(singleTupleWrong)\n",
        "print(type(singleTupleWrong))\n",
        "singleTupleWrong = (True)\n",
        "print(singleTupleWrong)\n",
        "print(type(singleTupleWrong))"
      ],
      "execution_count": null,
      "outputs": []
    },
    {
      "cell_type": "code",
      "metadata": {
        "id": "jdWgWNUyiovb"
      },
      "source": [
        "singleTuple = ('John',)\n",
        "print(singleTuple)\n",
        "print(type(singleTuple))\n",
        "singleTuple = (1,)\n",
        "print(singleTuple)\n",
        "print(type(singleTuple))\n",
        "singleTuple = (True,)\n",
        "print(singleTuple)\n",
        "print(type(singleTuple))"
      ],
      "execution_count": null,
      "outputs": []
    },
    {
      "cell_type": "markdown",
      "metadata": {
        "id": "Rn01rvo4i87W"
      },
      "source": [
        "#### Length of the Tuple"
      ]
    },
    {
      "cell_type": "code",
      "metadata": {
        "id": "zIcVdY6FjD39"
      },
      "source": [
        "print(personTuple)\n",
        "print(len(personTuple))"
      ],
      "execution_count": null,
      "outputs": []
    },
    {
      "cell_type": "markdown",
      "metadata": {
        "id": "XUqv0fATjYt2"
      },
      "source": [
        "#### Tuple constructor"
      ]
    },
    {
      "cell_type": "code",
      "metadata": {
        "id": "BOXRGSIVjbwr"
      },
      "source": [
        "constructorTuple = tuple((13454, 'John', 23, 'Manager', 'London'))\n",
        "print(constructorTuple)"
      ],
      "execution_count": null,
      "outputs": []
    },
    {
      "cell_type": "code",
      "metadata": {
        "id": "U_rpqwYfjruP"
      },
      "source": [
        "constructorTuple2=tuple(personTuple)\n",
        "print(personTuple == constructorTuple)\n",
        "print(personTuple == constructorTuple2)\n",
        "print(constructorTuple == constructorTuple2)"
      ],
      "execution_count": null,
      "outputs": []
    },
    {
      "cell_type": "code",
      "metadata": {
        "id": "vkjFIU3RuGpt"
      },
      "source": [
        "# construct from list\n",
        "personConstructor = tuple([13454, 'John', 23, 'Manager', 'London'])\n",
        "print(personConstructor)\n",
        "print(type(personConstructor))"
      ],
      "execution_count": null,
      "outputs": []
    },
    {
      "cell_type": "code",
      "metadata": {
        "id": "naoUiy77u8pE"
      },
      "source": [
        "# construct from set\n",
        "personConstructor = tuple({13454, 'John', 23, 'Manager', 'London'})\n",
        "print(personConstructor)\n",
        "print(type(personConstructor))"
      ],
      "execution_count": null,
      "outputs": []
    },
    {
      "cell_type": "markdown",
      "metadata": {
        "id": "jwCVhsUVATJY"
      },
      "source": [
        "##### Access Tuple Item using index "
      ]
    },
    {
      "cell_type": "code",
      "metadata": {
        "id": "TKUlTz2jAIgx"
      },
      "source": [
        "# Positive Indexing -from 0 to (length of tuple - 1) .\n",
        "# (13454, 'John', 23, 'Manager', 'London')\n",
        "\n",
        "length = len(personTuple)\n",
        "\n",
        "print(personTuple[0])\n",
        "print(personTuple[1])\n",
        "print(personTuple[length-2])\n",
        "print(personTuple[length-1])"
      ],
      "execution_count": null,
      "outputs": []
    },
    {
      "cell_type": "code",
      "metadata": {
        "id": "jKu4l6QvAdyr"
      },
      "source": [
        "# Negative Indexing - from -(length of tuple) to -1.\n",
        "# (13454, 'John', 23, 'Manager', 'London')\n",
        "\n",
        "length = len(personTuple)\n",
        "\n",
        "print(personTuple[-length])\n",
        "print(personTuple[-length+1])\n",
        "print(personTuple[-2])\n",
        "print(personTuple[-1])\n"
      ],
      "execution_count": null,
      "outputs": []
    },
    {
      "cell_type": "markdown",
      "metadata": {
        "id": "YyWTfCMiBz82"
      },
      "source": [
        "##### Get tuple slice by range of Index\n"
      ]
    },
    {
      "cell_type": "code",
      "metadata": {
        "id": "dhQuz18DCAAm"
      },
      "source": [
        "# the range is defined using [start:end:step] Default value is [0:(length of tuple):1]\n",
        "# (13454, 'John', 23, 'Manager', 'London')\n",
        "\n",
        "length = len(personTuple)\n",
        "\n",
        "print(personTuple[0:length:1])\n"
      ],
      "execution_count": null,
      "outputs": []
    },
    {
      "cell_type": "code",
      "metadata": {
        "id": "ZYw06SBkDAL5"
      },
      "source": [
        "# Tuple slice by Negative index. Getting entire tuple by explicitly using negative index is not possible\n",
        "# (13454, 'John', 23, 'Manager', 'London')\n",
        "\n",
        "length = len(personTuple)\n",
        "\n",
        "print(personTuple[-length:-1:1])"
      ],
      "execution_count": null,
      "outputs": []
    },
    {
      "cell_type": "code",
      "metadata": {
        "id": "jQ4tFgEEColi"
      },
      "source": [
        "# Get entire tuple by using partial negative index\n",
        "\n",
        "\n",
        "length = len(personTuple)\n",
        "\n",
        "print(personTuple[-length::])"
      ],
      "execution_count": null,
      "outputs": []
    },
    {
      "cell_type": "markdown",
      "metadata": {
        "id": "DtfllQU3ZdZ2"
      },
      "source": [
        "##### Check if an item exists in the tuple"
      ]
    },
    {
      "cell_type": "code",
      "metadata": {
        "id": "YrWua-44ZOBD"
      },
      "source": [
        "# Check if the tuple has john's data\n",
        "if \"John\" in personTuple:\n",
        "  print(\"The tuple contains john's data\") \n",
        "else:\n",
        "  print(\"The tuple does not contain john's data\") "
      ],
      "execution_count": null,
      "outputs": []
    },
    {
      "cell_type": "code",
      "metadata": {
        "id": "6dxaJlGaaHjg"
      },
      "source": [
        "# Check if the tuple has bob's data\n",
        "if \"Bob\" in personTuple:\n",
        "  print(\"The tuple contains bob's data\") \n",
        "else:\n",
        "  print(\"The tuple does not contain bob's data\") "
      ],
      "execution_count": null,
      "outputs": []
    },
    {
      "cell_type": "markdown",
      "metadata": {
        "id": "pgByilccbaFX"
      },
      "source": [
        "##### A Tuple is immutable"
      ]
    },
    {
      "cell_type": "code",
      "metadata": {
        "id": "PmTFfCV6aRxD"
      },
      "source": [
        "personTuple[1] = \"Bob\"\n",
        "print(personTuple)"
      ],
      "execution_count": null,
      "outputs": []
    },
    {
      "cell_type": "markdown",
      "metadata": {
        "id": "XzADcuAkcntS"
      },
      "source": [
        "##### Update item value in a tuple"
      ]
    },
    {
      "cell_type": "code",
      "metadata": {
        "id": "Cp7qtRK6cvY-"
      },
      "source": [
        "personTupleCopy = tuple(personTuple)\n",
        "\n",
        "print(personTupleCopy)\n",
        "\n",
        "personTupleToList = list(personTupleCopy)\n",
        "print(personTupleToList)\n",
        "personTupleToList[1] = \"Changed\"\n",
        "print(personTupleToList)\n",
        "personTupleCopy = tuple(personTupleToList)\n",
        "print(personTupleCopy)"
      ],
      "execution_count": null,
      "outputs": []
    },
    {
      "cell_type": "markdown",
      "metadata": {
        "id": "VR1MvOiPeCPU"
      },
      "source": [
        "##### Unpack a tuple"
      ]
    },
    {
      "cell_type": "code",
      "metadata": {
        "id": "JWv2h8xXddoW"
      },
      "source": [
        "print(personTuple)\n",
        "(id,name,age,designation, location) = personTuple\n",
        "print(id)\n",
        "print(name)\n",
        "print(age)\n",
        "print(designation)\n",
        "print(location)"
      ],
      "execution_count": null,
      "outputs": []
    },
    {
      "cell_type": "code",
      "metadata": {
        "id": "fIwhsxrUelfY"
      },
      "source": [
        "print(personTuple)\n",
        "(*personalDetails,designation, location) = personTuple\n",
        "print(personalDetails)\n",
        "print(designation)\n",
        "print(location)"
      ],
      "execution_count": null,
      "outputs": []
    },
    {
      "cell_type": "markdown",
      "metadata": {
        "id": "vEYumceufPkN"
      },
      "source": [
        "##### Loop through Tuple"
      ]
    },
    {
      "cell_type": "code",
      "metadata": {
        "id": "Hp-AY53Xey9N"
      },
      "source": [
        "# Loop using for \n",
        "\n",
        "for detail in personTuple:\n",
        "  print(detail)"
      ],
      "execution_count": null,
      "outputs": []
    },
    {
      "cell_type": "code",
      "metadata": {
        "id": "rMuSH6Blfcui"
      },
      "source": [
        "#Loop with index using range() and len()\n",
        "\n",
        "for i in range(len(personTuple)):\n",
        "  print(personTuple[i])"
      ],
      "execution_count": null,
      "outputs": []
    },
    {
      "cell_type": "code",
      "metadata": {
        "id": "E5dE395kf3Lg"
      },
      "source": [
        "# Using while loop\n",
        "\n",
        "i=0\n",
        "while i<len(personTuple):\n",
        "  print(personTuple[i])\n",
        "  i=i+1"
      ],
      "execution_count": null,
      "outputs": []
    },
    {
      "cell_type": "markdown",
      "metadata": {
        "id": "usmgQ7_MgeSR"
      },
      "source": [
        "##### Join Tuples"
      ]
    },
    {
      "cell_type": "code",
      "metadata": {
        "id": "-VZGXlFkgRm6"
      },
      "source": [
        "addressTuple = (\"Address line1\",\"Address line2\", 101101)\n",
        "newTuple = personTuple + addressTuple\n",
        "print(newTuple)"
      ],
      "execution_count": null,
      "outputs": []
    },
    {
      "cell_type": "markdown",
      "metadata": {
        "id": "ERmiVunBiCk7"
      },
      "source": [
        "##### Multiply content of a Tuple by number of times"
      ]
    },
    {
      "cell_type": "code",
      "metadata": {
        "id": "pzuPJuK9hSR7"
      },
      "source": [
        "fruits = (\"apple\", \"banana\", \"cherry\")\n",
        "mytuple = fruits * 2\n",
        "\n",
        "print(mytuple) "
      ],
      "execution_count": null,
      "outputs": []
    },
    {
      "cell_type": "markdown",
      "metadata": {
        "id": "FIHxMR7ckS9s"
      },
      "source": [
        "##### Count - count number of occurrence of an item in the Tuple"
      ]
    },
    {
      "cell_type": "code",
      "metadata": {
        "id": "0TC1v0Cfjj9z"
      },
      "source": [
        "fruits = (\"apple\", \"banana\", \"cherry\", \"banana\", \"cherry\", \"cherry\")\n",
        "print(fruits.count(\"apple\"))\n",
        "print(fruits.count(\"banana\"))\n",
        "print(fruits.count(\"cherry\"))"
      ],
      "execution_count": null,
      "outputs": []
    },
    {
      "cell_type": "markdown",
      "metadata": {
        "id": "qOPKqgEllAyC"
      },
      "source": [
        "##### Get index of an item in an Tuple"
      ]
    },
    {
      "cell_type": "code",
      "metadata": {
        "id": "0iCMawPRkw9C"
      },
      "source": [
        "fruits = (\"apple\", \"banana\", \"cherry\")\n",
        "print(fruits.index(\"apple\"))\n",
        "print(fruits.index(\"banana\"))\n",
        "print(fruits.index(\"cherry\"))"
      ],
      "execution_count": null,
      "outputs": []
    },
    {
      "cell_type": "markdown",
      "metadata": {
        "id": "r3FL5fm5ljwb"
      },
      "source": [
        "##### Trying to get an index of an non existent item"
      ]
    },
    {
      "cell_type": "code",
      "metadata": {
        "id": "awfjOsSIlVor"
      },
      "source": [
        "fruits = (\"apple\", \"banana\", \"cherry\")\n",
        "print(fruits.index(\"melon\"))"
      ],
      "execution_count": null,
      "outputs": []
    },
    {
      "cell_type": "markdown",
      "metadata": {
        "id": "10iKeY77rSj3"
      },
      "source": [
        "##### Typecasting to list,set"
      ]
    },
    {
      "cell_type": "code",
      "metadata": {
        "id": "LJvslOb3rWDR"
      },
      "source": [
        "# Convert to list\n",
        "fruits = (\"apple\", \"banana\", \"cherry\")\n",
        "print(fruits)\n",
        "convertToList = list(fruits)\n",
        "print(convertToList)\n",
        "print(type(convertToList))\n"
      ],
      "execution_count": null,
      "outputs": []
    },
    {
      "cell_type": "code",
      "metadata": {
        "id": "cX9D4H3prtFx"
      },
      "source": [
        "# Convert to set\n",
        "fruits = (\"apple\", \"banana\", \"cherry\")\n",
        "print(fruits)\n",
        "convertToSet = set(fruits)\n",
        "print(convertToSet)\n",
        "print(type(convertToSet))\n"
      ],
      "execution_count": null,
      "outputs": []
    },
    {
      "cell_type": "markdown",
      "metadata": {
        "id": "NOVYWv05nD2m"
      },
      "source": [
        "### Sequence - Set\n",
        "##### UNORDERED, NO DUPLICATES, IMMUTABLE"
      ]
    },
    {
      "cell_type": "code",
      "metadata": {
        "id": "ip2QbXNllwId"
      },
      "source": [
        "positiveIntegerSet = {1,2,3,4,5,6,7,8,9}\n",
        "print(positiveIntegerSet)"
      ],
      "execution_count": null,
      "outputs": []
    },
    {
      "cell_type": "markdown",
      "metadata": {
        "id": "dyJS26sgpfve"
      },
      "source": [
        "##### Type of set"
      ]
    },
    {
      "cell_type": "code",
      "metadata": {
        "id": "Ph85rd_Ipigx"
      },
      "source": [
        "print(type(positiveIntegerSet))"
      ],
      "execution_count": null,
      "outputs": []
    },
    {
      "cell_type": "markdown",
      "metadata": {
        "id": "7aDyO4JRpGDU"
      },
      "source": [
        "##### Length of the Set"
      ]
    },
    {
      "cell_type": "code",
      "metadata": {
        "id": "A4Br47oAo4Yq"
      },
      "source": [
        "length = len(positiveIntegerSet)\n",
        "print(length)"
      ],
      "execution_count": null,
      "outputs": []
    },
    {
      "cell_type": "markdown",
      "metadata": {
        "id": "lVS1m-v_sARP"
      },
      "source": [
        "##### Duplicates not allowed. It is automatically de-duped."
      ]
    },
    {
      "cell_type": "code",
      "metadata": {
        "id": "HJ69089-pPN5"
      },
      "source": [
        "primeNumberSet = {1,2,3,3,5}\n",
        "print(primeNumberSet)"
      ],
      "execution_count": null,
      "outputs": []
    },
    {
      "cell_type": "markdown",
      "metadata": {
        "id": "q0TKPtwjsdq4"
      },
      "source": [
        "##### Set constructor"
      ]
    },
    {
      "cell_type": "code",
      "metadata": {
        "id": "qvcMw8OwsOr2"
      },
      "source": [
        "# Construct from set\n",
        "\n",
        "positiveIntegerSet = set({1,2,3,4,5,6,7,8,9})\n",
        "print(positiveIntegerSet)\n",
        "\n"
      ],
      "execution_count": null,
      "outputs": []
    },
    {
      "cell_type": "code",
      "metadata": {
        "id": "Rm4Sx963voCS"
      },
      "source": [
        "# Construct from list\n",
        "\n",
        "positiveIntegerSet = set([1,2,3,4,5,6,7,8,9])\n",
        "print(positiveIntegerSet)"
      ],
      "execution_count": null,
      "outputs": []
    },
    {
      "cell_type": "code",
      "metadata": {
        "id": "1VLx_5Vys27u"
      },
      "source": [
        "# Construct from tuple\n",
        "positiveIntegerSet = set((1,2,3,4,5,6,7,8,9))\n",
        "print(positiveIntegerSet)"
      ],
      "execution_count": null,
      "outputs": []
    },
    {
      "cell_type": "markdown",
      "metadata": {
        "id": "eqnYyBiLweDi"
      },
      "source": [
        "##### Set is unordered"
      ]
    },
    {
      "cell_type": "code",
      "metadata": {
        "id": "Nm0VVQ_rwqwX"
      },
      "source": [
        "positiveIntegerSet = set((1,2,3,4,5,6,7,8,9))\n",
        "positiveIntegerSet[1]"
      ],
      "execution_count": null,
      "outputs": []
    },
    {
      "cell_type": "markdown",
      "metadata": {
        "id": "kuyQMsU9wSO-"
      },
      "source": [
        "##### Access set item"
      ]
    },
    {
      "cell_type": "code",
      "metadata": {
        "id": "Mwr52w8Dv8zI"
      },
      "source": [
        "positiveIntegerSet = set((1,2,3,4,5,6,7,8,9))\n",
        "for num in positiveIntegerSet:\n",
        "  print(num)"
      ],
      "execution_count": null,
      "outputs": []
    },
    {
      "cell_type": "code",
      "metadata": {
        "id": "9auNuugz9tCO"
      },
      "source": [
        "# Get last item. The set is unordered so the order in which the items are popped out cannot be determined.\n",
        "positiveIntegerSet = set((1,2,3,4,5,6,7,8,9))\n",
        "print(positiveIntegerSet)\n",
        "lastItem = positiveIntegerSet.pop()\n",
        "\n",
        "print(lastItem)"
      ],
      "execution_count": null,
      "outputs": []
    },
    {
      "cell_type": "markdown",
      "metadata": {
        "id": "mTz7MTzoxdMb"
      },
      "source": [
        "##### Check if an item exits in a set"
      ]
    },
    {
      "cell_type": "code",
      "metadata": {
        "id": "YKO3BoR3xEKP"
      },
      "source": [
        "positiveIntegerSet = set((1,2,3,4,5,6,7,8,9))\n",
        "print([3 in positiveIntegerSet])\n",
        "print([10 in positiveIntegerSet])"
      ],
      "execution_count": null,
      "outputs": []
    },
    {
      "cell_type": "markdown",
      "metadata": {
        "id": "9bxsX_hly8p4"
      },
      "source": [
        "##### Add Item"
      ]
    },
    {
      "cell_type": "code",
      "metadata": {
        "id": "vg0BTfxby-cZ"
      },
      "source": [
        "positiveIntegerSet = set((1,2,3,4,5,6,7,8,9))\n",
        "positiveIntegerSet.add(0)\n",
        "print(positiveIntegerSet)"
      ],
      "execution_count": null,
      "outputs": []
    },
    {
      "cell_type": "markdown",
      "metadata": {
        "id": "UH4OEGBxyCBE"
      },
      "source": [
        "##### Add entire set"
      ]
    },
    {
      "cell_type": "code",
      "metadata": {
        "id": "-6pnzU6255k3"
      },
      "source": [
        "# add another set into existing set\n",
        "positiveIntegerSet={1,2,3,4,5}\n",
        "positiveIntegerSet2={4,5,6,7,8,9}\n",
        "positiveIntegerSet.update(positiveIntegerSet2)\n",
        "print(positiveIntegerSet)"
      ],
      "execution_count": null,
      "outputs": []
    },
    {
      "cell_type": "code",
      "metadata": {
        "id": "S1Qbj_BnxsGp"
      },
      "source": [
        "# add a list into existing set\n",
        "positiveIntegerSet={1,2,3,4,5}\n",
        "positiveIntegerList=[4,5,6,7,8,9]\n",
        "positiveIntegerSet.update(positiveIntegerList)\n",
        "print(positiveIntegerSet)\n"
      ],
      "execution_count": null,
      "outputs": []
    },
    {
      "cell_type": "code",
      "metadata": {
        "id": "9Pdsn2SSyqfl"
      },
      "source": [
        "# add a tuple into existing set\n",
        "positiveIntegerSet={1,2,3,4,5}\n",
        "positiveIntegerList=(4,5,6,7,8,9)\n",
        "positiveIntegerSet.update(positiveIntegerList)\n",
        "print(positiveIntegerSet)"
      ],
      "execution_count": null,
      "outputs": []
    },
    {
      "cell_type": "markdown",
      "metadata": {
        "id": "s9yDWCDj7YWl"
      },
      "source": [
        "##### Remove item from set"
      ]
    },
    {
      "cell_type": "code",
      "metadata": {
        "id": "CMDgOJcU7T4o"
      },
      "source": [
        "# Using remove\n",
        "fruitsSet = {\"apple\", \"banana\", \"cherry\"}\n",
        "\n",
        "fruitsSet.remove(\"banana\")\n",
        "\n",
        "print(fruitsSet) "
      ],
      "execution_count": null,
      "outputs": []
    },
    {
      "cell_type": "code",
      "metadata": {
        "id": "Gh8dXOsR7kCu"
      },
      "source": [
        "# Using remove and the item does not exist in the set\n",
        "fruitsSet = {\"apple\", \"banana\", \"cherry\"}\n",
        "\n",
        "fruitsSet.remove(\"melon\")\n",
        "\n",
        "print(fruitsSet) "
      ],
      "execution_count": null,
      "outputs": []
    },
    {
      "cell_type": "code",
      "metadata": {
        "id": "tjRulfeR7zeV"
      },
      "source": [
        "# Using discard\n",
        "fruitsSet = {\"apple\", \"banana\", \"cherry\"}\n",
        "\n",
        "fruitsSet.discard(\"banana\")\n",
        "\n",
        "print(fruitsSet) "
      ],
      "execution_count": null,
      "outputs": []
    },
    {
      "cell_type": "code",
      "metadata": {
        "id": "Kj_ITala75eg"
      },
      "source": [
        "# Using discard and the item does not exist in the set\n",
        "fruitsSet = {\"apple\", \"banana\", \"cherry\"}\n",
        "\n",
        "fruitsSet.discard(\"melon\")\n",
        "\n",
        "print(fruitsSet) "
      ],
      "execution_count": null,
      "outputs": []
    },
    {
      "cell_type": "markdown",
      "metadata": {
        "id": "N4_vKzW89b3Q"
      },
      "source": [
        "##### Clear the Set"
      ]
    },
    {
      "cell_type": "code",
      "metadata": {
        "id": "J8EIKGFi8E6c"
      },
      "source": [
        "fruitSet = {\"apple\", \"banana\", \"cherry\"}\n",
        "print(fruitSet)\n",
        "fruitSet.clear()\n",
        "print(fruitSet)"
      ],
      "execution_count": null,
      "outputs": []
    },
    {
      "cell_type": "markdown",
      "metadata": {
        "id": "g6gDUXbY_xUT"
      },
      "source": [
        "##### delete the Set"
      ]
    },
    {
      "cell_type": "code",
      "metadata": {
        "id": "P9qR8Nqs_1_Q"
      },
      "source": [
        "delFruitSet = {\"apple\", \"banana\", \"cherry\"}\n",
        "print(delFruitSet)"
      ],
      "execution_count": null,
      "outputs": []
    },
    {
      "cell_type": "code",
      "metadata": {
        "id": "r-OEZH_G_9Vb"
      },
      "source": [
        "del delFruitSet"
      ],
      "execution_count": null,
      "outputs": []
    },
    {
      "cell_type": "markdown",
      "metadata": {
        "id": "xGoL00Kn8KBf"
      },
      "source": [
        ""
      ]
    },
    {
      "cell_type": "code",
      "metadata": {
        "id": "4QVG2sasABlH"
      },
      "source": [
        "print(delFruitSet)"
      ],
      "execution_count": null,
      "outputs": []
    },
    {
      "cell_type": "markdown",
      "metadata": {
        "id": "Go8iSQedAIbK"
      },
      "source": [
        "##### Loop through Set"
      ]
    },
    {
      "cell_type": "code",
      "metadata": {
        "id": "JvaWvrLUADQ-"
      },
      "source": [
        "fruitSet = {\"apple\", \"banana\", \"cherry\"}\n",
        "for fruit in fruitSet:\n",
        "  print(fruit)"
      ],
      "execution_count": null,
      "outputs": []
    },
    {
      "cell_type": "markdown",
      "metadata": {
        "id": "5W45XvqgAZe_"
      },
      "source": [
        "##### Set operations"
      ]
    },
    {
      "cell_type": "code",
      "metadata": {
        "id": "Nft1KL4CATY1"
      },
      "source": [
        "# union - the same can be achieved using update()\n",
        "fruitSet = {\"apple\", \"banana\", \"cherry\"}\n",
        "citrusSet = {\"orange\", \"Lemon\"}\n",
        "unionSet = fruitSet.union(citrusSet)\n",
        "print(unionSet)\n"
      ],
      "execution_count": null,
      "outputs": []
    },
    {
      "cell_type": "code",
      "metadata": {
        "id": "LWpQaRqoBu5P"
      },
      "source": [
        "# intersection without creating new Set\n",
        "fruitSet1 = {\"orange\",\"banana\",\"cherry\",\"pineapple\"}\n",
        "fruitSet2 = {\"pineapple\",\"melon\",\"orange\"}\n",
        "fruitSet1.intersection_update(fruitSet2)\n",
        "print(fruitSet1)"
      ],
      "execution_count": null,
      "outputs": []
    },
    {
      "cell_type": "code",
      "metadata": {
        "id": "ezwZL7w8Cc0N"
      },
      "source": [
        "# intersection with creation of new Set\n",
        "fruitSet1 = {\"orange\",\"banana\",\"cherry\",\"pineapple\"}\n",
        "fruitSet2 = {\"pineapple\",\"melon\",\"orange\"}\n",
        "fruitSet = fruitSet1.intersection(fruitSet2)\n",
        "print(fruitSet)"
      ],
      "execution_count": null,
      "outputs": []
    },
    {
      "cell_type": "code",
      "metadata": {
        "id": "Y9_kkKsDC46v"
      },
      "source": [
        "# get union of sets minus the intersection\n",
        "fruitSet1 = {\"orange\",\"banana\",\"cherry\",\"pineapple\"}\n",
        "fruitSet2 = {\"pineapple\",\"melon\",\"orange\"}\n",
        "fruitSet1.symmetric_difference_update(fruitSet2)\n",
        "print(fruitSet1)"
      ],
      "execution_count": null,
      "outputs": []
    },
    {
      "cell_type": "code",
      "metadata": {
        "id": "V8-QDD5AEMkb"
      },
      "source": [
        "# get union of sets minus the intersection\n",
        "fruitSet1 = {\"orange\",\"banana\",\"cherry\",\"pineapple\"}\n",
        "fruitSet2 = {\"pineapple\",\"melon\",\"orange\"}\n",
        "fruitSet = fruitSet1.symmetric_difference(fruitSet2)\n",
        "print(fruitSet)"
      ],
      "execution_count": null,
      "outputs": []
    },
    {
      "cell_type": "code",
      "metadata": {
        "id": "-Yb8C5csEZZ9"
      },
      "source": [
        "# difference between two sets\n",
        "fruitSet1 = {\"orange\",\"banana\",\"cherry\",\"pineapple\"}\n",
        "fruitSet2 = {\"pineapple\",\"melon\",\"orange\"}\n",
        "fruitSet = fruitSet1.difference(fruitSet2)\n",
        "print(fruitSet)"
      ],
      "execution_count": null,
      "outputs": []
    },
    {
      "cell_type": "code",
      "metadata": {
        "id": "3q3p9mtsHMa7"
      },
      "source": [
        "# difference between two sets\n",
        "fruitSet1 = {\"orange\",\"banana\",\"cherry\",\"pineapple\"}\n",
        "fruitSet2 = {\"pineapple\",\"melon\",\"orange\"}\n",
        "fruitSet1.difference_update(fruitSet2)\n",
        "print(fruitSet1)"
      ],
      "execution_count": null,
      "outputs": []
    },
    {
      "cell_type": "code",
      "metadata": {
        "id": "RmHB26GeHQMA"
      },
      "source": [
        "# isdisjoint\n",
        "\n",
        "disjointSet1 = {1,2,3}\n",
        "disjointSet2 = {4,5,6}\n",
        "disjointSet1.isdisjoint(disjointSet2)"
      ],
      "execution_count": null,
      "outputs": []
    },
    {
      "cell_type": "code",
      "metadata": {
        "id": "_Z33LZvRH3y3"
      },
      "source": [
        "# isdisjoint\n",
        "\n",
        "disjointFalseSet1 = {1,2,3,4,5}\n",
        "disjointFalseSet2 = {4,5,6,7,8}\n",
        "disjointFalseSet1.isdisjoint(disjointFalseSet2)"
      ],
      "execution_count": null,
      "outputs": []
    },
    {
      "cell_type": "code",
      "metadata": {
        "id": "MA4uuT6mIKa9"
      },
      "source": [
        "#issuperset() \n",
        "superSet = {1,2,3,4,5,6,7,8,9}\n",
        "subSet = {1,2,3,5,7}\n",
        "superSet.issuperset(subSet)"
      ],
      "execution_count": null,
      "outputs": []
    },
    {
      "cell_type": "code",
      "metadata": {
        "id": "Zu9DUV0CIxix"
      },
      "source": [
        "#issuperset()\n",
        "superSet = {1,2,3,4,5,6,7,8,9}\n",
        "subSet = {11,12,13}\n",
        "superSet.issuperset(subSet)"
      ],
      "execution_count": null,
      "outputs": []
    },
    {
      "cell_type": "code",
      "metadata": {
        "id": "zOnFpfsmIhG_"
      },
      "source": [
        "#issubset()\n",
        "superSet = {1,2,3,4,5,6,7,8,9}\n",
        "subSet = {1,2,3,5,7}\n",
        "subSet.issubset(superSet)"
      ],
      "execution_count": null,
      "outputs": []
    },
    {
      "cell_type": "code",
      "metadata": {
        "id": "28ctrrhcI8AQ"
      },
      "source": [
        "#issubset()\n",
        "superSet = {1,2,3,4,5,6,7,8,9}\n",
        "subSet = {11,12,13}\n",
        "subSet.issubset(superSet)"
      ],
      "execution_count": null,
      "outputs": []
    },
    {
      "cell_type": "markdown",
      "metadata": {
        "id": "fxh6GZWKK9ZU"
      },
      "source": [
        "### Sequence - Dict\n",
        "In the latest Python Versions (Above 3.7) Dict type is ORDERED.\n",
        "\n",
        "NO DUPLICATES, MUTABLE"
      ]
    },
    {
      "cell_type": "code",
      "metadata": {
        "id": "LJAcOEIRLBzn"
      },
      "source": [
        "capitalsDict = {\"Japan\":\"Tokyo\", \"UK\":\"London\", \"Russia\":\"Moscow\",\"France\":\"Paris\", \"India\":\"New Delhi\"}\n",
        "print(capitalsDict)"
      ],
      "execution_count": null,
      "outputs": []
    },
    {
      "cell_type": "markdown",
      "metadata": {
        "id": "zhlCmFxWLxKJ"
      },
      "source": [
        "##### Length of Dict"
      ]
    },
    {
      "cell_type": "code",
      "metadata": {
        "id": "k57XyCwpL0vj"
      },
      "source": [
        "capitalsDict = {\"Japan\":\"Tokyo\", \"UK\":\"London\", \"Russia\":\"Moscow\",\"France\":\"Paris\", \"India\":\"New Delhi\"}\n",
        "\n",
        "length = len(capitalsDict)\n",
        "\n",
        "print(length)\n"
      ],
      "execution_count": null,
      "outputs": []
    },
    {
      "cell_type": "code",
      "metadata": {
        "id": "KxIOWAApME3F"
      },
      "source": [
        "# type\n",
        "capitalsDict = {\"Japan\":\"Tokyo\", \"UK\":\"London\", \"Russia\":\"Moscow\",\"France\":\"Paris\", \"India\":\"New Delhi\"}\n",
        "print(type(capitalsDict))"
      ],
      "execution_count": null,
      "outputs": []
    },
    {
      "cell_type": "markdown",
      "metadata": {
        "id": "H8x1pPSFMCH0"
      },
      "source": [
        "##### Access Item "
      ]
    },
    {
      "cell_type": "code",
      "metadata": {
        "id": "rBbyN0F9NQ9N"
      },
      "source": [
        "# Using Index\n",
        "capitalsDict = {\"Japan\":\"Tokyo\", \"UK\":\"London\", \"Russia\":\"Moscow\",\"France\":\"Paris\", \"India\":\"New Delhi\"}\n",
        "capitalOfUK = capitalsDict[\"UK\"]\n",
        "print(capitalOfUK)"
      ],
      "execution_count": null,
      "outputs": []
    },
    {
      "cell_type": "code",
      "metadata": {
        "id": "02RCkcGiNbRu"
      },
      "source": [
        "# Using get()\n",
        "capitalsDict = {\"Japan\":\"Tokyo\", \"UK\":\"London\", \"Russia\":\"Moscow\",\"France\":\"Paris\", \"India\":\"New Delhi\"}\n",
        "capitalOfUK = capitalsDict.get(\"UK\")\n",
        "print(capitalOfUK)"
      ],
      "execution_count": null,
      "outputs": []
    },
    {
      "cell_type": "code",
      "metadata": {
        "id": "cdaNstEfN54M"
      },
      "source": [
        "# Get all keys in the dictionary\n",
        "\n",
        "capitalsDict = {\"Japan\":\"Tokyo\", \"UK\":\"London\", \"Russia\":\"Moscow\",\"France\":\"Paris\", \"India\":\"New Delhi\"}\n",
        "\n",
        "countriesAsKeys = capitalsDict.keys()\n",
        "\n",
        "print(countriesAsKeys)\n",
        "print(type(countriesAsKeys))\n",
        "\n",
        "countriesAsList = list(countriesAsKeys)\n",
        "print(countriesAsList)\n",
        "print(type(countriesAsList))"
      ],
      "execution_count": null,
      "outputs": []
    },
    {
      "cell_type": "code",
      "metadata": {
        "id": "CjpnSzsFOff4"
      },
      "source": [
        "# Loop through keys\n",
        "capitalsDict = {\"Japan\":\"Tokyo\", \"UK\":\"London\", \"Russia\":\"Moscow\",\"France\":\"Paris\", \"India\":\"New Delhi\"}\n",
        "\n",
        "countriesAsKeys = capitalsDict.keys()\n",
        "for country in countriesAsKeys:\n",
        "  print(country)"
      ],
      "execution_count": null,
      "outputs": []
    },
    {
      "cell_type": "code",
      "metadata": {
        "id": "CeUVF7MnPIQp"
      },
      "source": [
        "# Get all values in the dictionary\n",
        "\n",
        "capitalsDict = {\"Japan\":\"Tokyo\", \"UK\":\"London\", \"Russia\":\"Moscow\",\"France\":\"Paris\", \"India\":\"New Delhi\"}\n",
        "\n",
        "capitalsAsValues = capitalsDict.values()\n",
        "\n",
        "print(capitalsAsValues)\n",
        "print(type(capitalsAsValues))\n",
        "\n",
        "capitalsAsList = list(capitalsAsValues)\n",
        "print(capitalsAsList)\n",
        "print(type(capitalsAsList))\n"
      ],
      "execution_count": null,
      "outputs": []
    },
    {
      "cell_type": "code",
      "metadata": {
        "id": "nWRZxbQLQEo-"
      },
      "source": [
        "# Loop through values\n",
        "capitalsDict = {\"Japan\":\"Tokyo\", \"UK\":\"London\", \"Russia\":\"Moscow\",\"France\":\"Paris\", \"India\":\"New Delhi\"}\n",
        "\n",
        "capitalsAsValues = capitalsDict.values()\n",
        "for capital in capitalsAsValues:\n",
        "  print(capital)"
      ],
      "execution_count": null,
      "outputs": []
    },
    {
      "cell_type": "code",
      "metadata": {
        "id": "5k8mQBdaQbbV"
      },
      "source": [
        "#Get all values in the Dict and update any value\n",
        "\n",
        "capitalsDict = {\"Japan\":\"Tokyo\", \"UK\":\"London\", \"Russia\":\"Moscow\",\"France\":\"Paris\", \"India\":\"Delhi\"}\n",
        "\n",
        "capitalsAsValues = capitalsDict.values()\n",
        "\n",
        "print(capitalsAsValues)\n",
        "\n",
        "capitalsDict[\"India\"] = \"New Delhi\"\n",
        "\n",
        "print(capitalsAsValues)\n",
        "print(capitalsDict)\n",
        "capitalsDict[\"Indonesia\"] = \"Jakarta\"\n",
        "\n",
        "print(capitalsAsValues)\n",
        "print(capitalsDict)"
      ],
      "execution_count": null,
      "outputs": []
    },
    {
      "cell_type": "code",
      "metadata": {
        "id": "rMtgqPI9Ru4B"
      },
      "source": [
        "#Get all values in the Dict and update any value\n",
        "\n",
        "capitalsDict = {\"Japan\":\"Tokyo\", \"UK\":\"London\", \"Russia\":\"Moscow\",\"France\":\"Paris\", \"India\":\"Delhi\"}\n",
        "\n",
        "capitalsAsValues = capitalsDict.values()\n",
        "capitalsAsList = list(capitalsAsValues)\n",
        "print(capitalsAsList)\n",
        "\n",
        "capitalsDict[\"India\"] = \"New Delhi\"\n",
        "\n",
        "print(capitalsAsList)"
      ],
      "execution_count": null,
      "outputs": []
    },
    {
      "cell_type": "code",
      "metadata": {
        "id": "I8198aH-R6ky"
      },
      "source": [
        "# Index not exists\n",
        "\n",
        "capitalsDict = {\"Japan\":\"Tokyo\", \"UK\":\"London\", \"Russia\":\"Moscow\",\"France\":\"Paris\", \"India\":\"Delhi\"}\n",
        "\n",
        "print(capitalsDict[\"Peru\"])"
      ],
      "execution_count": null,
      "outputs": []
    },
    {
      "cell_type": "code",
      "metadata": {
        "id": "2JUiaeLBTOFr"
      },
      "source": [
        "# Check the key exists\n",
        "\n",
        "\n",
        "capitalsDict = {\"Japan\":\"Tokyo\", \"UK\":\"London\", \"Russia\":\"Moscow\",\"France\":\"Paris\", \"India\":\"Delhi\"}\n",
        "\n",
        "if \"Peru\" in capitalsDict:\n",
        "  print(capitalsDict[\"Peru\"])\n",
        "\n",
        "if \"Russia\" in capitalsDict:\n",
        "  print(capitalsDict[\"Russia\"])\n"
      ],
      "execution_count": null,
      "outputs": []
    },
    {
      "cell_type": "markdown",
      "metadata": {
        "id": "lbA6sAeCUFWX"
      },
      "source": [
        "##### Add Item"
      ]
    },
    {
      "cell_type": "code",
      "metadata": {
        "id": "wdL6nhKAUHDj"
      },
      "source": [
        "\n",
        "capitalsDict = {\"Japan\":\"Tokyo\", \"UK\":\"London\", \"Russia\":\"Moscow\",\"France\":\"Paris\", \"India\":\"Delhi\"}\n",
        "\n",
        "capitalsDict[\"Indonesia\"] = \"Jakarta\"\n",
        "\n",
        "print(capitalsDict)"
      ],
      "execution_count": null,
      "outputs": []
    },
    {
      "cell_type": "markdown",
      "metadata": {
        "id": "3UKtzLFqUfmc"
      },
      "source": [
        "##### Update Item"
      ]
    },
    {
      "cell_type": "code",
      "metadata": {
        "id": "dyIrG_0PUhsb"
      },
      "source": [
        "capitalsDict = {\"Japan\":\"Tokyo\", \"UK\":\"London\", \"Russia\":\"Moscow\",\"France\":\"Paris\", \"India\":\"Delhi\"}\n",
        "\n",
        "capitalsDict.update({\"India\":\"New Delhi\"})\n",
        "print(capitalsDict)"
      ],
      "execution_count": null,
      "outputs": []
    },
    {
      "cell_type": "markdown",
      "metadata": {
        "id": "ArSbvnT6UTbb"
      },
      "source": [
        "##### Remove Item"
      ]
    },
    {
      "cell_type": "code",
      "metadata": {
        "id": "8mKvTuq-UXFc"
      },
      "source": [
        "capitalsDict = {\"Japan\":\"Tokyo\", \"UK\":\"London\", \"Russia\":\"Moscow\",\"France\":\"Paris\", \"India\":\"Delhi\"}\n",
        "\n",
        "capitalsDict.pop(\"Russia\")\n",
        "print(capitalsDict)\n",
        "\n",
        "del capitalsDict[\"Japan\"]\n",
        "print(capitalsDict)\n"
      ],
      "execution_count": null,
      "outputs": []
    },
    {
      "cell_type": "code",
      "metadata": {
        "id": "s9St9xQtVKo4"
      },
      "source": [
        "capitalsDict = {\"Japan\":\"Tokyo\", \"UK\":\"London\", \"Russia\":\"Moscow\",\"France\":\"Paris\", \"India\":\"Delhi\"}\n",
        "print(capitalsDict)\n",
        "\n",
        "capitalsDict.popitem()\n",
        "print(capitalsDict)\n"
      ],
      "execution_count": null,
      "outputs": []
    },
    {
      "cell_type": "markdown",
      "metadata": {
        "id": "4nxdalnmWFAp"
      },
      "source": [
        "##### del method"
      ]
    },
    {
      "cell_type": "code",
      "metadata": {
        "id": "WREOSbtEWJCV"
      },
      "source": [
        "# Delete Item\n",
        "capitalsDict = {\"Japan\":\"Tokyo\", \"UK\":\"London\", \"Russia\":\"Moscow\",\"France\":\"Paris\", \"India\":\"Delhi\"}\n",
        "print(capitalsDict)\n",
        "\n",
        "del capitalsDict[\"Japan\"]\n",
        "print(capitalsDict)"
      ],
      "execution_count": null,
      "outputs": []
    },
    {
      "cell_type": "code",
      "metadata": {
        "id": "gPJhQ4AmWRd9"
      },
      "source": [
        "# Delete Dict\n",
        "capitalsDictForDel = {\"Japan\":\"Tokyo\", \"UK\":\"London\", \"Russia\":\"Moscow\",\"France\":\"Paris\", \"India\":\"Delhi\"}\n",
        "print(capitalsDictForDel)\n",
        "del capitalsDictForDel"
      ],
      "execution_count": null,
      "outputs": []
    },
    {
      "cell_type": "code",
      "metadata": {
        "id": "M8CHT8MQWof4"
      },
      "source": [
        "print(capitalsDictForDel)"
      ],
      "execution_count": null,
      "outputs": []
    },
    {
      "cell_type": "markdown",
      "metadata": {
        "id": "Lk5aonvvW2JP"
      },
      "source": [
        "##### clear()"
      ]
    },
    {
      "cell_type": "code",
      "metadata": {
        "id": "oJmaVGOTW4_s"
      },
      "source": [
        "capitalsDict = {\"Japan\":\"Tokyo\", \"UK\":\"London\", \"Russia\":\"Moscow\",\"France\":\"Paris\", \"India\":\"Delhi\"}\n",
        "print(capitalsDict)\n",
        "\n",
        "capitalsDict.clear()\n",
        "print(capitalsDict)"
      ],
      "execution_count": null,
      "outputs": []
    },
    {
      "cell_type": "markdown",
      "metadata": {
        "id": "t9nC90-oXlG5"
      },
      "source": [
        "##### copy()"
      ]
    },
    {
      "cell_type": "code",
      "metadata": {
        "id": "7AfcpWPtXnR3"
      },
      "source": [
        "capitalsDict = {\"Japan\":\"Tokyo\", \"UK\":\"London\", \"Russia\":\"Moscow\",\"France\":\"Paris\", \"India\":\"Delhi\"}\n",
        "print(capitalsDict)\n",
        "print(capitalsDict.copy())"
      ],
      "execution_count": null,
      "outputs": []
    },
    {
      "cell_type": "markdown",
      "metadata": {
        "id": "IJ50xD2oX2Sw"
      },
      "source": [
        "##### Nested Dicts"
      ]
    },
    {
      "cell_type": "code",
      "metadata": {
        "id": "LcylHwHSX5Gg"
      },
      "source": [
        "family = {\n",
        "  \"child1\" : {\n",
        "    \"name\" : \"Emil\",\n",
        "    \"year\" : 2004\n",
        "  },\n",
        "  \"child2\" : {\n",
        "    \"name\" : \"Tobias\",\n",
        "    \"year\" : 2007\n",
        "  },\n",
        "  \"child3\" : {\n",
        "    \"name\" : \"Linus\",\n",
        "    \"year\" : 2011\n",
        "  }\n",
        "} \n",
        "\n",
        "print(family)"
      ],
      "execution_count": null,
      "outputs": []
    },
    {
      "cell_type": "code",
      "metadata": {
        "id": "8k_HEaYRYAw5"
      },
      "source": [
        "family[\"child2\"][\"name\"]"
      ],
      "execution_count": null,
      "outputs": []
    }
  ]
}