{
  "nbformat": 4,
  "nbformat_minor": 0,
  "metadata": {
    "colab": {
      "name": "PythonBasics.ipynb",
      "provenance": [],
      "collapsed_sections": [],
      "authorship_tag": "ABX9TyPSVfourNUTHLJOWfzeF85m",
      "include_colab_link": true
    },
    "kernelspec": {
      "name": "python3",
      "display_name": "Python 3"
    },
    "language_info": {
      "name": "python"
    }
  },
  "cells": [
    {
      "cell_type": "markdown",
      "metadata": {
        "id": "view-in-github",
        "colab_type": "text"
      },
      "source": [
        "<a href=\"https://colab.research.google.com/github/techakilan/python-datascience-training/blob/master/PythonBasics.ipynb\" target=\"_parent\"><img src=\"https://colab.research.google.com/assets/colab-badge.svg\" alt=\"Open In Colab\"/></a>"
      ]
    },
    {
      "cell_type": "markdown",
      "metadata": {
        "id": "dlwB1oURVTQp"
      },
      "source": [
        "### Hello world Example"
      ]
    },
    {
      "cell_type": "code",
      "metadata": {
        "id": "Xy1WEucrVG08"
      },
      "source": [
        "print(\"Hello, World!\")"
      ],
      "execution_count": null,
      "outputs": []
    },
    {
      "cell_type": "markdown",
      "metadata": {
        "id": "9bfAmdNwVxzf"
      },
      "source": [
        "## Variables"
      ]
    },
    {
      "cell_type": "code",
      "metadata": {
        "id": "LXc-hYPKV0sC"
      },
      "source": [
        "x=5\n",
        "y=7"
      ],
      "execution_count": null,
      "outputs": []
    },
    {
      "cell_type": "code",
      "metadata": {
        "id": "Xx2CVcUhV_MV"
      },
      "source": [
        "print(x)\n",
        "x"
      ],
      "execution_count": null,
      "outputs": []
    },
    {
      "cell_type": "markdown",
      "metadata": {
        "id": "390jUKiAx8xF"
      },
      "source": [
        ""
      ]
    },
    {
      "cell_type": "code",
      "metadata": {
        "id": "dT_8kjcvWmQZ"
      },
      "source": [
        "type(x)"
      ],
      "execution_count": null,
      "outputs": []
    },
    {
      "cell_type": "markdown",
      "metadata": {
        "id": "rX1crBq1Wx3_"
      },
      "source": [
        "## Simple Data types\n",
        "\n",
        "variables do not have explicit data type as python associates types with values.\n",
        "So x = 8 works. But int x = 8 will throw syntax error. However we may use type hinting using x:int = 8 which is same as x = 8"
      ]
    },
    {
      "cell_type": "markdown",
      "metadata": {
        "id": "WeUvO71yW246"
      },
      "source": [
        "#### Int (Numeric)\n",
        "\n"
      ]
    },
    {
      "cell_type": "code",
      "metadata": {
        "id": "i7un1Tp7W04h"
      },
      "source": [
        "x:int = 8\n",
        "y=8\n",
        "print(type(x))\n",
        "print(type(y))"
      ],
      "execution_count": null,
      "outputs": []
    },
    {
      "cell_type": "markdown",
      "metadata": {
        "id": "aciShRYAYsOV"
      },
      "source": [
        "#### Float(Numeric)"
      ]
    },
    {
      "cell_type": "code",
      "metadata": {
        "id": "4bAY0MnPY5Cz"
      },
      "source": [
        "x=8.8\n",
        "print(type(x))"
      ],
      "execution_count": null,
      "outputs": []
    },
    {
      "cell_type": "markdown",
      "metadata": {
        "id": "rOiCmg55ZA6T"
      },
      "source": [
        "#### Complex numbers(Numeric)"
      ]
    },
    {
      "cell_type": "code",
      "metadata": {
        "id": "KS5jTw3bZMMK"
      },
      "source": [
        "c1 = complex(2,3)\n",
        "print(c1)\n",
        "print(type(c1))"
      ],
      "execution_count": null,
      "outputs": []
    },
    {
      "cell_type": "markdown",
      "metadata": {
        "id": "xRFF8ucIyUZa"
      },
      "source": [
        "#### Boolean data type"
      ]
    },
    {
      "cell_type": "code",
      "metadata": {
        "id": "kLKShl_3yf3U"
      },
      "source": [
        "x= True\n",
        "y= False\n",
        "print(x)\n",
        "print(y)"
      ],
      "execution_count": null,
      "outputs": []
    },
    {
      "cell_type": "code",
      "metadata": {
        "id": "09dazpWNyykM"
      },
      "source": [
        "print(1==1)\n",
        "print(1>2)\n",
        "print(1<2)"
      ],
      "execution_count": null,
      "outputs": []
    },
    {
      "cell_type": "markdown",
      "metadata": {
        "id": "mA7HegTf0W18"
      },
      "source": [
        "### String data type"
      ]
    },
    {
      "cell_type": "code",
      "metadata": {
        "id": "eqZh_DkA0iDy"
      },
      "source": [
        "txt1 = \"cats rule the world\"\n",
        "print(txt1)\n",
        "print(type(txt1))"
      ],
      "execution_count": null,
      "outputs": []
    },
    {
      "cell_type": "code",
      "metadata": {
        "id": "EqTf-N5E0Y_y"
      },
      "source": [
        "\n",
        "txt2 = 'cats rule the world'\n",
        "print(txt2)\n",
        "print(type(txt2))"
      ],
      "execution_count": null,
      "outputs": []
    },
    {
      "cell_type": "code",
      "metadata": {
        "id": "G7N4dhzv0vvR"
      },
      "source": [
        "print(txt1==txt2)"
      ],
      "execution_count": null,
      "outputs": []
    },
    {
      "cell_type": "markdown",
      "metadata": {
        "id": "TpglKuvDWJue"
      },
      "source": [
        "## Type casting"
      ]
    },
    {
      "cell_type": "markdown",
      "metadata": {
        "id": "3W7wyl-QaRWG"
      },
      "source": [
        "### Int to String"
      ]
    },
    {
      "cell_type": "code",
      "metadata": {
        "id": "a4AHazF9WMrf"
      },
      "source": [
        "num=8\n",
        "txt = str(num)\n",
        "print(txt)\n",
        "print(type(num))\n",
        "print(type(txt))\n",
        "\n",
        "\n"
      ],
      "execution_count": null,
      "outputs": []
    },
    {
      "cell_type": "code",
      "metadata": {
        "id": "LbLC33lBa5Qs"
      },
      "source": [
        "num=8\n",
        "txt = \"cats rule the world\"\n",
        "print(num+\" \"+txt)"
      ],
      "execution_count": null,
      "outputs": []
    },
    {
      "cell_type": "code",
      "metadata": {
        "id": "eFBiOaSMbOTW"
      },
      "source": [
        "num=8\n",
        "txt = \"cats rule the world\"\n",
        "print(str(num)+\" \"+txt)"
      ],
      "execution_count": null,
      "outputs": []
    },
    {
      "cell_type": "markdown",
      "metadata": {
        "id": "6UhKMvX9uWQL"
      },
      "source": [
        "### Float to String"
      ]
    },
    {
      "cell_type": "code",
      "metadata": {
        "id": "4ssWYGm8uAsW"
      },
      "source": [
        "num = 8.2\n",
        "print(str(num))\n",
        "print(type(str(num)))"
      ],
      "execution_count": null,
      "outputs": []
    },
    {
      "cell_type": "markdown",
      "metadata": {
        "id": "AfjNhVlguY_w"
      },
      "source": [
        "### Complex to string"
      ]
    },
    {
      "cell_type": "code",
      "metadata": {
        "id": "wcFhLjDpudSU"
      },
      "source": [
        "c1 = complex(3,4)\n",
        "print(str(c1))"
      ],
      "execution_count": null,
      "outputs": []
    },
    {
      "cell_type": "markdown",
      "metadata": {
        "id": "eyFdmwZjztaa"
      },
      "source": [
        "### String to Int"
      ]
    },
    {
      "cell_type": "code",
      "metadata": {
        "id": "X_TNdg4Tzwul"
      },
      "source": [
        "txt = \"cats rule the world\"\n",
        "print(int(txt))"
      ],
      "execution_count": null,
      "outputs": []
    },
    {
      "cell_type": "code",
      "metadata": {
        "id": "YydWCoem0TLh"
      },
      "source": [
        "raw_user_age = input(\"What is your age?\")\n",
        "user_age = int(raw_user_age)\n",
        "print(user_age)"
      ],
      "execution_count": null,
      "outputs": []
    },
    {
      "cell_type": "code",
      "metadata": {
        "id": "fCj8g9ZI10_n"
      },
      "source": [
        "print(type(raw_user_age))\n",
        "print(type(int(raw_user_age)))"
      ],
      "execution_count": null,
      "outputs": []
    },
    {
      "cell_type": "markdown",
      "metadata": {
        "id": "WqypBtAc2Y5w"
      },
      "source": [
        "### String to Float"
      ]
    },
    {
      "cell_type": "code",
      "metadata": {
        "id": "xVk2rqx92bH3"
      },
      "source": [
        "txtFloat = \"8.2\"\n",
        "print(type(txtFloat))\n",
        "print(type(float(txtFloat)))\n"
      ],
      "execution_count": null,
      "outputs": []
    },
    {
      "cell_type": "markdown",
      "metadata": {
        "id": "NqqBnqob2vPj"
      },
      "source": [
        "### String to Complex"
      ]
    },
    {
      "cell_type": "code",
      "metadata": {
        "id": "l1jF9T92216-"
      },
      "source": [
        "txtComplex=\"(3+4j)\"\n",
        "print(type(txtComplex))\n",
        "print(type(complex(c1)))"
      ],
      "execution_count": null,
      "outputs": []
    },
    {
      "cell_type": "markdown",
      "metadata": {
        "id": "5QfWWriuxADR"
      },
      "source": [
        "## Data types continued..."
      ]
    },
    {
      "cell_type": "markdown",
      "metadata": {
        "id": "tksgS2CW4BFf"
      },
      "source": [
        "### Sequence - List"
      ]
    },
    {
      "cell_type": "code",
      "metadata": {
        "colab": {
          "base_uri": "https://localhost:8080/"
        },
        "id": "G7BGha793-49",
        "outputId": "4bb77496-0528-43e9-ac82-5ff3428e3194"
      },
      "source": [
        "# List of Strings\n",
        "fruitList = [\"apple\", \"banana\", \"cherry\",\"mango\",\"kiwi\",\"orange\",\"pineapple\"]\n",
        "print(fruitList)\n",
        "print(type(fruitList))\n",
        "print(type(fruitList[0]))"
      ],
      "execution_count": 86,
      "outputs": [
        {
          "output_type": "stream",
          "name": "stdout",
          "text": [
            "['apple', 'banana', 'cherry', 'mango', 'kiwi', 'orange', 'pineapple']\n",
            "<class 'list'>\n",
            "<class 'str'>\n"
          ]
        }
      ]
    },
    {
      "cell_type": "code",
      "metadata": {
        "id": "joete07o4s0Q"
      },
      "source": [
        "# List with mixed type\n",
        "\n",
        "mixedList = [\"apple\", 1]\n",
        "print(type(mixedList[0]))\n",
        "print(type(mixedList[1]))"
      ],
      "execution_count": null,
      "outputs": []
    },
    {
      "cell_type": "markdown",
      "metadata": {
        "id": "EqkYSiLS5to9"
      },
      "source": [
        "#### List Constructor"
      ]
    },
    {
      "cell_type": "code",
      "metadata": {
        "id": "hBQwtMF-5v05"
      },
      "source": [
        "fruitsConstructor = list((\"apple\", \"banana\", \"cherry\"))\n",
        "print(fruitsConstructor)\n",
        "print(type(fruitsConstructor))"
      ],
      "execution_count": null,
      "outputs": []
    },
    {
      "cell_type": "markdown",
      "metadata": {
        "id": "z3avA6ZU5JnH"
      },
      "source": [
        "#### List operations - Length"
      ]
    },
    {
      "cell_type": "code",
      "metadata": {
        "id": "y5amItsS5Ry9"
      },
      "source": [
        "print(len(fruitList))\n",
        "print(len(mixedList))"
      ],
      "execution_count": null,
      "outputs": []
    },
    {
      "cell_type": "markdown",
      "metadata": {
        "id": "DHtYfabh5hfj"
      },
      "source": [
        "#### List operation - Access list item"
      ]
    },
    {
      "cell_type": "code",
      "metadata": {
        "colab": {
          "base_uri": "https://localhost:8080/"
        },
        "id": "qKZs9QfC6bsw",
        "outputId": "a5c92311-38c8-407d-c81b-0a659ee1b50c"
      },
      "source": [
        "# Positive Indexing [Index starts from 0 to (length of the list - 1)]\n",
        "# [\"apple\", \"banana\", \"cherry\",\"mango\",\"kiwi\",\"orange\",\"pineapple\"]\n",
        "\n",
        "print(fruitList[0])"
      ],
      "execution_count": 87,
      "outputs": [
        {
          "output_type": "stream",
          "name": "stdout",
          "text": [
            "apple\n"
          ]
        }
      ]
    },
    {
      "cell_type": "code",
      "metadata": {
        "colab": {
          "base_uri": "https://localhost:8080/"
        },
        "id": "BuSb7XrN6tZ3",
        "outputId": "841fc260-48aa-4b8f-9e63-eaa22bc7dff2"
      },
      "source": [
        "# Positive Indexing\n",
        "# ['apple', 'banana', 'cherry', 'mango', 'kiwi', 'orange', 'pineapple']\n",
        "\n",
        "print(fruitList[1])"
      ],
      "execution_count": 89,
      "outputs": [
        {
          "output_type": "stream",
          "name": "stdout",
          "text": [
            "banana\n"
          ]
        }
      ]
    },
    {
      "cell_type": "code",
      "metadata": {
        "colab": {
          "base_uri": "https://localhost:8080/"
        },
        "id": "qhw_K7-s8VgR",
        "outputId": "9f61898d-7895-444f-a8d3-4aa472d2f244"
      },
      "source": [
        "# ['apple', 'banana', 'cherry', 'mango', 'kiwi', 'orange', 'pineapple']\n",
        "\n",
        "length = len(fruitList)\n",
        "print(\"Length of list: \"+str(length))\n",
        "print(\"last item using[length-1]: \"+fruitList[length-1])\n",
        "print(\"last item using[6]: \"+fruitList[6])"
      ],
      "execution_count": 106,
      "outputs": [
        {
          "output_type": "stream",
          "name": "stdout",
          "text": [
            "Length of list: 7\n",
            "last item using[length-1]: pineapple\n",
            "last item using[6]: pineapple\n"
          ]
        }
      ]
    },
    {
      "cell_type": "code",
      "metadata": {
        "colab": {
          "base_uri": "https://localhost:8080/"
        },
        "id": "8VNeTw2o63DE",
        "outputId": "722f2298-4aa0-43c9-b5ab-c06b6b8c7705"
      },
      "source": [
        "# Negative Indexing [index starts from -1 to length of the list]\n",
        "# [\"apple\", \"banana\", \"cherry\",\"mango\",\"kiwi\",\"orange\",\"pineapple\"]\n",
        "\n",
        "print(\"last item using[-1]: \"+fruitList[-1])"
      ],
      "execution_count": 107,
      "outputs": [
        {
          "output_type": "stream",
          "name": "stdout",
          "text": [
            "last item using[-1]: pineapple\n"
          ]
        }
      ]
    },
    {
      "cell_type": "code",
      "metadata": {
        "colab": {
          "base_uri": "https://localhost:8080/"
        },
        "id": "7GTnwuBd8lmS",
        "outputId": "28973f50-baf5-4376-d182-15e7c5760900"
      },
      "source": [
        "# Negative Indexing\n",
        "# [\"apple\", \"banana\", \"cherry\",\"mango\",\"kiwi\",\"orange\",\"pineapple\"]\n",
        "\n",
        "length = len(fruitList)\n",
        "print(length)\n",
        "print(\"first item using [-length]: \"+fruitList[-length])\n",
        "print(\"first item using [-7] \"+fruitList[-7])"
      ],
      "execution_count": 108,
      "outputs": [
        {
          "output_type": "stream",
          "name": "stdout",
          "text": [
            "7\n",
            "first item using [-length]: apple\n",
            "first item using [-7] apple\n"
          ]
        }
      ]
    },
    {
      "cell_type": "markdown",
      "metadata": {
        "id": "Lfr9t4v93YFR"
      },
      "source": [
        "[start,end,step]"
      ]
    },
    {
      "cell_type": "code",
      "metadata": {
        "colab": {
          "base_uri": "https://localhost:8080/"
        },
        "id": "dB5NQFiXAUYY",
        "outputId": "8616dc83-a356-4c83-c5e7-16786aff5b0d"
      },
      "source": [
        "# Default values for Range of Index\n",
        "# [\"apple\", \"banana\", \"cherry\",\"mango\",\"kiwi\",\"orange\",\"pineapple\"]\n",
        "start=0\n",
        "length= len(fruitList)\n",
        "step=1\n",
        "print(\"start =\", start)\n",
        "print(\"length =\", length)\n",
        "print(\"step =\", step)\n",
        "print(type(start))\n",
        "print(type(length))\n",
        "print(type(step))\n",
        "print(\" \")\n",
        "print(\"list original\")\n",
        "print(fruitList)\n",
        "print(\" \")\n",
        "print(\"list using [start:length:step]: \")\n",
        "print(fruitList[start:length:step])\n",
        "print(\" \")\n",
        "print(\"list using [0:7:1]:\")\n",
        "print(fruitList[0:7:1])"
      ],
      "execution_count": 117,
      "outputs": [
        {
          "output_type": "stream",
          "name": "stdout",
          "text": [
            "start = 0\n",
            "length = 7\n",
            "step = 1\n",
            "<class 'int'>\n",
            "<class 'int'>\n",
            "<class 'int'>\n",
            " \n",
            "list original\n",
            "['apple', 'banana', 'cherry', 'mango', 'kiwi', 'orange', 'pineapple']\n",
            " \n",
            "list using [start:length:step]: \n",
            "['apple', 'banana', 'cherry', 'mango', 'kiwi', 'orange', 'pineapple']\n",
            " \n",
            "list using [0:7:1]:\n",
            "['apple', 'banana', 'cherry', 'mango', 'kiwi', 'orange', 'pineapple']\n"
          ]
        }
      ]
    },
    {
      "cell_type": "code",
      "metadata": {
        "colab": {
          "base_uri": "https://localhost:8080/"
        },
        "id": "GZ3A4E0DPgPs",
        "outputId": "24df0b56-2b2e-4bb0-d26f-868b8daecd49"
      },
      "source": [
        "# Entire list using negative range of index with explicit values is not possble.\n",
        "# [\"apple\", \"banana\", \"cherry\",\"mango\",\"kiwi\",\"orange\",\"pineapple\"]\n",
        "\n",
        "length= len(fruitList)\n",
        "end = -1\n",
        "step=1\n",
        "print(\"start =\", -length)\n",
        "print(\"end =\", end)\n",
        "print(\"step =\", step)\n",
        "print(type(start))\n",
        "print(type(length))\n",
        "print(type(step))\n",
        "print(\" \")\n",
        "print(\"list original\")\n",
        "print(fruitList)\n",
        "print(\" \")\n",
        "print(\"list using [start:end:step]: \")\n",
        "print(fruitList[start:end:step])\n",
        "print(\" \")\n",
        "print(\"list using [-7:-1:1]:\")\n",
        "print(fruitList[-7:-1:1])\n",
        "print(\" \")\n",
        "print(\"list using [-7:0:1]:\")\n",
        "print(fruitList[-7:0:1])\n"
      ],
      "execution_count": 119,
      "outputs": [
        {
          "output_type": "stream",
          "name": "stdout",
          "text": [
            "start = -7\n",
            "end = -1\n",
            "step = 1\n",
            "<class 'int'>\n",
            "<class 'int'>\n",
            "<class 'int'>\n",
            " \n",
            "list original\n",
            "['apple', 'banana', 'cherry', 'mango', 'kiwi', 'orange', 'pineapple']\n",
            " \n",
            "list using [start:end:step]: \n",
            "['apple', 'banana', 'cherry', 'mango', 'kiwi', 'orange']\n",
            " \n",
            "list using [-7:-1:1]:\n",
            "['apple', 'banana', 'cherry', 'mango', 'kiwi', 'orange']\n",
            " \n",
            "list using [-7:0:1]:\n",
            "[]\n"
          ]
        }
      ]
    },
    {
      "cell_type": "code",
      "metadata": {
        "colab": {
          "base_uri": "https://localhost:8080/"
        },
        "id": "lg9ycxqCQusx",
        "outputId": "421bb9fd-cac2-44cd-fd19-da8e5728f469"
      },
      "source": [
        "# Get entire list using negative index\n",
        "# [\"apple\", \"banana\", \"cherry\",\"mango\",\"kiwi\",\"orange\",\"pineapple\"]\n",
        "\n",
        "length= len(fruitList)\n",
        "\n",
        "print(\" \")\n",
        "print(\"list using [-7::]\")\n",
        "print(fruitList[-7::])\n",
        "print(\" \")\n",
        "print(\"list using [-7::2]\")\n",
        "print(fruitList[-7::2])\n"
      ],
      "execution_count": 126,
      "outputs": [
        {
          "output_type": "stream",
          "name": "stdout",
          "text": [
            " \n",
            "list using [-7::]\n",
            "['apple', 'banana', 'cherry', 'mango', 'kiwi', 'orange', 'pineapple']\n",
            " \n",
            "list using [-7::2]\n",
            "['apple', 'cherry', 'kiwi', 'pineapple']\n"
          ]
        }
      ]
    },
    {
      "cell_type": "code",
      "metadata": {
        "id": "zi3PtOjsCAhc"
      },
      "source": [
        "# Range of index \n",
        "# [\"apple\", \"banana\", \"cherry\",\"mango\",\"kiwi\",\"orange\",\"pineapple\"]\n",
        "start = 2\n",
        "end = 5\n",
        "print(fruitList[2:5])\n",
        "print(fruitList[start:end])\n"
      ],
      "execution_count": null,
      "outputs": []
    },
    {
      "cell_type": "markdown",
      "metadata": {
        "id": "ZJVaZEZ2Ci0g"
      },
      "source": [
        "#### The result for start=2 to end=5\n",
        "#### items in index 2,3,4 [from start to (end-1)]\n",
        "#### or items in position 3,4,5\n"
      ]
    },
    {
      "cell_type": "code",
      "metadata": {
        "id": "1tVm6An8AuBx"
      },
      "source": [
        "# Range of index \n",
        "start = 2\n",
        "end = 5\n",
        "step=2\n",
        "print(fruitList[2:5:2])\n",
        "print(fruitList[start:end:step])"
      ],
      "execution_count": null,
      "outputs": []
    },
    {
      "cell_type": "markdown",
      "metadata": {
        "id": "qBA37QqhD320"
      },
      "source": [
        "The result for start=2 to end=5 with step=2\n",
        "\n",
        "items in index 2,4 [from start to (end-1), with step value of 2]\n",
        "\n",
        "or items in position 3,5"
      ]
    },
    {
      "cell_type": "code",
      "metadata": {
        "id": "Pd8LELy4FD6O"
      },
      "source": [
        "# Range of index \n",
        "# [\"apple\", \"banana\", \"cherry\",\"mango\",\"kiwi\",\"orange\",\"pineapple\"]\n",
        "print(fruitList[:5:2])"
      ],
      "execution_count": null,
      "outputs": []
    },
    {
      "cell_type": "markdown",
      "metadata": {
        "id": "jfs0pQ79FjNH"
      },
      "source": [
        "##### The default value of start is taken as 0"
      ]
    },
    {
      "cell_type": "code",
      "metadata": {
        "id": "_K2diw1oFt0x"
      },
      "source": [
        "# Range of index\n",
        "# [\"apple\", \"banana\", \"cherry\",\"mango\",\"kiwi\",\"orange\",\"pineapple\"]\n",
        "print(fruitList[::2])\n",
        "print(fruitList[0:7:2])"
      ],
      "execution_count": null,
      "outputs": []
    },
    {
      "cell_type": "markdown",
      "metadata": {
        "id": "lQVAt8DqF6fd"
      },
      "source": [
        "##### The default value of start is taken as 0, end is taken as 7"
      ]
    },
    {
      "cell_type": "code",
      "metadata": {
        "id": "reS93Z4EGBeD"
      },
      "source": [
        "# Range of index\n",
        "print(fruitList[2::])"
      ],
      "execution_count": null,
      "outputs": []
    },
    {
      "cell_type": "markdown",
      "metadata": {
        "id": "4ot4DgAuGgug"
      },
      "source": [
        "##### The default value of end is taken as 7, step is taken as 1"
      ]
    },
    {
      "cell_type": "markdown",
      "metadata": {
        "id": "dEtYGvdelTHe"
      },
      "source": [
        "#### List operation - copy"
      ]
    },
    {
      "cell_type": "markdown",
      "metadata": {
        "id": "1pwdxhRARLyt"
      },
      "source": [
        "##### The copy operation creates an exact copy of the original list. Changes to the original or copy do not affect the other."
      ]
    },
    {
      "cell_type": "code",
      "metadata": {
        "id": "5DkxsGGRlYuP"
      },
      "source": [
        "fruitListCopy = fruitList.copy()\n",
        "print(fruitList)\n",
        "print(fruitListCopy)\n",
        "print(fruitList==fruitListCopy)"
      ],
      "execution_count": null,
      "outputs": []
    },
    {
      "cell_type": "markdown",
      "metadata": {
        "id": "2ycwGrHLRg_v"
      },
      "source": [
        "##### The list() operation behaves similar to copy"
      ]
    },
    {
      "cell_type": "code",
      "metadata": {
        "id": "lSrIec6FlvQJ"
      },
      "source": [
        "fruitListCopy = list(fruitList)\n",
        "print(fruitList)\n",
        "print(fruitListCopy)\n",
        "print(fruitList==fruitListCopy)"
      ],
      "execution_count": null,
      "outputs": []
    },
    {
      "cell_type": "markdown",
      "metadata": {
        "id": "2z0OjZktG10k"
      },
      "source": [
        "#### List operation - replace value of an item in the list"
      ]
    },
    {
      "cell_type": "markdown",
      "metadata": {
        "id": "QC7OyNHXRvEq"
      },
      "source": [
        "##### A list item is replaced by assigning new value to item directly using = operator. The item is accessed using its index."
      ]
    },
    {
      "cell_type": "code",
      "metadata": {
        "id": "bOzzoeb9G9ek"
      },
      "source": [
        "# modify single item\n",
        "fruitListCopy = fruitList.copy()\n",
        "fruitListCopy[3] = 'mango_change1'\n",
        "print(fruitListCopy[3])\n",
        "fruitListCopy[3] = 'mango_change2'\n",
        "print(fruitListCopy[3])"
      ],
      "execution_count": null,
      "outputs": []
    },
    {
      "cell_type": "markdown",
      "metadata": {
        "id": "J3qP8QyDSCPz"
      },
      "source": [
        "#### Replace slice of an item. This is done using = operator. The new value is a list(or a slice of list). "
      ]
    },
    {
      "cell_type": "code",
      "metadata": {
        "id": "i4-ZnuYwH2fY"
      },
      "source": [
        "# replace slice of items\n",
        "fruitListCopy = fruitList.copy()\n",
        "fruitListCopy[4:6] = ['kiwi_change1','orange_change1']\n",
        "print(fruitListCopy)\n",
        "fruitListCopy[4:6] = ['kiwi_change2','orange_change2']\n",
        "print(fruitListCopy)"
      ],
      "execution_count": null,
      "outputs": []
    },
    {
      "cell_type": "code",
      "metadata": {
        "id": "Fz3zYvMHKlxp"
      },
      "source": [
        "# replace slice of items with single value\n",
        "fruitListCopy = fruitList.copy()\n",
        "fruitListCopy[3:6] = ['newfruit']\n",
        "print(fruitListCopy)"
      ],
      "execution_count": null,
      "outputs": []
    },
    {
      "cell_type": "code",
      "metadata": {
        "id": "RjRgyruKSidn"
      },
      "source": [
        "# replace slice of item with another slice of items\n",
        "\n",
        "fruitListCopy1 = fruitList.copy()\n",
        "fruitListCopy2 = fruitList.copy()\n",
        "\n",
        "print(fruitListCopy1[1:3])\n",
        "print(fruitListCopy2[4:7])\n",
        "fruitListCopy2[1:3] = fruitListCopy1[4:7]\n",
        "\n",
        "print(fruitList)\n",
        "print(fruitListCopy1)\n",
        "print(fruitListCopy2)"
      ],
      "execution_count": null,
      "outputs": []
    },
    {
      "cell_type": "markdown",
      "metadata": {
        "id": "mfA2gtipHkAB"
      },
      "source": [
        "##### List operation - Append/Insert item"
      ]
    },
    {
      "cell_type": "code",
      "metadata": {
        "id": "U8cLv68RLasv"
      },
      "source": [
        "# Insert item at index 4\n",
        "fruitListCopy = fruitList.copy()\n",
        "fruitListCopy[3] = 'changed'\n",
        "print(fruitListCopy)\n",
        "fruitListCopy.insert(4,'newinsert')\n",
        "print(fruitListCopy)"
      ],
      "execution_count": null,
      "outputs": []
    },
    {
      "cell_type": "code",
      "metadata": {
        "id": "WGSfNe3yOSMy"
      },
      "source": [
        "# Insert item at the end of the list\n",
        "fruitListCopy = fruitList.copy()\n",
        "print(fruitListCopy)\n",
        "fruitListCopy.append('append')\n",
        "print(fruitListCopy)"
      ],
      "execution_count": null,
      "outputs": []
    },
    {
      "cell_type": "code",
      "metadata": {
        "id": "BxkNITCaO_xW"
      },
      "source": [
        "# Insert item at the beginning of the list\n",
        "fruitListCopy = fruitList.copy()\n",
        "print(fruitListCopy)\n",
        "fruitListCopy.insert(0,'insertatstart')\n",
        "print(fruitListCopy)"
      ],
      "execution_count": null,
      "outputs": []
    },
    {
      "cell_type": "code",
      "metadata": {
        "id": "VtyUjgXGa-bF"
      },
      "source": [
        "# Remove list item by item\n",
        "fruitListCopy = fruitList.copy()\n",
        "print(fruitListCopy)\n",
        "fruitListCopy.remove(\"kiwi\")\n",
        "print(fruitListCopy)\n"
      ],
      "execution_count": null,
      "outputs": []
    },
    {
      "cell_type": "code",
      "metadata": {
        "id": "eL559vhtb2Ou"
      },
      "source": [
        "#Remove item using item index\n",
        "\n",
        "fruitListCopy = fruitList.copy()\n",
        "print(fruitListCopy)\n",
        "fruitListCopy.pop(4)\n",
        "print(fruitListCopy)\n"
      ],
      "execution_count": null,
      "outputs": []
    },
    {
      "cell_type": "code",
      "metadata": {
        "id": "LWy0SgtFcFpH"
      },
      "source": [
        "#Remove item using item index and print the removed item\n",
        "fruitListCopy = fruitList.copy()\n",
        "fruit = fruitListCopy.pop(4)\n",
        "print(fruit)"
      ],
      "execution_count": null,
      "outputs": []
    },
    {
      "cell_type": "code",
      "metadata": {
        "id": "Y_gAexL-cgYw"
      },
      "source": [
        "# Remove the last item\n",
        "\n",
        "fruitListCopy = fruitList.copy()\n",
        "print(fruitListCopy)\n",
        "fruitListCopy.pop()\n",
        "print(fruitListCopy)"
      ],
      "execution_count": null,
      "outputs": []
    },
    {
      "cell_type": "code",
      "metadata": {
        "id": "Apul_QH8cuMa"
      },
      "source": [
        "# Remove the first item\n",
        "fruitListCopy = fruitList.copy()\n",
        "print(fruitListCopy)\n",
        "del fruitListCopy[0]\n",
        "print(fruitListCopy)"
      ],
      "execution_count": null,
      "outputs": []
    },
    {
      "cell_type": "code",
      "metadata": {
        "id": "JaRtj07bdXeQ"
      },
      "source": [
        "# Remove the entire list\n",
        "fruitListCopy = fruitList.copy()\n",
        "print(fruitListCopy)\n",
        "del fruitListCopy\n",
        "print(fruitListCopy)\n"
      ],
      "execution_count": null,
      "outputs": []
    },
    {
      "cell_type": "code",
      "metadata": {
        "id": "bcjJIH_7djFF"
      },
      "source": [
        "# Clear the entire list\n",
        "fruitListCopy = fruitList.copy()\n",
        "print(fruitListCopy)\n",
        "fruitListCopy.clear()\n",
        "print(fruitListCopy)"
      ],
      "execution_count": null,
      "outputs": []
    },
    {
      "cell_type": "markdown",
      "metadata": {
        "id": "1DI1XH0kdwao"
      },
      "source": [
        "#### List operation - Looping though the list"
      ]
    },
    {
      "cell_type": "code",
      "metadata": {
        "id": "RZOORH1hd0-G"
      },
      "source": [
        "# Loop through the list by getting the item\n",
        "for item in fruitList:\n",
        "  print(item)"
      ],
      "execution_count": null,
      "outputs": []
    },
    {
      "cell_type": "code",
      "metadata": {
        "id": "DfY1-hy8eSLf"
      },
      "source": [
        "# Loop through the list by index value using range() and len()\n",
        "for index in range(len(fruitList)):\n",
        "  print(fruitList[index])"
      ],
      "execution_count": null,
      "outputs": []
    },
    {
      "cell_type": "code",
      "metadata": {
        "id": "cnpC3ETQemtz"
      },
      "source": [
        "# range function has start, end, step\n",
        "for index in range(0,6,2):\n",
        "  print(fruitList[index])"
      ],
      "execution_count": null,
      "outputs": []
    },
    {
      "cell_type": "code",
      "metadata": {
        "id": "G3DmzLfJfcSo"
      },
      "source": [
        "#Loop using while \n",
        "index =0\n",
        "while index < len(fruitList):\n",
        "  print(fruitList[index])\n",
        "  index+=1"
      ],
      "execution_count": null,
      "outputs": []
    },
    {
      "cell_type": "markdown",
      "metadata": {
        "id": "UBwK_SkTgrvz"
      },
      "source": [
        "##### List Comprehension\n"
      ]
    },
    {
      "cell_type": "code",
      "metadata": {
        "id": "QsuPMIy6f8w7"
      },
      "source": [
        "# Loop using List comprehension\n",
        "\n",
        "[item for item in fruitList] "
      ],
      "execution_count": null,
      "outputs": []
    },
    {
      "cell_type": "code",
      "metadata": {
        "id": "kDGveYt1g7tv"
      },
      "source": [
        "# Loop with condition\n",
        "\n",
        "[item for item in fruitList if item[0]>'c']  "
      ],
      "execution_count": null,
      "outputs": []
    },
    {
      "cell_type": "markdown",
      "metadata": {
        "id": "DPKcaF8zh0Lk"
      },
      "source": [
        "##### Using lambda"
      ]
    },
    {
      "cell_type": "code",
      "metadata": {
        "colab": {
          "base_uri": "https://localhost:8080/"
        },
        "id": "WJxl52tzhlPB",
        "outputId": "f0c63d9d-4063-4b58-c072-ad7343fcbf2e"
      },
      "source": [
        "# Use lambda to get entire list\n",
        "list(map(lambda x:x, fruitList))"
      ],
      "execution_count": 127,
      "outputs": [
        {
          "output_type": "execute_result",
          "data": {
            "text/plain": [
              "['apple', 'banana', 'cherry', 'mango', 'kiwi', 'orange', 'pineapple']"
            ]
          },
          "metadata": {},
          "execution_count": 127
        }
      ]
    },
    {
      "cell_type": "code",
      "metadata": {
        "colab": {
          "base_uri": "https://localhost:8080/"
        },
        "id": "B62Vwfwdh4Bw",
        "outputId": "6a14f3f3-7ee0-482d-acc5-7ef03de85a91"
      },
      "source": [
        "# Get list of boolean based on whether the item in the original list has first letter greater than c.\n",
        "list(map(lambda x:x[0]>'c', fruitList))"
      ],
      "execution_count": 129,
      "outputs": [
        {
          "output_type": "execute_result",
          "data": {
            "text/plain": [
              "[False, False, False, True, True, True, True]"
            ]
          },
          "metadata": {},
          "execution_count": 129
        }
      ]
    },
    {
      "cell_type": "code",
      "metadata": {
        "colab": {
          "base_uri": "https://localhost:8080/"
        },
        "id": "yJsIOzJAj8Oi",
        "outputId": "5ad74933-a305-404f-a8ac-fed381b5bd01"
      },
      "source": [
        "#Filter list of items having the first letter greater than c\n",
        "list(filter(lambda x:x[0]>'c', fruitList))"
      ],
      "execution_count": 130,
      "outputs": [
        {
          "output_type": "execute_result",
          "data": {
            "text/plain": [
              "['mango', 'kiwi', 'orange', 'pineapple']"
            ]
          },
          "metadata": {},
          "execution_count": 130
        }
      ]
    },
    {
      "cell_type": "markdown",
      "metadata": {
        "id": "TrgyKDuqkemc"
      },
      "source": [
        "##### Sort List"
      ]
    },
    {
      "cell_type": "code",
      "metadata": {
        "colab": {
          "base_uri": "https://localhost:8080/"
        },
        "id": "UXO7KrADkiCp",
        "outputId": "8e330bcb-0a96-4885-d361-600a11c12873"
      },
      "source": [
        "# Sort  list in ascending order\n",
        "\n",
        "fruitListCopy = fruitList.copy()\n",
        "print(fruitListCopy)\n",
        "fruitListCopy.sort()\n",
        "print(fruitListCopy)"
      ],
      "execution_count": 131,
      "outputs": [
        {
          "output_type": "stream",
          "name": "stdout",
          "text": [
            "['apple', 'banana', 'cherry', 'mango', 'kiwi', 'orange', 'pineapple']\n",
            "['apple', 'banana', 'cherry', 'kiwi', 'mango', 'orange', 'pineapple']\n"
          ]
        }
      ]
    },
    {
      "cell_type": "code",
      "metadata": {
        "colab": {
          "base_uri": "https://localhost:8080/"
        },
        "id": "Ro0fFr4Mk4yk",
        "outputId": "62da72bb-61f8-40c3-cf8b-310f87fc5b8e"
      },
      "source": [
        "# Sort  list in descending order\n",
        "\n",
        "fruitListCopy = fruitList.copy()\n",
        "print(fruitListCopy)\n",
        "fruitListCopy.sort(reverse=True)\n",
        "print(fruitListCopy)"
      ],
      "execution_count": 133,
      "outputs": [
        {
          "output_type": "stream",
          "name": "stdout",
          "text": [
            "['apple', 'banana', 'cherry', 'mango', 'kiwi', 'orange', 'pineapple']\n",
            "['pineapple', 'orange', 'mango', 'kiwi', 'cherry', 'banana', 'apple']\n"
          ]
        }
      ]
    },
    {
      "cell_type": "markdown",
      "metadata": {
        "id": "ft1zcaqOmnmM"
      },
      "source": [
        "##### Join List"
      ]
    },
    {
      "cell_type": "code",
      "metadata": {
        "colab": {
          "base_uri": "https://localhost:8080/"
        },
        "id": "MOozr4vTmq7w",
        "outputId": "2fd62c92-51ca-440f-984d-20d954b7030c"
      },
      "source": [
        "# Concatanate two list to create a bigger list \n",
        "\n",
        "costList = [10,7,8,9,5,9,10]\n",
        "fruitAndCostList = fruitList+costList\n",
        "print(fruitAndCostList)"
      ],
      "execution_count": 136,
      "outputs": [
        {
          "output_type": "stream",
          "name": "stdout",
          "text": [
            "['apple', 'banana', 'cherry', 'mango', 'kiwi', 'orange', 'pineapple', 10, 7, 8, 9, 5, 9, 10]\n"
          ]
        }
      ]
    },
    {
      "cell_type": "code",
      "metadata": {
        "colab": {
          "base_uri": "https://localhost:8080/"
        },
        "id": "H0e5Er-tnYgu",
        "outputId": "5054bcbc-f317-4582-d718-9c9c3eeb52e6"
      },
      "source": [
        "# Make a bigger list with two lists using extend rather than join\n",
        "\n",
        "fruitListCopy = fruitList.copy()\n",
        "fruitListCopy.extend([10,7,8,9,5,9,10])\n",
        "print(fruitListCopy)"
      ],
      "execution_count": 135,
      "outputs": [
        {
          "output_type": "stream",
          "name": "stdout",
          "text": [
            "['apple', 'banana', 'cherry', 'mango', 'kiwi', 'orange', 'pineapple', 10, 7, 8, 9, 5, 9, 10]\n"
          ]
        }
      ]
    },
    {
      "cell_type": "markdown",
      "metadata": {
        "id": "_2-Yunsmnzzn"
      },
      "source": [
        "##### Count"
      ]
    },
    {
      "cell_type": "code",
      "metadata": {
        "colab": {
          "base_uri": "https://localhost:8080/"
        },
        "id": "lHL3mx0cn1xW",
        "outputId": "68a7ec5f-7bc0-49d5-afee-e145ea45ba29"
      },
      "source": [
        "# Get number of occurrence of an item in a list \n",
        "\n",
        "costList = [10,7,8,9,5,9,10]\n",
        "print(costList.count(10))\n",
        "print(costList.count(9))\n",
        "print(costList.count(5))\n",
        "print(costList.count(11))"
      ],
      "execution_count": 141,
      "outputs": [
        {
          "output_type": "stream",
          "name": "stdout",
          "text": [
            "2\n",
            "2\n",
            "1\n",
            "0\n"
          ]
        }
      ]
    },
    {
      "cell_type": "markdown",
      "metadata": {
        "id": "VlfVlOLKoJPV"
      },
      "source": [
        "##### Reverse"
      ]
    },
    {
      "cell_type": "code",
      "metadata": {
        "colab": {
          "base_uri": "https://localhost:8080/"
        },
        "id": "Grkon7KYoMrL",
        "outputId": "6e9a67eb-4bb0-457b-bc84-f5cba016b616"
      },
      "source": [
        "# Reverse the items in a list\n",
        "\n",
        "fruitListCopy = fruitList.copy()\n",
        "print(fruitListCopy)\n",
        "fruitListCopy.reverse()\n",
        "print(fruitListCopy)"
      ],
      "execution_count": 142,
      "outputs": [
        {
          "output_type": "stream",
          "name": "stdout",
          "text": [
            "['apple', 'banana', 'cherry', 'mango', 'kiwi', 'orange', 'pineapple']\n",
            "['pineapple', 'orange', 'kiwi', 'mango', 'cherry', 'banana', 'apple']\n"
          ]
        }
      ]
    },
    {
      "cell_type": "markdown",
      "metadata": {
        "id": "FI2OBeARE8uM"
      },
      "source": [
        "### Sequence - Tuples"
      ]
    },
    {
      "cell_type": "markdown",
      "metadata": {
        "id": "ofmF4yvDg-Nz"
      },
      "source": [
        "##### A tuple is collection of ordered and immutable objects. It allows for duplicates."
      ]
    },
    {
      "cell_type": "code",
      "metadata": {
        "id": "NrbTWqT8D5CZ",
        "colab": {
          "base_uri": "https://localhost:8080/"
        },
        "outputId": "99a49a87-7084-402c-beb0-3a14817d77fc"
      },
      "source": [
        "personTuple = (13454,'John',23,'Manager','London')\n",
        "print(personTuple)"
      ],
      "execution_count": 143,
      "outputs": [
        {
          "output_type": "stream",
          "name": "stdout",
          "text": [
            "(13454, 'John', 23, 'Manager', 'London')\n"
          ]
        }
      ]
    },
    {
      "cell_type": "markdown",
      "metadata": {
        "id": "-06Ia1vMhrEo"
      },
      "source": [
        "##### Empty Tuple"
      ]
    },
    {
      "cell_type": "code",
      "metadata": {
        "colab": {
          "base_uri": "https://localhost:8080/"
        },
        "id": "unhf-uwse00X",
        "outputId": "45a7dc98-20ff-4498-e50e-a50352f600ac"
      },
      "source": [
        "emptyTuple = ()\n",
        "print(emptyTuple)"
      ],
      "execution_count": 145,
      "outputs": [
        {
          "output_type": "stream",
          "name": "stdout",
          "text": [
            "()\n"
          ]
        }
      ]
    },
    {
      "cell_type": "markdown",
      "metadata": {
        "id": "hEbREUeOh6dC"
      },
      "source": [
        "#### Tuple with single item. Do not forget the comma."
      ]
    },
    {
      "cell_type": "code",
      "metadata": {
        "colab": {
          "base_uri": "https://localhost:8080/"
        },
        "id": "YrZG_vmViDJH",
        "outputId": "93c8ab99-4727-4460-abb7-a8b612f34fad"
      },
      "source": [
        "singleTupleWrong = ('John')\n",
        "print(singleTupleWrong)\n",
        "print(type(singleTupleWrong))\n",
        "singleTupleWrong = (1)\n",
        "print(singleTupleWrong)\n",
        "print(type(singleTupleWrong))\n",
        "singleTupleWrong = (True)\n",
        "print(singleTupleWrong)\n",
        "print(type(singleTupleWrong))"
      ],
      "execution_count": 146,
      "outputs": [
        {
          "output_type": "stream",
          "name": "stdout",
          "text": [
            "John\n",
            "<class 'str'>\n",
            "1\n",
            "<class 'int'>\n",
            "True\n",
            "<class 'bool'>\n"
          ]
        }
      ]
    },
    {
      "cell_type": "code",
      "metadata": {
        "colab": {
          "base_uri": "https://localhost:8080/"
        },
        "id": "jdWgWNUyiovb",
        "outputId": "2e7a2e88-9f2b-4884-adff-1ca4c9a71194"
      },
      "source": [
        "singleTuple = ('John',)\n",
        "print(singleTuple)\n",
        "print(type(singleTuple))\n",
        "singleTuple = (1,)\n",
        "print(singleTuple)\n",
        "print(type(singleTuple))\n",
        "singleTuple = (True,)\n",
        "print(singleTuple)\n",
        "print(type(singleTuple))"
      ],
      "execution_count": 147,
      "outputs": [
        {
          "output_type": "stream",
          "name": "stdout",
          "text": [
            "('John',)\n",
            "<class 'tuple'>\n",
            "(1,)\n",
            "<class 'tuple'>\n",
            "(True,)\n",
            "<class 'tuple'>\n"
          ]
        }
      ]
    },
    {
      "cell_type": "markdown",
      "metadata": {
        "id": "Rn01rvo4i87W"
      },
      "source": [
        "#### Length of the Tuple"
      ]
    },
    {
      "cell_type": "code",
      "metadata": {
        "id": "zIcVdY6FjD39",
        "colab": {
          "base_uri": "https://localhost:8080/"
        },
        "outputId": "af24fa6b-41f9-4440-fc4b-579cbea79fd9"
      },
      "source": [
        "print(personTuple)\n",
        "print(len(personTuple))"
      ],
      "execution_count": 148,
      "outputs": [
        {
          "output_type": "stream",
          "name": "stdout",
          "text": [
            "(13454, 'John', 23, 'Manager', 'London')\n",
            "5\n"
          ]
        }
      ]
    },
    {
      "cell_type": "markdown",
      "metadata": {
        "id": "XUqv0fATjYt2"
      },
      "source": [
        "#### Tuple constructor"
      ]
    },
    {
      "cell_type": "code",
      "metadata": {
        "id": "BOXRGSIVjbwr",
        "colab": {
          "base_uri": "https://localhost:8080/"
        },
        "outputId": "137bae64-02fc-47e6-d94c-7c6efadabb51"
      },
      "source": [
        "constructorTuple = tuple((13454, 'John', 23, 'Manager', 'London'))\n",
        "print(constructorTuple)"
      ],
      "execution_count": 149,
      "outputs": [
        {
          "output_type": "stream",
          "name": "stdout",
          "text": [
            "(13454, 'John', 23, 'Manager', 'London')\n"
          ]
        }
      ]
    },
    {
      "cell_type": "code",
      "metadata": {
        "id": "U_rpqwYfjruP",
        "colab": {
          "base_uri": "https://localhost:8080/"
        },
        "outputId": "42362748-9e46-44ff-acee-1d492be608ab"
      },
      "source": [
        "constructorTuple2=tuple(personTuple)\n",
        "print(personTuple == constructorTuple)\n",
        "print(personTuple == constructorTuple2)\n",
        "print(constructorTuple == constructorTuple2)"
      ],
      "execution_count": 11,
      "outputs": [
        {
          "output_type": "stream",
          "name": "stdout",
          "text": [
            "True\n",
            "True\n",
            "True\n"
          ]
        }
      ]
    },
    {
      "cell_type": "markdown",
      "metadata": {
        "id": "jwCVhsUVATJY"
      },
      "source": [
        "##### Access Tuple Item using index "
      ]
    },
    {
      "cell_type": "code",
      "metadata": {
        "colab": {
          "base_uri": "https://localhost:8080/"
        },
        "id": "TKUlTz2jAIgx",
        "outputId": "161c5927-d6b5-4d7f-eb36-2f8262adb774"
      },
      "source": [
        "# Positive Indexing -from 0 to (length of tuple - 1) .\n",
        "# (13454, 'John', 23, 'Manager', 'London')\n",
        "\n",
        "length = len(personTuple)\n",
        "\n",
        "print(personTuple[0])\n",
        "print(personTuple[1])\n",
        "print(personTuple[length-2])\n",
        "print(personTuple[length-1])"
      ],
      "execution_count": 15,
      "outputs": [
        {
          "output_type": "stream",
          "name": "stdout",
          "text": [
            "13454\n",
            "John\n",
            "Manager\n",
            "London\n"
          ]
        }
      ]
    },
    {
      "cell_type": "code",
      "metadata": {
        "colab": {
          "base_uri": "https://localhost:8080/"
        },
        "id": "jKu4l6QvAdyr",
        "outputId": "0098460c-c8af-4ae2-f77c-d52f3b99029d"
      },
      "source": [
        "# Negative Indexing - from -(length of tuple) to -1.\n",
        "# (13454, 'John', 23, 'Manager', 'London')\n",
        "\n",
        "length = len(personTuple)\n",
        "\n",
        "print(personTuple[-length])\n",
        "print(personTuple[-length+1])\n",
        "print(personTuple[-2])\n",
        "print(personTuple[-1])\n"
      ],
      "execution_count": 14,
      "outputs": [
        {
          "output_type": "stream",
          "name": "stdout",
          "text": [
            "13454\n",
            "John\n",
            "Manager\n",
            "London\n"
          ]
        }
      ]
    },
    {
      "cell_type": "markdown",
      "metadata": {
        "id": "YyWTfCMiBz82"
      },
      "source": [
        "##### Get tuple slice by range of Index\n"
      ]
    },
    {
      "cell_type": "code",
      "metadata": {
        "colab": {
          "base_uri": "https://localhost:8080/"
        },
        "id": "dhQuz18DCAAm",
        "outputId": "17255354-d4ed-414a-e179-d893beb95741"
      },
      "source": [
        "# the range is defined using [start:end:step] Default value is [0:(length of tuple):1]\n",
        "# (13454, 'John', 23, 'Manager', 'London')\n",
        "\n",
        "length = len(personTuple)\n",
        "\n",
        "print(personTuple[0:length:1])\n"
      ],
      "execution_count": 150,
      "outputs": [
        {
          "output_type": "stream",
          "name": "stdout",
          "text": [
            "(13454, 'John', 23, 'Manager', 'London')\n"
          ]
        }
      ]
    },
    {
      "cell_type": "code",
      "metadata": {
        "colab": {
          "base_uri": "https://localhost:8080/"
        },
        "id": "ZYw06SBkDAL5",
        "outputId": "d09b173e-a252-40be-ad53-c7c8125591ac"
      },
      "source": [
        "# Tuple slice by Negative index. Getting entire tuple by explicitly using negative index is not possible\n",
        "# (13454, 'John', 23, 'Manager', 'London')\n",
        "\n",
        "length = len(personTuple)\n",
        "\n",
        "print(personTuple[-length:-1:1])"
      ],
      "execution_count": 151,
      "outputs": [
        {
          "output_type": "stream",
          "name": "stdout",
          "text": [
            "(13454, 'John', 23, 'Manager')\n"
          ]
        }
      ]
    },
    {
      "cell_type": "code",
      "metadata": {
        "colab": {
          "base_uri": "https://localhost:8080/"
        },
        "id": "jQ4tFgEEColi",
        "outputId": "e4040003-650c-49a3-d112-8f12ee19a68d"
      },
      "source": [
        "# Get entire tuple by using partial negative index\n",
        "\n",
        "\n",
        "length = len(personTuple)\n",
        "\n",
        "print(personTuple[-length::])"
      ],
      "execution_count": 152,
      "outputs": [
        {
          "output_type": "stream",
          "name": "stdout",
          "text": [
            "(13454, 'John', 23, 'Manager', 'London')\n"
          ]
        }
      ]
    },
    {
      "cell_type": "markdown",
      "metadata": {
        "id": "DtfllQU3ZdZ2"
      },
      "source": [
        "##### Check if an item exists in the tuple"
      ]
    },
    {
      "cell_type": "code",
      "metadata": {
        "colab": {
          "base_uri": "https://localhost:8080/"
        },
        "id": "YrWua-44ZOBD",
        "outputId": "90c9f04f-e782-454d-d287-48a2d60e9e67"
      },
      "source": [
        "# Check if the tuple has john's data\n",
        "if \"John\" in personTuple:\n",
        "  print(\"The tuple contains john's data\") \n",
        "else:\n",
        "  print(\"The tuple does not contain john's data\") "
      ],
      "execution_count": 158,
      "outputs": [
        {
          "output_type": "stream",
          "name": "stdout",
          "text": [
            "The tuple contains john's data\n"
          ]
        }
      ]
    },
    {
      "cell_type": "code",
      "metadata": {
        "colab": {
          "base_uri": "https://localhost:8080/"
        },
        "id": "6dxaJlGaaHjg",
        "outputId": "972923fd-b9ed-49fe-8fb2-a40b3b3c014b"
      },
      "source": [
        "# Check if the tuple has bob's data\n",
        "if \"Bob\" in personTuple:\n",
        "  print(\"The tuple contains bob's data\") \n",
        "else:\n",
        "  print(\"The tuple does not contain bob's data\") "
      ],
      "execution_count": 159,
      "outputs": [
        {
          "output_type": "stream",
          "name": "stdout",
          "text": [
            "The tuple does not contain bob's data\n"
          ]
        }
      ]
    },
    {
      "cell_type": "markdown",
      "metadata": {
        "id": "pgByilccbaFX"
      },
      "source": [
        "##### A Tuple is immutable"
      ]
    },
    {
      "cell_type": "code",
      "metadata": {
        "colab": {
          "base_uri": "https://localhost:8080/",
          "height": 185
        },
        "id": "PmTFfCV6aRxD",
        "outputId": "ee8ecf22-dcce-4728-8e5c-4ebd44c3d155"
      },
      "source": [
        "personTuple[1] = \"Bob\"\n",
        "print(personTuple)"
      ],
      "execution_count": 164,
      "outputs": [
        {
          "output_type": "error",
          "ename": "TypeError",
          "evalue": "ignored",
          "traceback": [
            "\u001b[0;31m---------------------------------------------------------------------------\u001b[0m",
            "\u001b[0;31mTypeError\u001b[0m                                 Traceback (most recent call last)",
            "\u001b[0;32m<ipython-input-164-8163347ef989>\u001b[0m in \u001b[0;36m<module>\u001b[0;34m()\u001b[0m\n\u001b[0;32m----> 1\u001b[0;31m \u001b[0mpersonTuple\u001b[0m\u001b[0;34m[\u001b[0m\u001b[0;36m1\u001b[0m\u001b[0;34m]\u001b[0m \u001b[0;34m=\u001b[0m \u001b[0;34m\"Bob\"\u001b[0m\u001b[0;34m\u001b[0m\u001b[0;34m\u001b[0m\u001b[0m\n\u001b[0m\u001b[1;32m      2\u001b[0m \u001b[0mprint\u001b[0m\u001b[0;34m(\u001b[0m\u001b[0mpersonTuple\u001b[0m\u001b[0;34m)\u001b[0m\u001b[0;34m\u001b[0m\u001b[0;34m\u001b[0m\u001b[0m\n",
            "\u001b[0;31mTypeError\u001b[0m: 'tuple' object does not support item assignment"
          ]
        }
      ]
    },
    {
      "cell_type": "markdown",
      "metadata": {
        "id": "XzADcuAkcntS"
      },
      "source": [
        "##### Update item value in a tuple"
      ]
    },
    {
      "cell_type": "code",
      "metadata": {
        "colab": {
          "base_uri": "https://localhost:8080/"
        },
        "id": "Cp7qtRK6cvY-",
        "outputId": "cd25e1e4-441d-481a-b0fe-9526386a8966"
      },
      "source": [
        "personTupleCopy = tuple(personTuple)\n",
        "\n",
        "print(personTupleCopy)\n",
        "\n",
        "personTupleToList = list(personTupleCopy)\n",
        "print(personTupleToList)\n",
        "personTupleToList[1] = \"Changed\"\n",
        "print(personTupleToList)\n",
        "personTupleCopy = tuple(personTupleToList)\n",
        "print(personTupleCopy)"
      ],
      "execution_count": 166,
      "outputs": [
        {
          "output_type": "stream",
          "name": "stdout",
          "text": [
            "(13454, 'John', 23, 'Manager', 'London')\n",
            "[13454, 'John', 23, 'Manager', 'London']\n",
            "[13454, 'Changed', 23, 'Manager', 'London']\n",
            "(13454, 'Changed', 23, 'Manager', 'London')\n"
          ]
        }
      ]
    },
    {
      "cell_type": "markdown",
      "metadata": {
        "id": "VR1MvOiPeCPU"
      },
      "source": [
        "##### Unpack a tuple"
      ]
    },
    {
      "cell_type": "code",
      "metadata": {
        "colab": {
          "base_uri": "https://localhost:8080/"
        },
        "id": "JWv2h8xXddoW",
        "outputId": "8beefb35-1cfe-47d1-d10e-8a8e977104e4"
      },
      "source": [
        "print(personTuple)\n",
        "(id,name,age,designation, location) = personTuple\n",
        "print(id)\n",
        "print(name)\n",
        "print(age)\n",
        "print(designation)\n",
        "print(location)"
      ],
      "execution_count": 167,
      "outputs": [
        {
          "output_type": "stream",
          "name": "stdout",
          "text": [
            "(13454, 'John', 23, 'Manager', 'London')\n",
            "13454\n",
            "John\n",
            "23\n",
            "Manager\n",
            "London\n"
          ]
        }
      ]
    },
    {
      "cell_type": "code",
      "metadata": {
        "colab": {
          "base_uri": "https://localhost:8080/"
        },
        "id": "fIwhsxrUelfY",
        "outputId": "a440a4ae-ee2b-44f3-b7ab-8423e678d82e"
      },
      "source": [
        "print(personTuple)\n",
        "(*personalDetails,designation, location) = personTuple\n",
        "print(personalDetails)\n",
        "print(designation)\n",
        "print(location)"
      ],
      "execution_count": 169,
      "outputs": [
        {
          "output_type": "stream",
          "name": "stdout",
          "text": [
            "(13454, 'John', 23, 'Manager', 'London')\n",
            "[13454, 'John', 23]\n",
            "Manager\n",
            "London\n"
          ]
        }
      ]
    },
    {
      "cell_type": "markdown",
      "metadata": {
        "id": "vEYumceufPkN"
      },
      "source": [
        "##### Loop through Tuple"
      ]
    },
    {
      "cell_type": "code",
      "metadata": {
        "colab": {
          "base_uri": "https://localhost:8080/"
        },
        "id": "Hp-AY53Xey9N",
        "outputId": "7cafad38-e02e-470a-88ee-3be5fa248af3"
      },
      "source": [
        "# Loop using for \n",
        "\n",
        "for detail in personTuple:\n",
        "  print(detail)"
      ],
      "execution_count": 170,
      "outputs": [
        {
          "output_type": "stream",
          "name": "stdout",
          "text": [
            "13454\n",
            "John\n",
            "23\n",
            "Manager\n",
            "London\n"
          ]
        }
      ]
    },
    {
      "cell_type": "code",
      "metadata": {
        "colab": {
          "base_uri": "https://localhost:8080/"
        },
        "id": "rMuSH6Blfcui",
        "outputId": "38949913-3291-461d-a678-15277f7de9b2"
      },
      "source": [
        "#Loop with index using range() and len()\n",
        "\n",
        "for i in range(len(personTuple)):\n",
        "  print(personTuple[i])"
      ],
      "execution_count": 171,
      "outputs": [
        {
          "output_type": "stream",
          "name": "stdout",
          "text": [
            "13454\n",
            "John\n",
            "23\n",
            "Manager\n",
            "London\n"
          ]
        }
      ]
    },
    {
      "cell_type": "code",
      "metadata": {
        "colab": {
          "base_uri": "https://localhost:8080/"
        },
        "id": "E5dE395kf3Lg",
        "outputId": "d95b3e88-c64e-4c13-ba2e-55ec0a91ffd6"
      },
      "source": [
        "# Using while loop\n",
        "\n",
        "i=0\n",
        "while i<len(personTuple):\n",
        "  print(personTuple[i])\n",
        "  i=i+1"
      ],
      "execution_count": 172,
      "outputs": [
        {
          "output_type": "stream",
          "name": "stdout",
          "text": [
            "13454\n",
            "John\n",
            "23\n",
            "Manager\n",
            "London\n"
          ]
        }
      ]
    },
    {
      "cell_type": "markdown",
      "metadata": {
        "id": "usmgQ7_MgeSR"
      },
      "source": [
        "##### Join Tuples"
      ]
    },
    {
      "cell_type": "code",
      "metadata": {
        "colab": {
          "base_uri": "https://localhost:8080/"
        },
        "id": "-VZGXlFkgRm6",
        "outputId": "1b4d2867-ec39-4559-a711-0e17ae1dff9c"
      },
      "source": [
        "addressTuple = (\"Address line1\",\"Address line2\", 101101)\n",
        "newTuple = personTuple + addressTuple\n",
        "print(newTuple)"
      ],
      "execution_count": 173,
      "outputs": [
        {
          "output_type": "stream",
          "name": "stdout",
          "text": [
            "(13454, 'John', 23, 'Manager', 'London', 'Address line1', 'Address line2', 101101)\n"
          ]
        }
      ]
    },
    {
      "cell_type": "markdown",
      "metadata": {
        "id": "ERmiVunBiCk7"
      },
      "source": [
        "##### Multiply content of a Tuple by number of times"
      ]
    },
    {
      "cell_type": "code",
      "metadata": {
        "colab": {
          "base_uri": "https://localhost:8080/"
        },
        "id": "pzuPJuK9hSR7",
        "outputId": "d6f7701d-9387-4014-aed0-929930681fe1"
      },
      "source": [
        "fruits = (\"apple\", \"banana\", \"cherry\")\n",
        "mytuple = fruits * 2\n",
        "\n",
        "print(mytuple) "
      ],
      "execution_count": 177,
      "outputs": [
        {
          "output_type": "stream",
          "name": "stdout",
          "text": [
            "('apple', 'banana', 'cherry', 'apple', 'banana', 'cherry')\n"
          ]
        }
      ]
    },
    {
      "cell_type": "markdown",
      "metadata": {
        "id": "FIHxMR7ckS9s"
      },
      "source": [
        "##### Count - count number of occurrence of an item in the Tuple"
      ]
    },
    {
      "cell_type": "code",
      "metadata": {
        "id": "0TC1v0Cfjj9z",
        "outputId": "bd1f4113-2ba4-4bbc-ba73-241c8ce609dc",
        "colab": {
          "base_uri": "https://localhost:8080/"
        }
      },
      "source": [
        "fruits = (\"apple\", \"banana\", \"cherry\", \"banana\", \"cherry\", \"cherry\")\n",
        "print(fruits.count(\"apple\"))\n",
        "print(fruits.count(\"banana\"))\n",
        "print(fruits.count(\"cherry\"))"
      ],
      "execution_count": 176,
      "outputs": [
        {
          "output_type": "stream",
          "name": "stdout",
          "text": [
            "1\n",
            "2\n",
            "3\n"
          ]
        }
      ]
    },
    {
      "cell_type": "markdown",
      "metadata": {
        "id": "qOPKqgEllAyC"
      },
      "source": [
        "##### Get index of an item in an Tuple"
      ]
    },
    {
      "cell_type": "code",
      "metadata": {
        "id": "0iCMawPRkw9C",
        "outputId": "e64c0745-4aca-42a4-cf2d-78070abe727d",
        "colab": {
          "base_uri": "https://localhost:8080/"
        }
      },
      "source": [
        "fruits = (\"apple\", \"banana\", \"cherry\")\n",
        "print(fruits.index(\"apple\"))\n",
        "print(fruits.index(\"banana\"))\n",
        "print(fruits.index(\"cherry\"))"
      ],
      "execution_count": 181,
      "outputs": [
        {
          "output_type": "stream",
          "name": "stdout",
          "text": [
            "0\n",
            "1\n",
            "2\n"
          ]
        }
      ]
    },
    {
      "cell_type": "markdown",
      "metadata": {
        "id": "r3FL5fm5ljwb"
      },
      "source": [
        "##### Trying to get an index of an non existent item"
      ]
    },
    {
      "cell_type": "code",
      "metadata": {
        "id": "awfjOsSIlVor",
        "outputId": "da2faa37-2013-440c-b80d-32d019957136",
        "colab": {
          "base_uri": "https://localhost:8080/",
          "height": 185
        }
      },
      "source": [
        "fruits = (\"apple\", \"banana\", \"cherry\")\n",
        "print(fruits.index(\"melon\"))"
      ],
      "execution_count": 182,
      "outputs": [
        {
          "output_type": "error",
          "ename": "ValueError",
          "evalue": "ignored",
          "traceback": [
            "\u001b[0;31m---------------------------------------------------------------------------\u001b[0m",
            "\u001b[0;31mValueError\u001b[0m                                Traceback (most recent call last)",
            "\u001b[0;32m<ipython-input-182-27dd2471aa09>\u001b[0m in \u001b[0;36m<module>\u001b[0;34m()\u001b[0m\n\u001b[1;32m      1\u001b[0m \u001b[0mfruits\u001b[0m \u001b[0;34m=\u001b[0m \u001b[0;34m(\u001b[0m\u001b[0;34m\"apple\"\u001b[0m\u001b[0;34m,\u001b[0m \u001b[0;34m\"banana\"\u001b[0m\u001b[0;34m,\u001b[0m \u001b[0;34m\"cherry\"\u001b[0m\u001b[0;34m)\u001b[0m\u001b[0;34m\u001b[0m\u001b[0;34m\u001b[0m\u001b[0m\n\u001b[0;32m----> 2\u001b[0;31m \u001b[0mprint\u001b[0m\u001b[0;34m(\u001b[0m\u001b[0mfruits\u001b[0m\u001b[0;34m.\u001b[0m\u001b[0mindex\u001b[0m\u001b[0;34m(\u001b[0m\u001b[0;34m\"melon\"\u001b[0m\u001b[0;34m)\u001b[0m\u001b[0;34m)\u001b[0m\u001b[0;34m\u001b[0m\u001b[0;34m\u001b[0m\u001b[0m\n\u001b[0m",
            "\u001b[0;31mValueError\u001b[0m: tuple.index(x): x not in tuple"
          ]
        }
      ]
    },
    {
      "cell_type": "code",
      "metadata": {
        "id": "ip2QbXNllwId"
      },
      "source": [
        ""
      ],
      "execution_count": null,
      "outputs": []
    }
  ]
}