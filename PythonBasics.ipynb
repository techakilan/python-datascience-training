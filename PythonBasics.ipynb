{
  "nbformat": 4,
  "nbformat_minor": 0,
  "metadata": {
    "colab": {
      "name": "PythonBasics.ipynb",
      "provenance": [],
      "collapsed_sections": [],
      "authorship_tag": "ABX9TyP2B/GALMJ3F0LZWfAluBSZ",
      "include_colab_link": true
    },
    "kernelspec": {
      "name": "python3",
      "display_name": "Python 3"
    },
    "language_info": {
      "name": "python"
    }
  },
  "cells": [
    {
      "cell_type": "markdown",
      "metadata": {
        "id": "view-in-github",
        "colab_type": "text"
      },
      "source": [
        "<a href=\"https://colab.research.google.com/github/techakilan/python-datascience-training/blob/master/PythonBasics.ipynb\" target=\"_parent\"><img src=\"https://colab.research.google.com/assets/colab-badge.svg\" alt=\"Open In Colab\"/></a>"
      ]
    },
    {
      "cell_type": "markdown",
      "metadata": {
        "id": "DkHJAYK08L1l"
      },
      "source": [
        "## Covered Topics\n",
        "\n",
        "Data Types\n",
        "\n",
        "*   Data Types - int, float, complex, string etc\n",
        "*   Sequences - List, Tuple, Set\n",
        "\n",
        "\n"
      ]
    },
    {
      "cell_type": "markdown",
      "metadata": {
        "id": "dlwB1oURVTQp"
      },
      "source": [
        "### Hello world Example"
      ]
    },
    {
      "cell_type": "code",
      "metadata": {
        "id": "Xy1WEucrVG08"
      },
      "source": [
        "print(\"Hello, World!\")"
      ],
      "execution_count": null,
      "outputs": []
    },
    {
      "cell_type": "markdown",
      "metadata": {
        "id": "9bfAmdNwVxzf"
      },
      "source": [
        "## Variables"
      ]
    },
    {
      "cell_type": "code",
      "metadata": {
        "id": "LXc-hYPKV0sC"
      },
      "source": [
        "x=5\n",
        "y=7"
      ],
      "execution_count": null,
      "outputs": []
    },
    {
      "cell_type": "code",
      "metadata": {
        "id": "Xx2CVcUhV_MV"
      },
      "source": [
        "print(x)\n",
        "x"
      ],
      "execution_count": null,
      "outputs": []
    },
    {
      "cell_type": "markdown",
      "metadata": {
        "id": "390jUKiAx8xF"
      },
      "source": [
        ""
      ]
    },
    {
      "cell_type": "code",
      "metadata": {
        "id": "dT_8kjcvWmQZ"
      },
      "source": [
        "type(x)"
      ],
      "execution_count": null,
      "outputs": []
    },
    {
      "cell_type": "markdown",
      "metadata": {
        "id": "rX1crBq1Wx3_"
      },
      "source": [
        "## Simple Data types\n",
        "\n",
        "variables do not have explicit data type as python associates types with values.\n",
        "So x = 8 works. But int x = 8 will throw syntax error. However we may use type hinting using x:int = 8 which is same as x = 8"
      ]
    },
    {
      "cell_type": "markdown",
      "metadata": {
        "id": "WeUvO71yW246"
      },
      "source": [
        "#### Int (Numeric)\n",
        "\n"
      ]
    },
    {
      "cell_type": "code",
      "metadata": {
        "id": "i7un1Tp7W04h"
      },
      "source": [
        "x:int = 8\n",
        "y=8\n",
        "print(type(x))\n",
        "print(type(y))"
      ],
      "execution_count": null,
      "outputs": []
    },
    {
      "cell_type": "markdown",
      "metadata": {
        "id": "aciShRYAYsOV"
      },
      "source": [
        "#### Float(Numeric)"
      ]
    },
    {
      "cell_type": "code",
      "metadata": {
        "id": "4bAY0MnPY5Cz"
      },
      "source": [
        "x=8.8\n",
        "print(type(x))"
      ],
      "execution_count": null,
      "outputs": []
    },
    {
      "cell_type": "markdown",
      "metadata": {
        "id": "rOiCmg55ZA6T"
      },
      "source": [
        "#### Complex numbers(Numeric)"
      ]
    },
    {
      "cell_type": "code",
      "metadata": {
        "id": "KS5jTw3bZMMK"
      },
      "source": [
        "c1 = complex(2,3)\n",
        "print(c1)\n",
        "print(type(c1))"
      ],
      "execution_count": null,
      "outputs": []
    },
    {
      "cell_type": "markdown",
      "metadata": {
        "id": "xRFF8ucIyUZa"
      },
      "source": [
        "#### Boolean data type"
      ]
    },
    {
      "cell_type": "code",
      "metadata": {
        "id": "kLKShl_3yf3U"
      },
      "source": [
        "x= True\n",
        "y= False\n",
        "print(x)\n",
        "print(y)"
      ],
      "execution_count": null,
      "outputs": []
    },
    {
      "cell_type": "code",
      "metadata": {
        "id": "09dazpWNyykM"
      },
      "source": [
        "print(1==1)\n",
        "print(1>2)\n",
        "print(1<2)"
      ],
      "execution_count": null,
      "outputs": []
    },
    {
      "cell_type": "markdown",
      "metadata": {
        "id": "mA7HegTf0W18"
      },
      "source": [
        "### String data type"
      ]
    },
    {
      "cell_type": "code",
      "metadata": {
        "id": "eqZh_DkA0iDy"
      },
      "source": [
        "txt1 = \"cats rule the world\"\n",
        "print(txt1)\n",
        "print(type(txt1))"
      ],
      "execution_count": null,
      "outputs": []
    },
    {
      "cell_type": "code",
      "metadata": {
        "id": "EqTf-N5E0Y_y"
      },
      "source": [
        "\n",
        "txt2 = 'cats rule the world'\n",
        "print(txt2)\n",
        "print(type(txt2))"
      ],
      "execution_count": null,
      "outputs": []
    },
    {
      "cell_type": "code",
      "metadata": {
        "id": "G7N4dhzv0vvR"
      },
      "source": [
        "print(txt1==txt2)"
      ],
      "execution_count": null,
      "outputs": []
    },
    {
      "cell_type": "markdown",
      "metadata": {
        "id": "TpglKuvDWJue"
      },
      "source": [
        "## Type casting"
      ]
    },
    {
      "cell_type": "markdown",
      "metadata": {
        "id": "3W7wyl-QaRWG"
      },
      "source": [
        "### Int to String"
      ]
    },
    {
      "cell_type": "code",
      "metadata": {
        "id": "a4AHazF9WMrf"
      },
      "source": [
        "num=8\n",
        "txt = str(num)\n",
        "print(txt)\n",
        "print(type(num))\n",
        "print(type(txt))\n",
        "\n",
        "\n"
      ],
      "execution_count": null,
      "outputs": []
    },
    {
      "cell_type": "code",
      "metadata": {
        "id": "LbLC33lBa5Qs"
      },
      "source": [
        "num=8\n",
        "txt = \"cats rule the world\"\n",
        "print(num+\" \"+txt)"
      ],
      "execution_count": null,
      "outputs": []
    },
    {
      "cell_type": "code",
      "metadata": {
        "id": "eFBiOaSMbOTW"
      },
      "source": [
        "num=8\n",
        "txt = \"cats rule the world\"\n",
        "print(str(num)+\" \"+txt)"
      ],
      "execution_count": null,
      "outputs": []
    },
    {
      "cell_type": "markdown",
      "metadata": {
        "id": "6UhKMvX9uWQL"
      },
      "source": [
        "### Float to String"
      ]
    },
    {
      "cell_type": "code",
      "metadata": {
        "id": "4ssWYGm8uAsW"
      },
      "source": [
        "num = 8.2\n",
        "print(str(num))\n",
        "print(type(str(num)))"
      ],
      "execution_count": null,
      "outputs": []
    },
    {
      "cell_type": "markdown",
      "metadata": {
        "id": "AfjNhVlguY_w"
      },
      "source": [
        "### Complex to string"
      ]
    },
    {
      "cell_type": "code",
      "metadata": {
        "id": "wcFhLjDpudSU"
      },
      "source": [
        "c1 = complex(3,4)\n",
        "print(str(c1))"
      ],
      "execution_count": null,
      "outputs": []
    },
    {
      "cell_type": "markdown",
      "metadata": {
        "id": "eyFdmwZjztaa"
      },
      "source": [
        "### String to Int"
      ]
    },
    {
      "cell_type": "code",
      "metadata": {
        "id": "X_TNdg4Tzwul"
      },
      "source": [
        "txt = \"cats rule the world\"\n",
        "print(int(txt))"
      ],
      "execution_count": null,
      "outputs": []
    },
    {
      "cell_type": "code",
      "metadata": {
        "id": "YydWCoem0TLh"
      },
      "source": [
        "raw_user_age = input(\"What is your age?\")\n",
        "user_age = int(raw_user_age)\n",
        "print(user_age)"
      ],
      "execution_count": null,
      "outputs": []
    },
    {
      "cell_type": "code",
      "metadata": {
        "id": "fCj8g9ZI10_n"
      },
      "source": [
        "print(type(raw_user_age))\n",
        "print(type(int(raw_user_age)))"
      ],
      "execution_count": null,
      "outputs": []
    },
    {
      "cell_type": "markdown",
      "metadata": {
        "id": "WqypBtAc2Y5w"
      },
      "source": [
        "### String to Float"
      ]
    },
    {
      "cell_type": "code",
      "metadata": {
        "id": "xVk2rqx92bH3"
      },
      "source": [
        "txtFloat = \"8.2\"\n",
        "print(type(txtFloat))\n",
        "print(type(float(txtFloat)))\n"
      ],
      "execution_count": null,
      "outputs": []
    },
    {
      "cell_type": "markdown",
      "metadata": {
        "id": "NqqBnqob2vPj"
      },
      "source": [
        "### String to Complex"
      ]
    },
    {
      "cell_type": "code",
      "metadata": {
        "id": "l1jF9T92216-"
      },
      "source": [
        "txtComplex=\"(3+4j)\"\n",
        "print(type(txtComplex))\n",
        "print(type(complex(c1)))"
      ],
      "execution_count": null,
      "outputs": []
    },
    {
      "cell_type": "markdown",
      "metadata": {
        "id": "5QfWWriuxADR"
      },
      "source": [
        "## Data types continued..."
      ]
    },
    {
      "cell_type": "markdown",
      "metadata": {
        "id": "tksgS2CW4BFf"
      },
      "source": [
        "### Sequence - List\n",
        "##### ORDERED, ALLOW DUPLICATES, MUTABLE"
      ]
    },
    {
      "cell_type": "code",
      "metadata": {
        "colab": {
          "base_uri": "https://localhost:8080/"
        },
        "id": "G7BGha793-49",
        "outputId": "4bb77496-0528-43e9-ac82-5ff3428e3194"
      },
      "source": [
        "# List of Strings\n",
        "fruitList = [\"apple\", \"banana\", \"cherry\",\"mango\",\"kiwi\",\"orange\",\"pineapple\"]\n",
        "print(fruitList)\n",
        "print(type(fruitList))\n",
        "print(type(fruitList[0]))"
      ],
      "execution_count": 86,
      "outputs": [
        {
          "output_type": "stream",
          "name": "stdout",
          "text": [
            "['apple', 'banana', 'cherry', 'mango', 'kiwi', 'orange', 'pineapple']\n",
            "<class 'list'>\n",
            "<class 'str'>\n"
          ]
        }
      ]
    },
    {
      "cell_type": "code",
      "metadata": {
        "id": "joete07o4s0Q"
      },
      "source": [
        "# List with mixed type\n",
        "\n",
        "mixedList = [\"apple\", 1]\n",
        "print(type(mixedList[0]))\n",
        "print(type(mixedList[1]))"
      ],
      "execution_count": null,
      "outputs": []
    },
    {
      "cell_type": "markdown",
      "metadata": {
        "id": "EqkYSiLS5to9"
      },
      "source": [
        "#### List Constructor"
      ]
    },
    {
      "cell_type": "code",
      "metadata": {
        "colab": {
          "base_uri": "https://localhost:8080/"
        },
        "id": "hBQwtMF-5v05",
        "outputId": "3b081d31-5e6d-4a90-d39e-102a401dea5b"
      },
      "source": [
        "# construct from list\n",
        "fruitsConstructor = list([\"apple\", \"banana\", \"cherry\"])\n",
        "print(fruitsConstructor)\n",
        "print(type(fruitsConstructor))"
      ],
      "execution_count": 194,
      "outputs": [
        {
          "output_type": "stream",
          "name": "stdout",
          "text": [
            "['apple', 'banana', 'cherry']\n",
            "<class 'list'>\n"
          ]
        }
      ]
    },
    {
      "cell_type": "code",
      "metadata": {
        "id": "lMYaPyiVtKCk",
        "outputId": "8b25bec1-af29-4630-923c-18c6e8167b26",
        "colab": {
          "base_uri": "https://localhost:8080/"
        }
      },
      "source": [
        "# construct from tuple\n",
        "fruitsConstructor = list((\"apple\", \"banana\", \"cherry\"))\n",
        "print(fruitsConstructor)\n",
        "print(type(fruitsConstructor))"
      ],
      "execution_count": 195,
      "outputs": [
        {
          "output_type": "stream",
          "name": "stdout",
          "text": [
            "['apple', 'banana', 'cherry']\n",
            "<class 'list'>\n"
          ]
        }
      ]
    },
    {
      "cell_type": "code",
      "metadata": {
        "id": "myzUkpdktgAP",
        "outputId": "29d858de-1870-4f28-8242-601f956e2268",
        "colab": {
          "base_uri": "https://localhost:8080/"
        }
      },
      "source": [
        "# construct from set\n",
        "fruitsConstructor = list({\"apple\", \"banana\", \"cherry\"})\n",
        "print(fruitsConstructor)\n",
        "print(type(fruitsConstructor))"
      ],
      "execution_count": 196,
      "outputs": [
        {
          "output_type": "stream",
          "name": "stdout",
          "text": [
            "['banana', 'cherry', 'apple']\n",
            "<class 'list'>\n"
          ]
        }
      ]
    },
    {
      "cell_type": "markdown",
      "metadata": {
        "id": "z3avA6ZU5JnH"
      },
      "source": [
        "#### List operations - Length"
      ]
    },
    {
      "cell_type": "code",
      "metadata": {
        "id": "y5amItsS5Ry9"
      },
      "source": [
        "print(len(fruitList))\n",
        "print(len(mixedList))"
      ],
      "execution_count": null,
      "outputs": []
    },
    {
      "cell_type": "markdown",
      "metadata": {
        "id": "DHtYfabh5hfj"
      },
      "source": [
        "#### List operation - Access list item"
      ]
    },
    {
      "cell_type": "code",
      "metadata": {
        "colab": {
          "base_uri": "https://localhost:8080/"
        },
        "id": "qKZs9QfC6bsw",
        "outputId": "a5c92311-38c8-407d-c81b-0a659ee1b50c"
      },
      "source": [
        "# Positive Indexing [Index starts from 0 to (length of the list - 1)]\n",
        "# [\"apple\", \"banana\", \"cherry\",\"mango\",\"kiwi\",\"orange\",\"pineapple\"]\n",
        "\n",
        "print(fruitList[0])"
      ],
      "execution_count": 87,
      "outputs": [
        {
          "output_type": "stream",
          "name": "stdout",
          "text": [
            "apple\n"
          ]
        }
      ]
    },
    {
      "cell_type": "code",
      "metadata": {
        "colab": {
          "base_uri": "https://localhost:8080/"
        },
        "id": "BuSb7XrN6tZ3",
        "outputId": "841fc260-48aa-4b8f-9e63-eaa22bc7dff2"
      },
      "source": [
        "# Positive Indexing\n",
        "# ['apple', 'banana', 'cherry', 'mango', 'kiwi', 'orange', 'pineapple']\n",
        "\n",
        "print(fruitList[1])"
      ],
      "execution_count": 89,
      "outputs": [
        {
          "output_type": "stream",
          "name": "stdout",
          "text": [
            "banana\n"
          ]
        }
      ]
    },
    {
      "cell_type": "code",
      "metadata": {
        "colab": {
          "base_uri": "https://localhost:8080/"
        },
        "id": "qhw_K7-s8VgR",
        "outputId": "9f61898d-7895-444f-a8d3-4aa472d2f244"
      },
      "source": [
        "# ['apple', 'banana', 'cherry', 'mango', 'kiwi', 'orange', 'pineapple']\n",
        "\n",
        "length = len(fruitList)\n",
        "print(\"Length of list: \"+str(length))\n",
        "print(\"last item using[length-1]: \"+fruitList[length-1])\n",
        "print(\"last item using[6]: \"+fruitList[6])"
      ],
      "execution_count": 106,
      "outputs": [
        {
          "output_type": "stream",
          "name": "stdout",
          "text": [
            "Length of list: 7\n",
            "last item using[length-1]: pineapple\n",
            "last item using[6]: pineapple\n"
          ]
        }
      ]
    },
    {
      "cell_type": "code",
      "metadata": {
        "colab": {
          "base_uri": "https://localhost:8080/"
        },
        "id": "8VNeTw2o63DE",
        "outputId": "722f2298-4aa0-43c9-b5ab-c06b6b8c7705"
      },
      "source": [
        "# Negative Indexing [index starts from -1 to length of the list]\n",
        "# [\"apple\", \"banana\", \"cherry\",\"mango\",\"kiwi\",\"orange\",\"pineapple\"]\n",
        "\n",
        "print(\"last item using[-1]: \"+fruitList[-1])"
      ],
      "execution_count": 107,
      "outputs": [
        {
          "output_type": "stream",
          "name": "stdout",
          "text": [
            "last item using[-1]: pineapple\n"
          ]
        }
      ]
    },
    {
      "cell_type": "code",
      "metadata": {
        "colab": {
          "base_uri": "https://localhost:8080/"
        },
        "id": "7GTnwuBd8lmS",
        "outputId": "28973f50-baf5-4376-d182-15e7c5760900"
      },
      "source": [
        "# Negative Indexing\n",
        "# [\"apple\", \"banana\", \"cherry\",\"mango\",\"kiwi\",\"orange\",\"pineapple\"]\n",
        "\n",
        "length = len(fruitList)\n",
        "print(length)\n",
        "print(\"first item using [-length]: \"+fruitList[-length])\n",
        "print(\"first item using [-7] \"+fruitList[-7])"
      ],
      "execution_count": 108,
      "outputs": [
        {
          "output_type": "stream",
          "name": "stdout",
          "text": [
            "7\n",
            "first item using [-length]: apple\n",
            "first item using [-7] apple\n"
          ]
        }
      ]
    },
    {
      "cell_type": "markdown",
      "metadata": {
        "id": "Lfr9t4v93YFR"
      },
      "source": [
        "[start,end,step]"
      ]
    },
    {
      "cell_type": "code",
      "metadata": {
        "colab": {
          "base_uri": "https://localhost:8080/"
        },
        "id": "dB5NQFiXAUYY",
        "outputId": "8616dc83-a356-4c83-c5e7-16786aff5b0d"
      },
      "source": [
        "# Default values for Range of Index\n",
        "# [\"apple\", \"banana\", \"cherry\",\"mango\",\"kiwi\",\"orange\",\"pineapple\"]\n",
        "start=0\n",
        "length= len(fruitList)\n",
        "step=1\n",
        "print(\"start =\", start)\n",
        "print(\"length =\", length)\n",
        "print(\"step =\", step)\n",
        "print(type(start))\n",
        "print(type(length))\n",
        "print(type(step))\n",
        "print(\" \")\n",
        "print(\"list original\")\n",
        "print(fruitList)\n",
        "print(\" \")\n",
        "print(\"list using [start:length:step]: \")\n",
        "print(fruitList[start:length:step])\n",
        "print(\" \")\n",
        "print(\"list using [0:7:1]:\")\n",
        "print(fruitList[0:7:1])"
      ],
      "execution_count": 117,
      "outputs": [
        {
          "output_type": "stream",
          "name": "stdout",
          "text": [
            "start = 0\n",
            "length = 7\n",
            "step = 1\n",
            "<class 'int'>\n",
            "<class 'int'>\n",
            "<class 'int'>\n",
            " \n",
            "list original\n",
            "['apple', 'banana', 'cherry', 'mango', 'kiwi', 'orange', 'pineapple']\n",
            " \n",
            "list using [start:length:step]: \n",
            "['apple', 'banana', 'cherry', 'mango', 'kiwi', 'orange', 'pineapple']\n",
            " \n",
            "list using [0:7:1]:\n",
            "['apple', 'banana', 'cherry', 'mango', 'kiwi', 'orange', 'pineapple']\n"
          ]
        }
      ]
    },
    {
      "cell_type": "code",
      "metadata": {
        "colab": {
          "base_uri": "https://localhost:8080/"
        },
        "id": "GZ3A4E0DPgPs",
        "outputId": "24df0b56-2b2e-4bb0-d26f-868b8daecd49"
      },
      "source": [
        "# Entire list using negative range of index with explicit values is not possble.\n",
        "# [\"apple\", \"banana\", \"cherry\",\"mango\",\"kiwi\",\"orange\",\"pineapple\"]\n",
        "\n",
        "length= len(fruitList)\n",
        "end = -1\n",
        "step=1\n",
        "print(\"start =\", -length)\n",
        "print(\"end =\", end)\n",
        "print(\"step =\", step)\n",
        "print(type(start))\n",
        "print(type(length))\n",
        "print(type(step))\n",
        "print(\" \")\n",
        "print(\"list original\")\n",
        "print(fruitList)\n",
        "print(\" \")\n",
        "print(\"list using [start:end:step]: \")\n",
        "print(fruitList[start:end:step])\n",
        "print(\" \")\n",
        "print(\"list using [-7:-1:1]:\")\n",
        "print(fruitList[-7:-1:1])\n",
        "print(\" \")\n",
        "print(\"list using [-7:0:1]:\")\n",
        "print(fruitList[-7:0:1])\n"
      ],
      "execution_count": 119,
      "outputs": [
        {
          "output_type": "stream",
          "name": "stdout",
          "text": [
            "start = -7\n",
            "end = -1\n",
            "step = 1\n",
            "<class 'int'>\n",
            "<class 'int'>\n",
            "<class 'int'>\n",
            " \n",
            "list original\n",
            "['apple', 'banana', 'cherry', 'mango', 'kiwi', 'orange', 'pineapple']\n",
            " \n",
            "list using [start:end:step]: \n",
            "['apple', 'banana', 'cherry', 'mango', 'kiwi', 'orange']\n",
            " \n",
            "list using [-7:-1:1]:\n",
            "['apple', 'banana', 'cherry', 'mango', 'kiwi', 'orange']\n",
            " \n",
            "list using [-7:0:1]:\n",
            "[]\n"
          ]
        }
      ]
    },
    {
      "cell_type": "code",
      "metadata": {
        "colab": {
          "base_uri": "https://localhost:8080/"
        },
        "id": "lg9ycxqCQusx",
        "outputId": "421bb9fd-cac2-44cd-fd19-da8e5728f469"
      },
      "source": [
        "# Get entire list using negative index\n",
        "# [\"apple\", \"banana\", \"cherry\",\"mango\",\"kiwi\",\"orange\",\"pineapple\"]\n",
        "\n",
        "length= len(fruitList)\n",
        "\n",
        "print(\" \")\n",
        "print(\"list using [-7::]\")\n",
        "print(fruitList[-7::])\n",
        "print(\" \")\n",
        "print(\"list using [-7::2]\")\n",
        "print(fruitList[-7::2])\n"
      ],
      "execution_count": 126,
      "outputs": [
        {
          "output_type": "stream",
          "name": "stdout",
          "text": [
            " \n",
            "list using [-7::]\n",
            "['apple', 'banana', 'cherry', 'mango', 'kiwi', 'orange', 'pineapple']\n",
            " \n",
            "list using [-7::2]\n",
            "['apple', 'cherry', 'kiwi', 'pineapple']\n"
          ]
        }
      ]
    },
    {
      "cell_type": "code",
      "metadata": {
        "id": "zi3PtOjsCAhc"
      },
      "source": [
        "# Range of index \n",
        "# [\"apple\", \"banana\", \"cherry\",\"mango\",\"kiwi\",\"orange\",\"pineapple\"]\n",
        "start = 2\n",
        "end = 5\n",
        "print(fruitList[2:5])\n",
        "print(fruitList[start:end])\n"
      ],
      "execution_count": null,
      "outputs": []
    },
    {
      "cell_type": "markdown",
      "metadata": {
        "id": "ZJVaZEZ2Ci0g"
      },
      "source": [
        "#### The result for start=2 to end=5\n",
        "#### items in index 2,3,4 [from start to (end-1)]\n",
        "#### or items in position 3,4,5\n"
      ]
    },
    {
      "cell_type": "code",
      "metadata": {
        "id": "1tVm6An8AuBx"
      },
      "source": [
        "# Range of index \n",
        "start = 2\n",
        "end = 5\n",
        "step=2\n",
        "print(fruitList[2:5:2])\n",
        "print(fruitList[start:end:step])"
      ],
      "execution_count": null,
      "outputs": []
    },
    {
      "cell_type": "markdown",
      "metadata": {
        "id": "qBA37QqhD320"
      },
      "source": [
        "The result for start=2 to end=5 with step=2\n",
        "\n",
        "items in index 2,4 [from start to (end-1), with step value of 2]\n",
        "\n",
        "or items in position 3,5"
      ]
    },
    {
      "cell_type": "code",
      "metadata": {
        "id": "Pd8LELy4FD6O"
      },
      "source": [
        "# Range of index \n",
        "# [\"apple\", \"banana\", \"cherry\",\"mango\",\"kiwi\",\"orange\",\"pineapple\"]\n",
        "print(fruitList[:5:2])"
      ],
      "execution_count": null,
      "outputs": []
    },
    {
      "cell_type": "markdown",
      "metadata": {
        "id": "jfs0pQ79FjNH"
      },
      "source": [
        "##### The default value of start is taken as 0"
      ]
    },
    {
      "cell_type": "code",
      "metadata": {
        "id": "_K2diw1oFt0x"
      },
      "source": [
        "# Range of index\n",
        "# [\"apple\", \"banana\", \"cherry\",\"mango\",\"kiwi\",\"orange\",\"pineapple\"]\n",
        "print(fruitList[::2])\n",
        "print(fruitList[0:7:2])"
      ],
      "execution_count": null,
      "outputs": []
    },
    {
      "cell_type": "markdown",
      "metadata": {
        "id": "lQVAt8DqF6fd"
      },
      "source": [
        "##### The default value of start is taken as 0, end is taken as 7"
      ]
    },
    {
      "cell_type": "code",
      "metadata": {
        "id": "reS93Z4EGBeD"
      },
      "source": [
        "# Range of index\n",
        "print(fruitList[2::])"
      ],
      "execution_count": null,
      "outputs": []
    },
    {
      "cell_type": "markdown",
      "metadata": {
        "id": "4ot4DgAuGgug"
      },
      "source": [
        "##### The default value of end is taken as 7, step is taken as 1"
      ]
    },
    {
      "cell_type": "markdown",
      "metadata": {
        "id": "dEtYGvdelTHe"
      },
      "source": [
        "#### List operation - copy"
      ]
    },
    {
      "cell_type": "markdown",
      "metadata": {
        "id": "1pwdxhRARLyt"
      },
      "source": [
        "##### The copy operation creates an exact copy of the original list. Changes to the original or copy do not affect the other."
      ]
    },
    {
      "cell_type": "code",
      "metadata": {
        "id": "5DkxsGGRlYuP"
      },
      "source": [
        "fruitListCopy = fruitList.copy()\n",
        "print(fruitList)\n",
        "print(fruitListCopy)\n",
        "print(fruitList==fruitListCopy)"
      ],
      "execution_count": null,
      "outputs": []
    },
    {
      "cell_type": "markdown",
      "metadata": {
        "id": "2ycwGrHLRg_v"
      },
      "source": [
        "##### The list() operation behaves similar to copy"
      ]
    },
    {
      "cell_type": "code",
      "metadata": {
        "id": "lSrIec6FlvQJ"
      },
      "source": [
        "fruitListCopy = list(fruitList)\n",
        "print(fruitList)\n",
        "print(fruitListCopy)\n",
        "print(fruitList==fruitListCopy)"
      ],
      "execution_count": null,
      "outputs": []
    },
    {
      "cell_type": "markdown",
      "metadata": {
        "id": "2z0OjZktG10k"
      },
      "source": [
        "#### List operation - replace value of an item in the list"
      ]
    },
    {
      "cell_type": "markdown",
      "metadata": {
        "id": "QC7OyNHXRvEq"
      },
      "source": [
        "##### A list item is replaced by assigning new value to item directly using = operator. The item is accessed using its index."
      ]
    },
    {
      "cell_type": "code",
      "metadata": {
        "id": "bOzzoeb9G9ek"
      },
      "source": [
        "# modify single item\n",
        "fruitListCopy = fruitList.copy()\n",
        "fruitListCopy[3] = 'mango_change1'\n",
        "print(fruitListCopy[3])\n",
        "fruitListCopy[3] = 'mango_change2'\n",
        "print(fruitListCopy[3])"
      ],
      "execution_count": null,
      "outputs": []
    },
    {
      "cell_type": "markdown",
      "metadata": {
        "id": "J3qP8QyDSCPz"
      },
      "source": [
        "#### Replace slice of an item. This is done using = operator. The new value is a list(or a slice of list). "
      ]
    },
    {
      "cell_type": "code",
      "metadata": {
        "id": "i4-ZnuYwH2fY"
      },
      "source": [
        "# replace slice of items\n",
        "fruitListCopy = fruitList.copy()\n",
        "fruitListCopy[4:6] = ['kiwi_change1','orange_change1']\n",
        "print(fruitListCopy)\n",
        "fruitListCopy[4:6] = ['kiwi_change2','orange_change2']\n",
        "print(fruitListCopy)"
      ],
      "execution_count": null,
      "outputs": []
    },
    {
      "cell_type": "code",
      "metadata": {
        "id": "Fz3zYvMHKlxp"
      },
      "source": [
        "# replace slice of items with single value\n",
        "fruitListCopy = fruitList.copy()\n",
        "fruitListCopy[3:6] = ['newfruit']\n",
        "print(fruitListCopy)"
      ],
      "execution_count": null,
      "outputs": []
    },
    {
      "cell_type": "code",
      "metadata": {
        "id": "RjRgyruKSidn"
      },
      "source": [
        "# replace slice of item with another slice of items\n",
        "\n",
        "fruitListCopy1 = fruitList.copy()\n",
        "fruitListCopy2 = fruitList.copy()\n",
        "\n",
        "print(fruitListCopy1[1:3])\n",
        "print(fruitListCopy2[4:7])\n",
        "fruitListCopy2[1:3] = fruitListCopy1[4:7]\n",
        "\n",
        "print(fruitList)\n",
        "print(fruitListCopy1)\n",
        "print(fruitListCopy2)"
      ],
      "execution_count": null,
      "outputs": []
    },
    {
      "cell_type": "markdown",
      "metadata": {
        "id": "mfA2gtipHkAB"
      },
      "source": [
        "##### List operation - Append/Insert item"
      ]
    },
    {
      "cell_type": "code",
      "metadata": {
        "id": "U8cLv68RLasv"
      },
      "source": [
        "# Insert item at index 4\n",
        "fruitListCopy = fruitList.copy()\n",
        "fruitListCopy[3] = 'changed'\n",
        "print(fruitListCopy)\n",
        "fruitListCopy.insert(4,'newinsert')\n",
        "print(fruitListCopy)"
      ],
      "execution_count": null,
      "outputs": []
    },
    {
      "cell_type": "code",
      "metadata": {
        "id": "WGSfNe3yOSMy"
      },
      "source": [
        "# Insert item at the end of the list\n",
        "fruitListCopy = fruitList.copy()\n",
        "print(fruitListCopy)\n",
        "fruitListCopy.append('append')\n",
        "print(fruitListCopy)"
      ],
      "execution_count": null,
      "outputs": []
    },
    {
      "cell_type": "code",
      "metadata": {
        "id": "BxkNITCaO_xW"
      },
      "source": [
        "# Insert item at the beginning of the list\n",
        "fruitListCopy = fruitList.copy()\n",
        "print(fruitListCopy)\n",
        "fruitListCopy.insert(0,'insertatstart')\n",
        "print(fruitListCopy)"
      ],
      "execution_count": null,
      "outputs": []
    },
    {
      "cell_type": "code",
      "metadata": {
        "id": "VtyUjgXGa-bF"
      },
      "source": [
        "# Remove list item by item\n",
        "fruitListCopy = fruitList.copy()\n",
        "print(fruitListCopy)\n",
        "fruitListCopy.remove(\"kiwi\")\n",
        "print(fruitListCopy)\n"
      ],
      "execution_count": null,
      "outputs": []
    },
    {
      "cell_type": "code",
      "metadata": {
        "id": "eL559vhtb2Ou"
      },
      "source": [
        "#Remove item using item index\n",
        "\n",
        "fruitListCopy = fruitList.copy()\n",
        "print(fruitListCopy)\n",
        "fruitListCopy.pop(4)\n",
        "print(fruitListCopy)\n"
      ],
      "execution_count": null,
      "outputs": []
    },
    {
      "cell_type": "code",
      "metadata": {
        "id": "LWy0SgtFcFpH"
      },
      "source": [
        "#Remove item using item index and print the removed item\n",
        "fruitListCopy = fruitList.copy()\n",
        "fruit = fruitListCopy.pop(4)\n",
        "print(fruit)"
      ],
      "execution_count": null,
      "outputs": []
    },
    {
      "cell_type": "code",
      "metadata": {
        "id": "Y_gAexL-cgYw"
      },
      "source": [
        "# Remove the last item\n",
        "\n",
        "fruitListCopy = fruitList.copy()\n",
        "print(fruitListCopy)\n",
        "fruitListCopy.pop()\n",
        "print(fruitListCopy)"
      ],
      "execution_count": null,
      "outputs": []
    },
    {
      "cell_type": "code",
      "metadata": {
        "id": "Apul_QH8cuMa"
      },
      "source": [
        "# Remove the first item\n",
        "fruitListCopy = fruitList.copy()\n",
        "print(fruitListCopy)\n",
        "del fruitListCopy[0]\n",
        "print(fruitListCopy)"
      ],
      "execution_count": null,
      "outputs": []
    },
    {
      "cell_type": "code",
      "metadata": {
        "id": "JaRtj07bdXeQ"
      },
      "source": [
        "# Remove the entire list\n",
        "fruitListCopy = fruitList.copy()\n",
        "print(fruitListCopy)\n",
        "del fruitListCopy\n",
        "print(fruitListCopy)\n"
      ],
      "execution_count": null,
      "outputs": []
    },
    {
      "cell_type": "code",
      "metadata": {
        "id": "bcjJIH_7djFF"
      },
      "source": [
        "# Clear the entire list\n",
        "fruitListCopy = fruitList.copy()\n",
        "print(fruitListCopy)\n",
        "fruitListCopy.clear()\n",
        "print(fruitListCopy)"
      ],
      "execution_count": null,
      "outputs": []
    },
    {
      "cell_type": "markdown",
      "metadata": {
        "id": "1DI1XH0kdwao"
      },
      "source": [
        "#### List operation - Looping though the list"
      ]
    },
    {
      "cell_type": "code",
      "metadata": {
        "id": "RZOORH1hd0-G"
      },
      "source": [
        "# Loop through the list by getting the item\n",
        "for item in fruitList:\n",
        "  print(item)"
      ],
      "execution_count": null,
      "outputs": []
    },
    {
      "cell_type": "code",
      "metadata": {
        "id": "DfY1-hy8eSLf"
      },
      "source": [
        "# Loop through the list by index value using range() and len()\n",
        "for index in range(len(fruitList)):\n",
        "  print(fruitList[index])"
      ],
      "execution_count": null,
      "outputs": []
    },
    {
      "cell_type": "code",
      "metadata": {
        "id": "cnpC3ETQemtz"
      },
      "source": [
        "# range function has start, end, step\n",
        "for index in range(0,6,2):\n",
        "  print(fruitList[index])"
      ],
      "execution_count": null,
      "outputs": []
    },
    {
      "cell_type": "code",
      "metadata": {
        "id": "G3DmzLfJfcSo"
      },
      "source": [
        "#Loop using while \n",
        "index =0\n",
        "while index < len(fruitList):\n",
        "  print(fruitList[index])\n",
        "  index+=1"
      ],
      "execution_count": null,
      "outputs": []
    },
    {
      "cell_type": "markdown",
      "metadata": {
        "id": "UBwK_SkTgrvz"
      },
      "source": [
        "##### List Comprehension\n"
      ]
    },
    {
      "cell_type": "code",
      "metadata": {
        "id": "QsuPMIy6f8w7"
      },
      "source": [
        "# Loop using List comprehension\n",
        "\n",
        "[item for item in fruitList] "
      ],
      "execution_count": null,
      "outputs": []
    },
    {
      "cell_type": "code",
      "metadata": {
        "id": "kDGveYt1g7tv"
      },
      "source": [
        "# Loop with condition\n",
        "\n",
        "[item for item in fruitList if item[0]>'c']  "
      ],
      "execution_count": null,
      "outputs": []
    },
    {
      "cell_type": "markdown",
      "metadata": {
        "id": "DPKcaF8zh0Lk"
      },
      "source": [
        "##### Using lambda"
      ]
    },
    {
      "cell_type": "code",
      "metadata": {
        "colab": {
          "base_uri": "https://localhost:8080/"
        },
        "id": "WJxl52tzhlPB",
        "outputId": "f0c63d9d-4063-4b58-c072-ad7343fcbf2e"
      },
      "source": [
        "# Use lambda to get entire list\n",
        "list(map(lambda x:x, fruitList))"
      ],
      "execution_count": 127,
      "outputs": [
        {
          "output_type": "execute_result",
          "data": {
            "text/plain": [
              "['apple', 'banana', 'cherry', 'mango', 'kiwi', 'orange', 'pineapple']"
            ]
          },
          "metadata": {},
          "execution_count": 127
        }
      ]
    },
    {
      "cell_type": "code",
      "metadata": {
        "colab": {
          "base_uri": "https://localhost:8080/"
        },
        "id": "B62Vwfwdh4Bw",
        "outputId": "6a14f3f3-7ee0-482d-acc5-7ef03de85a91"
      },
      "source": [
        "# Get list of boolean based on whether the item in the original list has first letter greater than c.\n",
        "list(map(lambda x:x[0]>'c', fruitList))"
      ],
      "execution_count": 129,
      "outputs": [
        {
          "output_type": "execute_result",
          "data": {
            "text/plain": [
              "[False, False, False, True, True, True, True]"
            ]
          },
          "metadata": {},
          "execution_count": 129
        }
      ]
    },
    {
      "cell_type": "code",
      "metadata": {
        "colab": {
          "base_uri": "https://localhost:8080/"
        },
        "id": "yJsIOzJAj8Oi",
        "outputId": "5ad74933-a305-404f-a8ac-fed381b5bd01"
      },
      "source": [
        "#Filter list of items having the first letter greater than c\n",
        "list(filter(lambda x:x[0]>'c', fruitList))"
      ],
      "execution_count": 130,
      "outputs": [
        {
          "output_type": "execute_result",
          "data": {
            "text/plain": [
              "['mango', 'kiwi', 'orange', 'pineapple']"
            ]
          },
          "metadata": {},
          "execution_count": 130
        }
      ]
    },
    {
      "cell_type": "markdown",
      "metadata": {
        "id": "TrgyKDuqkemc"
      },
      "source": [
        "##### Sort List"
      ]
    },
    {
      "cell_type": "code",
      "metadata": {
        "colab": {
          "base_uri": "https://localhost:8080/"
        },
        "id": "UXO7KrADkiCp",
        "outputId": "8e330bcb-0a96-4885-d361-600a11c12873"
      },
      "source": [
        "# Sort  list in ascending order\n",
        "\n",
        "fruitListCopy = fruitList.copy()\n",
        "print(fruitListCopy)\n",
        "fruitListCopy.sort()\n",
        "print(fruitListCopy)"
      ],
      "execution_count": 131,
      "outputs": [
        {
          "output_type": "stream",
          "name": "stdout",
          "text": [
            "['apple', 'banana', 'cherry', 'mango', 'kiwi', 'orange', 'pineapple']\n",
            "['apple', 'banana', 'cherry', 'kiwi', 'mango', 'orange', 'pineapple']\n"
          ]
        }
      ]
    },
    {
      "cell_type": "code",
      "metadata": {
        "colab": {
          "base_uri": "https://localhost:8080/"
        },
        "id": "Ro0fFr4Mk4yk",
        "outputId": "62da72bb-61f8-40c3-cf8b-310f87fc5b8e"
      },
      "source": [
        "# Sort  list in descending order\n",
        "\n",
        "fruitListCopy = fruitList.copy()\n",
        "print(fruitListCopy)\n",
        "fruitListCopy.sort(reverse=True)\n",
        "print(fruitListCopy)"
      ],
      "execution_count": 133,
      "outputs": [
        {
          "output_type": "stream",
          "name": "stdout",
          "text": [
            "['apple', 'banana', 'cherry', 'mango', 'kiwi', 'orange', 'pineapple']\n",
            "['pineapple', 'orange', 'mango', 'kiwi', 'cherry', 'banana', 'apple']\n"
          ]
        }
      ]
    },
    {
      "cell_type": "markdown",
      "metadata": {
        "id": "ft1zcaqOmnmM"
      },
      "source": [
        "##### Join List"
      ]
    },
    {
      "cell_type": "code",
      "metadata": {
        "colab": {
          "base_uri": "https://localhost:8080/"
        },
        "id": "MOozr4vTmq7w",
        "outputId": "2fd62c92-51ca-440f-984d-20d954b7030c"
      },
      "source": [
        "# Concatanate two list to create a bigger list \n",
        "\n",
        "costList = [10,7,8,9,5,9,10]\n",
        "fruitAndCostList = fruitList+costList\n",
        "print(fruitAndCostList)"
      ],
      "execution_count": 136,
      "outputs": [
        {
          "output_type": "stream",
          "name": "stdout",
          "text": [
            "['apple', 'banana', 'cherry', 'mango', 'kiwi', 'orange', 'pineapple', 10, 7, 8, 9, 5, 9, 10]\n"
          ]
        }
      ]
    },
    {
      "cell_type": "code",
      "metadata": {
        "colab": {
          "base_uri": "https://localhost:8080/"
        },
        "id": "H0e5Er-tnYgu",
        "outputId": "5054bcbc-f317-4582-d718-9c9c3eeb52e6"
      },
      "source": [
        "# Make a bigger list with two lists using extend rather than join\n",
        "\n",
        "fruitListCopy = fruitList.copy()\n",
        "fruitListCopy.extend([10,7,8,9,5,9,10])\n",
        "print(fruitListCopy)"
      ],
      "execution_count": 135,
      "outputs": [
        {
          "output_type": "stream",
          "name": "stdout",
          "text": [
            "['apple', 'banana', 'cherry', 'mango', 'kiwi', 'orange', 'pineapple', 10, 7, 8, 9, 5, 9, 10]\n"
          ]
        }
      ]
    },
    {
      "cell_type": "markdown",
      "metadata": {
        "id": "_2-Yunsmnzzn"
      },
      "source": [
        "##### Count"
      ]
    },
    {
      "cell_type": "code",
      "metadata": {
        "colab": {
          "base_uri": "https://localhost:8080/"
        },
        "id": "lHL3mx0cn1xW",
        "outputId": "68a7ec5f-7bc0-49d5-afee-e145ea45ba29"
      },
      "source": [
        "# Get number of occurrence of an item in a list \n",
        "\n",
        "costList = [10,7,8,9,5,9,10]\n",
        "print(costList.count(10))\n",
        "print(costList.count(9))\n",
        "print(costList.count(5))\n",
        "print(costList.count(11))"
      ],
      "execution_count": 141,
      "outputs": [
        {
          "output_type": "stream",
          "name": "stdout",
          "text": [
            "2\n",
            "2\n",
            "1\n",
            "0\n"
          ]
        }
      ]
    },
    {
      "cell_type": "markdown",
      "metadata": {
        "id": "VlfVlOLKoJPV"
      },
      "source": [
        "##### Reverse"
      ]
    },
    {
      "cell_type": "code",
      "metadata": {
        "colab": {
          "base_uri": "https://localhost:8080/"
        },
        "id": "Grkon7KYoMrL",
        "outputId": "6e9a67eb-4bb0-457b-bc84-f5cba016b616"
      },
      "source": [
        "# Reverse the items in a list\n",
        "\n",
        "fruitListCopy = fruitList.copy()\n",
        "print(fruitListCopy)\n",
        "fruitListCopy.reverse()\n",
        "print(fruitListCopy)"
      ],
      "execution_count": 142,
      "outputs": [
        {
          "output_type": "stream",
          "name": "stdout",
          "text": [
            "['apple', 'banana', 'cherry', 'mango', 'kiwi', 'orange', 'pineapple']\n",
            "['pineapple', 'orange', 'kiwi', 'mango', 'cherry', 'banana', 'apple']\n"
          ]
        }
      ]
    },
    {
      "cell_type": "markdown",
      "metadata": {
        "id": "rsD1fyNJqHA-"
      },
      "source": [
        "##### Typecasting to tuples, set"
      ]
    },
    {
      "cell_type": "code",
      "metadata": {
        "id": "vmMIi1bLqLki",
        "outputId": "4c7c5f88-ec38-48ad-a925-152f69b04f25",
        "colab": {
          "base_uri": "https://localhost:8080/"
        }
      },
      "source": [
        "#Convert to tuple\n",
        "fruitListCopy = fruitList.copy()\n",
        "convertToTuple = tuple(fruitListCopy)\n",
        "print(convertToTuple)\n",
        "print(type(convertToTuple))"
      ],
      "execution_count": 186,
      "outputs": [
        {
          "output_type": "stream",
          "name": "stdout",
          "text": [
            "('apple', 'banana', 'cherry', 'mango', 'kiwi', 'orange', 'pineapple')\n",
            "<class 'tuple'>\n"
          ]
        }
      ]
    },
    {
      "cell_type": "code",
      "metadata": {
        "id": "w6_Hyyvaqhwb",
        "outputId": "bbfb3a82-a57e-432d-88f8-e042a9a77974",
        "colab": {
          "base_uri": "https://localhost:8080/"
        }
      },
      "source": [
        "#Convert to set\n",
        "fruitListCopy = fruitList.copy()\n",
        "convertToSet = set(fruitListCopy)\n",
        "print(convertToSet)\n",
        "print(type(convertToSet))"
      ],
      "execution_count": 187,
      "outputs": [
        {
          "output_type": "stream",
          "name": "stdout",
          "text": [
            "{'mango', 'pineapple', 'apple', 'banana', 'orange', 'cherry', 'kiwi'}\n",
            "<class 'set'>\n"
          ]
        }
      ]
    },
    {
      "cell_type": "markdown",
      "metadata": {
        "id": "FI2OBeARE8uM"
      },
      "source": [
        "### Sequence - Tuples\n",
        "##### ORDERED, ALLOW DUPLICATES, IMMUTABLE"
      ]
    },
    {
      "cell_type": "markdown",
      "metadata": {
        "id": "ofmF4yvDg-Nz"
      },
      "source": [
        "##### A tuple is collection of ordered and immutable objects. It allows for duplicates."
      ]
    },
    {
      "cell_type": "code",
      "metadata": {
        "id": "NrbTWqT8D5CZ",
        "colab": {
          "base_uri": "https://localhost:8080/"
        },
        "outputId": "99a49a87-7084-402c-beb0-3a14817d77fc"
      },
      "source": [
        "personTuple = (13454,'John',23,'Manager','London')\n",
        "print(personTuple)"
      ],
      "execution_count": 143,
      "outputs": [
        {
          "output_type": "stream",
          "name": "stdout",
          "text": [
            "(13454, 'John', 23, 'Manager', 'London')\n"
          ]
        }
      ]
    },
    {
      "cell_type": "markdown",
      "metadata": {
        "id": "-06Ia1vMhrEo"
      },
      "source": [
        "##### Empty Tuple"
      ]
    },
    {
      "cell_type": "code",
      "metadata": {
        "colab": {
          "base_uri": "https://localhost:8080/"
        },
        "id": "unhf-uwse00X",
        "outputId": "45a7dc98-20ff-4498-e50e-a50352f600ac"
      },
      "source": [
        "emptyTuple = ()\n",
        "print(emptyTuple)"
      ],
      "execution_count": 145,
      "outputs": [
        {
          "output_type": "stream",
          "name": "stdout",
          "text": [
            "()\n"
          ]
        }
      ]
    },
    {
      "cell_type": "markdown",
      "metadata": {
        "id": "hEbREUeOh6dC"
      },
      "source": [
        "#### Tuple with single item. Do not forget the comma."
      ]
    },
    {
      "cell_type": "code",
      "metadata": {
        "colab": {
          "base_uri": "https://localhost:8080/"
        },
        "id": "YrZG_vmViDJH",
        "outputId": "93c8ab99-4727-4460-abb7-a8b612f34fad"
      },
      "source": [
        "singleTupleWrong = ('John')\n",
        "print(singleTupleWrong)\n",
        "print(type(singleTupleWrong))\n",
        "singleTupleWrong = (1)\n",
        "print(singleTupleWrong)\n",
        "print(type(singleTupleWrong))\n",
        "singleTupleWrong = (True)\n",
        "print(singleTupleWrong)\n",
        "print(type(singleTupleWrong))"
      ],
      "execution_count": 146,
      "outputs": [
        {
          "output_type": "stream",
          "name": "stdout",
          "text": [
            "John\n",
            "<class 'str'>\n",
            "1\n",
            "<class 'int'>\n",
            "True\n",
            "<class 'bool'>\n"
          ]
        }
      ]
    },
    {
      "cell_type": "code",
      "metadata": {
        "colab": {
          "base_uri": "https://localhost:8080/"
        },
        "id": "jdWgWNUyiovb",
        "outputId": "2e7a2e88-9f2b-4884-adff-1ca4c9a71194"
      },
      "source": [
        "singleTuple = ('John',)\n",
        "print(singleTuple)\n",
        "print(type(singleTuple))\n",
        "singleTuple = (1,)\n",
        "print(singleTuple)\n",
        "print(type(singleTuple))\n",
        "singleTuple = (True,)\n",
        "print(singleTuple)\n",
        "print(type(singleTuple))"
      ],
      "execution_count": 147,
      "outputs": [
        {
          "output_type": "stream",
          "name": "stdout",
          "text": [
            "('John',)\n",
            "<class 'tuple'>\n",
            "(1,)\n",
            "<class 'tuple'>\n",
            "(True,)\n",
            "<class 'tuple'>\n"
          ]
        }
      ]
    },
    {
      "cell_type": "markdown",
      "metadata": {
        "id": "Rn01rvo4i87W"
      },
      "source": [
        "#### Length of the Tuple"
      ]
    },
    {
      "cell_type": "code",
      "metadata": {
        "id": "zIcVdY6FjD39",
        "colab": {
          "base_uri": "https://localhost:8080/"
        },
        "outputId": "af24fa6b-41f9-4440-fc4b-579cbea79fd9"
      },
      "source": [
        "print(personTuple)\n",
        "print(len(personTuple))"
      ],
      "execution_count": 148,
      "outputs": [
        {
          "output_type": "stream",
          "name": "stdout",
          "text": [
            "(13454, 'John', 23, 'Manager', 'London')\n",
            "5\n"
          ]
        }
      ]
    },
    {
      "cell_type": "markdown",
      "metadata": {
        "id": "XUqv0fATjYt2"
      },
      "source": [
        "#### Tuple constructor"
      ]
    },
    {
      "cell_type": "code",
      "metadata": {
        "id": "BOXRGSIVjbwr",
        "colab": {
          "base_uri": "https://localhost:8080/"
        },
        "outputId": "137bae64-02fc-47e6-d94c-7c6efadabb51"
      },
      "source": [
        "constructorTuple = tuple((13454, 'John', 23, 'Manager', 'London'))\n",
        "print(constructorTuple)"
      ],
      "execution_count": 149,
      "outputs": [
        {
          "output_type": "stream",
          "name": "stdout",
          "text": [
            "(13454, 'John', 23, 'Manager', 'London')\n"
          ]
        }
      ]
    },
    {
      "cell_type": "code",
      "metadata": {
        "id": "U_rpqwYfjruP",
        "colab": {
          "base_uri": "https://localhost:8080/"
        },
        "outputId": "42362748-9e46-44ff-acee-1d492be608ab"
      },
      "source": [
        "constructorTuple2=tuple(personTuple)\n",
        "print(personTuple == constructorTuple)\n",
        "print(personTuple == constructorTuple2)\n",
        "print(constructorTuple == constructorTuple2)"
      ],
      "execution_count": 11,
      "outputs": [
        {
          "output_type": "stream",
          "name": "stdout",
          "text": [
            "True\n",
            "True\n",
            "True\n"
          ]
        }
      ]
    },
    {
      "cell_type": "code",
      "metadata": {
        "id": "vkjFIU3RuGpt",
        "outputId": "42d7b1f0-2d55-4d12-f945-1d310ed5d7bf",
        "colab": {
          "base_uri": "https://localhost:8080/"
        }
      },
      "source": [
        "# construct from list\n",
        "personConstructor = tuple([13454, 'John', 23, 'Manager', 'London'])\n",
        "print(personConstructor)\n",
        "print(type(personConstructor))"
      ],
      "execution_count": 197,
      "outputs": [
        {
          "output_type": "stream",
          "name": "stdout",
          "text": [
            "(13454, 'John', 23, 'Manager', 'London')\n",
            "<class 'tuple'>\n"
          ]
        }
      ]
    },
    {
      "cell_type": "code",
      "metadata": {
        "id": "naoUiy77u8pE",
        "outputId": "05549493-b770-4daa-8a18-60320cb9d11c",
        "colab": {
          "base_uri": "https://localhost:8080/"
        }
      },
      "source": [
        "# construct from set\n",
        "personConstructor = tuple({13454, 'John', 23, 'Manager', 'London'})\n",
        "print(personConstructor)\n",
        "print(type(personConstructor))"
      ],
      "execution_count": 198,
      "outputs": [
        {
          "output_type": "stream",
          "name": "stdout",
          "text": [
            "('London', 'Manager', 'John', 13454, 23)\n",
            "<class 'tuple'>\n"
          ]
        }
      ]
    },
    {
      "cell_type": "markdown",
      "metadata": {
        "id": "jwCVhsUVATJY"
      },
      "source": [
        "##### Access Tuple Item using index "
      ]
    },
    {
      "cell_type": "code",
      "metadata": {
        "colab": {
          "base_uri": "https://localhost:8080/"
        },
        "id": "TKUlTz2jAIgx",
        "outputId": "161c5927-d6b5-4d7f-eb36-2f8262adb774"
      },
      "source": [
        "# Positive Indexing -from 0 to (length of tuple - 1) .\n",
        "# (13454, 'John', 23, 'Manager', 'London')\n",
        "\n",
        "length = len(personTuple)\n",
        "\n",
        "print(personTuple[0])\n",
        "print(personTuple[1])\n",
        "print(personTuple[length-2])\n",
        "print(personTuple[length-1])"
      ],
      "execution_count": 15,
      "outputs": [
        {
          "output_type": "stream",
          "name": "stdout",
          "text": [
            "13454\n",
            "John\n",
            "Manager\n",
            "London\n"
          ]
        }
      ]
    },
    {
      "cell_type": "code",
      "metadata": {
        "colab": {
          "base_uri": "https://localhost:8080/"
        },
        "id": "jKu4l6QvAdyr",
        "outputId": "0098460c-c8af-4ae2-f77c-d52f3b99029d"
      },
      "source": [
        "# Negative Indexing - from -(length of tuple) to -1.\n",
        "# (13454, 'John', 23, 'Manager', 'London')\n",
        "\n",
        "length = len(personTuple)\n",
        "\n",
        "print(personTuple[-length])\n",
        "print(personTuple[-length+1])\n",
        "print(personTuple[-2])\n",
        "print(personTuple[-1])\n"
      ],
      "execution_count": 14,
      "outputs": [
        {
          "output_type": "stream",
          "name": "stdout",
          "text": [
            "13454\n",
            "John\n",
            "Manager\n",
            "London\n"
          ]
        }
      ]
    },
    {
      "cell_type": "markdown",
      "metadata": {
        "id": "YyWTfCMiBz82"
      },
      "source": [
        "##### Get tuple slice by range of Index\n"
      ]
    },
    {
      "cell_type": "code",
      "metadata": {
        "colab": {
          "base_uri": "https://localhost:8080/"
        },
        "id": "dhQuz18DCAAm",
        "outputId": "17255354-d4ed-414a-e179-d893beb95741"
      },
      "source": [
        "# the range is defined using [start:end:step] Default value is [0:(length of tuple):1]\n",
        "# (13454, 'John', 23, 'Manager', 'London')\n",
        "\n",
        "length = len(personTuple)\n",
        "\n",
        "print(personTuple[0:length:1])\n"
      ],
      "execution_count": 150,
      "outputs": [
        {
          "output_type": "stream",
          "name": "stdout",
          "text": [
            "(13454, 'John', 23, 'Manager', 'London')\n"
          ]
        }
      ]
    },
    {
      "cell_type": "code",
      "metadata": {
        "colab": {
          "base_uri": "https://localhost:8080/"
        },
        "id": "ZYw06SBkDAL5",
        "outputId": "d09b173e-a252-40be-ad53-c7c8125591ac"
      },
      "source": [
        "# Tuple slice by Negative index. Getting entire tuple by explicitly using negative index is not possible\n",
        "# (13454, 'John', 23, 'Manager', 'London')\n",
        "\n",
        "length = len(personTuple)\n",
        "\n",
        "print(personTuple[-length:-1:1])"
      ],
      "execution_count": 151,
      "outputs": [
        {
          "output_type": "stream",
          "name": "stdout",
          "text": [
            "(13454, 'John', 23, 'Manager')\n"
          ]
        }
      ]
    },
    {
      "cell_type": "code",
      "metadata": {
        "colab": {
          "base_uri": "https://localhost:8080/"
        },
        "id": "jQ4tFgEEColi",
        "outputId": "e4040003-650c-49a3-d112-8f12ee19a68d"
      },
      "source": [
        "# Get entire tuple by using partial negative index\n",
        "\n",
        "\n",
        "length = len(personTuple)\n",
        "\n",
        "print(personTuple[-length::])"
      ],
      "execution_count": 152,
      "outputs": [
        {
          "output_type": "stream",
          "name": "stdout",
          "text": [
            "(13454, 'John', 23, 'Manager', 'London')\n"
          ]
        }
      ]
    },
    {
      "cell_type": "markdown",
      "metadata": {
        "id": "DtfllQU3ZdZ2"
      },
      "source": [
        "##### Check if an item exists in the tuple"
      ]
    },
    {
      "cell_type": "code",
      "metadata": {
        "colab": {
          "base_uri": "https://localhost:8080/"
        },
        "id": "YrWua-44ZOBD",
        "outputId": "90c9f04f-e782-454d-d287-48a2d60e9e67"
      },
      "source": [
        "# Check if the tuple has john's data\n",
        "if \"John\" in personTuple:\n",
        "  print(\"The tuple contains john's data\") \n",
        "else:\n",
        "  print(\"The tuple does not contain john's data\") "
      ],
      "execution_count": 158,
      "outputs": [
        {
          "output_type": "stream",
          "name": "stdout",
          "text": [
            "The tuple contains john's data\n"
          ]
        }
      ]
    },
    {
      "cell_type": "code",
      "metadata": {
        "colab": {
          "base_uri": "https://localhost:8080/"
        },
        "id": "6dxaJlGaaHjg",
        "outputId": "972923fd-b9ed-49fe-8fb2-a40b3b3c014b"
      },
      "source": [
        "# Check if the tuple has bob's data\n",
        "if \"Bob\" in personTuple:\n",
        "  print(\"The tuple contains bob's data\") \n",
        "else:\n",
        "  print(\"The tuple does not contain bob's data\") "
      ],
      "execution_count": 159,
      "outputs": [
        {
          "output_type": "stream",
          "name": "stdout",
          "text": [
            "The tuple does not contain bob's data\n"
          ]
        }
      ]
    },
    {
      "cell_type": "markdown",
      "metadata": {
        "id": "pgByilccbaFX"
      },
      "source": [
        "##### A Tuple is immutable"
      ]
    },
    {
      "cell_type": "code",
      "metadata": {
        "colab": {
          "base_uri": "https://localhost:8080/",
          "height": 185
        },
        "id": "PmTFfCV6aRxD",
        "outputId": "ee8ecf22-dcce-4728-8e5c-4ebd44c3d155"
      },
      "source": [
        "personTuple[1] = \"Bob\"\n",
        "print(personTuple)"
      ],
      "execution_count": 164,
      "outputs": [
        {
          "output_type": "error",
          "ename": "TypeError",
          "evalue": "ignored",
          "traceback": [
            "\u001b[0;31m---------------------------------------------------------------------------\u001b[0m",
            "\u001b[0;31mTypeError\u001b[0m                                 Traceback (most recent call last)",
            "\u001b[0;32m<ipython-input-164-8163347ef989>\u001b[0m in \u001b[0;36m<module>\u001b[0;34m()\u001b[0m\n\u001b[0;32m----> 1\u001b[0;31m \u001b[0mpersonTuple\u001b[0m\u001b[0;34m[\u001b[0m\u001b[0;36m1\u001b[0m\u001b[0;34m]\u001b[0m \u001b[0;34m=\u001b[0m \u001b[0;34m\"Bob\"\u001b[0m\u001b[0;34m\u001b[0m\u001b[0;34m\u001b[0m\u001b[0m\n\u001b[0m\u001b[1;32m      2\u001b[0m \u001b[0mprint\u001b[0m\u001b[0;34m(\u001b[0m\u001b[0mpersonTuple\u001b[0m\u001b[0;34m)\u001b[0m\u001b[0;34m\u001b[0m\u001b[0;34m\u001b[0m\u001b[0m\n",
            "\u001b[0;31mTypeError\u001b[0m: 'tuple' object does not support item assignment"
          ]
        }
      ]
    },
    {
      "cell_type": "markdown",
      "metadata": {
        "id": "XzADcuAkcntS"
      },
      "source": [
        "##### Update item value in a tuple"
      ]
    },
    {
      "cell_type": "code",
      "metadata": {
        "colab": {
          "base_uri": "https://localhost:8080/"
        },
        "id": "Cp7qtRK6cvY-",
        "outputId": "cd25e1e4-441d-481a-b0fe-9526386a8966"
      },
      "source": [
        "personTupleCopy = tuple(personTuple)\n",
        "\n",
        "print(personTupleCopy)\n",
        "\n",
        "personTupleToList = list(personTupleCopy)\n",
        "print(personTupleToList)\n",
        "personTupleToList[1] = \"Changed\"\n",
        "print(personTupleToList)\n",
        "personTupleCopy = tuple(personTupleToList)\n",
        "print(personTupleCopy)"
      ],
      "execution_count": 166,
      "outputs": [
        {
          "output_type": "stream",
          "name": "stdout",
          "text": [
            "(13454, 'John', 23, 'Manager', 'London')\n",
            "[13454, 'John', 23, 'Manager', 'London']\n",
            "[13454, 'Changed', 23, 'Manager', 'London']\n",
            "(13454, 'Changed', 23, 'Manager', 'London')\n"
          ]
        }
      ]
    },
    {
      "cell_type": "markdown",
      "metadata": {
        "id": "VR1MvOiPeCPU"
      },
      "source": [
        "##### Unpack a tuple"
      ]
    },
    {
      "cell_type": "code",
      "metadata": {
        "colab": {
          "base_uri": "https://localhost:8080/"
        },
        "id": "JWv2h8xXddoW",
        "outputId": "8beefb35-1cfe-47d1-d10e-8a8e977104e4"
      },
      "source": [
        "print(personTuple)\n",
        "(id,name,age,designation, location) = personTuple\n",
        "print(id)\n",
        "print(name)\n",
        "print(age)\n",
        "print(designation)\n",
        "print(location)"
      ],
      "execution_count": 167,
      "outputs": [
        {
          "output_type": "stream",
          "name": "stdout",
          "text": [
            "(13454, 'John', 23, 'Manager', 'London')\n",
            "13454\n",
            "John\n",
            "23\n",
            "Manager\n",
            "London\n"
          ]
        }
      ]
    },
    {
      "cell_type": "code",
      "metadata": {
        "colab": {
          "base_uri": "https://localhost:8080/"
        },
        "id": "fIwhsxrUelfY",
        "outputId": "a440a4ae-ee2b-44f3-b7ab-8423e678d82e"
      },
      "source": [
        "print(personTuple)\n",
        "(*personalDetails,designation, location) = personTuple\n",
        "print(personalDetails)\n",
        "print(designation)\n",
        "print(location)"
      ],
      "execution_count": 169,
      "outputs": [
        {
          "output_type": "stream",
          "name": "stdout",
          "text": [
            "(13454, 'John', 23, 'Manager', 'London')\n",
            "[13454, 'John', 23]\n",
            "Manager\n",
            "London\n"
          ]
        }
      ]
    },
    {
      "cell_type": "markdown",
      "metadata": {
        "id": "vEYumceufPkN"
      },
      "source": [
        "##### Loop through Tuple"
      ]
    },
    {
      "cell_type": "code",
      "metadata": {
        "colab": {
          "base_uri": "https://localhost:8080/"
        },
        "id": "Hp-AY53Xey9N",
        "outputId": "7cafad38-e02e-470a-88ee-3be5fa248af3"
      },
      "source": [
        "# Loop using for \n",
        "\n",
        "for detail in personTuple:\n",
        "  print(detail)"
      ],
      "execution_count": 170,
      "outputs": [
        {
          "output_type": "stream",
          "name": "stdout",
          "text": [
            "13454\n",
            "John\n",
            "23\n",
            "Manager\n",
            "London\n"
          ]
        }
      ]
    },
    {
      "cell_type": "code",
      "metadata": {
        "colab": {
          "base_uri": "https://localhost:8080/"
        },
        "id": "rMuSH6Blfcui",
        "outputId": "38949913-3291-461d-a678-15277f7de9b2"
      },
      "source": [
        "#Loop with index using range() and len()\n",
        "\n",
        "for i in range(len(personTuple)):\n",
        "  print(personTuple[i])"
      ],
      "execution_count": 171,
      "outputs": [
        {
          "output_type": "stream",
          "name": "stdout",
          "text": [
            "13454\n",
            "John\n",
            "23\n",
            "Manager\n",
            "London\n"
          ]
        }
      ]
    },
    {
      "cell_type": "code",
      "metadata": {
        "colab": {
          "base_uri": "https://localhost:8080/"
        },
        "id": "E5dE395kf3Lg",
        "outputId": "d95b3e88-c64e-4c13-ba2e-55ec0a91ffd6"
      },
      "source": [
        "# Using while loop\n",
        "\n",
        "i=0\n",
        "while i<len(personTuple):\n",
        "  print(personTuple[i])\n",
        "  i=i+1"
      ],
      "execution_count": 172,
      "outputs": [
        {
          "output_type": "stream",
          "name": "stdout",
          "text": [
            "13454\n",
            "John\n",
            "23\n",
            "Manager\n",
            "London\n"
          ]
        }
      ]
    },
    {
      "cell_type": "markdown",
      "metadata": {
        "id": "usmgQ7_MgeSR"
      },
      "source": [
        "##### Join Tuples"
      ]
    },
    {
      "cell_type": "code",
      "metadata": {
        "colab": {
          "base_uri": "https://localhost:8080/"
        },
        "id": "-VZGXlFkgRm6",
        "outputId": "1b4d2867-ec39-4559-a711-0e17ae1dff9c"
      },
      "source": [
        "addressTuple = (\"Address line1\",\"Address line2\", 101101)\n",
        "newTuple = personTuple + addressTuple\n",
        "print(newTuple)"
      ],
      "execution_count": 173,
      "outputs": [
        {
          "output_type": "stream",
          "name": "stdout",
          "text": [
            "(13454, 'John', 23, 'Manager', 'London', 'Address line1', 'Address line2', 101101)\n"
          ]
        }
      ]
    },
    {
      "cell_type": "markdown",
      "metadata": {
        "id": "ERmiVunBiCk7"
      },
      "source": [
        "##### Multiply content of a Tuple by number of times"
      ]
    },
    {
      "cell_type": "code",
      "metadata": {
        "colab": {
          "base_uri": "https://localhost:8080/"
        },
        "id": "pzuPJuK9hSR7",
        "outputId": "d6f7701d-9387-4014-aed0-929930681fe1"
      },
      "source": [
        "fruits = (\"apple\", \"banana\", \"cherry\")\n",
        "mytuple = fruits * 2\n",
        "\n",
        "print(mytuple) "
      ],
      "execution_count": 177,
      "outputs": [
        {
          "output_type": "stream",
          "name": "stdout",
          "text": [
            "('apple', 'banana', 'cherry', 'apple', 'banana', 'cherry')\n"
          ]
        }
      ]
    },
    {
      "cell_type": "markdown",
      "metadata": {
        "id": "FIHxMR7ckS9s"
      },
      "source": [
        "##### Count - count number of occurrence of an item in the Tuple"
      ]
    },
    {
      "cell_type": "code",
      "metadata": {
        "colab": {
          "base_uri": "https://localhost:8080/"
        },
        "id": "0TC1v0Cfjj9z",
        "outputId": "bd1f4113-2ba4-4bbc-ba73-241c8ce609dc"
      },
      "source": [
        "fruits = (\"apple\", \"banana\", \"cherry\", \"banana\", \"cherry\", \"cherry\")\n",
        "print(fruits.count(\"apple\"))\n",
        "print(fruits.count(\"banana\"))\n",
        "print(fruits.count(\"cherry\"))"
      ],
      "execution_count": 176,
      "outputs": [
        {
          "output_type": "stream",
          "name": "stdout",
          "text": [
            "1\n",
            "2\n",
            "3\n"
          ]
        }
      ]
    },
    {
      "cell_type": "markdown",
      "metadata": {
        "id": "qOPKqgEllAyC"
      },
      "source": [
        "##### Get index of an item in an Tuple"
      ]
    },
    {
      "cell_type": "code",
      "metadata": {
        "colab": {
          "base_uri": "https://localhost:8080/"
        },
        "id": "0iCMawPRkw9C",
        "outputId": "e64c0745-4aca-42a4-cf2d-78070abe727d"
      },
      "source": [
        "fruits = (\"apple\", \"banana\", \"cherry\")\n",
        "print(fruits.index(\"apple\"))\n",
        "print(fruits.index(\"banana\"))\n",
        "print(fruits.index(\"cherry\"))"
      ],
      "execution_count": 181,
      "outputs": [
        {
          "output_type": "stream",
          "name": "stdout",
          "text": [
            "0\n",
            "1\n",
            "2\n"
          ]
        }
      ]
    },
    {
      "cell_type": "markdown",
      "metadata": {
        "id": "r3FL5fm5ljwb"
      },
      "source": [
        "##### Trying to get an index of an non existent item"
      ]
    },
    {
      "cell_type": "code",
      "metadata": {
        "colab": {
          "base_uri": "https://localhost:8080/",
          "height": 185
        },
        "id": "awfjOsSIlVor",
        "outputId": "da2faa37-2013-440c-b80d-32d019957136"
      },
      "source": [
        "fruits = (\"apple\", \"banana\", \"cherry\")\n",
        "print(fruits.index(\"melon\"))"
      ],
      "execution_count": 182,
      "outputs": [
        {
          "output_type": "error",
          "ename": "ValueError",
          "evalue": "ignored",
          "traceback": [
            "\u001b[0;31m---------------------------------------------------------------------------\u001b[0m",
            "\u001b[0;31mValueError\u001b[0m                                Traceback (most recent call last)",
            "\u001b[0;32m<ipython-input-182-27dd2471aa09>\u001b[0m in \u001b[0;36m<module>\u001b[0;34m()\u001b[0m\n\u001b[1;32m      1\u001b[0m \u001b[0mfruits\u001b[0m \u001b[0;34m=\u001b[0m \u001b[0;34m(\u001b[0m\u001b[0;34m\"apple\"\u001b[0m\u001b[0;34m,\u001b[0m \u001b[0;34m\"banana\"\u001b[0m\u001b[0;34m,\u001b[0m \u001b[0;34m\"cherry\"\u001b[0m\u001b[0;34m)\u001b[0m\u001b[0;34m\u001b[0m\u001b[0;34m\u001b[0m\u001b[0m\n\u001b[0;32m----> 2\u001b[0;31m \u001b[0mprint\u001b[0m\u001b[0;34m(\u001b[0m\u001b[0mfruits\u001b[0m\u001b[0;34m.\u001b[0m\u001b[0mindex\u001b[0m\u001b[0;34m(\u001b[0m\u001b[0;34m\"melon\"\u001b[0m\u001b[0;34m)\u001b[0m\u001b[0;34m)\u001b[0m\u001b[0;34m\u001b[0m\u001b[0;34m\u001b[0m\u001b[0m\n\u001b[0m",
            "\u001b[0;31mValueError\u001b[0m: tuple.index(x): x not in tuple"
          ]
        }
      ]
    },
    {
      "cell_type": "markdown",
      "metadata": {
        "id": "10iKeY77rSj3"
      },
      "source": [
        "##### Typecasting to list,set"
      ]
    },
    {
      "cell_type": "code",
      "metadata": {
        "id": "LJvslOb3rWDR",
        "outputId": "9170e228-370c-4506-c688-b7209c01a9a5",
        "colab": {
          "base_uri": "https://localhost:8080/"
        }
      },
      "source": [
        "# Convert to list\n",
        "fruits = (\"apple\", \"banana\", \"cherry\")\n",
        "print(fruits)\n",
        "convertToList = list(fruits)\n",
        "print(convertToList)\n",
        "print(type(convertToList))\n"
      ],
      "execution_count": 189,
      "outputs": [
        {
          "output_type": "stream",
          "name": "stdout",
          "text": [
            "('apple', 'banana', 'cherry')\n",
            "['apple', 'banana', 'cherry']\n",
            "<class 'list'>\n"
          ]
        }
      ]
    },
    {
      "cell_type": "code",
      "metadata": {
        "id": "cX9D4H3prtFx",
        "outputId": "744fb1f9-56c2-4214-8115-0e41c9bc0a47",
        "colab": {
          "base_uri": "https://localhost:8080/"
        }
      },
      "source": [
        "# Convert to set\n",
        "fruits = (\"apple\", \"banana\", \"cherry\")\n",
        "print(fruits)\n",
        "convertToSet = set(fruits)\n",
        "print(convertToSet)\n",
        "print(type(convertToSet))\n"
      ],
      "execution_count": 190,
      "outputs": [
        {
          "output_type": "stream",
          "name": "stdout",
          "text": [
            "('apple', 'banana', 'cherry')\n",
            "{'banana', 'cherry', 'apple'}\n",
            "<class 'set'>\n"
          ]
        }
      ]
    },
    {
      "cell_type": "markdown",
      "metadata": {
        "id": "NOVYWv05nD2m"
      },
      "source": [
        "### Sequence - Set\n",
        "##### UNORDERED, NO DUPLICATES, IMMUTABLE"
      ]
    },
    {
      "cell_type": "code",
      "metadata": {
        "colab": {
          "base_uri": "https://localhost:8080/"
        },
        "id": "ip2QbXNllwId",
        "outputId": "848be9da-50b6-40d1-e2a0-1545ae857d5b"
      },
      "source": [
        "positiveIntegerSet = {1,2,3,4,5,6,7,8,9}\n",
        "print(positiveIntegerSet)"
      ],
      "execution_count": 183,
      "outputs": [
        {
          "output_type": "stream",
          "name": "stdout",
          "text": [
            "{1, 2, 3, 4, 5, 6, 7, 8, 9}\n"
          ]
        }
      ]
    },
    {
      "cell_type": "markdown",
      "metadata": {
        "id": "dyJS26sgpfve"
      },
      "source": [
        "##### Type of set"
      ]
    },
    {
      "cell_type": "code",
      "metadata": {
        "id": "Ph85rd_Ipigx",
        "outputId": "f8e56539-b70e-4db4-c839-534e4542779b",
        "colab": {
          "base_uri": "https://localhost:8080/"
        }
      },
      "source": [
        "print(type(positiveIntegerSet))"
      ],
      "execution_count": 185,
      "outputs": [
        {
          "output_type": "stream",
          "name": "stdout",
          "text": [
            "<class 'set'>\n"
          ]
        }
      ]
    },
    {
      "cell_type": "markdown",
      "metadata": {
        "id": "7aDyO4JRpGDU"
      },
      "source": [
        "##### Length of the Set"
      ]
    },
    {
      "cell_type": "code",
      "metadata": {
        "id": "A4Br47oAo4Yq",
        "outputId": "4f006104-ab13-41f1-d56e-dc3482f5f07a",
        "colab": {
          "base_uri": "https://localhost:8080/"
        }
      },
      "source": [
        "length = len(positiveIntegerSet)\n",
        "print(length)"
      ],
      "execution_count": 184,
      "outputs": [
        {
          "output_type": "stream",
          "name": "stdout",
          "text": [
            "9\n"
          ]
        }
      ]
    },
    {
      "cell_type": "markdown",
      "metadata": {
        "id": "lVS1m-v_sARP"
      },
      "source": [
        "##### Duplicates not allowed. It is automatically de-duped."
      ]
    },
    {
      "cell_type": "code",
      "metadata": {
        "id": "HJ69089-pPN5",
        "outputId": "9205b37f-8fe5-4e94-a71e-bacdd4e340ed",
        "colab": {
          "base_uri": "https://localhost:8080/"
        }
      },
      "source": [
        "primeNumberSet = {1,2,3,3,5}\n",
        "print(primeNumberSet)"
      ],
      "execution_count": 191,
      "outputs": [
        {
          "output_type": "stream",
          "name": "stdout",
          "text": [
            "{1, 2, 3, 5}\n"
          ]
        }
      ]
    },
    {
      "cell_type": "markdown",
      "metadata": {
        "id": "q0TKPtwjsdq4"
      },
      "source": [
        "##### Set constructor"
      ]
    },
    {
      "cell_type": "code",
      "metadata": {
        "id": "qvcMw8OwsOr2",
        "outputId": "41c40fc7-2155-4855-c649-81620df73a6a",
        "colab": {
          "base_uri": "https://localhost:8080/"
        }
      },
      "source": [
        "# Construct from set\n",
        "\n",
        "positiveIntegerSet = set({1,2,3,4,5,6,7,8,9})\n",
        "print(positiveIntegerSet)\n",
        "\n"
      ],
      "execution_count": 200,
      "outputs": [
        {
          "output_type": "stream",
          "name": "stdout",
          "text": [
            "{1, 2, 3, 4, 5, 6, 7, 8, 9}\n"
          ]
        }
      ]
    },
    {
      "cell_type": "code",
      "metadata": {
        "id": "Rm4Sx963voCS",
        "outputId": "8fa44797-8e18-4757-c98f-3d6b0a3603c8",
        "colab": {
          "base_uri": "https://localhost:8080/"
        }
      },
      "source": [
        "# Construct from list\n",
        "\n",
        "positiveIntegerSet = set([1,2,3,4,5,6,7,8,9])\n",
        "print(positiveIntegerSet)"
      ],
      "execution_count": 199,
      "outputs": [
        {
          "output_type": "stream",
          "name": "stdout",
          "text": [
            "{1, 2, 3, 4, 5, 6, 7, 8, 9}\n"
          ]
        }
      ]
    },
    {
      "cell_type": "code",
      "metadata": {
        "id": "1VLx_5Vys27u",
        "outputId": "21ae451c-c1af-4fcf-b751-f3be36840b34",
        "colab": {
          "base_uri": "https://localhost:8080/"
        }
      },
      "source": [
        "# Construct from tuple\n",
        "positiveIntegerSet = set((1,2,3,4,5,6,7,8,9))\n",
        "print(positiveIntegerSet)"
      ],
      "execution_count": 201,
      "outputs": [
        {
          "output_type": "stream",
          "name": "stdout",
          "text": [
            "{1, 2, 3, 4, 5, 6, 7, 8, 9}\n"
          ]
        }
      ]
    },
    {
      "cell_type": "markdown",
      "metadata": {
        "id": "eqnYyBiLweDi"
      },
      "source": [
        "##### Set is unordered"
      ]
    },
    {
      "cell_type": "code",
      "metadata": {
        "id": "Nm0VVQ_rwqwX",
        "outputId": "14388289-b28e-4398-ecd6-0a23d2bc1b94",
        "colab": {
          "base_uri": "https://localhost:8080/",
          "height": 185
        }
      },
      "source": [
        "positiveIntegerSet = set((1,2,3,4,5,6,7,8,9))\n",
        "positiveIntegerSet[1]"
      ],
      "execution_count": 202,
      "outputs": [
        {
          "output_type": "error",
          "ename": "TypeError",
          "evalue": "ignored",
          "traceback": [
            "\u001b[0;31m---------------------------------------------------------------------------\u001b[0m",
            "\u001b[0;31mTypeError\u001b[0m                                 Traceback (most recent call last)",
            "\u001b[0;32m<ipython-input-202-51a821513131>\u001b[0m in \u001b[0;36m<module>\u001b[0;34m()\u001b[0m\n\u001b[1;32m      1\u001b[0m \u001b[0mpositiveIntegerSet\u001b[0m \u001b[0;34m=\u001b[0m \u001b[0mset\u001b[0m\u001b[0;34m(\u001b[0m\u001b[0;34m(\u001b[0m\u001b[0;36m1\u001b[0m\u001b[0;34m,\u001b[0m\u001b[0;36m2\u001b[0m\u001b[0;34m,\u001b[0m\u001b[0;36m3\u001b[0m\u001b[0;34m,\u001b[0m\u001b[0;36m4\u001b[0m\u001b[0;34m,\u001b[0m\u001b[0;36m5\u001b[0m\u001b[0;34m,\u001b[0m\u001b[0;36m6\u001b[0m\u001b[0;34m,\u001b[0m\u001b[0;36m7\u001b[0m\u001b[0;34m,\u001b[0m\u001b[0;36m8\u001b[0m\u001b[0;34m,\u001b[0m\u001b[0;36m9\u001b[0m\u001b[0;34m)\u001b[0m\u001b[0;34m)\u001b[0m\u001b[0;34m\u001b[0m\u001b[0;34m\u001b[0m\u001b[0m\n\u001b[0;32m----> 2\u001b[0;31m \u001b[0mpositiveIntegerSet\u001b[0m\u001b[0;34m[\u001b[0m\u001b[0;36m1\u001b[0m\u001b[0;34m]\u001b[0m\u001b[0;34m\u001b[0m\u001b[0;34m\u001b[0m\u001b[0m\n\u001b[0m",
            "\u001b[0;31mTypeError\u001b[0m: 'set' object is not subscriptable"
          ]
        }
      ]
    },
    {
      "cell_type": "markdown",
      "metadata": {
        "id": "kuyQMsU9wSO-"
      },
      "source": [
        "##### Access set item"
      ]
    },
    {
      "cell_type": "code",
      "metadata": {
        "id": "Mwr52w8Dv8zI",
        "outputId": "7c9bede7-8328-4771-cf4d-9f5da33b4581",
        "colab": {
          "base_uri": "https://localhost:8080/"
        }
      },
      "source": [
        "positiveIntegerSet = set((1,2,3,4,5,6,7,8,9))\n",
        "for num in positiveIntegerSet:\n",
        "  print(num)"
      ],
      "execution_count": 203,
      "outputs": [
        {
          "output_type": "stream",
          "name": "stdout",
          "text": [
            "1\n",
            "2\n",
            "3\n",
            "4\n",
            "5\n",
            "6\n",
            "7\n",
            "8\n",
            "9\n"
          ]
        }
      ]
    },
    {
      "cell_type": "code",
      "metadata": {
        "id": "9auNuugz9tCO",
        "outputId": "9a36b08a-5116-4dc0-bd75-e5659e483cdd",
        "colab": {
          "base_uri": "https://localhost:8080/"
        }
      },
      "source": [
        "# Get last item. The set is unordered so the order in which the items are popped out cannot be determined.\n",
        "positiveIntegerSet = set((1,2,3,4,5,6,7,8,9))\n",
        "print(positiveIntegerSet)\n",
        "lastItem = positiveIntegerSet.pop()\n",
        "\n",
        "print(lastItem)"
      ],
      "execution_count": 220,
      "outputs": [
        {
          "output_type": "stream",
          "name": "stdout",
          "text": [
            "{1, 2, 3, 4, 5, 6, 7, 8, 9}\n",
            "1\n"
          ]
        }
      ]
    },
    {
      "cell_type": "markdown",
      "metadata": {
        "id": "mTz7MTzoxdMb"
      },
      "source": [
        "##### Check if an item exits in a set"
      ]
    },
    {
      "cell_type": "code",
      "metadata": {
        "id": "YKO3BoR3xEKP",
        "outputId": "d04d8ecd-8d49-43f0-89a6-a6bcfdb420ca",
        "colab": {
          "base_uri": "https://localhost:8080/"
        }
      },
      "source": [
        "positiveIntegerSet = set((1,2,3,4,5,6,7,8,9))\n",
        "print([3 in positiveIntegerSet])\n",
        "print([10 in positiveIntegerSet])"
      ],
      "execution_count": 206,
      "outputs": [
        {
          "output_type": "stream",
          "name": "stdout",
          "text": [
            "[True]\n",
            "[False]\n"
          ]
        }
      ]
    },
    {
      "cell_type": "markdown",
      "metadata": {
        "id": "9bxsX_hly8p4"
      },
      "source": [
        "##### Add Item"
      ]
    },
    {
      "cell_type": "code",
      "metadata": {
        "id": "vg0BTfxby-cZ",
        "outputId": "06dc584b-0214-4bb7-fc74-c578ed04bedc",
        "colab": {
          "base_uri": "https://localhost:8080/"
        }
      },
      "source": [
        "positiveIntegerSet = set((1,2,3,4,5,6,7,8,9))\n",
        "positiveIntegerSet.add(0)\n",
        "print(positiveIntegerSet)"
      ],
      "execution_count": 208,
      "outputs": [
        {
          "output_type": "stream",
          "name": "stdout",
          "text": [
            "{0, 1, 2, 3, 4, 5, 6, 7, 8, 9}\n"
          ]
        }
      ]
    },
    {
      "cell_type": "markdown",
      "metadata": {
        "id": "UH4OEGBxyCBE"
      },
      "source": [
        "##### Add entire set"
      ]
    },
    {
      "cell_type": "code",
      "metadata": {
        "id": "-6pnzU6255k3",
        "outputId": "9327d032-80ef-486b-f507-e62d9a5676ea",
        "colab": {
          "base_uri": "https://localhost:8080/"
        }
      },
      "source": [
        "# add another set into existing set\n",
        "positiveIntegerSet={1,2,3,4,5}\n",
        "positiveIntegerSet2={4,5,6,7,8,9}\n",
        "positiveIntegerSet.update(positiveIntegerSet2)\n",
        "print(positiveIntegerSet)"
      ],
      "execution_count": 210,
      "outputs": [
        {
          "output_type": "stream",
          "name": "stdout",
          "text": [
            "{1, 2, 3, 4, 5, 6, 7, 8, 9}\n"
          ]
        }
      ]
    },
    {
      "cell_type": "code",
      "metadata": {
        "id": "S1Qbj_BnxsGp",
        "outputId": "c37746e5-8c6c-4647-b353-b52c403d0251",
        "colab": {
          "base_uri": "https://localhost:8080/"
        }
      },
      "source": [
        "# add a list into existing set\n",
        "positiveIntegerSet={1,2,3,4,5}\n",
        "positiveIntegerList=[4,5,6,7,8,9]\n",
        "positiveIntegerSet.update(positiveIntegerList)\n",
        "print(positiveIntegerSet)\n"
      ],
      "execution_count": 211,
      "outputs": [
        {
          "output_type": "stream",
          "name": "stdout",
          "text": [
            "{1, 2, 3, 4, 5, 6, 7, 8, 9}\n"
          ]
        }
      ]
    },
    {
      "cell_type": "code",
      "metadata": {
        "id": "9Pdsn2SSyqfl",
        "outputId": "0b02b502-e4a2-43be-83b8-562fc4733996",
        "colab": {
          "base_uri": "https://localhost:8080/"
        }
      },
      "source": [
        "# add a tuple into existing set\n",
        "positiveIntegerSet={1,2,3,4,5}\n",
        "positiveIntegerList=(4,5,6,7,8,9)\n",
        "positiveIntegerSet.update(positiveIntegerList)\n",
        "print(positiveIntegerSet)"
      ],
      "execution_count": 212,
      "outputs": [
        {
          "output_type": "stream",
          "name": "stdout",
          "text": [
            "{1, 2, 3, 4, 5, 6, 7, 8, 9}\n"
          ]
        }
      ]
    },
    {
      "cell_type": "markdown",
      "metadata": {
        "id": "s9yDWCDj7YWl"
      },
      "source": [
        "##### Remove item from set"
      ]
    },
    {
      "cell_type": "code",
      "metadata": {
        "id": "CMDgOJcU7T4o",
        "outputId": "511685a7-80fb-4994-b567-855e38328018",
        "colab": {
          "base_uri": "https://localhost:8080/"
        }
      },
      "source": [
        "# Using remove\n",
        "fruitsSet = {\"apple\", \"banana\", \"cherry\"}\n",
        "\n",
        "fruitsSet.remove(\"banana\")\n",
        "\n",
        "print(fruitsSet) "
      ],
      "execution_count": 213,
      "outputs": [
        {
          "output_type": "stream",
          "name": "stdout",
          "text": [
            "{'cherry', 'apple'}\n"
          ]
        }
      ]
    },
    {
      "cell_type": "code",
      "metadata": {
        "id": "Gh8dXOsR7kCu",
        "outputId": "1472fca0-dea9-4551-954b-71bd88936221",
        "colab": {
          "base_uri": "https://localhost:8080/",
          "height": 237
        }
      },
      "source": [
        "# Using remove and the item does not exist in the set\n",
        "fruitsSet = {\"apple\", \"banana\", \"cherry\"}\n",
        "\n",
        "fruitsSet.remove(\"melon\")\n",
        "\n",
        "print(fruitsSet) "
      ],
      "execution_count": 214,
      "outputs": [
        {
          "output_type": "error",
          "ename": "KeyError",
          "evalue": "ignored",
          "traceback": [
            "\u001b[0;31m---------------------------------------------------------------------------\u001b[0m",
            "\u001b[0;31mKeyError\u001b[0m                                  Traceback (most recent call last)",
            "\u001b[0;32m<ipython-input-214-75cb8ed3b117>\u001b[0m in \u001b[0;36m<module>\u001b[0;34m()\u001b[0m\n\u001b[1;32m      2\u001b[0m \u001b[0mfruitsSet\u001b[0m \u001b[0;34m=\u001b[0m \u001b[0;34m{\u001b[0m\u001b[0;34m\"apple\"\u001b[0m\u001b[0;34m,\u001b[0m \u001b[0;34m\"banana\"\u001b[0m\u001b[0;34m,\u001b[0m \u001b[0;34m\"cherry\"\u001b[0m\u001b[0;34m}\u001b[0m\u001b[0;34m\u001b[0m\u001b[0;34m\u001b[0m\u001b[0m\n\u001b[1;32m      3\u001b[0m \u001b[0;34m\u001b[0m\u001b[0m\n\u001b[0;32m----> 4\u001b[0;31m \u001b[0mfruitsSet\u001b[0m\u001b[0;34m.\u001b[0m\u001b[0mremove\u001b[0m\u001b[0;34m(\u001b[0m\u001b[0;34m\"melon\"\u001b[0m\u001b[0;34m)\u001b[0m\u001b[0;34m\u001b[0m\u001b[0;34m\u001b[0m\u001b[0m\n\u001b[0m\u001b[1;32m      5\u001b[0m \u001b[0;34m\u001b[0m\u001b[0m\n\u001b[1;32m      6\u001b[0m \u001b[0mprint\u001b[0m\u001b[0;34m(\u001b[0m\u001b[0mfruitsSet\u001b[0m\u001b[0;34m)\u001b[0m\u001b[0;34m\u001b[0m\u001b[0;34m\u001b[0m\u001b[0m\n",
            "\u001b[0;31mKeyError\u001b[0m: 'melon'"
          ]
        }
      ]
    },
    {
      "cell_type": "code",
      "metadata": {
        "id": "tjRulfeR7zeV",
        "outputId": "25a75a76-d89c-470c-ac95-baa2e7af63dd",
        "colab": {
          "base_uri": "https://localhost:8080/"
        }
      },
      "source": [
        "# Using discard\n",
        "fruitsSet = {\"apple\", \"banana\", \"cherry\"}\n",
        "\n",
        "fruitsSet.discard(\"banana\")\n",
        "\n",
        "print(fruitsSet) "
      ],
      "execution_count": 215,
      "outputs": [
        {
          "output_type": "stream",
          "name": "stdout",
          "text": [
            "{'cherry', 'apple'}\n"
          ]
        }
      ]
    },
    {
      "cell_type": "code",
      "metadata": {
        "id": "Kj_ITala75eg",
        "outputId": "f8cd3215-992f-473c-b6a0-46a2853488dc",
        "colab": {
          "base_uri": "https://localhost:8080/"
        }
      },
      "source": [
        "# Using discard and the item does not exist in the set\n",
        "fruitsSet = {\"apple\", \"banana\", \"cherry\"}\n",
        "\n",
        "fruitsSet.discard(\"melon\")\n",
        "\n",
        "print(fruitsSet) "
      ],
      "execution_count": 216,
      "outputs": [
        {
          "output_type": "stream",
          "name": "stdout",
          "text": [
            "{'banana', 'cherry', 'apple'}\n"
          ]
        }
      ]
    },
    {
      "cell_type": "markdown",
      "metadata": {
        "id": "N4_vKzW89b3Q"
      },
      "source": [
        "##### Clear the Set"
      ]
    },
    {
      "cell_type": "code",
      "metadata": {
        "id": "J8EIKGFi8E6c",
        "outputId": "32cf39c3-f359-4978-f1cb-4c7b08e152c9",
        "colab": {
          "base_uri": "https://localhost:8080/"
        }
      },
      "source": [
        "fruitSet = {\"apple\", \"banana\", \"cherry\"}\n",
        "print(fruitSet)\n",
        "fruitSet.clear()\n",
        "print(fruitSet)"
      ],
      "execution_count": 223,
      "outputs": [
        {
          "output_type": "stream",
          "name": "stdout",
          "text": [
            "{'banana', 'cherry', 'apple'}\n",
            "set()\n"
          ]
        }
      ]
    },
    {
      "cell_type": "markdown",
      "metadata": {
        "id": "g6gDUXbY_xUT"
      },
      "source": [
        "##### delete the Set"
      ]
    },
    {
      "cell_type": "code",
      "metadata": {
        "id": "P9qR8Nqs_1_Q",
        "outputId": "490bb683-dd02-457a-95e8-2f27706578bb",
        "colab": {
          "base_uri": "https://localhost:8080/"
        }
      },
      "source": [
        "delFruitSet = {\"apple\", \"banana\", \"cherry\"}\n",
        "print(delFruitSet)"
      ],
      "execution_count": 224,
      "outputs": [
        {
          "output_type": "stream",
          "name": "stdout",
          "text": [
            "{'banana', 'cherry', 'apple'}\n"
          ]
        }
      ]
    },
    {
      "cell_type": "code",
      "metadata": {
        "id": "r-OEZH_G_9Vb"
      },
      "source": [
        "del delFruitSet"
      ],
      "execution_count": 225,
      "outputs": []
    },
    {
      "cell_type": "markdown",
      "metadata": {
        "id": "xGoL00Kn8KBf"
      },
      "source": [
        ""
      ]
    },
    {
      "cell_type": "code",
      "metadata": {
        "id": "4QVG2sasABlH",
        "outputId": "3efacfbb-e8b7-4b01-953b-f15bffca7a5c",
        "colab": {
          "base_uri": "https://localhost:8080/",
          "height": 167
        }
      },
      "source": [
        "print(delFruitSet)"
      ],
      "execution_count": 226,
      "outputs": [
        {
          "output_type": "error",
          "ename": "NameError",
          "evalue": "ignored",
          "traceback": [
            "\u001b[0;31m---------------------------------------------------------------------------\u001b[0m",
            "\u001b[0;31mNameError\u001b[0m                                 Traceback (most recent call last)",
            "\u001b[0;32m<ipython-input-226-f8efe40a4629>\u001b[0m in \u001b[0;36m<module>\u001b[0;34m()\u001b[0m\n\u001b[0;32m----> 1\u001b[0;31m \u001b[0mprint\u001b[0m\u001b[0;34m(\u001b[0m\u001b[0mdelFruitSet\u001b[0m\u001b[0;34m)\u001b[0m\u001b[0;34m\u001b[0m\u001b[0;34m\u001b[0m\u001b[0m\n\u001b[0m",
            "\u001b[0;31mNameError\u001b[0m: name 'delFruitSet' is not defined"
          ]
        }
      ]
    },
    {
      "cell_type": "markdown",
      "metadata": {
        "id": "Go8iSQedAIbK"
      },
      "source": [
        "##### Loop through Set"
      ]
    },
    {
      "cell_type": "code",
      "metadata": {
        "id": "JvaWvrLUADQ-",
        "outputId": "0d41c591-318e-46cd-d4e3-81fe738110a2",
        "colab": {
          "base_uri": "https://localhost:8080/"
        }
      },
      "source": [
        "fruitSet = {\"apple\", \"banana\", \"cherry\"}\n",
        "for fruit in fruitSet:\n",
        "  print(fruit)"
      ],
      "execution_count": 227,
      "outputs": [
        {
          "output_type": "stream",
          "name": "stdout",
          "text": [
            "banana\n",
            "cherry\n",
            "apple\n"
          ]
        }
      ]
    },
    {
      "cell_type": "markdown",
      "metadata": {
        "id": "5W45XvqgAZe_"
      },
      "source": [
        "##### Set operations"
      ]
    },
    {
      "cell_type": "code",
      "metadata": {
        "id": "Nft1KL4CATY1",
        "outputId": "a83e2fcc-8eae-4f1d-c3b4-f4ac65427cf1",
        "colab": {
          "base_uri": "https://localhost:8080/"
        }
      },
      "source": [
        "# union - the same can be achieved using update()\n",
        "fruitSet = {\"apple\", \"banana\", \"cherry\"}\n",
        "citrusSet = {\"orange\", \"Lemon\"}\n",
        "unionSet = fruitSet.union(citrusSet)\n",
        "print(unionSet)\n"
      ],
      "execution_count": 229,
      "outputs": [
        {
          "output_type": "stream",
          "name": "stdout",
          "text": [
            "{'banana', 'orange', 'Lemon', 'cherry', 'apple'}\n"
          ]
        }
      ]
    },
    {
      "cell_type": "code",
      "metadata": {
        "id": "LWpQaRqoBu5P",
        "outputId": "4c97d7d1-5c61-4413-fcf6-9fb5e66ed80a",
        "colab": {
          "base_uri": "https://localhost:8080/"
        }
      },
      "source": [
        "# intersection without creating new Set\n",
        "fruitSet1 = {\"orange\",\"banana\",\"cherry\",\"pineapple\"}\n",
        "fruitSet2 = {\"pineapple\",\"melon\",\"orange\"}\n",
        "fruitSet1.intersection_update(fruitSet2)\n",
        "print(fruitSet1)"
      ],
      "execution_count": 231,
      "outputs": [
        {
          "output_type": "stream",
          "name": "stdout",
          "text": [
            "{'pineapple', 'orange'}\n"
          ]
        }
      ]
    },
    {
      "cell_type": "code",
      "metadata": {
        "id": "ezwZL7w8Cc0N",
        "outputId": "f3f1b6ab-7519-4fde-e9e7-3715d94e8c5d",
        "colab": {
          "base_uri": "https://localhost:8080/"
        }
      },
      "source": [
        "# intersection with creation of new Set\n",
        "fruitSet1 = {\"orange\",\"banana\",\"cherry\",\"pineapple\"}\n",
        "fruitSet2 = {\"pineapple\",\"melon\",\"orange\"}\n",
        "fruitSet = fruitSet1.intersection(fruitSet2)\n",
        "print(fruitSet)"
      ],
      "execution_count": 235,
      "outputs": [
        {
          "output_type": "stream",
          "name": "stdout",
          "text": [
            "{'pineapple', 'orange'}\n"
          ]
        }
      ]
    },
    {
      "cell_type": "code",
      "metadata": {
        "id": "Y9_kkKsDC46v",
        "outputId": "583c6793-ed0c-4c8b-cef1-ebce688659cd",
        "colab": {
          "base_uri": "https://localhost:8080/"
        }
      },
      "source": [
        "# get union of sets minus the intersection\n",
        "fruitSet1 = {\"orange\",\"banana\",\"cherry\",\"pineapple\"}\n",
        "fruitSet2 = {\"pineapple\",\"melon\",\"orange\"}\n",
        "fruitSet1.symmetric_difference_update(fruitSet2)\n",
        "print(fruitSet1)"
      ],
      "execution_count": 237,
      "outputs": [
        {
          "output_type": "stream",
          "name": "stdout",
          "text": [
            "{'banana', 'cherry', 'melon'}\n"
          ]
        }
      ]
    },
    {
      "cell_type": "code",
      "metadata": {
        "id": "V8-QDD5AEMkb",
        "outputId": "a6542329-c48b-443b-da9e-25f371f9b61d",
        "colab": {
          "base_uri": "https://localhost:8080/"
        }
      },
      "source": [
        "# get union of sets minus the intersection\n",
        "fruitSet1 = {\"orange\",\"banana\",\"cherry\",\"pineapple\"}\n",
        "fruitSet2 = {\"pineapple\",\"melon\",\"orange\"}\n",
        "fruitSet = fruitSet1.symmetric_difference(fruitSet2)\n",
        "print(fruitSet)"
      ],
      "execution_count": 238,
      "outputs": [
        {
          "output_type": "stream",
          "name": "stdout",
          "text": [
            "{'banana', 'cherry', 'melon'}\n"
          ]
        }
      ]
    },
    {
      "cell_type": "code",
      "metadata": {
        "id": "-Yb8C5csEZZ9"
      },
      "source": [
        ""
      ],
      "execution_count": null,
      "outputs": []
    }
  ]
}