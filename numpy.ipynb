{
  "nbformat": 4,
  "nbformat_minor": 0,
  "metadata": {
    "colab": {
      "name": "numpy.ipynb",
      "provenance": [],
      "collapsed_sections": [],
      "include_colab_link": true
    },
    "kernelspec": {
      "name": "python3",
      "display_name": "Python 3"
    },
    "language_info": {
      "name": "python"
    }
  },
  "cells": [
    {
      "cell_type": "markdown",
      "metadata": {
        "id": "view-in-github",
        "colab_type": "text"
      },
      "source": [
        "<a href=\"https://colab.research.google.com/github/techakilan/python-datascience-training/blob/master/numpy.ipynb\" target=\"_parent\"><img src=\"https://colab.research.google.com/assets/colab-badge.svg\" alt=\"Open In Colab\"/></a>"
      ]
    },
    {
      "cell_type": "markdown",
      "metadata": {
        "id": "eBQm5ordL39l"
      },
      "source": [
        "# Import numpy"
      ]
    },
    {
      "cell_type": "code",
      "metadata": {
        "id": "tedk6-ZSMMTM"
      },
      "source": [
        "import numpy as np"
      ],
      "execution_count": 110,
      "outputs": []
    },
    {
      "cell_type": "markdown",
      "metadata": {
        "id": "shqa84BPMpFX"
      },
      "source": [
        "# Create 1D array"
      ]
    },
    {
      "cell_type": "code",
      "metadata": {
        "colab": {
          "base_uri": "https://localhost:8080/"
        },
        "id": "fK2fRyRfMQvk",
        "outputId": "8ae4dfe8-8802-4ea3-fad9-e26a1d2cd351"
      },
      "source": [
        "onedarray = np.array([1])\n",
        "print(onedarray)"
      ],
      "execution_count": 111,
      "outputs": [
        {
          "output_type": "stream",
          "name": "stdout",
          "text": [
            "[1]\n"
          ]
        }
      ]
    },
    {
      "cell_type": "code",
      "metadata": {
        "colab": {
          "base_uri": "https://localhost:8080/"
        },
        "id": "h2TWKDjaPrnG",
        "outputId": "122f5d3e-4ed8-4fe6-e034-35fd6f0c19ad"
      },
      "source": [
        "onedarray2 = np.array([1,2,3])\n",
        "print(onedarray2)"
      ],
      "execution_count": 112,
      "outputs": [
        {
          "output_type": "stream",
          "name": "stdout",
          "text": [
            "[1 2 3]\n"
          ]
        }
      ]
    },
    {
      "cell_type": "markdown",
      "metadata": {
        "id": "jbLi3j7VNOX8"
      },
      "source": [
        "# Create 2d array"
      ]
    },
    {
      "cell_type": "code",
      "metadata": {
        "colab": {
          "base_uri": "https://localhost:8080/"
        },
        "id": "MZdKZWrrM775",
        "outputId": "59a56156-bbb5-461c-cfe2-ba33c6307044"
      },
      "source": [
        "twodarray = np.array([[1]])\n",
        "print(twodarray)"
      ],
      "execution_count": 113,
      "outputs": [
        {
          "output_type": "stream",
          "name": "stdout",
          "text": [
            "[[1]]\n"
          ]
        }
      ]
    },
    {
      "cell_type": "code",
      "metadata": {
        "colab": {
          "base_uri": "https://localhost:8080/"
        },
        "id": "1xRk9D0bP3uz",
        "outputId": "f268e99d-e5fe-4dc0-e826-bf73b6e47ec7"
      },
      "source": [
        "twodarray2 = np.array([[1,2],[3,4]])\n",
        "print(twodarray2)"
      ],
      "execution_count": 114,
      "outputs": [
        {
          "output_type": "stream",
          "name": "stdout",
          "text": [
            "[[1 2]\n",
            " [3 4]]\n"
          ]
        }
      ]
    },
    {
      "cell_type": "markdown",
      "metadata": {
        "id": "pyUs4_DENttQ"
      },
      "source": [
        "# Create 3D array"
      ]
    },
    {
      "cell_type": "code",
      "metadata": {
        "colab": {
          "base_uri": "https://localhost:8080/"
        },
        "id": "bCoJzmdiNXyM",
        "outputId": "772b3e7a-b94d-49ad-8b5a-984f54cde157"
      },
      "source": [
        "threedarray = np.array([[[1]]])\n",
        "print(threedarray)"
      ],
      "execution_count": 115,
      "outputs": [
        {
          "output_type": "stream",
          "name": "stdout",
          "text": [
            "[[[1]]]\n"
          ]
        }
      ]
    },
    {
      "cell_type": "code",
      "metadata": {
        "colab": {
          "base_uri": "https://localhost:8080/"
        },
        "id": "Cg30X8-eQLO5",
        "outputId": "821420f1-2040-474e-dad8-249b5f80c574"
      },
      "source": [
        "threedarray2 = np.array([[[1,2,3],[7,8,9]],[[4,5,6],[9,8,7]], [[1,2,3],[7,8,9]],[[4,5,6],[9,8,7]]])\n",
        "print(threedarray2)"
      ],
      "execution_count": 116,
      "outputs": [
        {
          "output_type": "stream",
          "name": "stdout",
          "text": [
            "[[[1 2 3]\n",
            "  [7 8 9]]\n",
            "\n",
            " [[4 5 6]\n",
            "  [9 8 7]]\n",
            "\n",
            " [[1 2 3]\n",
            "  [7 8 9]]\n",
            "\n",
            " [[4 5 6]\n",
            "  [9 8 7]]]\n"
          ]
        }
      ]
    },
    {
      "cell_type": "markdown",
      "metadata": {
        "id": "coiHVKzvOGuR"
      },
      "source": [
        "# Get dimension of an array"
      ]
    },
    {
      "cell_type": "markdown",
      "metadata": {
        "id": "MGUjUK4fOM2a"
      },
      "source": [
        "## Dimensions of 1D array"
      ]
    },
    {
      "cell_type": "markdown",
      "metadata": {
        "id": "yTl4rUW0OkA6"
      },
      "source": [
        "onedarray => \n",
        "\n",
        "[1]\n",
        "\n",
        "The dimension of the array is 1"
      ]
    },
    {
      "cell_type": "code",
      "metadata": {
        "colab": {
          "base_uri": "https://localhost:8080/"
        },
        "id": "LeM_9k8DOK-1",
        "outputId": "aac10178-3c9c-4479-cbf7-60d28a2780a1"
      },
      "source": [
        "onedarray.ndim"
      ],
      "execution_count": 117,
      "outputs": [
        {
          "output_type": "execute_result",
          "data": {
            "text/plain": [
              "1"
            ]
          },
          "metadata": {},
          "execution_count": 117
        }
      ]
    },
    {
      "cell_type": "markdown",
      "metadata": {
        "id": "c9j3yXQTOm9t"
      },
      "source": [
        "onedarray2 => \n",
        "\n",
        "[1 2 3]\n",
        "\n",
        "The dimension of the array is 1"
      ]
    },
    {
      "cell_type": "code",
      "metadata": {
        "colab": {
          "base_uri": "https://localhost:8080/"
        },
        "id": "R7o1mA2LRD5G",
        "outputId": "bb72e2ed-6a3e-49a7-9ac5-bb9614351e06"
      },
      "source": [
        "onedarray2.ndim"
      ],
      "execution_count": 118,
      "outputs": [
        {
          "output_type": "execute_result",
          "data": {
            "text/plain": [
              "1"
            ]
          },
          "metadata": {},
          "execution_count": 118
        }
      ]
    },
    {
      "cell_type": "markdown",
      "metadata": {
        "id": "9imok2e8Ogix"
      },
      "source": [
        "## Dimension of 2D array"
      ]
    },
    {
      "cell_type": "markdown",
      "metadata": {
        "id": "9y62btgcO0mO"
      },
      "source": [
        "twodarray => \n",
        "\n",
        "[[1]]\n",
        "\n",
        "The dimension of the array is 2"
      ]
    },
    {
      "cell_type": "code",
      "metadata": {
        "colab": {
          "base_uri": "https://localhost:8080/"
        },
        "id": "XJ1QWmv8OX-Q",
        "outputId": "8aaf8af9-72e1-4fce-9ca1-e22500c89b46"
      },
      "source": [
        "twodarray.ndim"
      ],
      "execution_count": 119,
      "outputs": [
        {
          "output_type": "execute_result",
          "data": {
            "text/plain": [
              "2"
            ]
          },
          "metadata": {},
          "execution_count": 119
        }
      ]
    },
    {
      "cell_type": "markdown",
      "metadata": {
        "id": "83_UGARJPWj5"
      },
      "source": [
        "twodarray2 => \n",
        "\n",
        "[[1 2]\n",
        "\n",
        " [3 4]]\n",
        "\n",
        " The dimension of the array is 2\n",
        "\n"
      ]
    },
    {
      "cell_type": "code",
      "metadata": {
        "colab": {
          "base_uri": "https://localhost:8080/"
        },
        "id": "UOUp4EftQ-FS",
        "outputId": "52b4cc7c-feab-47ae-d3c7-df2bfbf2f8a3"
      },
      "source": [
        "twodarray2.ndim"
      ],
      "execution_count": 120,
      "outputs": [
        {
          "output_type": "execute_result",
          "data": {
            "text/plain": [
              "2"
            ]
          },
          "metadata": {},
          "execution_count": 120
        }
      ]
    },
    {
      "cell_type": "markdown",
      "metadata": {
        "id": "o-GHBnkFOojA"
      },
      "source": [
        "## Dimension of 3D array"
      ]
    },
    {
      "cell_type": "markdown",
      "metadata": {
        "id": "weG0R9tfbhV0"
      },
      "source": [
        "threedarray =>\n",
        "\n",
        "[[[1]]]\n",
        "\n",
        "The dimension of the array is 3"
      ]
    },
    {
      "cell_type": "code",
      "metadata": {
        "colab": {
          "base_uri": "https://localhost:8080/"
        },
        "id": "Pnxm0berOrP4",
        "outputId": "3974ece8-1577-4590-a7b6-ddd9be435c1a"
      },
      "source": [
        "threedarray.ndim"
      ],
      "execution_count": 121,
      "outputs": [
        {
          "output_type": "execute_result",
          "data": {
            "text/plain": [
              "3"
            ]
          },
          "metadata": {},
          "execution_count": 121
        }
      ]
    },
    {
      "cell_type": "markdown",
      "metadata": {
        "id": "ygN5yp_gbxmF"
      },
      "source": [
        "threedarray2 =>\n",
        "\n",
        "[[[1 2 3]\n",
        "  [7 8 9]]\n",
        "\n",
        " [[4 5 6]\n",
        "  [9 8 7]]\n",
        "\n",
        " [[1 2 3]\n",
        "  [7 8 9]]\n",
        "\n",
        " [[4 5 6]\n",
        "  [9 8 7]]]\n",
        "\n",
        "The dimension of the array is 3"
      ]
    },
    {
      "cell_type": "code",
      "metadata": {
        "colab": {
          "base_uri": "https://localhost:8080/"
        },
        "id": "QAyrPpsnOvJ7",
        "outputId": "5f8dfa5a-6444-4bed-cfe3-fbb526574265"
      },
      "source": [
        "threedarray2.ndim"
      ],
      "execution_count": 122,
      "outputs": [
        {
          "output_type": "execute_result",
          "data": {
            "text/plain": [
              "3"
            ]
          },
          "metadata": {},
          "execution_count": 122
        }
      ]
    },
    {
      "cell_type": "markdown",
      "metadata": {
        "id": "REzrNLKmJfHm"
      },
      "source": [
        "# Shape of array"
      ]
    },
    {
      "cell_type": "markdown",
      "metadata": {
        "id": "UcNnZmIMJjVa"
      },
      "source": [
        "## Shape of 1D array"
      ]
    },
    {
      "cell_type": "markdown",
      "metadata": {
        "id": "LRdoOepCO4MG"
      },
      "source": [
        "onedarray =>\n",
        "\n",
        "[[1]]"
      ]
    },
    {
      "cell_type": "code",
      "metadata": {
        "id": "DNdCS0XWI7OC",
        "colab": {
          "base_uri": "https://localhost:8080/"
        },
        "outputId": "2877e44f-a545-46ec-8445-c556d90c732a"
      },
      "source": [
        "onedarray.shape"
      ],
      "execution_count": 123,
      "outputs": [
        {
          "output_type": "execute_result",
          "data": {
            "text/plain": [
              "(1,)"
            ]
          },
          "metadata": {},
          "execution_count": 123
        }
      ]
    },
    {
      "cell_type": "markdown",
      "metadata": {
        "id": "awl6v0mFe0Ac"
      },
      "source": [
        "The result (1, ) means the array has single index with a index length of 1. Total length of array is 1."
      ]
    },
    {
      "cell_type": "markdown",
      "metadata": {
        "id": "P0KLUjuBPBJl"
      },
      "source": [
        "onedarray2 =>\n",
        "\n",
        "[1 2 3]"
      ]
    },
    {
      "cell_type": "code",
      "metadata": {
        "id": "8V_vlihuJu_u",
        "colab": {
          "base_uri": "https://localhost:8080/"
        },
        "outputId": "9d54e5fb-ad2c-4fb8-9440-30b09e73a455"
      },
      "source": [
        "onedarray2.shape"
      ],
      "execution_count": 124,
      "outputs": [
        {
          "output_type": "execute_result",
          "data": {
            "text/plain": [
              "(3,)"
            ]
          },
          "metadata": {},
          "execution_count": 124
        }
      ]
    },
    {
      "cell_type": "markdown",
      "metadata": {
        "id": "MtrxPUqWd5Wu"
      },
      "source": [
        "The result (3,) means the array has single index with a index length of 3\n",
        "\n",
        "i= 0    1    2\n",
        "\n",
        "[  1    2     3]\n",
        "\n",
        "The total length of array is 3"
      ]
    },
    {
      "cell_type": "markdown",
      "metadata": {
        "id": "tpQLvsO0ORU0"
      },
      "source": [
        "## Shape of 2D array"
      ]
    },
    {
      "cell_type": "markdown",
      "metadata": {
        "id": "gRdQ1UlNPNXm"
      },
      "source": [
        "twodarray =>\n",
        "\n",
        "[[1]]"
      ]
    },
    {
      "cell_type": "code",
      "metadata": {
        "id": "pd0lqxfEJxng",
        "colab": {
          "base_uri": "https://localhost:8080/"
        },
        "outputId": "3cbc43b7-19bd-4836-d701-0bafe7baf444"
      },
      "source": [
        "twodarray.shape"
      ],
      "execution_count": 125,
      "outputs": [
        {
          "output_type": "execute_result",
          "data": {
            "text/plain": [
              "(1, 1)"
            ]
          },
          "metadata": {},
          "execution_count": 125
        }
      ]
    },
    {
      "cell_type": "markdown",
      "metadata": {
        "id": "KQVxtE9_fNj5"
      },
      "source": [
        "The result (1,1) means the array has 2 indexes (say i,j) and first index has length of 1 and second index has length of 1. The total length of array is 1.\n",
        "\n",
        "i= 0\n",
        "\n",
        "j= 0\n",
        "\n",
        "[1]"
      ]
    },
    {
      "cell_type": "markdown",
      "metadata": {
        "id": "VN7sexHHPd0C"
      },
      "source": [
        "twodarray2 =>\n",
        "\n",
        "[[1 2]\n",
        "\n",
        " [3 4]]\n",
        "\n"
      ]
    },
    {
      "cell_type": "code",
      "metadata": {
        "id": "0143zvT4OYFT",
        "colab": {
          "base_uri": "https://localhost:8080/"
        },
        "outputId": "710d6efa-e22a-4a02-fb77-de100abf6b3d"
      },
      "source": [
        "twodarray2.shape"
      ],
      "execution_count": 126,
      "outputs": [
        {
          "output_type": "execute_result",
          "data": {
            "text/plain": [
              "(2, 2)"
            ]
          },
          "metadata": {},
          "execution_count": 126
        }
      ]
    },
    {
      "cell_type": "markdown",
      "metadata": {
        "id": "kOR0V93Afm3i"
      },
      "source": [
        "The result (2,2) means that the array has 2 indexes(say i,j) and the first index has length of 2 and second index has length of 2. The total length of the array is 4.\n",
        "\n",
        "i= 0    1\n",
        "\n",
        "j= 0    1\n",
        "\n",
        "[1 2 3 4]"
      ]
    },
    {
      "cell_type": "code",
      "metadata": {
        "colab": {
          "base_uri": "https://localhost:8080/"
        },
        "id": "FP97THTZgWUo",
        "outputId": "a5cbb896-4cc3-4683-db8f-7a17873081df"
      },
      "source": [
        "twodarray2[1,1]"
      ],
      "execution_count": 131,
      "outputs": [
        {
          "output_type": "execute_result",
          "data": {
            "text/plain": [
              "4"
            ]
          },
          "metadata": {},
          "execution_count": 131
        }
      ]
    },
    {
      "cell_type": "markdown",
      "metadata": {
        "id": "qLpfr8oScmeY"
      },
      "source": [
        "#Shape of 3D array"
      ]
    },
    {
      "cell_type": "markdown",
      "metadata": {
        "id": "VHrshJ4BcuDz"
      },
      "source": [
        "threedarray =>\n",
        "\n",
        "[[[1]]]"
      ]
    },
    {
      "cell_type": "code",
      "metadata": {
        "id": "cKSY3HSYObwx",
        "colab": {
          "base_uri": "https://localhost:8080/"
        },
        "outputId": "78c1e551-adcc-40d6-8b7e-a9d22d69d1fa"
      },
      "source": [
        "threedarray.shape"
      ],
      "execution_count": 128,
      "outputs": [
        {
          "output_type": "execute_result",
          "data": {
            "text/plain": [
              "(1, 1, 1)"
            ]
          },
          "metadata": {},
          "execution_count": 128
        }
      ]
    },
    {
      "cell_type": "markdown",
      "metadata": {
        "id": "Yh-6LjbPgogU"
      },
      "source": [
        "The result means the array has 3 indexes(say i,j,k). The first index has length 1. Second index has length 1. Third index has length 1. The array length is 1\n",
        "\n",
        "i = 0\n",
        "\n",
        "j = 0\n",
        "\n",
        "k = 0\n",
        "\n",
        "[1]"
      ]
    },
    {
      "cell_type": "markdown",
      "metadata": {
        "id": "-0BKi1ZVc8Km"
      },
      "source": [
        "threedarray2 =>\n",
        "\n",
        "\n",
        "[[[1 2 3] [7 8 9]]\n",
        "\n",
        "[[4 5 6] [9 8 7]]\n",
        "\n",
        "[[1 2 3] [7 8 9]]\n",
        "\n",
        "[[4 5 6] [9 8 7]]]"
      ]
    },
    {
      "cell_type": "code",
      "metadata": {
        "colab": {
          "base_uri": "https://localhost:8080/"
        },
        "id": "HAQw6yQHdBJO",
        "outputId": "b0977d05-fb8e-42ad-c80d-af4ef9660086"
      },
      "source": [
        "threedarray2.shape"
      ],
      "execution_count": 129,
      "outputs": [
        {
          "output_type": "execute_result",
          "data": {
            "text/plain": [
              "(4, 2, 3)"
            ]
          },
          "metadata": {},
          "execution_count": 129
        }
      ]
    },
    {
      "cell_type": "markdown",
      "metadata": {
        "id": "GCwFXFYuhZXn"
      },
      "source": [
        "The result means the array has 3 indexes(say i,j,k). The first index has length 4. Second index has length 2. Third index has length 3. The array length is 24.\n",
        "\n",
        "\n",
        "i = 0    1    2    3\n",
        "\n",
        "j = 0    1\n",
        "\n",
        "k = 0    1    2\n",
        "\n",
        "[1 2 3 7 8 9 4 5 6 9 8 7 1 2 3 7 8 9 4 5 6 9 8 7]"
      ]
    },
    {
      "cell_type": "code",
      "metadata": {
        "colab": {
          "base_uri": "https://localhost:8080/"
        },
        "id": "XIxw5KD2hVUT",
        "outputId": "7f98bd43-4327-448f-d590-e6edd90b703a"
      },
      "source": [
        "threedarray2[3,1,2]"
      ],
      "execution_count": 150,
      "outputs": [
        {
          "output_type": "execute_result",
          "data": {
            "text/plain": [
              "7"
            ]
          },
          "metadata": {},
          "execution_count": 150
        }
      ]
    },
    {
      "cell_type": "code",
      "metadata": {
        "id": "EA4eb1I1h44C"
      },
      "source": [
        ""
      ],
      "execution_count": null,
      "outputs": []
    }
  ]
}