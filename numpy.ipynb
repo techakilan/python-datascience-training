{
  "nbformat": 4,
  "nbformat_minor": 0,
  "metadata": {
    "colab": {
      "name": "numpy.ipynb",
      "provenance": [],
      "collapsed_sections": [],
      "authorship_tag": "ABX9TyOfnJIPS/Kkc3isX2XtfRpn",
      "include_colab_link": true
    },
    "kernelspec": {
      "name": "python3",
      "display_name": "Python 3"
    },
    "language_info": {
      "name": "python"
    }
  },
  "cells": [
    {
      "cell_type": "markdown",
      "metadata": {
        "id": "view-in-github",
        "colab_type": "text"
      },
      "source": [
        "<a href=\"https://colab.research.google.com/github/techakilan/python-datascience-training/blob/master/numpy.ipynb\" target=\"_parent\"><img src=\"https://colab.research.google.com/assets/colab-badge.svg\" alt=\"Open In Colab\"/></a>"
      ]
    },
    {
      "cell_type": "markdown",
      "metadata": {
        "id": "eBQm5ordL39l"
      },
      "source": [
        "# Import numpy"
      ]
    },
    {
      "cell_type": "code",
      "metadata": {
        "id": "tedk6-ZSMMTM"
      },
      "source": [
        "import numpy as np"
      ],
      "execution_count": 16,
      "outputs": []
    },
    {
      "cell_type": "markdown",
      "metadata": {
        "id": "shqa84BPMpFX"
      },
      "source": [
        "# Create 1D array"
      ]
    },
    {
      "cell_type": "code",
      "metadata": {
        "colab": {
          "base_uri": "https://localhost:8080/"
        },
        "id": "fK2fRyRfMQvk",
        "outputId": "0c769112-a961-4d03-f59e-469ac6a0a850"
      },
      "source": [
        "onedarray = np.array([1])\n",
        "print(onedarray)"
      ],
      "execution_count": 17,
      "outputs": [
        {
          "output_type": "stream",
          "name": "stdout",
          "text": [
            "[1]\n"
          ]
        }
      ]
    },
    {
      "cell_type": "code",
      "metadata": {
        "colab": {
          "base_uri": "https://localhost:8080/"
        },
        "id": "h2TWKDjaPrnG",
        "outputId": "0f4f875b-3fed-4401-eed7-3ed3d178e702"
      },
      "source": [
        "onedarray2 = np.array([1,2,3])\n",
        "print(onedarray2)"
      ],
      "execution_count": 23,
      "outputs": [
        {
          "output_type": "stream",
          "name": "stdout",
          "text": [
            "[1 2 3]\n"
          ]
        }
      ]
    },
    {
      "cell_type": "markdown",
      "metadata": {
        "id": "jbLi3j7VNOX8"
      },
      "source": [
        "# Create 2d array"
      ]
    },
    {
      "cell_type": "code",
      "metadata": {
        "colab": {
          "base_uri": "https://localhost:8080/"
        },
        "id": "MZdKZWrrM775",
        "outputId": "35e8a39b-696a-46bb-c795-bba6408e74a8"
      },
      "source": [
        "twodarray = np.array([[1]])\n",
        "print(twodarray)"
      ],
      "execution_count": 19,
      "outputs": [
        {
          "output_type": "stream",
          "name": "stdout",
          "text": [
            "[[1]]\n"
          ]
        }
      ]
    },
    {
      "cell_type": "code",
      "metadata": {
        "colab": {
          "base_uri": "https://localhost:8080/"
        },
        "id": "1xRk9D0bP3uz",
        "outputId": "f9ea8114-6039-4388-ba5b-41a2d8427379"
      },
      "source": [
        "twodarray2 = np.array([[1,2],[3,4]])\n",
        "print(twodarray2)"
      ],
      "execution_count": 26,
      "outputs": [
        {
          "output_type": "stream",
          "name": "stdout",
          "text": [
            "[[1 2]\n",
            " [3 4]]\n"
          ]
        }
      ]
    },
    {
      "cell_type": "markdown",
      "metadata": {
        "id": "pyUs4_DENttQ"
      },
      "source": [
        "# Create 3D array"
      ]
    },
    {
      "cell_type": "code",
      "metadata": {
        "colab": {
          "base_uri": "https://localhost:8080/"
        },
        "id": "bCoJzmdiNXyM",
        "outputId": "edcb5bcd-790a-4cef-c32e-dde169bc3ee9"
      },
      "source": [
        "threedarray = np.array([[[1]]])\n",
        "print(threedarray)"
      ],
      "execution_count": 21,
      "outputs": [
        {
          "output_type": "stream",
          "name": "stdout",
          "text": [
            "[[[1]]]\n"
          ]
        }
      ]
    },
    {
      "cell_type": "code",
      "metadata": {
        "colab": {
          "base_uri": "https://localhost:8080/"
        },
        "id": "Cg30X8-eQLO5",
        "outputId": "8bedd558-4c69-4ec7-aab1-68706f2cda8f"
      },
      "source": [
        "threedarray2 = np.array([[[1,2,3],[7,8,9]],[[4,5,6],[9,8,7]], [[1,2,3],[7,8,9]],[[4,5,6],[9,8,7]]])\n",
        "print(threedarray2)"
      ],
      "execution_count": 31,
      "outputs": [
        {
          "output_type": "stream",
          "name": "stdout",
          "text": [
            "[[[1 2 3]\n",
            "  [7 8 9]]\n",
            "\n",
            " [[4 5 6]\n",
            "  [9 8 7]]\n",
            "\n",
            " [[1 2 3]\n",
            "  [7 8 9]]\n",
            "\n",
            " [[4 5 6]\n",
            "  [9 8 7]]]\n"
          ]
        }
      ]
    },
    {
      "cell_type": "markdown",
      "metadata": {
        "id": "coiHVKzvOGuR"
      },
      "source": [
        "# Get dimension of an array"
      ]
    },
    {
      "cell_type": "markdown",
      "metadata": {
        "id": "MGUjUK4fOM2a"
      },
      "source": [
        "## Dimensions of 1D array"
      ]
    },
    {
      "cell_type": "code",
      "metadata": {
        "colab": {
          "base_uri": "https://localhost:8080/"
        },
        "id": "LeM_9k8DOK-1",
        "outputId": "6a71bc21-5d8b-4959-f194-abfb4fc779eb"
      },
      "source": [
        "onedarray.ndim"
      ],
      "execution_count": 10,
      "outputs": [
        {
          "output_type": "execute_result",
          "data": {
            "text/plain": [
              "1"
            ]
          },
          "metadata": {},
          "execution_count": 10
        }
      ]
    },
    {
      "cell_type": "code",
      "metadata": {
        "colab": {
          "base_uri": "https://localhost:8080/"
        },
        "id": "R7o1mA2LRD5G",
        "outputId": "e5d413f7-2c06-4139-a4cb-dd29ac9ba340"
      },
      "source": [
        "onedarray2.ndim"
      ],
      "execution_count": 34,
      "outputs": [
        {
          "output_type": "execute_result",
          "data": {
            "text/plain": [
              "1"
            ]
          },
          "metadata": {},
          "execution_count": 34
        }
      ]
    },
    {
      "cell_type": "markdown",
      "metadata": {
        "id": "9imok2e8Ogix"
      },
      "source": [
        "## Dimension of 2D array"
      ]
    },
    {
      "cell_type": "code",
      "metadata": {
        "colab": {
          "base_uri": "https://localhost:8080/"
        },
        "id": "XJ1QWmv8OX-Q",
        "outputId": "d4977ace-4cc2-4694-99e1-d3b431a9b60c"
      },
      "source": [
        "twodarray.ndim"
      ],
      "execution_count": 11,
      "outputs": [
        {
          "output_type": "execute_result",
          "data": {
            "text/plain": [
              "2"
            ]
          },
          "metadata": {},
          "execution_count": 11
        }
      ]
    },
    {
      "cell_type": "code",
      "metadata": {
        "colab": {
          "base_uri": "https://localhost:8080/"
        },
        "id": "UOUp4EftQ-FS",
        "outputId": "3bdcc176-f985-4edc-8ba7-12fb9219f62b"
      },
      "source": [
        "twodarray2.ndim"
      ],
      "execution_count": 33,
      "outputs": [
        {
          "output_type": "execute_result",
          "data": {
            "text/plain": [
              "2"
            ]
          },
          "metadata": {},
          "execution_count": 33
        }
      ]
    },
    {
      "cell_type": "markdown",
      "metadata": {
        "id": "o-GHBnkFOojA"
      },
      "source": [
        "## Dimension of 3D array"
      ]
    },
    {
      "cell_type": "code",
      "metadata": {
        "colab": {
          "base_uri": "https://localhost:8080/"
        },
        "id": "Pnxm0berOrP4",
        "outputId": "bd3246de-e60c-4ad7-9568-63be03438716"
      },
      "source": [
        "\n",
        "threedarray.ndim"
      ],
      "execution_count": 14,
      "outputs": [
        {
          "output_type": "execute_result",
          "data": {
            "text/plain": [
              "3"
            ]
          },
          "metadata": {},
          "execution_count": 14
        }
      ]
    },
    {
      "cell_type": "code",
      "metadata": {
        "colab": {
          "base_uri": "https://localhost:8080/"
        },
        "id": "QAyrPpsnOvJ7",
        "outputId": "223893cf-01e4-40f5-fb2c-7123658d63d5"
      },
      "source": [
        "threedarray2.ndim"
      ],
      "execution_count": 32,
      "outputs": [
        {
          "output_type": "execute_result",
          "data": {
            "text/plain": [
              "3"
            ]
          },
          "metadata": {},
          "execution_count": 32
        }
      ]
    },
    {
      "cell_type": "code",
      "metadata": {
        "id": "cbL4bgMQQ7oN"
      },
      "source": [
        ""
      ],
      "execution_count": null,
      "outputs": []
    }
  ]
}