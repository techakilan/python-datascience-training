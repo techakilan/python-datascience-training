{
  "nbformat": 4,
  "nbformat_minor": 0,
  "metadata": {
    "colab": {
      "name": "numpy.ipynb",
      "provenance": [],
      "collapsed_sections": [],
      "include_colab_link": true
    },
    "kernelspec": {
      "name": "python3",
      "display_name": "Python 3"
    },
    "language_info": {
      "name": "python"
    }
  },
  "cells": [
    {
      "cell_type": "markdown",
      "metadata": {
        "id": "view-in-github",
        "colab_type": "text"
      },
      "source": [
        "<a href=\"https://colab.research.google.com/github/techakilan/python-datascience-training/blob/master/numpy.ipynb\" target=\"_parent\"><img src=\"https://colab.research.google.com/assets/colab-badge.svg\" alt=\"Open In Colab\"/></a>"
      ]
    },
    {
      "cell_type": "markdown",
      "metadata": {
        "id": "eBQm5ordL39l"
      },
      "source": [
        "# Import numpy"
      ]
    },
    {
      "cell_type": "code",
      "metadata": {
        "id": "tedk6-ZSMMTM"
      },
      "source": [
        "import numpy as np"
      ],
      "execution_count": 1,
      "outputs": []
    },
    {
      "cell_type": "markdown",
      "metadata": {
        "id": "shqa84BPMpFX"
      },
      "source": [
        "# Create 1D array"
      ]
    },
    {
      "cell_type": "code",
      "metadata": {
        "colab": {
          "base_uri": "https://localhost:8080/"
        },
        "id": "fK2fRyRfMQvk",
        "outputId": "3320d263-3504-4f41-e646-55e8ee3c1af9"
      },
      "source": [
        "onedarray = np.array([1])\n",
        "print(onedarray)"
      ],
      "execution_count": 2,
      "outputs": [
        {
          "output_type": "stream",
          "name": "stdout",
          "text": [
            "[1]\n"
          ]
        }
      ]
    },
    {
      "cell_type": "code",
      "metadata": {
        "colab": {
          "base_uri": "https://localhost:8080/"
        },
        "id": "h2TWKDjaPrnG",
        "outputId": "cccbd9e8-7ef4-45a1-eaf0-1c8394d2df8e"
      },
      "source": [
        "onedarray2 = np.array([1,2,3])\n",
        "print(onedarray2)"
      ],
      "execution_count": 3,
      "outputs": [
        {
          "output_type": "stream",
          "name": "stdout",
          "text": [
            "[1 2 3]\n"
          ]
        }
      ]
    },
    {
      "cell_type": "markdown",
      "metadata": {
        "id": "jbLi3j7VNOX8"
      },
      "source": [
        "# Create 2d array"
      ]
    },
    {
      "cell_type": "code",
      "metadata": {
        "colab": {
          "base_uri": "https://localhost:8080/"
        },
        "id": "MZdKZWrrM775",
        "outputId": "709d9cde-adb2-477c-fb88-3574948b2af0"
      },
      "source": [
        "twodarray = np.array([[1]])\n",
        "print(twodarray)"
      ],
      "execution_count": 4,
      "outputs": [
        {
          "output_type": "stream",
          "name": "stdout",
          "text": [
            "[[1]]\n"
          ]
        }
      ]
    },
    {
      "cell_type": "code",
      "metadata": {
        "colab": {
          "base_uri": "https://localhost:8080/"
        },
        "id": "1xRk9D0bP3uz",
        "outputId": "0682856e-7e53-48b7-f9c0-76a4fb9852a3"
      },
      "source": [
        "twodarray2 = np.array([[1,2],[3,4]])\n",
        "print(twodarray2)"
      ],
      "execution_count": 5,
      "outputs": [
        {
          "output_type": "stream",
          "name": "stdout",
          "text": [
            "[[1 2]\n",
            " [3 4]]\n"
          ]
        }
      ]
    },
    {
      "cell_type": "markdown",
      "metadata": {
        "id": "pyUs4_DENttQ"
      },
      "source": [
        "# Create 3D array"
      ]
    },
    {
      "cell_type": "code",
      "metadata": {
        "colab": {
          "base_uri": "https://localhost:8080/"
        },
        "id": "bCoJzmdiNXyM",
        "outputId": "0515dde8-788f-49c7-9851-3b6081c6517e"
      },
      "source": [
        "threedarray = np.array([[[1]]])\n",
        "print(threedarray)"
      ],
      "execution_count": 6,
      "outputs": [
        {
          "output_type": "stream",
          "name": "stdout",
          "text": [
            "[[[1]]]\n"
          ]
        }
      ]
    },
    {
      "cell_type": "code",
      "metadata": {
        "colab": {
          "base_uri": "https://localhost:8080/"
        },
        "id": "Cg30X8-eQLO5",
        "outputId": "3037a58a-e200-48c9-9690-61217e60bc55"
      },
      "source": [
        "threedarray2 = np.array([[[1,2,3],[7,8,9]],[[4,5,6],[9,8,7]], [[1,2,3],[7,8,9]],[[4,5,6],[9,8,7]]])\n",
        "print(threedarray2)"
      ],
      "execution_count": 7,
      "outputs": [
        {
          "output_type": "stream",
          "name": "stdout",
          "text": [
            "[[[1 2 3]\n",
            "  [7 8 9]]\n",
            "\n",
            " [[4 5 6]\n",
            "  [9 8 7]]\n",
            "\n",
            " [[1 2 3]\n",
            "  [7 8 9]]\n",
            "\n",
            " [[4 5 6]\n",
            "  [9 8 7]]]\n"
          ]
        }
      ]
    },
    {
      "cell_type": "markdown",
      "metadata": {
        "id": "coiHVKzvOGuR"
      },
      "source": [
        "# Get dimension of an array"
      ]
    },
    {
      "cell_type": "markdown",
      "metadata": {
        "id": "MGUjUK4fOM2a"
      },
      "source": [
        "### Dimensions of 1D array"
      ]
    },
    {
      "cell_type": "markdown",
      "metadata": {
        "id": "yTl4rUW0OkA6"
      },
      "source": [
        "onedarray => \n",
        "\n",
        "[1]\n",
        "\n",
        "The dimension of the array is 1"
      ]
    },
    {
      "cell_type": "code",
      "metadata": {
        "colab": {
          "base_uri": "https://localhost:8080/"
        },
        "id": "LeM_9k8DOK-1",
        "outputId": "7d297d3d-2733-4432-d8f9-e2369a53399a"
      },
      "source": [
        "onedarray.ndim"
      ],
      "execution_count": 8,
      "outputs": [
        {
          "output_type": "execute_result",
          "data": {
            "text/plain": [
              "1"
            ]
          },
          "metadata": {},
          "execution_count": 8
        }
      ]
    },
    {
      "cell_type": "markdown",
      "metadata": {
        "id": "c9j3yXQTOm9t"
      },
      "source": [
        "onedarray2 => \n",
        "\n",
        "[1 2 3]\n",
        "\n",
        "The dimension of the array is 1"
      ]
    },
    {
      "cell_type": "code",
      "metadata": {
        "colab": {
          "base_uri": "https://localhost:8080/"
        },
        "id": "R7o1mA2LRD5G",
        "outputId": "e09ec9b1-8ee0-40a8-fe32-1ddad00a3f05"
      },
      "source": [
        "onedarray2.ndim"
      ],
      "execution_count": 9,
      "outputs": [
        {
          "output_type": "execute_result",
          "data": {
            "text/plain": [
              "1"
            ]
          },
          "metadata": {},
          "execution_count": 9
        }
      ]
    },
    {
      "cell_type": "markdown",
      "metadata": {
        "id": "9imok2e8Ogix"
      },
      "source": [
        "### Dimension of 2D array"
      ]
    },
    {
      "cell_type": "markdown",
      "metadata": {
        "id": "9y62btgcO0mO"
      },
      "source": [
        "twodarray => \n",
        "\n",
        "[[1]]\n",
        "\n",
        "The dimension of the array is 2"
      ]
    },
    {
      "cell_type": "code",
      "metadata": {
        "colab": {
          "base_uri": "https://localhost:8080/"
        },
        "id": "XJ1QWmv8OX-Q",
        "outputId": "7e055d29-aab7-41ff-f254-95b5c905d624"
      },
      "source": [
        "twodarray.ndim"
      ],
      "execution_count": 10,
      "outputs": [
        {
          "output_type": "execute_result",
          "data": {
            "text/plain": [
              "2"
            ]
          },
          "metadata": {},
          "execution_count": 10
        }
      ]
    },
    {
      "cell_type": "markdown",
      "metadata": {
        "id": "83_UGARJPWj5"
      },
      "source": [
        "twodarray2 => \n",
        "\n",
        "[[1 2]\n",
        "\n",
        " [3 4]]\n",
        "\n",
        " The dimension of the array is 2\n",
        "\n"
      ]
    },
    {
      "cell_type": "code",
      "metadata": {
        "colab": {
          "base_uri": "https://localhost:8080/"
        },
        "id": "UOUp4EftQ-FS",
        "outputId": "d16a7254-9100-405f-a0d0-0033472c55a3"
      },
      "source": [
        "twodarray2.ndim"
      ],
      "execution_count": 11,
      "outputs": [
        {
          "output_type": "execute_result",
          "data": {
            "text/plain": [
              "2"
            ]
          },
          "metadata": {},
          "execution_count": 11
        }
      ]
    },
    {
      "cell_type": "markdown",
      "metadata": {
        "id": "o-GHBnkFOojA"
      },
      "source": [
        "### Dimension of 3D array"
      ]
    },
    {
      "cell_type": "markdown",
      "metadata": {
        "id": "weG0R9tfbhV0"
      },
      "source": [
        "threedarray =>\n",
        "\n",
        "[[[1]]]\n",
        "\n",
        "The dimension of the array is 3"
      ]
    },
    {
      "cell_type": "code",
      "metadata": {
        "colab": {
          "base_uri": "https://localhost:8080/"
        },
        "id": "Pnxm0berOrP4",
        "outputId": "c0729fe2-53e6-41a0-ab25-8ebf0ca834cd"
      },
      "source": [
        "threedarray.ndim"
      ],
      "execution_count": 12,
      "outputs": [
        {
          "output_type": "execute_result",
          "data": {
            "text/plain": [
              "3"
            ]
          },
          "metadata": {},
          "execution_count": 12
        }
      ]
    },
    {
      "cell_type": "markdown",
      "metadata": {
        "id": "ygN5yp_gbxmF"
      },
      "source": [
        "threedarray2 =>\n",
        "\n",
        "[[[1 2 3]\n",
        "  [7 8 9]]\n",
        "\n",
        " [[4 5 6]\n",
        "  [9 8 7]]\n",
        "\n",
        " [[1 2 3]\n",
        "  [7 8 9]]\n",
        "\n",
        " [[4 5 6]\n",
        "  [9 8 7]]]\n",
        "\n",
        "The dimension of the array is 3"
      ]
    },
    {
      "cell_type": "code",
      "metadata": {
        "colab": {
          "base_uri": "https://localhost:8080/"
        },
        "id": "QAyrPpsnOvJ7",
        "outputId": "3179b1da-d1b9-4c9a-a386-522bb30ce434"
      },
      "source": [
        "threedarray2.ndim"
      ],
      "execution_count": 13,
      "outputs": [
        {
          "output_type": "execute_result",
          "data": {
            "text/plain": [
              "3"
            ]
          },
          "metadata": {},
          "execution_count": 13
        }
      ]
    },
    {
      "cell_type": "markdown",
      "metadata": {
        "id": "REzrNLKmJfHm"
      },
      "source": [
        "# Shape of array"
      ]
    },
    {
      "cell_type": "markdown",
      "metadata": {
        "id": "UcNnZmIMJjVa"
      },
      "source": [
        "### Shape of 1D array"
      ]
    },
    {
      "cell_type": "markdown",
      "metadata": {
        "id": "LRdoOepCO4MG"
      },
      "source": [
        "onedarray =>\n",
        "\n",
        "[[1]]"
      ]
    },
    {
      "cell_type": "code",
      "metadata": {
        "id": "DNdCS0XWI7OC",
        "colab": {
          "base_uri": "https://localhost:8080/"
        },
        "outputId": "3e956ef1-ec63-4eaa-e465-6e845e5f7adf"
      },
      "source": [
        "onedarray.shape"
      ],
      "execution_count": 14,
      "outputs": [
        {
          "output_type": "execute_result",
          "data": {
            "text/plain": [
              "(1,)"
            ]
          },
          "metadata": {},
          "execution_count": 14
        }
      ]
    },
    {
      "cell_type": "markdown",
      "metadata": {
        "id": "awl6v0mFe0Ac"
      },
      "source": [
        "The result (1, ) means the array has single index with a index length of 1. Total length of array is 1."
      ]
    },
    {
      "cell_type": "markdown",
      "metadata": {
        "id": "P0KLUjuBPBJl"
      },
      "source": [
        "onedarray2 =>\n",
        "\n",
        "[1 2 3]"
      ]
    },
    {
      "cell_type": "code",
      "metadata": {
        "id": "8V_vlihuJu_u",
        "colab": {
          "base_uri": "https://localhost:8080/"
        },
        "outputId": "86cd308c-ca34-47f7-c374-138c0acf28ef"
      },
      "source": [
        "onedarray2.shape"
      ],
      "execution_count": 15,
      "outputs": [
        {
          "output_type": "execute_result",
          "data": {
            "text/plain": [
              "(3,)"
            ]
          },
          "metadata": {},
          "execution_count": 15
        }
      ]
    },
    {
      "cell_type": "markdown",
      "metadata": {
        "id": "MtrxPUqWd5Wu"
      },
      "source": [
        "The result (3,) means the array has single index with a index length of 3\n",
        "\n",
        "i= 0    1    2\n",
        "\n",
        "[  1    2     3]\n",
        "\n",
        "The total length of array is 3"
      ]
    },
    {
      "cell_type": "markdown",
      "metadata": {
        "id": "tpQLvsO0ORU0"
      },
      "source": [
        "### Shape of 2D array"
      ]
    },
    {
      "cell_type": "markdown",
      "metadata": {
        "id": "gRdQ1UlNPNXm"
      },
      "source": [
        "twodarray =>\n",
        "\n",
        "[[1]]"
      ]
    },
    {
      "cell_type": "code",
      "metadata": {
        "id": "pd0lqxfEJxng",
        "colab": {
          "base_uri": "https://localhost:8080/"
        },
        "outputId": "b16c9782-472c-466c-c384-db0f1bd39496"
      },
      "source": [
        "twodarray.shape"
      ],
      "execution_count": 16,
      "outputs": [
        {
          "output_type": "execute_result",
          "data": {
            "text/plain": [
              "(1, 1)"
            ]
          },
          "metadata": {},
          "execution_count": 16
        }
      ]
    },
    {
      "cell_type": "markdown",
      "metadata": {
        "id": "KQVxtE9_fNj5"
      },
      "source": [
        "The result (1,1) means the array has 2 indexes (say i,j) and first index has length of 1 and second index has length of 1. The total length of array is 1.\n",
        "\n",
        "i= 0\n",
        "\n",
        "j= 0\n",
        "\n",
        "[1]"
      ]
    },
    {
      "cell_type": "markdown",
      "metadata": {
        "id": "VN7sexHHPd0C"
      },
      "source": [
        "twodarray2 =>\n",
        "\n",
        "[[1 2]\n",
        "\n",
        " [3 4]]\n",
        "\n"
      ]
    },
    {
      "cell_type": "code",
      "metadata": {
        "id": "0143zvT4OYFT",
        "colab": {
          "base_uri": "https://localhost:8080/"
        },
        "outputId": "7423b5d1-516f-445f-f88b-b4c43b7515b5"
      },
      "source": [
        "twodarray2.shape"
      ],
      "execution_count": 17,
      "outputs": [
        {
          "output_type": "execute_result",
          "data": {
            "text/plain": [
              "(2, 2)"
            ]
          },
          "metadata": {},
          "execution_count": 17
        }
      ]
    },
    {
      "cell_type": "markdown",
      "metadata": {
        "id": "kOR0V93Afm3i"
      },
      "source": [
        "The result (2,2) means that the array has 2 indexes(say i,j) and the first index has length of 2 and second index has length of 2. The total length of the array is 4.\n",
        "\n",
        "i= 0    1\n",
        "\n",
        "j= 0    1\n",
        "\n",
        "[1 2 3 4]"
      ]
    },
    {
      "cell_type": "code",
      "metadata": {
        "colab": {
          "base_uri": "https://localhost:8080/"
        },
        "id": "FP97THTZgWUo",
        "outputId": "1b90b2e9-dc4a-4612-a6a4-2def822b7db5"
      },
      "source": [
        "twodarray2[1,1]"
      ],
      "execution_count": 18,
      "outputs": [
        {
          "output_type": "execute_result",
          "data": {
            "text/plain": [
              "4"
            ]
          },
          "metadata": {},
          "execution_count": 18
        }
      ]
    },
    {
      "cell_type": "markdown",
      "metadata": {
        "id": "qLpfr8oScmeY"
      },
      "source": [
        "### Shape of 3D array"
      ]
    },
    {
      "cell_type": "markdown",
      "metadata": {
        "id": "VHrshJ4BcuDz"
      },
      "source": [
        "threedarray =>\n",
        "\n",
        "[[[1]]]"
      ]
    },
    {
      "cell_type": "code",
      "metadata": {
        "id": "cKSY3HSYObwx",
        "colab": {
          "base_uri": "https://localhost:8080/"
        },
        "outputId": "54aa4795-4586-4974-abc3-a8d9ab9fcfab"
      },
      "source": [
        "threedarray.shape"
      ],
      "execution_count": 19,
      "outputs": [
        {
          "output_type": "execute_result",
          "data": {
            "text/plain": [
              "(1, 1, 1)"
            ]
          },
          "metadata": {},
          "execution_count": 19
        }
      ]
    },
    {
      "cell_type": "markdown",
      "metadata": {
        "id": "Yh-6LjbPgogU"
      },
      "source": [
        "The result means the array has 3 indexes(say i,j,k). The first index has length 1. Second index has length 1. Third index has length 1. The array length is 1\n",
        "\n",
        "i = 0\n",
        "\n",
        "j = 0\n",
        "\n",
        "k = 0\n",
        "\n",
        "[1]"
      ]
    },
    {
      "cell_type": "markdown",
      "metadata": {
        "id": "-0BKi1ZVc8Km"
      },
      "source": [
        "threedarray2 =>\n",
        "\n",
        "\n",
        "[[[1 2 3] [7 8 9]]\n",
        "\n",
        "[[4 5 6] [9 8 7]]\n",
        "\n",
        "[[1 2 3] [7 8 9]]\n",
        "\n",
        "[[4 5 6] [9 8 7]]]"
      ]
    },
    {
      "cell_type": "code",
      "metadata": {
        "colab": {
          "base_uri": "https://localhost:8080/"
        },
        "id": "HAQw6yQHdBJO",
        "outputId": "47a86d81-6ee5-4f5e-e75f-2e772a806440"
      },
      "source": [
        "threedarray2.shape"
      ],
      "execution_count": 20,
      "outputs": [
        {
          "output_type": "execute_result",
          "data": {
            "text/plain": [
              "(4, 2, 3)"
            ]
          },
          "metadata": {},
          "execution_count": 20
        }
      ]
    },
    {
      "cell_type": "markdown",
      "metadata": {
        "id": "GCwFXFYuhZXn"
      },
      "source": [
        "The result means the array has 3 indexes(say i,j,k). The first index has length 4. Second index has length 2. Third index has length 3. The array length is 24.\n",
        "\n",
        "\n",
        "i = 0    1    2    3\n",
        "\n",
        "j = 0    1\n",
        "\n",
        "k = 0    1    2\n",
        "\n",
        "[1 2 3 7 8 9 4 5 6 9 8 7 1 2 3 7 8 9 4 5 6 9 8 7]"
      ]
    },
    {
      "cell_type": "code",
      "metadata": {
        "colab": {
          "base_uri": "https://localhost:8080/"
        },
        "id": "XIxw5KD2hVUT",
        "outputId": "fbd8573a-12fa-4a6a-e207-b40a37d84ba2"
      },
      "source": [
        "threedarray2[3,1,2]"
      ],
      "execution_count": 21,
      "outputs": [
        {
          "output_type": "execute_result",
          "data": {
            "text/plain": [
              "7"
            ]
          },
          "metadata": {},
          "execution_count": 21
        }
      ]
    },
    {
      "cell_type": "markdown",
      "metadata": {
        "id": "_88Pzd02kmFj"
      },
      "source": [
        "# Reshape an array"
      ]
    },
    {
      "cell_type": "code",
      "metadata": {
        "colab": {
          "base_uri": "https://localhost:8080/"
        },
        "id": "EA4eb1I1h44C",
        "outputId": "0d7e62cf-72e2-467a-8514-23d0519ebe94"
      },
      "source": [
        "origarray = np.array([1,2,3,4,5,6,7,8,9,10,11,12,13,14,15, 16])\n",
        "print(origarray)"
      ],
      "execution_count": 22,
      "outputs": [
        {
          "output_type": "stream",
          "name": "stdout",
          "text": [
            "[ 1  2  3  4  5  6  7  8  9 10 11 12 13 14 15 16]\n"
          ]
        }
      ]
    },
    {
      "cell_type": "code",
      "metadata": {
        "colab": {
          "base_uri": "https://localhost:8080/"
        },
        "id": "ruP5LDpRk0oy",
        "outputId": "abd1b084-6441-43e3-e0f4-3776e53e343b"
      },
      "source": [
        "origarray.shape"
      ],
      "execution_count": 23,
      "outputs": [
        {
          "output_type": "execute_result",
          "data": {
            "text/plain": [
              "(16,)"
            ]
          },
          "metadata": {},
          "execution_count": 23
        }
      ]
    },
    {
      "cell_type": "markdown",
      "metadata": {
        "id": "0HHwoQ0DlFBK"
      },
      "source": [
        "The result say this is one dimensional array, so it has single index. The length of the index is same as length of the array. the length is 16."
      ]
    },
    {
      "cell_type": "markdown",
      "metadata": {
        "id": "BMOMvoyHl3Xs"
      },
      "source": [
        "### Convert the array to two dimensional array of shape (2,8)"
      ]
    },
    {
      "cell_type": "code",
      "metadata": {
        "colab": {
          "base_uri": "https://localhost:8080/"
        },
        "id": "zfY1ZK5JlSuM",
        "outputId": "667fa572-4e10-45d3-e307-1d81da07c248"
      },
      "source": [
        "reshape2darray = origarray.reshape((2,8))\n",
        "print(reshape2darray)"
      ],
      "execution_count": 24,
      "outputs": [
        {
          "output_type": "stream",
          "name": "stdout",
          "text": [
            "[[ 1  2  3  4  5  6  7  8]\n",
            " [ 9 10 11 12 13 14 15 16]]\n"
          ]
        }
      ]
    },
    {
      "cell_type": "code",
      "metadata": {
        "id": "apTpIKRemd5d",
        "colab": {
          "base_uri": "https://localhost:8080/"
        },
        "outputId": "c7b0b329-e515-4ed7-dfe2-040b360be67d"
      },
      "source": [
        "reshape2darray.ndim"
      ],
      "execution_count": 25,
      "outputs": [
        {
          "output_type": "execute_result",
          "data": {
            "text/plain": [
              "2"
            ]
          },
          "metadata": {},
          "execution_count": 25
        }
      ]
    },
    {
      "cell_type": "code",
      "metadata": {
        "id": "F8Qz2iwPms0A",
        "colab": {
          "base_uri": "https://localhost:8080/"
        },
        "outputId": "d8abafd2-66b4-43fe-97c0-3b58b2d1455f"
      },
      "source": [
        "reshape2darray.shape"
      ],
      "execution_count": 26,
      "outputs": [
        {
          "output_type": "execute_result",
          "data": {
            "text/plain": [
              "(2, 8)"
            ]
          },
          "metadata": {},
          "execution_count": 26
        }
      ]
    },
    {
      "cell_type": "markdown",
      "metadata": {
        "id": "l0ksB0P8mzdu"
      },
      "source": [
        "### Convert the array to three dimensional array of shape (4,2,2)"
      ]
    },
    {
      "cell_type": "code",
      "metadata": {
        "id": "pG8EHkyVmvVR",
        "colab": {
          "base_uri": "https://localhost:8080/"
        },
        "outputId": "3575b365-4fa4-4479-e2e3-601bc0917ac3"
      },
      "source": [
        "reshape3darray = origarray.reshape((4,2,2))\n",
        "print(reshape3darray)"
      ],
      "execution_count": 27,
      "outputs": [
        {
          "output_type": "stream",
          "name": "stdout",
          "text": [
            "[[[ 1  2]\n",
            "  [ 3  4]]\n",
            "\n",
            " [[ 5  6]\n",
            "  [ 7  8]]\n",
            "\n",
            " [[ 9 10]\n",
            "  [11 12]]\n",
            "\n",
            " [[13 14]\n",
            "  [15 16]]]\n"
          ]
        }
      ]
    },
    {
      "cell_type": "code",
      "metadata": {
        "id": "rfKYnxP0nkDd",
        "colab": {
          "base_uri": "https://localhost:8080/"
        },
        "outputId": "e265d36e-e524-4916-b4a3-a66bf238e379"
      },
      "source": [
        "reshape3darray.ndim"
      ],
      "execution_count": 28,
      "outputs": [
        {
          "output_type": "execute_result",
          "data": {
            "text/plain": [
              "3"
            ]
          },
          "metadata": {},
          "execution_count": 28
        }
      ]
    },
    {
      "cell_type": "code",
      "metadata": {
        "id": "LkZ71Oton5_V",
        "colab": {
          "base_uri": "https://localhost:8080/"
        },
        "outputId": "bd004f15-e54d-41ce-c925-773d5d778cd2"
      },
      "source": [
        "reshape3darray.shape"
      ],
      "execution_count": 29,
      "outputs": [
        {
          "output_type": "execute_result",
          "data": {
            "text/plain": [
              "(4, 2, 2)"
            ]
          },
          "metadata": {},
          "execution_count": 29
        }
      ]
    },
    {
      "cell_type": "markdown",
      "metadata": {
        "id": "_OEhJokdKSpt"
      },
      "source": [
        "# Array create methods"
      ]
    },
    {
      "cell_type": "markdown",
      "metadata": {
        "id": "BLvJCG0qN7sU"
      },
      "source": [
        "###  Create from list\n"
      ]
    },
    {
      "cell_type": "code",
      "metadata": {
        "id": "6sn9oMAHOVoi",
        "outputId": "6e0cecda-96d8-4d99-d217-3f359aac6a85",
        "colab": {
          "base_uri": "https://localhost:8080/"
        }
      },
      "source": [
        "arrayfromlist = np.array([1,2,3,4,5])\n",
        "print(arrayfromlist)"
      ],
      "execution_count": 40,
      "outputs": [
        {
          "output_type": "stream",
          "name": "stdout",
          "text": [
            "[1 2 3 4 5]\n"
          ]
        }
      ]
    },
    {
      "cell_type": "markdown",
      "metadata": {
        "id": "zIg4d_3ROhoT"
      },
      "source": [
        "### Create array having all values as zeroe "
      ]
    },
    {
      "cell_type": "code",
      "metadata": {
        "id": "94Q_KiTtO0bS",
        "outputId": "f7606409-4ed5-4203-e062-658fc6b12ad9",
        "colab": {
          "base_uri": "https://localhost:8080/"
        }
      },
      "source": [
        "array1dallzeros = np.zeros(10)\n",
        "print(array1dallzeros)"
      ],
      "execution_count": 42,
      "outputs": [
        {
          "output_type": "stream",
          "name": "stdout",
          "text": [
            "[0. 0. 0. 0. 0. 0. 0. 0. 0. 0.]\n"
          ]
        }
      ]
    },
    {
      "cell_type": "code",
      "metadata": {
        "id": "AjG0zytiPSvp",
        "outputId": "3007896e-9767-4053-b56c-172b6decd226",
        "colab": {
          "base_uri": "https://localhost:8080/"
        }
      },
      "source": [
        "array2dallzeros = np.zeros((5,5))\n",
        "print(array2dallzeros)"
      ],
      "execution_count": 44,
      "outputs": [
        {
          "output_type": "stream",
          "name": "stdout",
          "text": [
            "[[0. 0. 0. 0. 0.]\n",
            " [0. 0. 0. 0. 0.]\n",
            " [0. 0. 0. 0. 0.]\n",
            " [0. 0. 0. 0. 0.]\n",
            " [0. 0. 0. 0. 0.]]\n"
          ]
        }
      ]
    },
    {
      "cell_type": "code",
      "metadata": {
        "id": "R1LJ5VC2Pfjo",
        "outputId": "a30642bd-c063-4e2e-9f52-55cc53cb09c8",
        "colab": {
          "base_uri": "https://localhost:8080/"
        }
      },
      "source": [
        "array3dallzeros = np.zeros((2,3,4))\n",
        "print(array3dallzeros)"
      ],
      "execution_count": 46,
      "outputs": [
        {
          "output_type": "stream",
          "name": "stdout",
          "text": [
            "[[[0. 0. 0. 0.]\n",
            "  [0. 0. 0. 0.]\n",
            "  [0. 0. 0. 0.]]\n",
            "\n",
            " [[0. 0. 0. 0.]\n",
            "  [0. 0. 0. 0.]\n",
            "  [0. 0. 0. 0.]]]\n"
          ]
        }
      ]
    },
    {
      "cell_type": "markdown",
      "metadata": {
        "id": "zq-LAa4UP70m"
      },
      "source": [
        "Another numpy function similar to numpy.zeros is numpy.ones. Instead of zeros all values are 1. "
      ]
    },
    {
      "cell_type": "code",
      "metadata": {
        "id": "jMHpf5kWQIyt",
        "outputId": "b44c0064-28bc-418f-efad-c9bc63f3ecfd",
        "colab": {
          "base_uri": "https://localhost:8080/"
        }
      },
      "source": [
        "arrayallones = np.ones((2,3))\n",
        "print(arrayallones)"
      ],
      "execution_count": 48,
      "outputs": [
        {
          "output_type": "stream",
          "name": "stdout",
          "text": [
            "[[1. 1. 1.]\n",
            " [1. 1. 1.]]\n"
          ]
        }
      ]
    },
    {
      "cell_type": "code",
      "metadata": {
        "id": "Fs-ugVdsn9K7",
        "outputId": "e8d5e75e-3c9c-43ce-95ae-5301c166b7d2",
        "colab": {
          "base_uri": "https://localhost:8080/"
        }
      },
      "source": [
        "X = np.arange(8).reshape(4,2)\n",
        "print(X)"
      ],
      "execution_count": 37,
      "outputs": [
        {
          "output_type": "stream",
          "name": "stdout",
          "text": [
            "[[0 1]\n",
            " [2 3]\n",
            " [4 5]\n",
            " [6 7]]\n"
          ]
        }
      ]
    },
    {
      "cell_type": "code",
      "metadata": {
        "id": "JqVf_eiEKcEf",
        "outputId": "ae971ee0-fce7-4671-c5ec-8db7ad46dec0",
        "colab": {
          "base_uri": "https://localhost:8080/"
        }
      },
      "source": [
        "X.sum(axis=1)"
      ],
      "execution_count": 38,
      "outputs": [
        {
          "output_type": "execute_result",
          "data": {
            "text/plain": [
              "array([ 1,  5,  9, 13])"
            ]
          },
          "metadata": {},
          "execution_count": 38
        }
      ]
    },
    {
      "cell_type": "code",
      "metadata": {
        "id": "b7S4yyd5KoLi"
      },
      "source": [
        ""
      ],
      "execution_count": null,
      "outputs": []
    }
  ]
}