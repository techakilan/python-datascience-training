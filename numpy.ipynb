{
  "nbformat": 4,
  "nbformat_minor": 0,
  "metadata": {
    "colab": {
      "name": "numpy.ipynb",
      "provenance": [],
      "collapsed_sections": [],
      "include_colab_link": true
    },
    "kernelspec": {
      "name": "python3",
      "display_name": "Python 3"
    },
    "language_info": {
      "name": "python"
    }
  },
  "cells": [
    {
      "cell_type": "markdown",
      "metadata": {
        "id": "view-in-github",
        "colab_type": "text"
      },
      "source": [
        "<a href=\"https://colab.research.google.com/github/techakilan/python-datascience-training/blob/master/numpy.ipynb\" target=\"_parent\"><img src=\"https://colab.research.google.com/assets/colab-badge.svg\" alt=\"Open In Colab\"/></a>"
      ]
    },
    {
      "cell_type": "markdown",
      "metadata": {
        "id": "eBQm5ordL39l"
      },
      "source": [
        "# Import numpy"
      ]
    },
    {
      "cell_type": "code",
      "metadata": {
        "id": "tedk6-ZSMMTM"
      },
      "source": [
        "import numpy as np"
      ],
      "execution_count": 2,
      "outputs": []
    },
    {
      "cell_type": "markdown",
      "metadata": {
        "id": "shqa84BPMpFX"
      },
      "source": [
        "# Create 1D array"
      ]
    },
    {
      "cell_type": "markdown",
      "metadata": {
        "id": "PVN6IGsCAQhu"
      },
      "source": [
        "#### Every element is a scalar"
      ]
    },
    {
      "cell_type": "code",
      "metadata": {
        "colab": {
          "base_uri": "https://localhost:8080/"
        },
        "id": "fK2fRyRfMQvk",
        "outputId": "5a7b13c7-d614-4921-cf19-008b5da910f5"
      },
      "source": [
        "onedarray = np.array([1])\n",
        "print(onedarray)"
      ],
      "execution_count": 3,
      "outputs": [
        {
          "output_type": "stream",
          "name": "stdout",
          "text": [
            "[1]\n"
          ]
        }
      ]
    },
    {
      "cell_type": "code",
      "metadata": {
        "colab": {
          "base_uri": "https://localhost:8080/"
        },
        "id": "h2TWKDjaPrnG",
        "outputId": "4cf5960a-ce63-4e39-aa8f-2ad7a5911708"
      },
      "source": [
        "onedarray2 = np.array([1,2,3])\n",
        "print(onedarray2)"
      ],
      "execution_count": 4,
      "outputs": [
        {
          "output_type": "stream",
          "name": "stdout",
          "text": [
            "[1 2 3]\n"
          ]
        }
      ]
    },
    {
      "cell_type": "markdown",
      "metadata": {
        "id": "jbLi3j7VNOX8"
      },
      "source": [
        "# Create 2d array\n",
        "\n",
        "#### can be considered as 1D array having every element as 1D array"
      ]
    },
    {
      "cell_type": "code",
      "metadata": {
        "colab": {
          "base_uri": "https://localhost:8080/"
        },
        "id": "MZdKZWrrM775",
        "outputId": "d13cabe9-c21a-4608-f89d-005e93b0b89a"
      },
      "source": [
        "twodarray = np.array([[1]])\n",
        "print(twodarray)"
      ],
      "execution_count": 5,
      "outputs": [
        {
          "output_type": "stream",
          "name": "stdout",
          "text": [
            "[[1]]\n"
          ]
        }
      ]
    },
    {
      "cell_type": "code",
      "metadata": {
        "colab": {
          "base_uri": "https://localhost:8080/"
        },
        "id": "1xRk9D0bP3uz",
        "outputId": "d96a3880-c9de-48f0-f8ca-4131ad56e026"
      },
      "source": [
        "twodarray2 = np.array([[1,2],[3,4]])\n",
        "print(twodarray2)"
      ],
      "execution_count": 6,
      "outputs": [
        {
          "output_type": "stream",
          "name": "stdout",
          "text": [
            "[[1 2]\n",
            " [3 4]]\n"
          ]
        }
      ]
    },
    {
      "cell_type": "markdown",
      "metadata": {
        "id": "pyUs4_DENttQ"
      },
      "source": [
        "# Create 3D array\n",
        "#### can be considered as 1D array where every element is a 2D array"
      ]
    },
    {
      "cell_type": "code",
      "metadata": {
        "colab": {
          "base_uri": "https://localhost:8080/"
        },
        "id": "bCoJzmdiNXyM",
        "outputId": "73c26293-9af9-403d-dafa-4e1691020026"
      },
      "source": [
        "threedarray = np.array([[[1]]])\n",
        "print(threedarray)"
      ],
      "execution_count": 7,
      "outputs": [
        {
          "output_type": "stream",
          "name": "stdout",
          "text": [
            "[[[1]]]\n"
          ]
        }
      ]
    },
    {
      "cell_type": "code",
      "metadata": {
        "colab": {
          "base_uri": "https://localhost:8080/"
        },
        "id": "Cg30X8-eQLO5",
        "outputId": "bf75174c-48bb-4b94-c4f7-ab18a5ff2e38"
      },
      "source": [
        "threedarray2 = np.array([[[1,2,3],[7,8,9]],[[4,5,6],[9,8,7]], [[1,2,3],[7,8,9]],[[4,5,6],[9,8,7]]])\n",
        "print(threedarray2)"
      ],
      "execution_count": 8,
      "outputs": [
        {
          "output_type": "stream",
          "name": "stdout",
          "text": [
            "[[[1 2 3]\n",
            "  [7 8 9]]\n",
            "\n",
            " [[4 5 6]\n",
            "  [9 8 7]]\n",
            "\n",
            " [[1 2 3]\n",
            "  [7 8 9]]\n",
            "\n",
            " [[4 5 6]\n",
            "  [9 8 7]]]\n"
          ]
        }
      ]
    },
    {
      "cell_type": "markdown",
      "metadata": {
        "id": "coiHVKzvOGuR"
      },
      "source": [
        "# Get dimension of an array"
      ]
    },
    {
      "cell_type": "markdown",
      "metadata": {
        "id": "MGUjUK4fOM2a"
      },
      "source": [
        "### Dimensions of 1D array"
      ]
    },
    {
      "cell_type": "markdown",
      "metadata": {
        "id": "yTl4rUW0OkA6"
      },
      "source": [
        "onedarray => \n",
        "\n",
        "[1]\n",
        "\n",
        "The dimension of the array is 1"
      ]
    },
    {
      "cell_type": "code",
      "metadata": {
        "colab": {
          "base_uri": "https://localhost:8080/"
        },
        "id": "LeM_9k8DOK-1",
        "outputId": "cb30680d-d259-4a79-da73-1b7f33c75fbe"
      },
      "source": [
        "onedarray.ndim"
      ],
      "execution_count": 9,
      "outputs": [
        {
          "output_type": "execute_result",
          "data": {
            "text/plain": [
              "1"
            ]
          },
          "metadata": {},
          "execution_count": 9
        }
      ]
    },
    {
      "cell_type": "markdown",
      "metadata": {
        "id": "c9j3yXQTOm9t"
      },
      "source": [
        "onedarray2 => \n",
        "\n",
        "[1 2 3]\n",
        "\n",
        "The dimension of the array is 1"
      ]
    },
    {
      "cell_type": "code",
      "metadata": {
        "colab": {
          "base_uri": "https://localhost:8080/"
        },
        "id": "R7o1mA2LRD5G",
        "outputId": "a3ee587f-8694-47ce-8066-4434ad969fe4"
      },
      "source": [
        "onedarray2.ndim"
      ],
      "execution_count": 10,
      "outputs": [
        {
          "output_type": "execute_result",
          "data": {
            "text/plain": [
              "1"
            ]
          },
          "metadata": {},
          "execution_count": 10
        }
      ]
    },
    {
      "cell_type": "markdown",
      "metadata": {
        "id": "9imok2e8Ogix"
      },
      "source": [
        "### Dimension of 2D array"
      ]
    },
    {
      "cell_type": "markdown",
      "metadata": {
        "id": "9y62btgcO0mO"
      },
      "source": [
        "twodarray => \n",
        "\n",
        "[[1]]\n",
        "\n",
        "The dimension of the array is 2"
      ]
    },
    {
      "cell_type": "code",
      "metadata": {
        "colab": {
          "base_uri": "https://localhost:8080/"
        },
        "id": "XJ1QWmv8OX-Q",
        "outputId": "b167d5af-4eb7-4f66-a6f8-06743b89e790"
      },
      "source": [
        "twodarray.ndim"
      ],
      "execution_count": 11,
      "outputs": [
        {
          "output_type": "execute_result",
          "data": {
            "text/plain": [
              "2"
            ]
          },
          "metadata": {},
          "execution_count": 11
        }
      ]
    },
    {
      "cell_type": "markdown",
      "metadata": {
        "id": "83_UGARJPWj5"
      },
      "source": [
        "twodarray2 => \n",
        "\n",
        "[[1 2]\n",
        "\n",
        " [3 4]]\n",
        "\n",
        " The dimension of the array is 2\n",
        "\n"
      ]
    },
    {
      "cell_type": "code",
      "metadata": {
        "colab": {
          "base_uri": "https://localhost:8080/"
        },
        "id": "UOUp4EftQ-FS",
        "outputId": "443219fd-c095-4b8d-eb64-ba2d49c6484f"
      },
      "source": [
        "twodarray2.ndim"
      ],
      "execution_count": 12,
      "outputs": [
        {
          "output_type": "execute_result",
          "data": {
            "text/plain": [
              "2"
            ]
          },
          "metadata": {},
          "execution_count": 12
        }
      ]
    },
    {
      "cell_type": "markdown",
      "metadata": {
        "id": "o-GHBnkFOojA"
      },
      "source": [
        "### Dimension of 3D array"
      ]
    },
    {
      "cell_type": "markdown",
      "metadata": {
        "id": "weG0R9tfbhV0"
      },
      "source": [
        "threedarray =>\n",
        "\n",
        "[[[1]]]\n",
        "\n",
        "The dimension of the array is 3"
      ]
    },
    {
      "cell_type": "code",
      "metadata": {
        "colab": {
          "base_uri": "https://localhost:8080/"
        },
        "id": "Pnxm0berOrP4",
        "outputId": "ab35f15f-6d17-4bb5-9a4b-990f909b7d01"
      },
      "source": [
        "threedarray.ndim"
      ],
      "execution_count": 13,
      "outputs": [
        {
          "output_type": "execute_result",
          "data": {
            "text/plain": [
              "3"
            ]
          },
          "metadata": {},
          "execution_count": 13
        }
      ]
    },
    {
      "cell_type": "markdown",
      "metadata": {
        "id": "ygN5yp_gbxmF"
      },
      "source": [
        "threedarray2 =>\n",
        "\n",
        "[[[1 2 3]\n",
        "  [7 8 9]]\n",
        "\n",
        " [[4 5 6]\n",
        "  [9 8 7]]\n",
        "\n",
        " [[1 2 3]\n",
        "  [7 8 9]]\n",
        "\n",
        " [[4 5 6]\n",
        "  [9 8 7]]]\n",
        "\n",
        "The dimension of the array is 3"
      ]
    },
    {
      "cell_type": "code",
      "metadata": {
        "colab": {
          "base_uri": "https://localhost:8080/"
        },
        "id": "QAyrPpsnOvJ7",
        "outputId": "cfed8b93-3626-4d31-b969-5152a2e42b51"
      },
      "source": [
        "threedarray2.ndim"
      ],
      "execution_count": 14,
      "outputs": [
        {
          "output_type": "execute_result",
          "data": {
            "text/plain": [
              "3"
            ]
          },
          "metadata": {},
          "execution_count": 14
        }
      ]
    },
    {
      "cell_type": "markdown",
      "metadata": {
        "id": "REzrNLKmJfHm"
      },
      "source": [
        "# Shape of array"
      ]
    },
    {
      "cell_type": "markdown",
      "metadata": {
        "id": "UcNnZmIMJjVa"
      },
      "source": [
        "### Shape of 1D array"
      ]
    },
    {
      "cell_type": "markdown",
      "metadata": {
        "id": "LRdoOepCO4MG"
      },
      "source": [
        "onedarray =>\n",
        "\n",
        "[[1]]"
      ]
    },
    {
      "cell_type": "code",
      "metadata": {
        "id": "DNdCS0XWI7OC",
        "colab": {
          "base_uri": "https://localhost:8080/"
        },
        "outputId": "0b693ba9-dc85-4c3a-fe1d-4cfff1e24110"
      },
      "source": [
        "onedarray.shape"
      ],
      "execution_count": 15,
      "outputs": [
        {
          "output_type": "execute_result",
          "data": {
            "text/plain": [
              "(1,)"
            ]
          },
          "metadata": {},
          "execution_count": 15
        }
      ]
    },
    {
      "cell_type": "markdown",
      "metadata": {
        "id": "awl6v0mFe0Ac"
      },
      "source": [
        "The result (1, ) means the array has single index with a index length of 1. Total length of array is 1."
      ]
    },
    {
      "cell_type": "markdown",
      "metadata": {
        "id": "P0KLUjuBPBJl"
      },
      "source": [
        "onedarray2 =>\n",
        "\n",
        "[1 2 3]"
      ]
    },
    {
      "cell_type": "code",
      "metadata": {
        "id": "8V_vlihuJu_u",
        "colab": {
          "base_uri": "https://localhost:8080/"
        },
        "outputId": "c738451a-0946-4986-9d52-21506773c138"
      },
      "source": [
        "onedarray2.shape"
      ],
      "execution_count": 16,
      "outputs": [
        {
          "output_type": "execute_result",
          "data": {
            "text/plain": [
              "(3,)"
            ]
          },
          "metadata": {},
          "execution_count": 16
        }
      ]
    },
    {
      "cell_type": "markdown",
      "metadata": {
        "id": "MtrxPUqWd5Wu"
      },
      "source": [
        "The result (3,) means the array has single index with a index length of 3\n",
        "\n",
        "i= 0    1    2\n",
        "\n",
        "[  1    2     3]\n",
        "\n",
        "The total length of array is 3"
      ]
    },
    {
      "cell_type": "markdown",
      "metadata": {
        "id": "tpQLvsO0ORU0"
      },
      "source": [
        "### Shape of 2D array"
      ]
    },
    {
      "cell_type": "markdown",
      "metadata": {
        "id": "gRdQ1UlNPNXm"
      },
      "source": [
        "twodarray =>\n",
        "\n",
        "[[1]]"
      ]
    },
    {
      "cell_type": "code",
      "metadata": {
        "id": "pd0lqxfEJxng",
        "colab": {
          "base_uri": "https://localhost:8080/"
        },
        "outputId": "d5b27453-8aeb-4ee9-809f-8dabdc513d12"
      },
      "source": [
        "twodarray.shape"
      ],
      "execution_count": 17,
      "outputs": [
        {
          "output_type": "execute_result",
          "data": {
            "text/plain": [
              "(1, 1)"
            ]
          },
          "metadata": {},
          "execution_count": 17
        }
      ]
    },
    {
      "cell_type": "markdown",
      "metadata": {
        "id": "KQVxtE9_fNj5"
      },
      "source": [
        "The result (1,1) means the array has 2 indexes (say i,j) and first index has length of 1 and second index has length of 1. The total length of array is 1.\n",
        "\n",
        "i= 0\n",
        "\n",
        "j= 0\n",
        "\n",
        "[1]"
      ]
    },
    {
      "cell_type": "markdown",
      "metadata": {
        "id": "VN7sexHHPd0C"
      },
      "source": [
        "twodarray2 =>\n",
        "\n",
        "[[1 2]\n",
        "\n",
        " [3 4]]\n",
        "\n"
      ]
    },
    {
      "cell_type": "code",
      "metadata": {
        "id": "0143zvT4OYFT",
        "colab": {
          "base_uri": "https://localhost:8080/"
        },
        "outputId": "24db253f-0a3b-478c-a6cc-f41a00cd510e"
      },
      "source": [
        "twodarray2.shape"
      ],
      "execution_count": 18,
      "outputs": [
        {
          "output_type": "execute_result",
          "data": {
            "text/plain": [
              "(2, 2)"
            ]
          },
          "metadata": {},
          "execution_count": 18
        }
      ]
    },
    {
      "cell_type": "markdown",
      "metadata": {
        "id": "kOR0V93Afm3i"
      },
      "source": [
        "The result (2,2) means that the array has 2 indexes(say i,j) and the first index has length of 2 and second index has length of 2. The total length of the array is 4.\n",
        "\n",
        "i= 0    1\n",
        "\n",
        "j= 0    1\n",
        "\n",
        "[1 2 3 4]"
      ]
    },
    {
      "cell_type": "code",
      "metadata": {
        "colab": {
          "base_uri": "https://localhost:8080/"
        },
        "id": "FP97THTZgWUo",
        "outputId": "fea0b4ad-bc10-42fe-b0f5-b21e267b8bd2"
      },
      "source": [
        "twodarray2[1,1]"
      ],
      "execution_count": 19,
      "outputs": [
        {
          "output_type": "execute_result",
          "data": {
            "text/plain": [
              "4"
            ]
          },
          "metadata": {},
          "execution_count": 19
        }
      ]
    },
    {
      "cell_type": "markdown",
      "metadata": {
        "id": "qLpfr8oScmeY"
      },
      "source": [
        "### Shape of 3D array"
      ]
    },
    {
      "cell_type": "markdown",
      "metadata": {
        "id": "VHrshJ4BcuDz"
      },
      "source": [
        "threedarray =>\n",
        "\n",
        "[[[1]]]"
      ]
    },
    {
      "cell_type": "code",
      "metadata": {
        "id": "cKSY3HSYObwx",
        "colab": {
          "base_uri": "https://localhost:8080/"
        },
        "outputId": "14f5c91e-91dd-4ac0-8137-c35764cfb218"
      },
      "source": [
        "threedarray.shape"
      ],
      "execution_count": 20,
      "outputs": [
        {
          "output_type": "execute_result",
          "data": {
            "text/plain": [
              "(1, 1, 1)"
            ]
          },
          "metadata": {},
          "execution_count": 20
        }
      ]
    },
    {
      "cell_type": "markdown",
      "metadata": {
        "id": "Yh-6LjbPgogU"
      },
      "source": [
        "The result means the array has 3 indexes(say i,j,k). The first index has length 1. Second index has length 1. Third index has length 1. The array length is 1\n",
        "\n",
        "i = 0\n",
        "\n",
        "j = 0\n",
        "\n",
        "k = 0\n",
        "\n",
        "[1]"
      ]
    },
    {
      "cell_type": "markdown",
      "metadata": {
        "id": "-0BKi1ZVc8Km"
      },
      "source": [
        "threedarray2 =>\n",
        "\n",
        "\n",
        "[[[1 2 3] [7 8 9]]\n",
        "\n",
        "[[4 5 6] [9 8 7]]\n",
        "\n",
        "[[1 2 3] [7 8 9]]\n",
        "\n",
        "[[4 5 6] [9 8 7]]]"
      ]
    },
    {
      "cell_type": "code",
      "metadata": {
        "colab": {
          "base_uri": "https://localhost:8080/"
        },
        "id": "HAQw6yQHdBJO",
        "outputId": "451e6612-1b20-4350-b6ae-9518ba5b4ee4"
      },
      "source": [
        "threedarray2.shape"
      ],
      "execution_count": 21,
      "outputs": [
        {
          "output_type": "execute_result",
          "data": {
            "text/plain": [
              "(4, 2, 3)"
            ]
          },
          "metadata": {},
          "execution_count": 21
        }
      ]
    },
    {
      "cell_type": "markdown",
      "metadata": {
        "id": "GCwFXFYuhZXn"
      },
      "source": [
        "The result means the array has 3 indexes(say i,j,k). The first index has length 4. Second index has length 2. Third index has length 3. The array length is 24.\n",
        "\n",
        "\n",
        "i = 0    1    2    3\n",
        "\n",
        "j = 0    1\n",
        "\n",
        "k = 0    1    2\n",
        "\n",
        "[1 2 3 7 8 9 4 5 6 9 8 7 1 2 3 7 8 9 4 5 6 9 8 7]"
      ]
    },
    {
      "cell_type": "code",
      "metadata": {
        "colab": {
          "base_uri": "https://localhost:8080/"
        },
        "id": "XIxw5KD2hVUT",
        "outputId": "6667f71f-89ce-4b4c-a0b9-6df155990baa"
      },
      "source": [
        "threedarray2[3,1,2]"
      ],
      "execution_count": 22,
      "outputs": [
        {
          "output_type": "execute_result",
          "data": {
            "text/plain": [
              "7"
            ]
          },
          "metadata": {},
          "execution_count": 22
        }
      ]
    },
    {
      "cell_type": "markdown",
      "metadata": {
        "id": "sqNPIs0O-6fJ"
      },
      "source": [
        "The result seven means at the index [3,1,2] we find the element 7"
      ]
    },
    {
      "cell_type": "markdown",
      "metadata": {
        "id": "_88Pzd02kmFj"
      },
      "source": [
        "# Reshape an array"
      ]
    },
    {
      "cell_type": "code",
      "metadata": {
        "colab": {
          "base_uri": "https://localhost:8080/"
        },
        "id": "EA4eb1I1h44C",
        "outputId": "cb0cad87-5685-47e7-d8c0-80a0c227c096"
      },
      "source": [
        "origarray = np.array([1,2,3,4,5,6,7,8,9,10,11,12,13,14,15, 16])\n",
        "print(origarray)"
      ],
      "execution_count": 23,
      "outputs": [
        {
          "output_type": "stream",
          "name": "stdout",
          "text": [
            "[ 1  2  3  4  5  6  7  8  9 10 11 12 13 14 15 16]\n"
          ]
        }
      ]
    },
    {
      "cell_type": "code",
      "metadata": {
        "colab": {
          "base_uri": "https://localhost:8080/"
        },
        "id": "ruP5LDpRk0oy",
        "outputId": "8c6699fa-b077-4774-aeb3-a8793f043dcd"
      },
      "source": [
        "origarray.shape"
      ],
      "execution_count": 24,
      "outputs": [
        {
          "output_type": "execute_result",
          "data": {
            "text/plain": [
              "(16,)"
            ]
          },
          "metadata": {},
          "execution_count": 24
        }
      ]
    },
    {
      "cell_type": "markdown",
      "metadata": {
        "id": "0HHwoQ0DlFBK"
      },
      "source": [
        "The result say this is one dimensional array, so it has single index. The length of the index is same as length of the array. the length is 16."
      ]
    },
    {
      "cell_type": "markdown",
      "metadata": {
        "id": "BMOMvoyHl3Xs"
      },
      "source": [
        "### Convert the array to two dimensional array of shape (2,8)"
      ]
    },
    {
      "cell_type": "code",
      "metadata": {
        "colab": {
          "base_uri": "https://localhost:8080/"
        },
        "id": "zfY1ZK5JlSuM",
        "outputId": "4f79c2fe-08e0-4b20-9dde-8b46a967dcc9"
      },
      "source": [
        "reshape2darray = origarray.reshape((2,8))\n",
        "print(reshape2darray)"
      ],
      "execution_count": 25,
      "outputs": [
        {
          "output_type": "stream",
          "name": "stdout",
          "text": [
            "[[ 1  2  3  4  5  6  7  8]\n",
            " [ 9 10 11 12 13 14 15 16]]\n"
          ]
        }
      ]
    },
    {
      "cell_type": "code",
      "metadata": {
        "id": "apTpIKRemd5d",
        "colab": {
          "base_uri": "https://localhost:8080/"
        },
        "outputId": "42979c9f-3b8a-4478-c45d-27d99afe6144"
      },
      "source": [
        "reshape2darray.ndim"
      ],
      "execution_count": 26,
      "outputs": [
        {
          "output_type": "execute_result",
          "data": {
            "text/plain": [
              "2"
            ]
          },
          "metadata": {},
          "execution_count": 26
        }
      ]
    },
    {
      "cell_type": "code",
      "metadata": {
        "id": "F8Qz2iwPms0A",
        "colab": {
          "base_uri": "https://localhost:8080/"
        },
        "outputId": "fbe69d78-9d28-45ba-a56c-90c76fa4eec8"
      },
      "source": [
        "reshape2darray.shape"
      ],
      "execution_count": 27,
      "outputs": [
        {
          "output_type": "execute_result",
          "data": {
            "text/plain": [
              "(2, 8)"
            ]
          },
          "metadata": {},
          "execution_count": 27
        }
      ]
    },
    {
      "cell_type": "markdown",
      "metadata": {
        "id": "l0ksB0P8mzdu"
      },
      "source": [
        "### Convert the array to three dimensional array of shape (4,2,2)"
      ]
    },
    {
      "cell_type": "code",
      "metadata": {
        "id": "pG8EHkyVmvVR",
        "colab": {
          "base_uri": "https://localhost:8080/"
        },
        "outputId": "91dfd93a-c9e7-4b94-80b2-de9f6bdb70af"
      },
      "source": [
        "reshape3darray = origarray.reshape((4,2,2))\n",
        "print(reshape3darray)"
      ],
      "execution_count": 28,
      "outputs": [
        {
          "output_type": "stream",
          "name": "stdout",
          "text": [
            "[[[ 1  2]\n",
            "  [ 3  4]]\n",
            "\n",
            " [[ 5  6]\n",
            "  [ 7  8]]\n",
            "\n",
            " [[ 9 10]\n",
            "  [11 12]]\n",
            "\n",
            " [[13 14]\n",
            "  [15 16]]]\n"
          ]
        }
      ]
    },
    {
      "cell_type": "code",
      "metadata": {
        "id": "rfKYnxP0nkDd",
        "colab": {
          "base_uri": "https://localhost:8080/"
        },
        "outputId": "87a1dbe2-616e-4698-f73f-7576a30ec23d"
      },
      "source": [
        "reshape3darray.ndim"
      ],
      "execution_count": 29,
      "outputs": [
        {
          "output_type": "execute_result",
          "data": {
            "text/plain": [
              "3"
            ]
          },
          "metadata": {},
          "execution_count": 29
        }
      ]
    },
    {
      "cell_type": "code",
      "metadata": {
        "id": "LkZ71Oton5_V",
        "colab": {
          "base_uri": "https://localhost:8080/"
        },
        "outputId": "ed0f9d3f-7888-44ab-8770-47bc4b041b7b"
      },
      "source": [
        "reshape3darray.shape"
      ],
      "execution_count": 30,
      "outputs": [
        {
          "output_type": "execute_result",
          "data": {
            "text/plain": [
              "(4, 2, 2)"
            ]
          },
          "metadata": {},
          "execution_count": 30
        }
      ]
    },
    {
      "cell_type": "markdown",
      "metadata": {
        "id": "_OEhJokdKSpt"
      },
      "source": [
        "# Array create methods"
      ]
    },
    {
      "cell_type": "markdown",
      "metadata": {
        "id": "BLvJCG0qN7sU"
      },
      "source": [
        "###  Create from list\n"
      ]
    },
    {
      "cell_type": "code",
      "metadata": {
        "id": "6sn9oMAHOVoi",
        "colab": {
          "base_uri": "https://localhost:8080/"
        },
        "outputId": "04c7c4c4-ca22-408a-9d0e-7bf310428bf3"
      },
      "source": [
        "arrayfromlist = np.array([1,2,3,4,5])\n",
        "print(arrayfromlist)"
      ],
      "execution_count": 31,
      "outputs": [
        {
          "output_type": "stream",
          "name": "stdout",
          "text": [
            "[1 2 3 4 5]\n"
          ]
        }
      ]
    },
    {
      "cell_type": "markdown",
      "metadata": {
        "id": "zIg4d_3ROhoT"
      },
      "source": [
        "### Create array having all values as zeroe "
      ]
    },
    {
      "cell_type": "code",
      "metadata": {
        "id": "94Q_KiTtO0bS",
        "colab": {
          "base_uri": "https://localhost:8080/"
        },
        "outputId": "308a8721-e2ee-4ea7-c330-5041147a5390"
      },
      "source": [
        "array1dallzeros = np.zeros(10)\n",
        "print(array1dallzeros)"
      ],
      "execution_count": 32,
      "outputs": [
        {
          "output_type": "stream",
          "name": "stdout",
          "text": [
            "[0. 0. 0. 0. 0. 0. 0. 0. 0. 0.]\n"
          ]
        }
      ]
    },
    {
      "cell_type": "code",
      "metadata": {
        "id": "AjG0zytiPSvp",
        "colab": {
          "base_uri": "https://localhost:8080/"
        },
        "outputId": "d005200f-a237-4823-dfa0-7a3724cbc5ed"
      },
      "source": [
        "array2dallzeros = np.zeros((5,5))\n",
        "print(array2dallzeros)"
      ],
      "execution_count": 33,
      "outputs": [
        {
          "output_type": "stream",
          "name": "stdout",
          "text": [
            "[[0. 0. 0. 0. 0.]\n",
            " [0. 0. 0. 0. 0.]\n",
            " [0. 0. 0. 0. 0.]\n",
            " [0. 0. 0. 0. 0.]\n",
            " [0. 0. 0. 0. 0.]]\n"
          ]
        }
      ]
    },
    {
      "cell_type": "code",
      "metadata": {
        "id": "R1LJ5VC2Pfjo",
        "colab": {
          "base_uri": "https://localhost:8080/"
        },
        "outputId": "3b56d29c-c780-4fb6-d2dd-6e12de894d35"
      },
      "source": [
        "array3dallzeros = np.zeros((2,3,4))\n",
        "print(array3dallzeros)"
      ],
      "execution_count": 34,
      "outputs": [
        {
          "output_type": "stream",
          "name": "stdout",
          "text": [
            "[[[0. 0. 0. 0.]\n",
            "  [0. 0. 0. 0.]\n",
            "  [0. 0. 0. 0.]]\n",
            "\n",
            " [[0. 0. 0. 0.]\n",
            "  [0. 0. 0. 0.]\n",
            "  [0. 0. 0. 0.]]]\n"
          ]
        }
      ]
    },
    {
      "cell_type": "markdown",
      "metadata": {
        "id": "zq-LAa4UP70m"
      },
      "source": [
        "Another numpy function similar to numpy.zeros is numpy.ones. Instead of zeros all values are 1. "
      ]
    },
    {
      "cell_type": "code",
      "metadata": {
        "id": "jMHpf5kWQIyt",
        "colab": {
          "base_uri": "https://localhost:8080/"
        },
        "outputId": "c8f15026-8549-40fe-e547-ec31af329656"
      },
      "source": [
        "arrayallones = np.ones((2,3))\n",
        "print(arrayallones)"
      ],
      "execution_count": 35,
      "outputs": [
        {
          "output_type": "stream",
          "name": "stdout",
          "text": [
            "[[1. 1. 1.]\n",
            " [1. 1. 1.]]\n"
          ]
        }
      ]
    },
    {
      "cell_type": "markdown",
      "metadata": {
        "id": "y54ChH5aVprc"
      },
      "source": [
        "### Create array having all random values"
      ]
    },
    {
      "cell_type": "code",
      "metadata": {
        "colab": {
          "base_uri": "https://localhost:8080/"
        },
        "id": "rADg7oatW-dG",
        "outputId": "50a30a88-4e5f-4e75-9af1-ddbd6cdb30d9"
      },
      "source": [
        "arrayallrandom = np.random.random((2,3))\n",
        "print(arrayallrandom)"
      ],
      "execution_count": 36,
      "outputs": [
        {
          "output_type": "stream",
          "name": "stdout",
          "text": [
            "[[0.15115387 0.23243742 0.4088776 ]\n",
            " [0.35855506 0.84203703 0.32345508]]\n"
          ]
        }
      ]
    },
    {
      "cell_type": "markdown",
      "metadata": {
        "id": "3BYHGoq6XMlF"
      },
      "source": [
        "### Create array having all values with normal distribution"
      ]
    },
    {
      "cell_type": "code",
      "metadata": {
        "colab": {
          "base_uri": "https://localhost:8080/"
        },
        "id": "fhj4fKrQXV18",
        "outputId": "7d118c04-3842-482c-98b4-6fe1887431ed"
      },
      "source": [
        "arrayallrandomnormal =  np.random.randn(10)\n",
        "print(arrayallrandomnormal)"
      ],
      "execution_count": 37,
      "outputs": [
        {
          "output_type": "stream",
          "name": "stdout",
          "text": [
            "[ 1.74458641 -0.3871264  -1.46501024  0.0280173  -2.21201512 -1.30014046\n",
            "  0.91055901 -0.95907554 -0.20740807  1.24306716]\n"
          ]
        }
      ]
    },
    {
      "cell_type": "code",
      "metadata": {
        "colab": {
          "base_uri": "https://localhost:8080/"
        },
        "id": "xkc-21vxYre9",
        "outputId": "ee10f278-648d-4dba-d9e4-4e82b1687bdf"
      },
      "source": [
        "array2dallrandomnormal = arrayallrandomnormal.reshape((2,5))\n",
        "print(array2dallrandomnormal)"
      ],
      "execution_count": 38,
      "outputs": [
        {
          "output_type": "stream",
          "name": "stdout",
          "text": [
            "[[ 1.74458641 -0.3871264  -1.46501024  0.0280173  -2.21201512]\n",
            " [-1.30014046  0.91055901 -0.95907554 -0.20740807  1.24306716]]\n"
          ]
        }
      ]
    },
    {
      "cell_type": "markdown",
      "metadata": {
        "id": "1fXyczmZdRnT"
      },
      "source": [
        "### Create equally spaced (linearly spaced) array"
      ]
    },
    {
      "cell_type": "code",
      "metadata": {
        "colab": {
          "base_uri": "https://localhost:8080/"
        },
        "id": "q2O4XDfpdZ8H",
        "outputId": "a9f6c946-517f-4a6f-e4b2-a11a24aa93fd"
      },
      "source": [
        "arraylinspaced = np.linspace(0,10,5)\n",
        "print(arraylinspaced)"
      ],
      "execution_count": 39,
      "outputs": [
        {
          "output_type": "stream",
          "name": "stdout",
          "text": [
            "[ 0.   2.5  5.   7.5 10. ]\n"
          ]
        }
      ]
    },
    {
      "cell_type": "markdown",
      "metadata": {
        "id": "RAaXzWwGd_2Q"
      },
      "source": [
        "### Create equally spaced(taking space as input) array"
      ]
    },
    {
      "cell_type": "code",
      "metadata": {
        "colab": {
          "base_uri": "https://localhost:8080/"
        },
        "id": "FnV9o8q-eUpA",
        "outputId": "1c9699ab-56a9-4581-e946-96f9f0589653"
      },
      "source": [
        "arrayarange = np.arange(0,10,2.5)\n",
        "print(arrayarange)"
      ],
      "execution_count": 40,
      "outputs": [
        {
          "output_type": "stream",
          "name": "stdout",
          "text": [
            "[0.  2.5 5.  7.5]\n"
          ]
        }
      ]
    },
    {
      "cell_type": "markdown",
      "metadata": {
        "id": "YjZZBAMtjS-C"
      },
      "source": [
        "# Array operations\n",
        "\n",
        "Numpy arrays operate differently compared to python lists as numpy arrays allow large number of mathematical operation to be performed on them. As mentioned earlier, they are also superfast."
      ]
    },
    {
      "cell_type": "markdown",
      "metadata": {
        "id": "WPcfMTnIj1ut"
      },
      "source": [
        "### Scalar operations"
      ]
    },
    {
      "cell_type": "code",
      "metadata": {
        "id": "b7S4yyd5KoLi",
        "colab": {
          "base_uri": "https://localhost:8080/"
        },
        "outputId": "edde903b-bb26-4a21-85c0-ce2bf254060f"
      },
      "source": [
        "cardsarray = np.array([1,2,3,4,5])\n",
        "print(cardsarray)"
      ],
      "execution_count": 41,
      "outputs": [
        {
          "output_type": "stream",
          "name": "stdout",
          "text": [
            "[1 2 3 4 5]\n"
          ]
        }
      ]
    },
    {
      "cell_type": "code",
      "metadata": {
        "colab": {
          "base_uri": "https://localhost:8080/"
        },
        "id": "DvK03N-mkMNW",
        "outputId": "f861f9e5-2ff6-41eb-d7dd-dcc10bd89550"
      },
      "source": [
        "# Multiply cardsarray with scalar value of 5\n",
        "scalarmulcardsarray = 5*cardsarray\n",
        "print(scalarmulcardsarray)"
      ],
      "execution_count": 42,
      "outputs": [
        {
          "output_type": "stream",
          "name": "stdout",
          "text": [
            "[ 5 10 15 20 25]\n"
          ]
        }
      ]
    },
    {
      "cell_type": "code",
      "metadata": {
        "colab": {
          "base_uri": "https://localhost:8080/"
        },
        "id": "DkYd3rpHkeHX",
        "outputId": "12b02589-7a46-4139-a571-f5ae5fc129cb"
      },
      "source": [
        "#Divide cards array with scalar value of 5\n",
        "cardsarraydivscalar = cardsarray/5\n",
        "print(cardsarraydivscalar) "
      ],
      "execution_count": 43,
      "outputs": [
        {
          "output_type": "stream",
          "name": "stdout",
          "text": [
            "[0.2 0.4 0.6 0.8 1. ]\n"
          ]
        }
      ]
    },
    {
      "cell_type": "code",
      "metadata": {
        "colab": {
          "base_uri": "https://localhost:8080/"
        },
        "id": "-He0ZsuNlIlL",
        "outputId": "f9719a21-2747-45d1-c76d-9787c18255eb"
      },
      "source": [
        "#Reciprocal of cardsarray values\n",
        "reciprocalcardsarray = 1/cardsarray\n",
        "print(reciprocalcardsarray)"
      ],
      "execution_count": 44,
      "outputs": [
        {
          "output_type": "stream",
          "name": "stdout",
          "text": [
            "[1.         0.5        0.33333333 0.25       0.2       ]\n"
          ]
        }
      ]
    },
    {
      "cell_type": "markdown",
      "metadata": {
        "id": "S2OHHPsVm98D"
      },
      "source": [
        "### Conditional Operations"
      ]
    },
    {
      "cell_type": "code",
      "metadata": {
        "colab": {
          "base_uri": "https://localhost:8080/"
        },
        "id": "QbIwZyA2lZ6V",
        "outputId": "da3fa882-6696-4d01-af93-d60e4cb0d2a8"
      },
      "source": [
        "conditionalarray = np.array([1,2,3,4,5,6,7,8,9])\n",
        "print(conditionalarray) "
      ],
      "execution_count": 45,
      "outputs": [
        {
          "output_type": "stream",
          "name": "stdout",
          "text": [
            "[1 2 3 4 5 6 7 8 9]\n"
          ]
        }
      ]
    },
    {
      "cell_type": "code",
      "metadata": {
        "colab": {
          "base_uri": "https://localhost:8080/"
        },
        "id": "78loqikbnNQ2",
        "outputId": "2f9bc6f3-0917-4151-b947-a55640960d36"
      },
      "source": [
        "conditionalarray > 5"
      ],
      "execution_count": 46,
      "outputs": [
        {
          "output_type": "execute_result",
          "data": {
            "text/plain": [
              "array([False, False, False, False, False,  True,  True,  True,  True])"
            ]
          },
          "metadata": {},
          "execution_count": 46
        }
      ]
    },
    {
      "cell_type": "code",
      "metadata": {
        "colab": {
          "base_uri": "https://localhost:8080/"
        },
        "id": "-_VqtoC6nUBN",
        "outputId": "228700b3-1b7b-4099-d6fc-cf9addc23846"
      },
      "source": [
        "conditionalarray < 5"
      ],
      "execution_count": 47,
      "outputs": [
        {
          "output_type": "execute_result",
          "data": {
            "text/plain": [
              "array([ True,  True,  True,  True, False, False, False, False, False])"
            ]
          },
          "metadata": {},
          "execution_count": 47
        }
      ]
    },
    {
      "cell_type": "code",
      "metadata": {
        "colab": {
          "base_uri": "https://localhost:8080/"
        },
        "id": "wRxvEL4mnZOo",
        "outputId": "591859df-78c4-422f-870b-af881833e6b6"
      },
      "source": [
        "conditionalarray == 5"
      ],
      "execution_count": 48,
      "outputs": [
        {
          "output_type": "execute_result",
          "data": {
            "text/plain": [
              "array([False, False, False, False,  True, False, False, False, False])"
            ]
          },
          "metadata": {},
          "execution_count": 48
        }
      ]
    },
    {
      "cell_type": "markdown",
      "metadata": {
        "id": "BNNz6E4HoFcD"
      },
      "source": [
        "#### use conditional as index"
      ]
    },
    {
      "cell_type": "code",
      "metadata": {
        "colab": {
          "base_uri": "https://localhost:8080/"
        },
        "id": "Btzme4iHnbl4",
        "outputId": "1a7ca0b5-d83a-4941-f771-ee38bb7cda6d"
      },
      "source": [
        "conditionalarray[conditionalarray>3]"
      ],
      "execution_count": 49,
      "outputs": [
        {
          "output_type": "execute_result",
          "data": {
            "text/plain": [
              "array([4, 5, 6, 7, 8, 9])"
            ]
          },
          "metadata": {},
          "execution_count": 49
        }
      ]
    },
    {
      "cell_type": "markdown",
      "metadata": {
        "id": "xGYQiftYpbPN"
      },
      "source": [
        "### Apply user defined function on all elements on an array"
      ]
    },
    {
      "cell_type": "code",
      "metadata": {
        "colab": {
          "base_uri": "https://localhost:8080/"
        },
        "id": "9jnljMAInvIx",
        "outputId": "2b074f0a-e046-4384-d4f9-6fcd4571ae25"
      },
      "source": [
        "ufarray = np.array([1,2,3,4,5])\n",
        "print(ufarray)"
      ],
      "execution_count": 50,
      "outputs": [
        {
          "output_type": "stream",
          "name": "stdout",
          "text": [
            "[1 2 3 4 5]\n"
          ]
        }
      ]
    },
    {
      "cell_type": "code",
      "metadata": {
        "id": "nF3_iTlspsBh"
      },
      "source": [
        "def f(x):\n",
        "  return x**x+1"
      ],
      "execution_count": 51,
      "outputs": []
    },
    {
      "cell_type": "code",
      "metadata": {
        "colab": {
          "base_uri": "https://localhost:8080/"
        },
        "id": "0H3JmqJlp2ib",
        "outputId": "030edecc-58d8-48c0-af50-3369f9bacbe9"
      },
      "source": [
        "f(2)"
      ],
      "execution_count": 52,
      "outputs": [
        {
          "output_type": "execute_result",
          "data": {
            "text/plain": [
              "5"
            ]
          },
          "metadata": {},
          "execution_count": 52
        }
      ]
    },
    {
      "cell_type": "code",
      "metadata": {
        "colab": {
          "base_uri": "https://localhost:8080/"
        },
        "id": "muME1Kf5p4ie",
        "outputId": "bc73df10-4197-4881-9c56-d5bf87f10775"
      },
      "source": [
        "f(ufarray)"
      ],
      "execution_count": 53,
      "outputs": [
        {
          "output_type": "execute_result",
          "data": {
            "text/plain": [
              "array([   2,    5,   28,  257, 3126])"
            ]
          },
          "metadata": {},
          "execution_count": 53
        }
      ]
    },
    {
      "cell_type": "markdown",
      "metadata": {
        "id": "js7e6_6tqHtA"
      },
      "source": [
        "### Matrix Multiplcation using array"
      ]
    },
    {
      "cell_type": "markdown",
      "metadata": {
        "id": "dU-whRPBybeJ"
      },
      "source": [
        "Create two simple 2D matrices matrixA and MatrixB. matrixA has shape (1,3) and matrixB has shape (3,1)"
      ]
    },
    {
      "cell_type": "code",
      "metadata": {
        "colab": {
          "base_uri": "https://localhost:8080/"
        },
        "id": "7AiOkqwJp8Jl",
        "outputId": "198e9fd1-1728-4690-fbb9-63e39dd26525"
      },
      "source": [
        "matrixA = np.array([[1,2,3]])\n",
        "print(matrixA)"
      ],
      "execution_count": 54,
      "outputs": [
        {
          "output_type": "stream",
          "name": "stdout",
          "text": [
            "[[1 2 3]]\n"
          ]
        }
      ]
    },
    {
      "cell_type": "code",
      "metadata": {
        "colab": {
          "base_uri": "https://localhost:8080/"
        },
        "id": "OivFQMV0wxWb",
        "outputId": "e5ef166b-20d1-47fe-9628-199c3e60bbfd"
      },
      "source": [
        "matrixA.shape"
      ],
      "execution_count": 55,
      "outputs": [
        {
          "output_type": "execute_result",
          "data": {
            "text/plain": [
              "(1, 3)"
            ]
          },
          "metadata": {},
          "execution_count": 55
        }
      ]
    },
    {
      "cell_type": "code",
      "metadata": {
        "colab": {
          "base_uri": "https://localhost:8080/"
        },
        "id": "4jA_LGm-w9w5",
        "outputId": "bc531b0d-8843-48ff-9122-b1bc8c67e038"
      },
      "source": [
        "matrixB = np.array([[1],[2],[3]])\n",
        "print(matrixB)"
      ],
      "execution_count": 56,
      "outputs": [
        {
          "output_type": "stream",
          "name": "stdout",
          "text": [
            "[[1]\n",
            " [2]\n",
            " [3]]\n"
          ]
        }
      ]
    },
    {
      "cell_type": "code",
      "metadata": {
        "colab": {
          "base_uri": "https://localhost:8080/"
        },
        "id": "vvsS9LyoxKGU",
        "outputId": "e4cec96b-efcc-4aaa-9538-39743ce8a8ef"
      },
      "source": [
        "matrixB.shape"
      ],
      "execution_count": 57,
      "outputs": [
        {
          "output_type": "execute_result",
          "data": {
            "text/plain": [
              "(3, 1)"
            ]
          },
          "metadata": {},
          "execution_count": 57
        }
      ]
    },
    {
      "cell_type": "markdown",
      "metadata": {
        "id": "QtQNeCAqxjg9"
      },
      "source": [
        "### dot product of matrices"
      ]
    },
    {
      "cell_type": "code",
      "metadata": {
        "colab": {
          "base_uri": "https://localhost:8080/"
        },
        "id": "KYYYtUkzxsCo",
        "outputId": "fcac7f97-94b0-4ee4-d17d-7e33e79c3b20"
      },
      "source": [
        "dotProd = matrixA.dot(matrixB)\n",
        "print(dotProd)"
      ],
      "execution_count": 58,
      "outputs": [
        {
          "output_type": "stream",
          "name": "stdout",
          "text": [
            "[[14]]\n"
          ]
        }
      ]
    },
    {
      "cell_type": "code",
      "metadata": {
        "colab": {
          "base_uri": "https://localhost:8080/"
        },
        "id": "DSQQf08_yDu4",
        "outputId": "239cae3a-9db3-49a1-e50e-c7fc67c101cb"
      },
      "source": [
        "matrixA.ndim"
      ],
      "execution_count": 59,
      "outputs": [
        {
          "output_type": "execute_result",
          "data": {
            "text/plain": [
              "2"
            ]
          },
          "metadata": {},
          "execution_count": 59
        }
      ]
    },
    {
      "cell_type": "code",
      "metadata": {
        "colab": {
          "base_uri": "https://localhost:8080/"
        },
        "id": "A0EtdY7JyRno",
        "outputId": "bf0a212f-5e18-4415-b2ad-d74071ad6a50"
      },
      "source": [
        "matrixB.ndim"
      ],
      "execution_count": 60,
      "outputs": [
        {
          "output_type": "execute_result",
          "data": {
            "text/plain": [
              "2"
            ]
          },
          "metadata": {},
          "execution_count": 60
        }
      ]
    },
    {
      "cell_type": "code",
      "metadata": {
        "colab": {
          "base_uri": "https://localhost:8080/"
        },
        "id": "46dSj88KyVM7",
        "outputId": "04b9f1ef-4954-48f2-936c-1daa137f15a1"
      },
      "source": [
        "dotProd.ndim"
      ],
      "execution_count": 61,
      "outputs": [
        {
          "output_type": "execute_result",
          "data": {
            "text/plain": [
              "2"
            ]
          },
          "metadata": {},
          "execution_count": 61
        }
      ]
    },
    {
      "cell_type": "markdown",
      "metadata": {
        "id": "lkMTn1p7y8U8"
      },
      "source": [
        "### Matrix multiplication\n",
        "\n",
        "\n",
        "[[1 2 3]] * [\n",
        "  \n",
        "  [1]\n",
        " [2]\n",
        " [3]\n",
        " \n",
        " ]\n"
      ]
    },
    {
      "cell_type": "code",
      "metadata": {
        "colab": {
          "base_uri": "https://localhost:8080/"
        },
        "id": "py_tsYGHxNlb",
        "outputId": "354d19d5-14d4-4701-9798-e2e82a108a75"
      },
      "source": [
        "matrixA*matrixB"
      ],
      "execution_count": 62,
      "outputs": [
        {
          "output_type": "execute_result",
          "data": {
            "text/plain": [
              "array([[1, 2, 3],\n",
              "       [2, 4, 6],\n",
              "       [3, 6, 9]])"
            ]
          },
          "metadata": {},
          "execution_count": 62
        }
      ]
    },
    {
      "cell_type": "markdown",
      "metadata": {
        "id": "hGYm0lWoz_xe"
      },
      "source": [
        "# Simple plots using plyplot"
      ]
    },
    {
      "cell_type": "markdown",
      "metadata": {
        "id": "Sn8Qn8AD0Ix-"
      },
      "source": [
        "### line plot"
      ]
    },
    {
      "cell_type": "code",
      "metadata": {
        "id": "lJbV1xFe1Mr3"
      },
      "source": [
        "import matplotlib.pyplot as plt"
      ],
      "execution_count": 63,
      "outputs": []
    },
    {
      "cell_type": "code",
      "metadata": {
        "colab": {
          "base_uri": "https://localhost:8080/",
          "height": 352
        },
        "id": "FD7u8tbj1rh1",
        "outputId": "3d1ad88a-2f90-4d06-cd19-326256442d63"
      },
      "source": [
        "x= np.random.randn(10)\n",
        "plt.hist(x)"
      ],
      "execution_count": 64,
      "outputs": [
        {
          "output_type": "execute_result",
          "data": {
            "text/plain": [
              "(array([2., 1., 0., 1., 0., 1., 1., 0., 3., 1.]),\n",
              " array([-2.11987798, -1.71510529, -1.3103326 , -0.90555991, -0.50078722,\n",
              "        -0.09601453,  0.30875816,  0.71353085,  1.11830354,  1.52307623,\n",
              "         1.92784893]),\n",
              " <a list of 10 Patch objects>)"
            ]
          },
          "metadata": {},
          "execution_count": 64
        },
        {
          "output_type": "display_data",
          "data": {
            "image/png": "[encoded data removed]",
            "text/plain": [
              "<Figure size 432x288 with 1 Axes>"
            ]
          },
          "metadata": {
            "needs_background": "light"
          }
        }
      ]
    },
    {
      "cell_type": "code",
      "metadata": {
        "colab": {
          "base_uri": "https://localhost:8080/",
          "height": 282
        },
        "id": "GHVCGStAxTwR",
        "outputId": "07378885-2cd4-4409-edfc-0081ded38590"
      },
      "source": [
        "x=np.array([1,2,3,4,5,6,7])\n",
        "plt.plot(x, x**x)"
      ],
      "execution_count": 65,
      "outputs": [
        {
          "output_type": "execute_result",
          "data": {
            "text/plain": [
              "[<matplotlib.lines.Line2D at 0x7f0236fb7f50>]"
            ]
          },
          "metadata": {},
          "execution_count": 65
        },
        {
          "output_type": "display_data",
          "data": {
            "image/png": "[encoded data removed]",
            "text/plain": [
              "<Figure size 432x288 with 1 Axes>"
            ]
          },
          "metadata": {
            "needs_background": "light"
          }
        }
      ]
    },
    {
      "cell_type": "markdown",
      "metadata": {
        "id": "84lkyv1486KF"
      },
      "source": [
        "# Array indexing"
      ]
    },
    {
      "cell_type": "markdown",
      "metadata": {
        "id": "zgAmVkam92Bj"
      },
      "source": [
        "## Index 1D array"
      ]
    },
    {
      "cell_type": "code",
      "metadata": {
        "colab": {
          "base_uri": "https://localhost:8080/"
        },
        "id": "Z5Ujaah80alp",
        "outputId": "6499a5f2-c9b2-47c8-ee86-a5e0202a94a4"
      },
      "source": [
        "index1d =np.array([1,2,3,4,5])\n",
        "print(index1d)"
      ],
      "execution_count": 66,
      "outputs": [
        {
          "output_type": "stream",
          "name": "stdout",
          "text": [
            "[1 2 3 4 5]\n"
          ]
        }
      ]
    },
    {
      "cell_type": "code",
      "metadata": {
        "colab": {
          "base_uri": "https://localhost:8080/"
        },
        "id": "wI7VeUQ59Vtj",
        "outputId": "30111e29-ee82-4447-fd89-77b4542e733a"
      },
      "source": [
        "### First Element\n",
        "index1d[0]"
      ],
      "execution_count": 67,
      "outputs": [
        {
          "output_type": "execute_result",
          "data": {
            "text/plain": [
              "1"
            ]
          },
          "metadata": {},
          "execution_count": 67
        }
      ]
    },
    {
      "cell_type": "code",
      "metadata": {
        "colab": {
          "base_uri": "https://localhost:8080/"
        },
        "id": "rUa2hc8A9aHl",
        "outputId": "866a6f9a-4f3f-43dd-a710-c5749adea007"
      },
      "source": [
        "### Last Element\n",
        "index1d[4]"
      ],
      "execution_count": 68,
      "outputs": [
        {
          "output_type": "execute_result",
          "data": {
            "text/plain": [
              "5"
            ]
          },
          "metadata": {},
          "execution_count": 68
        }
      ]
    },
    {
      "cell_type": "markdown",
      "metadata": {
        "id": "jg2CG_Jv-NKf"
      },
      "source": [
        "## Index 2D array"
      ]
    },
    {
      "cell_type": "code",
      "metadata": {
        "colab": {
          "base_uri": "https://localhost:8080/"
        },
        "id": "BoM7CM_f9l79",
        "outputId": "5e703445-427d-431d-f9ea-de69a26baf53"
      },
      "source": [
        "index2d = np.array([[1,2,3],[4,5,6],[7,8,9]])\n",
        "print(index2d)"
      ],
      "execution_count": 69,
      "outputs": [
        {
          "output_type": "stream",
          "name": "stdout",
          "text": [
            "[[1 2 3]\n",
            " [4 5 6]\n",
            " [7 8 9]]\n"
          ]
        }
      ]
    },
    {
      "cell_type": "markdown",
      "metadata": {
        "id": "RuVglS7BB59l"
      },
      "source": [
        "#### To get first 1D array"
      ]
    },
    {
      "cell_type": "code",
      "metadata": {
        "colab": {
          "base_uri": "https://localhost:8080/"
        },
        "id": "6ps6IJHTCA58",
        "outputId": "c3f38d5b-44a4-47f2-8492-88ed4350a6b9"
      },
      "source": [
        "index2d[0]"
      ],
      "execution_count": 70,
      "outputs": [
        {
          "output_type": "execute_result",
          "data": {
            "text/plain": [
              "array([1, 2, 3])"
            ]
          },
          "metadata": {},
          "execution_count": 70
        }
      ]
    },
    {
      "cell_type": "code",
      "metadata": {
        "colab": {
          "base_uri": "https://localhost:8080/"
        },
        "id": "JttDqA3x_Nhm",
        "outputId": "55fe2ccd-c738-4543-90cf-678bbc152b88"
      },
      "source": [
        "###First Element\n",
        "index2d[0,0]"
      ],
      "execution_count": 71,
      "outputs": [
        {
          "output_type": "execute_result",
          "data": {
            "text/plain": [
              "1"
            ]
          },
          "metadata": {},
          "execution_count": 71
        }
      ]
    },
    {
      "cell_type": "code",
      "metadata": {
        "colab": {
          "base_uri": "https://localhost:8080/"
        },
        "id": "0Zigiulb_UED",
        "outputId": "c7d3447e-dcd3-445b-ee71-6919aa63eab8"
      },
      "source": [
        "###Last Element\n",
        "index2d[2,2]"
      ],
      "execution_count": 72,
      "outputs": [
        {
          "output_type": "execute_result",
          "data": {
            "text/plain": [
              "9"
            ]
          },
          "metadata": {},
          "execution_count": 72
        }
      ]
    },
    {
      "cell_type": "code",
      "metadata": {
        "colab": {
          "base_uri": "https://localhost:8080/"
        },
        "id": "X2iraCMr_aK1",
        "outputId": "baad91fc-a6a2-44cc-9829-7ac3c5b1398a"
      },
      "source": [
        "### central element\n",
        "index2d[1,1]"
      ],
      "execution_count": 73,
      "outputs": [
        {
          "output_type": "execute_result",
          "data": {
            "text/plain": [
              "5"
            ]
          },
          "metadata": {},
          "execution_count": 73
        }
      ]
    },
    {
      "cell_type": "markdown",
      "metadata": {
        "id": "uTuKAc83_h_w"
      },
      "source": [
        "### Index 3D array"
      ]
    },
    {
      "cell_type": "code",
      "metadata": {
        "colab": {
          "base_uri": "https://localhost:8080/"
        },
        "id": "GIpezp0N_fvy",
        "outputId": "3d6f4be5-fccb-4c25-94d2-fdc8d4ab0996"
      },
      "source": [
        "index3d = np.array([ [[1,2,3],[4,5,6]],[[7,8,9],[10,11,12]],[[13,14,15],[16,17,18]] ])\n",
        "print(index3d)"
      ],
      "execution_count": 74,
      "outputs": [
        {
          "output_type": "stream",
          "name": "stdout",
          "text": [
            "[[[ 1  2  3]\n",
            "  [ 4  5  6]]\n",
            "\n",
            " [[ 7  8  9]\n",
            "  [10 11 12]]\n",
            "\n",
            " [[13 14 15]\n",
            "  [16 17 18]]]\n"
          ]
        }
      ]
    },
    {
      "cell_type": "markdown",
      "metadata": {
        "id": "HIrOBcy_BkEV"
      },
      "source": [
        "#### To get first 2D array"
      ]
    },
    {
      "cell_type": "code",
      "metadata": {
        "colab": {
          "base_uri": "https://localhost:8080/"
        },
        "id": "cGm9nHF7ACFu",
        "outputId": "205876c1-a4bb-4be4-f1ab-52e6da6812f9"
      },
      "source": [
        "index3d[0]"
      ],
      "execution_count": 75,
      "outputs": [
        {
          "output_type": "execute_result",
          "data": {
            "text/plain": [
              "array([[1, 2, 3],\n",
              "       [4, 5, 6]])"
            ]
          },
          "metadata": {},
          "execution_count": 75
        }
      ]
    },
    {
      "cell_type": "markdown",
      "metadata": {
        "id": "iHSI0guJBqkw"
      },
      "source": [
        "#### To get first 1D array from first 2D array"
      ]
    },
    {
      "cell_type": "code",
      "metadata": {
        "colab": {
          "base_uri": "https://localhost:8080/"
        },
        "id": "cfX5rizhBVvj",
        "outputId": "08f235ea-b0c3-4094-a5ca-e64148d32af0"
      },
      "source": [
        "index3d[0,0]"
      ],
      "execution_count": 76,
      "outputs": [
        {
          "output_type": "execute_result",
          "data": {
            "text/plain": [
              "array([1, 2, 3])"
            ]
          },
          "metadata": {},
          "execution_count": 76
        }
      ]
    },
    {
      "cell_type": "markdown",
      "metadata": {
        "id": "ROHVpRRrBxld"
      },
      "source": [
        "#### To get the first element"
      ]
    },
    {
      "cell_type": "code",
      "metadata": {
        "colab": {
          "base_uri": "https://localhost:8080/"
        },
        "id": "U4iBiu4XBbqb",
        "outputId": "70c8fd56-2a49-45d2-b81c-2ba874eec80d"
      },
      "source": [
        "index3d[0,0,0]"
      ],
      "execution_count": 77,
      "outputs": [
        {
          "output_type": "execute_result",
          "data": {
            "text/plain": [
              "1"
            ]
          },
          "metadata": {},
          "execution_count": 77
        }
      ]
    },
    {
      "cell_type": "markdown",
      "metadata": {
        "id": "HXcmFbQICPkX"
      },
      "source": [
        "# Array Slicing\n",
        "##[start:end:step]\n",
        "\n",
        "### default value for start =0\n",
        "\n",
        "### default value for end = length of the array\n",
        "\n",
        "### default value for step = 1"
      ]
    },
    {
      "cell_type": "markdown",
      "metadata": {
        "id": "5ks13_LrEOh6"
      },
      "source": [
        "### Slice 1D array"
      ]
    },
    {
      "cell_type": "code",
      "metadata": {
        "colab": {
          "base_uri": "https://localhost:8080/"
        },
        "id": "3n89ZJ_kBegI",
        "outputId": "b9164022-1e8c-453e-8094-92f2f7e3abbb"
      },
      "source": [
        "slice1d =np.array([1,2,3,4,5])\n",
        "print(slice1d)"
      ],
      "execution_count": 78,
      "outputs": [
        {
          "output_type": "stream",
          "name": "stdout",
          "text": [
            "[1 2 3 4 5]\n"
          ]
        }
      ]
    },
    {
      "cell_type": "code",
      "metadata": {
        "colab": {
          "base_uri": "https://localhost:8080/"
        },
        "id": "FMp88-fRDtBi",
        "outputId": "3d264e2c-ab1b-48a8-92d3-b25289de9f2f"
      },
      "source": [
        "### Get First 2 elements expected values for [start:end:step] =>[0:2:1]\n",
        "\n",
        "### [:2]\n",
        "print(slice1d[:2])\n",
        "\n",
        "### same as [0:2:1]\n",
        "print(slice1d[0:2:1])"
      ],
      "execution_count": 89,
      "outputs": [
        {
          "output_type": "stream",
          "name": "stdout",
          "text": [
            "[1 2]\n",
            "[1 2]\n"
          ]
        }
      ]
    },
    {
      "cell_type": "code",
      "metadata": {
        "colab": {
          "base_uri": "https://localhost:8080/"
        },
        "id": "zxPRlXyEDx-Z",
        "outputId": "24ec32d6-c695-4aa3-c513-ebe9da208571"
      },
      "source": [
        "### Exclude first 2 elements expected values for [start:end:step] =>[0:2:1]\n",
        "\n",
        "### [:2]\n",
        "print(slice1d[2:])\n",
        "\n",
        "### same as [2:5:1]\n",
        "print(slice1d[2:5:1])"
      ],
      "execution_count": 94,
      "outputs": [
        {
          "output_type": "stream",
          "name": "stdout",
          "text": [
            "[3 4 5]\n",
            "[3 4 5]\n"
          ]
        }
      ]
    },
    {
      "cell_type": "code",
      "metadata": {
        "colab": {
          "base_uri": "https://localhost:8080/"
        },
        "id": "b27fRyRzFx0V",
        "outputId": "87d15894-a5a3-4a4d-fdca-95729aeeb3ee"
      },
      "source": [
        "### Get last two elements expected values for [start:end:step] =>[3:5:1] or [-2:5:1] or [-2:]\n",
        "print(slice1d[3:5:1])\n",
        "print(slice1d[-2:5:1])\n",
        "print(slice1d[-2:])"
      ],
      "execution_count": 100,
      "outputs": [
        {
          "output_type": "stream",
          "name": "stdout",
          "text": [
            "[4 5]\n",
            "[4 5]\n",
            "[4 5]\n"
          ]
        }
      ]
    },
    {
      "cell_type": "code",
      "metadata": {
        "colab": {
          "base_uri": "https://localhost:8080/"
        },
        "id": "43PcBtcmF-yp",
        "outputId": "63911cae-cf2d-49a5-c0f2-5f9cca66e70e"
      },
      "source": [
        "### Exclude last two elements  expected values for [start:end:step] =>[0:3:1] or [0:-2:1] or [:-2]\n",
        "print(slice1d[0:3:1])\n",
        "print(slice1d[0:-2:1])\n",
        "print(slice1d[:-2])"
      ],
      "execution_count": 101,
      "outputs": [
        {
          "output_type": "stream",
          "name": "stdout",
          "text": [
            "[1 2 3]\n",
            "[1 2 3]\n",
            "[1 2 3]\n"
          ]
        }
      ]
    },
    {
      "cell_type": "markdown",
      "metadata": {
        "id": "wp7QAOtcEcuq"
      },
      "source": [
        "### Slice 2D array"
      ]
    },
    {
      "cell_type": "code",
      "metadata": {
        "colab": {
          "base_uri": "https://localhost:8080/"
        },
        "id": "AOk_kCt6D3eV",
        "outputId": "ce939631-3ef4-4a92-f4be-c349ec342009"
      },
      "source": [
        "slice2d =  np.array([[1,2,3],[4,5,6],[7,8,9]])\n",
        "print(slice2d)"
      ],
      "execution_count": 83,
      "outputs": [
        {
          "output_type": "stream",
          "name": "stdout",
          "text": [
            "[[1 2 3]\n",
            " [4 5 6]\n",
            " [7 8 9]]\n"
          ]
        }
      ]
    },
    {
      "cell_type": "code",
      "metadata": {
        "colab": {
          "base_uri": "https://localhost:8080/"
        },
        "id": "zcsy-mbdEnU2",
        "outputId": "6c6728a7-e1e5-463c-c39f-f886ff79d7da"
      },
      "source": [
        "slice2d[:2]"
      ],
      "execution_count": 84,
      "outputs": [
        {
          "output_type": "execute_result",
          "data": {
            "text/plain": [
              "array([[1, 2, 3],\n",
              "       [4, 5, 6]])"
            ]
          },
          "metadata": {},
          "execution_count": 84
        }
      ]
    },
    {
      "cell_type": "code",
      "metadata": {
        "colab": {
          "base_uri": "https://localhost:8080/"
        },
        "id": "elV-iQHfEsbX",
        "outputId": "e93688c9-7f6e-46b0-d77d-6adfc238fbde"
      },
      "source": [
        "slice2d[:2][:1]"
      ],
      "execution_count": 85,
      "outputs": [
        {
          "output_type": "execute_result",
          "data": {
            "text/plain": [
              "array([[1, 2, 3]])"
            ]
          },
          "metadata": {},
          "execution_count": 85
        }
      ]
    },
    {
      "cell_type": "code",
      "metadata": {
        "colab": {
          "base_uri": "https://localhost:8080/"
        },
        "id": "-8zkp4q8E6aL",
        "outputId": "d733147a-1dab-4958-d0b3-2a3c5a48042a"
      },
      "source": [
        "slice2d[:2][:1][0][:1]"
      ],
      "execution_count": 86,
      "outputs": [
        {
          "output_type": "execute_result",
          "data": {
            "text/plain": [
              "array([1])"
            ]
          },
          "metadata": {},
          "execution_count": 86
        }
      ]
    },
    {
      "cell_type": "code",
      "metadata": {
        "id": "OzQwMwXqFDxL"
      },
      "source": [
        ""
      ],
      "execution_count": 86,
      "outputs": []
    }
  ]
}