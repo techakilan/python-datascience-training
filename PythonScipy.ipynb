{
  "nbformat": 4,
  "nbformat_minor": 0,
  "metadata": {
    "colab": {
      "name": "PythonScipy.ipynb",
      "provenance": [],
      "authorship_tag": "ABX9TyNyZFOFVJmsqzKcoGdj1SkJ",
      "include_colab_link": true
    },
    "kernelspec": {
      "name": "python3",
      "display_name": "Python 3"
    },
    "language_info": {
      "name": "python"
    }
  },
  "cells": [
    {
      "cell_type": "markdown",
      "metadata": {
        "id": "view-in-github",
        "colab_type": "text"
      },
      "source": [
        "<a href=\"https://colab.research.google.com/github/techakilan/python-datascience-training/blob/master/PythonScipy.ipynb\" target=\"_parent\"><img src=\"https://colab.research.google.com/assets/colab-badge.svg\" alt=\"Open In Colab\"/></a>"
      ]
    },
    {
      "cell_type": "code",
      "metadata": {
        "id": "WeumACw5qtbX"
      },
      "source": [
        "import scipy"
      ],
      "execution_count": 1,
      "outputs": []
    },
    {
      "cell_type": "markdown",
      "metadata": {
        "id": "igDFWtWiq8mo"
      },
      "source": [
        "##### Scipy version"
      ]
    },
    {
      "cell_type": "code",
      "metadata": {
        "colab": {
          "base_uri": "https://localhost:8080/"
        },
        "id": "lbi5S1hQq_GU",
        "outputId": "c7bdfca3-c975-4008-e9d2-57449f301c85"
      },
      "source": [
        "print(scipy.__version__)"
      ],
      "execution_count": 2,
      "outputs": [
        {
          "output_type": "stream",
          "name": "stdout",
          "text": [
            "1.4.1\n"
          ]
        }
      ]
    },
    {
      "cell_type": "markdown",
      "metadata": {
        "id": "tOeRYWjzrzbn"
      },
      "source": [
        "##### Scipy constants"
      ]
    },
    {
      "cell_type": "code",
      "metadata": {
        "id": "4kTADL4_r3lb"
      },
      "source": [
        "from scipy import constants "
      ],
      "execution_count": 3,
      "outputs": []
    },
    {
      "cell_type": "code",
      "metadata": {
        "colab": {
          "base_uri": "https://localhost:8080/"
        },
        "id": "dVpaHtgBr9Bp",
        "outputId": "b5c0b30a-c22a-4744-f104-3f664a2a8b49"
      },
      "source": [
        "# Value of PI\n",
        "constants.pi"
      ],
      "execution_count": 4,
      "outputs": [
        {
          "output_type": "execute_result",
          "data": {
            "text/plain": [
              "3.141592653589793"
            ]
          },
          "metadata": {},
          "execution_count": 4
        }
      ]
    },
    {
      "cell_type": "markdown",
      "metadata": {
        "id": "HAzndZAusgtN"
      },
      "source": [
        "##### List all constants"
      ]
    },
    {
      "cell_type": "code",
      "metadata": {
        "colab": {
          "base_uri": "https://localhost:8080/"
        },
        "id": "lagqV6ccsjAa",
        "outputId": "aa55d34d-0fea-443c-bdd0-b5532d4bf4fe"
      },
      "source": [
        "dir(constants)"
      ],
      "execution_count": 5,
      "outputs": [
        {
          "output_type": "execute_result",
          "data": {
            "text/plain": [
              "['Avogadro',\n",
              " 'Boltzmann',\n",
              " 'Btu',\n",
              " 'Btu_IT',\n",
              " 'Btu_th',\n",
              " 'ConstantWarning',\n",
              " 'G',\n",
              " 'Julian_year',\n",
              " 'N_A',\n",
              " 'Planck',\n",
              " 'R',\n",
              " 'Rydberg',\n",
              " 'Stefan_Boltzmann',\n",
              " 'Wien',\n",
              " '__all__',\n",
              " '__builtins__',\n",
              " '__cached__',\n",
              " '__doc__',\n",
              " '__file__',\n",
              " '__loader__',\n",
              " '__name__',\n",
              " '__package__',\n",
              " '__path__',\n",
              " '__spec__',\n",
              " '_obsolete_constants',\n",
              " 'absolute_import',\n",
              " 'acre',\n",
              " 'alpha',\n",
              " 'angstrom',\n",
              " 'arcmin',\n",
              " 'arcminute',\n",
              " 'arcsec',\n",
              " 'arcsecond',\n",
              " 'astronomical_unit',\n",
              " 'atm',\n",
              " 'atmosphere',\n",
              " 'atomic_mass',\n",
              " 'atto',\n",
              " 'au',\n",
              " 'bar',\n",
              " 'barrel',\n",
              " 'bbl',\n",
              " 'blob',\n",
              " 'c',\n",
              " 'calorie',\n",
              " 'calorie_IT',\n",
              " 'calorie_th',\n",
              " 'carat',\n",
              " 'centi',\n",
              " 'codata',\n",
              " 'constants',\n",
              " 'convert_temperature',\n",
              " 'day',\n",
              " 'deci',\n",
              " 'degree',\n",
              " 'degree_Fahrenheit',\n",
              " 'deka',\n",
              " 'division',\n",
              " 'dyn',\n",
              " 'dyne',\n",
              " 'e',\n",
              " 'eV',\n",
              " 'electron_mass',\n",
              " 'electron_volt',\n",
              " 'elementary_charge',\n",
              " 'epsilon_0',\n",
              " 'erg',\n",
              " 'exa',\n",
              " 'exbi',\n",
              " 'femto',\n",
              " 'fermi',\n",
              " 'find',\n",
              " 'fine_structure',\n",
              " 'fluid_ounce',\n",
              " 'fluid_ounce_US',\n",
              " 'fluid_ounce_imp',\n",
              " 'foot',\n",
              " 'g',\n",
              " 'gallon',\n",
              " 'gallon_US',\n",
              " 'gallon_imp',\n",
              " 'gas_constant',\n",
              " 'gibi',\n",
              " 'giga',\n",
              " 'golden',\n",
              " 'golden_ratio',\n",
              " 'grain',\n",
              " 'gram',\n",
              " 'gravitational_constant',\n",
              " 'h',\n",
              " 'hbar',\n",
              " 'hectare',\n",
              " 'hecto',\n",
              " 'horsepower',\n",
              " 'hour',\n",
              " 'hp',\n",
              " 'inch',\n",
              " 'k',\n",
              " 'kgf',\n",
              " 'kibi',\n",
              " 'kilo',\n",
              " 'kilogram_force',\n",
              " 'kmh',\n",
              " 'knot',\n",
              " 'lambda2nu',\n",
              " 'lb',\n",
              " 'lbf',\n",
              " 'light_year',\n",
              " 'liter',\n",
              " 'litre',\n",
              " 'long_ton',\n",
              " 'm_e',\n",
              " 'm_n',\n",
              " 'm_p',\n",
              " 'm_u',\n",
              " 'mach',\n",
              " 'mebi',\n",
              " 'mega',\n",
              " 'metric_ton',\n",
              " 'micro',\n",
              " 'micron',\n",
              " 'mil',\n",
              " 'mile',\n",
              " 'milli',\n",
              " 'minute',\n",
              " 'mmHg',\n",
              " 'mph',\n",
              " 'mu_0',\n",
              " 'nano',\n",
              " 'nautical_mile',\n",
              " 'neutron_mass',\n",
              " 'nu2lambda',\n",
              " 'ounce',\n",
              " 'oz',\n",
              " 'parsec',\n",
              " 'pebi',\n",
              " 'peta',\n",
              " 'physical_constants',\n",
              " 'pi',\n",
              " 'pico',\n",
              " 'point',\n",
              " 'pound',\n",
              " 'pound_force',\n",
              " 'precision',\n",
              " 'print_function',\n",
              " 'proton_mass',\n",
              " 'psi',\n",
              " 'pt',\n",
              " 'short_ton',\n",
              " 'sigma',\n",
              " 'slinch',\n",
              " 'slug',\n",
              " 'speed_of_light',\n",
              " 'speed_of_sound',\n",
              " 'stone',\n",
              " 'survey_foot',\n",
              " 'survey_mile',\n",
              " 'tebi',\n",
              " 'tera',\n",
              " 'test',\n",
              " 'ton_TNT',\n",
              " 'torr',\n",
              " 'troy_ounce',\n",
              " 'troy_pound',\n",
              " 'u',\n",
              " 'unit',\n",
              " 'value',\n",
              " 'week',\n",
              " 'yard',\n",
              " 'year',\n",
              " 'yobi',\n",
              " 'yotta',\n",
              " 'zebi',\n",
              " 'zepto',\n",
              " 'zero_Celsius',\n",
              " 'zetta']"
            ]
          },
          "metadata": {},
          "execution_count": 5
        }
      ]
    },
    {
      "cell_type": "markdown",
      "metadata": {
        "id": "keZMIqwosxtw"
      },
      "source": [
        "##### Convert scipy constant to SI unit "
      ]
    },
    {
      "cell_type": "code",
      "metadata": {
        "colab": {
          "base_uri": "https://localhost:8080/"
        },
        "id": "nOOdpF9ns33g",
        "outputId": "4f4efb89-b710-4eee-e302-aa070e70559a"
      },
      "source": [
        "# Liter to SI unit\n",
        "constants.liter"
      ],
      "execution_count": 6,
      "outputs": [
        {
          "output_type": "execute_result",
          "data": {
            "text/plain": [
              "0.001"
            ]
          },
          "metadata": {},
          "execution_count": 6
        }
      ]
    },
    {
      "cell_type": "code",
      "metadata": {
        "colab": {
          "base_uri": "https://localhost:8080/"
        },
        "id": "_NKyIpmItBa0",
        "outputId": "6391cebf-f320-4596-ef38-3c98294f061e"
      },
      "source": [
        "#Pound to SI unit\n",
        "constants.pound"
      ],
      "execution_count": 7,
      "outputs": [
        {
          "output_type": "execute_result",
          "data": {
            "text/plain": [
              "0.45359236999999997"
            ]
          },
          "metadata": {},
          "execution_count": 7
        }
      ]
    },
    {
      "cell_type": "markdown",
      "metadata": {
        "id": "L9rOw9M7tdw7"
      },
      "source": [
        "##### Meter SI prefixes"
      ]
    },
    {
      "cell_type": "code",
      "metadata": {
        "colab": {
          "base_uri": "https://localhost:8080/"
        },
        "id": "xPv03uFqtj0o",
        "outputId": "e7d37f19-5bdb-41e7-a287-7b8fd5229271"
      },
      "source": [
        "# Nano\n",
        "constants.nano"
      ],
      "execution_count": 8,
      "outputs": [
        {
          "output_type": "execute_result",
          "data": {
            "text/plain": [
              "1e-09"
            ]
          },
          "metadata": {},
          "execution_count": 8
        }
      ]
    },
    {
      "cell_type": "code",
      "metadata": {
        "colab": {
          "base_uri": "https://localhost:8080/"
        },
        "id": "EWOyfsYitt9U",
        "outputId": "1cfec164-0248-4270-d459-a78d960af6ca"
      },
      "source": [
        "#Micro\n",
        "constants.micro"
      ],
      "execution_count": 9,
      "outputs": [
        {
          "output_type": "execute_result",
          "data": {
            "text/plain": [
              "1e-06"
            ]
          },
          "metadata": {},
          "execution_count": 9
        }
      ]
    },
    {
      "cell_type": "code",
      "metadata": {
        "colab": {
          "base_uri": "https://localhost:8080/"
        },
        "id": "9m8tmpN7tyXO",
        "outputId": "f97a8a22-dee0-47a6-ca97-660590efb2e1"
      },
      "source": [
        "#Milli\n",
        "constants.milli"
      ],
      "execution_count": 11,
      "outputs": [
        {
          "output_type": "execute_result",
          "data": {
            "text/plain": [
              "0.001"
            ]
          },
          "metadata": {},
          "execution_count": 11
        }
      ]
    },
    {
      "cell_type": "code",
      "metadata": {
        "colab": {
          "base_uri": "https://localhost:8080/"
        },
        "id": "v2-JzZlquV09",
        "outputId": "3b1dc14a-8516-44e3-c6b3-3ee43e024c11"
      },
      "source": [
        "#Centi\n",
        "constants.centi"
      ],
      "execution_count": 12,
      "outputs": [
        {
          "output_type": "execute_result",
          "data": {
            "text/plain": [
              "0.01"
            ]
          },
          "metadata": {},
          "execution_count": 12
        }
      ]
    },
    {
      "cell_type": "code",
      "metadata": {
        "colab": {
          "base_uri": "https://localhost:8080/"
        },
        "id": "psRLcm2IuaCS",
        "outputId": "2f95b304-1738-4bf0-b049-8f03c738dcc2"
      },
      "source": [
        "#Deci\n",
        "constants.deci"
      ],
      "execution_count": 13,
      "outputs": [
        {
          "output_type": "execute_result",
          "data": {
            "text/plain": [
              "0.1"
            ]
          },
          "metadata": {},
          "execution_count": 13
        }
      ]
    },
    {
      "cell_type": "code",
      "metadata": {
        "colab": {
          "base_uri": "https://localhost:8080/"
        },
        "id": "PQYNKTR1ufJ5",
        "outputId": "bfbcb325-955b-4034-812f-72e5499c672b"
      },
      "source": [
        "#Deka\n",
        "constants.deka"
      ],
      "execution_count": 15,
      "outputs": [
        {
          "output_type": "execute_result",
          "data": {
            "text/plain": [
              "10.0"
            ]
          },
          "metadata": {},
          "execution_count": 15
        }
      ]
    }
  ]
}