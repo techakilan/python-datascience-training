{
  "nbformat": 4,
  "nbformat_minor": 0,
  "metadata": {
    "colab": {
      "name": "PythonScipy.ipynb",
      "provenance": [],
      "authorship_tag": "ABX9TyOkNNBWSCz/L9p2tQBOvFUL",
      "include_colab_link": true
    },
    "kernelspec": {
      "name": "python3",
      "display_name": "Python 3"
    },
    "language_info": {
      "name": "python"
    }
  },
  "cells": [
    {
      "cell_type": "markdown",
      "metadata": {
        "id": "view-in-github",
        "colab_type": "text"
      },
      "source": [
        "<a href=\"https://colab.research.google.com/github/techakilan/python-datascience-training/blob/master/PythonScipy.ipynb\" target=\"_parent\"><img src=\"https://colab.research.google.com/assets/colab-badge.svg\" alt=\"Open In Colab\"/></a>"
      ]
    },
    {
      "cell_type": "code",
      "metadata": {
        "id": "WeumACw5qtbX"
      },
      "source": [
        "import scipy"
      ],
      "execution_count": 47,
      "outputs": []
    },
    {
      "cell_type": "markdown",
      "metadata": {
        "id": "igDFWtWiq8mo"
      },
      "source": [
        "##### Scipy version"
      ]
    },
    {
      "cell_type": "code",
      "metadata": {
        "colab": {
          "base_uri": "https://localhost:8080/"
        },
        "id": "lbi5S1hQq_GU",
        "outputId": "fb8b83e5-97d6-4b77-922c-e0a50f5f37ac"
      },
      "source": [
        "print(scipy.__version__)"
      ],
      "execution_count": 48,
      "outputs": [
        {
          "output_type": "stream",
          "name": "stdout",
          "text": [
            "1.4.1\n"
          ]
        }
      ]
    },
    {
      "cell_type": "markdown",
      "metadata": {
        "id": "tOeRYWjzrzbn"
      },
      "source": [
        "##### Scipy constants"
      ]
    },
    {
      "cell_type": "code",
      "metadata": {
        "id": "4kTADL4_r3lb"
      },
      "source": [
        "from scipy import constants "
      ],
      "execution_count": 49,
      "outputs": []
    },
    {
      "cell_type": "code",
      "metadata": {
        "colab": {
          "base_uri": "https://localhost:8080/"
        },
        "id": "dVpaHtgBr9Bp",
        "outputId": "6474a367-bbe5-408b-d406-281e9b57b7c5"
      },
      "source": [
        "# Value of PI\n",
        "constants.pi"
      ],
      "execution_count": 50,
      "outputs": [
        {
          "output_type": "execute_result",
          "data": {
            "text/plain": [
              "3.141592653589793"
            ]
          },
          "metadata": {},
          "execution_count": 50
        }
      ]
    },
    {
      "cell_type": "markdown",
      "metadata": {
        "id": "HAzndZAusgtN"
      },
      "source": [
        "##### List all constants"
      ]
    },
    {
      "cell_type": "code",
      "metadata": {
        "colab": {
          "base_uri": "https://localhost:8080/"
        },
        "id": "lagqV6ccsjAa",
        "outputId": "37479678-1119-42f1-b65d-7dae48cf4826"
      },
      "source": [
        "dir(constants)"
      ],
      "execution_count": 51,
      "outputs": [
        {
          "output_type": "execute_result",
          "data": {
            "text/plain": [
              "['Avogadro',\n",
              " 'Boltzmann',\n",
              " 'Btu',\n",
              " 'Btu_IT',\n",
              " 'Btu_th',\n",
              " 'ConstantWarning',\n",
              " 'G',\n",
              " 'Julian_year',\n",
              " 'N_A',\n",
              " 'Planck',\n",
              " 'R',\n",
              " 'Rydberg',\n",
              " 'Stefan_Boltzmann',\n",
              " 'Wien',\n",
              " '__all__',\n",
              " '__builtins__',\n",
              " '__cached__',\n",
              " '__doc__',\n",
              " '__file__',\n",
              " '__loader__',\n",
              " '__name__',\n",
              " '__package__',\n",
              " '__path__',\n",
              " '__spec__',\n",
              " '_obsolete_constants',\n",
              " 'absolute_import',\n",
              " 'acre',\n",
              " 'alpha',\n",
              " 'angstrom',\n",
              " 'arcmin',\n",
              " 'arcminute',\n",
              " 'arcsec',\n",
              " 'arcsecond',\n",
              " 'astronomical_unit',\n",
              " 'atm',\n",
              " 'atmosphere',\n",
              " 'atomic_mass',\n",
              " 'atto',\n",
              " 'au',\n",
              " 'bar',\n",
              " 'barrel',\n",
              " 'bbl',\n",
              " 'blob',\n",
              " 'c',\n",
              " 'calorie',\n",
              " 'calorie_IT',\n",
              " 'calorie_th',\n",
              " 'carat',\n",
              " 'centi',\n",
              " 'codata',\n",
              " 'constants',\n",
              " 'convert_temperature',\n",
              " 'day',\n",
              " 'deci',\n",
              " 'degree',\n",
              " 'degree_Fahrenheit',\n",
              " 'deka',\n",
              " 'division',\n",
              " 'dyn',\n",
              " 'dyne',\n",
              " 'e',\n",
              " 'eV',\n",
              " 'electron_mass',\n",
              " 'electron_volt',\n",
              " 'elementary_charge',\n",
              " 'epsilon_0',\n",
              " 'erg',\n",
              " 'exa',\n",
              " 'exbi',\n",
              " 'femto',\n",
              " 'fermi',\n",
              " 'find',\n",
              " 'fine_structure',\n",
              " 'fluid_ounce',\n",
              " 'fluid_ounce_US',\n",
              " 'fluid_ounce_imp',\n",
              " 'foot',\n",
              " 'g',\n",
              " 'gallon',\n",
              " 'gallon_US',\n",
              " 'gallon_imp',\n",
              " 'gas_constant',\n",
              " 'gibi',\n",
              " 'giga',\n",
              " 'golden',\n",
              " 'golden_ratio',\n",
              " 'grain',\n",
              " 'gram',\n",
              " 'gravitational_constant',\n",
              " 'h',\n",
              " 'hbar',\n",
              " 'hectare',\n",
              " 'hecto',\n",
              " 'horsepower',\n",
              " 'hour',\n",
              " 'hp',\n",
              " 'inch',\n",
              " 'k',\n",
              " 'kgf',\n",
              " 'kibi',\n",
              " 'kilo',\n",
              " 'kilogram_force',\n",
              " 'kmh',\n",
              " 'knot',\n",
              " 'lambda2nu',\n",
              " 'lb',\n",
              " 'lbf',\n",
              " 'light_year',\n",
              " 'liter',\n",
              " 'litre',\n",
              " 'long_ton',\n",
              " 'm_e',\n",
              " 'm_n',\n",
              " 'm_p',\n",
              " 'm_u',\n",
              " 'mach',\n",
              " 'mebi',\n",
              " 'mega',\n",
              " 'metric_ton',\n",
              " 'micro',\n",
              " 'micron',\n",
              " 'mil',\n",
              " 'mile',\n",
              " 'milli',\n",
              " 'minute',\n",
              " 'mmHg',\n",
              " 'mph',\n",
              " 'mu_0',\n",
              " 'nano',\n",
              " 'nautical_mile',\n",
              " 'neutron_mass',\n",
              " 'nu2lambda',\n",
              " 'ounce',\n",
              " 'oz',\n",
              " 'parsec',\n",
              " 'pebi',\n",
              " 'peta',\n",
              " 'physical_constants',\n",
              " 'pi',\n",
              " 'pico',\n",
              " 'point',\n",
              " 'pound',\n",
              " 'pound_force',\n",
              " 'precision',\n",
              " 'print_function',\n",
              " 'proton_mass',\n",
              " 'psi',\n",
              " 'pt',\n",
              " 'short_ton',\n",
              " 'sigma',\n",
              " 'slinch',\n",
              " 'slug',\n",
              " 'speed_of_light',\n",
              " 'speed_of_sound',\n",
              " 'stone',\n",
              " 'survey_foot',\n",
              " 'survey_mile',\n",
              " 'tebi',\n",
              " 'tera',\n",
              " 'test',\n",
              " 'ton_TNT',\n",
              " 'torr',\n",
              " 'troy_ounce',\n",
              " 'troy_pound',\n",
              " 'u',\n",
              " 'unit',\n",
              " 'value',\n",
              " 'week',\n",
              " 'yard',\n",
              " 'year',\n",
              " 'yobi',\n",
              " 'yotta',\n",
              " 'zebi',\n",
              " 'zepto',\n",
              " 'zero_Celsius',\n",
              " 'zetta']"
            ]
          },
          "metadata": {},
          "execution_count": 51
        }
      ]
    },
    {
      "cell_type": "markdown",
      "metadata": {
        "id": "keZMIqwosxtw"
      },
      "source": [
        "##### Convert scipy constant to SI unit "
      ]
    },
    {
      "cell_type": "code",
      "metadata": {
        "colab": {
          "base_uri": "https://localhost:8080/"
        },
        "id": "nOOdpF9ns33g",
        "outputId": "6baaa4f7-1d49-46a8-a77d-75718719f7ff"
      },
      "source": [
        "# Liter to SI unit\n",
        "constants.liter"
      ],
      "execution_count": 52,
      "outputs": [
        {
          "output_type": "execute_result",
          "data": {
            "text/plain": [
              "0.001"
            ]
          },
          "metadata": {},
          "execution_count": 52
        }
      ]
    },
    {
      "cell_type": "code",
      "metadata": {
        "colab": {
          "base_uri": "https://localhost:8080/"
        },
        "id": "_NKyIpmItBa0",
        "outputId": "82ce32d4-0712-42fa-f9ae-23635b61b644"
      },
      "source": [
        "#Pound to SI unit\n",
        "constants.pound"
      ],
      "execution_count": 53,
      "outputs": [
        {
          "output_type": "execute_result",
          "data": {
            "text/plain": [
              "0.45359236999999997"
            ]
          },
          "metadata": {},
          "execution_count": 53
        }
      ]
    },
    {
      "cell_type": "markdown",
      "metadata": {
        "id": "L9rOw9M7tdw7"
      },
      "source": [
        "##### SI prefixes"
      ]
    },
    {
      "cell_type": "code",
      "metadata": {
        "colab": {
          "base_uri": "https://localhost:8080/"
        },
        "id": "xPv03uFqtj0o",
        "outputId": "8c92fb09-5559-4eab-923a-b6aed4f06161"
      },
      "source": [
        "# Nano\n",
        "constants.nano"
      ],
      "execution_count": 54,
      "outputs": [
        {
          "output_type": "execute_result",
          "data": {
            "text/plain": [
              "1e-09"
            ]
          },
          "metadata": {},
          "execution_count": 54
        }
      ]
    },
    {
      "cell_type": "code",
      "metadata": {
        "colab": {
          "base_uri": "https://localhost:8080/"
        },
        "id": "EWOyfsYitt9U",
        "outputId": "0365f7cb-b1ea-4585-8e76-c4b5bdeabd70"
      },
      "source": [
        "#Micro\n",
        "constants.micro"
      ],
      "execution_count": 55,
      "outputs": [
        {
          "output_type": "execute_result",
          "data": {
            "text/plain": [
              "1e-06"
            ]
          },
          "metadata": {},
          "execution_count": 55
        }
      ]
    },
    {
      "cell_type": "code",
      "metadata": {
        "colab": {
          "base_uri": "https://localhost:8080/"
        },
        "id": "9m8tmpN7tyXO",
        "outputId": "281c4e50-6974-42e6-da27-1d97498f8fb8"
      },
      "source": [
        "#Milli\n",
        "constants.milli"
      ],
      "execution_count": 56,
      "outputs": [
        {
          "output_type": "execute_result",
          "data": {
            "text/plain": [
              "0.001"
            ]
          },
          "metadata": {},
          "execution_count": 56
        }
      ]
    },
    {
      "cell_type": "code",
      "metadata": {
        "colab": {
          "base_uri": "https://localhost:8080/"
        },
        "id": "v2-JzZlquV09",
        "outputId": "84158d2a-9e8f-4634-e3bf-2d7a7db91756"
      },
      "source": [
        "#Centi\n",
        "constants.centi"
      ],
      "execution_count": 57,
      "outputs": [
        {
          "output_type": "execute_result",
          "data": {
            "text/plain": [
              "0.01"
            ]
          },
          "metadata": {},
          "execution_count": 57
        }
      ]
    },
    {
      "cell_type": "code",
      "metadata": {
        "colab": {
          "base_uri": "https://localhost:8080/"
        },
        "id": "psRLcm2IuaCS",
        "outputId": "9be21921-bbc4-40d0-fa02-dd4f2009db01"
      },
      "source": [
        "#Deci\n",
        "constants.deci"
      ],
      "execution_count": 58,
      "outputs": [
        {
          "output_type": "execute_result",
          "data": {
            "text/plain": [
              "0.1"
            ]
          },
          "metadata": {},
          "execution_count": 58
        }
      ]
    },
    {
      "cell_type": "code",
      "metadata": {
        "colab": {
          "base_uri": "https://localhost:8080/"
        },
        "id": "PQYNKTR1ufJ5",
        "outputId": "ee702a09-ca1f-4602-8ebf-134459feee23"
      },
      "source": [
        "#Deka\n",
        "constants.deka"
      ],
      "execution_count": 59,
      "outputs": [
        {
          "output_type": "execute_result",
          "data": {
            "text/plain": [
              "10.0"
            ]
          },
          "metadata": {},
          "execution_count": 59
        }
      ]
    },
    {
      "cell_type": "code",
      "metadata": {
        "colab": {
          "base_uri": "https://localhost:8080/"
        },
        "id": "uQwCACzYutmb",
        "outputId": "002b341a-4e85-4d15-a62f-a2f94db8688e"
      },
      "source": [
        "#Hecto\n",
        "constants.hecto"
      ],
      "execution_count": 60,
      "outputs": [
        {
          "output_type": "execute_result",
          "data": {
            "text/plain": [
              "100.0"
            ]
          },
          "metadata": {},
          "execution_count": 60
        }
      ]
    },
    {
      "cell_type": "code",
      "metadata": {
        "colab": {
          "base_uri": "https://localhost:8080/"
        },
        "id": "iWgYWyC9uy3y",
        "outputId": "f89f1e7f-db5c-491b-9eb5-07a92e876387"
      },
      "source": [
        "#Kilo\n",
        "constants.kilo"
      ],
      "execution_count": 61,
      "outputs": [
        {
          "output_type": "execute_result",
          "data": {
            "text/plain": [
              "1000.0"
            ]
          },
          "metadata": {},
          "execution_count": 61
        }
      ]
    },
    {
      "cell_type": "code",
      "metadata": {
        "colab": {
          "base_uri": "https://localhost:8080/"
        },
        "id": "AnstMa02u3lS",
        "outputId": "a63c1fe2-311b-42df-bc3c-98d8aad15ed9"
      },
      "source": [
        "#Mega\n",
        "constants.mega"
      ],
      "execution_count": 62,
      "outputs": [
        {
          "output_type": "execute_result",
          "data": {
            "text/plain": [
              "1000000.0"
            ]
          },
          "metadata": {},
          "execution_count": 62
        }
      ]
    },
    {
      "cell_type": "code",
      "metadata": {
        "colab": {
          "base_uri": "https://localhost:8080/"
        },
        "id": "6zKeo5pwu9Y2",
        "outputId": "a7f209a1-a3a4-4f0c-cfdd-42a3b405f827"
      },
      "source": [
        "#Giga\n",
        "constants.giga"
      ],
      "execution_count": 63,
      "outputs": [
        {
          "output_type": "execute_result",
          "data": {
            "text/plain": [
              "1000000000.0"
            ]
          },
          "metadata": {},
          "execution_count": 63
        }
      ]
    },
    {
      "cell_type": "markdown",
      "metadata": {
        "id": "mpHXWZS-vilC"
      },
      "source": [
        "##### Prefixes mass in Kg"
      ]
    },
    {
      "cell_type": "code",
      "metadata": {
        "colab": {
          "base_uri": "https://localhost:8080/"
        },
        "id": "ZuUqrXOHvmRV",
        "outputId": "3f86a957-417f-4d05-ac62-c15b862482c5"
      },
      "source": [
        "# Pound\n",
        "constants.pound"
      ],
      "execution_count": 64,
      "outputs": [
        {
          "output_type": "execute_result",
          "data": {
            "text/plain": [
              "0.45359236999999997"
            ]
          },
          "metadata": {},
          "execution_count": 64
        }
      ]
    },
    {
      "cell_type": "code",
      "metadata": {
        "colab": {
          "base_uri": "https://localhost:8080/"
        },
        "id": "Cjy5Y9ITvrHP",
        "outputId": "a6af4e22-c353-4cc9-ccbc-ee1f35c549cb"
      },
      "source": [
        "# Pound\n",
        "constants.lb"
      ],
      "execution_count": 65,
      "outputs": [
        {
          "output_type": "execute_result",
          "data": {
            "text/plain": [
              "0.45359236999999997"
            ]
          },
          "metadata": {},
          "execution_count": 65
        }
      ]
    },
    {
      "cell_type": "code",
      "metadata": {
        "colab": {
          "base_uri": "https://localhost:8080/"
        },
        "id": "QzAjmEYpvvSn",
        "outputId": "843ce299-f639-448a-f5f2-09a7c718eace"
      },
      "source": [
        "# Ounce\n",
        "constants.ounce"
      ],
      "execution_count": 66,
      "outputs": [
        {
          "output_type": "execute_result",
          "data": {
            "text/plain": [
              "0.028349523124999998"
            ]
          },
          "metadata": {},
          "execution_count": 66
        }
      ]
    },
    {
      "cell_type": "code",
      "metadata": {
        "colab": {
          "base_uri": "https://localhost:8080/"
        },
        "id": "ie-r8KE5v2VN",
        "outputId": "168ec5ca-1610-4e10-cf45-702b9b97889f"
      },
      "source": [
        "# Carat\n",
        "constants.carat"
      ],
      "execution_count": 67,
      "outputs": [
        {
          "output_type": "execute_result",
          "data": {
            "text/plain": [
              "0.0002"
            ]
          },
          "metadata": {},
          "execution_count": 67
        }
      ]
    },
    {
      "cell_type": "markdown",
      "metadata": {
        "id": "nrCSwtSowShi"
      },
      "source": [
        "##### Prefixes angle in radians"
      ]
    },
    {
      "cell_type": "code",
      "metadata": {
        "colab": {
          "base_uri": "https://localhost:8080/"
        },
        "id": "-Q8rvYXTwYH6",
        "outputId": "06631c9a-23bc-4860-db81-fb24f09f03aa"
      },
      "source": [
        "# Degree\n",
        "constants.degree"
      ],
      "execution_count": 68,
      "outputs": [
        {
          "output_type": "execute_result",
          "data": {
            "text/plain": [
              "0.017453292519943295"
            ]
          },
          "metadata": {},
          "execution_count": 68
        }
      ]
    },
    {
      "cell_type": "code",
      "metadata": {
        "colab": {
          "base_uri": "https://localhost:8080/"
        },
        "id": "mm3fQtcOwc99",
        "outputId": "3f4a0681-97b2-4f54-f8c0-0038e67231f0"
      },
      "source": [
        "# arcminute\n",
        "constants.arcmin"
      ],
      "execution_count": 69,
      "outputs": [
        {
          "output_type": "execute_result",
          "data": {
            "text/plain": [
              "0.0002908882086657216"
            ]
          },
          "metadata": {},
          "execution_count": 69
        }
      ]
    },
    {
      "cell_type": "code",
      "metadata": {
        "colab": {
          "base_uri": "https://localhost:8080/"
        },
        "id": "dqOtOUezwldX",
        "outputId": "737cbf60-91ef-47be-8861-1d83be8acb2c"
      },
      "source": [
        "# arcminute\n",
        "constants.arcminute "
      ],
      "execution_count": 70,
      "outputs": [
        {
          "output_type": "execute_result",
          "data": {
            "text/plain": [
              "0.0002908882086657216"
            ]
          },
          "metadata": {},
          "execution_count": 70
        }
      ]
    },
    {
      "cell_type": "code",
      "metadata": {
        "colab": {
          "base_uri": "https://localhost:8080/"
        },
        "id": "cU8f0rpgwl_s",
        "outputId": "80b6c4e1-2479-4614-b33c-aea573f6ba61"
      },
      "source": [
        "#arcsecond\n",
        "constants.arcsec"
      ],
      "execution_count": 71,
      "outputs": [
        {
          "output_type": "execute_result",
          "data": {
            "text/plain": [
              "4.84813681109536e-06"
            ]
          },
          "metadata": {},
          "execution_count": 71
        }
      ]
    },
    {
      "cell_type": "code",
      "metadata": {
        "colab": {
          "base_uri": "https://localhost:8080/"
        },
        "id": "l-uXkPNAwmQ_",
        "outputId": "acfcf10e-325e-42c8-b790-267ec1b3502f"
      },
      "source": [
        "#arcsecond\n",
        "constants.arcsecond"
      ],
      "execution_count": 72,
      "outputs": [
        {
          "output_type": "execute_result",
          "data": {
            "text/plain": [
              "4.84813681109536e-06"
            ]
          },
          "metadata": {},
          "execution_count": 72
        }
      ]
    },
    {
      "cell_type": "markdown",
      "metadata": {
        "id": "qyL3I53TxUf_"
      },
      "source": [
        "##### Prefixes time in seconds"
      ]
    },
    {
      "cell_type": "code",
      "metadata": {
        "colab": {
          "base_uri": "https://localhost:8080/"
        },
        "id": "kA8fsaNHxZV2",
        "outputId": "3f43f87f-f2fc-4bee-c02c-e4a2264807e0"
      },
      "source": [
        "# Minute\n",
        "constants.minute"
      ],
      "execution_count": 73,
      "outputs": [
        {
          "output_type": "execute_result",
          "data": {
            "text/plain": [
              "60.0"
            ]
          },
          "metadata": {},
          "execution_count": 73
        }
      ]
    },
    {
      "cell_type": "code",
      "metadata": {
        "colab": {
          "base_uri": "https://localhost:8080/"
        },
        "id": "3uoHtgwBxfHy",
        "outputId": "f9e25bcf-a783-4dbc-d0b4-4ee4829dd437"
      },
      "source": [
        "# Hour\n",
        "constants.hour"
      ],
      "execution_count": 74,
      "outputs": [
        {
          "output_type": "execute_result",
          "data": {
            "text/plain": [
              "3600.0"
            ]
          },
          "metadata": {},
          "execution_count": 74
        }
      ]
    },
    {
      "cell_type": "code",
      "metadata": {
        "colab": {
          "base_uri": "https://localhost:8080/"
        },
        "id": "x17h3oC3xkKt",
        "outputId": "9e4342ac-8957-4d44-d7bd-69267206a3c9"
      },
      "source": [
        "#Day\n",
        "constants.day"
      ],
      "execution_count": 75,
      "outputs": [
        {
          "output_type": "execute_result",
          "data": {
            "text/plain": [
              "86400.0"
            ]
          },
          "metadata": {},
          "execution_count": 75
        }
      ]
    },
    {
      "cell_type": "code",
      "metadata": {
        "colab": {
          "base_uri": "https://localhost:8080/"
        },
        "id": "wRqpKKFqxnBJ",
        "outputId": "ac416769-5c29-42a9-ff97-b9f5bdf50831"
      },
      "source": [
        "# Week\n",
        "constants.week"
      ],
      "execution_count": 76,
      "outputs": [
        {
          "output_type": "execute_result",
          "data": {
            "text/plain": [
              "604800.0"
            ]
          },
          "metadata": {},
          "execution_count": 76
        }
      ]
    },
    {
      "cell_type": "code",
      "metadata": {
        "colab": {
          "base_uri": "https://localhost:8080/"
        },
        "id": "Jvs87k5VxpEL",
        "outputId": "20dbd05b-c0ef-4087-c500-823bb623c482"
      },
      "source": [
        "# Year\n",
        "constants.year"
      ],
      "execution_count": 77,
      "outputs": [
        {
          "output_type": "execute_result",
          "data": {
            "text/plain": [
              "31536000.0"
            ]
          },
          "metadata": {},
          "execution_count": 77
        }
      ]
    },
    {
      "cell_type": "code",
      "metadata": {
        "colab": {
          "base_uri": "https://localhost:8080/"
        },
        "id": "MqV3uMjZxqTs",
        "outputId": "4bc936af-2804-4a00-9626-1927fe9e72c5"
      },
      "source": [
        "# Julian Year\n",
        "constants.Julian_year"
      ],
      "execution_count": 78,
      "outputs": [
        {
          "output_type": "execute_result",
          "data": {
            "text/plain": [
              "31557600.0"
            ]
          },
          "metadata": {},
          "execution_count": 78
        }
      ]
    },
    {
      "cell_type": "markdown",
      "metadata": {
        "id": "pOdk0ljhzSHW"
      },
      "source": [
        "##### Prefixes Length in meter"
      ]
    },
    {
      "cell_type": "code",
      "metadata": {
        "colab": {
          "base_uri": "https://localhost:8080/"
        },
        "id": "SDMq1uhJzcwq",
        "outputId": "3c9c5068-2145-4785-833c-13fd8c17fd7d"
      },
      "source": [
        "# Inch\n",
        "constants.inch"
      ],
      "execution_count": 79,
      "outputs": [
        {
          "output_type": "execute_result",
          "data": {
            "text/plain": [
              "0.0254"
            ]
          },
          "metadata": {},
          "execution_count": 79
        }
      ]
    },
    {
      "cell_type": "code",
      "metadata": {
        "colab": {
          "base_uri": "https://localhost:8080/"
        },
        "id": "qDD2Wkdnzfbe",
        "outputId": "16f0deed-424f-48f8-e09b-7d52a751352c"
      },
      "source": [
        "# Foot\n",
        "constants.foot"
      ],
      "execution_count": 80,
      "outputs": [
        {
          "output_type": "execute_result",
          "data": {
            "text/plain": [
              "0.30479999999999996"
            ]
          },
          "metadata": {},
          "execution_count": 80
        }
      ]
    },
    {
      "cell_type": "code",
      "metadata": {
        "colab": {
          "base_uri": "https://localhost:8080/"
        },
        "id": "Ookxs79_zm_f",
        "outputId": "365879f5-b933-466f-9162-28d6e0994bd7"
      },
      "source": [
        "# Yard\n",
        "constants.yard"
      ],
      "execution_count": 81,
      "outputs": [
        {
          "output_type": "execute_result",
          "data": {
            "text/plain": [
              "0.9143999999999999"
            ]
          },
          "metadata": {},
          "execution_count": 81
        }
      ]
    },
    {
      "cell_type": "code",
      "metadata": {
        "colab": {
          "base_uri": "https://localhost:8080/"
        },
        "id": "nlbYZ_2uzrnv",
        "outputId": "88f30b57-d86e-4b67-b2b2-4cb54852efd9"
      },
      "source": [
        "# Mile\n",
        "constants.mile"
      ],
      "execution_count": 82,
      "outputs": [
        {
          "output_type": "execute_result",
          "data": {
            "text/plain": [
              "1609.3439999999998"
            ]
          },
          "metadata": {},
          "execution_count": 82
        }
      ]
    },
    {
      "cell_type": "code",
      "metadata": {
        "colab": {
          "base_uri": "https://localhost:8080/"
        },
        "id": "Dfw0UZr8zync",
        "outputId": "01de08f2-da88-42e1-bae4-a4cf9337189b"
      },
      "source": [
        "# Point\n",
        "constants.point"
      ],
      "execution_count": 83,
      "outputs": [
        {
          "output_type": "execute_result",
          "data": {
            "text/plain": [
              "0.00035277777777777776"
            ]
          },
          "metadata": {},
          "execution_count": 83
        }
      ]
    },
    {
      "cell_type": "code",
      "metadata": {
        "colab": {
          "base_uri": "https://localhost:8080/"
        },
        "id": "tAjO5YEZz2Ab",
        "outputId": "4fba60e6-b7e3-4459-fced-fe72ef6fc324"
      },
      "source": [
        "# Nautical mile\n",
        "constants.nautical_mile"
      ],
      "execution_count": 84,
      "outputs": [
        {
          "output_type": "execute_result",
          "data": {
            "text/plain": [
              "1852.0"
            ]
          },
          "metadata": {},
          "execution_count": 84
        }
      ]
    },
    {
      "cell_type": "code",
      "metadata": {
        "colab": {
          "base_uri": "https://localhost:8080/"
        },
        "id": "If7YbydPz7JA",
        "outputId": "2fde5e33-7f81-4803-b96f-0a318f07d204"
      },
      "source": [
        "# Micron\n",
        "constants.micron"
      ],
      "execution_count": 85,
      "outputs": [
        {
          "output_type": "execute_result",
          "data": {
            "text/plain": [
              "1e-06"
            ]
          },
          "metadata": {},
          "execution_count": 85
        }
      ]
    },
    {
      "cell_type": "code",
      "metadata": {
        "colab": {
          "base_uri": "https://localhost:8080/"
        },
        "id": "sWLPswqgz_Di",
        "outputId": "f36b1693-3130-48d6-f4f6-3a23e5811406"
      },
      "source": [
        "# Light Year\n",
        "constants.light_year"
      ],
      "execution_count": 86,
      "outputs": [
        {
          "output_type": "execute_result",
          "data": {
            "text/plain": [
              "9460730472580800.0"
            ]
          },
          "metadata": {},
          "execution_count": 86
        }
      ]
    },
    {
      "cell_type": "markdown",
      "metadata": {
        "id": "AaW5yema0OyD"
      },
      "source": [
        "##### Prefixes Pressure in pascal "
      ]
    },
    {
      "cell_type": "code",
      "metadata": {
        "colab": {
          "base_uri": "https://localhost:8080/"
        },
        "id": "ckGNsIbF0Xd_",
        "outputId": "d31b2c70-7705-4457-a448-d56753dcc9b3"
      },
      "source": [
        "print(constants.mmHg)        #133.32236842105263\n",
        "print(constants.psi)         #6894.757293168361 "
      ],
      "execution_count": 87,
      "outputs": [
        {
          "output_type": "stream",
          "name": "stdout",
          "text": [
            "133.32236842105263\n",
            "6894.757293168361\n"
          ]
        }
      ]
    },
    {
      "cell_type": "code",
      "metadata": {
        "colab": {
          "base_uri": "https://localhost:8080/"
        },
        "id": "oEYTAjMM0tv6",
        "outputId": "89c324fc-0fe3-4d83-98c7-0dfbe0fe904b"
      },
      "source": [
        "# atmospheric pressure\n",
        "constants.atm"
      ],
      "execution_count": 88,
      "outputs": [
        {
          "output_type": "execute_result",
          "data": {
            "text/plain": [
              "101325.0"
            ]
          },
          "metadata": {},
          "execution_count": 88
        }
      ]
    },
    {
      "cell_type": "code",
      "metadata": {
        "colab": {
          "base_uri": "https://localhost:8080/"
        },
        "id": "GxHJ62if01Ww",
        "outputId": "0fc5a725-516c-4e57-f0ff-0ce9dd3baca5"
      },
      "source": [
        "# atmospheric pressure\n",
        "constants.atmosphere"
      ],
      "execution_count": 89,
      "outputs": [
        {
          "output_type": "execute_result",
          "data": {
            "text/plain": [
              "101325.0"
            ]
          },
          "metadata": {},
          "execution_count": 89
        }
      ]
    },
    {
      "cell_type": "code",
      "metadata": {
        "colab": {
          "base_uri": "https://localhost:8080/"
        },
        "id": "Yt5coruB05mR",
        "outputId": "0a6f9f3e-75dd-40e5-f181-29bb09b6de03"
      },
      "source": [
        "# bar\n",
        "constants.bar"
      ],
      "execution_count": 90,
      "outputs": [
        {
          "output_type": "execute_result",
          "data": {
            "text/plain": [
              "100000.0"
            ]
          },
          "metadata": {},
          "execution_count": 90
        }
      ]
    },
    {
      "cell_type": "code",
      "metadata": {
        "colab": {
          "base_uri": "https://localhost:8080/"
        },
        "id": "X-6KCkWv08ug",
        "outputId": "42082f29-04eb-4c11-f8a4-5351c445d816"
      },
      "source": [
        "# torr\n",
        "constants.torr"
      ],
      "execution_count": 91,
      "outputs": [
        {
          "output_type": "execute_result",
          "data": {
            "text/plain": [
              "133.32236842105263"
            ]
          },
          "metadata": {},
          "execution_count": 91
        }
      ]
    },
    {
      "cell_type": "code",
      "metadata": {
        "colab": {
          "base_uri": "https://localhost:8080/"
        },
        "id": "hm4povLY1DOw",
        "outputId": "2be42ca2-4a79-4684-fb5f-ec7d4f579215"
      },
      "source": [
        "# mmHg\n",
        "constants.mmHg"
      ],
      "execution_count": 92,
      "outputs": [
        {
          "output_type": "execute_result",
          "data": {
            "text/plain": [
              "133.32236842105263"
            ]
          },
          "metadata": {},
          "execution_count": 92
        }
      ]
    },
    {
      "cell_type": "code",
      "metadata": {
        "colab": {
          "base_uri": "https://localhost:8080/"
        },
        "id": "nQBxtQKl1GNw",
        "outputId": "4debd4a6-aba4-4fc5-aa63-62e2f682501f"
      },
      "source": [
        "# psi\n",
        "constants.psi"
      ],
      "execution_count": 93,
      "outputs": [
        {
          "output_type": "execute_result",
          "data": {
            "text/plain": [
              "6894.757293168361"
            ]
          },
          "metadata": {},
          "execution_count": 93
        }
      ]
    },
    {
      "cell_type": "markdown",
      "metadata": {
        "id": "leWhDEea1aCu"
      },
      "source": [
        "##### Prefixes Area in sq.meters"
      ]
    },
    {
      "cell_type": "code",
      "metadata": {
        "colab": {
          "base_uri": "https://localhost:8080/"
        },
        "id": "ijpNOt-v1ZR_",
        "outputId": "0cbcbf91-1620-498d-d62d-26fa1add7c07"
      },
      "source": [
        "# Hectare\n",
        "constants.hectare"
      ],
      "execution_count": 94,
      "outputs": [
        {
          "output_type": "execute_result",
          "data": {
            "text/plain": [
              "10000.0"
            ]
          },
          "metadata": {},
          "execution_count": 94
        }
      ]
    },
    {
      "cell_type": "code",
      "metadata": {
        "colab": {
          "base_uri": "https://localhost:8080/"
        },
        "id": "fsgtSzmt1kSu",
        "outputId": "be008343-a299-4c9b-d6f4-dfe9209060d7"
      },
      "source": [
        "# Acre\n",
        "constants.acre"
      ],
      "execution_count": 95,
      "outputs": [
        {
          "output_type": "execute_result",
          "data": {
            "text/plain": [
              "4046.8564223999992"
            ]
          },
          "metadata": {},
          "execution_count": 95
        }
      ]
    },
    {
      "cell_type": "markdown",
      "metadata": {
        "id": "85hmlwVa1s-V"
      },
      "source": [
        "##### Prefixes Volume in cubic meters"
      ]
    },
    {
      "cell_type": "code",
      "metadata": {
        "colab": {
          "base_uri": "https://localhost:8080/"
        },
        "id": "8vKtyr5g1sIn",
        "outputId": "97b6ca26-0244-40be-ff12-c92941bf626b"
      },
      "source": [
        "# Litre\n",
        "constants.litre"
      ],
      "execution_count": 96,
      "outputs": [
        {
          "output_type": "execute_result",
          "data": {
            "text/plain": [
              "0.001"
            ]
          },
          "metadata": {},
          "execution_count": 96
        }
      ]
    },
    {
      "cell_type": "code",
      "metadata": {
        "colab": {
          "base_uri": "https://localhost:8080/"
        },
        "id": "vNzSw5ya195K",
        "outputId": "455724a7-8ad1-45a5-b2c3-16fb74515e95"
      },
      "source": [
        "# Litre\n",
        "constants.liter"
      ],
      "execution_count": 97,
      "outputs": [
        {
          "output_type": "execute_result",
          "data": {
            "text/plain": [
              "0.001"
            ]
          },
          "metadata": {},
          "execution_count": 97
        }
      ]
    },
    {
      "cell_type": "code",
      "metadata": {
        "colab": {
          "base_uri": "https://localhost:8080/"
        },
        "id": "4IYGm5Se2BFa",
        "outputId": "a688fb12-b061-49f7-de90-34cc27f821f8"
      },
      "source": [
        "# Gallon\n",
        "constants.gallon"
      ],
      "execution_count": 98,
      "outputs": [
        {
          "output_type": "execute_result",
          "data": {
            "text/plain": [
              "0.0037854117839999997"
            ]
          },
          "metadata": {},
          "execution_count": 98
        }
      ]
    },
    {
      "cell_type": "code",
      "metadata": {
        "colab": {
          "base_uri": "https://localhost:8080/"
        },
        "id": "eaV3JmpJ2GA0",
        "outputId": "a7a06e38-ac15-4f6e-d3fd-7ba9bd8aa07f"
      },
      "source": [
        "# Gallon US\n",
        "constants.gallon_US"
      ],
      "execution_count": 100,
      "outputs": [
        {
          "output_type": "execute_result",
          "data": {
            "text/plain": [
              "0.0037854117839999997"
            ]
          },
          "metadata": {},
          "execution_count": 100
        }
      ]
    },
    {
      "cell_type": "code",
      "metadata": {
        "colab": {
          "base_uri": "https://localhost:8080/"
        },
        "id": "ELQE_OQq2NYp",
        "outputId": "4c00095a-d7fb-41b3-cd7a-d87da31f5ebe"
      },
      "source": [
        "# Imperial Gallon\n",
        "constants.gallon_imp"
      ],
      "execution_count": 102,
      "outputs": [
        {
          "output_type": "execute_result",
          "data": {
            "text/plain": [
              "0.00454609"
            ]
          },
          "metadata": {},
          "execution_count": 102
        }
      ]
    },
    {
      "cell_type": "code",
      "metadata": {
        "colab": {
          "base_uri": "https://localhost:8080/"
        },
        "id": "VHU0zUC62bRg",
        "outputId": "563d4b1d-b354-4912-d64f-002eef87a186"
      },
      "source": [
        "# Ounce fluid\n",
        "constants.fluid_ounce"
      ],
      "execution_count": 103,
      "outputs": [
        {
          "output_type": "execute_result",
          "data": {
            "text/plain": [
              "2.9573529562499998e-05"
            ]
          },
          "metadata": {},
          "execution_count": 103
        }
      ]
    },
    {
      "cell_type": "code",
      "metadata": {
        "colab": {
          "base_uri": "https://localhost:8080/"
        },
        "id": "QI7ZM7Gs2huM",
        "outputId": "ed280aad-e54a-4c6e-9414-c4d6e9a180d0"
      },
      "source": [
        "# Ounce fluid US\n",
        "constants.fluid_ounce_US"
      ],
      "execution_count": 104,
      "outputs": [
        {
          "output_type": "execute_result",
          "data": {
            "text/plain": [
              "2.9573529562499998e-05"
            ]
          },
          "metadata": {},
          "execution_count": 104
        }
      ]
    },
    {
      "cell_type": "code",
      "metadata": {
        "colab": {
          "base_uri": "https://localhost:8080/"
        },
        "id": "979dpFIL2nbF",
        "outputId": "2efdc73c-722a-482a-8275-93be59482449"
      },
      "source": [
        "# Ounce fluid imperial\n",
        "constants.fluid_ounce_imp"
      ],
      "execution_count": 105,
      "outputs": [
        {
          "output_type": "execute_result",
          "data": {
            "text/plain": [
              "2.84130625e-05"
            ]
          },
          "metadata": {},
          "execution_count": 105
        }
      ]
    },
    {
      "cell_type": "code",
      "metadata": {
        "colab": {
          "base_uri": "https://localhost:8080/"
        },
        "id": "62YF0wDO2vl8",
        "outputId": "27af8ed2-1dc0-4301-a6d8-e717ac306897"
      },
      "source": [
        "# Barrel\n",
        "constants.barrel"
      ],
      "execution_count": 106,
      "outputs": [
        {
          "output_type": "execute_result",
          "data": {
            "text/plain": [
              "0.15898729492799998"
            ]
          },
          "metadata": {},
          "execution_count": 106
        }
      ]
    },
    {
      "cell_type": "code",
      "metadata": {
        "colab": {
          "base_uri": "https://localhost:8080/"
        },
        "id": "C4A29TML20HG",
        "outputId": "2b94b2db-d3b5-4c85-f427-af1d09e81dd7"
      },
      "source": [
        "# Barrel\n",
        "constants.bbl"
      ],
      "execution_count": 107,
      "outputs": [
        {
          "output_type": "execute_result",
          "data": {
            "text/plain": [
              "0.15898729492799998"
            ]
          },
          "metadata": {},
          "execution_count": 107
        }
      ]
    },
    {
      "cell_type": "markdown",
      "metadata": {
        "id": "jv7v2UV624eO"
      },
      "source": [
        "##### Prefixes for Speed in m/s"
      ]
    },
    {
      "cell_type": "code",
      "metadata": {
        "colab": {
          "base_uri": "https://localhost:8080/"
        },
        "id": "4VaQDGRv3BiM",
        "outputId": "9f6d63e3-94a1-41b1-bcd4-5bc056684472"
      },
      "source": [
        "# kilometer per hour\n",
        "constants.kmh"
      ],
      "execution_count": 109,
      "outputs": [
        {
          "output_type": "execute_result",
          "data": {
            "text/plain": [
              "0.2777777777777778"
            ]
          },
          "metadata": {},
          "execution_count": 109
        }
      ]
    },
    {
      "cell_type": "code",
      "metadata": {
        "colab": {
          "base_uri": "https://localhost:8080/"
        },
        "id": "AUkzu0PX3JDX",
        "outputId": "58fe4f29-9f3d-4188-80ae-7be88ec965f0"
      },
      "source": [
        "# Miles per hour\n",
        "constants.mph"
      ],
      "execution_count": 110,
      "outputs": [
        {
          "output_type": "execute_result",
          "data": {
            "text/plain": [
              "0.44703999999999994"
            ]
          },
          "metadata": {},
          "execution_count": 110
        }
      ]
    },
    {
      "cell_type": "code",
      "metadata": {
        "colab": {
          "base_uri": "https://localhost:8080/"
        },
        "id": "tqoE2yWd3Ykw",
        "outputId": "dd9d15c2-fd12-45a0-cff7-4cddcd2fe2c7"
      },
      "source": [
        "# Mach based on speed of sound\n",
        "constants.mach"
      ],
      "execution_count": 112,
      "outputs": [
        {
          "output_type": "execute_result",
          "data": {
            "text/plain": [
              "340.5"
            ]
          },
          "metadata": {},
          "execution_count": 112
        }
      ]
    },
    {
      "cell_type": "code",
      "metadata": {
        "colab": {
          "base_uri": "https://localhost:8080/"
        },
        "id": "vTIJo_x13jl9",
        "outputId": "f4131557-56c1-4145-c9fa-b73b40f64669"
      },
      "source": [
        "# Mach\n",
        "constants.speed_of_sound"
      ],
      "execution_count": 113,
      "outputs": [
        {
          "output_type": "execute_result",
          "data": {
            "text/plain": [
              "340.5"
            ]
          },
          "metadata": {},
          "execution_count": 113
        }
      ]
    },
    {
      "cell_type": "code",
      "metadata": {
        "colab": {
          "base_uri": "https://localhost:8080/"
        },
        "id": "293bJv4h3qEM",
        "outputId": "b8818cc1-7c06-448f-be3c-1f191bb1e28b"
      },
      "source": [
        "# Knot\n",
        "constants.knot"
      ],
      "execution_count": 114,
      "outputs": [
        {
          "output_type": "execute_result",
          "data": {
            "text/plain": [
              "0.5144444444444445"
            ]
          },
          "metadata": {},
          "execution_count": 114
        }
      ]
    },
    {
      "cell_type": "code",
      "metadata": {
        "colab": {
          "base_uri": "https://localhost:8080/"
        },
        "id": "jsES7vsJ3vmW",
        "outputId": "9b439f4e-32bd-4cb5-efb7-dfe7fa0de57a"
      },
      "source": [
        "# Speed of light\n",
        "constants.speed_of_light"
      ],
      "execution_count": 115,
      "outputs": [
        {
          "output_type": "execute_result",
          "data": {
            "text/plain": [
              "299792458.0"
            ]
          },
          "metadata": {},
          "execution_count": 115
        }
      ]
    },
    {
      "cell_type": "markdown",
      "metadata": {
        "id": "nPerjZJZ34Vy"
      },
      "source": [
        "##### Prefixes for Temp in Kelvin"
      ]
    },
    {
      "cell_type": "code",
      "metadata": {
        "colab": {
          "base_uri": "https://localhost:8080/"
        },
        "id": "sNMXvl5f3-Bl",
        "outputId": "e29ef6ed-6dd3-4f94-bfab-ab9b198cabc2"
      },
      "source": [
        "# Zero celsius\n",
        "constants.zero_Celsius"
      ],
      "execution_count": 116,
      "outputs": [
        {
          "output_type": "execute_result",
          "data": {
            "text/plain": [
              "273.15"
            ]
          },
          "metadata": {},
          "execution_count": 116
        }
      ]
    },
    {
      "cell_type": "code",
      "metadata": {
        "colab": {
          "base_uri": "https://localhost:8080/"
        },
        "id": "08jlAwRc4HXa",
        "outputId": "ca0764cb-1478-4e46-a28c-b35dce83fa87"
      },
      "source": [
        "# Degree fahrenheit\n",
        "constants.degree_Fahrenheit"
      ],
      "execution_count": 117,
      "outputs": [
        {
          "output_type": "execute_result",
          "data": {
            "text/plain": [
              "0.5555555555555556"
            ]
          },
          "metadata": {},
          "execution_count": 117
        }
      ]
    },
    {
      "cell_type": "markdown",
      "metadata": {
        "id": "r1CJQ7YM4mZc"
      },
      "source": [
        "##### Prefixes for Energy in Joules"
      ]
    },
    {
      "cell_type": "code",
      "metadata": {
        "colab": {
          "base_uri": "https://localhost:8080/"
        },
        "id": "aCXtQeiy4vCj",
        "outputId": "c261732a-f3df-4309-b2e5-b9670b75e7f2"
      },
      "source": [
        "# Electron Volt\n",
        "constants.eV"
      ],
      "execution_count": 118,
      "outputs": [
        {
          "output_type": "execute_result",
          "data": {
            "text/plain": [
              "1.602176634e-19"
            ]
          },
          "metadata": {},
          "execution_count": 118
        }
      ]
    },
    {
      "cell_type": "code",
      "metadata": {
        "colab": {
          "base_uri": "https://localhost:8080/"
        },
        "id": "u6Fen8mQ4y5k",
        "outputId": "47a1f0fe-e511-45f9-cffe-1353a14a6b05"
      },
      "source": [
        "# Electron Volt\n",
        "constants.electron_volt"
      ],
      "execution_count": 119,
      "outputs": [
        {
          "output_type": "execute_result",
          "data": {
            "text/plain": [
              "1.602176634e-19"
            ]
          },
          "metadata": {},
          "execution_count": 119
        }
      ]
    },
    {
      "cell_type": "code",
      "metadata": {
        "colab": {
          "base_uri": "https://localhost:8080/"
        },
        "id": "LkphvB0C42dr",
        "outputId": "cc390bc1-6093-4c8d-d631-1a9f61db93c7"
      },
      "source": [
        "# Calorie\n",
        "constants.calorie"
      ],
      "execution_count": 120,
      "outputs": [
        {
          "output_type": "execute_result",
          "data": {
            "text/plain": [
              "4.184"
            ]
          },
          "metadata": {},
          "execution_count": 120
        }
      ]
    },
    {
      "cell_type": "code",
      "metadata": {
        "colab": {
          "base_uri": "https://localhost:8080/"
        },
        "id": "Phx2LPgi49oL",
        "outputId": "fd6a7c1b-4acf-44fc-84ac-215102448cf2"
      },
      "source": [
        "# erg\n",
        "constants.erg"
      ],
      "execution_count": 121,
      "outputs": [
        {
          "output_type": "execute_result",
          "data": {
            "text/plain": [
              "1e-07"
            ]
          },
          "metadata": {},
          "execution_count": 121
        }
      ]
    },
    {
      "cell_type": "code",
      "metadata": {
        "colab": {
          "base_uri": "https://localhost:8080/"
        },
        "id": "0c9lf-e45Dk1",
        "outputId": "7ee2fa45-ada5-4cfe-c211-1c074d8a1117"
      },
      "source": [
        "# Btu\n",
        "constants.Btu"
      ],
      "execution_count": 122,
      "outputs": [
        {
          "output_type": "execute_result",
          "data": {
            "text/plain": [
              "1055.05585262"
            ]
          },
          "metadata": {},
          "execution_count": 122
        }
      ]
    },
    {
      "cell_type": "code",
      "metadata": {
        "colab": {
          "base_uri": "https://localhost:8080/"
        },
        "id": "-jWgftQ75FSU",
        "outputId": "55818b1e-9948-4e74-a96d-a3656a3a728b"
      },
      "source": [
        "# Ton TNT\n",
        "constants.ton_TNT"
      ],
      "execution_count": 123,
      "outputs": [
        {
          "output_type": "execute_result",
          "data": {
            "text/plain": [
              "4184000000.0"
            ]
          },
          "metadata": {},
          "execution_count": 123
        }
      ]
    },
    {
      "cell_type": "markdown",
      "metadata": {
        "id": "8SMVA3Pb6hXs"
      },
      "source": [
        "##### Prefixes for Power in Watts"
      ]
    },
    {
      "cell_type": "code",
      "metadata": {
        "colab": {
          "base_uri": "https://localhost:8080/"
        },
        "id": "v3xSgSa-6ooL",
        "outputId": "2909ac2c-0699-4980-b189-6e2e6127e4dc"
      },
      "source": [
        "# Horsepower\n",
        "constants.hp"
      ],
      "execution_count": 124,
      "outputs": [
        {
          "output_type": "execute_result",
          "data": {
            "text/plain": [
              "745.6998715822701"
            ]
          },
          "metadata": {},
          "execution_count": 124
        }
      ]
    },
    {
      "cell_type": "code",
      "metadata": {
        "colab": {
          "base_uri": "https://localhost:8080/"
        },
        "id": "mKjFBaUd6vNv",
        "outputId": "8766a3ac-90a7-4171-9634-fdc2cdc5b78b"
      },
      "source": [
        "# Horsepower\n",
        "constants.horsepower"
      ],
      "execution_count": 125,
      "outputs": [
        {
          "output_type": "execute_result",
          "data": {
            "text/plain": [
              "745.6998715822701"
            ]
          },
          "metadata": {},
          "execution_count": 125
        }
      ]
    },
    {
      "cell_type": "markdown",
      "metadata": {
        "id": "qiXwAe5l6285"
      },
      "source": [
        "##### Prefixes for Power in Newton"
      ]
    },
    {
      "cell_type": "code",
      "metadata": {
        "colab": {
          "base_uri": "https://localhost:8080/"
        },
        "id": "OR4F2MZe62Zh",
        "outputId": "ba6313e2-d576-44d3-ded7-b648857b6639"
      },
      "source": [
        "# Dyne \n",
        "constants.dyn"
      ],
      "execution_count": 126,
      "outputs": [
        {
          "output_type": "execute_result",
          "data": {
            "text/plain": [
              "1e-05"
            ]
          },
          "metadata": {},
          "execution_count": 126
        }
      ]
    },
    {
      "cell_type": "code",
      "metadata": {
        "colab": {
          "base_uri": "https://localhost:8080/"
        },
        "id": "aoKulTPg7ND1",
        "outputId": "a6ba7f8e-d490-40e8-8449-a3d29c341ab9"
      },
      "source": [
        "# Dyne\n",
        "constants.dyne"
      ],
      "execution_count": 127,
      "outputs": [
        {
          "output_type": "execute_result",
          "data": {
            "text/plain": [
              "1e-05"
            ]
          },
          "metadata": {},
          "execution_count": 127
        }
      ]
    },
    {
      "cell_type": "code",
      "metadata": {
        "colab": {
          "base_uri": "https://localhost:8080/"
        },
        "id": "yjXd4IKL7XrQ",
        "outputId": "ee74c89e-4a8e-42d0-9451-bc392bf6637a"
      },
      "source": [
        "# Pound force\n",
        "constants.lbf"
      ],
      "execution_count": 129,
      "outputs": [
        {
          "output_type": "execute_result",
          "data": {
            "text/plain": [
              "4.4482216152605"
            ]
          },
          "metadata": {},
          "execution_count": 129
        }
      ]
    },
    {
      "cell_type": "code",
      "metadata": {
        "colab": {
          "base_uri": "https://localhost:8080/"
        },
        "id": "kcjz8yFg7hDS",
        "outputId": "bdeee85c-a6b0-4f3e-8b1d-e4d0359796a4"
      },
      "source": [
        "# Pound force\n",
        "constants.pound_force"
      ],
      "execution_count": 130,
      "outputs": [
        {
          "output_type": "execute_result",
          "data": {
            "text/plain": [
              "4.4482216152605"
            ]
          },
          "metadata": {},
          "execution_count": 130
        }
      ]
    },
    {
      "cell_type": "code",
      "metadata": {
        "colab": {
          "base_uri": "https://localhost:8080/"
        },
        "id": "NBttCH4u7lFA",
        "outputId": "81cee3cf-cb52-4877-e0af-0312b64d576b"
      },
      "source": [
        "# kilogram force\n",
        "constants.kgf"
      ],
      "execution_count": 131,
      "outputs": [
        {
          "output_type": "execute_result",
          "data": {
            "text/plain": [
              "9.80665"
            ]
          },
          "metadata": {},
          "execution_count": 131
        }
      ]
    },
    {
      "cell_type": "code",
      "metadata": {
        "colab": {
          "base_uri": "https://localhost:8080/"
        },
        "id": "KR6LANRW7s8y",
        "outputId": "4b6606aa-8131-41f5-fd96-0b0efc8da896"
      },
      "source": [
        "# kilogram force\n",
        "constants.kilogram_force"
      ],
      "execution_count": 132,
      "outputs": [
        {
          "output_type": "execute_result",
          "data": {
            "text/plain": [
              "9.80665"
            ]
          },
          "metadata": {},
          "execution_count": 132
        }
      ]
    }
  ]
}