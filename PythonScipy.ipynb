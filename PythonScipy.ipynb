{
  "nbformat": 4,
  "nbformat_minor": 0,
  "metadata": {
    "colab": {
      "name": "PythonScipy.ipynb",
      "provenance": [],
      "authorship_tag": "ABX9TyMByY5AIsNuTEEUMuzIjnEQ",
      "include_colab_link": true
    },
    "kernelspec": {
      "name": "python3",
      "display_name": "Python 3"
    },
    "language_info": {
      "name": "python"
    }
  },
  "cells": [
    {
      "cell_type": "markdown",
      "metadata": {
        "id": "view-in-github",
        "colab_type": "text"
      },
      "source": [
        "<a href=\"https://colab.research.google.com/github/techakilan/python-datascience-training/blob/master/PythonScipy.ipynb\" target=\"_parent\"><img src=\"https://colab.research.google.com/assets/colab-badge.svg\" alt=\"Open In Colab\"/></a>"
      ]
    },
    {
      "cell_type": "code",
      "metadata": {
        "id": "WeumACw5qtbX"
      },
      "source": [
        "import scipy"
      ],
      "execution_count": null,
      "outputs": []
    },
    {
      "cell_type": "markdown",
      "metadata": {
        "id": "igDFWtWiq8mo"
      },
      "source": [
        "##### Scipy version"
      ]
    },
    {
      "cell_type": "code",
      "metadata": {
        "id": "lbi5S1hQq_GU"
      },
      "source": [
        "print(scipy.__version__)"
      ],
      "execution_count": null,
      "outputs": []
    },
    {
      "cell_type": "markdown",
      "metadata": {
        "id": "tOeRYWjzrzbn"
      },
      "source": [
        "##### Scipy constants"
      ]
    },
    {
      "cell_type": "code",
      "metadata": {
        "id": "4kTADL4_r3lb"
      },
      "source": [
        "from scipy import constants "
      ],
      "execution_count": null,
      "outputs": []
    },
    {
      "cell_type": "code",
      "metadata": {
        "id": "dVpaHtgBr9Bp"
      },
      "source": [
        "# Value of PI\n",
        "constants.pi"
      ],
      "execution_count": null,
      "outputs": []
    },
    {
      "cell_type": "markdown",
      "metadata": {
        "id": "HAzndZAusgtN"
      },
      "source": [
        "##### List all constants"
      ]
    },
    {
      "cell_type": "code",
      "metadata": {
        "id": "lagqV6ccsjAa"
      },
      "source": [
        "dir(constants)"
      ],
      "execution_count": null,
      "outputs": []
    },
    {
      "cell_type": "markdown",
      "metadata": {
        "id": "keZMIqwosxtw"
      },
      "source": [
        "##### Convert scipy constant to SI unit "
      ]
    },
    {
      "cell_type": "code",
      "metadata": {
        "id": "nOOdpF9ns33g"
      },
      "source": [
        "# Liter to SI unit\n",
        "constants.liter"
      ],
      "execution_count": null,
      "outputs": []
    },
    {
      "cell_type": "code",
      "metadata": {
        "id": "_NKyIpmItBa0"
      },
      "source": [
        "#Pound to SI unit\n",
        "constants.pound"
      ],
      "execution_count": null,
      "outputs": []
    },
    {
      "cell_type": "markdown",
      "metadata": {
        "id": "L9rOw9M7tdw7"
      },
      "source": [
        "##### SI prefixes"
      ]
    },
    {
      "cell_type": "code",
      "metadata": {
        "id": "xPv03uFqtj0o"
      },
      "source": [
        "# Nano\n",
        "constants.nano"
      ],
      "execution_count": null,
      "outputs": []
    },
    {
      "cell_type": "code",
      "metadata": {
        "id": "EWOyfsYitt9U"
      },
      "source": [
        "#Micro\n",
        "constants.micro"
      ],
      "execution_count": null,
      "outputs": []
    },
    {
      "cell_type": "code",
      "metadata": {
        "id": "9m8tmpN7tyXO"
      },
      "source": [
        "#Milli\n",
        "constants.milli"
      ],
      "execution_count": null,
      "outputs": []
    },
    {
      "cell_type": "code",
      "metadata": {
        "id": "v2-JzZlquV09"
      },
      "source": [
        "#Centi\n",
        "constants.centi"
      ],
      "execution_count": null,
      "outputs": []
    },
    {
      "cell_type": "code",
      "metadata": {
        "id": "psRLcm2IuaCS"
      },
      "source": [
        "#Deci\n",
        "constants.deci"
      ],
      "execution_count": null,
      "outputs": []
    },
    {
      "cell_type": "code",
      "metadata": {
        "id": "PQYNKTR1ufJ5"
      },
      "source": [
        "#Deka\n",
        "constants.deka"
      ],
      "execution_count": null,
      "outputs": []
    },
    {
      "cell_type": "code",
      "metadata": {
        "id": "uQwCACzYutmb"
      },
      "source": [
        "#Hecto\n",
        "constants.hecto"
      ],
      "execution_count": null,
      "outputs": []
    },
    {
      "cell_type": "code",
      "metadata": {
        "id": "iWgYWyC9uy3y"
      },
      "source": [
        "#Kilo\n",
        "constants.kilo"
      ],
      "execution_count": null,
      "outputs": []
    },
    {
      "cell_type": "code",
      "metadata": {
        "id": "AnstMa02u3lS"
      },
      "source": [
        "#Mega\n",
        "constants.mega"
      ],
      "execution_count": null,
      "outputs": []
    },
    {
      "cell_type": "code",
      "metadata": {
        "id": "6zKeo5pwu9Y2"
      },
      "source": [
        "#Giga\n",
        "constants.giga"
      ],
      "execution_count": null,
      "outputs": []
    },
    {
      "cell_type": "markdown",
      "metadata": {
        "id": "mpHXWZS-vilC"
      },
      "source": [
        "##### Prefixes mass in Kg"
      ]
    },
    {
      "cell_type": "code",
      "metadata": {
        "id": "ZuUqrXOHvmRV"
      },
      "source": [
        "# Pound\n",
        "constants.pound"
      ],
      "execution_count": null,
      "outputs": []
    },
    {
      "cell_type": "code",
      "metadata": {
        "id": "Cjy5Y9ITvrHP"
      },
      "source": [
        "# Pound\n",
        "constants.lb"
      ],
      "execution_count": null,
      "outputs": []
    },
    {
      "cell_type": "code",
      "metadata": {
        "id": "QzAjmEYpvvSn"
      },
      "source": [
        "# Ounce\n",
        "constants.ounce"
      ],
      "execution_count": null,
      "outputs": []
    },
    {
      "cell_type": "code",
      "metadata": {
        "id": "ie-r8KE5v2VN"
      },
      "source": [
        "# Carat\n",
        "constants.carat"
      ],
      "execution_count": null,
      "outputs": []
    },
    {
      "cell_type": "markdown",
      "metadata": {
        "id": "nrCSwtSowShi"
      },
      "source": [
        "##### Prefixes angle in radians"
      ]
    },
    {
      "cell_type": "code",
      "metadata": {
        "id": "-Q8rvYXTwYH6"
      },
      "source": [
        "# Degree\n",
        "constants.degree"
      ],
      "execution_count": null,
      "outputs": []
    },
    {
      "cell_type": "code",
      "metadata": {
        "id": "mm3fQtcOwc99"
      },
      "source": [
        "# arcminute\n",
        "constants.arcmin"
      ],
      "execution_count": null,
      "outputs": []
    },
    {
      "cell_type": "code",
      "metadata": {
        "id": "dqOtOUezwldX"
      },
      "source": [
        "# arcminute\n",
        "constants.arcminute "
      ],
      "execution_count": null,
      "outputs": []
    },
    {
      "cell_type": "code",
      "metadata": {
        "id": "cU8f0rpgwl_s"
      },
      "source": [
        "#arcsecond\n",
        "constants.arcsec"
      ],
      "execution_count": null,
      "outputs": []
    },
    {
      "cell_type": "code",
      "metadata": {
        "id": "l-uXkPNAwmQ_"
      },
      "source": [
        "#arcsecond\n",
        "constants.arcsecond"
      ],
      "execution_count": null,
      "outputs": []
    },
    {
      "cell_type": "markdown",
      "metadata": {
        "id": "qyL3I53TxUf_"
      },
      "source": [
        "##### Prefixes time in seconds"
      ]
    },
    {
      "cell_type": "code",
      "metadata": {
        "id": "kA8fsaNHxZV2"
      },
      "source": [
        "# Minute\n",
        "constants.minute"
      ],
      "execution_count": null,
      "outputs": []
    },
    {
      "cell_type": "code",
      "metadata": {
        "id": "3uoHtgwBxfHy"
      },
      "source": [
        "# Hour\n",
        "constants.hour"
      ],
      "execution_count": null,
      "outputs": []
    },
    {
      "cell_type": "code",
      "metadata": {
        "id": "x17h3oC3xkKt"
      },
      "source": [
        "#Day\n",
        "constants.day"
      ],
      "execution_count": null,
      "outputs": []
    },
    {
      "cell_type": "code",
      "metadata": {
        "id": "wRqpKKFqxnBJ"
      },
      "source": [
        "# Week\n",
        "constants.week"
      ],
      "execution_count": null,
      "outputs": []
    },
    {
      "cell_type": "code",
      "metadata": {
        "id": "Jvs87k5VxpEL"
      },
      "source": [
        "# Year\n",
        "constants.year"
      ],
      "execution_count": null,
      "outputs": []
    },
    {
      "cell_type": "code",
      "metadata": {
        "id": "MqV3uMjZxqTs"
      },
      "source": [
        "# Julian Year\n",
        "constants.Julian_year"
      ],
      "execution_count": null,
      "outputs": []
    },
    {
      "cell_type": "markdown",
      "metadata": {
        "id": "pOdk0ljhzSHW"
      },
      "source": [
        "##### Prefixes Length in meter"
      ]
    },
    {
      "cell_type": "code",
      "metadata": {
        "id": "SDMq1uhJzcwq"
      },
      "source": [
        "# Inch\n",
        "constants.inch"
      ],
      "execution_count": null,
      "outputs": []
    },
    {
      "cell_type": "code",
      "metadata": {
        "id": "qDD2Wkdnzfbe"
      },
      "source": [
        "# Foot\n",
        "constants.foot"
      ],
      "execution_count": null,
      "outputs": []
    },
    {
      "cell_type": "code",
      "metadata": {
        "id": "Ookxs79_zm_f"
      },
      "source": [
        "# Yard\n",
        "constants.yard"
      ],
      "execution_count": null,
      "outputs": []
    },
    {
      "cell_type": "code",
      "metadata": {
        "id": "nlbYZ_2uzrnv"
      },
      "source": [
        "# Mile\n",
        "constants.mile"
      ],
      "execution_count": null,
      "outputs": []
    },
    {
      "cell_type": "code",
      "metadata": {
        "id": "Dfw0UZr8zync"
      },
      "source": [
        "# Point\n",
        "constants.point"
      ],
      "execution_count": null,
      "outputs": []
    },
    {
      "cell_type": "code",
      "metadata": {
        "id": "tAjO5YEZz2Ab"
      },
      "source": [
        "# Nautical mile\n",
        "constants.nautical_mile"
      ],
      "execution_count": null,
      "outputs": []
    },
    {
      "cell_type": "code",
      "metadata": {
        "id": "If7YbydPz7JA"
      },
      "source": [
        "# Micron\n",
        "constants.micron"
      ],
      "execution_count": null,
      "outputs": []
    },
    {
      "cell_type": "code",
      "metadata": {
        "id": "sWLPswqgz_Di"
      },
      "source": [
        "# Light Year\n",
        "constants.light_year"
      ],
      "execution_count": null,
      "outputs": []
    },
    {
      "cell_type": "markdown",
      "metadata": {
        "id": "AaW5yema0OyD"
      },
      "source": [
        "##### Prefixes Pressure in pascal "
      ]
    },
    {
      "cell_type": "code",
      "metadata": {
        "id": "ckGNsIbF0Xd_"
      },
      "source": [
        "print(constants.mmHg)        #133.32236842105263\n",
        "print(constants.psi)         #6894.757293168361 "
      ],
      "execution_count": null,
      "outputs": []
    },
    {
      "cell_type": "code",
      "metadata": {
        "id": "oEYTAjMM0tv6"
      },
      "source": [
        "# atmospheric pressure\n",
        "constants.atm"
      ],
      "execution_count": null,
      "outputs": []
    },
    {
      "cell_type": "code",
      "metadata": {
        "id": "GxHJ62if01Ww"
      },
      "source": [
        "# atmospheric pressure\n",
        "constants.atmosphere"
      ],
      "execution_count": null,
      "outputs": []
    },
    {
      "cell_type": "code",
      "metadata": {
        "id": "Yt5coruB05mR"
      },
      "source": [
        "# bar\n",
        "constants.bar"
      ],
      "execution_count": null,
      "outputs": []
    },
    {
      "cell_type": "code",
      "metadata": {
        "id": "X-6KCkWv08ug"
      },
      "source": [
        "# torr\n",
        "constants.torr"
      ],
      "execution_count": null,
      "outputs": []
    },
    {
      "cell_type": "code",
      "metadata": {
        "id": "hm4povLY1DOw"
      },
      "source": [
        "# mmHg\n",
        "constants.mmHg"
      ],
      "execution_count": null,
      "outputs": []
    },
    {
      "cell_type": "code",
      "metadata": {
        "id": "nQBxtQKl1GNw"
      },
      "source": [
        "# psi\n",
        "constants.psi"
      ],
      "execution_count": null,
      "outputs": []
    },
    {
      "cell_type": "markdown",
      "metadata": {
        "id": "leWhDEea1aCu"
      },
      "source": [
        "##### Prefixes Area in sq.meters"
      ]
    },
    {
      "cell_type": "code",
      "metadata": {
        "id": "ijpNOt-v1ZR_"
      },
      "source": [
        "# Hectare\n",
        "constants.hectare"
      ],
      "execution_count": null,
      "outputs": []
    },
    {
      "cell_type": "code",
      "metadata": {
        "id": "fsgtSzmt1kSu"
      },
      "source": [
        "# Acre\n",
        "constants.acre"
      ],
      "execution_count": null,
      "outputs": []
    },
    {
      "cell_type": "markdown",
      "metadata": {
        "id": "85hmlwVa1s-V"
      },
      "source": [
        "##### Prefixes Volume in cubic meters"
      ]
    },
    {
      "cell_type": "code",
      "metadata": {
        "id": "8vKtyr5g1sIn"
      },
      "source": [
        "# Litre\n",
        "constants.litre"
      ],
      "execution_count": null,
      "outputs": []
    },
    {
      "cell_type": "code",
      "metadata": {
        "id": "vNzSw5ya195K"
      },
      "source": [
        "# Litre\n",
        "constants.liter"
      ],
      "execution_count": null,
      "outputs": []
    },
    {
      "cell_type": "code",
      "metadata": {
        "id": "4IYGm5Se2BFa"
      },
      "source": [
        "# Gallon\n",
        "constants.gallon"
      ],
      "execution_count": null,
      "outputs": []
    },
    {
      "cell_type": "code",
      "metadata": {
        "id": "eaV3JmpJ2GA0"
      },
      "source": [
        "# Gallon US\n",
        "constants.gallon_US"
      ],
      "execution_count": null,
      "outputs": []
    },
    {
      "cell_type": "code",
      "metadata": {
        "id": "ELQE_OQq2NYp"
      },
      "source": [
        "# Imperial Gallon\n",
        "constants.gallon_imp"
      ],
      "execution_count": null,
      "outputs": []
    },
    {
      "cell_type": "code",
      "metadata": {
        "id": "VHU0zUC62bRg"
      },
      "source": [
        "# Ounce fluid\n",
        "constants.fluid_ounce"
      ],
      "execution_count": null,
      "outputs": []
    },
    {
      "cell_type": "code",
      "metadata": {
        "id": "QI7ZM7Gs2huM"
      },
      "source": [
        "# Ounce fluid US\n",
        "constants.fluid_ounce_US"
      ],
      "execution_count": null,
      "outputs": []
    },
    {
      "cell_type": "code",
      "metadata": {
        "id": "979dpFIL2nbF"
      },
      "source": [
        "# Ounce fluid imperial\n",
        "constants.fluid_ounce_imp"
      ],
      "execution_count": null,
      "outputs": []
    },
    {
      "cell_type": "code",
      "metadata": {
        "id": "62YF0wDO2vl8"
      },
      "source": [
        "# Barrel\n",
        "constants.barrel"
      ],
      "execution_count": null,
      "outputs": []
    },
    {
      "cell_type": "code",
      "metadata": {
        "id": "C4A29TML20HG"
      },
      "source": [
        "# Barrel\n",
        "constants.bbl"
      ],
      "execution_count": null,
      "outputs": []
    },
    {
      "cell_type": "markdown",
      "metadata": {
        "id": "jv7v2UV624eO"
      },
      "source": [
        "##### Prefixes for Speed in m/s"
      ]
    },
    {
      "cell_type": "code",
      "metadata": {
        "id": "4VaQDGRv3BiM"
      },
      "source": [
        "# kilometer per hour\n",
        "constants.kmh"
      ],
      "execution_count": null,
      "outputs": []
    },
    {
      "cell_type": "code",
      "metadata": {
        "id": "AUkzu0PX3JDX"
      },
      "source": [
        "# Miles per hour\n",
        "constants.mph"
      ],
      "execution_count": null,
      "outputs": []
    },
    {
      "cell_type": "code",
      "metadata": {
        "id": "tqoE2yWd3Ykw"
      },
      "source": [
        "# Mach based on speed of sound\n",
        "constants.mach"
      ],
      "execution_count": null,
      "outputs": []
    },
    {
      "cell_type": "code",
      "metadata": {
        "id": "vTIJo_x13jl9"
      },
      "source": [
        "# Mach\n",
        "constants.speed_of_sound"
      ],
      "execution_count": null,
      "outputs": []
    },
    {
      "cell_type": "code",
      "metadata": {
        "id": "293bJv4h3qEM"
      },
      "source": [
        "# Knot\n",
        "constants.knot"
      ],
      "execution_count": null,
      "outputs": []
    },
    {
      "cell_type": "code",
      "metadata": {
        "id": "jsES7vsJ3vmW"
      },
      "source": [
        "# Speed of light\n",
        "constants.speed_of_light"
      ],
      "execution_count": null,
      "outputs": []
    },
    {
      "cell_type": "markdown",
      "metadata": {
        "id": "nPerjZJZ34Vy"
      },
      "source": [
        "##### Prefixes for Temp in Kelvin"
      ]
    },
    {
      "cell_type": "code",
      "metadata": {
        "id": "sNMXvl5f3-Bl"
      },
      "source": [
        "# Zero celsius\n",
        "constants.zero_Celsius"
      ],
      "execution_count": null,
      "outputs": []
    },
    {
      "cell_type": "code",
      "metadata": {
        "id": "08jlAwRc4HXa"
      },
      "source": [
        "# Degree fahrenheit\n",
        "constants.degree_Fahrenheit"
      ],
      "execution_count": null,
      "outputs": []
    },
    {
      "cell_type": "markdown",
      "metadata": {
        "id": "r1CJQ7YM4mZc"
      },
      "source": [
        "##### Prefixes for Energy in Joules"
      ]
    },
    {
      "cell_type": "code",
      "metadata": {
        "id": "aCXtQeiy4vCj"
      },
      "source": [
        "# Electron Volt\n",
        "constants.eV"
      ],
      "execution_count": null,
      "outputs": []
    },
    {
      "cell_type": "code",
      "metadata": {
        "id": "u6Fen8mQ4y5k"
      },
      "source": [
        "# Electron Volt\n",
        "constants.electron_volt"
      ],
      "execution_count": null,
      "outputs": []
    },
    {
      "cell_type": "code",
      "metadata": {
        "id": "LkphvB0C42dr"
      },
      "source": [
        "# Calorie\n",
        "constants.calorie"
      ],
      "execution_count": null,
      "outputs": []
    },
    {
      "cell_type": "code",
      "metadata": {
        "id": "Phx2LPgi49oL"
      },
      "source": [
        "# erg\n",
        "constants.erg"
      ],
      "execution_count": null,
      "outputs": []
    },
    {
      "cell_type": "code",
      "metadata": {
        "id": "0c9lf-e45Dk1"
      },
      "source": [
        "# Btu\n",
        "constants.Btu"
      ],
      "execution_count": null,
      "outputs": []
    },
    {
      "cell_type": "code",
      "metadata": {
        "id": "-jWgftQ75FSU"
      },
      "source": [
        "# Ton TNT\n",
        "constants.ton_TNT"
      ],
      "execution_count": null,
      "outputs": []
    },
    {
      "cell_type": "markdown",
      "metadata": {
        "id": "8SMVA3Pb6hXs"
      },
      "source": [
        "##### Prefixes for Power in Watts"
      ]
    },
    {
      "cell_type": "code",
      "metadata": {
        "id": "v3xSgSa-6ooL"
      },
      "source": [
        "# Horsepower\n",
        "constants.hp"
      ],
      "execution_count": null,
      "outputs": []
    },
    {
      "cell_type": "code",
      "metadata": {
        "id": "mKjFBaUd6vNv"
      },
      "source": [
        "# Horsepower\n",
        "constants.horsepower"
      ],
      "execution_count": null,
      "outputs": []
    },
    {
      "cell_type": "markdown",
      "metadata": {
        "id": "qiXwAe5l6285"
      },
      "source": [
        "##### Prefixes for Power in Newton"
      ]
    },
    {
      "cell_type": "code",
      "metadata": {
        "id": "OR4F2MZe62Zh"
      },
      "source": [
        "# Dyne \n",
        "constants.dyn"
      ],
      "execution_count": null,
      "outputs": []
    },
    {
      "cell_type": "code",
      "metadata": {
        "id": "aoKulTPg7ND1"
      },
      "source": [
        "# Dyne\n",
        "constants.dyne"
      ],
      "execution_count": null,
      "outputs": []
    },
    {
      "cell_type": "code",
      "metadata": {
        "id": "yjXd4IKL7XrQ"
      },
      "source": [
        "# Pound force\n",
        "constants.lbf"
      ],
      "execution_count": null,
      "outputs": []
    },
    {
      "cell_type": "code",
      "metadata": {
        "id": "kcjz8yFg7hDS"
      },
      "source": [
        "# Pound force\n",
        "constants.pound_force"
      ],
      "execution_count": null,
      "outputs": []
    },
    {
      "cell_type": "code",
      "metadata": {
        "id": "NBttCH4u7lFA"
      },
      "source": [
        "# kilogram force\n",
        "constants.kgf"
      ],
      "execution_count": null,
      "outputs": []
    },
    {
      "cell_type": "code",
      "metadata": {
        "id": "KR6LANRW7s8y"
      },
      "source": [
        "# kilogram force\n",
        "constants.kilogram_force"
      ],
      "execution_count": null,
      "outputs": []
    },
    {
      "cell_type": "markdown",
      "metadata": {
        "id": "248ODmHa8xYQ"
      },
      "source": [
        "### Optimizers"
      ]
    },
    {
      "cell_type": "markdown",
      "metadata": {
        "id": "ljxSkBUW8zmm"
      },
      "source": [
        "##### Optimizer for root"
      ]
    },
    {
      "cell_type": "code",
      "metadata": {
        "id": "GmfaA7kz9UYO"
      },
      "source": [
        "from scipy.optimize import root\n",
        "from math import cos\n",
        "\n",
        "def eqn(x):\n",
        "  return x + cos(x)\n",
        "\n",
        "myroot = root(eqn, 0)\n",
        "\n",
        "print(myroot.x)"
      ],
      "execution_count": null,
      "outputs": []
    },
    {
      "cell_type": "code",
      "metadata": {
        "id": "FhOH7tk6-AbK"
      },
      "source": [
        "-0.73908513+cos(-0.73908513)"
      ],
      "execution_count": null,
      "outputs": []
    },
    {
      "cell_type": "code",
      "metadata": {
        "id": "ig9lYRaq9mu7"
      },
      "source": [
        "print(myroot)"
      ],
      "execution_count": null,
      "outputs": []
    },
    {
      "cell_type": "markdown",
      "metadata": {
        "id": "MJ78sV4O-YKb"
      },
      "source": [
        "##### Finding minima"
      ]
    },
    {
      "cell_type": "code",
      "metadata": {
        "id": "00zbYyYa9yNy"
      },
      "source": [
        "from scipy.optimize import minimize\n",
        "\n",
        "def eqn(x):\n",
        "  return x**2 + x + 2\n",
        "\n",
        "mymin = minimize(eqn, 0, method='BFGS')\n",
        "\n",
        "print(mymin)"
      ],
      "execution_count": null,
      "outputs": []
    },
    {
      "cell_type": "markdown",
      "metadata": {
        "id": "KbMXsarqN2zl"
      },
      "source": [
        "### Handling sparse data\n",
        "\n",
        "\n",
        "\n",
        "Sparse Data: is a data set where most of the item values are zero.\n",
        "\n",
        "[1, 0, 2, 0, 0, 3, 0, 0, 0, 0, 0, 0]\n",
        "\n",
        "Dense Array: is the opposite of a sparse array: most of the values are not zero.\n"
      ]
    },
    {
      "cell_type": "markdown",
      "metadata": {
        "id": "LV8l_j1yOKBi"
      },
      "source": [
        "##### CSR - Compressed sparse row "
      ]
    },
    {
      "cell_type": "code",
      "metadata": {
        "id": "lBGQ_TCdNwGW",
        "outputId": "a250b861-17e6-4b20-86e9-594e60b39955",
        "colab": {
          "base_uri": "https://localhost:8080/"
        }
      },
      "source": [
        "import numpy as np\n",
        "from scipy.sparse import csr_matrix\n",
        "\n",
        "arr = np.array([0, 0, 0, 0, 0, 1, 1, 0, 2])\n",
        "\n",
        "sparsematrix = csr_matrix(arr)\n",
        "print(sparsematrix)"
      ],
      "execution_count": 90,
      "outputs": [
        {
          "output_type": "stream",
          "name": "stdout",
          "text": [
            "  (0, 5)\t1\n",
            "  (0, 6)\t1\n",
            "  (0, 8)\t2\n"
          ]
        }
      ]
    },
    {
      "cell_type": "markdown",
      "metadata": {
        "id": "BmchJ0e9O2K2"
      },
      "source": [
        "\n",
        "\n",
        "The 1. item is in row 0 position 5 and has the value 1.\n",
        "\n",
        "The 2. item is in row 0 position 6 and has the value 1.\n",
        "\n",
        "The 3. item is in row 0 position 8 and has the value 2."
      ]
    },
    {
      "cell_type": "code",
      "metadata": {
        "id": "-ZvocQzAPEPL",
        "outputId": "dcd7df40-8492-4632-a08a-7303bf9f9aa9",
        "colab": {
          "base_uri": "https://localhost:8080/"
        }
      },
      "source": [
        "print(sparsematrix[0,5])"
      ],
      "execution_count": 100,
      "outputs": [
        {
          "output_type": "stream",
          "name": "stdout",
          "text": [
            "2\n"
          ]
        }
      ]
    },
    {
      "cell_type": "code",
      "metadata": {
        "id": "PnB1fEXWPshw",
        "outputId": "dba29181-21fd-4908-b3e8-a9c95df4e65e",
        "colab": {
          "base_uri": "https://localhost:8080/"
        }
      },
      "source": [
        "print(sparsematrix[0,8])"
      ],
      "execution_count": 101,
      "outputs": [
        {
          "output_type": "stream",
          "name": "stdout",
          "text": [
            "2\n"
          ]
        }
      ]
    },
    {
      "cell_type": "markdown",
      "metadata": {
        "id": "TeQu-xsoQURg"
      },
      "source": [
        "##### Count non-zeros"
      ]
    },
    {
      "cell_type": "code",
      "metadata": {
        "id": "J5MfoYGBQcrN",
        "outputId": "0be2687a-cf7a-415f-f3b5-af948d4dfe40",
        "colab": {
          "base_uri": "https://localhost:8080/"
        }
      },
      "source": [
        "sparsematrix.count_nonzero()"
      ],
      "execution_count": 102,
      "outputs": [
        {
          "output_type": "execute_result",
          "data": {
            "text/plain": [
              "3"
            ]
          },
          "metadata": {},
          "execution_count": 102
        }
      ]
    },
    {
      "cell_type": "markdown",
      "metadata": {
        "id": "kpVeeZh8Q9se"
      },
      "source": [
        "##### CSC - Compressed sparse column"
      ]
    },
    {
      "cell_type": "code",
      "metadata": {
        "id": "1Z_-2byhQsCX",
        "outputId": "0ea4687c-cf53-4de9-8275-c56fd7578d86",
        "colab": {
          "base_uri": "https://localhost:8080/"
        }
      },
      "source": [
        "from scipy.sparse import csc_matrix\n",
        "arr2 = np.array([[0, 0, 0], [0, 0, 1], [1, 0, 2]])\n",
        "cscsparsematrix = csc_matrix(arr2)\n",
        "print(cscsparsematrix)\n"
      ],
      "execution_count": 117,
      "outputs": [
        {
          "output_type": "stream",
          "name": "stdout",
          "text": [
            "  (2, 0)\t1\n",
            "  (1, 2)\t1\n",
            "  (2, 2)\t2\n"
          ]
        }
      ]
    },
    {
      "cell_type": "code",
      "metadata": {
        "id": "8IvLH-UvUYt4",
        "outputId": "80f7e67a-70d5-47ba-8ce9-2eec7ac510a4",
        "colab": {
          "base_uri": "https://localhost:8080/"
        }
      },
      "source": [
        "csrsparsematrix = csr_matrix(arr2)\n",
        "print(csrsparsematrix)"
      ],
      "execution_count": 114,
      "outputs": [
        {
          "output_type": "stream",
          "name": "stdout",
          "text": [
            "  (1, 2)\t1\n",
            "  (2, 0)\t1\n",
            "  (2, 2)\t2\n"
          ]
        }
      ]
    },
    {
      "cell_type": "code",
      "metadata": {
        "id": "wlHviisgUjeL",
        "outputId": "d0fbc9f1-3ea3-43f3-d322-4564a80ba231",
        "colab": {
          "base_uri": "https://localhost:8080/"
        }
      },
      "source": [
        "print(csrsparsematrix.tocsc())"
      ],
      "execution_count": 115,
      "outputs": [
        {
          "output_type": "stream",
          "name": "stdout",
          "text": [
            "  (2, 0)\t1\n",
            "  (1, 2)\t1\n",
            "  (2, 2)\t2\n"
          ]
        }
      ]
    },
    {
      "cell_type": "code",
      "metadata": {
        "id": "0sF0RDtrUw9B",
        "outputId": "ffe48560-205d-4267-9345-9013c5aaf3b5",
        "colab": {
          "base_uri": "https://localhost:8080/"
        }
      },
      "source": [
        "print(cscsparsematrix.tocsr())"
      ],
      "execution_count": 118,
      "outputs": [
        {
          "output_type": "stream",
          "name": "stdout",
          "text": [
            "  (1, 2)\t1\n",
            "  (2, 0)\t1\n",
            "  (2, 2)\t2\n"
          ]
        }
      ]
    }
  ]
}