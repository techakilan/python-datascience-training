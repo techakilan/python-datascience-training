{
  "nbformat": 4,
  "nbformat_minor": 0,
  "metadata": {
    "colab": {
      "name": "PythonScipy.ipynb",
      "provenance": [],
      "authorship_tag": "ABX9TyNT5J1V/Y3WdJbQB3AGRt+Z",
      "include_colab_link": true
    },
    "kernelspec": {
      "name": "python3",
      "display_name": "Python 3"
    },
    "language_info": {
      "name": "python"
    }
  },
  "cells": [
    {
      "cell_type": "markdown",
      "metadata": {
        "id": "view-in-github",
        "colab_type": "text"
      },
      "source": [
        "<a href=\"https://colab.research.google.com/github/techakilan/python-datascience-training/blob/master/PythonScipy.ipynb\" target=\"_parent\"><img src=\"https://colab.research.google.com/assets/colab-badge.svg\" alt=\"Open In Colab\"/></a>"
      ]
    },
    {
      "cell_type": "code",
      "metadata": {
        "id": "WeumACw5qtbX"
      },
      "source": [
        "import scipy"
      ],
      "execution_count": 1,
      "outputs": []
    },
    {
      "cell_type": "markdown",
      "metadata": {
        "id": "igDFWtWiq8mo"
      },
      "source": [
        "##### Scipy version"
      ]
    },
    {
      "cell_type": "code",
      "metadata": {
        "colab": {
          "base_uri": "https://localhost:8080/"
        },
        "id": "lbi5S1hQq_GU",
        "outputId": "c7bdfca3-c975-4008-e9d2-57449f301c85"
      },
      "source": [
        "print(scipy.__version__)"
      ],
      "execution_count": 2,
      "outputs": [
        {
          "output_type": "stream",
          "name": "stdout",
          "text": [
            "1.4.1\n"
          ]
        }
      ]
    },
    {
      "cell_type": "markdown",
      "metadata": {
        "id": "tOeRYWjzrzbn"
      },
      "source": [
        "##### Scipy constants"
      ]
    },
    {
      "cell_type": "code",
      "metadata": {
        "id": "4kTADL4_r3lb"
      },
      "source": [
        "from scipy import constants "
      ],
      "execution_count": 3,
      "outputs": []
    },
    {
      "cell_type": "code",
      "metadata": {
        "colab": {
          "base_uri": "https://localhost:8080/"
        },
        "id": "dVpaHtgBr9Bp",
        "outputId": "b5c0b30a-c22a-4744-f104-3f664a2a8b49"
      },
      "source": [
        "# Value of PI\n",
        "constants.pi"
      ],
      "execution_count": 4,
      "outputs": [
        {
          "output_type": "execute_result",
          "data": {
            "text/plain": [
              "3.141592653589793"
            ]
          },
          "metadata": {},
          "execution_count": 4
        }
      ]
    },
    {
      "cell_type": "markdown",
      "metadata": {
        "id": "HAzndZAusgtN"
      },
      "source": [
        "##### List all constants"
      ]
    },
    {
      "cell_type": "code",
      "metadata": {
        "colab": {
          "base_uri": "https://localhost:8080/"
        },
        "id": "lagqV6ccsjAa",
        "outputId": "aa55d34d-0fea-443c-bdd0-b5532d4bf4fe"
      },
      "source": [
        "dir(constants)"
      ],
      "execution_count": 5,
      "outputs": [
        {
          "output_type": "execute_result",
          "data": {
            "text/plain": [
              "['Avogadro',\n",
              " 'Boltzmann',\n",
              " 'Btu',\n",
              " 'Btu_IT',\n",
              " 'Btu_th',\n",
              " 'ConstantWarning',\n",
              " 'G',\n",
              " 'Julian_year',\n",
              " 'N_A',\n",
              " 'Planck',\n",
              " 'R',\n",
              " 'Rydberg',\n",
              " 'Stefan_Boltzmann',\n",
              " 'Wien',\n",
              " '__all__',\n",
              " '__builtins__',\n",
              " '__cached__',\n",
              " '__doc__',\n",
              " '__file__',\n",
              " '__loader__',\n",
              " '__name__',\n",
              " '__package__',\n",
              " '__path__',\n",
              " '__spec__',\n",
              " '_obsolete_constants',\n",
              " 'absolute_import',\n",
              " 'acre',\n",
              " 'alpha',\n",
              " 'angstrom',\n",
              " 'arcmin',\n",
              " 'arcminute',\n",
              " 'arcsec',\n",
              " 'arcsecond',\n",
              " 'astronomical_unit',\n",
              " 'atm',\n",
              " 'atmosphere',\n",
              " 'atomic_mass',\n",
              " 'atto',\n",
              " 'au',\n",
              " 'bar',\n",
              " 'barrel',\n",
              " 'bbl',\n",
              " 'blob',\n",
              " 'c',\n",
              " 'calorie',\n",
              " 'calorie_IT',\n",
              " 'calorie_th',\n",
              " 'carat',\n",
              " 'centi',\n",
              " 'codata',\n",
              " 'constants',\n",
              " 'convert_temperature',\n",
              " 'day',\n",
              " 'deci',\n",
              " 'degree',\n",
              " 'degree_Fahrenheit',\n",
              " 'deka',\n",
              " 'division',\n",
              " 'dyn',\n",
              " 'dyne',\n",
              " 'e',\n",
              " 'eV',\n",
              " 'electron_mass',\n",
              " 'electron_volt',\n",
              " 'elementary_charge',\n",
              " 'epsilon_0',\n",
              " 'erg',\n",
              " 'exa',\n",
              " 'exbi',\n",
              " 'femto',\n",
              " 'fermi',\n",
              " 'find',\n",
              " 'fine_structure',\n",
              " 'fluid_ounce',\n",
              " 'fluid_ounce_US',\n",
              " 'fluid_ounce_imp',\n",
              " 'foot',\n",
              " 'g',\n",
              " 'gallon',\n",
              " 'gallon_US',\n",
              " 'gallon_imp',\n",
              " 'gas_constant',\n",
              " 'gibi',\n",
              " 'giga',\n",
              " 'golden',\n",
              " 'golden_ratio',\n",
              " 'grain',\n",
              " 'gram',\n",
              " 'gravitational_constant',\n",
              " 'h',\n",
              " 'hbar',\n",
              " 'hectare',\n",
              " 'hecto',\n",
              " 'horsepower',\n",
              " 'hour',\n",
              " 'hp',\n",
              " 'inch',\n",
              " 'k',\n",
              " 'kgf',\n",
              " 'kibi',\n",
              " 'kilo',\n",
              " 'kilogram_force',\n",
              " 'kmh',\n",
              " 'knot',\n",
              " 'lambda2nu',\n",
              " 'lb',\n",
              " 'lbf',\n",
              " 'light_year',\n",
              " 'liter',\n",
              " 'litre',\n",
              " 'long_ton',\n",
              " 'm_e',\n",
              " 'm_n',\n",
              " 'm_p',\n",
              " 'm_u',\n",
              " 'mach',\n",
              " 'mebi',\n",
              " 'mega',\n",
              " 'metric_ton',\n",
              " 'micro',\n",
              " 'micron',\n",
              " 'mil',\n",
              " 'mile',\n",
              " 'milli',\n",
              " 'minute',\n",
              " 'mmHg',\n",
              " 'mph',\n",
              " 'mu_0',\n",
              " 'nano',\n",
              " 'nautical_mile',\n",
              " 'neutron_mass',\n",
              " 'nu2lambda',\n",
              " 'ounce',\n",
              " 'oz',\n",
              " 'parsec',\n",
              " 'pebi',\n",
              " 'peta',\n",
              " 'physical_constants',\n",
              " 'pi',\n",
              " 'pico',\n",
              " 'point',\n",
              " 'pound',\n",
              " 'pound_force',\n",
              " 'precision',\n",
              " 'print_function',\n",
              " 'proton_mass',\n",
              " 'psi',\n",
              " 'pt',\n",
              " 'short_ton',\n",
              " 'sigma',\n",
              " 'slinch',\n",
              " 'slug',\n",
              " 'speed_of_light',\n",
              " 'speed_of_sound',\n",
              " 'stone',\n",
              " 'survey_foot',\n",
              " 'survey_mile',\n",
              " 'tebi',\n",
              " 'tera',\n",
              " 'test',\n",
              " 'ton_TNT',\n",
              " 'torr',\n",
              " 'troy_ounce',\n",
              " 'troy_pound',\n",
              " 'u',\n",
              " 'unit',\n",
              " 'value',\n",
              " 'week',\n",
              " 'yard',\n",
              " 'year',\n",
              " 'yobi',\n",
              " 'yotta',\n",
              " 'zebi',\n",
              " 'zepto',\n",
              " 'zero_Celsius',\n",
              " 'zetta']"
            ]
          },
          "metadata": {},
          "execution_count": 5
        }
      ]
    },
    {
      "cell_type": "markdown",
      "metadata": {
        "id": "keZMIqwosxtw"
      },
      "source": [
        "##### Convert scipy constant to SI unit "
      ]
    },
    {
      "cell_type": "code",
      "metadata": {
        "colab": {
          "base_uri": "https://localhost:8080/"
        },
        "id": "nOOdpF9ns33g",
        "outputId": "4f4efb89-b710-4eee-e302-aa070e70559a"
      },
      "source": [
        "# Liter to SI unit\n",
        "constants.liter"
      ],
      "execution_count": 6,
      "outputs": [
        {
          "output_type": "execute_result",
          "data": {
            "text/plain": [
              "0.001"
            ]
          },
          "metadata": {},
          "execution_count": 6
        }
      ]
    },
    {
      "cell_type": "code",
      "metadata": {
        "colab": {
          "base_uri": "https://localhost:8080/"
        },
        "id": "_NKyIpmItBa0",
        "outputId": "6391cebf-f320-4596-ef38-3c98294f061e"
      },
      "source": [
        "#Pound to SI unit\n",
        "constants.pound"
      ],
      "execution_count": 7,
      "outputs": [
        {
          "output_type": "execute_result",
          "data": {
            "text/plain": [
              "0.45359236999999997"
            ]
          },
          "metadata": {},
          "execution_count": 7
        }
      ]
    },
    {
      "cell_type": "markdown",
      "metadata": {
        "id": "L9rOw9M7tdw7"
      },
      "source": [
        "##### SI prefixes"
      ]
    },
    {
      "cell_type": "code",
      "metadata": {
        "colab": {
          "base_uri": "https://localhost:8080/"
        },
        "id": "xPv03uFqtj0o",
        "outputId": "e7d37f19-5bdb-41e7-a287-7b8fd5229271"
      },
      "source": [
        "# Nano\n",
        "constants.nano"
      ],
      "execution_count": 8,
      "outputs": [
        {
          "output_type": "execute_result",
          "data": {
            "text/plain": [
              "1e-09"
            ]
          },
          "metadata": {},
          "execution_count": 8
        }
      ]
    },
    {
      "cell_type": "code",
      "metadata": {
        "colab": {
          "base_uri": "https://localhost:8080/"
        },
        "id": "EWOyfsYitt9U",
        "outputId": "1cfec164-0248-4270-d459-a78d960af6ca"
      },
      "source": [
        "#Micro\n",
        "constants.micro"
      ],
      "execution_count": 9,
      "outputs": [
        {
          "output_type": "execute_result",
          "data": {
            "text/plain": [
              "1e-06"
            ]
          },
          "metadata": {},
          "execution_count": 9
        }
      ]
    },
    {
      "cell_type": "code",
      "metadata": {
        "colab": {
          "base_uri": "https://localhost:8080/"
        },
        "id": "9m8tmpN7tyXO",
        "outputId": "f97a8a22-dee0-47a6-ca97-660590efb2e1"
      },
      "source": [
        "#Milli\n",
        "constants.milli"
      ],
      "execution_count": 11,
      "outputs": [
        {
          "output_type": "execute_result",
          "data": {
            "text/plain": [
              "0.001"
            ]
          },
          "metadata": {},
          "execution_count": 11
        }
      ]
    },
    {
      "cell_type": "code",
      "metadata": {
        "colab": {
          "base_uri": "https://localhost:8080/"
        },
        "id": "v2-JzZlquV09",
        "outputId": "3b1dc14a-8516-44e3-c6b3-3ee43e024c11"
      },
      "source": [
        "#Centi\n",
        "constants.centi"
      ],
      "execution_count": 12,
      "outputs": [
        {
          "output_type": "execute_result",
          "data": {
            "text/plain": [
              "0.01"
            ]
          },
          "metadata": {},
          "execution_count": 12
        }
      ]
    },
    {
      "cell_type": "code",
      "metadata": {
        "colab": {
          "base_uri": "https://localhost:8080/"
        },
        "id": "psRLcm2IuaCS",
        "outputId": "2f95b304-1738-4bf0-b049-8f03c738dcc2"
      },
      "source": [
        "#Deci\n",
        "constants.deci"
      ],
      "execution_count": 13,
      "outputs": [
        {
          "output_type": "execute_result",
          "data": {
            "text/plain": [
              "0.1"
            ]
          },
          "metadata": {},
          "execution_count": 13
        }
      ]
    },
    {
      "cell_type": "code",
      "metadata": {
        "colab": {
          "base_uri": "https://localhost:8080/"
        },
        "id": "PQYNKTR1ufJ5",
        "outputId": "bfbcb325-955b-4034-812f-72e5499c672b"
      },
      "source": [
        "#Deka\n",
        "constants.deka"
      ],
      "execution_count": 15,
      "outputs": [
        {
          "output_type": "execute_result",
          "data": {
            "text/plain": [
              "10.0"
            ]
          },
          "metadata": {},
          "execution_count": 15
        }
      ]
    },
    {
      "cell_type": "code",
      "metadata": {
        "colab": {
          "base_uri": "https://localhost:8080/"
        },
        "id": "uQwCACzYutmb",
        "outputId": "1f635dfa-147c-4b5e-b1e9-59e260548d58"
      },
      "source": [
        "#Hecto\n",
        "constants.hecto"
      ],
      "execution_count": 16,
      "outputs": [
        {
          "output_type": "execute_result",
          "data": {
            "text/plain": [
              "100.0"
            ]
          },
          "metadata": {},
          "execution_count": 16
        }
      ]
    },
    {
      "cell_type": "code",
      "metadata": {
        "colab": {
          "base_uri": "https://localhost:8080/"
        },
        "id": "iWgYWyC9uy3y",
        "outputId": "d9e1bd03-6131-4092-af26-17cd78fb5cd1"
      },
      "source": [
        "#Kilo\n",
        "constants.kilo"
      ],
      "execution_count": 17,
      "outputs": [
        {
          "output_type": "execute_result",
          "data": {
            "text/plain": [
              "1000.0"
            ]
          },
          "metadata": {},
          "execution_count": 17
        }
      ]
    },
    {
      "cell_type": "code",
      "metadata": {
        "colab": {
          "base_uri": "https://localhost:8080/"
        },
        "id": "AnstMa02u3lS",
        "outputId": "edcfb302-4bcc-4407-bacd-c93e7b8de279"
      },
      "source": [
        "#Mega\n",
        "constants.mega"
      ],
      "execution_count": 18,
      "outputs": [
        {
          "output_type": "execute_result",
          "data": {
            "text/plain": [
              "1000000.0"
            ]
          },
          "metadata": {},
          "execution_count": 18
        }
      ]
    },
    {
      "cell_type": "code",
      "metadata": {
        "colab": {
          "base_uri": "https://localhost:8080/"
        },
        "id": "6zKeo5pwu9Y2",
        "outputId": "1cfb17b5-747a-4323-f158-1de9466d03c4"
      },
      "source": [
        "#Giga\n",
        "constants.giga"
      ],
      "execution_count": 19,
      "outputs": [
        {
          "output_type": "execute_result",
          "data": {
            "text/plain": [
              "1000000000.0"
            ]
          },
          "metadata": {},
          "execution_count": 19
        }
      ]
    },
    {
      "cell_type": "markdown",
      "metadata": {
        "id": "mpHXWZS-vilC"
      },
      "source": [
        "##### SI prefixes mass in Kg"
      ]
    },
    {
      "cell_type": "code",
      "metadata": {
        "colab": {
          "base_uri": "https://localhost:8080/"
        },
        "id": "ZuUqrXOHvmRV",
        "outputId": "6a9b9a48-2c52-4c9a-f380-194755f3940d"
      },
      "source": [
        "# Pound\n",
        "constants.pound"
      ],
      "execution_count": 20,
      "outputs": [
        {
          "output_type": "execute_result",
          "data": {
            "text/plain": [
              "0.45359236999999997"
            ]
          },
          "metadata": {},
          "execution_count": 20
        }
      ]
    },
    {
      "cell_type": "code",
      "metadata": {
        "colab": {
          "base_uri": "https://localhost:8080/"
        },
        "id": "Cjy5Y9ITvrHP",
        "outputId": "172e1a06-4ee9-4195-d18c-3a51f6faf77e"
      },
      "source": [
        "# Pound\n",
        "constants.lb"
      ],
      "execution_count": 21,
      "outputs": [
        {
          "output_type": "execute_result",
          "data": {
            "text/plain": [
              "0.45359236999999997"
            ]
          },
          "metadata": {},
          "execution_count": 21
        }
      ]
    },
    {
      "cell_type": "code",
      "metadata": {
        "colab": {
          "base_uri": "https://localhost:8080/"
        },
        "id": "QzAjmEYpvvSn",
        "outputId": "4483f887-f947-4309-c0d3-06d1347d1d85"
      },
      "source": [
        "# Ounce\n",
        "constants.ounce"
      ],
      "execution_count": 22,
      "outputs": [
        {
          "output_type": "execute_result",
          "data": {
            "text/plain": [
              "0.028349523124999998"
            ]
          },
          "metadata": {},
          "execution_count": 22
        }
      ]
    },
    {
      "cell_type": "code",
      "metadata": {
        "colab": {
          "base_uri": "https://localhost:8080/"
        },
        "id": "ie-r8KE5v2VN",
        "outputId": "2d6adffd-146a-4cea-8238-909195a33705"
      },
      "source": [
        "# Carat\n",
        "constants.carat"
      ],
      "execution_count": 24,
      "outputs": [
        {
          "output_type": "execute_result",
          "data": {
            "text/plain": [
              "0.0002"
            ]
          },
          "metadata": {},
          "execution_count": 24
        }
      ]
    },
    {
      "cell_type": "markdown",
      "metadata": {
        "id": "nrCSwtSowShi"
      },
      "source": [
        "##### SI prefixes angle in radians"
      ]
    },
    {
      "cell_type": "code",
      "metadata": {
        "colab": {
          "base_uri": "https://localhost:8080/"
        },
        "id": "-Q8rvYXTwYH6",
        "outputId": "4f055d0d-c29c-40e3-abe7-8467be3b1b60"
      },
      "source": [
        "# Degree\n",
        "constants.degree"
      ],
      "execution_count": 25,
      "outputs": [
        {
          "output_type": "execute_result",
          "data": {
            "text/plain": [
              "0.017453292519943295"
            ]
          },
          "metadata": {},
          "execution_count": 25
        }
      ]
    },
    {
      "cell_type": "code",
      "metadata": {
        "colab": {
          "base_uri": "https://localhost:8080/"
        },
        "id": "mm3fQtcOwc99",
        "outputId": "4c59e667-84e0-4a19-9f6c-a5dc5c7865d8"
      },
      "source": [
        "# arcminute\n",
        "constants.arcmin"
      ],
      "execution_count": 26,
      "outputs": [
        {
          "output_type": "execute_result",
          "data": {
            "text/plain": [
              "0.0002908882086657216"
            ]
          },
          "metadata": {},
          "execution_count": 26
        }
      ]
    },
    {
      "cell_type": "code",
      "metadata": {
        "colab": {
          "base_uri": "https://localhost:8080/"
        },
        "id": "dqOtOUezwldX",
        "outputId": "01dd9104-c1eb-4e65-a769-accd26986c23"
      },
      "source": [
        "# arcminute\n",
        "constants.arcminute "
      ],
      "execution_count": 27,
      "outputs": [
        {
          "output_type": "execute_result",
          "data": {
            "text/plain": [
              "0.0002908882086657216"
            ]
          },
          "metadata": {},
          "execution_count": 27
        }
      ]
    },
    {
      "cell_type": "code",
      "metadata": {
        "colab": {
          "base_uri": "https://localhost:8080/"
        },
        "id": "cU8f0rpgwl_s",
        "outputId": "fc59f5ff-8f85-423c-e943-4b68490de003"
      },
      "source": [
        "#arcsecond\n",
        "constants.arcsec"
      ],
      "execution_count": 28,
      "outputs": [
        {
          "output_type": "execute_result",
          "data": {
            "text/plain": [
              "4.84813681109536e-06"
            ]
          },
          "metadata": {},
          "execution_count": 28
        }
      ]
    },
    {
      "cell_type": "code",
      "metadata": {
        "colab": {
          "base_uri": "https://localhost:8080/"
        },
        "id": "l-uXkPNAwmQ_",
        "outputId": "e8c31961-3a81-4a0f-f506-56e8031a420f"
      },
      "source": [
        "#arcsecond\n",
        "constants.arcsecond"
      ],
      "execution_count": 29,
      "outputs": [
        {
          "output_type": "execute_result",
          "data": {
            "text/plain": [
              "4.84813681109536e-06"
            ]
          },
          "metadata": {},
          "execution_count": 29
        }
      ]
    },
    {
      "cell_type": "markdown",
      "metadata": {
        "id": "qyL3I53TxUf_"
      },
      "source": [
        "##### SI prefixes time in seconds"
      ]
    },
    {
      "cell_type": "code",
      "metadata": {
        "colab": {
          "base_uri": "https://localhost:8080/"
        },
        "id": "kA8fsaNHxZV2",
        "outputId": "15260902-758f-4f22-afd6-5ed5a6b3f45a"
      },
      "source": [
        "# Minute\n",
        "constants.minute"
      ],
      "execution_count": 30,
      "outputs": [
        {
          "output_type": "execute_result",
          "data": {
            "text/plain": [
              "60.0"
            ]
          },
          "metadata": {},
          "execution_count": 30
        }
      ]
    },
    {
      "cell_type": "code",
      "metadata": {
        "colab": {
          "base_uri": "https://localhost:8080/"
        },
        "id": "3uoHtgwBxfHy",
        "outputId": "727d6a96-87fe-4f0b-80c0-a2ad14b01d0b"
      },
      "source": [
        "# Hour\n",
        "constants.hour"
      ],
      "execution_count": 31,
      "outputs": [
        {
          "output_type": "execute_result",
          "data": {
            "text/plain": [
              "3600.0"
            ]
          },
          "metadata": {},
          "execution_count": 31
        }
      ]
    },
    {
      "cell_type": "code",
      "metadata": {
        "colab": {
          "base_uri": "https://localhost:8080/"
        },
        "id": "x17h3oC3xkKt",
        "outputId": "5e292df0-fb2d-4206-8e1d-8163f8ba9790"
      },
      "source": [
        "#Day\n",
        "constants.day"
      ],
      "execution_count": 33,
      "outputs": [
        {
          "output_type": "execute_result",
          "data": {
            "text/plain": [
              "86400.0"
            ]
          },
          "metadata": {},
          "execution_count": 33
        }
      ]
    },
    {
      "cell_type": "code",
      "metadata": {
        "id": "wRqpKKFqxnBJ"
      },
      "source": [
        "# Week\n",
        "constants.week"
      ],
      "execution_count": null,
      "outputs": []
    },
    {
      "cell_type": "code",
      "metadata": {
        "id": "Jvs87k5VxpEL"
      },
      "source": [
        "# Year\n",
        "constants.year"
      ],
      "execution_count": null,
      "outputs": []
    },
    {
      "cell_type": "code",
      "metadata": {
        "id": "MqV3uMjZxqTs"
      },
      "source": [
        "# Julian Year\n",
        "constants.Julian_year"
      ],
      "execution_count": null,
      "outputs": []
    },
    {
      "cell_type": "markdown",
      "metadata": {
        "id": "pOdk0ljhzSHW"
      },
      "source": [
        "##### SI prefixes Length in meter"
      ]
    },
    {
      "cell_type": "code",
      "metadata": {
        "id": "SDMq1uhJzcwq"
      },
      "source": [
        "# Inch\n",
        "constants.inch"
      ],
      "execution_count": null,
      "outputs": []
    },
    {
      "cell_type": "code",
      "metadata": {
        "colab": {
          "base_uri": "https://localhost:8080/"
        },
        "id": "qDD2Wkdnzfbe",
        "outputId": "04c5a69d-7130-43e8-bc56-2ce5502184e3"
      },
      "source": [
        "# Foot\n",
        "constants.foot"
      ],
      "execution_count": 34,
      "outputs": [
        {
          "output_type": "execute_result",
          "data": {
            "text/plain": [
              "0.30479999999999996"
            ]
          },
          "metadata": {},
          "execution_count": 34
        }
      ]
    },
    {
      "cell_type": "code",
      "metadata": {
        "colab": {
          "base_uri": "https://localhost:8080/"
        },
        "id": "Ookxs79_zm_f",
        "outputId": "eb28f2ca-62c9-4c7e-fb2d-f13e7e889c87"
      },
      "source": [
        "# Yard\n",
        "constants.yard"
      ],
      "execution_count": 35,
      "outputs": [
        {
          "output_type": "execute_result",
          "data": {
            "text/plain": [
              "0.9143999999999999"
            ]
          },
          "metadata": {},
          "execution_count": 35
        }
      ]
    },
    {
      "cell_type": "code",
      "metadata": {
        "colab": {
          "base_uri": "https://localhost:8080/"
        },
        "id": "nlbYZ_2uzrnv",
        "outputId": "ab7b3c78-0351-489d-f264-63caea7cd818"
      },
      "source": [
        "# Mile\n",
        "constants.mile"
      ],
      "execution_count": 36,
      "outputs": [
        {
          "output_type": "execute_result",
          "data": {
            "text/plain": [
              "1609.3439999999998"
            ]
          },
          "metadata": {},
          "execution_count": 36
        }
      ]
    },
    {
      "cell_type": "code",
      "metadata": {
        "colab": {
          "base_uri": "https://localhost:8080/"
        },
        "id": "Dfw0UZr8zync",
        "outputId": "148092e7-50ab-471e-80b7-aaa90937a09b"
      },
      "source": [
        "# Point\n",
        "constants.point"
      ],
      "execution_count": 37,
      "outputs": [
        {
          "output_type": "execute_result",
          "data": {
            "text/plain": [
              "0.00035277777777777776"
            ]
          },
          "metadata": {},
          "execution_count": 37
        }
      ]
    },
    {
      "cell_type": "code",
      "metadata": {
        "colab": {
          "base_uri": "https://localhost:8080/"
        },
        "id": "tAjO5YEZz2Ab",
        "outputId": "f5a14328-c4c4-4276-f4da-97ee43a7e7f7"
      },
      "source": [
        "# Nautical mile\n",
        "constants.nautical_mile"
      ],
      "execution_count": 38,
      "outputs": [
        {
          "output_type": "execute_result",
          "data": {
            "text/plain": [
              "1852.0"
            ]
          },
          "metadata": {},
          "execution_count": 38
        }
      ]
    },
    {
      "cell_type": "code",
      "metadata": {
        "colab": {
          "base_uri": "https://localhost:8080/"
        },
        "id": "If7YbydPz7JA",
        "outputId": "98b243cd-8d6e-4877-dc8e-97b50f041f41"
      },
      "source": [
        "# Micron\n",
        "constants.micron"
      ],
      "execution_count": 39,
      "outputs": [
        {
          "output_type": "execute_result",
          "data": {
            "text/plain": [
              "1e-06"
            ]
          },
          "metadata": {},
          "execution_count": 39
        }
      ]
    },
    {
      "cell_type": "code",
      "metadata": {
        "colab": {
          "base_uri": "https://localhost:8080/"
        },
        "id": "sWLPswqgz_Di",
        "outputId": "e3a77fb9-af20-4595-956a-796912decd51"
      },
      "source": [
        "# Light Year\n",
        "constants.light_year"
      ],
      "execution_count": 40,
      "outputs": [
        {
          "output_type": "execute_result",
          "data": {
            "text/plain": [
              "9460730472580800.0"
            ]
          },
          "metadata": {},
          "execution_count": 40
        }
      ]
    }
  ]
}