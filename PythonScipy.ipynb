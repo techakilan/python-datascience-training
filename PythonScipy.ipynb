{
  "nbformat": 4,
  "nbformat_minor": 0,
  "metadata": {
    "colab": {
      "name": "PythonScipy.ipynb",
      "provenance": [],
      "authorship_tag": "ABX9TyNf/2fNMtGknWj57dw2PCsn",
      "include_colab_link": true
    },
    "kernelspec": {
      "name": "python3",
      "display_name": "Python 3"
    },
    "language_info": {
      "name": "python"
    }
  },
  "cells": [
    {
      "cell_type": "markdown",
      "metadata": {
        "id": "view-in-github",
        "colab_type": "text"
      },
      "source": [
        "<a href=\"https://colab.research.google.com/github/techakilan/python-datascience-training/blob/master/PythonScipy.ipynb\" target=\"_parent\"><img src=\"https://colab.research.google.com/assets/colab-badge.svg\" alt=\"Open In Colab\"/></a>"
      ]
    },
    {
      "cell_type": "code",
      "metadata": {
        "id": "WeumACw5qtbX"
      },
      "source": [
        "import scipy"
      ],
      "execution_count": 1,
      "outputs": []
    },
    {
      "cell_type": "markdown",
      "metadata": {
        "id": "igDFWtWiq8mo"
      },
      "source": [
        "##### Scipy version"
      ]
    },
    {
      "cell_type": "code",
      "metadata": {
        "colab": {
          "base_uri": "https://localhost:8080/"
        },
        "id": "lbi5S1hQq_GU",
        "outputId": "c7bdfca3-c975-4008-e9d2-57449f301c85"
      },
      "source": [
        "print(scipy.__version__)"
      ],
      "execution_count": 2,
      "outputs": [
        {
          "output_type": "stream",
          "name": "stdout",
          "text": [
            "1.4.1\n"
          ]
        }
      ]
    },
    {
      "cell_type": "markdown",
      "metadata": {
        "id": "tOeRYWjzrzbn"
      },
      "source": [
        "##### Scipy constants"
      ]
    },
    {
      "cell_type": "code",
      "metadata": {
        "id": "4kTADL4_r3lb"
      },
      "source": [
        "from scipy import constants "
      ],
      "execution_count": 3,
      "outputs": []
    },
    {
      "cell_type": "code",
      "metadata": {
        "colab": {
          "base_uri": "https://localhost:8080/"
        },
        "id": "dVpaHtgBr9Bp",
        "outputId": "b5c0b30a-c22a-4744-f104-3f664a2a8b49"
      },
      "source": [
        "# Value of PI\n",
        "constants.pi"
      ],
      "execution_count": 4,
      "outputs": [
        {
          "output_type": "execute_result",
          "data": {
            "text/plain": [
              "3.141592653589793"
            ]
          },
          "metadata": {},
          "execution_count": 4
        }
      ]
    }
  ]
}